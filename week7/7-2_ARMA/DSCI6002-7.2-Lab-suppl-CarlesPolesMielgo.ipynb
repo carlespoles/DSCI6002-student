{
 "cells": [
  {
   "cell_type": "markdown",
   "metadata": {},
   "source": [
    "# Lab 7.2 Supplement: ETS and ARIMA"
   ]
  },
  {
   "cell_type": "markdown",
   "metadata": {},
   "source": [
    "## Modeling Monthly Birth Data   \n",
    "\n",
    "...continuing from yesterday's lab...."
   ]
  },
  {
   "cell_type": "code",
   "execution_count": 1,
   "metadata": {
    "collapsed": false
   },
   "outputs": [
    {
     "name": "stdout",
     "output_type": "stream",
     "text": [
      "Populating the interactive namespace from numpy and matplotlib\n"
     ]
    },
    {
     "data": {
      "text/html": [
       "<div>\n",
       "<table border=\"1\" class=\"dataframe\">\n",
       "  <thead>\n",
       "    <tr style=\"text-align: right;\">\n",
       "      <th></th>\n",
       "      <th>num_births</th>\n",
       "      <th>dates</th>\n",
       "      <th>time</th>\n",
       "      <th>month</th>\n",
       "      <th>year</th>\n",
       "    </tr>\n",
       "    <tr>\n",
       "      <th>dates</th>\n",
       "      <th></th>\n",
       "      <th></th>\n",
       "      <th></th>\n",
       "      <th></th>\n",
       "      <th></th>\n",
       "    </tr>\n",
       "  </thead>\n",
       "  <tbody>\n",
       "    <tr>\n",
       "      <th>1980-01-31</th>\n",
       "      <td>295</td>\n",
       "      <td>1980-01-31</td>\n",
       "      <td>1</td>\n",
       "      <td>1</td>\n",
       "      <td>1980</td>\n",
       "    </tr>\n",
       "    <tr>\n",
       "      <th>1980-02-29</th>\n",
       "      <td>286</td>\n",
       "      <td>1980-02-29</td>\n",
       "      <td>2</td>\n",
       "      <td>2</td>\n",
       "      <td>1980</td>\n",
       "    </tr>\n",
       "    <tr>\n",
       "      <th>1980-03-31</th>\n",
       "      <td>300</td>\n",
       "      <td>1980-03-31</td>\n",
       "      <td>3</td>\n",
       "      <td>3</td>\n",
       "      <td>1980</td>\n",
       "    </tr>\n",
       "    <tr>\n",
       "      <th>1980-04-30</th>\n",
       "      <td>278</td>\n",
       "      <td>1980-04-30</td>\n",
       "      <td>4</td>\n",
       "      <td>4</td>\n",
       "      <td>1980</td>\n",
       "    </tr>\n",
       "    <tr>\n",
       "      <th>1980-05-31</th>\n",
       "      <td>272</td>\n",
       "      <td>1980-05-31</td>\n",
       "      <td>5</td>\n",
       "      <td>5</td>\n",
       "      <td>1980</td>\n",
       "    </tr>\n",
       "  </tbody>\n",
       "</table>\n",
       "</div>"
      ],
      "text/plain": [
       "            num_births      dates  time  month  year\n",
       "dates                                               \n",
       "1980-01-31         295 1980-01-31     1      1  1980\n",
       "1980-02-29         286 1980-02-29     2      2  1980\n",
       "1980-03-31         300 1980-03-31     3      3  1980\n",
       "1980-04-30         278 1980-04-30     4      4  1980\n",
       "1980-05-31         272 1980-05-31     5      5  1980"
      ]
     },
     "execution_count": 1,
     "metadata": {},
     "output_type": "execute_result"
    }
   ],
   "source": [
    "%pylab inline\n",
    "\n",
    "import pandas as pd\n",
    "import statsmodels.api as sm\n",
    "import seaborn as sns\n",
    "from statsmodels.tsa.ar_model import AR\n",
    "from statsmodels.tsa.arima_model import ARMA\n",
    "from statsmodels.tsa.stattools import acf, pacf\n",
    "from statsmodels.graphics.tsaplots import plot_acf, plot_pacf\n",
    "\n",
    "birth = pd.read_csv('https://s3-us-west-2.amazonaws.com/dsci/6002/data/birth.txt')\n",
    "birth['dates'] = pd.date_range('1/1/1980','12/31/2010', freq='M')\n",
    "birth['time'] = range(1,373)\n",
    "birth['month'] = pd.DatetimeIndex(birth['dates']).month\n",
    "birth['year'] = pd.DatetimeIndex(birth['dates']).year\n",
    "birth = birth.set_index(birth['dates'])\n",
    "birth.head()"
   ]
  },
  {
   "cell_type": "markdown",
   "metadata": {},
   "source": [
    "11) Use time series regression methods to fit a model. Using `OLS` in `statsmodels`, fit the overall trend with increasing polynomial terms. \n",
    "    - You will need to take your `time` variable and create `time^2, time^3\n",
    "    time^4, time^5`\n",
    "    - Increase model complexity by adding a higher order term\n",
    "        - Examine the summary information and compare each model to the \n",
    "          model before it (i.e. simple linear with `time` compared to 2nd order\n",
    "          polynomial with `time` + `time^2`) by examining AIC/BIC.\n",
    "        - Superimpose (by plotting) the fitted onto the original data and predict\n",
    "          the values for 2011\n",
    "        - Keep increasing until general trend has been captured \n",
    "          (You won't be able to capture the bump between 1999-2004 without a very \n",
    "          complicated model and there's no reason to assume that future values \n",
    "          wouldn't follow the more general trend) "
   ]
  },
  {
   "cell_type": "code",
   "execution_count": 2,
   "metadata": {
    "collapsed": false
   },
   "outputs": [
    {
     "data": {
      "text/html": [
       "<div>\n",
       "<table border=\"1\" class=\"dataframe\">\n",
       "  <thead>\n",
       "    <tr style=\"text-align: right;\">\n",
       "      <th></th>\n",
       "      <th>num_births</th>\n",
       "      <th>dates</th>\n",
       "      <th>time</th>\n",
       "      <th>month</th>\n",
       "      <th>year</th>\n",
       "      <th>time_2</th>\n",
       "      <th>time_3</th>\n",
       "      <th>time_4</th>\n",
       "      <th>time_5</th>\n",
       "    </tr>\n",
       "    <tr>\n",
       "      <th>dates</th>\n",
       "      <th></th>\n",
       "      <th></th>\n",
       "      <th></th>\n",
       "      <th></th>\n",
       "      <th></th>\n",
       "      <th></th>\n",
       "      <th></th>\n",
       "      <th></th>\n",
       "      <th></th>\n",
       "    </tr>\n",
       "  </thead>\n",
       "  <tbody>\n",
       "    <tr>\n",
       "      <th>1980-01-31</th>\n",
       "      <td>295</td>\n",
       "      <td>1980-01-31</td>\n",
       "      <td>1</td>\n",
       "      <td>1</td>\n",
       "      <td>1980</td>\n",
       "      <td>1</td>\n",
       "      <td>1</td>\n",
       "      <td>1</td>\n",
       "      <td>1</td>\n",
       "    </tr>\n",
       "    <tr>\n",
       "      <th>1980-02-29</th>\n",
       "      <td>286</td>\n",
       "      <td>1980-02-29</td>\n",
       "      <td>2</td>\n",
       "      <td>2</td>\n",
       "      <td>1980</td>\n",
       "      <td>4</td>\n",
       "      <td>8</td>\n",
       "      <td>16</td>\n",
       "      <td>32</td>\n",
       "    </tr>\n",
       "    <tr>\n",
       "      <th>1980-03-31</th>\n",
       "      <td>300</td>\n",
       "      <td>1980-03-31</td>\n",
       "      <td>3</td>\n",
       "      <td>3</td>\n",
       "      <td>1980</td>\n",
       "      <td>9</td>\n",
       "      <td>27</td>\n",
       "      <td>81</td>\n",
       "      <td>243</td>\n",
       "    </tr>\n",
       "    <tr>\n",
       "      <th>1980-04-30</th>\n",
       "      <td>278</td>\n",
       "      <td>1980-04-30</td>\n",
       "      <td>4</td>\n",
       "      <td>4</td>\n",
       "      <td>1980</td>\n",
       "      <td>16</td>\n",
       "      <td>64</td>\n",
       "      <td>256</td>\n",
       "      <td>1024</td>\n",
       "    </tr>\n",
       "    <tr>\n",
       "      <th>1980-05-31</th>\n",
       "      <td>272</td>\n",
       "      <td>1980-05-31</td>\n",
       "      <td>5</td>\n",
       "      <td>5</td>\n",
       "      <td>1980</td>\n",
       "      <td>25</td>\n",
       "      <td>125</td>\n",
       "      <td>625</td>\n",
       "      <td>3125</td>\n",
       "    </tr>\n",
       "  </tbody>\n",
       "</table>\n",
       "</div>"
      ],
      "text/plain": [
       "            num_births      dates  time  month  year  time_2  time_3  time_4  \\\n",
       "dates                                                                          \n",
       "1980-01-31         295 1980-01-31     1      1  1980       1       1       1   \n",
       "1980-02-29         286 1980-02-29     2      2  1980       4       8      16   \n",
       "1980-03-31         300 1980-03-31     3      3  1980       9      27      81   \n",
       "1980-04-30         278 1980-04-30     4      4  1980      16      64     256   \n",
       "1980-05-31         272 1980-05-31     5      5  1980      25     125     625   \n",
       "\n",
       "            time_5  \n",
       "dates               \n",
       "1980-01-31       1  \n",
       "1980-02-29      32  \n",
       "1980-03-31     243  \n",
       "1980-04-30    1024  \n",
       "1980-05-31    3125  "
      ]
     },
     "execution_count": 2,
     "metadata": {},
     "output_type": "execute_result"
    }
   ],
   "source": [
    "# This is an example of ETS.\n",
    "birth['time_2'] = birth['time']**2\n",
    "birth['time_3'] = birth['time']**3\n",
    "birth['time_4'] = birth['time']**4\n",
    "birth['time_5'] = birth['time']**5\n",
    "birth.head()"
   ]
  },
  {
   "cell_type": "markdown",
   "metadata": {},
   "source": [
    "#### Model with up to 5th power:"
   ]
  },
  {
   "cell_type": "code",
   "execution_count": 3,
   "metadata": {
    "collapsed": false
   },
   "outputs": [
    {
     "data": {
      "text/html": [
       "<table class=\"simpletable\">\n",
       "<caption>OLS Regression Results</caption>\n",
       "<tr>\n",
       "  <th>Dep. Variable:</th>       <td>num_births</td>    <th>  R-squared:         </th> <td>   0.732</td> \n",
       "</tr>\n",
       "<tr>\n",
       "  <th>Model:</th>                   <td>OLS</td>       <th>  Adj. R-squared:    </th> <td>   0.728</td> \n",
       "</tr>\n",
       "<tr>\n",
       "  <th>Method:</th>             <td>Least Squares</td>  <th>  F-statistic:       </th> <td>   199.7</td> \n",
       "</tr>\n",
       "<tr>\n",
       "  <th>Date:</th>             <td>Wed, 12 Oct 2016</td> <th>  Prob (F-statistic):</th> <td>3.00e-102</td>\n",
       "</tr>\n",
       "<tr>\n",
       "  <th>Time:</th>                 <td>14:13:43</td>     <th>  Log-Likelihood:    </th> <td> -1606.8</td> \n",
       "</tr>\n",
       "<tr>\n",
       "  <th>No. Observations:</th>      <td>   372</td>      <th>  AIC:               </th> <td>   3226.</td> \n",
       "</tr>\n",
       "<tr>\n",
       "  <th>Df Residuals:</th>          <td>   366</td>      <th>  BIC:               </th> <td>   3249.</td> \n",
       "</tr>\n",
       "<tr>\n",
       "  <th>Df Model:</th>              <td>     5</td>      <th>                     </th>     <td> </td>    \n",
       "</tr>\n",
       "<tr>\n",
       "  <th>Covariance Type:</th>      <td>nonrobust</td>    <th>                     </th>     <td> </td>    \n",
       "</tr>\n",
       "</table>\n",
       "<table class=\"simpletable\">\n",
       "<tr>\n",
       "     <td></td>       <th>coef</th>     <th>std err</th>      <th>t</th>      <th>P>|t|</th>  <th>[0.025</th>    <th>0.975]</th>  \n",
       "</tr>\n",
       "<tr>\n",
       "  <th>const</th>  <td>  290.4529</td> <td>    5.839</td> <td>   49.744</td> <td> 0.000</td> <td>  278.971</td> <td>  301.935</td>\n",
       "</tr>\n",
       "<tr>\n",
       "  <th>time</th>   <td>    0.0144</td> <td>    0.315</td> <td>    0.046</td> <td> 0.964</td> <td>   -0.605</td> <td>    0.633</td>\n",
       "</tr>\n",
       "<tr>\n",
       "  <th>time_2</th> <td>    0.0150</td> <td>    0.005</td> <td>    2.881</td> <td> 0.004</td> <td>    0.005</td> <td>    0.025</td>\n",
       "</tr>\n",
       "<tr>\n",
       "  <th>time_3</th> <td>   -0.0001</td> <td> 3.54e-05</td> <td>   -3.615</td> <td> 0.000</td> <td>   -0.000</td> <td>-5.83e-05</td>\n",
       "</tr>\n",
       "<tr>\n",
       "  <th>time_4</th> <td> 3.495e-07</td> <td> 1.05e-07</td> <td>    3.344</td> <td> 0.001</td> <td> 1.44e-07</td> <td> 5.55e-07</td>\n",
       "</tr>\n",
       "<tr>\n",
       "  <th>time_5</th> <td>-3.092e-10</td> <td> 1.12e-10</td> <td>   -2.773</td> <td> 0.006</td> <td>-5.29e-10</td> <td>-8.99e-11</td>\n",
       "</tr>\n",
       "</table>\n",
       "<table class=\"simpletable\">\n",
       "<tr>\n",
       "  <th>Omnibus:</th>       <td> 4.631</td> <th>  Durbin-Watson:     </th> <td>   0.867</td>\n",
       "</tr>\n",
       "<tr>\n",
       "  <th>Prob(Omnibus):</th> <td> 0.099</td> <th>  Jarque-Bera (JB):  </th> <td>   3.607</td>\n",
       "</tr>\n",
       "<tr>\n",
       "  <th>Skew:</th>          <td> 0.124</td> <th>  Prob(JB):          </th> <td>   0.165</td>\n",
       "</tr>\n",
       "<tr>\n",
       "  <th>Kurtosis:</th>      <td> 2.587</td> <th>  Cond. No.          </th> <td>1.33e+13</td>\n",
       "</tr>\n",
       "</table>"
      ],
      "text/plain": [
       "<class 'statsmodels.iolib.summary.Summary'>\n",
       "\"\"\"\n",
       "                            OLS Regression Results                            \n",
       "==============================================================================\n",
       "Dep. Variable:             num_births   R-squared:                       0.732\n",
       "Model:                            OLS   Adj. R-squared:                  0.728\n",
       "Method:                 Least Squares   F-statistic:                     199.7\n",
       "Date:                Wed, 12 Oct 2016   Prob (F-statistic):          3.00e-102\n",
       "Time:                        14:13:43   Log-Likelihood:                -1606.8\n",
       "No. Observations:                 372   AIC:                             3226.\n",
       "Df Residuals:                     366   BIC:                             3249.\n",
       "Df Model:                           5                                         \n",
       "Covariance Type:            nonrobust                                         \n",
       "==============================================================================\n",
       "                 coef    std err          t      P>|t|      [0.025      0.975]\n",
       "------------------------------------------------------------------------------\n",
       "const        290.4529      5.839     49.744      0.000     278.971     301.935\n",
       "time           0.0144      0.315      0.046      0.964      -0.605       0.633\n",
       "time_2         0.0150      0.005      2.881      0.004       0.005       0.025\n",
       "time_3        -0.0001   3.54e-05     -3.615      0.000      -0.000   -5.83e-05\n",
       "time_4      3.495e-07   1.05e-07      3.344      0.001    1.44e-07    5.55e-07\n",
       "time_5     -3.092e-10   1.12e-10     -2.773      0.006   -5.29e-10   -8.99e-11\n",
       "==============================================================================\n",
       "Omnibus:                        4.631   Durbin-Watson:                   0.867\n",
       "Prob(Omnibus):                  0.099   Jarque-Bera (JB):                3.607\n",
       "Skew:                           0.124   Prob(JB):                        0.165\n",
       "Kurtosis:                       2.587   Cond. No.                     1.33e+13\n",
       "==============================================================================\n",
       "\n",
       "Warnings:\n",
       "[1] Standard Errors assume that the covariance matrix of the errors is correctly specified.\n",
       "[2] The condition number is large, 1.33e+13. This might indicate that there are\n",
       "strong multicollinearity or other numerical problems.\n",
       "\"\"\""
      ]
     },
     "execution_count": 3,
     "metadata": {},
     "output_type": "execute_result"
    }
   ],
   "source": [
    "X_5 = birth[['time','time_2','time_3','time_4','time_5']]\n",
    "X_5 = sm.add_constant(X_5)\n",
    "y_5 = birth['num_births']\n",
    "\n",
    "model_5 = sm.OLS(y_5, X_5)\n",
    "results_5 = model_5.fit()\n",
    "results_5.summary()"
   ]
  },
  {
   "cell_type": "code",
   "execution_count": 4,
   "metadata": {
    "collapsed": false
   },
   "outputs": [
    {
     "data": {
      "image/png": "[encoded data removed]",
      "text/plain": [
       "<matplotlib.figure.Figure at 0x1041f1898>"
      ]
     },
     "metadata": {},
     "output_type": "display_data"
    }
   ],
   "source": [
    "plt.plot(birth['dates'],birth['num_births'])\n",
    "plt.plot(birth['dates'],results_5.fittedvalues);"
   ]
  },
  {
   "cell_type": "code",
   "execution_count": 5,
   "metadata": {
    "collapsed": false
   },
   "outputs": [
    {
     "data": {
      "text/html": [
       "<div>\n",
       "<table border=\"1\" class=\"dataframe\">\n",
       "  <thead>\n",
       "    <tr style=\"text-align: right;\">\n",
       "      <th></th>\n",
       "      <th>num_births</th>\n",
       "      <th>dates</th>\n",
       "      <th>time</th>\n",
       "      <th>month</th>\n",
       "      <th>year</th>\n",
       "      <th>time_2</th>\n",
       "      <th>time_3</th>\n",
       "      <th>time_4</th>\n",
       "      <th>time_5</th>\n",
       "    </tr>\n",
       "    <tr>\n",
       "      <th>dates</th>\n",
       "      <th></th>\n",
       "      <th></th>\n",
       "      <th></th>\n",
       "      <th></th>\n",
       "      <th></th>\n",
       "      <th></th>\n",
       "      <th></th>\n",
       "      <th></th>\n",
       "      <th></th>\n",
       "    </tr>\n",
       "  </thead>\n",
       "  <tbody>\n",
       "    <tr>\n",
       "      <th>2010-08-31</th>\n",
       "      <td>289</td>\n",
       "      <td>2010-08-31</td>\n",
       "      <td>368</td>\n",
       "      <td>8</td>\n",
       "      <td>2010</td>\n",
       "      <td>135424</td>\n",
       "      <td>49836032</td>\n",
       "      <td>18339659776</td>\n",
       "      <td>6748994797568</td>\n",
       "    </tr>\n",
       "    <tr>\n",
       "      <th>2010-09-30</th>\n",
       "      <td>282</td>\n",
       "      <td>2010-09-30</td>\n",
       "      <td>369</td>\n",
       "      <td>9</td>\n",
       "      <td>2010</td>\n",
       "      <td>136161</td>\n",
       "      <td>50243409</td>\n",
       "      <td>18539817921</td>\n",
       "      <td>6841192812849</td>\n",
       "    </tr>\n",
       "    <tr>\n",
       "      <th>2010-10-31</th>\n",
       "      <td>274</td>\n",
       "      <td>2010-10-31</td>\n",
       "      <td>370</td>\n",
       "      <td>10</td>\n",
       "      <td>2010</td>\n",
       "      <td>136900</td>\n",
       "      <td>50653000</td>\n",
       "      <td>18741610000</td>\n",
       "      <td>6934395700000</td>\n",
       "    </tr>\n",
       "    <tr>\n",
       "      <th>2010-11-30</th>\n",
       "      <td>281</td>\n",
       "      <td>2010-11-30</td>\n",
       "      <td>371</td>\n",
       "      <td>11</td>\n",
       "      <td>2010</td>\n",
       "      <td>137641</td>\n",
       "      <td>51064811</td>\n",
       "      <td>18945044881</td>\n",
       "      <td>7028611650851</td>\n",
       "    </tr>\n",
       "    <tr>\n",
       "      <th>2010-12-31</th>\n",
       "      <td>277</td>\n",
       "      <td>2010-12-31</td>\n",
       "      <td>372</td>\n",
       "      <td>12</td>\n",
       "      <td>2010</td>\n",
       "      <td>138384</td>\n",
       "      <td>51478848</td>\n",
       "      <td>19150131456</td>\n",
       "      <td>7123848901632</td>\n",
       "    </tr>\n",
       "  </tbody>\n",
       "</table>\n",
       "</div>"
      ],
      "text/plain": [
       "            num_births      dates  time  month  year  time_2    time_3  \\\n",
       "dates                                                                    \n",
       "2010-08-31         289 2010-08-31   368      8  2010  135424  49836032   \n",
       "2010-09-30         282 2010-09-30   369      9  2010  136161  50243409   \n",
       "2010-10-31         274 2010-10-31   370     10  2010  136900  50653000   \n",
       "2010-11-30         281 2010-11-30   371     11  2010  137641  51064811   \n",
       "2010-12-31         277 2010-12-31   372     12  2010  138384  51478848   \n",
       "\n",
       "                 time_4         time_5  \n",
       "dates                                   \n",
       "2010-08-31  18339659776  6748994797568  \n",
       "2010-09-30  18539817921  6841192812849  \n",
       "2010-10-31  18741610000  6934395700000  \n",
       "2010-11-30  18945044881  7028611650851  \n",
       "2010-12-31  19150131456  7123848901632  "
      ]
     },
     "execution_count": 5,
     "metadata": {},
     "output_type": "execute_result"
    }
   ],
   "source": [
    "birth.tail()"
   ]
  },
  {
   "cell_type": "markdown",
   "metadata": {},
   "source": [
    "#### Prediction for 2011. The last time period in our dataframe is 372, which corresponds to December 31, 2010. So 2011, in fact, January 1, 2011, will be 373."
   ]
  },
  {
   "cell_type": "code",
   "execution_count": 6,
   "metadata": {
    "collapsed": false
   },
   "outputs": [
    {
     "data": {
      "text/plain": [
       "301.3819302481684"
      ]
     },
     "execution_count": 6,
     "metadata": {},
     "output_type": "execute_result"
    }
   ],
   "source": [
    "time = 373\n",
    "prediction_2011 = 290.4529 + 0.0144 * time + 0.0150 * time - 0.0001 * time + 3.495e-07 * time - 3.092e-10 * time\n",
    "prediction_2011"
   ]
  },
  {
   "cell_type": "code",
   "execution_count": 7,
   "metadata": {
    "collapsed": false
   },
   "outputs": [
    {
     "data": {
      "text/plain": [
       "array([ 279.34288128])"
      ]
     },
     "execution_count": 7,
     "metadata": {},
     "output_type": "execute_result"
    }
   ],
   "source": [
    "results_5.predict([1,time,time**2,time**3,time**4,time**5])"
   ]
  },
  {
   "cell_type": "markdown",
   "metadata": {},
   "source": [
    "#### Model with up to 4th power:"
   ]
  },
  {
   "cell_type": "code",
   "execution_count": 8,
   "metadata": {
    "collapsed": false
   },
   "outputs": [
    {
     "data": {
      "text/html": [
       "<table class=\"simpletable\">\n",
       "<caption>OLS Regression Results</caption>\n",
       "<tr>\n",
       "  <th>Dep. Variable:</th>       <td>num_births</td>    <th>  R-squared:         </th> <td>   0.726</td> \n",
       "</tr>\n",
       "<tr>\n",
       "  <th>Model:</th>                   <td>OLS</td>       <th>  Adj. R-squared:    </th> <td>   0.723</td> \n",
       "</tr>\n",
       "<tr>\n",
       "  <th>Method:</th>             <td>Least Squares</td>  <th>  F-statistic:       </th> <td>   243.3</td> \n",
       "</tr>\n",
       "<tr>\n",
       "  <th>Date:</th>             <td>Wed, 12 Oct 2016</td> <th>  Prob (F-statistic):</th> <td>8.01e-102</td>\n",
       "</tr>\n",
       "<tr>\n",
       "  <th>Time:</th>                 <td>14:13:43</td>     <th>  Log-Likelihood:    </th> <td> -1610.7</td> \n",
       "</tr>\n",
       "<tr>\n",
       "  <th>No. Observations:</th>      <td>   372</td>      <th>  AIC:               </th> <td>   3231.</td> \n",
       "</tr>\n",
       "<tr>\n",
       "  <th>Df Residuals:</th>          <td>   367</td>      <th>  BIC:               </th> <td>   3251.</td> \n",
       "</tr>\n",
       "<tr>\n",
       "  <th>Df Model:</th>              <td>     4</td>      <th>                     </th>     <td> </td>    \n",
       "</tr>\n",
       "<tr>\n",
       "  <th>Covariance Type:</th>      <td>nonrobust</td>    <th>                     </th>     <td> </td>    \n",
       "</tr>\n",
       "</table>\n",
       "<table class=\"simpletable\">\n",
       "<tr>\n",
       "     <td></td>       <th>coef</th>     <th>std err</th>      <th>t</th>      <th>P>|t|</th>  <th>[0.025</th>    <th>0.975]</th>  \n",
       "</tr>\n",
       "<tr>\n",
       "  <th>const</th>  <td>  281.3532</td> <td>    4.873</td> <td>   57.733</td> <td> 0.000</td> <td>  271.770</td> <td>  290.936</td>\n",
       "</tr>\n",
       "<tr>\n",
       "  <th>time</th>   <td>    0.7327</td> <td>    0.181</td> <td>    4.059</td> <td> 0.000</td> <td>    0.378</td> <td>    1.088</td>\n",
       "</tr>\n",
       "<tr>\n",
       "  <th>time_2</th> <td>    0.0016</td> <td>    0.002</td> <td>    0.821</td> <td> 0.412</td> <td>   -0.002</td> <td>    0.005</td>\n",
       "</tr>\n",
       "<tr>\n",
       "  <th>time_3</th> <td>-3.224e-05</td> <td> 7.91e-06</td> <td>   -4.077</td> <td> 0.000</td> <td>-4.78e-05</td> <td>-1.67e-05</td>\n",
       "</tr>\n",
       "<tr>\n",
       "  <th>time_4</th> <td>  6.11e-08</td> <td> 1.05e-08</td> <td>    5.810</td> <td> 0.000</td> <td> 4.04e-08</td> <td> 8.18e-08</td>\n",
       "</tr>\n",
       "</table>\n",
       "<table class=\"simpletable\">\n",
       "<tr>\n",
       "  <th>Omnibus:</th>       <td> 3.293</td> <th>  Durbin-Watson:     </th> <td>   0.850</td>\n",
       "</tr>\n",
       "<tr>\n",
       "  <th>Prob(Omnibus):</th> <td> 0.193</td> <th>  Jarque-Bera (JB):  </th> <td>   2.683</td>\n",
       "</tr>\n",
       "<tr>\n",
       "  <th>Skew:</th>          <td> 0.092</td> <th>  Prob(JB):          </th> <td>   0.261</td>\n",
       "</tr>\n",
       "<tr>\n",
       "  <th>Kurtosis:</th>      <td> 2.627</td> <th>  Cond. No.          </th> <td>3.27e+10</td>\n",
       "</tr>\n",
       "</table>"
      ],
      "text/plain": [
       "<class 'statsmodels.iolib.summary.Summary'>\n",
       "\"\"\"\n",
       "                            OLS Regression Results                            \n",
       "==============================================================================\n",
       "Dep. Variable:             num_births   R-squared:                       0.726\n",
       "Model:                            OLS   Adj. R-squared:                  0.723\n",
       "Method:                 Least Squares   F-statistic:                     243.3\n",
       "Date:                Wed, 12 Oct 2016   Prob (F-statistic):          8.01e-102\n",
       "Time:                        14:13:43   Log-Likelihood:                -1610.7\n",
       "No. Observations:                 372   AIC:                             3231.\n",
       "Df Residuals:                     367   BIC:                             3251.\n",
       "Df Model:                           4                                         \n",
       "Covariance Type:            nonrobust                                         \n",
       "==============================================================================\n",
       "                 coef    std err          t      P>|t|      [0.025      0.975]\n",
       "------------------------------------------------------------------------------\n",
       "const        281.3532      4.873     57.733      0.000     271.770     290.936\n",
       "time           0.7327      0.181      4.059      0.000       0.378       1.088\n",
       "time_2         0.0016      0.002      0.821      0.412      -0.002       0.005\n",
       "time_3     -3.224e-05   7.91e-06     -4.077      0.000   -4.78e-05   -1.67e-05\n",
       "time_4       6.11e-08   1.05e-08      5.810      0.000    4.04e-08    8.18e-08\n",
       "==============================================================================\n",
       "Omnibus:                        3.293   Durbin-Watson:                   0.850\n",
       "Prob(Omnibus):                  0.193   Jarque-Bera (JB):                2.683\n",
       "Skew:                           0.092   Prob(JB):                        0.261\n",
       "Kurtosis:                       2.627   Cond. No.                     3.27e+10\n",
       "==============================================================================\n",
       "\n",
       "Warnings:\n",
       "[1] Standard Errors assume that the covariance matrix of the errors is correctly specified.\n",
       "[2] The condition number is large, 3.27e+10. This might indicate that there are\n",
       "strong multicollinearity or other numerical problems.\n",
       "\"\"\""
      ]
     },
     "execution_count": 8,
     "metadata": {},
     "output_type": "execute_result"
    }
   ],
   "source": [
    "X = birth[['time','time_2','time_3','time_4']]\n",
    "X = sm.add_constant(X)\n",
    "y = birth['num_births']\n",
    "\n",
    "model = sm.OLS(y, X)\n",
    "results = model.fit()\n",
    "results.summary()"
   ]
  },
  {
   "cell_type": "markdown",
   "metadata": {},
   "source": [
    "#### Model with up to 3rd power:"
   ]
  },
  {
   "cell_type": "code",
   "execution_count": 9,
   "metadata": {
    "collapsed": false
   },
   "outputs": [
    {
     "data": {
      "text/html": [
       "<table class=\"simpletable\">\n",
       "<caption>OLS Regression Results</caption>\n",
       "<tr>\n",
       "  <th>Dep. Variable:</th>       <td>num_births</td>    <th>  R-squared:         </th> <td>   0.701</td>\n",
       "</tr>\n",
       "<tr>\n",
       "  <th>Model:</th>                   <td>OLS</td>       <th>  Adj. R-squared:    </th> <td>   0.699</td>\n",
       "</tr>\n",
       "<tr>\n",
       "  <th>Method:</th>             <td>Least Squares</td>  <th>  F-statistic:       </th> <td>   287.6</td>\n",
       "</tr>\n",
       "<tr>\n",
       "  <th>Date:</th>             <td>Wed, 12 Oct 2016</td> <th>  Prob (F-statistic):</th> <td>4.31e-96</td>\n",
       "</tr>\n",
       "<tr>\n",
       "  <th>Time:</th>                 <td>14:13:43</td>     <th>  Log-Likelihood:    </th> <td> -1627.0</td>\n",
       "</tr>\n",
       "<tr>\n",
       "  <th>No. Observations:</th>      <td>   372</td>      <th>  AIC:               </th> <td>   3262.</td>\n",
       "</tr>\n",
       "<tr>\n",
       "  <th>Df Residuals:</th>          <td>   368</td>      <th>  BIC:               </th> <td>   3278.</td>\n",
       "</tr>\n",
       "<tr>\n",
       "  <th>Df Model:</th>              <td>     3</td>      <th>                     </th>     <td> </td>   \n",
       "</tr>\n",
       "<tr>\n",
       "  <th>Covariance Type:</th>      <td>nonrobust</td>    <th>                     </th>     <td> </td>   \n",
       "</tr>\n",
       "</table>\n",
       "<table class=\"simpletable\">\n",
       "<tr>\n",
       "     <td></td>       <th>coef</th>     <th>std err</th>      <th>t</th>      <th>P>|t|</th>  <th>[0.025</th>    <th>0.975]</th>  \n",
       "</tr>\n",
       "<tr>\n",
       "  <th>const</th>  <td>  264.1834</td> <td>    4.044</td> <td>   65.332</td> <td> 0.000</td> <td>  256.232</td> <td>  272.135</td>\n",
       "</tr>\n",
       "<tr>\n",
       "  <th>time</th>   <td>    1.6424</td> <td>    0.094</td> <td>   17.517</td> <td> 0.000</td> <td>    1.458</td> <td>    1.827</td>\n",
       "</tr>\n",
       "<tr>\n",
       "  <th>time_2</th> <td>   -0.0093</td> <td>    0.001</td> <td>  -15.981</td> <td> 0.000</td> <td>   -0.010</td> <td>   -0.008</td>\n",
       "</tr>\n",
       "<tr>\n",
       "  <th>time_3</th> <td> 1.334e-05</td> <td> 1.03e-06</td> <td>   12.968</td> <td> 0.000</td> <td> 1.13e-05</td> <td> 1.54e-05</td>\n",
       "</tr>\n",
       "</table>\n",
       "<table class=\"simpletable\">\n",
       "<tr>\n",
       "  <th>Omnibus:</th>       <td> 3.849</td> <th>  Durbin-Watson:     </th> <td>   0.778</td>\n",
       "</tr>\n",
       "<tr>\n",
       "  <th>Prob(Omnibus):</th> <td> 0.146</td> <th>  Jarque-Bera (JB):  </th> <td>   3.070</td>\n",
       "</tr>\n",
       "<tr>\n",
       "  <th>Skew:</th>          <td> 0.106</td> <th>  Prob(JB):          </th> <td>   0.215</td>\n",
       "</tr>\n",
       "<tr>\n",
       "  <th>Kurtosis:</th>      <td> 2.609</td> <th>  Cond. No.          </th> <td>7.90e+07</td>\n",
       "</tr>\n",
       "</table>"
      ],
      "text/plain": [
       "<class 'statsmodels.iolib.summary.Summary'>\n",
       "\"\"\"\n",
       "                            OLS Regression Results                            \n",
       "==============================================================================\n",
       "Dep. Variable:             num_births   R-squared:                       0.701\n",
       "Model:                            OLS   Adj. R-squared:                  0.699\n",
       "Method:                 Least Squares   F-statistic:                     287.6\n",
       "Date:                Wed, 12 Oct 2016   Prob (F-statistic):           4.31e-96\n",
       "Time:                        14:13:43   Log-Likelihood:                -1627.0\n",
       "No. Observations:                 372   AIC:                             3262.\n",
       "Df Residuals:                     368   BIC:                             3278.\n",
       "Df Model:                           3                                         \n",
       "Covariance Type:            nonrobust                                         \n",
       "==============================================================================\n",
       "                 coef    std err          t      P>|t|      [0.025      0.975]\n",
       "------------------------------------------------------------------------------\n",
       "const        264.1834      4.044     65.332      0.000     256.232     272.135\n",
       "time           1.6424      0.094     17.517      0.000       1.458       1.827\n",
       "time_2        -0.0093      0.001    -15.981      0.000      -0.010      -0.008\n",
       "time_3      1.334e-05   1.03e-06     12.968      0.000    1.13e-05    1.54e-05\n",
       "==============================================================================\n",
       "Omnibus:                        3.849   Durbin-Watson:                   0.778\n",
       "Prob(Omnibus):                  0.146   Jarque-Bera (JB):                3.070\n",
       "Skew:                           0.106   Prob(JB):                        0.215\n",
       "Kurtosis:                       2.609   Cond. No.                     7.90e+07\n",
       "==============================================================================\n",
       "\n",
       "Warnings:\n",
       "[1] Standard Errors assume that the covariance matrix of the errors is correctly specified.\n",
       "[2] The condition number is large, 7.9e+07. This might indicate that there are\n",
       "strong multicollinearity or other numerical problems.\n",
       "\"\"\""
      ]
     },
     "execution_count": 9,
     "metadata": {},
     "output_type": "execute_result"
    }
   ],
   "source": [
    "X = birth[['time','time_2','time_3']]\n",
    "X = sm.add_constant(X)\n",
    "y = birth['num_births']\n",
    "\n",
    "model = sm.OLS(y, X)\n",
    "results = model.fit()\n",
    "results.summary()"
   ]
  },
  {
   "cell_type": "markdown",
   "metadata": {},
   "source": [
    "#### Model with up to 2nd power:"
   ]
  },
  {
   "cell_type": "code",
   "execution_count": 10,
   "metadata": {
    "collapsed": false
   },
   "outputs": [
    {
     "data": {
      "text/html": [
       "<table class=\"simpletable\">\n",
       "<caption>OLS Regression Results</caption>\n",
       "<tr>\n",
       "  <th>Dep. Variable:</th>       <td>num_births</td>    <th>  R-squared:         </th> <td>   0.564</td>\n",
       "</tr>\n",
       "<tr>\n",
       "  <th>Model:</th>                   <td>OLS</td>       <th>  Adj. R-squared:    </th> <td>   0.562</td>\n",
       "</tr>\n",
       "<tr>\n",
       "  <th>Method:</th>             <td>Least Squares</td>  <th>  F-statistic:       </th> <td>   239.0</td>\n",
       "</tr>\n",
       "<tr>\n",
       "  <th>Date:</th>             <td>Wed, 12 Oct 2016</td> <th>  Prob (F-statistic):</th> <td>2.62e-67</td>\n",
       "</tr>\n",
       "<tr>\n",
       "  <th>Time:</th>                 <td>14:13:43</td>     <th>  Log-Likelihood:    </th> <td> -1697.0</td>\n",
       "</tr>\n",
       "<tr>\n",
       "  <th>No. Observations:</th>      <td>   372</td>      <th>  AIC:               </th> <td>   3400.</td>\n",
       "</tr>\n",
       "<tr>\n",
       "  <th>Df Residuals:</th>          <td>   369</td>      <th>  BIC:               </th> <td>   3412.</td>\n",
       "</tr>\n",
       "<tr>\n",
       "  <th>Df Model:</th>              <td>     2</td>      <th>                     </th>     <td> </td>   \n",
       "</tr>\n",
       "<tr>\n",
       "  <th>Covariance Type:</th>      <td>nonrobust</td>    <th>                     </th>     <td> </td>   \n",
       "</tr>\n",
       "</table>\n",
       "<table class=\"simpletable\">\n",
       "<tr>\n",
       "     <td></td>       <th>coef</th>     <th>std err</th>      <th>t</th>      <th>P>|t|</th>  <th>[0.025</th>    <th>0.975]</th>  \n",
       "</tr>\n",
       "<tr>\n",
       "  <th>const</th>  <td>  299.0767</td> <td>    3.639</td> <td>   82.198</td> <td> 0.000</td> <td>  291.922</td> <td>  306.232</td>\n",
       "</tr>\n",
       "<tr>\n",
       "  <th>time</th>   <td>    0.5273</td> <td>    0.045</td> <td>   11.705</td> <td> 0.000</td> <td>    0.439</td> <td>    0.616</td>\n",
       "</tr>\n",
       "<tr>\n",
       "  <th>time_2</th> <td>   -0.0019</td> <td>    0.000</td> <td>  -15.941</td> <td> 0.000</td> <td>   -0.002</td> <td>   -0.002</td>\n",
       "</tr>\n",
       "</table>\n",
       "<table class=\"simpletable\">\n",
       "<tr>\n",
       "  <th>Omnibus:</th>       <td> 5.782</td> <th>  Durbin-Watson:     </th> <td>   0.534</td>\n",
       "</tr>\n",
       "<tr>\n",
       "  <th>Prob(Omnibus):</th> <td> 0.056</td> <th>  Jarque-Bera (JB):  </th> <td>   5.168</td>\n",
       "</tr>\n",
       "<tr>\n",
       "  <th>Skew:</th>          <td> 0.222</td> <th>  Prob(JB):          </th> <td>  0.0755</td>\n",
       "</tr>\n",
       "<tr>\n",
       "  <th>Kurtosis:</th>      <td> 2.630</td> <th>  Cond. No.          </th> <td>1.87e+05</td>\n",
       "</tr>\n",
       "</table>"
      ],
      "text/plain": [
       "<class 'statsmodels.iolib.summary.Summary'>\n",
       "\"\"\"\n",
       "                            OLS Regression Results                            \n",
       "==============================================================================\n",
       "Dep. Variable:             num_births   R-squared:                       0.564\n",
       "Model:                            OLS   Adj. R-squared:                  0.562\n",
       "Method:                 Least Squares   F-statistic:                     239.0\n",
       "Date:                Wed, 12 Oct 2016   Prob (F-statistic):           2.62e-67\n",
       "Time:                        14:13:43   Log-Likelihood:                -1697.0\n",
       "No. Observations:                 372   AIC:                             3400.\n",
       "Df Residuals:                     369   BIC:                             3412.\n",
       "Df Model:                           2                                         \n",
       "Covariance Type:            nonrobust                                         \n",
       "==============================================================================\n",
       "                 coef    std err          t      P>|t|      [0.025      0.975]\n",
       "------------------------------------------------------------------------------\n",
       "const        299.0767      3.639     82.198      0.000     291.922     306.232\n",
       "time           0.5273      0.045     11.705      0.000       0.439       0.616\n",
       "time_2        -0.0019      0.000    -15.941      0.000      -0.002      -0.002\n",
       "==============================================================================\n",
       "Omnibus:                        5.782   Durbin-Watson:                   0.534\n",
       "Prob(Omnibus):                  0.056   Jarque-Bera (JB):                5.168\n",
       "Skew:                           0.222   Prob(JB):                       0.0755\n",
       "Kurtosis:                       2.630   Cond. No.                     1.87e+05\n",
       "==============================================================================\n",
       "\n",
       "Warnings:\n",
       "[1] Standard Errors assume that the covariance matrix of the errors is correctly specified.\n",
       "[2] The condition number is large, 1.87e+05. This might indicate that there are\n",
       "strong multicollinearity or other numerical problems.\n",
       "\"\"\""
      ]
     },
     "execution_count": 10,
     "metadata": {},
     "output_type": "execute_result"
    }
   ],
   "source": [
    "X = birth[['time','time_2']]\n",
    "X = sm.add_constant(X)\n",
    "y = birth['num_births']\n",
    "\n",
    "model = sm.OLS(y, X)\n",
    "results = model.fit()\n",
    "results.summary()"
   ]
  },
  {
   "cell_type": "markdown",
   "metadata": {},
   "source": [
    "#### Model with just 'time':"
   ]
  },
  {
   "cell_type": "code",
   "execution_count": 11,
   "metadata": {
    "collapsed": false
   },
   "outputs": [
    {
     "data": {
      "text/html": [
       "<table class=\"simpletable\">\n",
       "<caption>OLS Regression Results</caption>\n",
       "<tr>\n",
       "  <th>Dep. Variable:</th>       <td>num_births</td>    <th>  R-squared:         </th> <td>   0.264</td>\n",
       "</tr>\n",
       "<tr>\n",
       "  <th>Model:</th>                   <td>OLS</td>       <th>  Adj. R-squared:    </th> <td>   0.262</td>\n",
       "</tr>\n",
       "<tr>\n",
       "  <th>Method:</th>             <td>Least Squares</td>  <th>  F-statistic:       </th> <td>   133.0</td>\n",
       "</tr>\n",
       "<tr>\n",
       "  <th>Date:</th>             <td>Wed, 12 Oct 2016</td> <th>  Prob (F-statistic):</th> <td>1.72e-26</td>\n",
       "</tr>\n",
       "<tr>\n",
       "  <th>Time:</th>                 <td>14:13:43</td>     <th>  Log-Likelihood:    </th> <td> -1794.5</td>\n",
       "</tr>\n",
       "<tr>\n",
       "  <th>No. Observations:</th>      <td>   372</td>      <th>  AIC:               </th> <td>   3593.</td>\n",
       "</tr>\n",
       "<tr>\n",
       "  <th>Df Residuals:</th>          <td>   370</td>      <th>  BIC:               </th> <td>   3601.</td>\n",
       "</tr>\n",
       "<tr>\n",
       "  <th>Df Model:</th>              <td>     1</td>      <th>                     </th>     <td> </td>   \n",
       "</tr>\n",
       "<tr>\n",
       "  <th>Covariance Type:</th>      <td>nonrobust</td>    <th>                     </th>     <td> </td>   \n",
       "</tr>\n",
       "</table>\n",
       "<table class=\"simpletable\">\n",
       "<tr>\n",
       "    <td></td>       <th>coef</th>     <th>std err</th>      <th>t</th>      <th>P>|t|</th>  <th>[0.025</th>    <th>0.975]</th>  \n",
       "</tr>\n",
       "<tr>\n",
       "  <th>const</th> <td>  342.4232</td> <td>    3.137</td> <td>  109.148</td> <td> 0.000</td> <td>  336.254</td> <td>  348.592</td>\n",
       "</tr>\n",
       "<tr>\n",
       "  <th>time</th>  <td>   -0.1681</td> <td>    0.015</td> <td>  -11.531</td> <td> 0.000</td> <td>   -0.197</td> <td>   -0.139</td>\n",
       "</tr>\n",
       "</table>\n",
       "<table class=\"simpletable\">\n",
       "<tr>\n",
       "  <th>Omnibus:</th>       <td> 3.968</td> <th>  Durbin-Watson:     </th> <td>   0.316</td>\n",
       "</tr>\n",
       "<tr>\n",
       "  <th>Prob(Omnibus):</th> <td> 0.138</td> <th>  Jarque-Bera (JB):  </th> <td>   3.093</td>\n",
       "</tr>\n",
       "<tr>\n",
       "  <th>Skew:</th>          <td> 0.099</td> <th>  Prob(JB):          </th> <td>   0.213</td>\n",
       "</tr>\n",
       "<tr>\n",
       "  <th>Kurtosis:</th>      <td> 2.600</td> <th>  Cond. No.          </th> <td>    431.</td>\n",
       "</tr>\n",
       "</table>"
      ],
      "text/plain": [
       "<class 'statsmodels.iolib.summary.Summary'>\n",
       "\"\"\"\n",
       "                            OLS Regression Results                            \n",
       "==============================================================================\n",
       "Dep. Variable:             num_births   R-squared:                       0.264\n",
       "Model:                            OLS   Adj. R-squared:                  0.262\n",
       "Method:                 Least Squares   F-statistic:                     133.0\n",
       "Date:                Wed, 12 Oct 2016   Prob (F-statistic):           1.72e-26\n",
       "Time:                        14:13:43   Log-Likelihood:                -1794.5\n",
       "No. Observations:                 372   AIC:                             3593.\n",
       "Df Residuals:                     370   BIC:                             3601.\n",
       "Df Model:                           1                                         \n",
       "Covariance Type:            nonrobust                                         \n",
       "==============================================================================\n",
       "                 coef    std err          t      P>|t|      [0.025      0.975]\n",
       "------------------------------------------------------------------------------\n",
       "const        342.4232      3.137    109.148      0.000     336.254     348.592\n",
       "time          -0.1681      0.015    -11.531      0.000      -0.197      -0.139\n",
       "==============================================================================\n",
       "Omnibus:                        3.968   Durbin-Watson:                   0.316\n",
       "Prob(Omnibus):                  0.138   Jarque-Bera (JB):                3.093\n",
       "Skew:                           0.099   Prob(JB):                        0.213\n",
       "Kurtosis:                       2.600   Cond. No.                         431.\n",
       "==============================================================================\n",
       "\n",
       "Warnings:\n",
       "[1] Standard Errors assume that the covariance matrix of the errors is correctly specified.\n",
       "\"\"\""
      ]
     },
     "execution_count": 11,
     "metadata": {},
     "output_type": "execute_result"
    }
   ],
   "source": [
    "X = birth[['time']]\n",
    "X = sm.add_constant(X)\n",
    "y = birth['num_births']\n",
    "\n",
    "model = sm.OLS(y, X)\n",
    "results = model.fit()\n",
    "results.summary()"
   ]
  },
  {
   "cell_type": "markdown",
   "metadata": {},
   "source": [
    "We can see that AIC/BIC goes up as we remove polynomial terms."
   ]
  },
  {
   "cell_type": "markdown",
   "metadata": {},
   "source": [
    "12) Now that you have fit trend, add in the monthly component via dummy variables to capture seasonality.  You could  also try to create a 'seasons of the year' variable and fit the quarterly time series instead of the original monthly time you plotted earlier...opportunity to play around."
   ]
  },
  {
   "cell_type": "code",
   "execution_count": 12,
   "metadata": {
    "collapsed": false
   },
   "outputs": [
    {
     "data": {
      "text/html": [
       "<table class=\"simpletable\">\n",
       "<caption>OLS Regression Results</caption>\n",
       "<tr>\n",
       "  <th>Dep. Variable:</th>       <td>num_births</td>    <th>  R-squared:         </th> <td>   0.784</td> \n",
       "</tr>\n",
       "<tr>\n",
       "  <th>Model:</th>                   <td>OLS</td>       <th>  Adj. R-squared:    </th> <td>   0.781</td> \n",
       "</tr>\n",
       "<tr>\n",
       "  <th>Method:</th>             <td>Least Squares</td>  <th>  F-statistic:       </th> <td>   221.0</td> \n",
       "</tr>\n",
       "<tr>\n",
       "  <th>Date:</th>             <td>Wed, 12 Oct 2016</td> <th>  Prob (F-statistic):</th> <td>3.21e-118</td>\n",
       "</tr>\n",
       "<tr>\n",
       "  <th>Time:</th>                 <td>14:13:43</td>     <th>  Log-Likelihood:    </th> <td> -1566.4</td> \n",
       "</tr>\n",
       "<tr>\n",
       "  <th>No. Observations:</th>      <td>   372</td>      <th>  AIC:               </th> <td>   3147.</td> \n",
       "</tr>\n",
       "<tr>\n",
       "  <th>Df Residuals:</th>          <td>   365</td>      <th>  BIC:               </th> <td>   3174.</td> \n",
       "</tr>\n",
       "<tr>\n",
       "  <th>Df Model:</th>              <td>     6</td>      <th>                     </th>     <td> </td>    \n",
       "</tr>\n",
       "<tr>\n",
       "  <th>Covariance Type:</th>      <td>nonrobust</td>    <th>                     </th>     <td> </td>    \n",
       "</tr>\n",
       "</table>\n",
       "<table class=\"simpletable\">\n",
       "<tr>\n",
       "     <td></td>       <th>coef</th>     <th>std err</th>      <th>t</th>      <th>P>|t|</th>  <th>[0.025</th>    <th>0.975]</th>  \n",
       "</tr>\n",
       "<tr>\n",
       "  <th>const</th>  <td>  278.4908</td> <td>    5.398</td> <td>   51.595</td> <td> 0.000</td> <td>  267.876</td> <td>  289.105</td>\n",
       "</tr>\n",
       "<tr>\n",
       "  <th>time</th>   <td>   -0.1563</td> <td>    0.283</td> <td>   -0.552</td> <td> 0.582</td> <td>   -0.714</td> <td>    0.401</td>\n",
       "</tr>\n",
       "<tr>\n",
       "  <th>time_2</th> <td>    0.0178</td> <td>    0.005</td> <td>    3.784</td> <td> 0.000</td> <td>    0.009</td> <td>    0.027</td>\n",
       "</tr>\n",
       "<tr>\n",
       "  <th>time_3</th> <td>   -0.0001</td> <td> 3.18e-05</td> <td>   -4.591</td> <td> 0.000</td> <td>   -0.000</td> <td>-8.36e-05</td>\n",
       "</tr>\n",
       "<tr>\n",
       "  <th>time_4</th> <td> 4.034e-07</td> <td> 9.41e-08</td> <td>    4.288</td> <td> 0.000</td> <td> 2.18e-07</td> <td> 5.88e-07</td>\n",
       "</tr>\n",
       "<tr>\n",
       "  <th>time_5</th> <td> -3.67e-10</td> <td>    1e-10</td> <td>   -3.657</td> <td> 0.000</td> <td>-5.64e-10</td> <td> -1.7e-10</td>\n",
       "</tr>\n",
       "<tr>\n",
       "  <th>month</th>  <td>    2.3348</td> <td>    0.248</td> <td>    9.406</td> <td> 0.000</td> <td>    1.847</td> <td>    2.823</td>\n",
       "</tr>\n",
       "</table>\n",
       "<table class=\"simpletable\">\n",
       "<tr>\n",
       "  <th>Omnibus:</th>       <td>13.207</td> <th>  Durbin-Watson:     </th> <td>   1.159</td>\n",
       "</tr>\n",
       "<tr>\n",
       "  <th>Prob(Omnibus):</th> <td> 0.001</td> <th>  Jarque-Bera (JB):  </th> <td>   8.232</td>\n",
       "</tr>\n",
       "<tr>\n",
       "  <th>Skew:</th>          <td> 0.211</td> <th>  Prob(JB):          </th> <td>  0.0163</td>\n",
       "</tr>\n",
       "<tr>\n",
       "  <th>Kurtosis:</th>      <td> 2.406</td> <th>  Cond. No.          </th> <td>1.37e+13</td>\n",
       "</tr>\n",
       "</table>"
      ],
      "text/plain": [
       "<class 'statsmodels.iolib.summary.Summary'>\n",
       "\"\"\"\n",
       "                            OLS Regression Results                            \n",
       "==============================================================================\n",
       "Dep. Variable:             num_births   R-squared:                       0.784\n",
       "Model:                            OLS   Adj. R-squared:                  0.781\n",
       "Method:                 Least Squares   F-statistic:                     221.0\n",
       "Date:                Wed, 12 Oct 2016   Prob (F-statistic):          3.21e-118\n",
       "Time:                        14:13:43   Log-Likelihood:                -1566.4\n",
       "No. Observations:                 372   AIC:                             3147.\n",
       "Df Residuals:                     365   BIC:                             3174.\n",
       "Df Model:                           6                                         \n",
       "Covariance Type:            nonrobust                                         \n",
       "==============================================================================\n",
       "                 coef    std err          t      P>|t|      [0.025      0.975]\n",
       "------------------------------------------------------------------------------\n",
       "const        278.4908      5.398     51.595      0.000     267.876     289.105\n",
       "time          -0.1563      0.283     -0.552      0.582      -0.714       0.401\n",
       "time_2         0.0178      0.005      3.784      0.000       0.009       0.027\n",
       "time_3        -0.0001   3.18e-05     -4.591      0.000      -0.000   -8.36e-05\n",
       "time_4      4.034e-07   9.41e-08      4.288      0.000    2.18e-07    5.88e-07\n",
       "time_5      -3.67e-10      1e-10     -3.657      0.000   -5.64e-10    -1.7e-10\n",
       "month          2.3348      0.248      9.406      0.000       1.847       2.823\n",
       "==============================================================================\n",
       "Omnibus:                       13.207   Durbin-Watson:                   1.159\n",
       "Prob(Omnibus):                  0.001   Jarque-Bera (JB):                8.232\n",
       "Skew:                           0.211   Prob(JB):                       0.0163\n",
       "Kurtosis:                       2.406   Cond. No.                     1.37e+13\n",
       "==============================================================================\n",
       "\n",
       "Warnings:\n",
       "[1] Standard Errors assume that the covariance matrix of the errors is correctly specified.\n",
       "[2] The condition number is large, 1.37e+13. This might indicate that there are\n",
       "strong multicollinearity or other numerical problems.\n",
       "\"\"\""
      ]
     },
     "execution_count": 12,
     "metadata": {},
     "output_type": "execute_result"
    }
   ],
   "source": [
    "X_month = birth[['time','time_2','time_3','time_4','time_5','month']]\n",
    "X_month = sm.add_constant(X_month)\n",
    "y_month = birth['num_births']\n",
    "\n",
    "model_month = sm.OLS(y_month, X_month)\n",
    "results_month = model_month.fit()\n",
    "results_month.summary()"
   ]
  },
  {
   "cell_type": "code",
   "execution_count": 13,
   "metadata": {
    "collapsed": false
   },
   "outputs": [
    {
     "data": {
      "image/png": "[encoded data removed]",
      "text/plain": [
       "<matplotlib.figure.Figure at 0x11cdbdcf8>"
      ]
     },
     "metadata": {},
     "output_type": "display_data"
    }
   ],
   "source": [
    "plt.plot(birth['dates'],birth['num_births'])\n",
    "plt.plot(birth['dates'],results_month.fittedvalues);"
   ]
  },
  {
   "cell_type": "markdown",
   "metadata": {},
   "source": [
    "We can see that the model/plot is much better."
   ]
  },
  {
   "cell_type": "markdown",
   "metadata": {},
   "source": [
    "13) Plot the `dates` variable (`x`) against the residuals (`y`) of the final model (including the seasonality term).\n",
    "    Is there an obvious pattern of the residuals with respect to time? If there is any autocorrelation left in the \n",
    "    model, there will be some pattern in your residual and we'll learn to address that in the afternoon."
   ]
  },
  {
   "cell_type": "code",
   "execution_count": 14,
   "metadata": {
    "collapsed": false
   },
   "outputs": [
    {
     "data": {
      "image/png": "[encoded data removed]",
      "text/plain": [
       "<matplotlib.figure.Figure at 0x11d49b208>"
      ]
     },
     "metadata": {},
     "output_type": "display_data"
    }
   ],
   "source": [
    "plt.plot(birth['dates'],results_month.resid_pearson);"
   ]
  },
  {
   "cell_type": "code",
   "execution_count": 15,
   "metadata": {
    "collapsed": false
   },
   "outputs": [
    {
     "data": {
      "image/png": "[encoded data removed]",
      "text/plain": [
       "<matplotlib.figure.Figure at 0x11cd502b0>"
      ]
     },
     "metadata": {},
     "output_type": "display_data"
    }
   ],
   "source": [
    "sns.residplot(results_month.fittedvalues, results_month.resid_pearson, birth);"
   ]
  },
  {
   "cell_type": "markdown",
   "metadata": {},
   "source": [
    "The plot above is not too bad."
   ]
  },
  {
   "cell_type": "markdown",
   "metadata": {},
   "source": [
    "14) Fit a ARIMA or seasonal ARIMA model to the birth data."
   ]
  },
  {
   "cell_type": "code",
   "execution_count": 16,
   "metadata": {
    "collapsed": false
   },
   "outputs": [
    {
     "data": {
      "image/png": "[encoded data removed]",
      "text/plain": [
       "<matplotlib.figure.Figure at 0x11d625630>"
      ]
     },
     "metadata": {},
     "output_type": "display_data"
    }
   ],
   "source": [
    "plot_acf(birth['num_births'], lags=36, zero=False);"
   ]
  },
  {
   "cell_type": "markdown",
   "metadata": {},
   "source": [
    "The above plot gives a strong indication of non-stationary, which is not a good thing: it means that the mean $\\mu$ is not the same for all $t$. In general, a stationary time series will have no predictable patterns in the long-term.\n",
    "\n",
    "Non-stationary can be addressed by transformation, etc. (check DSCI6002-7.2-Lecture-suppl.ipynb for details). With non-stationary data we shouldn't build a model."
   ]
  },
  {
   "cell_type": "markdown",
   "metadata": {},
   "source": [
    ">ACF goes with AR models.\n",
    "\n",
    ">PACF goes with MA models.\n",
    "\n",
    ">PACF is preferred over ACF."
   ]
  },
  {
   "cell_type": "code",
   "execution_count": 17,
   "metadata": {
    "collapsed": false
   },
   "outputs": [
    {
     "data": {
      "image/png": "[encoded data removed]",
      "text/plain": [
       "<matplotlib.figure.Figure at 0x11d7606a0>"
      ]
     },
     "metadata": {},
     "output_type": "display_data"
    }
   ],
   "source": [
    "plot_pacf(birth['num_births'], lags=36, zero=False);"
   ]
  },
  {
   "cell_type": "markdown",
   "metadata": {},
   "source": [
    "The pacf plot above also gives indication of non-stationary."
   ]
  },
  {
   "cell_type": "markdown",
   "metadata": {},
   "source": [
    "ARIMA has three order arguments: the first one **p**, is for **AR**, the second one **d**, is for **I**, the third one **q**, is for **MA**.\n",
    "\n",
    "If **q = 0**, we have a **AR** model. We set **d = 0**.\n",
    "\n",
    "If **p = 0**, we have a **MA** model. We set **d = 0**.\n",
    "\n",
    "If **d = 0**, we have a **ARMA** model.\n",
    "\n",
    "If **p $\\neq$ 0**, **d $\\neq$ 0** and **q $\\neq$ 0**, we have an **ARIMA** model."
   ]
  },
  {
   "cell_type": "code",
   "execution_count": 18,
   "metadata": {
    "collapsed": false
   },
   "outputs": [
    {
     "data": {
      "text/html": [
       "<div>\n",
       "<table border=\"1\" class=\"dataframe\">\n",
       "  <thead>\n",
       "    <tr style=\"text-align: right;\">\n",
       "      <th></th>\n",
       "      <th>num_births</th>\n",
       "      <th>dates</th>\n",
       "      <th>time</th>\n",
       "      <th>month</th>\n",
       "      <th>year</th>\n",
       "      <th>time_2</th>\n",
       "      <th>time_3</th>\n",
       "      <th>time_4</th>\n",
       "      <th>time_5</th>\n",
       "    </tr>\n",
       "    <tr>\n",
       "      <th>dates</th>\n",
       "      <th></th>\n",
       "      <th></th>\n",
       "      <th></th>\n",
       "      <th></th>\n",
       "      <th></th>\n",
       "      <th></th>\n",
       "      <th></th>\n",
       "      <th></th>\n",
       "      <th></th>\n",
       "    </tr>\n",
       "  </thead>\n",
       "  <tbody>\n",
       "    <tr>\n",
       "      <th>1980-01-31</th>\n",
       "      <td>295</td>\n",
       "      <td>1980-01-31</td>\n",
       "      <td>1</td>\n",
       "      <td>1</td>\n",
       "      <td>1980</td>\n",
       "      <td>1</td>\n",
       "      <td>1</td>\n",
       "      <td>1</td>\n",
       "      <td>1</td>\n",
       "    </tr>\n",
       "    <tr>\n",
       "      <th>1980-02-29</th>\n",
       "      <td>286</td>\n",
       "      <td>1980-02-29</td>\n",
       "      <td>2</td>\n",
       "      <td>2</td>\n",
       "      <td>1980</td>\n",
       "      <td>4</td>\n",
       "      <td>8</td>\n",
       "      <td>16</td>\n",
       "      <td>32</td>\n",
       "    </tr>\n",
       "    <tr>\n",
       "      <th>1980-03-31</th>\n",
       "      <td>300</td>\n",
       "      <td>1980-03-31</td>\n",
       "      <td>3</td>\n",
       "      <td>3</td>\n",
       "      <td>1980</td>\n",
       "      <td>9</td>\n",
       "      <td>27</td>\n",
       "      <td>81</td>\n",
       "      <td>243</td>\n",
       "    </tr>\n",
       "    <tr>\n",
       "      <th>1980-04-30</th>\n",
       "      <td>278</td>\n",
       "      <td>1980-04-30</td>\n",
       "      <td>4</td>\n",
       "      <td>4</td>\n",
       "      <td>1980</td>\n",
       "      <td>16</td>\n",
       "      <td>64</td>\n",
       "      <td>256</td>\n",
       "      <td>1024</td>\n",
       "    </tr>\n",
       "    <tr>\n",
       "      <th>1980-05-31</th>\n",
       "      <td>272</td>\n",
       "      <td>1980-05-31</td>\n",
       "      <td>5</td>\n",
       "      <td>5</td>\n",
       "      <td>1980</td>\n",
       "      <td>25</td>\n",
       "      <td>125</td>\n",
       "      <td>625</td>\n",
       "      <td>3125</td>\n",
       "    </tr>\n",
       "  </tbody>\n",
       "</table>\n",
       "</div>"
      ],
      "text/plain": [
       "            num_births      dates  time  month  year  time_2  time_3  time_4  \\\n",
       "dates                                                                          \n",
       "1980-01-31         295 1980-01-31     1      1  1980       1       1       1   \n",
       "1980-02-29         286 1980-02-29     2      2  1980       4       8      16   \n",
       "1980-03-31         300 1980-03-31     3      3  1980       9      27      81   \n",
       "1980-04-30         278 1980-04-30     4      4  1980      16      64     256   \n",
       "1980-05-31         272 1980-05-31     5      5  1980      25     125     625   \n",
       "\n",
       "            time_5  \n",
       "dates               \n",
       "1980-01-31       1  \n",
       "1980-02-29      32  \n",
       "1980-03-31     243  \n",
       "1980-04-30    1024  \n",
       "1980-05-31    3125  "
      ]
     },
     "execution_count": 18,
     "metadata": {},
     "output_type": "execute_result"
    }
   ],
   "source": [
    "birth.head()"
   ]
  },
  {
   "cell_type": "code",
   "execution_count": 19,
   "metadata": {
    "collapsed": false
   },
   "outputs": [
    {
     "data": {
      "text/html": [
       "<table class=\"simpletable\">\n",
       "<caption>ARMA Model Results</caption>\n",
       "<tr>\n",
       "  <th>Dep. Variable:</th>    <td>num_births</td>    <th>  No. Observations:  </th>    <td>372</td>   \n",
       "</tr>\n",
       "<tr>\n",
       "  <th>Model:</th>            <td>ARMA(2, 0)</td>    <th>  Log Likelihood     </th> <td>-1556.164</td>\n",
       "</tr>\n",
       "<tr>\n",
       "  <th>Method:</th>             <td>css-mle</td>     <th>  S.D. of innovations</th>  <td>15.833</td>  \n",
       "</tr>\n",
       "<tr>\n",
       "  <th>Date:</th>          <td>Wed, 12 Oct 2016</td> <th>  AIC                </th> <td>3120.329</td> \n",
       "</tr>\n",
       "<tr>\n",
       "  <th>Time:</th>              <td>14:13:45</td>     <th>  BIC                </th> <td>3136.004</td> \n",
       "</tr>\n",
       "<tr>\n",
       "  <th>Sample:</th>           <td>01-31-1980</td>    <th>  HQIC               </th> <td>3126.554</td> \n",
       "</tr>\n",
       "<tr>\n",
       "  <th></th>                 <td>- 12-31-2010</td>   <th>                     </th>     <td> </td>    \n",
       "</tr>\n",
       "</table>\n",
       "<table class=\"simpletable\">\n",
       "<tr>\n",
       "          <td></td>            <th>coef</th>     <th>std err</th>      <th>z</th>      <th>P>|z|</th>  <th>[0.025</th>    <th>0.975]</th>  \n",
       "</tr>\n",
       "<tr>\n",
       "  <th>const</th>            <td>  309.3067</td> <td>    9.208</td> <td>   33.590</td> <td> 0.000</td> <td>  291.259</td> <td>  327.355</td>\n",
       "</tr>\n",
       "<tr>\n",
       "  <th>ar.L1.num_births</th> <td>    0.6432</td> <td>    0.050</td> <td>   12.921</td> <td> 0.000</td> <td>    0.546</td> <td>    0.741</td>\n",
       "</tr>\n",
       "<tr>\n",
       "  <th>ar.L2.num_births</th> <td>    0.2706</td> <td>    0.050</td> <td>    5.428</td> <td> 0.000</td> <td>    0.173</td> <td>    0.368</td>\n",
       "</tr>\n",
       "</table>\n",
       "<table class=\"simpletable\">\n",
       "<caption>Roots</caption>\n",
       "<tr>\n",
       "    <td></td>   <th>           Real</th> <th>         Imaginary</th> <th>         Modulus</th> <th>        Frequency</th>\n",
       "</tr>\n",
       "<tr>\n",
       "  <th>AR.1</th>               1.0716                    +0.0000j                    1.0716                    0.0000     \n",
       "</tr>\n",
       "<tr>\n",
       "  <th>AR.2</th>              -3.4483                    +0.0000j                    3.4483                    0.5000     \n",
       "</tr>\n",
       "</table>"
      ],
      "text/plain": [
       "<class 'statsmodels.iolib.summary.Summary'>\n",
       "\"\"\"\n",
       "                              ARMA Model Results                              \n",
       "==============================================================================\n",
       "Dep. Variable:             num_births   No. Observations:                  372\n",
       "Model:                     ARMA(2, 0)   Log Likelihood               -1556.164\n",
       "Method:                       css-mle   S.D. of innovations             15.833\n",
       "Date:                Wed, 12 Oct 2016   AIC                           3120.329\n",
       "Time:                        14:13:45   BIC                           3136.004\n",
       "Sample:                    01-31-1980   HQIC                          3126.554\n",
       "                         - 12-31-2010                                         \n",
       "====================================================================================\n",
       "                       coef    std err          z      P>|z|      [0.025      0.975]\n",
       "------------------------------------------------------------------------------------\n",
       "const              309.3067      9.208     33.590      0.000     291.259     327.355\n",
       "ar.L1.num_births     0.6432      0.050     12.921      0.000       0.546       0.741\n",
       "ar.L2.num_births     0.2706      0.050      5.428      0.000       0.173       0.368\n",
       "                                    Roots                                    \n",
       "=============================================================================\n",
       "                 Real           Imaginary           Modulus         Frequency\n",
       "-----------------------------------------------------------------------------\n",
       "AR.1            1.0716           +0.0000j            1.0716            0.0000\n",
       "AR.2           -3.4483           +0.0000j            3.4483            0.5000\n",
       "-----------------------------------------------------------------------------\n",
       "\"\"\""
      ]
     },
     "execution_count": 19,
     "metadata": {},
     "output_type": "execute_result"
    }
   ],
   "source": [
    "# ARIMA needs to have the variable set to FLOAT.\n",
    "model_ar = sm.tsa.ARIMA(birth['num_births'].astype(float), order=[2,0,0], freq='M')\n",
    "model_ar.fit().summary()"
   ]
  },
  {
   "cell_type": "code",
   "execution_count": 20,
   "metadata": {
    "collapsed": false
   },
   "outputs": [
    {
     "data": {
      "text/html": [
       "<table class=\"simpletable\">\n",
       "<caption>ARMA Model Results</caption>\n",
       "<tr>\n",
       "  <th>Dep. Variable:</th>    <td>num_births</td>    <th>  No. Observations:  </th>    <td>372</td>   \n",
       "</tr>\n",
       "<tr>\n",
       "  <th>Model:</th>            <td>ARMA(0, 2)</td>    <th>  Log Likelihood     </th> <td>-1645.627</td>\n",
       "</tr>\n",
       "<tr>\n",
       "  <th>Method:</th>             <td>css-mle</td>     <th>  S.D. of innovations</th>  <td>20.121</td>  \n",
       "</tr>\n",
       "<tr>\n",
       "  <th>Date:</th>          <td>Wed, 12 Oct 2016</td> <th>  AIC                </th> <td>3299.255</td> \n",
       "</tr>\n",
       "<tr>\n",
       "  <th>Time:</th>              <td>14:13:45</td>     <th>  BIC                </th> <td>3314.930</td> \n",
       "</tr>\n",
       "<tr>\n",
       "  <th>Sample:</th>           <td>01-31-1980</td>    <th>  HQIC               </th> <td>3305.480</td> \n",
       "</tr>\n",
       "<tr>\n",
       "  <th></th>                 <td>- 12-31-2010</td>   <th>                     </th>     <td> </td>    \n",
       "</tr>\n",
       "</table>\n",
       "<table class=\"simpletable\">\n",
       "<tr>\n",
       "          <td></td>            <th>coef</th>     <th>std err</th>      <th>z</th>      <th>P>|z|</th>  <th>[0.025</th>    <th>0.975]</th>  \n",
       "</tr>\n",
       "<tr>\n",
       "  <th>const</th>            <td>  310.9037</td> <td>    2.417</td> <td>  128.629</td> <td> 0.000</td> <td>  306.166</td> <td>  315.641</td>\n",
       "</tr>\n",
       "<tr>\n",
       "  <th>ma.L1.num_births</th> <td>    0.5095</td> <td>    0.028</td> <td>   18.048</td> <td> 0.000</td> <td>    0.454</td> <td>    0.565</td>\n",
       "</tr>\n",
       "<tr>\n",
       "  <th>ma.L2.num_births</th> <td>    0.8131</td> <td>    0.037</td> <td>   21.870</td> <td> 0.000</td> <td>    0.740</td> <td>    0.886</td>\n",
       "</tr>\n",
       "</table>\n",
       "<table class=\"simpletable\">\n",
       "<caption>Roots</caption>\n",
       "<tr>\n",
       "    <td></td>   <th>           Real</th> <th>         Imaginary</th> <th>         Modulus</th> <th>        Frequency</th>\n",
       "</tr>\n",
       "<tr>\n",
       "  <th>MA.1</th>              -0.3133                    -1.0638j                    1.1090                   -0.2956     \n",
       "</tr>\n",
       "<tr>\n",
       "  <th>MA.2</th>              -0.3133                    +1.0638j                    1.1090                    0.2956     \n",
       "</tr>\n",
       "</table>"
      ],
      "text/plain": [
       "<class 'statsmodels.iolib.summary.Summary'>\n",
       "\"\"\"\n",
       "                              ARMA Model Results                              \n",
       "==============================================================================\n",
       "Dep. Variable:             num_births   No. Observations:                  372\n",
       "Model:                     ARMA(0, 2)   Log Likelihood               -1645.627\n",
       "Method:                       css-mle   S.D. of innovations             20.121\n",
       "Date:                Wed, 12 Oct 2016   AIC                           3299.255\n",
       "Time:                        14:13:45   BIC                           3314.930\n",
       "Sample:                    01-31-1980   HQIC                          3305.480\n",
       "                         - 12-31-2010                                         \n",
       "====================================================================================\n",
       "                       coef    std err          z      P>|z|      [0.025      0.975]\n",
       "------------------------------------------------------------------------------------\n",
       "const              310.9037      2.417    128.629      0.000     306.166     315.641\n",
       "ma.L1.num_births     0.5095      0.028     18.048      0.000       0.454       0.565\n",
       "ma.L2.num_births     0.8131      0.037     21.870      0.000       0.740       0.886\n",
       "                                    Roots                                    \n",
       "=============================================================================\n",
       "                 Real           Imaginary           Modulus         Frequency\n",
       "-----------------------------------------------------------------------------\n",
       "MA.1           -0.3133           -1.0638j            1.1090           -0.2956\n",
       "MA.2           -0.3133           +1.0638j            1.1090            0.2956\n",
       "-----------------------------------------------------------------------------\n",
       "\"\"\""
      ]
     },
     "execution_count": 20,
     "metadata": {},
     "output_type": "execute_result"
    }
   ],
   "source": [
    "model_ma = sm.tsa.ARIMA(birth['num_births'].astype(float), order=(0,0,2))\n",
    "model_ma.fit().summary()"
   ]
  },
  {
   "cell_type": "code",
   "execution_count": 21,
   "metadata": {
    "collapsed": false
   },
   "outputs": [
    {
     "data": {
      "text/html": [
       "<table class=\"simpletable\">\n",
       "<caption>ARMA Model Results</caption>\n",
       "<tr>\n",
       "  <th>Dep. Variable:</th>    <td>num_births</td>    <th>  No. Observations:  </th>    <td>372</td>   \n",
       "</tr>\n",
       "<tr>\n",
       "  <th>Model:</th>            <td>ARMA(2, 2)</td>    <th>  Log Likelihood     </th> <td>-1553.206</td>\n",
       "</tr>\n",
       "<tr>\n",
       "  <th>Method:</th>             <td>css-mle</td>     <th>  S.D. of innovations</th>  <td>15.706</td>  \n",
       "</tr>\n",
       "<tr>\n",
       "  <th>Date:</th>          <td>Wed, 12 Oct 2016</td> <th>  AIC                </th> <td>3118.413</td> \n",
       "</tr>\n",
       "<tr>\n",
       "  <th>Time:</th>              <td>14:13:45</td>     <th>  BIC                </th> <td>3141.926</td> \n",
       "</tr>\n",
       "<tr>\n",
       "  <th>Sample:</th>           <td>01-31-1980</td>    <th>  HQIC               </th> <td>3127.751</td> \n",
       "</tr>\n",
       "<tr>\n",
       "  <th></th>                 <td>- 12-31-2010</td>   <th>                     </th>     <td> </td>    \n",
       "</tr>\n",
       "</table>\n",
       "<table class=\"simpletable\">\n",
       "<tr>\n",
       "          <td></td>            <th>coef</th>     <th>std err</th>      <th>z</th>      <th>P>|z|</th>  <th>[0.025</th>    <th>0.975]</th>  \n",
       "</tr>\n",
       "<tr>\n",
       "  <th>const</th>            <td>  309.8068</td> <td>    7.932</td> <td>   39.059</td> <td> 0.000</td> <td>  294.261</td> <td>  325.353</td>\n",
       "</tr>\n",
       "<tr>\n",
       "  <th>ar.L1.num_births</th> <td>    0.6393</td> <td>    0.157</td> <td>    4.078</td> <td> 0.000</td> <td>    0.332</td> <td>    0.947</td>\n",
       "</tr>\n",
       "<tr>\n",
       "  <th>ar.L2.num_births</th> <td>    0.2399</td> <td>    0.148</td> <td>    1.623</td> <td> 0.105</td> <td>   -0.050</td> <td>    0.530</td>\n",
       "</tr>\n",
       "<tr>\n",
       "  <th>ma.L1.num_births</th> <td>    0.0385</td> <td>    0.153</td> <td>    0.252</td> <td> 0.801</td> <td>   -0.261</td> <td>    0.338</td>\n",
       "</tr>\n",
       "<tr>\n",
       "  <th>ma.L2.num_births</th> <td>    0.1662</td> <td>    0.073</td> <td>    2.282</td> <td> 0.023</td> <td>    0.023</td> <td>    0.309</td>\n",
       "</tr>\n",
       "</table>\n",
       "<table class=\"simpletable\">\n",
       "<caption>Roots</caption>\n",
       "<tr>\n",
       "    <td></td>   <th>           Real</th> <th>         Imaginary</th> <th>         Modulus</th> <th>        Frequency</th>\n",
       "</tr>\n",
       "<tr>\n",
       "  <th>AR.1</th>               1.1055                    +0.0000j                    1.1055                    0.0000     \n",
       "</tr>\n",
       "<tr>\n",
       "  <th>AR.2</th>              -3.7701                    +0.0000j                    3.7701                    0.5000     \n",
       "</tr>\n",
       "<tr>\n",
       "  <th>MA.1</th>              -0.1158                    -2.4504j                    2.4532                   -0.2575     \n",
       "</tr>\n",
       "<tr>\n",
       "  <th>MA.2</th>              -0.1158                    +2.4504j                    2.4532                    0.2575     \n",
       "</tr>\n",
       "</table>"
      ],
      "text/plain": [
       "<class 'statsmodels.iolib.summary.Summary'>\n",
       "\"\"\"\n",
       "                              ARMA Model Results                              \n",
       "==============================================================================\n",
       "Dep. Variable:             num_births   No. Observations:                  372\n",
       "Model:                     ARMA(2, 2)   Log Likelihood               -1553.206\n",
       "Method:                       css-mle   S.D. of innovations             15.706\n",
       "Date:                Wed, 12 Oct 2016   AIC                           3118.413\n",
       "Time:                        14:13:45   BIC                           3141.926\n",
       "Sample:                    01-31-1980   HQIC                          3127.751\n",
       "                         - 12-31-2010                                         \n",
       "====================================================================================\n",
       "                       coef    std err          z      P>|z|      [0.025      0.975]\n",
       "------------------------------------------------------------------------------------\n",
       "const              309.8068      7.932     39.059      0.000     294.261     325.353\n",
       "ar.L1.num_births     0.6393      0.157      4.078      0.000       0.332       0.947\n",
       "ar.L2.num_births     0.2399      0.148      1.623      0.105      -0.050       0.530\n",
       "ma.L1.num_births     0.0385      0.153      0.252      0.801      -0.261       0.338\n",
       "ma.L2.num_births     0.1662      0.073      2.282      0.023       0.023       0.309\n",
       "                                    Roots                                    \n",
       "=============================================================================\n",
       "                 Real           Imaginary           Modulus         Frequency\n",
       "-----------------------------------------------------------------------------\n",
       "AR.1            1.1055           +0.0000j            1.1055            0.0000\n",
       "AR.2           -3.7701           +0.0000j            3.7701            0.5000\n",
       "MA.1           -0.1158           -2.4504j            2.4532           -0.2575\n",
       "MA.2           -0.1158           +2.4504j            2.4532            0.2575\n",
       "-----------------------------------------------------------------------------\n",
       "\"\"\""
      ]
     },
     "execution_count": 21,
     "metadata": {},
     "output_type": "execute_result"
    }
   ],
   "source": [
    "model_arma = sm.tsa.ARIMA(birth['num_births'].astype(float), order=(2,0,2))\n",
    "model_arma.fit().summary()"
   ]
  },
  {
   "cell_type": "code",
   "execution_count": 22,
   "metadata": {
    "collapsed": false
   },
   "outputs": [
    {
     "data": {
      "text/html": [
       "<table class=\"simpletable\">\n",
       "<caption>ARIMA Model Results</caption>\n",
       "<tr>\n",
       "  <th>Dep. Variable:</th>   <td>D.num_births</td>   <th>  No. Observations:  </th>    <td>371</td>   \n",
       "</tr>\n",
       "<tr>\n",
       "  <th>Model:</th>          <td>ARIMA(2, 1, 2)</td>  <th>  Log Likelihood     </th> <td>-1539.321</td>\n",
       "</tr>\n",
       "<tr>\n",
       "  <th>Method:</th>             <td>css-mle</td>     <th>  S.D. of innovations</th>  <td>15.321</td>  \n",
       "</tr>\n",
       "<tr>\n",
       "  <th>Date:</th>          <td>Wed, 12 Oct 2016</td> <th>  AIC                </th> <td>3090.642</td> \n",
       "</tr>\n",
       "<tr>\n",
       "  <th>Time:</th>              <td>14:13:45</td>     <th>  BIC                </th> <td>3114.139</td> \n",
       "</tr>\n",
       "<tr>\n",
       "  <th>Sample:</th>           <td>02-29-1980</td>    <th>  HQIC               </th> <td>3099.975</td> \n",
       "</tr>\n",
       "<tr>\n",
       "  <th></th>                 <td>- 12-31-2010</td>   <th>                     </th>     <td> </td>    \n",
       "</tr>\n",
       "</table>\n",
       "<table class=\"simpletable\">\n",
       "<tr>\n",
       "           <td></td>             <th>coef</th>     <th>std err</th>      <th>z</th>      <th>P>|z|</th>  <th>[0.025</th>    <th>0.975]</th>  \n",
       "</tr>\n",
       "<tr>\n",
       "  <th>const</th>              <td>   -0.0487</td> <td>    0.167</td> <td>   -0.292</td> <td> 0.770</td> <td>   -0.375</td> <td>    0.278</td>\n",
       "</tr>\n",
       "<tr>\n",
       "  <th>ar.L1.D.num_births</th> <td>    0.1709</td> <td>    0.138</td> <td>    1.240</td> <td> 0.216</td> <td>   -0.099</td> <td>    0.441</td>\n",
       "</tr>\n",
       "<tr>\n",
       "  <th>ar.L2.D.num_births</th> <td>    0.3278</td> <td>    0.083</td> <td>    3.963</td> <td> 0.000</td> <td>    0.166</td> <td>    0.490</td>\n",
       "</tr>\n",
       "<tr>\n",
       "  <th>ma.L1.D.num_births</th> <td>   -0.6122</td> <td>    0.135</td> <td>   -4.529</td> <td> 0.000</td> <td>   -0.877</td> <td>   -0.347</td>\n",
       "</tr>\n",
       "<tr>\n",
       "  <th>ma.L2.D.num_births</th> <td>   -0.2857</td> <td>    0.121</td> <td>   -2.357</td> <td> 0.019</td> <td>   -0.523</td> <td>   -0.048</td>\n",
       "</tr>\n",
       "</table>\n",
       "<table class=\"simpletable\">\n",
       "<caption>Roots</caption>\n",
       "<tr>\n",
       "    <td></td>   <th>           Real</th> <th>         Imaginary</th> <th>         Modulus</th> <th>        Frequency</th>\n",
       "</tr>\n",
       "<tr>\n",
       "  <th>AR.1</th>               1.5052                    +0.0000j                    1.5052                    0.0000     \n",
       "</tr>\n",
       "<tr>\n",
       "  <th>AR.2</th>              -2.0265                    +0.0000j                    2.0265                    0.5000     \n",
       "</tr>\n",
       "<tr>\n",
       "  <th>MA.1</th>               1.0845                    +0.0000j                    1.0845                    0.0000     \n",
       "</tr>\n",
       "<tr>\n",
       "  <th>MA.2</th>              -3.2270                    +0.0000j                    3.2270                    0.5000     \n",
       "</tr>\n",
       "</table>"
      ],
      "text/plain": [
       "<class 'statsmodels.iolib.summary.Summary'>\n",
       "\"\"\"\n",
       "                             ARIMA Model Results                              \n",
       "==============================================================================\n",
       "Dep. Variable:           D.num_births   No. Observations:                  371\n",
       "Model:                 ARIMA(2, 1, 2)   Log Likelihood               -1539.321\n",
       "Method:                       css-mle   S.D. of innovations             15.321\n",
       "Date:                Wed, 12 Oct 2016   AIC                           3090.642\n",
       "Time:                        14:13:45   BIC                           3114.139\n",
       "Sample:                    02-29-1980   HQIC                          3099.975\n",
       "                         - 12-31-2010                                         \n",
       "======================================================================================\n",
       "                         coef    std err          z      P>|z|      [0.025      0.975]\n",
       "--------------------------------------------------------------------------------------\n",
       "const                 -0.0487      0.167     -0.292      0.770      -0.375       0.278\n",
       "ar.L1.D.num_births     0.1709      0.138      1.240      0.216      -0.099       0.441\n",
       "ar.L2.D.num_births     0.3278      0.083      3.963      0.000       0.166       0.490\n",
       "ma.L1.D.num_births    -0.6122      0.135     -4.529      0.000      -0.877      -0.347\n",
       "ma.L2.D.num_births    -0.2857      0.121     -2.357      0.019      -0.523      -0.048\n",
       "                                    Roots                                    \n",
       "=============================================================================\n",
       "                 Real           Imaginary           Modulus         Frequency\n",
       "-----------------------------------------------------------------------------\n",
       "AR.1            1.5052           +0.0000j            1.5052            0.0000\n",
       "AR.2           -2.0265           +0.0000j            2.0265            0.5000\n",
       "MA.1            1.0845           +0.0000j            1.0845            0.0000\n",
       "MA.2           -3.2270           +0.0000j            3.2270            0.5000\n",
       "-----------------------------------------------------------------------------\n",
       "\"\"\""
      ]
     },
     "execution_count": 22,
     "metadata": {},
     "output_type": "execute_result"
    }
   ],
   "source": [
    "model_arima = sm.tsa.ARIMA(birth['num_births'].astype(float), order=(2,1,2))\n",
    "model_arima.fit().summary()"
   ]
  },
  {
   "cell_type": "code",
   "execution_count": null,
   "metadata": {
    "collapsed": true
   },
   "outputs": [],
   "source": []
  }
 ],
 "metadata": {
  "anaconda-cloud": {},
  "kernelspec": {
   "display_name": "Python [Root]",
   "language": "python",
   "name": "Python [Root]"
  },
  "language_info": {
   "codemirror_mode": {
    "name": "ipython",
    "version": 3
   },
   "file_extension": ".py",
   "mimetype": "text/x-python",
   "name": "python",
   "nbconvert_exporter": "python",
   "pygments_lexer": "ipython3",
   "version": "3.5.2"
  }
 },
 "nbformat": 4,
 "nbformat_minor": 0
}
