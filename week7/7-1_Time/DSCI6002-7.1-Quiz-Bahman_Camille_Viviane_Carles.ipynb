{
 "cells": [
  {
   "cell_type": "markdown",
   "metadata": {},
   "source": [
    "# Quiz 7.1  \n",
    "\n",
    "An electric company is trying to determine the electrical energy needs for the residential customers in its service territory. By identifying certain customer and environmental characteristics, the utility hopes to build a multiple regression model for $Y$, the monthly kilowatthour usage. The independent variables under consideration are  \n",
    "\n",
    "$X_1 =$ Square feet of living space  \n",
    "\n",
    "$X_2 =$ Average monthly temperature  \n",
    "\n",
    "$X_3 =$ Age of residence  \n",
    "\n",
    "$X 4 =$ Proportion of available sunshine hours  \n",
    "\n",
    "The data file is stored in https://s3-us-west-2.amazonaws.com/dsci/6002/data/elec.csv  \n",
    "\n",
    "1) Using backward stepwise regression, build a model to describe electricity usage.  \n",
    "\n",
    "2) Test if the linear regression assumptions are met.  "
   ]
  },
  {
   "cell_type": "code",
   "execution_count": 1,
   "metadata": {
    "collapsed": false
   },
   "outputs": [
    {
     "name": "stdout",
     "output_type": "stream",
     "text": [
      "Populating the interactive namespace from numpy and matplotlib\n"
     ]
    }
   ],
   "source": [
    "%pylab inline\n",
    "\n",
    "import pandas as pd\n",
    "import statsmodels.api as sm\n",
    "import seaborn as sns\n",
    "from statsmodels.graphics.gofplots import qqplot\n",
    "from statsmodels.stats.diagnostic import het_breushpagan\n",
    "from statsmodels.graphics.regressionplots import plot_leverage_resid2"
   ]
  },
  {
   "cell_type": "code",
   "execution_count": 2,
   "metadata": {
    "collapsed": false
   },
   "outputs": [
    {
     "data": {
      "text/html": [
       "<div>\n",
       "<table border=\"1\" class=\"dataframe\">\n",
       "  <thead>\n",
       "    <tr style=\"text-align: right;\">\n",
       "      <th></th>\n",
       "      <th>y</th>\n",
       "      <th>x1</th>\n",
       "      <th>x2</th>\n",
       "      <th>x3</th>\n",
       "      <th>x4</th>\n",
       "    </tr>\n",
       "  </thead>\n",
       "  <tbody>\n",
       "    <tr>\n",
       "      <th>0</th>\n",
       "      <td>1805</td>\n",
       "      <td>950</td>\n",
       "      <td>35</td>\n",
       "      <td>31</td>\n",
       "      <td>0.24</td>\n",
       "    </tr>\n",
       "    <tr>\n",
       "      <th>1</th>\n",
       "      <td>1029</td>\n",
       "      <td>1600</td>\n",
       "      <td>41</td>\n",
       "      <td>27</td>\n",
       "      <td>0.29</td>\n",
       "    </tr>\n",
       "    <tr>\n",
       "      <th>2</th>\n",
       "      <td>1020</td>\n",
       "      <td>2100</td>\n",
       "      <td>48</td>\n",
       "      <td>30</td>\n",
       "      <td>0.31</td>\n",
       "    </tr>\n",
       "    <tr>\n",
       "      <th>3</th>\n",
       "      <td>515</td>\n",
       "      <td>1055</td>\n",
       "      <td>52</td>\n",
       "      <td>29</td>\n",
       "      <td>0.39</td>\n",
       "    </tr>\n",
       "    <tr>\n",
       "      <th>4</th>\n",
       "      <td>942</td>\n",
       "      <td>1250</td>\n",
       "      <td>60</td>\n",
       "      <td>18</td>\n",
       "      <td>0.40</td>\n",
       "    </tr>\n",
       "  </tbody>\n",
       "</table>\n",
       "</div>"
      ],
      "text/plain": [
       "      y    x1  x2  x3    x4\n",
       "0  1805   950  35  31  0.24\n",
       "1  1029  1600  41  27  0.29\n",
       "2  1020  2100  48  30  0.31\n",
       "3   515  1055  52  29  0.39\n",
       "4   942  1250  60  18  0.40"
      ]
     },
     "execution_count": 2,
     "metadata": {},
     "output_type": "execute_result"
    }
   ],
   "source": [
    "elec = pd.read_csv('https://s3-us-west-2.amazonaws.com/dsci/6002/data/elec.csv')\n",
    "elec.head()"
   ]
  },
  {
   "cell_type": "code",
   "execution_count": 3,
   "metadata": {
    "collapsed": false
   },
   "outputs": [
    {
     "data": {
      "text/html": [
       "<div>\n",
       "<table border=\"1\" class=\"dataframe\">\n",
       "  <thead>\n",
       "    <tr style=\"text-align: right;\">\n",
       "      <th></th>\n",
       "      <th>y</th>\n",
       "      <th>x1</th>\n",
       "      <th>x2</th>\n",
       "      <th>x3</th>\n",
       "      <th>x4</th>\n",
       "    </tr>\n",
       "  </thead>\n",
       "  <tbody>\n",
       "    <tr>\n",
       "      <th>count</th>\n",
       "      <td>24.000000</td>\n",
       "      <td>24.000000</td>\n",
       "      <td>24.000000</td>\n",
       "      <td>24.000000</td>\n",
       "      <td>24.000000</td>\n",
       "    </tr>\n",
       "    <tr>\n",
       "      <th>mean</th>\n",
       "      <td>1542.916667</td>\n",
       "      <td>1851.666667</td>\n",
       "      <td>59.416667</td>\n",
       "      <td>17.083333</td>\n",
       "      <td>0.438333</td>\n",
       "    </tr>\n",
       "    <tr>\n",
       "      <th>std</th>\n",
       "      <td>756.836546</td>\n",
       "      <td>813.545203</td>\n",
       "      <td>18.004629</td>\n",
       "      <td>9.431292</td>\n",
       "      <td>0.167713</td>\n",
       "    </tr>\n",
       "    <tr>\n",
       "      <th>min</th>\n",
       "      <td>515.000000</td>\n",
       "      <td>875.000000</td>\n",
       "      <td>33.000000</td>\n",
       "      <td>2.000000</td>\n",
       "      <td>0.240000</td>\n",
       "    </tr>\n",
       "    <tr>\n",
       "      <th>25%</th>\n",
       "      <td>969.750000</td>\n",
       "      <td>1241.250000</td>\n",
       "      <td>45.750000</td>\n",
       "      <td>10.750000</td>\n",
       "      <td>0.307500</td>\n",
       "    </tr>\n",
       "    <tr>\n",
       "      <th>50%</th>\n",
       "      <td>1333.000000</td>\n",
       "      <td>1737.500000</td>\n",
       "      <td>56.000000</td>\n",
       "      <td>16.500000</td>\n",
       "      <td>0.380000</td>\n",
       "    </tr>\n",
       "    <tr>\n",
       "      <th>75%</th>\n",
       "      <td>1875.250000</td>\n",
       "      <td>2120.000000</td>\n",
       "      <td>73.000000</td>\n",
       "      <td>26.250000</td>\n",
       "      <td>0.582500</td>\n",
       "    </tr>\n",
       "    <tr>\n",
       "      <th>max</th>\n",
       "      <td>3217.000000</td>\n",
       "      <td>4100.000000</td>\n",
       "      <td>89.000000</td>\n",
       "      <td>32.000000</td>\n",
       "      <td>0.800000</td>\n",
       "    </tr>\n",
       "  </tbody>\n",
       "</table>\n",
       "</div>"
      ],
      "text/plain": [
       "                 y           x1         x2         x3         x4\n",
       "count    24.000000    24.000000  24.000000  24.000000  24.000000\n",
       "mean   1542.916667  1851.666667  59.416667  17.083333   0.438333\n",
       "std     756.836546   813.545203  18.004629   9.431292   0.167713\n",
       "min     515.000000   875.000000  33.000000   2.000000   0.240000\n",
       "25%     969.750000  1241.250000  45.750000  10.750000   0.307500\n",
       "50%    1333.000000  1737.500000  56.000000  16.500000   0.380000\n",
       "75%    1875.250000  2120.000000  73.000000  26.250000   0.582500\n",
       "max    3217.000000  4100.000000  89.000000  32.000000   0.800000"
      ]
     },
     "execution_count": 3,
     "metadata": {},
     "output_type": "execute_result"
    }
   ],
   "source": [
    "elec.describe()"
   ]
  },
  {
   "cell_type": "code",
   "execution_count": 4,
   "metadata": {
    "collapsed": false
   },
   "outputs": [
    {
     "data": {
      "text/html": [
       "<table class=\"simpletable\">\n",
       "<caption>OLS Regression Results</caption>\n",
       "<tr>\n",
       "  <th>Dep. Variable:</th>            <td>y</td>        <th>  R-squared:         </th> <td>   0.717</td>\n",
       "</tr>\n",
       "<tr>\n",
       "  <th>Model:</th>                   <td>OLS</td>       <th>  Adj. R-squared:    </th> <td>   0.657</td>\n",
       "</tr>\n",
       "<tr>\n",
       "  <th>Method:</th>             <td>Least Squares</td>  <th>  F-statistic:       </th> <td>   12.04</td>\n",
       "</tr>\n",
       "<tr>\n",
       "  <th>Date:</th>             <td>Mon, 10 Oct 2016</td> <th>  Prob (F-statistic):</th> <td>4.83e-05</td>\n",
       "</tr>\n",
       "<tr>\n",
       "  <th>Time:</th>                 <td>13:50:42</td>     <th>  Log-Likelihood:    </th> <td> -177.49</td>\n",
       "</tr>\n",
       "<tr>\n",
       "  <th>No. Observations:</th>      <td>    24</td>      <th>  AIC:               </th> <td>   365.0</td>\n",
       "</tr>\n",
       "<tr>\n",
       "  <th>Df Residuals:</th>          <td>    19</td>      <th>  BIC:               </th> <td>   370.9</td>\n",
       "</tr>\n",
       "<tr>\n",
       "  <th>Df Model:</th>              <td>     4</td>      <th>                     </th>     <td> </td>   \n",
       "</tr>\n",
       "<tr>\n",
       "  <th>Covariance Type:</th>      <td>nonrobust</td>    <th>                     </th>     <td> </td>   \n",
       "</tr>\n",
       "</table>\n",
       "<table class=\"simpletable\">\n",
       "<tr>\n",
       "    <td></td>       <th>coef</th>     <th>std err</th>      <th>t</th>      <th>P>|t|</th> <th>[95.0% Conf. Int.]</th> \n",
       "</tr>\n",
       "<tr>\n",
       "  <th>const</th> <td> -177.3477</td> <td>  482.664</td> <td>   -0.367</td> <td> 0.717</td> <td>-1187.575   832.880</td>\n",
       "</tr>\n",
       "<tr>\n",
       "  <th>x1</th>    <td>    0.6625</td> <td>    0.125</td> <td>    5.291</td> <td> 0.000</td> <td>    0.400     0.925</td>\n",
       "</tr>\n",
       "<tr>\n",
       "  <th>x2</th>    <td>   -8.0370</td> <td>   11.107</td> <td>   -0.724</td> <td> 0.478</td> <td>  -31.285    15.211</td>\n",
       "</tr>\n",
       "<tr>\n",
       "  <th>x3</th>    <td>   -3.0830</td> <td>   11.615</td> <td>   -0.265</td> <td> 0.794</td> <td>  -27.394    21.228</td>\n",
       "</tr>\n",
       "<tr>\n",
       "  <th>x4</th>    <td> 2335.6939</td> <td> 1237.745</td> <td>    1.887</td> <td> 0.075</td> <td> -254.937  4926.325</td>\n",
       "</tr>\n",
       "</table>\n",
       "<table class=\"simpletable\">\n",
       "<tr>\n",
       "  <th>Omnibus:</th>       <td>13.481</td> <th>  Durbin-Watson:     </th> <td>   1.780</td>\n",
       "</tr>\n",
       "<tr>\n",
       "  <th>Prob(Omnibus):</th> <td> 0.001</td> <th>  Jarque-Bera (JB):  </th> <td>  12.357</td>\n",
       "</tr>\n",
       "<tr>\n",
       "  <th>Skew:</th>          <td> 1.482</td> <th>  Prob(JB):          </th> <td> 0.00207</td>\n",
       "</tr>\n",
       "<tr>\n",
       "  <th>Kurtosis:</th>      <td> 4.890</td> <th>  Cond. No.          </th> <td>2.77e+04</td>\n",
       "</tr>\n",
       "</table>"
      ],
      "text/plain": [
       "<class 'statsmodels.iolib.summary.Summary'>\n",
       "\"\"\"\n",
       "                            OLS Regression Results                            \n",
       "==============================================================================\n",
       "Dep. Variable:                      y   R-squared:                       0.717\n",
       "Model:                            OLS   Adj. R-squared:                  0.657\n",
       "Method:                 Least Squares   F-statistic:                     12.04\n",
       "Date:                Mon, 10 Oct 2016   Prob (F-statistic):           4.83e-05\n",
       "Time:                        13:50:42   Log-Likelihood:                -177.49\n",
       "No. Observations:                  24   AIC:                             365.0\n",
       "Df Residuals:                      19   BIC:                             370.9\n",
       "Df Model:                           4                                         \n",
       "Covariance Type:            nonrobust                                         \n",
       "==============================================================================\n",
       "                 coef    std err          t      P>|t|      [95.0% Conf. Int.]\n",
       "------------------------------------------------------------------------------\n",
       "const       -177.3477    482.664     -0.367      0.717     -1187.575   832.880\n",
       "x1             0.6625      0.125      5.291      0.000         0.400     0.925\n",
       "x2            -8.0370     11.107     -0.724      0.478       -31.285    15.211\n",
       "x3            -3.0830     11.615     -0.265      0.794       -27.394    21.228\n",
       "x4          2335.6939   1237.745      1.887      0.075      -254.937  4926.325\n",
       "==============================================================================\n",
       "Omnibus:                       13.481   Durbin-Watson:                   1.780\n",
       "Prob(Omnibus):                  0.001   Jarque-Bera (JB):               12.357\n",
       "Skew:                           1.482   Prob(JB):                      0.00207\n",
       "Kurtosis:                       4.890   Cond. No.                     2.77e+04\n",
       "==============================================================================\n",
       "\n",
       "Warnings:\n",
       "[1] Standard Errors assume that the covariance matrix of the errors is correctly specified.\n",
       "[2] The condition number is large, 2.77e+04. This might indicate that there are\n",
       "strong multicollinearity or other numerical problems.\n",
       "\"\"\""
      ]
     },
     "execution_count": 4,
     "metadata": {},
     "output_type": "execute_result"
    }
   ],
   "source": [
    "X_1 = elec[['x1', 'x2', 'x3', 'x4']]\n",
    "X_1 = sm.add_constant(X_1)\n",
    "y_1 = elec['y']\n",
    "\n",
    "model_1 = sm.OLS(y_1, X_1)\n",
    "results_1 = model_1.fit()\n",
    "results_1.summary()"
   ]
  },
  {
   "cell_type": "code",
   "execution_count": 5,
   "metadata": {
    "collapsed": false
   },
   "outputs": [
    {
     "data": {
      "text/html": [
       "<table class=\"simpletable\">\n",
       "<caption>OLS Regression Results</caption>\n",
       "<tr>\n",
       "  <th>Dep. Variable:</th>            <td>y</td>        <th>  R-squared:         </th> <td>   0.716</td>\n",
       "</tr>\n",
       "<tr>\n",
       "  <th>Model:</th>                   <td>OLS</td>       <th>  Adj. R-squared:    </th> <td>   0.673</td>\n",
       "</tr>\n",
       "<tr>\n",
       "  <th>Method:</th>             <td>Least Squares</td>  <th>  F-statistic:       </th> <td>   16.81</td>\n",
       "</tr>\n",
       "<tr>\n",
       "  <th>Date:</th>             <td>Mon, 10 Oct 2016</td> <th>  Prob (F-statistic):</th> <td>1.09e-05</td>\n",
       "</tr>\n",
       "<tr>\n",
       "  <th>Time:</th>                 <td>13:50:42</td>     <th>  Log-Likelihood:    </th> <td> -177.54</td>\n",
       "</tr>\n",
       "<tr>\n",
       "  <th>No. Observations:</th>      <td>    24</td>      <th>  AIC:               </th> <td>   363.1</td>\n",
       "</tr>\n",
       "<tr>\n",
       "  <th>Df Residuals:</th>          <td>    20</td>      <th>  BIC:               </th> <td>   367.8</td>\n",
       "</tr>\n",
       "<tr>\n",
       "  <th>Df Model:</th>              <td>     3</td>      <th>                     </th>     <td> </td>   \n",
       "</tr>\n",
       "<tr>\n",
       "  <th>Covariance Type:</th>      <td>nonrobust</td>    <th>                     </th>     <td> </td>   \n",
       "</tr>\n",
       "</table>\n",
       "<table class=\"simpletable\">\n",
       "<tr>\n",
       "    <td></td>       <th>coef</th>     <th>std err</th>      <th>t</th>      <th>P>|t|</th> <th>[95.0% Conf. Int.]</th> \n",
       "</tr>\n",
       "<tr>\n",
       "  <th>const</th> <td> -262.2157</td> <td>  353.066</td> <td>   -0.743</td> <td> 0.466</td> <td> -998.699   474.267</td>\n",
       "</tr>\n",
       "<tr>\n",
       "  <th>x1</th>    <td>    0.6756</td> <td>    0.112</td> <td>    6.019</td> <td> 0.000</td> <td>    0.442     0.910</td>\n",
       "</tr>\n",
       "<tr>\n",
       "  <th>x2</th>    <td>   -8.8422</td> <td>   10.434</td> <td>   -0.847</td> <td> 0.407</td> <td>  -30.606    12.922</td>\n",
       "</tr>\n",
       "<tr>\n",
       "  <th>x4</th>    <td> 2462.6239</td> <td> 1114.790</td> <td>    2.209</td> <td> 0.039</td> <td>  137.213  4788.034</td>\n",
       "</tr>\n",
       "</table>\n",
       "<table class=\"simpletable\">\n",
       "<tr>\n",
       "  <th>Omnibus:</th>       <td>12.258</td> <th>  Durbin-Watson:     </th> <td>   1.775</td>\n",
       "</tr>\n",
       "<tr>\n",
       "  <th>Prob(Omnibus):</th> <td> 0.002</td> <th>  Jarque-Bera (JB):  </th> <td>  10.661</td>\n",
       "</tr>\n",
       "<tr>\n",
       "  <th>Skew:</th>          <td> 1.418</td> <th>  Prob(JB):          </th> <td> 0.00484</td>\n",
       "</tr>\n",
       "<tr>\n",
       "  <th>Kurtosis:</th>      <td> 4.618</td> <th>  Cond. No.          </th> <td>2.55e+04</td>\n",
       "</tr>\n",
       "</table>"
      ],
      "text/plain": [
       "<class 'statsmodels.iolib.summary.Summary'>\n",
       "\"\"\"\n",
       "                            OLS Regression Results                            \n",
       "==============================================================================\n",
       "Dep. Variable:                      y   R-squared:                       0.716\n",
       "Model:                            OLS   Adj. R-squared:                  0.673\n",
       "Method:                 Least Squares   F-statistic:                     16.81\n",
       "Date:                Mon, 10 Oct 2016   Prob (F-statistic):           1.09e-05\n",
       "Time:                        13:50:42   Log-Likelihood:                -177.54\n",
       "No. Observations:                  24   AIC:                             363.1\n",
       "Df Residuals:                      20   BIC:                             367.8\n",
       "Df Model:                           3                                         \n",
       "Covariance Type:            nonrobust                                         \n",
       "==============================================================================\n",
       "                 coef    std err          t      P>|t|      [95.0% Conf. Int.]\n",
       "------------------------------------------------------------------------------\n",
       "const       -262.2157    353.066     -0.743      0.466      -998.699   474.267\n",
       "x1             0.6756      0.112      6.019      0.000         0.442     0.910\n",
       "x2            -8.8422     10.434     -0.847      0.407       -30.606    12.922\n",
       "x4          2462.6239   1114.790      2.209      0.039       137.213  4788.034\n",
       "==============================================================================\n",
       "Omnibus:                       12.258   Durbin-Watson:                   1.775\n",
       "Prob(Omnibus):                  0.002   Jarque-Bera (JB):               10.661\n",
       "Skew:                           1.418   Prob(JB):                      0.00484\n",
       "Kurtosis:                       4.618   Cond. No.                     2.55e+04\n",
       "==============================================================================\n",
       "\n",
       "Warnings:\n",
       "[1] Standard Errors assume that the covariance matrix of the errors is correctly specified.\n",
       "[2] The condition number is large, 2.55e+04. This might indicate that there are\n",
       "strong multicollinearity or other numerical problems.\n",
       "\"\"\""
      ]
     },
     "execution_count": 5,
     "metadata": {},
     "output_type": "execute_result"
    }
   ],
   "source": [
    "X_2 = elec[['x1', 'x2', 'x4']]\n",
    "X_2 = sm.add_constant(X_2)\n",
    "y_2 = elec['y']\n",
    "\n",
    "model_2 = sm.OLS(y_2, X_2)\n",
    "results_2 = model_2.fit()\n",
    "results_2.summary()"
   ]
  },
  {
   "cell_type": "code",
   "execution_count": 6,
   "metadata": {
    "collapsed": false
   },
   "outputs": [
    {
     "data": {
      "text/html": [
       "<table class=\"simpletable\">\n",
       "<caption>OLS Regression Results</caption>\n",
       "<tr>\n",
       "  <th>Dep. Variable:</th>            <td>y</td>        <th>  R-squared:         </th> <td>   0.706</td>\n",
       "</tr>\n",
       "<tr>\n",
       "  <th>Model:</th>                   <td>OLS</td>       <th>  Adj. R-squared:    </th> <td>   0.678</td>\n",
       "</tr>\n",
       "<tr>\n",
       "  <th>Method:</th>             <td>Least Squares</td>  <th>  F-statistic:       </th> <td>   25.19</td>\n",
       "</tr>\n",
       "<tr>\n",
       "  <th>Date:</th>             <td>Mon, 10 Oct 2016</td> <th>  Prob (F-statistic):</th> <td>2.64e-06</td>\n",
       "</tr>\n",
       "<tr>\n",
       "  <th>Time:</th>                 <td>13:50:42</td>     <th>  Log-Likelihood:    </th> <td> -177.96</td>\n",
       "</tr>\n",
       "<tr>\n",
       "  <th>No. Observations:</th>      <td>    24</td>      <th>  AIC:               </th> <td>   361.9</td>\n",
       "</tr>\n",
       "<tr>\n",
       "  <th>Df Residuals:</th>          <td>    21</td>      <th>  BIC:               </th> <td>   365.5</td>\n",
       "</tr>\n",
       "<tr>\n",
       "  <th>Df Model:</th>              <td>     2</td>      <th>                     </th>     <td> </td>   \n",
       "</tr>\n",
       "<tr>\n",
       "  <th>Covariance Type:</th>      <td>nonrobust</td>    <th>                     </th>     <td> </td>   \n",
       "</tr>\n",
       "</table>\n",
       "<table class=\"simpletable\">\n",
       "<tr>\n",
       "    <td></td>       <th>coef</th>     <th>std err</th>      <th>t</th>      <th>P>|t|</th> <th>[95.0% Conf. Int.]</th> \n",
       "</tr>\n",
       "<tr>\n",
       "  <th>const</th> <td> -407.6312</td> <td>  306.489</td> <td>   -1.330</td> <td> 0.198</td> <td>-1045.010   229.748</td>\n",
       "</tr>\n",
       "<tr>\n",
       "  <th>x1</th>    <td>    0.6659</td> <td>    0.111</td> <td>    6.005</td> <td> 0.000</td> <td>    0.435     0.897</td>\n",
       "</tr>\n",
       "<tr>\n",
       "  <th>x4</th>    <td> 1636.8710</td> <td>  537.970</td> <td>    3.043</td> <td> 0.006</td> <td>  518.102  2755.640</td>\n",
       "</tr>\n",
       "</table>\n",
       "<table class=\"simpletable\">\n",
       "<tr>\n",
       "  <th>Omnibus:</th>       <td>11.393</td> <th>  Durbin-Watson:     </th> <td>   1.653</td>\n",
       "</tr>\n",
       "<tr>\n",
       "  <th>Prob(Omnibus):</th> <td> 0.003</td> <th>  Jarque-Bera (JB):  </th> <td>   9.572</td>\n",
       "</tr>\n",
       "<tr>\n",
       "  <th>Skew:</th>          <td> 1.355</td> <th>  Prob(JB):          </th> <td> 0.00835</td>\n",
       "</tr>\n",
       "<tr>\n",
       "  <th>Kurtosis:</th>      <td> 4.493</td> <th>  Cond. No.          </th> <td>1.34e+04</td>\n",
       "</tr>\n",
       "</table>"
      ],
      "text/plain": [
       "<class 'statsmodels.iolib.summary.Summary'>\n",
       "\"\"\"\n",
       "                            OLS Regression Results                            \n",
       "==============================================================================\n",
       "Dep. Variable:                      y   R-squared:                       0.706\n",
       "Model:                            OLS   Adj. R-squared:                  0.678\n",
       "Method:                 Least Squares   F-statistic:                     25.19\n",
       "Date:                Mon, 10 Oct 2016   Prob (F-statistic):           2.64e-06\n",
       "Time:                        13:50:42   Log-Likelihood:                -177.96\n",
       "No. Observations:                  24   AIC:                             361.9\n",
       "Df Residuals:                      21   BIC:                             365.5\n",
       "Df Model:                           2                                         \n",
       "Covariance Type:            nonrobust                                         \n",
       "==============================================================================\n",
       "                 coef    std err          t      P>|t|      [95.0% Conf. Int.]\n",
       "------------------------------------------------------------------------------\n",
       "const       -407.6312    306.489     -1.330      0.198     -1045.010   229.748\n",
       "x1             0.6659      0.111      6.005      0.000         0.435     0.897\n",
       "x4          1636.8710    537.970      3.043      0.006       518.102  2755.640\n",
       "==============================================================================\n",
       "Omnibus:                       11.393   Durbin-Watson:                   1.653\n",
       "Prob(Omnibus):                  0.003   Jarque-Bera (JB):                9.572\n",
       "Skew:                           1.355   Prob(JB):                      0.00835\n",
       "Kurtosis:                       4.493   Cond. No.                     1.34e+04\n",
       "==============================================================================\n",
       "\n",
       "Warnings:\n",
       "[1] Standard Errors assume that the covariance matrix of the errors is correctly specified.\n",
       "[2] The condition number is large, 1.34e+04. This might indicate that there are\n",
       "strong multicollinearity or other numerical problems.\n",
       "\"\"\""
      ]
     },
     "execution_count": 6,
     "metadata": {},
     "output_type": "execute_result"
    }
   ],
   "source": [
    "X_3 = elec[['x1', 'x4']]\n",
    "X_3 = sm.add_constant(X_3)\n",
    "y_3 = elec['y']\n",
    "\n",
    "model_3 = sm.OLS(y_3, X_3)\n",
    "results_3 = model_3.fit()\n",
    "results_3.summary()"
   ]
  },
  {
   "cell_type": "code",
   "execution_count": 7,
   "metadata": {
    "collapsed": false
   },
   "outputs": [
    {
     "data": {
      "image/png": "[encoded data removed]",
      "text/plain": [
       "<matplotlib.figure.Figure at 0x1177e9240>"
      ]
     },
     "metadata": {},
     "output_type": "display_data"
    }
   ],
   "source": [
    "sns.residplot(results_3.fittedvalues, results_3.resid_pearson, elec);"
   ]
  },
  {
   "cell_type": "markdown",
   "metadata": {},
   "source": [
    "Residuals seem to be linear."
   ]
  },
  {
   "cell_type": "code",
   "execution_count": 8,
   "metadata": {
    "collapsed": false
   },
   "outputs": [
    {
     "data": {
      "image/png": "[encoded data removed]",
      "text/plain": [
       "<matplotlib.figure.Figure at 0x11791f438>"
      ]
     },
     "metadata": {},
     "output_type": "display_data"
    }
   ],
   "source": [
    "sres = results_3.resid_pearson\n",
    "qqplot(sres)\n",
    "q = linspace(-3, 3)\n",
    "plot(q, q, color='r');"
   ]
  },
  {
   "cell_type": "markdown",
   "metadata": {},
   "source": [
    "Not Normal. Also confirmed by Jarque-Bera p-value (less than 0.05)."
   ]
  },
  {
   "cell_type": "code",
   "execution_count": 9,
   "metadata": {
    "collapsed": false
   },
   "outputs": [
    {
     "data": {
      "text/plain": [
       "(1.1183396450197138,\n",
       " 0.57168346564738881,\n",
       " 0.51318680945944506,\n",
       " 0.60590017492896742)"
      ]
     },
     "execution_count": 9,
     "metadata": {},
     "output_type": "execute_result"
    }
   ],
   "source": [
    "het_breushpagan(results_3.resid_pearson, results_3.model.exog) # we need to look at 2nd p-value"
   ]
  },
  {
   "cell_type": "markdown",
   "metadata": {},
   "source": [
    "The p-value of 0.57168346564738881 is more than 0.05, therefore we fail to reject non heteroskedasticity."
   ]
  },
  {
   "cell_type": "code",
   "execution_count": 10,
   "metadata": {
    "collapsed": false
   },
   "outputs": [
    {
     "data": {
      "text/html": [
       "<table class=\"simpletable\">\n",
       "<caption>OLS Regression Results</caption>\n",
       "<tr>\n",
       "  <th>Dep. Variable:</th>            <td>y</td>        <th>  R-squared:         </th> <td>   0.618</td>\n",
       "</tr>\n",
       "<tr>\n",
       "  <th>Model:</th>                   <td>OLS</td>       <th>  Adj. R-squared:    </th> <td>   0.581</td>\n",
       "</tr>\n",
       "<tr>\n",
       "  <th>Method:</th>             <td>Least Squares</td>  <th>  F-statistic:       </th> <td>   16.96</td>\n",
       "</tr>\n",
       "<tr>\n",
       "  <th>Date:</th>             <td>Mon, 10 Oct 2016</td> <th>  Prob (F-statistic):</th> <td>4.13e-05</td>\n",
       "</tr>\n",
       "<tr>\n",
       "  <th>Time:</th>                 <td>13:50:43</td>     <th>  Log-Likelihood:    </th> <td> -4.2046</td>\n",
       "</tr>\n",
       "<tr>\n",
       "  <th>No. Observations:</th>      <td>    24</td>      <th>  AIC:               </th> <td>   14.41</td>\n",
       "</tr>\n",
       "<tr>\n",
       "  <th>Df Residuals:</th>          <td>    21</td>      <th>  BIC:               </th> <td>   17.94</td>\n",
       "</tr>\n",
       "<tr>\n",
       "  <th>Df Model:</th>              <td>     2</td>      <th>                     </th>     <td> </td>   \n",
       "</tr>\n",
       "<tr>\n",
       "  <th>Covariance Type:</th>      <td>nonrobust</td>    <th>                     </th>     <td> </td>   \n",
       "</tr>\n",
       "</table>\n",
       "<table class=\"simpletable\">\n",
       "<tr>\n",
       "    <td></td>       <th>coef</th>     <th>std err</th>      <th>t</th>      <th>P>|t|</th> <th>[95.0% Conf. Int.]</th> \n",
       "</tr>\n",
       "<tr>\n",
       "  <th>const</th> <td>    6.0930</td> <td>    0.220</td> <td>   27.712</td> <td> 0.000</td> <td>    5.636     6.550</td>\n",
       "</tr>\n",
       "<tr>\n",
       "  <th>x1</th>    <td>    0.0004</td> <td> 7.96e-05</td> <td>    4.988</td> <td> 0.000</td> <td>    0.000     0.001</td>\n",
       "</tr>\n",
       "<tr>\n",
       "  <th>x4</th>    <td>    0.9227</td> <td>    0.386</td> <td>    2.391</td> <td> 0.026</td> <td>    0.120     1.725</td>\n",
       "</tr>\n",
       "</table>\n",
       "<table class=\"simpletable\">\n",
       "<tr>\n",
       "  <th>Omnibus:</th>       <td> 4.876</td> <th>  Durbin-Watson:     </th> <td>   1.374</td>\n",
       "</tr>\n",
       "<tr>\n",
       "  <th>Prob(Omnibus):</th> <td> 0.087</td> <th>  Jarque-Bera (JB):  </th> <td>   2.937</td>\n",
       "</tr>\n",
       "<tr>\n",
       "  <th>Skew:</th>          <td> 0.627</td> <th>  Prob(JB):          </th> <td>   0.230</td>\n",
       "</tr>\n",
       "<tr>\n",
       "  <th>Kurtosis:</th>      <td> 4.169</td> <th>  Cond. No.          </th> <td>1.34e+04</td>\n",
       "</tr>\n",
       "</table>"
      ],
      "text/plain": [
       "<class 'statsmodels.iolib.summary.Summary'>\n",
       "\"\"\"\n",
       "                            OLS Regression Results                            \n",
       "==============================================================================\n",
       "Dep. Variable:                      y   R-squared:                       0.618\n",
       "Model:                            OLS   Adj. R-squared:                  0.581\n",
       "Method:                 Least Squares   F-statistic:                     16.96\n",
       "Date:                Mon, 10 Oct 2016   Prob (F-statistic):           4.13e-05\n",
       "Time:                        13:50:43   Log-Likelihood:                -4.2046\n",
       "No. Observations:                  24   AIC:                             14.41\n",
       "Df Residuals:                      21   BIC:                             17.94\n",
       "Df Model:                           2                                         \n",
       "Covariance Type:            nonrobust                                         \n",
       "==============================================================================\n",
       "                 coef    std err          t      P>|t|      [95.0% Conf. Int.]\n",
       "------------------------------------------------------------------------------\n",
       "const          6.0930      0.220     27.712      0.000         5.636     6.550\n",
       "x1             0.0004   7.96e-05      4.988      0.000         0.000     0.001\n",
       "x4             0.9227      0.386      2.391      0.026         0.120     1.725\n",
       "==============================================================================\n",
       "Omnibus:                        4.876   Durbin-Watson:                   1.374\n",
       "Prob(Omnibus):                  0.087   Jarque-Bera (JB):                2.937\n",
       "Skew:                           0.627   Prob(JB):                        0.230\n",
       "Kurtosis:                       4.169   Cond. No.                     1.34e+04\n",
       "==============================================================================\n",
       "\n",
       "Warnings:\n",
       "[1] Standard Errors assume that the covariance matrix of the errors is correctly specified.\n",
       "[2] The condition number is large, 1.34e+04. This might indicate that there are\n",
       "strong multicollinearity or other numerical problems.\n",
       "\"\"\""
      ]
     },
     "execution_count": 10,
     "metadata": {},
     "output_type": "execute_result"
    }
   ],
   "source": [
    "X_4 = elec[['x1', 'x4']]\n",
    "X_4 = sm.add_constant(X_4)\n",
    "y_4 = log(elec['y'])\n",
    "\n",
    "model_4 = sm.OLS(y_4, X_4)\n",
    "results_4 = model_4.fit()\n",
    "results_4.summary()"
   ]
  },
  {
   "cell_type": "code",
   "execution_count": 11,
   "metadata": {
    "collapsed": false
   },
   "outputs": [
    {
     "data": {
      "image/png": "[encoded data removed]",
      "text/plain": [
       "<matplotlib.figure.Figure at 0x1179b3080>"
      ]
     },
     "metadata": {},
     "output_type": "display_data"
    }
   ],
   "source": [
    "sns.residplot(results_4.fittedvalues, results_4.resid_pearson, elec);"
   ]
  },
  {
   "cell_type": "markdown",
   "metadata": {},
   "source": [
    "Much better residuals, more random."
   ]
  },
  {
   "cell_type": "code",
   "execution_count": 12,
   "metadata": {
    "collapsed": false
   },
   "outputs": [
    {
     "data": {
      "image/png": "[encoded data removed]",
      "text/plain": [
       "<matplotlib.figure.Figure at 0x1178e3748>"
      ]
     },
     "execution_count": 12,
     "metadata": {},
     "output_type": "execute_result"
    },
    {
     "data": {
      "image/png": "[encoded data removed]",
      "text/plain": [
       "<matplotlib.figure.Figure at 0x1178e3748>"
      ]
     },
     "metadata": {},
     "output_type": "display_data"
    }
   ],
   "source": [
    "plot_leverage_resid2(results_3)"
   ]
  },
  {
   "cell_type": "code",
   "execution_count": 13,
   "metadata": {
    "collapsed": false
   },
   "outputs": [
    {
     "data": {
      "image/png": "[encoded data removed]",
      "text/plain": [
       "<matplotlib.figure.Figure at 0x11d4f5d30>"
      ]
     },
     "metadata": {},
     "output_type": "display_data"
    }
   ],
   "source": [
    "sres = results_4.resid_pearson\n",
    "qqplot(sres)\n",
    "q = linspace(-3, 3)\n",
    "plot(q, q, color='r');"
   ]
  },
  {
   "cell_type": "code",
   "execution_count": 14,
   "metadata": {
    "collapsed": false
   },
   "outputs": [
    {
     "data": {
      "text/plain": [
       "(4.10436203890269, 0.12845443622258004, 2.1660929643344486, 0.1395531333391995)"
      ]
     },
     "execution_count": 14,
     "metadata": {},
     "output_type": "execute_result"
    }
   ],
   "source": [
    "het_breushpagan(results_4.resid_pearson, results_4.model.exog) # we need to look at 2nd p-value"
   ]
  },
  {
   "cell_type": "code",
   "execution_count": null,
   "metadata": {
    "collapsed": true
   },
   "outputs": [],
   "source": []
  }
 ],
 "metadata": {
  "anaconda-cloud": {},
  "kernelspec": {
   "display_name": "Python [Root]",
   "language": "python",
   "name": "Python [Root]"
  },
  "language_info": {
   "codemirror_mode": {
    "name": "ipython",
    "version": 3
   },
   "file_extension": ".py",
   "mimetype": "text/x-python",
   "name": "python",
   "nbconvert_exporter": "python",
   "pygments_lexer": "ipython3",
   "version": "3.5.2"
  }
 },
 "nbformat": 4,
 "nbformat_minor": 0
}
