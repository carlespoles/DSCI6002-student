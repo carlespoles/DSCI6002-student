{
 "cells": [
  {
   "cell_type": "markdown",
   "metadata": {},
   "source": [
    "# Lab 1.3: Exploratory Data Analysis (EDA) with Pandas\n",
    "\n",
    "## Outline\n",
    "\n",
    "* Introduction to Pandas\n",
    "* EDA using Pandas\n",
    "\n",
    "Exploratory data analysis is a first crucial step to building predictive models from your data. EDA allows you\n",
    "to confirm or invalidate some of the assumptions you are making about your data and understand relationships between your variables."
   ]
  },
  {
   "cell_type": "markdown",
   "metadata": {},
   "source": [
    "## Getting Started with [Pandas](http://pandas.pydata.org/pandas-docs/version/0.17.1/)\n",
    "\n",
    "### What is Pandas?\n",
    "A Python library providing data structures and data analysis tools.\n",
    "\n",
    "### Huh?\n",
    "Think of it like Excel for Python but better."
   ]
  },
  {
   "cell_type": "code",
   "execution_count": 2,
   "metadata": {
    "collapsed": true
   },
   "outputs": [],
   "source": [
    "#By convention import pandas like:\n",
    "import pandas as pd"
   ]
  },
  {
   "cell_type": "code",
   "execution_count": 3,
   "metadata": {
    "collapsed": true
   },
   "outputs": [],
   "source": [
    "#For fake data.\n",
    "from numpy.random import randn\n",
    "import numpy as np"
   ]
  },
  {
   "cell_type": "markdown",
   "metadata": {},
   "source": [
    "## Series\n",
    "Think of a Pandas Series as a _labeled_ one-dimensional vector. In fact, it need not be a numeric vector, it can contain arbitrary python objects."
   ]
  },
  {
   "cell_type": "code",
   "execution_count": 76,
   "metadata": {
    "collapsed": false
   },
   "outputs": [
    {
     "data": {
      "text/plain": [
       "0    0\n",
       "1    1\n",
       "2    2\n",
       "3    3\n",
       "4    4\n",
       "dtype: int64"
      ]
     },
     "execution_count": 76,
     "metadata": {},
     "output_type": "execute_result"
    }
   ],
   "source": [
    "int_series = pd.Series(range(10))\n",
    "int_series.head()"
   ]
  },
  {
   "cell_type": "code",
   "execution_count": 77,
   "metadata": {
    "collapsed": false
   },
   "outputs": [
    {
     "data": {
      "text/plain": [
       "0   -1.001748\n",
       "1   -0.546457\n",
       "2    0.600147\n",
       "3    0.005437\n",
       "4   -1.465920\n",
       "dtype: float64"
      ]
     },
     "execution_count": 77,
     "metadata": {},
     "output_type": "execute_result"
    }
   ],
   "source": [
    "num_series = pd.Series(randn(10))\n",
    "num_series.head()"
   ]
  },
  {
   "cell_type": "code",
   "execution_count": 78,
   "metadata": {
    "collapsed": false
   },
   "outputs": [
    {
     "data": {
      "text/plain": [
       "0    a\n",
       "1    b\n",
       "2    c\n",
       "3    d\n",
       "4    e\n",
       "dtype: object"
      ]
     },
     "execution_count": 78,
     "metadata": {},
     "output_type": "execute_result"
    }
   ],
   "source": [
    "str_series = pd.Series([x for x in 'abcde'*2])\n",
    "str_series.head()"
   ]
  },
  {
   "cell_type": "markdown",
   "metadata": {},
   "source": [
    "## Indexes\n",
    "Notice how each series has an index (in this case a relatively meaningless default index).\n",
    "\n",
    "Pandas can make great use of informative indexes. Indexes work similarly to a dictionary key, allowing fast lookups of the data associated with the index.\n",
    "\n",
    "Indexes can also be exploited for fast group-bys, merges, time-series operations and lots more.\n",
    "\n",
    "When you're really in the zone with pandas, you'll be thinking a lot about indexes."
   ]
  },
  {
   "cell_type": "code",
   "execution_count": 79,
   "metadata": {
    "collapsed": false
   },
   "outputs": [
    {
     "name": "stdout",
     "output_type": "stream",
     "text": [
      "California   -0.185861\n",
      "Alabama      -1.643737\n",
      "Indiana       2.246474\n",
      "Montana       1.017903\n",
      "Kentucky     -1.333519\n",
      "dtype: float64\n",
      "\n",
      "\n",
      "Washington    0.156392\n",
      "Alabama       0.045746\n",
      "Montana       1.178002\n",
      "Indiana       0.490126\n",
      "New York     -0.528801\n",
      "dtype: float64\n"
     ]
    }
   ],
   "source": [
    "indexed_series = pd.Series(randn(5), \n",
    "                           index = ['California', 'Alabama', \n",
    "                                    'Indiana', 'Montana', \n",
    "                                    'Kentucky'])\n",
    "alt_indexed_series = pd.Series(randn(5),\n",
    "                               index = ['Washington', 'Alabama', \n",
    "                                        'Montana', 'Indiana', \n",
    "                                        'New York'])\n",
    "print indexed_series\n",
    "print '\\n'\n",
    "print alt_indexed_series"
   ]
  },
  {
   "cell_type": "code",
   "execution_count": 80,
   "metadata": {
    "collapsed": false
   },
   "outputs": [
    {
     "data": {
      "text/plain": [
       "Alabama      -1.597991\n",
       "California         NaN\n",
       "Indiana       2.736600\n",
       "Kentucky           NaN\n",
       "Montana       2.195905\n",
       "New York           NaN\n",
       "Washington         NaN\n",
       "dtype: float64"
      ]
     },
     "execution_count": 80,
     "metadata": {},
     "output_type": "execute_result"
    }
   ],
   "source": [
    "#Pandas uses the index by default to align series for arithmetic!\n",
    "indexed_series + alt_indexed_series"
   ]
  },
  {
   "cell_type": "code",
   "execution_count": 81,
   "metadata": {
    "collapsed": false
   },
   "outputs": [
    {
     "data": {
      "text/plain": [
       "Alabama       0.086252\n",
       "California    0.340918\n",
       "Indiana       0.093891\n",
       "Kentucky     -0.512961\n",
       "Montana      -0.364768\n",
       "dtype: float64"
      ]
     },
     "execution_count": 81,
     "metadata": {},
     "output_type": "execute_result"
    }
   ],
   "source": [
    "indexed_series = pd.Series(randn(5*10), \n",
    "                           index = ['California', 'Alabama', \n",
    "                                    'Indiana', 'Montana', \n",
    "                                    'Kentucky']*10)\n",
    "#If you have non-unique indexes, you can use them \n",
    "#to do groupby operations.\n",
    "indexed_series.groupby(level=0).mean()"
   ]
  },
  {
   "cell_type": "code",
   "execution_count": 82,
   "metadata": {
    "collapsed": false
   },
   "outputs": [
    {
     "data": {
      "text/plain": [
       "2015-01-31   -1.720479\n",
       "2015-02-28   -0.284699\n",
       "2015-03-31    0.370343\n",
       "2015-04-30    0.022406\n",
       "2015-05-31   -0.471037\n",
       "2015-06-30    1.502830\n",
       "2015-07-31    0.649291\n",
       "2015-08-31   -0.768706\n",
       "2015-09-30    0.375093\n",
       "2015-10-31    1.025331\n",
       "Freq: M, dtype: float64"
      ]
     },
     "execution_count": 82,
     "metadata": {},
     "output_type": "execute_result"
    }
   ],
   "source": [
    "#Datetime index\n",
    "dt_index = pd.date_range('2015-1-1', \n",
    "                        '2015-11-1', \n",
    "                        freq='m')\n",
    "dt_series = pd.Series(randn(10), \n",
    "                      index = dt_index)\n",
    "dt_series"
   ]
  },
  {
   "cell_type": "code",
   "execution_count": 83,
   "metadata": {
    "collapsed": false
   },
   "outputs": [
    {
     "data": {
      "text/plain": [
       "2015-03-31   -0.544945\n",
       "2015-06-30    0.351400\n",
       "2015-09-30    0.085226\n",
       "2015-12-31    1.025331\n",
       "Freq: Q-DEC, dtype: float64"
      ]
     },
     "execution_count": 83,
     "metadata": {},
     "output_type": "execute_result"
    }
   ],
   "source": [
    "#Datetime indexes make it easy to transform freqs etc!\n",
    "dt_series.resample('q')"
   ]
  },
  {
   "cell_type": "markdown",
   "metadata": {},
   "source": [
    "## DataFrames\n",
    "Data frames extend the concept of Series to table-like data."
   ]
  },
  {
   "cell_type": "code",
   "execution_count": 84,
   "metadata": {
    "collapsed": false
   },
   "outputs": [
    {
     "data": {
      "text/html": [
       "<div>\n",
       "<table border=\"1\" class=\"dataframe\">\n",
       "  <thead>\n",
       "    <tr style=\"text-align: right;\">\n",
       "      <th></th>\n",
       "      <th>a</th>\n",
       "      <th>b</th>\n",
       "      <th>c</th>\n",
       "      <th>d</th>\n",
       "      <th>e</th>\n",
       "    </tr>\n",
       "  </thead>\n",
       "  <tbody>\n",
       "    <tr>\n",
       "      <th>2015-01-31</th>\n",
       "      <td>-0.646665</td>\n",
       "      <td>-1.516299</td>\n",
       "      <td>0.672202</td>\n",
       "      <td>0.361817</td>\n",
       "      <td>0.184314</td>\n",
       "    </tr>\n",
       "    <tr>\n",
       "      <th>2015-02-28</th>\n",
       "      <td>0.288597</td>\n",
       "      <td>1.000204</td>\n",
       "      <td>-0.845465</td>\n",
       "      <td>0.645493</td>\n",
       "      <td>0.625918</td>\n",
       "    </tr>\n",
       "    <tr>\n",
       "      <th>2015-03-31</th>\n",
       "      <td>-0.053506</td>\n",
       "      <td>-2.075325</td>\n",
       "      <td>1.354301</td>\n",
       "      <td>0.542215</td>\n",
       "      <td>0.079497</td>\n",
       "    </tr>\n",
       "    <tr>\n",
       "      <th>2015-04-30</th>\n",
       "      <td>0.031400</td>\n",
       "      <td>1.248604</td>\n",
       "      <td>-0.000919</td>\n",
       "      <td>-0.523628</td>\n",
       "      <td>2.809252</td>\n",
       "    </tr>\n",
       "    <tr>\n",
       "      <th>2015-05-31</th>\n",
       "      <td>1.549263</td>\n",
       "      <td>-0.143393</td>\n",
       "      <td>-1.909609</td>\n",
       "      <td>0.999202</td>\n",
       "      <td>0.503049</td>\n",
       "    </tr>\n",
       "    <tr>\n",
       "      <th>2015-06-30</th>\n",
       "      <td>-0.385988</td>\n",
       "      <td>-0.354544</td>\n",
       "      <td>1.150908</td>\n",
       "      <td>-1.036773</td>\n",
       "      <td>-0.030490</td>\n",
       "    </tr>\n",
       "    <tr>\n",
       "      <th>2015-07-31</th>\n",
       "      <td>-0.591909</td>\n",
       "      <td>0.139773</td>\n",
       "      <td>1.025645</td>\n",
       "      <td>-0.154051</td>\n",
       "      <td>0.090022</td>\n",
       "    </tr>\n",
       "    <tr>\n",
       "      <th>2015-08-31</th>\n",
       "      <td>0.660947</td>\n",
       "      <td>0.241219</td>\n",
       "      <td>-1.046322</td>\n",
       "      <td>0.968137</td>\n",
       "      <td>-0.801387</td>\n",
       "    </tr>\n",
       "    <tr>\n",
       "      <th>2015-09-30</th>\n",
       "      <td>0.665029</td>\n",
       "      <td>-0.256776</td>\n",
       "      <td>-2.399586</td>\n",
       "      <td>0.673891</td>\n",
       "      <td>-0.213504</td>\n",
       "    </tr>\n",
       "    <tr>\n",
       "      <th>2015-10-31</th>\n",
       "      <td>-0.510352</td>\n",
       "      <td>0.528574</td>\n",
       "      <td>-0.936941</td>\n",
       "      <td>-0.892964</td>\n",
       "      <td>-1.784816</td>\n",
       "    </tr>\n",
       "  </tbody>\n",
       "</table>\n",
       "</div>"
      ],
      "text/plain": [
       "                   a         b         c         d         e\n",
       "2015-01-31 -0.646665 -1.516299  0.672202  0.361817  0.184314\n",
       "2015-02-28  0.288597  1.000204 -0.845465  0.645493  0.625918\n",
       "2015-03-31 -0.053506 -2.075325  1.354301  0.542215  0.079497\n",
       "2015-04-30  0.031400  1.248604 -0.000919 -0.523628  2.809252\n",
       "2015-05-31  1.549263 -0.143393 -1.909609  0.999202  0.503049\n",
       "2015-06-30 -0.385988 -0.354544  1.150908 -1.036773 -0.030490\n",
       "2015-07-31 -0.591909  0.139773  1.025645 -0.154051  0.090022\n",
       "2015-08-31  0.660947  0.241219 -1.046322  0.968137 -0.801387\n",
       "2015-09-30  0.665029 -0.256776 -2.399586  0.673891 -0.213504\n",
       "2015-10-31 -0.510352  0.528574 -0.936941 -0.892964 -1.784816"
      ]
     },
     "execution_count": 84,
     "metadata": {},
     "output_type": "execute_result"
    }
   ],
   "source": [
    "df = pd.DataFrame(randn(10, 5), index=dt_index, columns=[x for x in 'abcde'])\n",
    "df"
   ]
  },
  {
   "cell_type": "code",
   "execution_count": 85,
   "metadata": {
    "collapsed": false
   },
   "outputs": [
    {
     "data": {
      "text/plain": [
       "pandas.core.series.Series"
      ]
     },
     "execution_count": 85,
     "metadata": {},
     "output_type": "execute_result"
    }
   ],
   "source": [
    "#A dataframes columns are series:\n",
    "col = df.a\n",
    "type(col)"
   ]
  },
  {
   "cell_type": "code",
   "execution_count": 86,
   "metadata": {
    "collapsed": false
   },
   "outputs": [
    {
     "data": {
      "text/plain": [
       "pandas.core.series.Series"
      ]
     },
     "execution_count": 86,
     "metadata": {},
     "output_type": "execute_result"
    }
   ],
   "source": [
    "#So are the rows.\n",
    "row = df.ix['2015-01-31']\n",
    "type(row)"
   ]
  },
  {
   "cell_type": "code",
   "execution_count": 87,
   "metadata": {
    "collapsed": false
   },
   "outputs": [
    {
     "data": {
      "text/plain": [
       "DatetimeIndex(['2015-01-31', '2015-02-28', '2015-03-31', '2015-04-30',\n",
       "               '2015-05-31', '2015-06-30', '2015-07-31', '2015-08-31',\n",
       "               '2015-09-30', '2015-10-31'],\n",
       "              dtype='datetime64[ns]', freq='M', tz=None)"
      ]
     },
     "execution_count": 87,
     "metadata": {},
     "output_type": "execute_result"
    }
   ],
   "source": [
    "#The columns all have the same index:\n",
    "col.index   "
   ]
  },
  {
   "cell_type": "code",
   "execution_count": 88,
   "metadata": {
    "collapsed": false
   },
   "outputs": [
    {
     "data": {
      "text/plain": [
       "Index([u'a', u'b', u'c', u'd', u'e'], dtype='object')"
      ]
     },
     "execution_count": 88,
     "metadata": {},
     "output_type": "execute_result"
    }
   ],
   "source": [
    "#What's the index for the rows?\n",
    "row.index"
   ]
  },
  {
   "cell_type": "markdown",
   "metadata": {},
   "source": [
    "## DataFrame basics"
   ]
  },
  {
   "cell_type": "code",
   "execution_count": 89,
   "metadata": {
    "collapsed": false
   },
   "outputs": [
    {
     "data": {
      "text/html": [
       "<div>\n",
       "<table border=\"1\" class=\"dataframe\">\n",
       "  <thead>\n",
       "    <tr style=\"text-align: right;\">\n",
       "      <th></th>\n",
       "      <th>a</th>\n",
       "      <th>b</th>\n",
       "      <th>c</th>\n",
       "      <th>d</th>\n",
       "      <th>e</th>\n",
       "      <th>new</th>\n",
       "    </tr>\n",
       "  </thead>\n",
       "  <tbody>\n",
       "    <tr>\n",
       "      <th>2015-01-31</th>\n",
       "      <td>-0.646665</td>\n",
       "      <td>-1.516299</td>\n",
       "      <td>0.672202</td>\n",
       "      <td>0.361817</td>\n",
       "      <td>0.184314</td>\n",
       "      <td>-2.162964</td>\n",
       "    </tr>\n",
       "    <tr>\n",
       "      <th>2015-02-28</th>\n",
       "      <td>0.288597</td>\n",
       "      <td>1.000204</td>\n",
       "      <td>-0.845465</td>\n",
       "      <td>0.645493</td>\n",
       "      <td>0.625918</td>\n",
       "      <td>1.288801</td>\n",
       "    </tr>\n",
       "    <tr>\n",
       "      <th>2015-03-31</th>\n",
       "      <td>-0.053506</td>\n",
       "      <td>-2.075325</td>\n",
       "      <td>1.354301</td>\n",
       "      <td>0.542215</td>\n",
       "      <td>0.079497</td>\n",
       "      <td>-2.128831</td>\n",
       "    </tr>\n",
       "    <tr>\n",
       "      <th>2015-04-30</th>\n",
       "      <td>0.031400</td>\n",
       "      <td>1.248604</td>\n",
       "      <td>-0.000919</td>\n",
       "      <td>-0.523628</td>\n",
       "      <td>2.809252</td>\n",
       "      <td>1.280003</td>\n",
       "    </tr>\n",
       "    <tr>\n",
       "      <th>2015-05-31</th>\n",
       "      <td>1.549263</td>\n",
       "      <td>-0.143393</td>\n",
       "      <td>-1.909609</td>\n",
       "      <td>0.999202</td>\n",
       "      <td>0.503049</td>\n",
       "      <td>1.405870</td>\n",
       "    </tr>\n",
       "    <tr>\n",
       "      <th>2015-06-30</th>\n",
       "      <td>-0.385988</td>\n",
       "      <td>-0.354544</td>\n",
       "      <td>1.150908</td>\n",
       "      <td>-1.036773</td>\n",
       "      <td>-0.030490</td>\n",
       "      <td>-0.740531</td>\n",
       "    </tr>\n",
       "    <tr>\n",
       "      <th>2015-07-31</th>\n",
       "      <td>-0.591909</td>\n",
       "      <td>0.139773</td>\n",
       "      <td>1.025645</td>\n",
       "      <td>-0.154051</td>\n",
       "      <td>0.090022</td>\n",
       "      <td>-0.452136</td>\n",
       "    </tr>\n",
       "    <tr>\n",
       "      <th>2015-08-31</th>\n",
       "      <td>0.660947</td>\n",
       "      <td>0.241219</td>\n",
       "      <td>-1.046322</td>\n",
       "      <td>0.968137</td>\n",
       "      <td>-0.801387</td>\n",
       "      <td>0.902166</td>\n",
       "    </tr>\n",
       "    <tr>\n",
       "      <th>2015-09-30</th>\n",
       "      <td>0.665029</td>\n",
       "      <td>-0.256776</td>\n",
       "      <td>-2.399586</td>\n",
       "      <td>0.673891</td>\n",
       "      <td>-0.213504</td>\n",
       "      <td>0.408253</td>\n",
       "    </tr>\n",
       "    <tr>\n",
       "      <th>2015-10-31</th>\n",
       "      <td>-0.510352</td>\n",
       "      <td>0.528574</td>\n",
       "      <td>-0.936941</td>\n",
       "      <td>-0.892964</td>\n",
       "      <td>-1.784816</td>\n",
       "      <td>0.018222</td>\n",
       "    </tr>\n",
       "  </tbody>\n",
       "</table>\n",
       "</div>"
      ],
      "text/plain": [
       "                   a         b         c         d         e       new\n",
       "2015-01-31 -0.646665 -1.516299  0.672202  0.361817  0.184314 -2.162964\n",
       "2015-02-28  0.288597  1.000204 -0.845465  0.645493  0.625918  1.288801\n",
       "2015-03-31 -0.053506 -2.075325  1.354301  0.542215  0.079497 -2.128831\n",
       "2015-04-30  0.031400  1.248604 -0.000919 -0.523628  2.809252  1.280003\n",
       "2015-05-31  1.549263 -0.143393 -1.909609  0.999202  0.503049  1.405870\n",
       "2015-06-30 -0.385988 -0.354544  1.150908 -1.036773 -0.030490 -0.740531\n",
       "2015-07-31 -0.591909  0.139773  1.025645 -0.154051  0.090022 -0.452136\n",
       "2015-08-31  0.660947  0.241219 -1.046322  0.968137 -0.801387  0.902166\n",
       "2015-09-30  0.665029 -0.256776 -2.399586  0.673891 -0.213504  0.408253\n",
       "2015-10-31 -0.510352  0.528574 -0.936941 -0.892964 -1.784816  0.018222"
      ]
     },
     "execution_count": 89,
     "metadata": {},
     "output_type": "execute_result"
    }
   ],
   "source": [
    "#New column\n",
    "df['new'] = df['a'] + df['b']\n",
    "df"
   ]
  },
  {
   "cell_type": "code",
   "execution_count": 90,
   "metadata": {
    "collapsed": false
   },
   "outputs": [
    {
     "data": {
      "text/html": [
       "<div>\n",
       "<table border=\"1\" class=\"dataframe\">\n",
       "  <thead>\n",
       "    <tr style=\"text-align: right;\">\n",
       "      <th></th>\n",
       "      <th>a</th>\n",
       "      <th>b</th>\n",
       "      <th>c</th>\n",
       "      <th>d</th>\n",
       "      <th>e</th>\n",
       "    </tr>\n",
       "  </thead>\n",
       "  <tbody>\n",
       "    <tr>\n",
       "      <th>2015-01-31</th>\n",
       "      <td>-0.646665</td>\n",
       "      <td>-1.516299</td>\n",
       "      <td>0.672202</td>\n",
       "      <td>0.361817</td>\n",
       "      <td>0.184314</td>\n",
       "    </tr>\n",
       "    <tr>\n",
       "      <th>2015-02-28</th>\n",
       "      <td>0.288597</td>\n",
       "      <td>1.000204</td>\n",
       "      <td>-0.845465</td>\n",
       "      <td>0.645493</td>\n",
       "      <td>0.625918</td>\n",
       "    </tr>\n",
       "    <tr>\n",
       "      <th>2015-03-31</th>\n",
       "      <td>-0.053506</td>\n",
       "      <td>-2.075325</td>\n",
       "      <td>1.354301</td>\n",
       "      <td>0.542215</td>\n",
       "      <td>0.079497</td>\n",
       "    </tr>\n",
       "    <tr>\n",
       "      <th>2015-04-30</th>\n",
       "      <td>0.031400</td>\n",
       "      <td>1.248604</td>\n",
       "      <td>-0.000919</td>\n",
       "      <td>-0.523628</td>\n",
       "      <td>2.809252</td>\n",
       "    </tr>\n",
       "    <tr>\n",
       "      <th>2015-05-31</th>\n",
       "      <td>1.549263</td>\n",
       "      <td>-0.143393</td>\n",
       "      <td>-1.909609</td>\n",
       "      <td>0.999202</td>\n",
       "      <td>0.503049</td>\n",
       "    </tr>\n",
       "    <tr>\n",
       "      <th>2015-06-30</th>\n",
       "      <td>-0.385988</td>\n",
       "      <td>-0.354544</td>\n",
       "      <td>1.150908</td>\n",
       "      <td>-1.036773</td>\n",
       "      <td>-0.030490</td>\n",
       "    </tr>\n",
       "    <tr>\n",
       "      <th>2015-07-31</th>\n",
       "      <td>-0.591909</td>\n",
       "      <td>0.139773</td>\n",
       "      <td>1.025645</td>\n",
       "      <td>-0.154051</td>\n",
       "      <td>0.090022</td>\n",
       "    </tr>\n",
       "    <tr>\n",
       "      <th>2015-08-31</th>\n",
       "      <td>0.660947</td>\n",
       "      <td>0.241219</td>\n",
       "      <td>-1.046322</td>\n",
       "      <td>0.968137</td>\n",
       "      <td>-0.801387</td>\n",
       "    </tr>\n",
       "    <tr>\n",
       "      <th>2015-09-30</th>\n",
       "      <td>0.665029</td>\n",
       "      <td>-0.256776</td>\n",
       "      <td>-2.399586</td>\n",
       "      <td>0.673891</td>\n",
       "      <td>-0.213504</td>\n",
       "    </tr>\n",
       "    <tr>\n",
       "      <th>2015-10-31</th>\n",
       "      <td>-0.510352</td>\n",
       "      <td>0.528574</td>\n",
       "      <td>-0.936941</td>\n",
       "      <td>-0.892964</td>\n",
       "      <td>-1.784816</td>\n",
       "    </tr>\n",
       "  </tbody>\n",
       "</table>\n",
       "</div>"
      ],
      "text/plain": [
       "                   a         b         c         d         e\n",
       "2015-01-31 -0.646665 -1.516299  0.672202  0.361817  0.184314\n",
       "2015-02-28  0.288597  1.000204 -0.845465  0.645493  0.625918\n",
       "2015-03-31 -0.053506 -2.075325  1.354301  0.542215  0.079497\n",
       "2015-04-30  0.031400  1.248604 -0.000919 -0.523628  2.809252\n",
       "2015-05-31  1.549263 -0.143393 -1.909609  0.999202  0.503049\n",
       "2015-06-30 -0.385988 -0.354544  1.150908 -1.036773 -0.030490\n",
       "2015-07-31 -0.591909  0.139773  1.025645 -0.154051  0.090022\n",
       "2015-08-31  0.660947  0.241219 -1.046322  0.968137 -0.801387\n",
       "2015-09-30  0.665029 -0.256776 -2.399586  0.673891 -0.213504\n",
       "2015-10-31 -0.510352  0.528574 -0.936941 -0.892964 -1.784816"
      ]
     },
     "execution_count": 90,
     "metadata": {},
     "output_type": "execute_result"
    }
   ],
   "source": [
    "#Delete a column\n",
    "df.drop('new', axis=1)"
   ]
  },
  {
   "cell_type": "markdown",
   "metadata": {},
   "source": [
    "## Axis?\n",
    "Because pandas thinks of rows and columns as both being series, anything we can do to rows we can do to columns too. \n",
    "\n",
    "Axis describes which one we want to do it to. 0=rows, 1=columns."
   ]
  },
  {
   "cell_type": "code",
   "execution_count": 91,
   "metadata": {
    "collapsed": false
   },
   "outputs": [
    {
     "data": {
      "text/html": [
       "<div>\n",
       "<table border=\"1\" class=\"dataframe\">\n",
       "  <thead>\n",
       "    <tr style=\"text-align: right;\">\n",
       "      <th></th>\n",
       "      <th>a</th>\n",
       "      <th>b</th>\n",
       "      <th>c</th>\n",
       "      <th>d</th>\n",
       "      <th>e</th>\n",
       "      <th>new</th>\n",
       "    </tr>\n",
       "  </thead>\n",
       "  <tbody>\n",
       "    <tr>\n",
       "      <th>2015-01-31</th>\n",
       "      <td>-0.646665</td>\n",
       "      <td>-1.516299</td>\n",
       "      <td>0.672202</td>\n",
       "      <td>0.361817</td>\n",
       "      <td>0.184314</td>\n",
       "      <td>-2.162964</td>\n",
       "    </tr>\n",
       "    <tr>\n",
       "      <th>2015-02-28</th>\n",
       "      <td>0.288597</td>\n",
       "      <td>1.000204</td>\n",
       "      <td>-0.845465</td>\n",
       "      <td>0.645493</td>\n",
       "      <td>0.625918</td>\n",
       "      <td>1.288801</td>\n",
       "    </tr>\n",
       "    <tr>\n",
       "      <th>2015-03-31</th>\n",
       "      <td>-0.053506</td>\n",
       "      <td>-2.075325</td>\n",
       "      <td>1.354301</td>\n",
       "      <td>0.542215</td>\n",
       "      <td>0.079497</td>\n",
       "      <td>-2.128831</td>\n",
       "    </tr>\n",
       "    <tr>\n",
       "      <th>2015-05-31</th>\n",
       "      <td>1.549263</td>\n",
       "      <td>-0.143393</td>\n",
       "      <td>-1.909609</td>\n",
       "      <td>0.999202</td>\n",
       "      <td>0.503049</td>\n",
       "      <td>1.405870</td>\n",
       "    </tr>\n",
       "    <tr>\n",
       "      <th>2015-06-30</th>\n",
       "      <td>-0.385988</td>\n",
       "      <td>-0.354544</td>\n",
       "      <td>1.150908</td>\n",
       "      <td>-1.036773</td>\n",
       "      <td>-0.030490</td>\n",
       "      <td>-0.740531</td>\n",
       "    </tr>\n",
       "    <tr>\n",
       "      <th>2015-07-31</th>\n",
       "      <td>-0.591909</td>\n",
       "      <td>0.139773</td>\n",
       "      <td>1.025645</td>\n",
       "      <td>-0.154051</td>\n",
       "      <td>0.090022</td>\n",
       "      <td>-0.452136</td>\n",
       "    </tr>\n",
       "    <tr>\n",
       "      <th>2015-08-31</th>\n",
       "      <td>0.660947</td>\n",
       "      <td>0.241219</td>\n",
       "      <td>-1.046322</td>\n",
       "      <td>0.968137</td>\n",
       "      <td>-0.801387</td>\n",
       "      <td>0.902166</td>\n",
       "    </tr>\n",
       "    <tr>\n",
       "      <th>2015-09-30</th>\n",
       "      <td>0.665029</td>\n",
       "      <td>-0.256776</td>\n",
       "      <td>-2.399586</td>\n",
       "      <td>0.673891</td>\n",
       "      <td>-0.213504</td>\n",
       "      <td>0.408253</td>\n",
       "    </tr>\n",
       "    <tr>\n",
       "      <th>2015-10-31</th>\n",
       "      <td>-0.510352</td>\n",
       "      <td>0.528574</td>\n",
       "      <td>-0.936941</td>\n",
       "      <td>-0.892964</td>\n",
       "      <td>-1.784816</td>\n",
       "      <td>0.018222</td>\n",
       "    </tr>\n",
       "  </tbody>\n",
       "</table>\n",
       "</div>"
      ],
      "text/plain": [
       "                   a         b         c         d         e       new\n",
       "2015-01-31 -0.646665 -1.516299  0.672202  0.361817  0.184314 -2.162964\n",
       "2015-02-28  0.288597  1.000204 -0.845465  0.645493  0.625918  1.288801\n",
       "2015-03-31 -0.053506 -2.075325  1.354301  0.542215  0.079497 -2.128831\n",
       "2015-05-31  1.549263 -0.143393 -1.909609  0.999202  0.503049  1.405870\n",
       "2015-06-30 -0.385988 -0.354544  1.150908 -1.036773 -0.030490 -0.740531\n",
       "2015-07-31 -0.591909  0.139773  1.025645 -0.154051  0.090022 -0.452136\n",
       "2015-08-31  0.660947  0.241219 -1.046322  0.968137 -0.801387  0.902166\n",
       "2015-09-30  0.665029 -0.256776 -2.399586  0.673891 -0.213504  0.408253\n",
       "2015-10-31 -0.510352  0.528574 -0.936941 -0.892964 -1.784816  0.018222"
      ]
     },
     "execution_count": 91,
     "metadata": {},
     "output_type": "execute_result"
    }
   ],
   "source": [
    "lbl = pd.Timestamp('2015-04-30 00:00:00', offset='M')\n",
    "df.drop(lbl, axis=0)"
   ]
  },
  {
   "cell_type": "markdown",
   "metadata": {},
   "source": [
    "## Selecting subsets\n",
    "There a couple of ways to select a subset of a python data frame."
   ]
  },
  {
   "cell_type": "code",
   "execution_count": 92,
   "metadata": {
    "collapsed": false
   },
   "outputs": [
    {
     "data": {
      "text/html": [
       "<div>\n",
       "<table border=\"1\" class=\"dataframe\">\n",
       "  <thead>\n",
       "    <tr style=\"text-align: right;\">\n",
       "      <th></th>\n",
       "      <th>a</th>\n",
       "      <th>b</th>\n",
       "      <th>c</th>\n",
       "      <th>d</th>\n",
       "      <th>e</th>\n",
       "      <th>new</th>\n",
       "    </tr>\n",
       "  </thead>\n",
       "  <tbody>\n",
       "    <tr>\n",
       "      <th>2015-02-28</th>\n",
       "      <td>0.288597</td>\n",
       "      <td>1.000204</td>\n",
       "      <td>-0.845465</td>\n",
       "      <td>0.645493</td>\n",
       "      <td>0.625918</td>\n",
       "      <td>1.288801</td>\n",
       "    </tr>\n",
       "    <tr>\n",
       "      <th>2015-04-30</th>\n",
       "      <td>0.031400</td>\n",
       "      <td>1.248604</td>\n",
       "      <td>-0.000919</td>\n",
       "      <td>-0.523628</td>\n",
       "      <td>2.809252</td>\n",
       "      <td>1.280003</td>\n",
       "    </tr>\n",
       "    <tr>\n",
       "      <th>2015-05-31</th>\n",
       "      <td>1.549263</td>\n",
       "      <td>-0.143393</td>\n",
       "      <td>-1.909609</td>\n",
       "      <td>0.999202</td>\n",
       "      <td>0.503049</td>\n",
       "      <td>1.405870</td>\n",
       "    </tr>\n",
       "    <tr>\n",
       "      <th>2015-08-31</th>\n",
       "      <td>0.660947</td>\n",
       "      <td>0.241219</td>\n",
       "      <td>-1.046322</td>\n",
       "      <td>0.968137</td>\n",
       "      <td>-0.801387</td>\n",
       "      <td>0.902166</td>\n",
       "    </tr>\n",
       "    <tr>\n",
       "      <th>2015-09-30</th>\n",
       "      <td>0.665029</td>\n",
       "      <td>-0.256776</td>\n",
       "      <td>-2.399586</td>\n",
       "      <td>0.673891</td>\n",
       "      <td>-0.213504</td>\n",
       "      <td>0.408253</td>\n",
       "    </tr>\n",
       "  </tbody>\n",
       "</table>\n",
       "</div>"
      ],
      "text/plain": [
       "                   a         b         c         d         e       new\n",
       "2015-02-28  0.288597  1.000204 -0.845465  0.645493  0.625918  1.288801\n",
       "2015-04-30  0.031400  1.248604 -0.000919 -0.523628  2.809252  1.280003\n",
       "2015-05-31  1.549263 -0.143393 -1.909609  0.999202  0.503049  1.405870\n",
       "2015-08-31  0.660947  0.241219 -1.046322  0.968137 -0.801387  0.902166\n",
       "2015-09-30  0.665029 -0.256776 -2.399586  0.673891 -0.213504  0.408253"
      ]
     },
     "execution_count": 92,
     "metadata": {},
     "output_type": "execute_result"
    }
   ],
   "source": [
    "#To subset the rows, you can use the convenient:\n",
    "df[df.a > 0]"
   ]
  },
  {
   "cell_type": "code",
   "execution_count": 93,
   "metadata": {
    "collapsed": false
   },
   "outputs": [
    {
     "data": {
      "text/html": [
       "<div>\n",
       "<table border=\"1\" class=\"dataframe\">\n",
       "  <thead>\n",
       "    <tr style=\"text-align: right;\">\n",
       "      <th></th>\n",
       "      <th>a</th>\n",
       "      <th>b</th>\n",
       "      <th>c</th>\n",
       "      <th>d</th>\n",
       "      <th>e</th>\n",
       "      <th>new</th>\n",
       "    </tr>\n",
       "  </thead>\n",
       "  <tbody>\n",
       "    <tr>\n",
       "      <th>2015-02-28</th>\n",
       "      <td>0.288597</td>\n",
       "      <td>1.000204</td>\n",
       "      <td>-0.845465</td>\n",
       "      <td>0.645493</td>\n",
       "      <td>0.625918</td>\n",
       "      <td>1.288801</td>\n",
       "    </tr>\n",
       "    <tr>\n",
       "      <th>2015-04-30</th>\n",
       "      <td>0.031400</td>\n",
       "      <td>1.248604</td>\n",
       "      <td>-0.000919</td>\n",
       "      <td>-0.523628</td>\n",
       "      <td>2.809252</td>\n",
       "      <td>1.280003</td>\n",
       "    </tr>\n",
       "    <tr>\n",
       "      <th>2015-05-31</th>\n",
       "      <td>1.549263</td>\n",
       "      <td>-0.143393</td>\n",
       "      <td>-1.909609</td>\n",
       "      <td>0.999202</td>\n",
       "      <td>0.503049</td>\n",
       "      <td>1.405870</td>\n",
       "    </tr>\n",
       "    <tr>\n",
       "      <th>2015-08-31</th>\n",
       "      <td>0.660947</td>\n",
       "      <td>0.241219</td>\n",
       "      <td>-1.046322</td>\n",
       "      <td>0.968137</td>\n",
       "      <td>-0.801387</td>\n",
       "      <td>0.902166</td>\n",
       "    </tr>\n",
       "    <tr>\n",
       "      <th>2015-09-30</th>\n",
       "      <td>0.665029</td>\n",
       "      <td>-0.256776</td>\n",
       "      <td>-2.399586</td>\n",
       "      <td>0.673891</td>\n",
       "      <td>-0.213504</td>\n",
       "      <td>0.408253</td>\n",
       "    </tr>\n",
       "  </tbody>\n",
       "</table>\n",
       "</div>"
      ],
      "text/plain": [
       "                   a         b         c         d         e       new\n",
       "2015-02-28  0.288597  1.000204 -0.845465  0.645493  0.625918  1.288801\n",
       "2015-04-30  0.031400  1.248604 -0.000919 -0.523628  2.809252  1.280003\n",
       "2015-05-31  1.549263 -0.143393 -1.909609  0.999202  0.503049  1.405870\n",
       "2015-08-31  0.660947  0.241219 -1.046322  0.968137 -0.801387  0.902166\n",
       "2015-09-30  0.665029 -0.256776 -2.399586  0.673891 -0.213504  0.408253"
      ]
     },
     "execution_count": 93,
     "metadata": {},
     "output_type": "execute_result"
    }
   ],
   "source": [
    "#Or combine multiple conditions:\n",
    "df[(df.a > 0) & (df.c < 0)]"
   ]
  },
  {
   "cell_type": "code",
   "execution_count": 94,
   "metadata": {
    "collapsed": false
   },
   "outputs": [
    {
     "data": {
      "text/plain": [
       "2015-01-31   -0.646665\n",
       "2015-02-28    0.288597\n",
       "2015-03-31   -0.053506\n",
       "2015-04-30    0.031400\n",
       "2015-05-31    1.549263\n",
       "2015-06-30   -0.385988\n",
       "2015-07-31   -0.591909\n",
       "2015-08-31    0.660947\n",
       "2015-09-30    0.665029\n",
       "2015-10-31   -0.510352\n",
       "Freq: M, Name: a, dtype: float64"
      ]
     },
     "execution_count": 94,
     "metadata": {},
     "output_type": "execute_result"
    }
   ],
   "source": [
    "#Selecting a column\n",
    "df.a\n",
    "#Works sometimes."
   ]
  },
  {
   "cell_type": "code",
   "execution_count": 95,
   "metadata": {
    "collapsed": false
   },
   "outputs": [
    {
     "data": {
      "text/plain": [
       "2015-01-31   -0.646665\n",
       "2015-02-28    0.288597\n",
       "2015-03-31   -0.053506\n",
       "2015-04-30    0.031400\n",
       "2015-05-31    1.549263\n",
       "2015-06-30   -0.385988\n",
       "2015-07-31   -0.591909\n",
       "2015-08-31    0.660947\n",
       "2015-09-30    0.665029\n",
       "2015-10-31   -0.510352\n",
       "Freq: M, Name: a, dtype: float64"
      ]
     },
     "execution_count": 95,
     "metadata": {},
     "output_type": "execute_result"
    }
   ],
   "source": [
    "df['a'] #works always"
   ]
  },
  {
   "cell_type": "code",
   "execution_count": 96,
   "metadata": {
    "collapsed": false
   },
   "outputs": [
    {
     "data": {
      "text/html": [
       "<div>\n",
       "<table border=\"1\" class=\"dataframe\">\n",
       "  <thead>\n",
       "    <tr style=\"text-align: right;\">\n",
       "      <th></th>\n",
       "      <th>a</th>\n",
       "      <th>b</th>\n",
       "    </tr>\n",
       "  </thead>\n",
       "  <tbody>\n",
       "    <tr>\n",
       "      <th>2015-01-31</th>\n",
       "      <td>-0.646665</td>\n",
       "      <td>-1.516299</td>\n",
       "    </tr>\n",
       "    <tr>\n",
       "      <th>2015-02-28</th>\n",
       "      <td>0.288597</td>\n",
       "      <td>1.000204</td>\n",
       "    </tr>\n",
       "    <tr>\n",
       "      <th>2015-03-31</th>\n",
       "      <td>-0.053506</td>\n",
       "      <td>-2.075325</td>\n",
       "    </tr>\n",
       "    <tr>\n",
       "      <th>2015-04-30</th>\n",
       "      <td>0.031400</td>\n",
       "      <td>1.248604</td>\n",
       "    </tr>\n",
       "    <tr>\n",
       "      <th>2015-05-31</th>\n",
       "      <td>1.549263</td>\n",
       "      <td>-0.143393</td>\n",
       "    </tr>\n",
       "    <tr>\n",
       "      <th>2015-06-30</th>\n",
       "      <td>-0.385988</td>\n",
       "      <td>-0.354544</td>\n",
       "    </tr>\n",
       "    <tr>\n",
       "      <th>2015-07-31</th>\n",
       "      <td>-0.591909</td>\n",
       "      <td>0.139773</td>\n",
       "    </tr>\n",
       "    <tr>\n",
       "      <th>2015-08-31</th>\n",
       "      <td>0.660947</td>\n",
       "      <td>0.241219</td>\n",
       "    </tr>\n",
       "    <tr>\n",
       "      <th>2015-09-30</th>\n",
       "      <td>0.665029</td>\n",
       "      <td>-0.256776</td>\n",
       "    </tr>\n",
       "    <tr>\n",
       "      <th>2015-10-31</th>\n",
       "      <td>-0.510352</td>\n",
       "      <td>0.528574</td>\n",
       "    </tr>\n",
       "  </tbody>\n",
       "</table>\n",
       "</div>"
      ],
      "text/plain": [
       "                   a         b\n",
       "2015-01-31 -0.646665 -1.516299\n",
       "2015-02-28  0.288597  1.000204\n",
       "2015-03-31 -0.053506 -2.075325\n",
       "2015-04-30  0.031400  1.248604\n",
       "2015-05-31  1.549263 -0.143393\n",
       "2015-06-30 -0.385988 -0.354544\n",
       "2015-07-31 -0.591909  0.139773\n",
       "2015-08-31  0.660947  0.241219\n",
       "2015-09-30  0.665029 -0.256776\n",
       "2015-10-31 -0.510352  0.528574"
      ]
     },
     "execution_count": 96,
     "metadata": {},
     "output_type": "execute_result"
    }
   ],
   "source": [
    "df[['a', 'b']]\n",
    "#Or a subset of columns"
   ]
  },
  {
   "cell_type": "markdown",
   "metadata": {},
   "source": [
    "## Advanced selection\n",
    "The above methods work for simple types of selections, but what if you need something more complex?"
   ]
  },
  {
   "cell_type": "code",
   "execution_count": 97,
   "metadata": {
    "collapsed": false
   },
   "outputs": [
    {
     "data": {
      "text/html": [
       "<div>\n",
       "<table border=\"1\" class=\"dataframe\">\n",
       "  <thead>\n",
       "    <tr style=\"text-align: right;\">\n",
       "      <th></th>\n",
       "      <th>c</th>\n",
       "      <th>d</th>\n",
       "      <th>e</th>\n",
       "    </tr>\n",
       "  </thead>\n",
       "  <tbody>\n",
       "    <tr>\n",
       "      <th>2015-05-31</th>\n",
       "      <td>-1.909609</td>\n",
       "      <td>0.999202</td>\n",
       "      <td>0.503049</td>\n",
       "    </tr>\n",
       "    <tr>\n",
       "      <th>2015-06-30</th>\n",
       "      <td>1.150908</td>\n",
       "      <td>-1.036773</td>\n",
       "      <td>-0.030490</td>\n",
       "    </tr>\n",
       "    <tr>\n",
       "      <th>2015-07-31</th>\n",
       "      <td>1.025645</td>\n",
       "      <td>-0.154051</td>\n",
       "      <td>0.090022</td>\n",
       "    </tr>\n",
       "    <tr>\n",
       "      <th>2015-08-31</th>\n",
       "      <td>-1.046322</td>\n",
       "      <td>0.968137</td>\n",
       "      <td>-0.801387</td>\n",
       "    </tr>\n",
       "  </tbody>\n",
       "</table>\n",
       "</div>"
      ],
      "text/plain": [
       "                   c         d         e\n",
       "2015-05-31 -1.909609  0.999202  0.503049\n",
       "2015-06-30  1.150908 -1.036773 -0.030490\n",
       "2015-07-31  1.025645 -0.154051  0.090022\n",
       "2015-08-31 -1.046322  0.968137 -0.801387"
      ]
     },
     "execution_count": 97,
     "metadata": {},
     "output_type": "execute_result"
    }
   ],
   "source": [
    "df.loc['2015-05-31':'2015-08-31', 'c':'e'] #Ranges by label."
   ]
  },
  {
   "cell_type": "code",
   "execution_count": 98,
   "metadata": {
    "collapsed": false
   },
   "outputs": [
    {
     "data": {
      "text/html": [
       "<div>\n",
       "<table border=\"1\" class=\"dataframe\">\n",
       "  <thead>\n",
       "    <tr style=\"text-align: right;\">\n",
       "      <th></th>\n",
       "      <th>c</th>\n",
       "      <th>d</th>\n",
       "      <th>e</th>\n",
       "    </tr>\n",
       "  </thead>\n",
       "  <tbody>\n",
       "    <tr>\n",
       "      <th>2015-03-31</th>\n",
       "      <td>1.354301</td>\n",
       "      <td>0.542215</td>\n",
       "      <td>0.079497</td>\n",
       "    </tr>\n",
       "    <tr>\n",
       "      <th>2015-04-30</th>\n",
       "      <td>-0.000919</td>\n",
       "      <td>-0.523628</td>\n",
       "      <td>2.809252</td>\n",
       "    </tr>\n",
       "    <tr>\n",
       "      <th>2015-05-31</th>\n",
       "      <td>-1.909609</td>\n",
       "      <td>0.999202</td>\n",
       "      <td>0.503049</td>\n",
       "    </tr>\n",
       "    <tr>\n",
       "      <th>2015-06-30</th>\n",
       "      <td>1.150908</td>\n",
       "      <td>-1.036773</td>\n",
       "      <td>-0.030490</td>\n",
       "    </tr>\n",
       "    <tr>\n",
       "      <th>2015-07-31</th>\n",
       "      <td>1.025645</td>\n",
       "      <td>-0.154051</td>\n",
       "      <td>0.090022</td>\n",
       "    </tr>\n",
       "  </tbody>\n",
       "</table>\n",
       "</div>"
      ],
      "text/plain": [
       "                   c         d         e\n",
       "2015-03-31  1.354301  0.542215  0.079497\n",
       "2015-04-30 -0.000919 -0.523628  2.809252\n",
       "2015-05-31 -1.909609  0.999202  0.503049\n",
       "2015-06-30  1.150908 -1.036773 -0.030490\n",
       "2015-07-31  1.025645 -0.154051  0.090022"
      ]
     },
     "execution_count": 98,
     "metadata": {},
     "output_type": "execute_result"
    }
   ],
   "source": [
    "df.iloc[2:-3,2:5] #Ranges by number."
   ]
  },
  {
   "cell_type": "code",
   "execution_count": 99,
   "metadata": {
    "collapsed": false
   },
   "outputs": [
    {
     "data": {
      "text/html": [
       "<div>\n",
       "<table border=\"1\" class=\"dataframe\">\n",
       "  <thead>\n",
       "    <tr style=\"text-align: right;\">\n",
       "      <th></th>\n",
       "      <th>a</th>\n",
       "      <th>b</th>\n",
       "      <th>c</th>\n",
       "      <th>d</th>\n",
       "      <th>e</th>\n",
       "      <th>new</th>\n",
       "    </tr>\n",
       "  </thead>\n",
       "  <tbody>\n",
       "    <tr>\n",
       "      <th>2015-05-31</th>\n",
       "      <td>1.549263</td>\n",
       "      <td>-0.143393</td>\n",
       "      <td>-1.909609</td>\n",
       "      <td>0.999202</td>\n",
       "      <td>0.503049</td>\n",
       "      <td>1.40587</td>\n",
       "    </tr>\n",
       "  </tbody>\n",
       "</table>\n",
       "</div>"
      ],
      "text/plain": [
       "                   a         b         c         d         e      new\n",
       "2015-05-31  1.549263 -0.143393 -1.909609  0.999202  0.503049  1.40587"
      ]
     },
     "execution_count": 99,
     "metadata": {},
     "output_type": "execute_result"
    }
   ],
   "source": [
    "#SQL-like queries for parsimonious row selection.\n",
    "#Experimental\n",
    "df.query('a > 1 and c <1')"
   ]
  },
  {
   "cell_type": "code",
   "execution_count": 100,
   "metadata": {
    "collapsed": false
   },
   "outputs": [],
   "source": [
    "#Multi Index:\n",
    "dt_index = pd.date_range('2015-1-1', \n",
    "                        '2017-7-1', \n",
    "                        freq='m')\n",
    "df = pd.DataFrame(randn(30,5), index=dt_index)"
   ]
  },
  {
   "cell_type": "code",
   "execution_count": 101,
   "metadata": {
    "collapsed": false
   },
   "outputs": [
    {
     "data": {
      "text/html": [
       "<div>\n",
       "<table border=\"1\" class=\"dataframe\">\n",
       "  <thead>\n",
       "    <tr style=\"text-align: right;\">\n",
       "      <th></th>\n",
       "      <th>0</th>\n",
       "      <th>1</th>\n",
       "      <th>2</th>\n",
       "      <th>3</th>\n",
       "      <th>4</th>\n",
       "      <th>state</th>\n",
       "    </tr>\n",
       "  </thead>\n",
       "  <tbody>\n",
       "    <tr>\n",
       "      <th>2015-01-31</th>\n",
       "      <td>-0.276277</td>\n",
       "      <td>-1.129156</td>\n",
       "      <td>0.018065</td>\n",
       "      <td>0.388795</td>\n",
       "      <td>0.370187</td>\n",
       "      <td>Alabama</td>\n",
       "    </tr>\n",
       "    <tr>\n",
       "      <th>2015-02-28</th>\n",
       "      <td>-0.616410</td>\n",
       "      <td>1.040599</td>\n",
       "      <td>-1.659621</td>\n",
       "      <td>-0.211935</td>\n",
       "      <td>-0.142764</td>\n",
       "      <td>Alaska</td>\n",
       "    </tr>\n",
       "    <tr>\n",
       "      <th>2015-03-31</th>\n",
       "      <td>0.268415</td>\n",
       "      <td>0.451532</td>\n",
       "      <td>-0.567158</td>\n",
       "      <td>-0.436949</td>\n",
       "      <td>-1.817945</td>\n",
       "      <td>Arizona</td>\n",
       "    </tr>\n",
       "    <tr>\n",
       "      <th>2015-04-30</th>\n",
       "      <td>1.762384</td>\n",
       "      <td>-1.896485</td>\n",
       "      <td>1.800928</td>\n",
       "      <td>0.872635</td>\n",
       "      <td>0.171109</td>\n",
       "      <td>Alabama</td>\n",
       "    </tr>\n",
       "    <tr>\n",
       "      <th>2015-05-31</th>\n",
       "      <td>-0.679139</td>\n",
       "      <td>0.558755</td>\n",
       "      <td>1.039731</td>\n",
       "      <td>-0.741526</td>\n",
       "      <td>-0.026062</td>\n",
       "      <td>Alaska</td>\n",
       "    </tr>\n",
       "  </tbody>\n",
       "</table>\n",
       "</div>"
      ],
      "text/plain": [
       "                   0         1         2         3         4    state\n",
       "2015-01-31 -0.276277 -1.129156  0.018065  0.388795  0.370187  Alabama\n",
       "2015-02-28 -0.616410  1.040599 -1.659621 -0.211935 -0.142764   Alaska\n",
       "2015-03-31  0.268415  0.451532 -0.567158 -0.436949 -1.817945  Arizona\n",
       "2015-04-30  1.762384 -1.896485  1.800928  0.872635  0.171109  Alabama\n",
       "2015-05-31 -0.679139  0.558755  1.039731 -0.741526 -0.026062   Alaska"
      ]
     },
     "execution_count": 101,
     "metadata": {},
     "output_type": "execute_result"
    }
   ],
   "source": [
    "df['state'] = ['Alabama', 'Alaska' , 'Arizona'] * 10\n",
    "df.head()"
   ]
  },
  {
   "cell_type": "code",
   "execution_count": 102,
   "metadata": {
    "collapsed": false
   },
   "outputs": [
    {
     "data": {
      "text/html": [
       "<div>\n",
       "<table border=\"1\" class=\"dataframe\">\n",
       "  <thead>\n",
       "    <tr style=\"text-align: right;\">\n",
       "      <th></th>\n",
       "      <th></th>\n",
       "      <th>0</th>\n",
       "      <th>1</th>\n",
       "      <th>2</th>\n",
       "      <th>3</th>\n",
       "      <th>4</th>\n",
       "    </tr>\n",
       "    <tr>\n",
       "      <th>state</th>\n",
       "      <th>index</th>\n",
       "      <th></th>\n",
       "      <th></th>\n",
       "      <th></th>\n",
       "      <th></th>\n",
       "      <th></th>\n",
       "    </tr>\n",
       "  </thead>\n",
       "  <tbody>\n",
       "    <tr>\n",
       "      <th>Alabama</th>\n",
       "      <th>2015-01-31</th>\n",
       "      <td>-0.276277</td>\n",
       "      <td>-1.129156</td>\n",
       "      <td>0.018065</td>\n",
       "      <td>0.388795</td>\n",
       "      <td>0.370187</td>\n",
       "    </tr>\n",
       "    <tr>\n",
       "      <th>Alaska</th>\n",
       "      <th>2015-02-28</th>\n",
       "      <td>-0.616410</td>\n",
       "      <td>1.040599</td>\n",
       "      <td>-1.659621</td>\n",
       "      <td>-0.211935</td>\n",
       "      <td>-0.142764</td>\n",
       "    </tr>\n",
       "    <tr>\n",
       "      <th>Arizona</th>\n",
       "      <th>2015-03-31</th>\n",
       "      <td>0.268415</td>\n",
       "      <td>0.451532</td>\n",
       "      <td>-0.567158</td>\n",
       "      <td>-0.436949</td>\n",
       "      <td>-1.817945</td>\n",
       "    </tr>\n",
       "    <tr>\n",
       "      <th>Alabama</th>\n",
       "      <th>2015-04-30</th>\n",
       "      <td>1.762384</td>\n",
       "      <td>-1.896485</td>\n",
       "      <td>1.800928</td>\n",
       "      <td>0.872635</td>\n",
       "      <td>0.171109</td>\n",
       "    </tr>\n",
       "    <tr>\n",
       "      <th>Alaska</th>\n",
       "      <th>2015-05-31</th>\n",
       "      <td>-0.679139</td>\n",
       "      <td>0.558755</td>\n",
       "      <td>1.039731</td>\n",
       "      <td>-0.741526</td>\n",
       "      <td>-0.026062</td>\n",
       "    </tr>\n",
       "  </tbody>\n",
       "</table>\n",
       "</div>"
      ],
      "text/plain": [
       "                           0         1         2         3         4\n",
       "state   index                                                       \n",
       "Alabama 2015-01-31 -0.276277 -1.129156  0.018065  0.388795  0.370187\n",
       "Alaska  2015-02-28 -0.616410  1.040599 -1.659621 -0.211935 -0.142764\n",
       "Arizona 2015-03-31  0.268415  0.451532 -0.567158 -0.436949 -1.817945\n",
       "Alabama 2015-04-30  1.762384 -1.896485  1.800928  0.872635  0.171109\n",
       "Alaska  2015-05-31 -0.679139  0.558755  1.039731 -0.741526 -0.026062"
      ]
     },
     "execution_count": 102,
     "metadata": {},
     "output_type": "execute_result"
    }
   ],
   "source": [
    "df = df.reset_index()\n",
    "df = df.set_index(['state', 'index'])\n",
    "df.head()"
   ]
  },
  {
   "cell_type": "code",
   "execution_count": 103,
   "metadata": {
    "collapsed": false
   },
   "outputs": [
    {
     "data": {
      "text/html": [
       "<div>\n",
       "<table border=\"1\" class=\"dataframe\">\n",
       "  <thead>\n",
       "    <tr style=\"text-align: right;\">\n",
       "      <th></th>\n",
       "      <th>0</th>\n",
       "      <th>1</th>\n",
       "      <th>2</th>\n",
       "      <th>3</th>\n",
       "      <th>4</th>\n",
       "    </tr>\n",
       "    <tr>\n",
       "      <th>index</th>\n",
       "      <th></th>\n",
       "      <th></th>\n",
       "      <th></th>\n",
       "      <th></th>\n",
       "      <th></th>\n",
       "    </tr>\n",
       "  </thead>\n",
       "  <tbody>\n",
       "    <tr>\n",
       "      <th>2015-01-31</th>\n",
       "      <td>-0.276277</td>\n",
       "      <td>-1.129156</td>\n",
       "      <td>0.018065</td>\n",
       "      <td>0.388795</td>\n",
       "      <td>0.370187</td>\n",
       "    </tr>\n",
       "    <tr>\n",
       "      <th>2015-04-30</th>\n",
       "      <td>1.762384</td>\n",
       "      <td>-1.896485</td>\n",
       "      <td>1.800928</td>\n",
       "      <td>0.872635</td>\n",
       "      <td>0.171109</td>\n",
       "    </tr>\n",
       "    <tr>\n",
       "      <th>2015-07-31</th>\n",
       "      <td>-1.260763</td>\n",
       "      <td>0.608042</td>\n",
       "      <td>-0.736403</td>\n",
       "      <td>-1.419251</td>\n",
       "      <td>-0.212107</td>\n",
       "    </tr>\n",
       "    <tr>\n",
       "      <th>2015-10-31</th>\n",
       "      <td>-2.155006</td>\n",
       "      <td>-2.856903</td>\n",
       "      <td>-1.695338</td>\n",
       "      <td>-1.679117</td>\n",
       "      <td>-1.575889</td>\n",
       "    </tr>\n",
       "    <tr>\n",
       "      <th>2016-01-31</th>\n",
       "      <td>0.521235</td>\n",
       "      <td>0.726037</td>\n",
       "      <td>1.250589</td>\n",
       "      <td>0.219159</td>\n",
       "      <td>1.035014</td>\n",
       "    </tr>\n",
       "  </tbody>\n",
       "</table>\n",
       "</div>"
      ],
      "text/plain": [
       "                   0         1         2         3         4\n",
       "index                                                       \n",
       "2015-01-31 -0.276277 -1.129156  0.018065  0.388795  0.370187\n",
       "2015-04-30  1.762384 -1.896485  1.800928  0.872635  0.171109\n",
       "2015-07-31 -1.260763  0.608042 -0.736403 -1.419251 -0.212107\n",
       "2015-10-31 -2.155006 -2.856903 -1.695338 -1.679117 -1.575889\n",
       "2016-01-31  0.521235  0.726037  1.250589  0.219159  1.035014"
      ]
     },
     "execution_count": 103,
     "metadata": {},
     "output_type": "execute_result"
    }
   ],
   "source": [
    "df.loc['Alabama'].head()"
   ]
  },
  {
   "cell_type": "code",
   "execution_count": 104,
   "metadata": {
    "collapsed": false
   },
   "outputs": [
    {
     "ename": "KeyError",
     "evalue": "'the label [2015-01-31] is not in the [index]'",
     "output_type": "error",
     "traceback": [
      "\u001b[0;31m---------------------------------------------------------------------------\u001b[0m",
      "\u001b[0;31mKeyError\u001b[0m                                  Traceback (most recent call last)",
      "\u001b[0;32m<ipython-input-104-5a5a10bc40e7>\u001b[0m in \u001b[0;36m<module>\u001b[0;34m()\u001b[0m\n\u001b[0;32m----> 1\u001b[0;31m \u001b[0mdf\u001b[0m\u001b[0;34m.\u001b[0m\u001b[0mloc\u001b[0m\u001b[0;34m[\u001b[0m\u001b[0;34m'2015-01-31'\u001b[0m\u001b[0;34m]\u001b[0m \u001b[0;31m#Doesn't work.\u001b[0m\u001b[0;34m\u001b[0m\u001b[0m\n\u001b[0m",
      "\u001b[0;32m/Users/yuan/anaconda/lib/python2.7/site-packages/pandas/core/indexing.pyc\u001b[0m in \u001b[0;36m__getitem__\u001b[0;34m(self, key)\u001b[0m\n\u001b[1;32m   1187\u001b[0m             \u001b[0;32mreturn\u001b[0m \u001b[0mself\u001b[0m\u001b[0;34m.\u001b[0m\u001b[0m_getitem_tuple\u001b[0m\u001b[0;34m(\u001b[0m\u001b[0mkey\u001b[0m\u001b[0;34m)\u001b[0m\u001b[0;34m\u001b[0m\u001b[0m\n\u001b[1;32m   1188\u001b[0m         \u001b[0;32melse\u001b[0m\u001b[0;34m:\u001b[0m\u001b[0;34m\u001b[0m\u001b[0m\n\u001b[0;32m-> 1189\u001b[0;31m             \u001b[0;32mreturn\u001b[0m \u001b[0mself\u001b[0m\u001b[0;34m.\u001b[0m\u001b[0m_getitem_axis\u001b[0m\u001b[0;34m(\u001b[0m\u001b[0mkey\u001b[0m\u001b[0;34m,\u001b[0m \u001b[0maxis\u001b[0m\u001b[0;34m=\u001b[0m\u001b[0;36m0\u001b[0m\u001b[0;34m)\u001b[0m\u001b[0;34m\u001b[0m\u001b[0m\n\u001b[0m\u001b[1;32m   1190\u001b[0m \u001b[0;34m\u001b[0m\u001b[0m\n\u001b[1;32m   1191\u001b[0m     \u001b[0;32mdef\u001b[0m \u001b[0m_getitem_axis\u001b[0m\u001b[0;34m(\u001b[0m\u001b[0mself\u001b[0m\u001b[0;34m,\u001b[0m \u001b[0mkey\u001b[0m\u001b[0;34m,\u001b[0m \u001b[0maxis\u001b[0m\u001b[0;34m=\u001b[0m\u001b[0;36m0\u001b[0m\u001b[0;34m)\u001b[0m\u001b[0;34m:\u001b[0m\u001b[0;34m\u001b[0m\u001b[0m\n",
      "\u001b[0;32m/Users/yuan/anaconda/lib/python2.7/site-packages/pandas/core/indexing.pyc\u001b[0m in \u001b[0;36m_getitem_axis\u001b[0;34m(self, key, axis)\u001b[0m\n\u001b[1;32m   1331\u001b[0m \u001b[0;34m\u001b[0m\u001b[0m\n\u001b[1;32m   1332\u001b[0m         \u001b[0;31m# fall thru to straight lookup\u001b[0m\u001b[0;34m\u001b[0m\u001b[0;34m\u001b[0m\u001b[0m\n\u001b[0;32m-> 1333\u001b[0;31m         \u001b[0mself\u001b[0m\u001b[0;34m.\u001b[0m\u001b[0m_has_valid_type\u001b[0m\u001b[0;34m(\u001b[0m\u001b[0mkey\u001b[0m\u001b[0;34m,\u001b[0m \u001b[0maxis\u001b[0m\u001b[0;34m)\u001b[0m\u001b[0;34m\u001b[0m\u001b[0m\n\u001b[0m\u001b[1;32m   1334\u001b[0m         \u001b[0;32mreturn\u001b[0m \u001b[0mself\u001b[0m\u001b[0;34m.\u001b[0m\u001b[0m_get_label\u001b[0m\u001b[0;34m(\u001b[0m\u001b[0mkey\u001b[0m\u001b[0;34m,\u001b[0m \u001b[0maxis\u001b[0m\u001b[0;34m=\u001b[0m\u001b[0maxis\u001b[0m\u001b[0;34m)\u001b[0m\u001b[0;34m\u001b[0m\u001b[0m\n\u001b[1;32m   1335\u001b[0m \u001b[0;34m\u001b[0m\u001b[0m\n",
      "\u001b[0;32m/Users/yuan/anaconda/lib/python2.7/site-packages/pandas/core/indexing.pyc\u001b[0m in \u001b[0;36m_has_valid_type\u001b[0;34m(self, key, axis)\u001b[0m\n\u001b[1;32m   1293\u001b[0m                 \u001b[0;32mraise\u001b[0m\u001b[0;34m\u001b[0m\u001b[0m\n\u001b[1;32m   1294\u001b[0m             \u001b[0;32mexcept\u001b[0m\u001b[0;34m:\u001b[0m\u001b[0;34m\u001b[0m\u001b[0m\n\u001b[0;32m-> 1295\u001b[0;31m                 \u001b[0merror\u001b[0m\u001b[0;34m(\u001b[0m\u001b[0;34m)\u001b[0m\u001b[0;34m\u001b[0m\u001b[0m\n\u001b[0m\u001b[1;32m   1296\u001b[0m \u001b[0;34m\u001b[0m\u001b[0m\n\u001b[1;32m   1297\u001b[0m         \u001b[0;32mreturn\u001b[0m \u001b[0mTrue\u001b[0m\u001b[0;34m\u001b[0m\u001b[0m\n",
      "\u001b[0;32m/Users/yuan/anaconda/lib/python2.7/site-packages/pandas/core/indexing.pyc\u001b[0m in \u001b[0;36merror\u001b[0;34m()\u001b[0m\n\u001b[1;32m   1280\u001b[0m                         \"cannot use label indexing with a null key\")\n\u001b[1;32m   1281\u001b[0m                 raise KeyError(\"the label [%s] is not in the [%s]\" %\n\u001b[0;32m-> 1282\u001b[0;31m                                (key, self.obj._get_axis_name(axis)))\n\u001b[0m\u001b[1;32m   1283\u001b[0m \u001b[0;34m\u001b[0m\u001b[0m\n\u001b[1;32m   1284\u001b[0m             \u001b[0;32mtry\u001b[0m\u001b[0;34m:\u001b[0m\u001b[0;34m\u001b[0m\u001b[0m\n",
      "\u001b[0;31mKeyError\u001b[0m: 'the label [2015-01-31] is not in the [index]'"
     ]
    }
   ],
   "source": [
    "df.loc['2015-01-31'] #Doesn't work."
   ]
  },
  {
   "cell_type": "code",
   "execution_count": 105,
   "metadata": {
    "collapsed": false
   },
   "outputs": [
    {
     "data": {
      "text/plain": [
       "0   -0.276277\n",
       "1   -1.129156\n",
       "2    0.018065\n",
       "3    0.388795\n",
       "4    0.370187\n",
       "Name: (Alabama, 2015-01-31 00:00:00), dtype: float64"
      ]
     },
     "execution_count": 105,
     "metadata": {},
     "output_type": "execute_result"
    }
   ],
   "source": [
    "df.loc[('Alabama', '2015-01-31')] #Can do this."
   ]
  },
  {
   "cell_type": "code",
   "execution_count": 106,
   "metadata": {
    "collapsed": false
   },
   "outputs": [
    {
     "data": {
      "text/html": [
       "<div>\n",
       "<table border=\"1\" class=\"dataframe\">\n",
       "  <thead>\n",
       "    <tr>\n",
       "      <th></th>\n",
       "      <th colspan=\"3\" halign=\"left\">0</th>\n",
       "      <th colspan=\"3\" halign=\"left\">1</th>\n",
       "      <th colspan=\"3\" halign=\"left\">2</th>\n",
       "      <th colspan=\"3\" halign=\"left\">3</th>\n",
       "      <th colspan=\"3\" halign=\"left\">4</th>\n",
       "    </tr>\n",
       "    <tr>\n",
       "      <th>state</th>\n",
       "      <th>Alabama</th>\n",
       "      <th>Alaska</th>\n",
       "      <th>Arizona</th>\n",
       "      <th>Alabama</th>\n",
       "      <th>Alaska</th>\n",
       "      <th>Arizona</th>\n",
       "      <th>Alabama</th>\n",
       "      <th>Alaska</th>\n",
       "      <th>Arizona</th>\n",
       "      <th>Alabama</th>\n",
       "      <th>Alaska</th>\n",
       "      <th>Arizona</th>\n",
       "      <th>Alabama</th>\n",
       "      <th>Alaska</th>\n",
       "      <th>Arizona</th>\n",
       "    </tr>\n",
       "    <tr>\n",
       "      <th>index</th>\n",
       "      <th></th>\n",
       "      <th></th>\n",
       "      <th></th>\n",
       "      <th></th>\n",
       "      <th></th>\n",
       "      <th></th>\n",
       "      <th></th>\n",
       "      <th></th>\n",
       "      <th></th>\n",
       "      <th></th>\n",
       "      <th></th>\n",
       "      <th></th>\n",
       "      <th></th>\n",
       "      <th></th>\n",
       "      <th></th>\n",
       "    </tr>\n",
       "  </thead>\n",
       "  <tbody>\n",
       "    <tr>\n",
       "      <th>2015-01-31</th>\n",
       "      <td>-0.276277</td>\n",
       "      <td>NaN</td>\n",
       "      <td>NaN</td>\n",
       "      <td>-1.129156</td>\n",
       "      <td>NaN</td>\n",
       "      <td>NaN</td>\n",
       "      <td>0.018065</td>\n",
       "      <td>NaN</td>\n",
       "      <td>NaN</td>\n",
       "      <td>0.388795</td>\n",
       "      <td>NaN</td>\n",
       "      <td>NaN</td>\n",
       "      <td>0.370187</td>\n",
       "      <td>NaN</td>\n",
       "      <td>NaN</td>\n",
       "    </tr>\n",
       "    <tr>\n",
       "      <th>2015-02-28</th>\n",
       "      <td>NaN</td>\n",
       "      <td>-0.616410</td>\n",
       "      <td>NaN</td>\n",
       "      <td>NaN</td>\n",
       "      <td>1.040599</td>\n",
       "      <td>NaN</td>\n",
       "      <td>NaN</td>\n",
       "      <td>-1.659621</td>\n",
       "      <td>NaN</td>\n",
       "      <td>NaN</td>\n",
       "      <td>-0.211935</td>\n",
       "      <td>NaN</td>\n",
       "      <td>NaN</td>\n",
       "      <td>-0.142764</td>\n",
       "      <td>NaN</td>\n",
       "    </tr>\n",
       "    <tr>\n",
       "      <th>2015-03-31</th>\n",
       "      <td>NaN</td>\n",
       "      <td>NaN</td>\n",
       "      <td>0.268415</td>\n",
       "      <td>NaN</td>\n",
       "      <td>NaN</td>\n",
       "      <td>0.451532</td>\n",
       "      <td>NaN</td>\n",
       "      <td>NaN</td>\n",
       "      <td>-0.567158</td>\n",
       "      <td>NaN</td>\n",
       "      <td>NaN</td>\n",
       "      <td>-0.436949</td>\n",
       "      <td>NaN</td>\n",
       "      <td>NaN</td>\n",
       "      <td>-1.817945</td>\n",
       "    </tr>\n",
       "    <tr>\n",
       "      <th>2015-04-30</th>\n",
       "      <td>1.762384</td>\n",
       "      <td>NaN</td>\n",
       "      <td>NaN</td>\n",
       "      <td>-1.896485</td>\n",
       "      <td>NaN</td>\n",
       "      <td>NaN</td>\n",
       "      <td>1.800928</td>\n",
       "      <td>NaN</td>\n",
       "      <td>NaN</td>\n",
       "      <td>0.872635</td>\n",
       "      <td>NaN</td>\n",
       "      <td>NaN</td>\n",
       "      <td>0.171109</td>\n",
       "      <td>NaN</td>\n",
       "      <td>NaN</td>\n",
       "    </tr>\n",
       "    <tr>\n",
       "      <th>2015-05-31</th>\n",
       "      <td>NaN</td>\n",
       "      <td>-0.679139</td>\n",
       "      <td>NaN</td>\n",
       "      <td>NaN</td>\n",
       "      <td>0.558755</td>\n",
       "      <td>NaN</td>\n",
       "      <td>NaN</td>\n",
       "      <td>1.039731</td>\n",
       "      <td>NaN</td>\n",
       "      <td>NaN</td>\n",
       "      <td>-0.741526</td>\n",
       "      <td>NaN</td>\n",
       "      <td>NaN</td>\n",
       "      <td>-0.026062</td>\n",
       "      <td>NaN</td>\n",
       "    </tr>\n",
       "  </tbody>\n",
       "</table>\n",
       "</div>"
      ],
      "text/plain": [
       "                   0                             1                      \\\n",
       "state        Alabama    Alaska   Arizona   Alabama    Alaska   Arizona   \n",
       "index                                                                    \n",
       "2015-01-31 -0.276277       NaN       NaN -1.129156       NaN       NaN   \n",
       "2015-02-28       NaN -0.616410       NaN       NaN  1.040599       NaN   \n",
       "2015-03-31       NaN       NaN  0.268415       NaN       NaN  0.451532   \n",
       "2015-04-30  1.762384       NaN       NaN -1.896485       NaN       NaN   \n",
       "2015-05-31       NaN -0.679139       NaN       NaN  0.558755       NaN   \n",
       "\n",
       "                   2                             3                      \\\n",
       "state        Alabama    Alaska   Arizona   Alabama    Alaska   Arizona   \n",
       "index                                                                    \n",
       "2015-01-31  0.018065       NaN       NaN  0.388795       NaN       NaN   \n",
       "2015-02-28       NaN -1.659621       NaN       NaN -0.211935       NaN   \n",
       "2015-03-31       NaN       NaN -0.567158       NaN       NaN -0.436949   \n",
       "2015-04-30  1.800928       NaN       NaN  0.872635       NaN       NaN   \n",
       "2015-05-31       NaN  1.039731       NaN       NaN -0.741526       NaN   \n",
       "\n",
       "                   4                      \n",
       "state        Alabama    Alaska   Arizona  \n",
       "index                                     \n",
       "2015-01-31  0.370187       NaN       NaN  \n",
       "2015-02-28       NaN -0.142764       NaN  \n",
       "2015-03-31       NaN       NaN -1.817945  \n",
       "2015-04-30  0.171109       NaN       NaN  \n",
       "2015-05-31       NaN -0.026062       NaN  "
      ]
     },
     "execution_count": 106,
     "metadata": {},
     "output_type": "execute_result"
    }
   ],
   "source": [
    "#Can also have multi-index in columns.\n",
    "df.reset_index().set_index(['index', 'state']).unstack().head()"
   ]
  },
  {
   "cell_type": "code",
   "execution_count": 107,
   "metadata": {
    "collapsed": false
   },
   "outputs": [
    {
     "data": {
      "text/html": [
       "<div>\n",
       "<table border=\"1\" class=\"dataframe\">\n",
       "  <thead>\n",
       "    <tr style=\"text-align: right;\">\n",
       "      <th></th>\n",
       "      <th></th>\n",
       "      <th>0</th>\n",
       "      <th>1</th>\n",
       "      <th>2</th>\n",
       "      <th>3</th>\n",
       "      <th>4</th>\n",
       "    </tr>\n",
       "    <tr>\n",
       "      <th>state</th>\n",
       "      <th>index</th>\n",
       "      <th></th>\n",
       "      <th></th>\n",
       "      <th></th>\n",
       "      <th></th>\n",
       "      <th></th>\n",
       "    </tr>\n",
       "  </thead>\n",
       "  <tbody>\n",
       "    <tr>\n",
       "      <th>Alabama</th>\n",
       "      <th>2015-01-31</th>\n",
       "      <td>-0.276277</td>\n",
       "      <td>-1.129156</td>\n",
       "      <td>0.018065</td>\n",
       "      <td>0.388795</td>\n",
       "      <td>0.370187</td>\n",
       "    </tr>\n",
       "    <tr>\n",
       "      <th>Alaska</th>\n",
       "      <th>2015-02-28</th>\n",
       "      <td>-0.616410</td>\n",
       "      <td>1.040599</td>\n",
       "      <td>-1.659621</td>\n",
       "      <td>-0.211935</td>\n",
       "      <td>-0.142764</td>\n",
       "    </tr>\n",
       "    <tr>\n",
       "      <th>Arizona</th>\n",
       "      <th>2015-03-31</th>\n",
       "      <td>0.268415</td>\n",
       "      <td>0.451532</td>\n",
       "      <td>-0.567158</td>\n",
       "      <td>-0.436949</td>\n",
       "      <td>-1.817945</td>\n",
       "    </tr>\n",
       "    <tr>\n",
       "      <th>Alabama</th>\n",
       "      <th>2015-04-30</th>\n",
       "      <td>1.762384</td>\n",
       "      <td>-1.896485</td>\n",
       "      <td>1.800928</td>\n",
       "      <td>0.872635</td>\n",
       "      <td>0.171109</td>\n",
       "    </tr>\n",
       "    <tr>\n",
       "      <th>Alaska</th>\n",
       "      <th>2015-05-31</th>\n",
       "      <td>-0.679139</td>\n",
       "      <td>0.558755</td>\n",
       "      <td>1.039731</td>\n",
       "      <td>-0.741526</td>\n",
       "      <td>-0.026062</td>\n",
       "    </tr>\n",
       "  </tbody>\n",
       "</table>\n",
       "</div>"
      ],
      "text/plain": [
       "                           0         1         2         3         4\n",
       "state   index                                                       \n",
       "Alabama 2015-01-31 -0.276277 -1.129156  0.018065  0.388795  0.370187\n",
       "Alaska  2015-02-28 -0.616410  1.040599 -1.659621 -0.211935 -0.142764\n",
       "Arizona 2015-03-31  0.268415  0.451532 -0.567158 -0.436949 -1.817945\n",
       "Alabama 2015-04-30  1.762384 -1.896485  1.800928  0.872635  0.171109\n",
       "Alaska  2015-05-31 -0.679139  0.558755  1.039731 -0.741526 -0.026062"
      ]
     },
     "execution_count": 107,
     "metadata": {},
     "output_type": "execute_result"
    }
   ],
   "source": [
    "df.head()"
   ]
  },
  {
   "cell_type": "markdown",
   "metadata": {},
   "source": [
    "## split-apply-combine"
   ]
  },
  {
   "cell_type": "code",
   "execution_count": 108,
   "metadata": {
    "collapsed": false
   },
   "outputs": [
    {
     "data": {
      "text/html": [
       "<div>\n",
       "<table border=\"1\" class=\"dataframe\">\n",
       "  <thead>\n",
       "    <tr style=\"text-align: right;\">\n",
       "      <th></th>\n",
       "      <th>0</th>\n",
       "      <th>1</th>\n",
       "      <th>2</th>\n",
       "      <th>3</th>\n",
       "      <th>4</th>\n",
       "    </tr>\n",
       "    <tr>\n",
       "      <th>index</th>\n",
       "      <th></th>\n",
       "      <th></th>\n",
       "      <th></th>\n",
       "      <th></th>\n",
       "      <th></th>\n",
       "    </tr>\n",
       "  </thead>\n",
       "  <tbody>\n",
       "    <tr>\n",
       "      <th>2015-01-31</th>\n",
       "      <td>-0.276277</td>\n",
       "      <td>-1.129156</td>\n",
       "      <td>0.018065</td>\n",
       "      <td>0.388795</td>\n",
       "      <td>0.370187</td>\n",
       "    </tr>\n",
       "    <tr>\n",
       "      <th>2015-02-28</th>\n",
       "      <td>-0.616410</td>\n",
       "      <td>1.040599</td>\n",
       "      <td>-1.659621</td>\n",
       "      <td>-0.211935</td>\n",
       "      <td>-0.142764</td>\n",
       "    </tr>\n",
       "    <tr>\n",
       "      <th>2015-03-31</th>\n",
       "      <td>0.268415</td>\n",
       "      <td>0.451532</td>\n",
       "      <td>-0.567158</td>\n",
       "      <td>-0.436949</td>\n",
       "      <td>-1.817945</td>\n",
       "    </tr>\n",
       "    <tr>\n",
       "      <th>2015-04-30</th>\n",
       "      <td>1.762384</td>\n",
       "      <td>-1.896485</td>\n",
       "      <td>1.800928</td>\n",
       "      <td>0.872635</td>\n",
       "      <td>0.171109</td>\n",
       "    </tr>\n",
       "    <tr>\n",
       "      <th>2015-05-31</th>\n",
       "      <td>-0.679139</td>\n",
       "      <td>0.558755</td>\n",
       "      <td>1.039731</td>\n",
       "      <td>-0.741526</td>\n",
       "      <td>-0.026062</td>\n",
       "    </tr>\n",
       "  </tbody>\n",
       "</table>\n",
       "</div>"
      ],
      "text/plain": [
       "                   0         1         2         3         4\n",
       "index                                                       \n",
       "2015-01-31 -0.276277 -1.129156  0.018065  0.388795  0.370187\n",
       "2015-02-28 -0.616410  1.040599 -1.659621 -0.211935 -0.142764\n",
       "2015-03-31  0.268415  0.451532 -0.567158 -0.436949 -1.817945\n",
       "2015-04-30  1.762384 -1.896485  1.800928  0.872635  0.171109\n",
       "2015-05-31 -0.679139  0.558755  1.039731 -0.741526 -0.026062"
      ]
     },
     "execution_count": 108,
     "metadata": {},
     "output_type": "execute_result"
    }
   ],
   "source": [
    "df.groupby(level=1).mean().head()"
   ]
  },
  {
   "cell_type": "code",
   "execution_count": 109,
   "metadata": {
    "collapsed": false
   },
   "outputs": [
    {
     "data": {
      "text/html": [
       "<div>\n",
       "<table border=\"1\" class=\"dataframe\">\n",
       "  <thead>\n",
       "    <tr style=\"text-align: right;\">\n",
       "      <th></th>\n",
       "      <th>0</th>\n",
       "      <th>1</th>\n",
       "      <th>2</th>\n",
       "      <th>3</th>\n",
       "      <th>4</th>\n",
       "    </tr>\n",
       "    <tr>\n",
       "      <th>state</th>\n",
       "      <th></th>\n",
       "      <th></th>\n",
       "      <th></th>\n",
       "      <th></th>\n",
       "      <th></th>\n",
       "    </tr>\n",
       "  </thead>\n",
       "  <tbody>\n",
       "    <tr>\n",
       "      <th>Alabama</th>\n",
       "      <td>-0.335061</td>\n",
       "      <td>-0.196078</td>\n",
       "      <td>0.049048</td>\n",
       "      <td>0.134708</td>\n",
       "      <td>-0.092447</td>\n",
       "    </tr>\n",
       "    <tr>\n",
       "      <th>Alaska</th>\n",
       "      <td>-0.231166</td>\n",
       "      <td>-0.319637</td>\n",
       "      <td>0.074386</td>\n",
       "      <td>-0.471860</td>\n",
       "      <td>-0.092000</td>\n",
       "    </tr>\n",
       "    <tr>\n",
       "      <th>Arizona</th>\n",
       "      <td>-0.672771</td>\n",
       "      <td>0.164090</td>\n",
       "      <td>-0.202312</td>\n",
       "      <td>-0.195016</td>\n",
       "      <td>-0.199921</td>\n",
       "    </tr>\n",
       "  </tbody>\n",
       "</table>\n",
       "</div>"
      ],
      "text/plain": [
       "                0         1         2         3         4\n",
       "state                                                    \n",
       "Alabama -0.335061 -0.196078  0.049048  0.134708 -0.092447\n",
       "Alaska  -0.231166 -0.319637  0.074386 -0.471860 -0.092000\n",
       "Arizona -0.672771  0.164090 -0.202312 -0.195016 -0.199921"
      ]
     },
     "execution_count": 109,
     "metadata": {},
     "output_type": "execute_result"
    }
   ],
   "source": [
    "df.groupby(level=0).mean().head() #Groupby index"
   ]
  },
  {
   "cell_type": "code",
   "execution_count": 110,
   "metadata": {
    "collapsed": false
   },
   "outputs": [
    {
     "data": {
      "text/html": [
       "<div>\n",
       "<table border=\"1\" class=\"dataframe\">\n",
       "  <thead>\n",
       "    <tr style=\"text-align: right;\">\n",
       "      <th></th>\n",
       "      <th>0</th>\n",
       "      <th>1</th>\n",
       "      <th>2</th>\n",
       "      <th>3</th>\n",
       "      <th>4</th>\n",
       "    </tr>\n",
       "    <tr>\n",
       "      <th>state</th>\n",
       "      <th></th>\n",
       "      <th></th>\n",
       "      <th></th>\n",
       "      <th></th>\n",
       "      <th></th>\n",
       "    </tr>\n",
       "  </thead>\n",
       "  <tbody>\n",
       "    <tr>\n",
       "      <th>Alabama</th>\n",
       "      <td>-0.335061</td>\n",
       "      <td>-0.196078</td>\n",
       "      <td>0.049048</td>\n",
       "      <td>0.134708</td>\n",
       "      <td>-0.092447</td>\n",
       "    </tr>\n",
       "    <tr>\n",
       "      <th>Alaska</th>\n",
       "      <td>-0.231166</td>\n",
       "      <td>-0.319637</td>\n",
       "      <td>0.074386</td>\n",
       "      <td>-0.471860</td>\n",
       "      <td>-0.092000</td>\n",
       "    </tr>\n",
       "    <tr>\n",
       "      <th>Arizona</th>\n",
       "      <td>-0.672771</td>\n",
       "      <td>0.164090</td>\n",
       "      <td>-0.202312</td>\n",
       "      <td>-0.195016</td>\n",
       "      <td>-0.199921</td>\n",
       "    </tr>\n",
       "  </tbody>\n",
       "</table>\n",
       "</div>"
      ],
      "text/plain": [
       "                0         1         2         3         4\n",
       "state                                                    \n",
       "Alabama -0.335061 -0.196078  0.049048  0.134708 -0.092447\n",
       "Alaska  -0.231166 -0.319637  0.074386 -0.471860 -0.092000\n",
       "Arizona -0.672771  0.164090 -0.202312 -0.195016 -0.199921"
      ]
     },
     "execution_count": 110,
     "metadata": {},
     "output_type": "execute_result"
    }
   ],
   "source": [
    "#Groupby doesn't have to be on index.\n",
    "df.reset_index().groupby('state').mean().head()\n",
    "#'state' could be a list of columns to group on."
   ]
  },
  {
   "cell_type": "code",
   "execution_count": 111,
   "metadata": {
    "collapsed": false
   },
   "outputs": [],
   "source": [
    "#Apply\n",
    "g = df.groupby(level=0)"
   ]
  },
  {
   "cell_type": "code",
   "execution_count": 112,
   "metadata": {
    "collapsed": false
   },
   "outputs": [
    {
     "data": {
      "text/html": [
       "<div>\n",
       "<table border=\"1\" class=\"dataframe\">\n",
       "  <thead>\n",
       "    <tr style=\"text-align: right;\">\n",
       "      <th></th>\n",
       "      <th>0</th>\n",
       "      <th>1</th>\n",
       "      <th>2</th>\n",
       "      <th>3</th>\n",
       "      <th>4</th>\n",
       "    </tr>\n",
       "    <tr>\n",
       "      <th>state</th>\n",
       "      <th></th>\n",
       "      <th></th>\n",
       "      <th></th>\n",
       "      <th></th>\n",
       "      <th></th>\n",
       "    </tr>\n",
       "  </thead>\n",
       "  <tbody>\n",
       "    <tr>\n",
       "      <th>Alabama</th>\n",
       "      <td>-0.335061</td>\n",
       "      <td>-0.196078</td>\n",
       "      <td>0.049048</td>\n",
       "      <td>0.134708</td>\n",
       "      <td>-0.092447</td>\n",
       "    </tr>\n",
       "    <tr>\n",
       "      <th>Alaska</th>\n",
       "      <td>-0.231166</td>\n",
       "      <td>-0.319637</td>\n",
       "      <td>0.074386</td>\n",
       "      <td>-0.471860</td>\n",
       "      <td>-0.092000</td>\n",
       "    </tr>\n",
       "    <tr>\n",
       "      <th>Arizona</th>\n",
       "      <td>-0.672771</td>\n",
       "      <td>0.164090</td>\n",
       "      <td>-0.202312</td>\n",
       "      <td>-0.195016</td>\n",
       "      <td>-0.199921</td>\n",
       "    </tr>\n",
       "  </tbody>\n",
       "</table>\n",
       "</div>"
      ],
      "text/plain": [
       "                0         1         2         3         4\n",
       "state                                                    \n",
       "Alabama -0.335061 -0.196078  0.049048  0.134708 -0.092447\n",
       "Alaska  -0.231166 -0.319637  0.074386 -0.471860 -0.092000\n",
       "Arizona -0.672771  0.164090 -0.202312 -0.195016 -0.199921"
      ]
     },
     "execution_count": 112,
     "metadata": {},
     "output_type": "execute_result"
    }
   ],
   "source": [
    "#If one row for each index.\n",
    "g.aggregate(np.mean)"
   ]
  },
  {
   "cell_type": "code",
   "execution_count": 113,
   "metadata": {
    "collapsed": false
   },
   "outputs": [
    {
     "data": {
      "text/html": [
       "<div>\n",
       "<table border=\"1\" class=\"dataframe\">\n",
       "  <thead>\n",
       "    <tr style=\"text-align: right;\">\n",
       "      <th></th>\n",
       "      <th></th>\n",
       "      <th>0</th>\n",
       "      <th>1</th>\n",
       "      <th>2</th>\n",
       "      <th>3</th>\n",
       "      <th>4</th>\n",
       "    </tr>\n",
       "    <tr>\n",
       "      <th>state</th>\n",
       "      <th>index</th>\n",
       "      <th></th>\n",
       "      <th></th>\n",
       "      <th></th>\n",
       "      <th></th>\n",
       "      <th></th>\n",
       "    </tr>\n",
       "  </thead>\n",
       "  <tbody>\n",
       "    <tr>\n",
       "      <th>Alabama</th>\n",
       "      <th>2015-01-31</th>\n",
       "      <td>0.049011</td>\n",
       "      <td>-0.690353</td>\n",
       "      <td>-0.026121</td>\n",
       "      <td>0.248434</td>\n",
       "      <td>0.546584</td>\n",
       "    </tr>\n",
       "    <tr>\n",
       "      <th>Alaska</th>\n",
       "      <th>2015-02-28</th>\n",
       "      <td>-0.501175</td>\n",
       "      <td>1.166153</td>\n",
       "      <td>-1.392110</td>\n",
       "      <td>0.233751</td>\n",
       "      <td>-0.041532</td>\n",
       "    </tr>\n",
       "    <tr>\n",
       "      <th>Arizona</th>\n",
       "      <th>2015-03-31</th>\n",
       "      <td>0.909802</td>\n",
       "      <td>0.226046</td>\n",
       "      <td>-0.518050</td>\n",
       "      <td>-0.285322</td>\n",
       "      <td>-1.562442</td>\n",
       "    </tr>\n",
       "    <tr>\n",
       "      <th>Alabama</th>\n",
       "      <th>2015-04-30</th>\n",
       "      <td>1.748731</td>\n",
       "      <td>-1.258073</td>\n",
       "      <td>1.476967</td>\n",
       "      <td>0.721510</td>\n",
       "      <td>0.311381</td>\n",
       "    </tr>\n",
       "    <tr>\n",
       "      <th>Alaska</th>\n",
       "      <th>2015-05-31</th>\n",
       "      <td>-0.582780</td>\n",
       "      <td>0.753060</td>\n",
       "      <td>0.775006</td>\n",
       "      <td>-0.242510</td>\n",
       "      <td>0.053945</td>\n",
       "    </tr>\n",
       "  </tbody>\n",
       "</table>\n",
       "</div>"
      ],
      "text/plain": [
       "                           0         1         2         3         4\n",
       "state   index                                                       \n",
       "Alabama 2015-01-31  0.049011 -0.690353 -0.026121  0.248434  0.546584\n",
       "Alaska  2015-02-28 -0.501175  1.166153 -1.392110  0.233751 -0.041532\n",
       "Arizona 2015-03-31  0.909802  0.226046 -0.518050 -0.285322 -1.562442\n",
       "Alabama 2015-04-30  1.748731 -1.258073  1.476967  0.721510  0.311381\n",
       "Alaska  2015-05-31 -0.582780  0.753060  0.775006 -0.242510  0.053945"
      ]
     },
     "execution_count": 113,
     "metadata": {},
     "output_type": "execute_result"
    }
   ],
   "source": [
    "#If same shape as original:\n",
    "g.transform(lambda x: (x - x.mean())/x.std()).head()"
   ]
  },
  {
   "cell_type": "code",
   "execution_count": 114,
   "metadata": {
    "collapsed": false
   },
   "outputs": [
    {
     "data": {
      "text/html": [
       "<div>\n",
       "<table border=\"1\" class=\"dataframe\">\n",
       "  <thead>\n",
       "    <tr style=\"text-align: right;\">\n",
       "      <th></th>\n",
       "      <th></th>\n",
       "      <th>0</th>\n",
       "      <th>1</th>\n",
       "      <th>2</th>\n",
       "      <th>3</th>\n",
       "      <th>4</th>\n",
       "    </tr>\n",
       "    <tr>\n",
       "      <th>state</th>\n",
       "      <th></th>\n",
       "      <th></th>\n",
       "      <th></th>\n",
       "      <th></th>\n",
       "      <th></th>\n",
       "      <th></th>\n",
       "    </tr>\n",
       "  </thead>\n",
       "  <tbody>\n",
       "    <tr>\n",
       "      <th rowspan=\"8\" valign=\"top\">Alabama</th>\n",
       "      <th>count</th>\n",
       "      <td>10.000000</td>\n",
       "      <td>10.000000</td>\n",
       "      <td>10.000000</td>\n",
       "      <td>10.000000</td>\n",
       "      <td>10.000000</td>\n",
       "    </tr>\n",
       "    <tr>\n",
       "      <th>mean</th>\n",
       "      <td>-0.335061</td>\n",
       "      <td>-0.196078</td>\n",
       "      <td>0.049048</td>\n",
       "      <td>0.134708</td>\n",
       "      <td>-0.092447</td>\n",
       "    </tr>\n",
       "    <tr>\n",
       "      <th>std</th>\n",
       "      <td>1.199409</td>\n",
       "      <td>1.351596</td>\n",
       "      <td>1.186134</td>\n",
       "      <td>1.022754</td>\n",
       "      <td>0.846408</td>\n",
       "    </tr>\n",
       "    <tr>\n",
       "      <th>min</th>\n",
       "      <td>-2.155006</td>\n",
       "      <td>-2.856903</td>\n",
       "      <td>-1.695338</td>\n",
       "      <td>-1.679117</td>\n",
       "      <td>-1.575889</td>\n",
       "    </tr>\n",
       "    <tr>\n",
       "      <th>25%</th>\n",
       "      <td>-1.255954</td>\n",
       "      <td>-0.873399</td>\n",
       "      <td>-0.659794</td>\n",
       "      <td>-0.094576</td>\n",
       "      <td>-0.282683</td>\n",
       "    </tr>\n",
       "    <tr>\n",
       "      <th>50%</th>\n",
       "      <td>-0.316135</td>\n",
       "      <td>0.295044</td>\n",
       "      <td>-0.233905</td>\n",
       "      <td>0.303977</td>\n",
       "      <td>0.077042</td>\n",
       "    </tr>\n",
       "    <tr>\n",
       "      <th>75%</th>\n",
       "      <td>0.434184</td>\n",
       "      <td>0.635486</td>\n",
       "      <td>0.942458</td>\n",
       "      <td>0.764984</td>\n",
       "      <td>0.323916</td>\n",
       "    </tr>\n",
       "    <tr>\n",
       "      <th>max</th>\n",
       "      <td>1.762384</td>\n",
       "      <td>1.459088</td>\n",
       "      <td>1.800928</td>\n",
       "      <td>1.654697</td>\n",
       "      <td>1.035014</td>\n",
       "    </tr>\n",
       "    <tr>\n",
       "      <th rowspan=\"4\" valign=\"top\">Alaska</th>\n",
       "      <th>count</th>\n",
       "      <td>10.000000</td>\n",
       "      <td>10.000000</td>\n",
       "      <td>10.000000</td>\n",
       "      <td>10.000000</td>\n",
       "      <td>10.000000</td>\n",
       "    </tr>\n",
       "    <tr>\n",
       "      <th>mean</th>\n",
       "      <td>-0.231166</td>\n",
       "      <td>-0.319637</td>\n",
       "      <td>0.074386</td>\n",
       "      <td>-0.471860</td>\n",
       "      <td>-0.092000</td>\n",
       "    </tr>\n",
       "    <tr>\n",
       "      <th>std</th>\n",
       "      <td>0.768682</td>\n",
       "      <td>1.166431</td>\n",
       "      <td>1.245596</td>\n",
       "      <td>1.111976</td>\n",
       "      <td>1.222313</td>\n",
       "    </tr>\n",
       "    <tr>\n",
       "      <th>min</th>\n",
       "      <td>-1.502360</td>\n",
       "      <td>-2.472056</td>\n",
       "      <td>-1.659621</td>\n",
       "      <td>-2.496344</td>\n",
       "      <td>-1.700483</td>\n",
       "    </tr>\n",
       "  </tbody>\n",
       "</table>\n",
       "</div>"
      ],
      "text/plain": [
       "                       0          1          2          3          4\n",
       "state                                                               \n",
       "Alabama count  10.000000  10.000000  10.000000  10.000000  10.000000\n",
       "        mean   -0.335061  -0.196078   0.049048   0.134708  -0.092447\n",
       "        std     1.199409   1.351596   1.186134   1.022754   0.846408\n",
       "        min    -2.155006  -2.856903  -1.695338  -1.679117  -1.575889\n",
       "        25%    -1.255954  -0.873399  -0.659794  -0.094576  -0.282683\n",
       "        50%    -0.316135   0.295044  -0.233905   0.303977   0.077042\n",
       "        75%     0.434184   0.635486   0.942458   0.764984   0.323916\n",
       "        max     1.762384   1.459088   1.800928   1.654697   1.035014\n",
       "Alaska  count  10.000000  10.000000  10.000000  10.000000  10.000000\n",
       "        mean   -0.231166  -0.319637   0.074386  -0.471860  -0.092000\n",
       "        std     0.768682   1.166431   1.245596   1.111976   1.222313\n",
       "        min    -1.502360  -2.472056  -1.659621  -2.496344  -1.700483"
      ]
     },
     "execution_count": 114,
     "metadata": {},
     "output_type": "execute_result"
    }
   ],
   "source": [
    "#Different index than I started with.\n",
    "g.apply(lambda x: x.describe()).head(12)"
   ]
  },
  {
   "cell_type": "markdown",
   "metadata": {},
   "source": [
    "## Reading and writing data"
   ]
  },
  {
   "cell_type": "code",
   "execution_count": null,
   "metadata": {
    "collapsed": true
   },
   "outputs": [],
   "source": [
    "df.to_csv('saved_data.csv', delimiter='\\t')"
   ]
  },
  {
   "cell_type": "code",
   "execution_count": null,
   "metadata": {
    "collapsed": true
   },
   "outputs": [],
   "source": [
    "read = pd.read_csv('saved_data.csv', delimiter='\\t')\n",
    "#TONS OF options for reading data"
   ]
  },
  {
   "cell_type": "markdown",
   "metadata": {
    "collapsed": false
   },
   "source": [
    "\"\"\"Other methods:\n",
    "pd.read_excel\n",
    "pd.read_sql\n",
    "pd.read_stata\n",
    "...\n",
    "\"\"\""
   ]
  },
  {
   "cell_type": "markdown",
   "metadata": {},
   "source": [
    "## Other very useful things\n",
    "\n",
    "join, concat and merge"
   ]
  },
  {
   "cell_type": "code",
   "execution_count": null,
   "metadata": {
    "collapsed": false
   },
   "outputs": [],
   "source": [
    "state_df = pd.DataFrame({'governor':['Robert Bentley',\n",
    "                                    'Bill Walker',\n",
    "                                    'Doug Ducey',\n",
    "                                    'Asa Hutchinson']}, \n",
    "                        index=['Alabama', 'Alaska', 'Arizona', 'Arkansas'])\n",
    "#Note merge is most useful when you want to merge on something other than the index.\n",
    "#Default is to merge on common column names.\n",
    "pd.merge(df.reset_index(), state_df, \n",
    "         left_on='state', right_index=True, how='right').tail()"
   ]
  },
  {
   "cell_type": "code",
   "execution_count": null,
   "metadata": {
    "collapsed": true
   },
   "outputs": [],
   "source": [
    "state_avg = df.groupby(level=0).mean()\n",
    "state_avg.head()"
   ]
  },
  {
   "cell_type": "code",
   "execution_count": null,
   "metadata": {
    "collapsed": false
   },
   "outputs": [],
   "source": [
    "#Concat allows joining along the axes.\n",
    "pd.concat([state_avg, state_df], axis=1)"
   ]
  },
  {
   "cell_type": "code",
   "execution_count": null,
   "metadata": {
    "collapsed": false
   },
   "outputs": [],
   "source": [
    "#Join also works. Just like merge, but \n",
    "#default is to join on indexes.\n",
    "state_avg.join(state_df, how='right')"
   ]
  },
  {
   "cell_type": "markdown",
   "metadata": {},
   "source": [
    "## Exploratory Data Analysis with Pandas"
   ]
  },
  {
   "cell_type": "code",
   "execution_count": null,
   "metadata": {
    "collapsed": true
   },
   "outputs": [],
   "source": [
    "%pylab inline"
   ]
  },
  {
   "cell_type": "code",
   "execution_count": null,
   "metadata": {
    "collapsed": false
   },
   "outputs": [],
   "source": [
    "df = pd.read_csv('data/playgolf.csv', delimiter='|' )\n",
    "print df.head()"
   ]
  },
  {
   "cell_type": "markdown",
   "metadata": {},
   "source": [
    "## Describe the continuous variables\n",
    "### This treats the Boolean Windy variable as a series of 0's and 1's"
   ]
  },
  {
   "cell_type": "code",
   "execution_count": null,
   "metadata": {
    "collapsed": false
   },
   "outputs": [],
   "source": [
    "df.describe()"
   ]
  },
  {
   "cell_type": "markdown",
   "metadata": {},
   "source": [
    "Can see the general pattern of Temperature and Humidity and mean of a Boolean represents the percentage"
   ]
  },
  {
   "cell_type": "markdown",
   "metadata": {},
   "source": [
    "### We can make use of df.plot() to produce simple graphs that calls on the more adjustable [Matplotlib](http://matplotlib.org/api/pyplot_api.html) library "
   ]
  },
  {
   "cell_type": "code",
   "execution_count": null,
   "metadata": {
    "collapsed": false,
    "scrolled": true
   },
   "outputs": [],
   "source": [
    "df.hist(['Temperature','Humidity'],bins=5)"
   ]
  },
  {
   "cell_type": "code",
   "execution_count": null,
   "metadata": {
    "collapsed": false
   },
   "outputs": [],
   "source": [
    "df[['Temperature','Humidity']].plot(kind='box')"
   ]
  },
  {
   "cell_type": "markdown",
   "metadata": {},
   "source": [
    "### Scatterplots for examining bivariate relationships"
   ]
  },
  {
   "cell_type": "code",
   "execution_count": null,
   "metadata": {
    "collapsed": false,
    "scrolled": false
   },
   "outputs": [],
   "source": [
    "df.plot('Temperature', 'Humidity', kind='scatter')"
   ]
  },
  {
   "cell_type": "markdown",
   "metadata": {},
   "source": [
    "## What about the categorical variables? Frequency tables and relative frequency tables"
   ]
  },
  {
   "cell_type": "markdown",
   "metadata": {},
   "source": [
    "### Simply df.value_counts() gets you the frequencies"
   ]
  },
  {
   "cell_type": "code",
   "execution_count": null,
   "metadata": {
    "collapsed": false
   },
   "outputs": [],
   "source": [
    "df['Outlook'].value_counts()"
   ]
  },
  {
   "cell_type": "markdown",
   "metadata": {},
   "source": [
    "### Using apply will get you the value counts for multiple columns at once"
   ]
  },
  {
   "cell_type": "code",
   "execution_count": null,
   "metadata": {
    "collapsed": false
   },
   "outputs": [],
   "source": [
    "df[['Outlook','Result']].apply(lambda x: x.value_counts())"
   ]
  },
  {
   "cell_type": "markdown",
   "metadata": {},
   "source": [
    "### Contingency Tables for looking at bivariate relationships between two categorical variables"
   ]
  },
  {
   "cell_type": "code",
   "execution_count": null,
   "metadata": {
    "collapsed": false
   },
   "outputs": [],
   "source": [
    "pd.crosstab(df['Outlook'], df['Result'])"
   ]
  },
  {
   "cell_type": "markdown",
   "metadata": {},
   "source": [
    "### Often we want the row percentages"
   ]
  },
  {
   "cell_type": "code",
   "execution_count": null,
   "metadata": {
    "collapsed": false
   },
   "outputs": [],
   "source": [
    "pd.crosstab(df['Outlook'], df['Result']).apply(lambda r: r/r.sum(), axis=1)"
   ]
  },
  {
   "cell_type": "markdown",
   "metadata": {},
   "source": [
    "### Or the column percentages"
   ]
  },
  {
   "cell_type": "code",
   "execution_count": null,
   "metadata": {
    "collapsed": false
   },
   "outputs": [],
   "source": [
    "pd.crosstab(df['Outlook'], df['Result']).apply(lambda c: c/c.sum(), axis=0)"
   ]
  },
  {
   "cell_type": "markdown",
   "metadata": {
    "collapsed": true
   },
   "source": [
    "## Lab Exercises [GRADED]\n",
    "\n",
    "In this scenario, you are a data scientist at [Bay Area Bike Share](http://www.bayareabikeshare.com/). Your task\n",
    "is to provide insights on bike user activity and behavior to the products team. \n",
    "\n",
    "\n",
    "1. Load the `trips` table into a dataframe. \n",
    "   \n",
    "   Make 4 extra columns from the `start_date` column (We will use these in later questions):\n",
    "   - `month` would contain only the month component\n",
    "   - `dayofweek` would indicate what day of the week the date is\n",
    "   - `date` would contain only the date component \n",
    "   - `hour` would only contain the hour component\n",
    "   - [Hint to deal with datetime objects in pandas](http://stackoverflow.com/questions/25129144/pandas-return-hour-from-datetime-column-directly)\n",
    "\n",
    "2. Group the bike rides by `month` and count the number of users per month. Plot the number of users for each month. \n",
    "   What do you observe? Provide a likely explanation to your observation. Real life data can often be messy/incomplete\n",
    "   and cursory EDA is often able to reveal that.\n",
    "   \n",
    "3. Plot the daily user count from September to December. Mark the `mean` and `mean +/- 1.5 * Standard Deviation` as \n",
    "   horizontal lines on the plot. This would help you identify the outliers in your data. Describe your observations. \n",
    "   \n",
    "   ![image](images/timeseries.png)\n",
    "\n",
    "4. Plot the distribution of the daily user counts for all months as a histogram. Comment on the distribution you see and explain why the distribution might be shaped as such. \n",
    "    \n",
    "   <img src=\"images/hist.png\" width=\"500\">\n",
    "  \n",
    "5. Now we are going to explore hourly trends of user activity. Group the bike rides by `date` and `hour` and count \n",
    "   the number of rides in the given hour on the given date. Make a \n",
    "   [boxplot](http://blog.bharatbhole.com/creating-boxplots-with-matplotlib/) of the hours in the day **(x)** against\n",
    "   the number of users **(y)** in that given hour. \n",
    "   \n",
    "6. Someone from the analytics team made a line plot (_right_) that he claims is showing the same information as your\n",
    "   boxplot (_left_). What information can you gain from the boxplot that is missing in the line plot?\n",
    "   \n",
    "   ![image](images/q1_pair.png)\n",
    "\n",
    "7. ** Extra Credit **: Replot the boxplot in `6.` after binning your data into weekday and weekend. Describe the differences you observe between hour user activity between weekday and weekend? \n",
    "    "
   ]
  },
  {
   "cell_type": "code",
   "execution_count": 1,
   "metadata": {
    "collapsed": false
   },
   "outputs": [
    {
     "name": "stdout",
     "output_type": "stream",
     "text": [
      "Populating the interactive namespace from numpy and matplotlib\n"
     ]
    },
    {
     "name": "stderr",
     "output_type": "stream",
     "text": [
      "//anaconda/lib/python3.5/site-packages/IPython/config.py:13: ShimWarning: The `IPython.config` package has been deprecated. You should import from traitlets.config instead.\n",
      "  \"You should import from traitlets.config instead.\", ShimWarning)\n",
      "//anaconda/lib/python3.5/site-packages/IPython/utils/traitlets.py:5: UserWarning: IPython.utils.traitlets has moved to a top-level traitlets package.\n",
      "  warn(\"IPython.utils.traitlets has moved to a top-level traitlets package.\")\n"
     ]
    }
   ],
   "source": [
    "%pylab inline\n",
    "%load_ext sql\n",
    "import yaml"
   ]
  },
  {
   "cell_type": "code",
   "execution_count": 2,
   "metadata": {
    "collapsed": true
   },
   "outputs": [],
   "source": [
    "pg_creds = yaml.load(open('../../pg_creds.yaml'))['student']\n",
    "connection_string = 'postgresql://{user}:{password}@{host}:{port}/{dbname}'.format(**pg_creds)"
   ]
  },
  {
   "cell_type": "code",
   "execution_count": 3,
   "metadata": {
    "collapsed": false
   },
   "outputs": [
    {
     "data": {
      "text/plain": [
       "'Connected: student@postgres'"
      ]
     },
     "execution_count": 3,
     "metadata": {},
     "output_type": "execute_result"
    }
   ],
   "source": [
    "# Creates a connection to our Postgres database\n",
    "%sql $connection_string"
   ]
  },
  {
   "cell_type": "code",
   "execution_count": 4,
   "metadata": {
    "collapsed": false
   },
   "outputs": [
    {
     "name": "stdout",
     "output_type": "stream",
     "text": [
      "144015 rows affected.\n"
     ]
    }
   ],
   "source": [
    "# Loads the data from the trips table into a Pandas DataFrame.\n",
    "trips_table = %sql SELECT * FROM trips;\n",
    "trips = trips_table.DataFrame()"
   ]
  },
  {
   "cell_type": "code",
   "execution_count": 5,
   "metadata": {
    "collapsed": false
   },
   "outputs": [
    {
     "data": {
      "text/html": [
       "<div>\n",
       "<table border=\"1\" class=\"dataframe\">\n",
       "  <thead>\n",
       "    <tr style=\"text-align: right;\">\n",
       "      <th></th>\n",
       "      <th>trip_id</th>\n",
       "      <th>duration</th>\n",
       "      <th>start_date</th>\n",
       "      <th>start_station</th>\n",
       "      <th>start_terminal</th>\n",
       "      <th>end_date</th>\n",
       "      <th>end_station</th>\n",
       "      <th>end_terminal</th>\n",
       "      <th>bike_#</th>\n",
       "      <th>subscription_type</th>\n",
       "      <th>zip_code</th>\n",
       "    </tr>\n",
       "  </thead>\n",
       "  <tbody>\n",
       "    <tr>\n",
       "      <th>0</th>\n",
       "      <td>4576</td>\n",
       "      <td>63</td>\n",
       "      <td>2013-08-29 14:13:00</td>\n",
       "      <td>South Van Ness at Market</td>\n",
       "      <td>66</td>\n",
       "      <td>8/29/2013 14:14</td>\n",
       "      <td>South Van Ness at Market</td>\n",
       "      <td>66</td>\n",
       "      <td>520</td>\n",
       "      <td>Subscriber</td>\n",
       "      <td>94127</td>\n",
       "    </tr>\n",
       "    <tr>\n",
       "      <th>1</th>\n",
       "      <td>4607</td>\n",
       "      <td>70</td>\n",
       "      <td>2013-08-29 14:42:00</td>\n",
       "      <td>San Jose City Hall</td>\n",
       "      <td>10</td>\n",
       "      <td>8/29/2013 14:43</td>\n",
       "      <td>San Jose City Hall</td>\n",
       "      <td>10</td>\n",
       "      <td>661</td>\n",
       "      <td>Subscriber</td>\n",
       "      <td>95138</td>\n",
       "    </tr>\n",
       "    <tr>\n",
       "      <th>2</th>\n",
       "      <td>4130</td>\n",
       "      <td>71</td>\n",
       "      <td>2013-08-29 10:16:00</td>\n",
       "      <td>Mountain View City Hall</td>\n",
       "      <td>27</td>\n",
       "      <td>8/29/2013 10:17</td>\n",
       "      <td>Mountain View City Hall</td>\n",
       "      <td>27</td>\n",
       "      <td>48</td>\n",
       "      <td>Subscriber</td>\n",
       "      <td>97214</td>\n",
       "    </tr>\n",
       "    <tr>\n",
       "      <th>3</th>\n",
       "      <td>4251</td>\n",
       "      <td>77</td>\n",
       "      <td>2013-08-29 11:29:00</td>\n",
       "      <td>San Jose City Hall</td>\n",
       "      <td>10</td>\n",
       "      <td>8/29/2013 11:30</td>\n",
       "      <td>San Jose City Hall</td>\n",
       "      <td>10</td>\n",
       "      <td>26</td>\n",
       "      <td>Subscriber</td>\n",
       "      <td>95060</td>\n",
       "    </tr>\n",
       "    <tr>\n",
       "      <th>4</th>\n",
       "      <td>4299</td>\n",
       "      <td>83</td>\n",
       "      <td>2013-08-29 12:02:00</td>\n",
       "      <td>South Van Ness at Market</td>\n",
       "      <td>66</td>\n",
       "      <td>8/29/2013 12:04</td>\n",
       "      <td>Market at 10th</td>\n",
       "      <td>67</td>\n",
       "      <td>319</td>\n",
       "      <td>Subscriber</td>\n",
       "      <td>94103</td>\n",
       "    </tr>\n",
       "  </tbody>\n",
       "</table>\n",
       "</div>"
      ],
      "text/plain": [
       "   trip_id  duration          start_date             start_station  \\\n",
       "0     4576        63 2013-08-29 14:13:00  South Van Ness at Market   \n",
       "1     4607        70 2013-08-29 14:42:00        San Jose City Hall   \n",
       "2     4130        71 2013-08-29 10:16:00   Mountain View City Hall   \n",
       "3     4251        77 2013-08-29 11:29:00        San Jose City Hall   \n",
       "4     4299        83 2013-08-29 12:02:00  South Van Ness at Market   \n",
       "\n",
       "   start_terminal         end_date               end_station  end_terminal  \\\n",
       "0              66  8/29/2013 14:14  South Van Ness at Market            66   \n",
       "1              10  8/29/2013 14:43        San Jose City Hall            10   \n",
       "2              27  8/29/2013 10:17   Mountain View City Hall            27   \n",
       "3              10  8/29/2013 11:30        San Jose City Hall            10   \n",
       "4              66  8/29/2013 12:04            Market at 10th            67   \n",
       "\n",
       "   bike_# subscription_type zip_code  \n",
       "0     520        Subscriber    94127  \n",
       "1     661        Subscriber    95138  \n",
       "2      48        Subscriber    97214  \n",
       "3      26        Subscriber    95060  \n",
       "4     319        Subscriber    94103  "
      ]
     },
     "execution_count": 5,
     "metadata": {},
     "output_type": "execute_result"
    }
   ],
   "source": [
    "trips.head()"
   ]
  },
  {
   "cell_type": "code",
   "execution_count": 8,
   "metadata": {
    "collapsed": false
   },
   "outputs": [
    {
     "data": {
      "text/html": [
       "<div>\n",
       "<table border=\"1\" class=\"dataframe\">\n",
       "  <thead>\n",
       "    <tr style=\"text-align: right;\">\n",
       "      <th></th>\n",
       "      <th>trip_id</th>\n",
       "      <th>duration</th>\n",
       "      <th>start_terminal</th>\n",
       "      <th>end_terminal</th>\n",
       "      <th>bike_#</th>\n",
       "    </tr>\n",
       "  </thead>\n",
       "  <tbody>\n",
       "    <tr>\n",
       "      <th>count</th>\n",
       "      <td>144015.000000</td>\n",
       "      <td>144015.000000</td>\n",
       "      <td>144015.000000</td>\n",
       "      <td>144015.000000</td>\n",
       "      <td>144015.000000</td>\n",
       "    </tr>\n",
       "    <tr>\n",
       "      <th>mean</th>\n",
       "      <td>100967.962129</td>\n",
       "      <td>1230.910141</td>\n",
       "      <td>57.298420</td>\n",
       "      <td>57.352908</td>\n",
       "      <td>437.029407</td>\n",
       "    </tr>\n",
       "    <tr>\n",
       "      <th>std</th>\n",
       "      <td>56121.284410</td>\n",
       "      <td>6652.962329</td>\n",
       "      <td>17.132203</td>\n",
       "      <td>17.101324</td>\n",
       "      <td>138.076365</td>\n",
       "    </tr>\n",
       "    <tr>\n",
       "      <th>min</th>\n",
       "      <td>4069.000000</td>\n",
       "      <td>60.000000</td>\n",
       "      <td>2.000000</td>\n",
       "      <td>2.000000</td>\n",
       "      <td>9.000000</td>\n",
       "    </tr>\n",
       "    <tr>\n",
       "      <th>25%</th>\n",
       "      <td>52138.500000</td>\n",
       "      <td>349.000000</td>\n",
       "      <td>50.000000</td>\n",
       "      <td>50.000000</td>\n",
       "      <td>349.000000</td>\n",
       "    </tr>\n",
       "    <tr>\n",
       "      <th>50%</th>\n",
       "      <td>99969.000000</td>\n",
       "      <td>531.000000</td>\n",
       "      <td>61.000000</td>\n",
       "      <td>61.000000</td>\n",
       "      <td>446.000000</td>\n",
       "    </tr>\n",
       "    <tr>\n",
       "      <th>75%</th>\n",
       "      <td>150090.500000</td>\n",
       "      <td>797.000000</td>\n",
       "      <td>70.000000</td>\n",
       "      <td>70.000000</td>\n",
       "      <td>546.000000</td>\n",
       "    </tr>\n",
       "    <tr>\n",
       "      <th>max</th>\n",
       "      <td>198775.000000</td>\n",
       "      <td>722236.000000</td>\n",
       "      <td>83.000000</td>\n",
       "      <td>83.000000</td>\n",
       "      <td>717.000000</td>\n",
       "    </tr>\n",
       "  </tbody>\n",
       "</table>\n",
       "</div>"
      ],
      "text/plain": [
       "             trip_id       duration  start_terminal   end_terminal  \\\n",
       "count  144015.000000  144015.000000   144015.000000  144015.000000   \n",
       "mean   100967.962129    1230.910141       57.298420      57.352908   \n",
       "std     56121.284410    6652.962329       17.132203      17.101324   \n",
       "min      4069.000000      60.000000        2.000000       2.000000   \n",
       "25%     52138.500000     349.000000       50.000000      50.000000   \n",
       "50%     99969.000000     531.000000       61.000000      61.000000   \n",
       "75%    150090.500000     797.000000       70.000000      70.000000   \n",
       "max    198775.000000  722236.000000       83.000000      83.000000   \n",
       "\n",
       "              bike_#  \n",
       "count  144015.000000  \n",
       "mean      437.029407  \n",
       "std       138.076365  \n",
       "min         9.000000  \n",
       "25%       349.000000  \n",
       "50%       446.000000  \n",
       "75%       546.000000  \n",
       "max       717.000000  "
      ]
     },
     "execution_count": 8,
     "metadata": {},
     "output_type": "execute_result"
    }
   ],
   "source": [
    "trips.describe()"
   ]
  },
  {
   "cell_type": "code",
   "execution_count": 11,
   "metadata": {
    "collapsed": false
   },
   "outputs": [
    {
     "name": "stdout",
     "output_type": "stream",
     "text": [
      "<class 'pandas.core.frame.DataFrame'>\n",
      "RangeIndex: 144015 entries, 0 to 144014\n",
      "Data columns (total 11 columns):\n",
      "trip_id              144015 non-null int64\n",
      "duration             144015 non-null int64\n",
      "start_date           144015 non-null datetime64[ns]\n",
      "start_station        144015 non-null object\n",
      "start_terminal       144015 non-null int64\n",
      "end_date             144015 non-null object\n",
      "end_station          144015 non-null object\n",
      "end_terminal         144015 non-null int64\n",
      "bike_#               144015 non-null int64\n",
      "subscription_type    144015 non-null object\n",
      "zip_code             137885 non-null object\n",
      "dtypes: datetime64[ns](1), int64(5), object(5)\n",
      "memory usage: 12.1+ MB\n"
     ]
    }
   ],
   "source": [
    "trips.info()"
   ]
  },
  {
   "cell_type": "code",
   "execution_count": 44,
   "metadata": {
    "collapsed": false
   },
   "outputs": [],
   "source": [
    "del trips['month']\n",
    "del trips['date']\n",
    "del trips['hour']\n",
    "del trips['dayofweek']"
   ]
  },
  {
   "cell_type": "code",
   "execution_count": 45,
   "metadata": {
    "collapsed": false
   },
   "outputs": [],
   "source": [
    "# http://pandas.pydata.org/pandas-docs/stable/timeseries.html\n",
    "# http://pandas.pydata.org/pandas-docs/stable/dsintro.html#column-selection-addition-deletion\n",
    "# http://pandas.pydata.org/pandas-docs/stable/generated/pandas.DatetimeIndex.dayofweek.html\n",
    "trips.insert(3,'month', trips['start_date'].apply(lambda x: x.month))\n",
    "trips.insert(4,'dayofweek', trips['start_date'].apply(lambda x: x.dayofweek))\n",
    "trips.insert(5,'date', trips['start_date'].apply(lambda x: x.date()))\n",
    "trips.insert(6,'hour', trips['start_date'].apply(lambda x: x.hour))"
   ]
  },
  {
   "cell_type": "code",
   "execution_count": 46,
   "metadata": {
    "collapsed": false
   },
   "outputs": [
    {
     "data": {
      "text/html": [
       "<div>\n",
       "<table border=\"1\" class=\"dataframe\">\n",
       "  <thead>\n",
       "    <tr style=\"text-align: right;\">\n",
       "      <th></th>\n",
       "      <th>trip_id</th>\n",
       "      <th>duration</th>\n",
       "      <th>start_date</th>\n",
       "      <th>month</th>\n",
       "      <th>dayofweek</th>\n",
       "      <th>date</th>\n",
       "      <th>hour</th>\n",
       "      <th>start_station</th>\n",
       "      <th>start_terminal</th>\n",
       "      <th>end_date</th>\n",
       "      <th>end_station</th>\n",
       "      <th>end_terminal</th>\n",
       "      <th>bike_#</th>\n",
       "      <th>subscription_type</th>\n",
       "      <th>zip_code</th>\n",
       "    </tr>\n",
       "  </thead>\n",
       "  <tbody>\n",
       "    <tr>\n",
       "      <th>0</th>\n",
       "      <td>4576</td>\n",
       "      <td>63</td>\n",
       "      <td>2013-08-29 14:13:00</td>\n",
       "      <td>8</td>\n",
       "      <td>3</td>\n",
       "      <td>2013-08-29</td>\n",
       "      <td>14</td>\n",
       "      <td>South Van Ness at Market</td>\n",
       "      <td>66</td>\n",
       "      <td>8/29/2013 14:14</td>\n",
       "      <td>South Van Ness at Market</td>\n",
       "      <td>66</td>\n",
       "      <td>520</td>\n",
       "      <td>Subscriber</td>\n",
       "      <td>94127</td>\n",
       "    </tr>\n",
       "    <tr>\n",
       "      <th>1</th>\n",
       "      <td>4607</td>\n",
       "      <td>70</td>\n",
       "      <td>2013-08-29 14:42:00</td>\n",
       "      <td>8</td>\n",
       "      <td>3</td>\n",
       "      <td>2013-08-29</td>\n",
       "      <td>14</td>\n",
       "      <td>San Jose City Hall</td>\n",
       "      <td>10</td>\n",
       "      <td>8/29/2013 14:43</td>\n",
       "      <td>San Jose City Hall</td>\n",
       "      <td>10</td>\n",
       "      <td>661</td>\n",
       "      <td>Subscriber</td>\n",
       "      <td>95138</td>\n",
       "    </tr>\n",
       "    <tr>\n",
       "      <th>2</th>\n",
       "      <td>4130</td>\n",
       "      <td>71</td>\n",
       "      <td>2013-08-29 10:16:00</td>\n",
       "      <td>8</td>\n",
       "      <td>3</td>\n",
       "      <td>2013-08-29</td>\n",
       "      <td>10</td>\n",
       "      <td>Mountain View City Hall</td>\n",
       "      <td>27</td>\n",
       "      <td>8/29/2013 10:17</td>\n",
       "      <td>Mountain View City Hall</td>\n",
       "      <td>27</td>\n",
       "      <td>48</td>\n",
       "      <td>Subscriber</td>\n",
       "      <td>97214</td>\n",
       "    </tr>\n",
       "    <tr>\n",
       "      <th>3</th>\n",
       "      <td>4251</td>\n",
       "      <td>77</td>\n",
       "      <td>2013-08-29 11:29:00</td>\n",
       "      <td>8</td>\n",
       "      <td>3</td>\n",
       "      <td>2013-08-29</td>\n",
       "      <td>11</td>\n",
       "      <td>San Jose City Hall</td>\n",
       "      <td>10</td>\n",
       "      <td>8/29/2013 11:30</td>\n",
       "      <td>San Jose City Hall</td>\n",
       "      <td>10</td>\n",
       "      <td>26</td>\n",
       "      <td>Subscriber</td>\n",
       "      <td>95060</td>\n",
       "    </tr>\n",
       "    <tr>\n",
       "      <th>4</th>\n",
       "      <td>4299</td>\n",
       "      <td>83</td>\n",
       "      <td>2013-08-29 12:02:00</td>\n",
       "      <td>8</td>\n",
       "      <td>3</td>\n",
       "      <td>2013-08-29</td>\n",
       "      <td>12</td>\n",
       "      <td>South Van Ness at Market</td>\n",
       "      <td>66</td>\n",
       "      <td>8/29/2013 12:04</td>\n",
       "      <td>Market at 10th</td>\n",
       "      <td>67</td>\n",
       "      <td>319</td>\n",
       "      <td>Subscriber</td>\n",
       "      <td>94103</td>\n",
       "    </tr>\n",
       "  </tbody>\n",
       "</table>\n",
       "</div>"
      ],
      "text/plain": [
       "   trip_id  duration          start_date  month  dayofweek        date  hour  \\\n",
       "0     4576        63 2013-08-29 14:13:00      8          3  2013-08-29    14   \n",
       "1     4607        70 2013-08-29 14:42:00      8          3  2013-08-29    14   \n",
       "2     4130        71 2013-08-29 10:16:00      8          3  2013-08-29    10   \n",
       "3     4251        77 2013-08-29 11:29:00      8          3  2013-08-29    11   \n",
       "4     4299        83 2013-08-29 12:02:00      8          3  2013-08-29    12   \n",
       "\n",
       "              start_station  start_terminal         end_date  \\\n",
       "0  South Van Ness at Market              66  8/29/2013 14:14   \n",
       "1        San Jose City Hall              10  8/29/2013 14:43   \n",
       "2   Mountain View City Hall              27  8/29/2013 10:17   \n",
       "3        San Jose City Hall              10  8/29/2013 11:30   \n",
       "4  South Van Ness at Market              66  8/29/2013 12:04   \n",
       "\n",
       "                end_station  end_terminal  bike_# subscription_type zip_code  \n",
       "0  South Van Ness at Market            66     520        Subscriber    94127  \n",
       "1        San Jose City Hall            10     661        Subscriber    95138  \n",
       "2   Mountain View City Hall            27      48        Subscriber    97214  \n",
       "3        San Jose City Hall            10      26        Subscriber    95060  \n",
       "4            Market at 10th            67     319        Subscriber    94103  "
      ]
     },
     "execution_count": 46,
     "metadata": {},
     "output_type": "execute_result"
    }
   ],
   "source": [
    "trips.head()"
   ]
  },
  {
   "cell_type": "code",
   "execution_count": 47,
   "metadata": {
    "collapsed": false
   },
   "outputs": [
    {
     "data": {
      "text/html": [
       "<div>\n",
       "<table border=\"1\" class=\"dataframe\">\n",
       "  <thead>\n",
       "    <tr style=\"text-align: right;\">\n",
       "      <th></th>\n",
       "      <th>trip_id</th>\n",
       "      <th>duration</th>\n",
       "      <th>start_date</th>\n",
       "      <th>dayofweek</th>\n",
       "      <th>date</th>\n",
       "      <th>hour</th>\n",
       "      <th>start_station</th>\n",
       "      <th>start_terminal</th>\n",
       "      <th>end_date</th>\n",
       "      <th>end_station</th>\n",
       "      <th>end_terminal</th>\n",
       "      <th>bike_#</th>\n",
       "      <th>subscription_type</th>\n",
       "      <th>zip_code</th>\n",
       "    </tr>\n",
       "    <tr>\n",
       "      <th>month</th>\n",
       "      <th></th>\n",
       "      <th></th>\n",
       "      <th></th>\n",
       "      <th></th>\n",
       "      <th></th>\n",
       "      <th></th>\n",
       "      <th></th>\n",
       "      <th></th>\n",
       "      <th></th>\n",
       "      <th></th>\n",
       "      <th></th>\n",
       "      <th></th>\n",
       "      <th></th>\n",
       "      <th></th>\n",
       "    </tr>\n",
       "  </thead>\n",
       "  <tbody>\n",
       "    <tr>\n",
       "      <th>1</th>\n",
       "      <td>24428</td>\n",
       "      <td>24428</td>\n",
       "      <td>24428</td>\n",
       "      <td>24428</td>\n",
       "      <td>24428</td>\n",
       "      <td>24428</td>\n",
       "      <td>24428</td>\n",
       "      <td>24428</td>\n",
       "      <td>24428</td>\n",
       "      <td>24428</td>\n",
       "      <td>24428</td>\n",
       "      <td>24428</td>\n",
       "      <td>24428</td>\n",
       "      <td>23789</td>\n",
       "    </tr>\n",
       "    <tr>\n",
       "      <th>2</th>\n",
       "      <td>19024</td>\n",
       "      <td>19024</td>\n",
       "      <td>19024</td>\n",
       "      <td>19024</td>\n",
       "      <td>19024</td>\n",
       "      <td>19024</td>\n",
       "      <td>19024</td>\n",
       "      <td>19024</td>\n",
       "      <td>19024</td>\n",
       "      <td>19024</td>\n",
       "      <td>19024</td>\n",
       "      <td>19024</td>\n",
       "      <td>19024</td>\n",
       "      <td>18487</td>\n",
       "    </tr>\n",
       "    <tr>\n",
       "      <th>8</th>\n",
       "      <td>2102</td>\n",
       "      <td>2102</td>\n",
       "      <td>2102</td>\n",
       "      <td>2102</td>\n",
       "      <td>2102</td>\n",
       "      <td>2102</td>\n",
       "      <td>2102</td>\n",
       "      <td>2102</td>\n",
       "      <td>2102</td>\n",
       "      <td>2102</td>\n",
       "      <td>2102</td>\n",
       "      <td>2102</td>\n",
       "      <td>2102</td>\n",
       "      <td>1916</td>\n",
       "    </tr>\n",
       "    <tr>\n",
       "      <th>9</th>\n",
       "      <td>25243</td>\n",
       "      <td>25243</td>\n",
       "      <td>25243</td>\n",
       "      <td>25243</td>\n",
       "      <td>25243</td>\n",
       "      <td>25243</td>\n",
       "      <td>25243</td>\n",
       "      <td>25243</td>\n",
       "      <td>25243</td>\n",
       "      <td>25243</td>\n",
       "      <td>25243</td>\n",
       "      <td>25243</td>\n",
       "      <td>25243</td>\n",
       "      <td>23377</td>\n",
       "    </tr>\n",
       "    <tr>\n",
       "      <th>10</th>\n",
       "      <td>29105</td>\n",
       "      <td>29105</td>\n",
       "      <td>29105</td>\n",
       "      <td>29105</td>\n",
       "      <td>29105</td>\n",
       "      <td>29105</td>\n",
       "      <td>29105</td>\n",
       "      <td>29105</td>\n",
       "      <td>29105</td>\n",
       "      <td>29105</td>\n",
       "      <td>29105</td>\n",
       "      <td>29105</td>\n",
       "      <td>29105</td>\n",
       "      <td>27822</td>\n",
       "    </tr>\n",
       "    <tr>\n",
       "      <th>11</th>\n",
       "      <td>24219</td>\n",
       "      <td>24219</td>\n",
       "      <td>24219</td>\n",
       "      <td>24219</td>\n",
       "      <td>24219</td>\n",
       "      <td>24219</td>\n",
       "      <td>24219</td>\n",
       "      <td>24219</td>\n",
       "      <td>24219</td>\n",
       "      <td>24219</td>\n",
       "      <td>24219</td>\n",
       "      <td>24219</td>\n",
       "      <td>24219</td>\n",
       "      <td>23309</td>\n",
       "    </tr>\n",
       "    <tr>\n",
       "      <th>12</th>\n",
       "      <td>19894</td>\n",
       "      <td>19894</td>\n",
       "      <td>19894</td>\n",
       "      <td>19894</td>\n",
       "      <td>19894</td>\n",
       "      <td>19894</td>\n",
       "      <td>19894</td>\n",
       "      <td>19894</td>\n",
       "      <td>19894</td>\n",
       "      <td>19894</td>\n",
       "      <td>19894</td>\n",
       "      <td>19894</td>\n",
       "      <td>19894</td>\n",
       "      <td>19185</td>\n",
       "    </tr>\n",
       "  </tbody>\n",
       "</table>\n",
       "</div>"
      ],
      "text/plain": [
       "       trip_id  duration  start_date  dayofweek   date   hour  start_station  \\\n",
       "month                                                                          \n",
       "1        24428     24428       24428      24428  24428  24428          24428   \n",
       "2        19024     19024       19024      19024  19024  19024          19024   \n",
       "8         2102      2102        2102       2102   2102   2102           2102   \n",
       "9        25243     25243       25243      25243  25243  25243          25243   \n",
       "10       29105     29105       29105      29105  29105  29105          29105   \n",
       "11       24219     24219       24219      24219  24219  24219          24219   \n",
       "12       19894     19894       19894      19894  19894  19894          19894   \n",
       "\n",
       "       start_terminal  end_date  end_station  end_terminal  bike_#  \\\n",
       "month                                                                \n",
       "1               24428     24428        24428         24428   24428   \n",
       "2               19024     19024        19024         19024   19024   \n",
       "8                2102      2102         2102          2102    2102   \n",
       "9               25243     25243        25243         25243   25243   \n",
       "10              29105     29105        29105         29105   29105   \n",
       "11              24219     24219        24219         24219   24219   \n",
       "12              19894     19894        19894         19894   19894   \n",
       "\n",
       "       subscription_type  zip_code  \n",
       "month                               \n",
       "1                  24428     23789  \n",
       "2                  19024     18487  \n",
       "8                   2102      1916  \n",
       "9                  25243     23377  \n",
       "10                 29105     27822  \n",
       "11                 24219     23309  \n",
       "12                 19894     19185  "
      ]
     },
     "execution_count": 47,
     "metadata": {},
     "output_type": "execute_result"
    }
   ],
   "source": [
    "trips.groupby('month').count()"
   ]
  },
  {
   "cell_type": "code",
   "execution_count": 48,
   "metadata": {
    "collapsed": false
   },
   "outputs": [
    {
     "data": {
      "text/plain": [
       "<matplotlib.axes._subplots.AxesSubplot at 0x1252db080>"
      ]
     },
     "execution_count": 48,
     "metadata": {},
     "output_type": "execute_result"
    },
    {
     "data": {
      "image/png": "[encoded data removed]",
      "text/plain": [
       "<matplotlib.figure.Figure at 0x115570438>"
      ]
     },
     "metadata": {},
     "output_type": "display_data"
    }
   ],
   "source": [
    "import seaborn as sns\n",
    "sns.countplot(x='month', data=trips)"
   ]
  },
  {
   "cell_type": "markdown",
   "metadata": {},
   "source": [
    "It's strange that in the month of August, bike rentals are so low because it's the classical vacation month. Also, we don't have data from March to July. Interestingly, October is the month with most rentals, perhaps because it's the best weather in the Bay Area."
   ]
  },
  {
   "cell_type": "code",
   "execution_count": 56,
   "metadata": {
    "collapsed": false
   },
   "outputs": [],
   "source": [
    "trips_sept_dec = trips[trips.month > 8]"
   ]
  },
  {
   "cell_type": "code",
   "execution_count": 103,
   "metadata": {
    "collapsed": false
   },
   "outputs": [
    {
     "data": {
      "text/plain": [
       "<matplotlib.lines.Line2D at 0x1309a4ac8>"
      ]
     },
     "execution_count": 103,
     "metadata": {},
     "output_type": "execute_result"
    },
    {
     "data": {
      "image/png": "[encoded data removed]",
      "text/plain": [
       "<matplotlib.figure.Figure at 0x13064a470>"
      ]
     },
     "metadata": {},
     "output_type": "display_data"
    }
   ],
   "source": [
    "chart = trips_sept_dec.groupby('date').count()['trip_id'].plot()\n",
    "chart.set(xlabel=\"Month\", ylabel=\"Users\")\n",
    "chart.axhline(y=trips_sept_dec.groupby('date').count()['trip_id'].mean())\n",
    "mean_std_plus = trips_sept_dec.groupby('date').count()['trip_id'].mean() + 1.5 * trips_sept_dec.groupby('date').count()['trip_id'].std()\n",
    "mean_std_minus = trips_sept_dec.groupby('date').count()['trip_id'].mean() - 1.5 * trips_sept_dec.groupby('date').count()['trip_id'].std()\n",
    "chart.axhline(y=mean_std_plus, color='red', ls='dashed')\n",
    "chart.axhline(y=mean_std_minus, color='red', ls='dashed')"
   ]
  },
  {
   "cell_type": "markdown",
   "metadata": {},
   "source": [
    "Most observations that are outliers appear to be in December, and below the mark of the mean - 1.5 x the standard deviation. There's a downwards tendency from November to December."
   ]
  },
  {
   "cell_type": "code",
   "execution_count": 75,
   "metadata": {
    "collapsed": false
   },
   "outputs": [
    {
     "name": "stderr",
     "output_type": "stream",
     "text": [
      "//anaconda/lib/python3.5/site-packages/statsmodels/nonparametric/kdetools.py:20: VisibleDeprecationWarning: using a non-integer number instead of an integer will result in an error in the future\n",
      "  y = X[:m/2+1] + np.r_[0,X[m/2+1:],0]*1j\n"
     ]
    },
    {
     "data": {
      "text/plain": [
       "[<matplotlib.text.Text at 0x12ef3c240>, <matplotlib.text.Text at 0x12310aeb8>]"
      ]
     },
     "execution_count": 75,
     "metadata": {},
     "output_type": "execute_result"
    },
    {
     "data": {
      "image/png": "[encoded data removed]",
      "text/plain": [
       "<matplotlib.figure.Figure at 0x123118400>"
      ]
     },
     "metadata": {},
     "output_type": "display_data"
    }
   ],
   "source": [
    "hist_chart = sns.distplot(trips.groupby('date').count()['trip_id'])\n",
    "hist_chart.set(xlabel=\"Number of Users\", ylabel=\"Density\")"
   ]
  },
  {
   "cell_type": "markdown",
   "metadata": {},
   "source": [
    "It seems we have a bimodal distribution since we have two peaks."
   ]
  },
  {
   "cell_type": "code",
   "execution_count": 185,
   "metadata": {
    "collapsed": false
   },
   "outputs": [
    {
     "data": {
      "image/png": "[encoded data removed]",
      "text/plain": [
       "<matplotlib.figure.Figure at 0x1337e9f98>"
      ]
     },
     "metadata": {},
     "output_type": "display_data"
    }
   ],
   "source": [
    "trips_date_hour = trips.groupby(['date', 'hour']).count()['trip_id'].plot()"
   ]
  },
  {
   "cell_type": "code",
   "execution_count": 135,
   "metadata": {
    "collapsed": false
   },
   "outputs": [
    {
     "data": {
      "text/plain": [
       "[<matplotlib.text.Text at 0x130500a20>, <matplotlib.text.Text at 0x12f412c50>]"
      ]
     },
     "execution_count": 135,
     "metadata": {},
     "output_type": "execute_result"
    },
    {
     "data": {
      "image/png": "[encoded data removed]",
      "text/plain": [
       "<matplotlib.figure.Figure at 0x1284e9b38>"
      ]
     },
     "metadata": {},
     "output_type": "display_data"
    }
   ],
   "source": [
    "box_plt = sns.boxplot(x=trips.hour, y=trips.groupby(['date', 'hour']).count()['trip_id'].values)\n",
    "box_plt.set(xlabel=\"Hour of the Day\", ylabel=\"User Frequency\")"
   ]
  },
  {
   "cell_type": "code",
   "execution_count": 170,
   "metadata": {
    "collapsed": false
   },
   "outputs": [
    {
     "data": {
      "image/png": "[encoded data removed]",
      "text/plain": [
       "<matplotlib.figure.Figure at 0x1337d9780>"
      ]
     },
     "metadata": {},
     "output_type": "display_data"
    }
   ],
   "source": [
    "# http://blog.bharatbhole.com/creating-boxplots-with-matplotlib/\n",
    "import matplotlib.pyplot as plt\n",
    "\n",
    "data_to_plot = trips.groupby(['date', 'hour']).count()['trip_id'].values\n",
    "# Create figure instance.\n",
    "fig = plt.figure(1, figsize=(9,6))\n",
    "# Create axis instance.\n",
    "ax = fig.add_subplot(111)\n",
    "# Create boxplot.\n",
    "bp = ax.boxplot(data_to_plot, patch_artist=True)\n",
    "\n",
    "# Custom label.\n",
    "ax.set_xticklabels(['Hour of the day'])\n",
    "\n",
    "# Change outline color, fill color and linewidth of the boxes.\n",
    "for box in bp['boxes']:\n",
    "    box.set(color=\"#7570b3\", linewidth=2)\n",
    "    box.set(facecolor=\"#1b9e77\")\n",
    "    \n",
    "# Change color and linewidth of the whiskers.\n",
    "for whisker in bp['whiskers']:\n",
    "    box.set(color=\"#7570b3\", linewidth=2)\n",
    "\n",
    "# Change color and linewidth of the medians.\n",
    "for median in bp['medians']:\n",
    "    median.set(color='#b2df8a', linewidth=2)\n",
    "\n",
    "# Change the style of flier and their fill.\n",
    "for flier in bp['fliers']:\n",
    "    flier.set(marker='o', color='#e7298a', alpha=0.5)"
   ]
  },
  {
   "cell_type": "markdown",
   "metadata": {},
   "source": [
    "<b>6.</b> Comparing the line plot with the boxplot, by not using the boxplot we can't tell if we have outliers, we can't speak about the dispersion of the data and locate the median. The line plot seems to be using only the max. values, which is a misrepresentation."
   ]
  },
  {
   "cell_type": "code",
   "execution_count": null,
   "metadata": {
    "collapsed": true
   },
   "outputs": [],
   "source": []
  }
 ],
 "metadata": {
  "kernelspec": {
   "display_name": "Python [Root]",
   "language": "python",
   "name": "Python [Root]"
  },
  "language_info": {
   "codemirror_mode": {
    "name": "ipython",
    "version": 3
   },
   "file_extension": ".py",
   "mimetype": "text/x-python",
   "name": "python",
   "nbconvert_exporter": "python",
   "pygments_lexer": "ipython3",
   "version": "3.5.2"
  }
 },
 "nbformat": 4,
 "nbformat_minor": 0
}
