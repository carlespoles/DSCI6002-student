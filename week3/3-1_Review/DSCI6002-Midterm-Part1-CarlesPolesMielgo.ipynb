{
 "cells": [
  {
   "cell_type": "markdown",
   "metadata": {},
   "source": [
    "# Midterm Part 1 - _Due Monday, September 19_\n",
    "---\n",
    "## Note: this is part of the midterm. It is _not_ a paired programming assignment. **You must complete this lab _on your own_**. \n",
    "---\n",
    "### We'll be exploring the Pokemon dataset from [Kaggle](http://www.kaggle.com).\n",
    "The dataset was downloaded from https://www.kaggle.com/abcsds/pokemon. \n",
    "\n",
    "1. sign up or log in\n",
    "2. accept terms and conditions (if necessary)\n",
    "3. download `pokemon.zip`\n",
    "4. unzip it to your local directory\n",
    "\n",
    "After loading and cleaning the data:\n",
    "\n",
    "+ **SQL**: \n",
    "    - Which Pokemon seems the most useful (largest `Total` value)?\n",
    "    - Come up with at least one other question that can be answered using SQL (and answer it).\n",
    "+ **EDA**: \n",
    "    - Calculate the percent of distinct Pokemon that are Legendary (distinct means unique Pokemon `#`).\n",
    "    - Make at least one barplot of a categorical variable\n",
    "    - Make at least one boxplot of continuous variables\n",
    "    - Make at least one boxplot of continuous variables grouped by a categorical variable\n",
    "+ **EDA/Statistics**: \n",
    "    - Calculate the mean and standard deviation of the `total` column for each Pokemon Type 1.\n",
    "    - Calculate the mean and standard deviation of at least one other continuous variable\n",
    "+ **Statistics/Random Sampling** - For the following questions, draw a sample of 100:\n",
    "    - Compare sample statistics & population statistics for Attack points.\n",
    "    - Make histograms of the Attack points sample & Attack points population.\n",
    "    - Compare sample statistics & population statistics for at least one other continuous variable.\n",
    "    - Make histograms of the Attack points sample & at least one other continuous variable in the population.\n",
    "+ **Probability**: Assume you are a Pokemaster and have caught every Pokemon. You pick 6 Pokemon at random to carry.\n",
    "     - What's the probability that they are all Water type? (probability of a Pokemon with Type 1 or Type 2 of `Water`)\n",
    "     - Come up with at least one more scenario for your set of six Pokemon and compute the probability of getting it.\n",
    "\n",
    "***\n",
    "## Setup & clean the data\n",
    "### First, load the packages that will be used in this notebook."
   ]
  },
  {
   "cell_type": "code",
   "execution_count": 1,
   "metadata": {
    "collapsed": false
   },
   "outputs": [
    {
     "name": "stdout",
     "output_type": "stream",
     "text": [
      "Populating the interactive namespace from numpy and matplotlib\n"
     ]
    }
   ],
   "source": [
    "%pylab inline\n",
    "\n",
    "import pandas as pd\n",
    "import seaborn as sns\n",
    "\n",
    "from sqlalchemy import create_engine\n",
    "\n",
    "random.seed(1234)\n",
    "sns.set(font_scale=1.5)"
   ]
  },
  {
   "cell_type": "markdown",
   "metadata": {},
   "source": [
    "### Next, load the csv file into a DataFrame and look at the first few lines."
   ]
  },
  {
   "cell_type": "code",
   "execution_count": 2,
   "metadata": {
    "collapsed": false
   },
   "outputs": [
    {
     "data": {
      "text/html": [
       "<div>\n",
       "<table border=\"1\" class=\"dataframe\">\n",
       "  <thead>\n",
       "    <tr style=\"text-align: right;\">\n",
       "      <th></th>\n",
       "      <th>#</th>\n",
       "      <th>Name</th>\n",
       "      <th>Type 1</th>\n",
       "      <th>Type 2</th>\n",
       "      <th>Total</th>\n",
       "      <th>HP</th>\n",
       "      <th>Attack</th>\n",
       "      <th>Defense</th>\n",
       "      <th>Sp. Atk</th>\n",
       "      <th>Sp. Def</th>\n",
       "      <th>Speed</th>\n",
       "      <th>Generation</th>\n",
       "      <th>Legendary</th>\n",
       "    </tr>\n",
       "  </thead>\n",
       "  <tbody>\n",
       "    <tr>\n",
       "      <th>0</th>\n",
       "      <td>1</td>\n",
       "      <td>Bulbasaur</td>\n",
       "      <td>Grass</td>\n",
       "      <td>Poison</td>\n",
       "      <td>318</td>\n",
       "      <td>45</td>\n",
       "      <td>49</td>\n",
       "      <td>49</td>\n",
       "      <td>65</td>\n",
       "      <td>65</td>\n",
       "      <td>45</td>\n",
       "      <td>1</td>\n",
       "      <td>False</td>\n",
       "    </tr>\n",
       "    <tr>\n",
       "      <th>1</th>\n",
       "      <td>2</td>\n",
       "      <td>Ivysaur</td>\n",
       "      <td>Grass</td>\n",
       "      <td>Poison</td>\n",
       "      <td>405</td>\n",
       "      <td>60</td>\n",
       "      <td>62</td>\n",
       "      <td>63</td>\n",
       "      <td>80</td>\n",
       "      <td>80</td>\n",
       "      <td>60</td>\n",
       "      <td>1</td>\n",
       "      <td>False</td>\n",
       "    </tr>\n",
       "    <tr>\n",
       "      <th>2</th>\n",
       "      <td>3</td>\n",
       "      <td>Venusaur</td>\n",
       "      <td>Grass</td>\n",
       "      <td>Poison</td>\n",
       "      <td>525</td>\n",
       "      <td>80</td>\n",
       "      <td>82</td>\n",
       "      <td>83</td>\n",
       "      <td>100</td>\n",
       "      <td>100</td>\n",
       "      <td>80</td>\n",
       "      <td>1</td>\n",
       "      <td>False</td>\n",
       "    </tr>\n",
       "    <tr>\n",
       "      <th>3</th>\n",
       "      <td>3</td>\n",
       "      <td>VenusaurMega Venusaur</td>\n",
       "      <td>Grass</td>\n",
       "      <td>Poison</td>\n",
       "      <td>625</td>\n",
       "      <td>80</td>\n",
       "      <td>100</td>\n",
       "      <td>123</td>\n",
       "      <td>122</td>\n",
       "      <td>120</td>\n",
       "      <td>80</td>\n",
       "      <td>1</td>\n",
       "      <td>False</td>\n",
       "    </tr>\n",
       "    <tr>\n",
       "      <th>4</th>\n",
       "      <td>4</td>\n",
       "      <td>Charmander</td>\n",
       "      <td>Fire</td>\n",
       "      <td>NaN</td>\n",
       "      <td>309</td>\n",
       "      <td>39</td>\n",
       "      <td>52</td>\n",
       "      <td>43</td>\n",
       "      <td>60</td>\n",
       "      <td>50</td>\n",
       "      <td>65</td>\n",
       "      <td>1</td>\n",
       "      <td>False</td>\n",
       "    </tr>\n",
       "  </tbody>\n",
       "</table>\n",
       "</div>"
      ],
      "text/plain": [
       "   #                   Name Type 1  Type 2  Total  HP  Attack  Defense  \\\n",
       "0  1              Bulbasaur  Grass  Poison    318  45      49       49   \n",
       "1  2                Ivysaur  Grass  Poison    405  60      62       63   \n",
       "2  3               Venusaur  Grass  Poison    525  80      82       83   \n",
       "3  3  VenusaurMega Venusaur  Grass  Poison    625  80     100      123   \n",
       "4  4             Charmander   Fire     NaN    309  39      52       43   \n",
       "\n",
       "   Sp. Atk  Sp. Def  Speed  Generation Legendary  \n",
       "0       65       65     45           1     False  \n",
       "1       80       80     60           1     False  \n",
       "2      100      100     80           1     False  \n",
       "3      122      120     80           1     False  \n",
       "4       60       50     65           1     False  "
      ]
     },
     "execution_count": 2,
     "metadata": {},
     "output_type": "execute_result"
    }
   ],
   "source": [
    "df = pd.read_csv('Pokemon.csv')\n",
    "df.head()"
   ]
  },
  {
   "cell_type": "markdown",
   "metadata": {},
   "source": [
    "Here are some variable descriptions from the Kaggle website:\n",
    "\n",
    "|Variable|Description|\n",
    "|:-:|:--|\n",
    "|**#**|ID for each pokemon|\n",
    "|**Name**|Name of each pokemon|\n",
    "|**Type 1**|Each pokemon has a type, this determines weakness/resistance to attacks|\n",
    "|**Type 2**|Some pokemon are dual type and have 2|\n",
    "|**Total**|sum of all stats that come after this, a general guide to how strong a pokemon is|\n",
    "|**HP**|hit points, or health, defines how much damage a pokemon can withstand before fainting|\n",
    "|**Attack**|the base modifier for normal attacks (eg. Scratch, Punch)|\n",
    "|**Defense**|the base damage resistance against normal attacks|\n",
    "|**SP. Atk**|special attack, the base modifier for special attacks (e.g. fire blast, bubble beam)|\n",
    "|**SP. Def**|the base damage resistance against special attacks|\n",
    "|**Speed**|determines which pokemon attacks first each round|\n",
    "|**Generation**|the number of the generation a pokemon belongs to\n",
    "|**Legendary**|boolean value indicating if a pokemon is Legendary (True) or not Legendary (False)|\n",
    "\n",
    "Notice that there are multiple entries for Pokemon \\#3 (Venusaur). We won't be able to set `#` as the index since it contains duplicates.\n",
    "\n",
    "We can also modify the column names to get rid of periods and spaces. The column names should also be lowercased for use with SQLite."
   ]
  },
  {
   "cell_type": "code",
   "execution_count": 3,
   "metadata": {
    "collapsed": false
   },
   "outputs": [
    {
     "name": "stdout",
     "output_type": "stream",
     "text": [
      "Index(['#', 'name', 'type1', 'type2', 'total', 'hp', 'attack', 'defense',\n",
      "       'spatk', 'spdef', 'speed', 'generation', 'legendary'],\n",
      "      dtype='object')\n"
     ]
    }
   ],
   "source": [
    "# Lowercase and replace periods & spaces in the column names\n",
    "new_names = []\n",
    "\n",
    "for col in df.columns:\n",
    "    new_names.append(col.replace('.', '', len(col)).replace(' ', '', len(col)).lower())\n",
    "\n",
    "df.columns = new_names\n",
    "\n",
    "print(df.columns)"
   ]
  },
  {
   "cell_type": "markdown",
   "metadata": {},
   "source": [
    "Let's also convert `Legendary` to a binary column, where `1` represents `True` and `0` represents `False`.\n",
    "\n",
    "Python's lambda functions are useful for defining functions in-line. You can read more at:<br>\n",
    "https://pythonconquerstheuniverse.wordpress.com/2011/08/29/lambda_tutorial/<br>\n",
    "http://stackoverflow.com/questions/890128/why-are-python-lambdas-useful"
   ]
  },
  {
   "cell_type": "code",
   "execution_count": 4,
   "metadata": {
    "collapsed": false
   },
   "outputs": [
    {
     "data": {
      "text/html": [
       "<div>\n",
       "<table border=\"1\" class=\"dataframe\">\n",
       "  <thead>\n",
       "    <tr style=\"text-align: right;\">\n",
       "      <th></th>\n",
       "      <th>#</th>\n",
       "      <th>name</th>\n",
       "      <th>type1</th>\n",
       "      <th>type2</th>\n",
       "      <th>total</th>\n",
       "      <th>hp</th>\n",
       "      <th>attack</th>\n",
       "      <th>defense</th>\n",
       "      <th>spatk</th>\n",
       "      <th>spdef</th>\n",
       "      <th>speed</th>\n",
       "      <th>generation</th>\n",
       "      <th>legendary</th>\n",
       "    </tr>\n",
       "  </thead>\n",
       "  <tbody>\n",
       "    <tr>\n",
       "      <th>0</th>\n",
       "      <td>1</td>\n",
       "      <td>Bulbasaur</td>\n",
       "      <td>Grass</td>\n",
       "      <td>Poison</td>\n",
       "      <td>318</td>\n",
       "      <td>45</td>\n",
       "      <td>49</td>\n",
       "      <td>49</td>\n",
       "      <td>65</td>\n",
       "      <td>65</td>\n",
       "      <td>45</td>\n",
       "      <td>1</td>\n",
       "      <td>0</td>\n",
       "    </tr>\n",
       "    <tr>\n",
       "      <th>1</th>\n",
       "      <td>2</td>\n",
       "      <td>Ivysaur</td>\n",
       "      <td>Grass</td>\n",
       "      <td>Poison</td>\n",
       "      <td>405</td>\n",
       "      <td>60</td>\n",
       "      <td>62</td>\n",
       "      <td>63</td>\n",
       "      <td>80</td>\n",
       "      <td>80</td>\n",
       "      <td>60</td>\n",
       "      <td>1</td>\n",
       "      <td>0</td>\n",
       "    </tr>\n",
       "    <tr>\n",
       "      <th>2</th>\n",
       "      <td>3</td>\n",
       "      <td>Venusaur</td>\n",
       "      <td>Grass</td>\n",
       "      <td>Poison</td>\n",
       "      <td>525</td>\n",
       "      <td>80</td>\n",
       "      <td>82</td>\n",
       "      <td>83</td>\n",
       "      <td>100</td>\n",
       "      <td>100</td>\n",
       "      <td>80</td>\n",
       "      <td>1</td>\n",
       "      <td>0</td>\n",
       "    </tr>\n",
       "    <tr>\n",
       "      <th>3</th>\n",
       "      <td>3</td>\n",
       "      <td>VenusaurMega Venusaur</td>\n",
       "      <td>Grass</td>\n",
       "      <td>Poison</td>\n",
       "      <td>625</td>\n",
       "      <td>80</td>\n",
       "      <td>100</td>\n",
       "      <td>123</td>\n",
       "      <td>122</td>\n",
       "      <td>120</td>\n",
       "      <td>80</td>\n",
       "      <td>1</td>\n",
       "      <td>0</td>\n",
       "    </tr>\n",
       "    <tr>\n",
       "      <th>4</th>\n",
       "      <td>4</td>\n",
       "      <td>Charmander</td>\n",
       "      <td>Fire</td>\n",
       "      <td>NaN</td>\n",
       "      <td>309</td>\n",
       "      <td>39</td>\n",
       "      <td>52</td>\n",
       "      <td>43</td>\n",
       "      <td>60</td>\n",
       "      <td>50</td>\n",
       "      <td>65</td>\n",
       "      <td>1</td>\n",
       "      <td>0</td>\n",
       "    </tr>\n",
       "  </tbody>\n",
       "</table>\n",
       "</div>"
      ],
      "text/plain": [
       "   #                   name  type1   type2  total  hp  attack  defense  spatk  \\\n",
       "0  1              Bulbasaur  Grass  Poison    318  45      49       49     65   \n",
       "1  2                Ivysaur  Grass  Poison    405  60      62       63     80   \n",
       "2  3               Venusaur  Grass  Poison    525  80      82       83    100   \n",
       "3  3  VenusaurMega Venusaur  Grass  Poison    625  80     100      123    122   \n",
       "4  4             Charmander   Fire     NaN    309  39      52       43     60   \n",
       "\n",
       "   spdef  speed  generation  legendary  \n",
       "0     65     45           1          0  \n",
       "1     80     60           1          0  \n",
       "2    100     80           1          0  \n",
       "3    120     80           1          0  \n",
       "4     50     65           1          0  "
      ]
     },
     "execution_count": 4,
     "metadata": {},
     "output_type": "execute_result"
    }
   ],
   "source": [
    "df['legendary'] = df['legendary'].apply(lambda x: 1 if x == True else 0)\n",
    "df.head()"
   ]
  },
  {
   "cell_type": "markdown",
   "metadata": {},
   "source": [
    "### Next, load the data into SQL\n",
    "\n",
    "First we'll need to create a database, then create a table in our new database."
   ]
  },
  {
   "cell_type": "code",
   "execution_count": 5,
   "metadata": {
    "collapsed": false
   },
   "outputs": [],
   "source": [
    "# Create pokemon table in pokemon database (only run this once!)\n",
    "engine = create_engine('sqlite:///pokemon.db')\n",
    "conn = engine.connect()\n",
    "df.to_sql('pokemon', conn)"
   ]
  },
  {
   "cell_type": "code",
   "execution_count": 10,
   "metadata": {
    "collapsed": false
   },
   "outputs": [
    {
     "name": "stderr",
     "output_type": "stream",
     "text": [
      "//anaconda/lib/python3.5/site-packages/IPython/config.py:13: ShimWarning: The `IPython.config` package has been deprecated. You should import from traitlets.config instead.\n",
      "  \"You should import from traitlets.config instead.\", ShimWarning)\n",
      "//anaconda/lib/python3.5/site-packages/IPython/utils/traitlets.py:5: UserWarning: IPython.utils.traitlets has moved to a top-level traitlets package.\n",
      "  warn(\"IPython.utils.traitlets has moved to a top-level traitlets package.\")\n"
     ]
    }
   ],
   "source": [
    "%load_ext sql"
   ]
  },
  {
   "cell_type": "code",
   "execution_count": 11,
   "metadata": {
    "collapsed": false
   },
   "outputs": [
    {
     "data": {
      "text/plain": [
       "'Connected: None@pokemon.db'"
      ]
     },
     "execution_count": 11,
     "metadata": {},
     "output_type": "execute_result"
    }
   ],
   "source": [
    "%sql sqlite:///pokemon.db"
   ]
  },
  {
   "cell_type": "code",
   "execution_count": 12,
   "metadata": {
    "collapsed": false
   },
   "outputs": [
    {
     "name": "stdout",
     "output_type": "stream",
     "text": [
      "Done.\n"
     ]
    },
    {
     "data": {
      "text/html": [
       "<table>\n",
       "    <tr>\n",
       "        <th>name</th>\n",
       "    </tr>\n",
       "    <tr>\n",
       "        <td>pokemon</td>\n",
       "    </tr>\n",
       "</table>"
      ],
      "text/plain": [
       "[('pokemon',)]"
      ]
     },
     "execution_count": 12,
     "metadata": {},
     "output_type": "execute_result"
    }
   ],
   "source": [
    "%%sql\n",
    "SELECT name FROM sqlite_master WHERE type = \"table\";"
   ]
  },
  {
   "cell_type": "code",
   "execution_count": 15,
   "metadata": {
    "collapsed": false
   },
   "outputs": [
    {
     "name": "stdout",
     "output_type": "stream",
     "text": [
      "Done.\n"
     ]
    },
    {
     "data": {
      "text/html": [
       "<table>\n",
       "    <tr>\n",
       "        <th>name</th>\n",
       "        <th>total</th>\n",
       "    </tr>\n",
       "    <tr>\n",
       "        <td>MewtwoMega Mewtwo X</td>\n",
       "        <td>780</td>\n",
       "    </tr>\n",
       "    <tr>\n",
       "        <td>MewtwoMega Mewtwo Y</td>\n",
       "        <td>780</td>\n",
       "    </tr>\n",
       "    <tr>\n",
       "        <td>RayquazaMega Rayquaza</td>\n",
       "        <td>780</td>\n",
       "    </tr>\n",
       "</table>"
      ],
      "text/plain": [
       "[('MewtwoMega Mewtwo X', 780),\n",
       " ('MewtwoMega Mewtwo Y', 780),\n",
       " ('RayquazaMega Rayquaza', 780)]"
      ]
     },
     "execution_count": 15,
     "metadata": {},
     "output_type": "execute_result"
    }
   ],
   "source": [
    "%%sql\n",
    "SELECT name, total FROM pokemon WHERE total = (SELECT MAX(total) FROM pokemon);"
   ]
  },
  {
   "cell_type": "code",
   "execution_count": 51,
   "metadata": {
    "collapsed": false
   },
   "outputs": [
    {
     "name": "stdout",
     "output_type": "stream",
     "text": [
      "Percent of pokemon legendary: 0.08125\n"
     ]
    }
   ],
   "source": [
    "#per = df[df['legendary'] == 1].count()/df[df['legendary']].count()\n",
    "#totals = df.groupby('legendary').count()\n",
    "total_no_legendary = df[df['legendary'] == 0]\n",
    "total_legendary = df[df['legendary'] == 1]\n",
    "#totals1u = totals1.groupby('legendary').count()\n",
    "#totals1.name.count()\n",
    "#totals0 = df[df['legendary'] == 0]\n",
    "#totals0.name.count()\n",
    "#tot = df[df['legendary']]\n",
    "#tot.name.count()\n",
    "#totals0.name.count() + totals1.name.count()\n",
    "#totals1u\n",
    "#totals\n",
    "percent_pokemon_legendary = total_legendary.name.count() / (total_legendary.name.count() + total_no_legendary.name.count())\n",
    "\n",
    "print(\"Percent of pokemon legendary:\", percent_pokemon_legendary)"
   ]
  },
  {
   "cell_type": "code",
   "execution_count": 74,
   "metadata": {
    "collapsed": false
   },
   "outputs": [
    {
     "data": {
      "image/png": "[encoded data removed]",
      "text/plain": [
       "<matplotlib.figure.Figure at 0x11d661c88>"
      ]
     },
     "metadata": {},
     "output_type": "display_data"
    }
   ],
   "source": [
    "import seaborn as sns\n",
    "plot_1 = sns.countplot(x='type1', data=df)\n",
    "plot_1;"
   ]
  },
  {
   "cell_type": "code",
   "execution_count": 64,
   "metadata": {
    "collapsed": false
   },
   "outputs": [
    {
     "data": {
      "image/png": "[encoded data removed]",
      "text/plain": [
       "<matplotlib.figure.Figure at 0x11bf9df60>"
      ]
     },
     "metadata": {},
     "output_type": "display_data"
    }
   ],
   "source": [
    "plot_2 = sns.countplot(x='generation', data=df)\n",
    "plot_2;"
   ]
  },
  {
   "cell_type": "code",
   "execution_count": 62,
   "metadata": {
    "collapsed": false
   },
   "outputs": [
    {
     "name": "stderr",
     "output_type": "stream",
     "text": [
      "//anaconda/lib/python3.5/site-packages/ipykernel/__main__.py:1: FutureWarning: \n",
      "The default value for 'return_type' will change to 'axes' in a future release.\n",
      " To use the future behavior now, set return_type='axes'.\n",
      " To keep the previous behavior and silence this warning, set return_type='dict'.\n",
      "  if __name__ == '__main__':\n"
     ]
    },
    {
     "data": {
      "image/png": "[encoded data removed]",
      "text/plain": [
       "<matplotlib.figure.Figure at 0x11b5bc240>"
      ]
     },
     "metadata": {},
     "output_type": "display_data"
    }
   ],
   "source": [
    "plot_3 = df.boxplot(column='total')\n",
    "plot_3;"
   ]
  },
  {
   "cell_type": "code",
   "execution_count": 65,
   "metadata": {
    "collapsed": false
   },
   "outputs": [
    {
     "name": "stderr",
     "output_type": "stream",
     "text": [
      "//anaconda/lib/python3.5/site-packages/ipykernel/__main__.py:1: FutureWarning: \n",
      "The default value for 'return_type' will change to 'axes' in a future release.\n",
      " To use the future behavior now, set return_type='axes'.\n",
      " To keep the previous behavior and silence this warning, set return_type='dict'.\n",
      "  if __name__ == '__main__':\n"
     ]
    },
    {
     "data": {
      "image/png": "[encoded data removed]",
      "text/plain": [
       "<matplotlib.figure.Figure at 0x11c1e7048>"
      ]
     },
     "metadata": {},
     "output_type": "display_data"
    }
   ],
   "source": [
    "plot_4 = df.boxplot(column='defense')\n",
    "plot_4;"
   ]
  },
  {
   "cell_type": "code",
   "execution_count": 68,
   "metadata": {
    "collapsed": false
   },
   "outputs": [
    {
     "data": {
      "image/png": "[encoded data removed]",
      "text/plain": [
       "<matplotlib.figure.Figure at 0x11c9d5a58>"
      ]
     },
     "metadata": {},
     "output_type": "display_data"
    }
   ],
   "source": [
    "plot_5 = df.boxplot(column='total', by='type1', rot=90)\n",
    "plot_5;"
   ]
  },
  {
   "cell_type": "code",
   "execution_count": 77,
   "metadata": {
    "collapsed": false
   },
   "outputs": [
    {
     "data": {
      "image/png": "[encoded data removed]",
      "text/plain": [
       "<matplotlib.figure.Figure at 0x11d31c080>"
      ]
     },
     "metadata": {},
     "output_type": "display_data"
    }
   ],
   "source": [
    "plot_6 = df.boxplot(column='speed', by='generation', rot=90)\n",
    "plot_6;"
   ]
  },
  {
   "cell_type": "code",
   "execution_count": null,
   "metadata": {
    "collapsed": true
   },
   "outputs": [],
   "source": []
  }
 ],
 "metadata": {
  "anaconda-cloud": {},
  "kernelspec": {
   "display_name": "Python [Root]",
   "language": "python",
   "name": "Python [Root]"
  },
  "language_info": {
   "codemirror_mode": {
    "name": "ipython",
    "version": 3
   },
   "file_extension": ".py",
   "mimetype": "text/x-python",
   "name": "python",
   "nbconvert_exporter": "python",
   "pygments_lexer": "ipython3",
   "version": "3.5.2"
  }
 },
 "nbformat": 4,
 "nbformat_minor": 1
}
