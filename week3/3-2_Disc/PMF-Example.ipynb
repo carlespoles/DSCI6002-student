{
 "cells": [
  {
   "cell_type": "markdown",
   "metadata": {},
   "source": [
    "## Write the PMF for heads after tossing 2 coins."
   ]
  },
  {
   "cell_type": "markdown",
   "metadata": {},
   "source": [
    "We can have 0 heads, or 1 head or 2 heads.\n",
    "\n",
    "Toss a fair coin 2 times. All outcomes are equally likely: $P(HH) = P(HT) = . . .= P(TT) = 1/4$.\n",
    "\n",
    "Let $X: \\Omega \\rightarrow R$, such that $X(s) = \\text{# heads in } s$. Then,\n",
    "\n",
    "$P(X = 0) = P(\\{TT\\}) = 1/2 * 1/2 = 1/4$ \n",
    "\n",
    "$P(X = 1) = P(\\{HT, TH\\}) = 1/2 * 1/2 + 1/2 * 1/2 = 1/2$   \n",
    "\n",
    "$P(X = 2) = P(\\{HH\\}) = 1/2 * 1/2 = 1/4$\n",
    "\n",
    "|x        |  0  |  1  |  2  |\n",
    "|:--------|:---:|:---:|:---:|\n",
    "|P(X = x) | 0.25| 0.5 | 0.25|"
   ]
  },
  {
   "cell_type": "markdown",
   "metadata": {},
   "source": [
    "$E(X) = \\mu = \\sum_{i = 0}^2 x_i P(X = x_i) = 0 \\times 0.25 + 1 \\times 0.5 + 2 \\times 0.25 = 1 $"
   ]
  },
  {
   "cell_type": "markdown",
   "metadata": {},
   "source": [
    "$Var(X) = \\sigma^2 = \\sum_{i = 0}^2 (x_i - \\mu)^2 P(X = x_i) = (0 - 1)^2 \\times 0.25 + (1 - 1)^2 \\times 0.5 + (2 - 1)^2 \\times 0.25 = 0.50 $"
   ]
  },
  {
   "cell_type": "code",
   "execution_count": null,
   "metadata": {
    "collapsed": true
   },
   "outputs": [],
   "source": []
  }
 ],
 "metadata": {
  "anaconda-cloud": {},
  "kernelspec": {
   "display_name": "Python [Root]",
   "language": "python",
   "name": "Python [Root]"
  },
  "language_info": {
   "codemirror_mode": {
    "name": "ipython",
    "version": 3
   },
   "file_extension": ".py",
   "mimetype": "text/x-python",
   "name": "python",
   "nbconvert_exporter": "python",
   "pygments_lexer": "ipython3",
   "version": "3.5.2"
  }
 },
 "nbformat": 4,
 "nbformat_minor": 0
}
