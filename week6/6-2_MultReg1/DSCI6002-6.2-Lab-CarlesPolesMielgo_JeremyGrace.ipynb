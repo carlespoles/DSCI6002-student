{
 "cells": [
  {
   "cell_type": "markdown",
   "metadata": {},
   "source": [
    "# Lab 6.2: Linear Regression"
   ]
  },
  {
   "cell_type": "code",
   "execution_count": 1,
   "metadata": {
    "collapsed": false
   },
   "outputs": [
    {
     "name": "stdout",
     "output_type": "stream",
     "text": [
      "Populating the interactive namespace from numpy and matplotlib\n"
     ]
    }
   ],
   "source": [
    "%pylab inline\n",
    "\n",
    "import pandas as pd\n",
    "import statsmodels.api as sm\n",
    "import yaml\n",
    "\n",
    "from seaborn import pairplot\n",
    "from sqlalchemy import create_engine\n",
    "\n",
    "pg_creds = yaml.load(open('../../pg_creds.yaml'))['student']\n",
    "\n",
    "engine = create_engine('postgresql://{user}:{password}@{host}:{port}/{dbname}'.format(**pg_creds))"
   ]
  },
  {
   "cell_type": "markdown",
   "metadata": {},
   "source": [
    "**Question 1**  \n",
    "\n",
    "Using the cars data,\n",
    "\n",
    "1) Fit a simple linear regression to predict `mpg` using `weight`.  "
   ]
  },
  {
   "cell_type": "code",
   "execution_count": 2,
   "metadata": {
    "collapsed": true
   },
   "outputs": [],
   "source": [
    "cars = pd.read_sql(\"SELECT * FROM cars WHERE horsepower IS NOT NULL;\", engine, index_col='index')"
   ]
  },
  {
   "cell_type": "code",
   "execution_count": 3,
   "metadata": {
    "collapsed": false
   },
   "outputs": [
    {
     "data": {
      "text/html": [
       "<div>\n",
       "<table border=\"1\" class=\"dataframe\">\n",
       "  <thead>\n",
       "    <tr style=\"text-align: right;\">\n",
       "      <th></th>\n",
       "      <th>mpg</th>\n",
       "      <th>cylinders</th>\n",
       "      <th>displacement</th>\n",
       "      <th>horsepower</th>\n",
       "      <th>weight</th>\n",
       "      <th>acceleration</th>\n",
       "      <th>model</th>\n",
       "      <th>origin</th>\n",
       "      <th>car_name</th>\n",
       "    </tr>\n",
       "    <tr>\n",
       "      <th>index</th>\n",
       "      <th></th>\n",
       "      <th></th>\n",
       "      <th></th>\n",
       "      <th></th>\n",
       "      <th></th>\n",
       "      <th></th>\n",
       "      <th></th>\n",
       "      <th></th>\n",
       "      <th></th>\n",
       "    </tr>\n",
       "  </thead>\n",
       "  <tbody>\n",
       "    <tr>\n",
       "      <th>0</th>\n",
       "      <td>18.0</td>\n",
       "      <td>8</td>\n",
       "      <td>307.0</td>\n",
       "      <td>130.0</td>\n",
       "      <td>3504.0</td>\n",
       "      <td>12.0</td>\n",
       "      <td>70</td>\n",
       "      <td>1</td>\n",
       "      <td>chevrolet chevelle malibu</td>\n",
       "    </tr>\n",
       "    <tr>\n",
       "      <th>1</th>\n",
       "      <td>15.0</td>\n",
       "      <td>8</td>\n",
       "      <td>350.0</td>\n",
       "      <td>165.0</td>\n",
       "      <td>3693.0</td>\n",
       "      <td>11.5</td>\n",
       "      <td>70</td>\n",
       "      <td>1</td>\n",
       "      <td>buick skylark 320</td>\n",
       "    </tr>\n",
       "    <tr>\n",
       "      <th>2</th>\n",
       "      <td>18.0</td>\n",
       "      <td>8</td>\n",
       "      <td>318.0</td>\n",
       "      <td>150.0</td>\n",
       "      <td>3436.0</td>\n",
       "      <td>11.0</td>\n",
       "      <td>70</td>\n",
       "      <td>1</td>\n",
       "      <td>plymouth satellite</td>\n",
       "    </tr>\n",
       "    <tr>\n",
       "      <th>3</th>\n",
       "      <td>16.0</td>\n",
       "      <td>8</td>\n",
       "      <td>304.0</td>\n",
       "      <td>150.0</td>\n",
       "      <td>3433.0</td>\n",
       "      <td>12.0</td>\n",
       "      <td>70</td>\n",
       "      <td>1</td>\n",
       "      <td>amc rebel sst</td>\n",
       "    </tr>\n",
       "    <tr>\n",
       "      <th>4</th>\n",
       "      <td>17.0</td>\n",
       "      <td>8</td>\n",
       "      <td>302.0</td>\n",
       "      <td>140.0</td>\n",
       "      <td>3449.0</td>\n",
       "      <td>10.5</td>\n",
       "      <td>70</td>\n",
       "      <td>1</td>\n",
       "      <td>ford torino</td>\n",
       "    </tr>\n",
       "  </tbody>\n",
       "</table>\n",
       "</div>"
      ],
      "text/plain": [
       "        mpg  cylinders  displacement  horsepower  weight  acceleration model  \\\n",
       "index                                                                          \n",
       "0      18.0          8         307.0       130.0  3504.0          12.0    70   \n",
       "1      15.0          8         350.0       165.0  3693.0          11.5    70   \n",
       "2      18.0          8         318.0       150.0  3436.0          11.0    70   \n",
       "3      16.0          8         304.0       150.0  3433.0          12.0    70   \n",
       "4      17.0          8         302.0       140.0  3449.0          10.5    70   \n",
       "\n",
       "      origin                   car_name  \n",
       "index                                    \n",
       "0          1  chevrolet chevelle malibu  \n",
       "1          1          buick skylark 320  \n",
       "2          1         plymouth satellite  \n",
       "3          1              amc rebel sst  \n",
       "4          1                ford torino  "
      ]
     },
     "execution_count": 3,
     "metadata": {},
     "output_type": "execute_result"
    }
   ],
   "source": [
    "cars.head()"
   ]
  },
  {
   "cell_type": "code",
   "execution_count": 4,
   "metadata": {
    "collapsed": false
   },
   "outputs": [
    {
     "data": {
      "text/html": [
       "<table class=\"simpletable\">\n",
       "<caption>OLS Regression Results</caption>\n",
       "<tr>\n",
       "  <th>Dep. Variable:</th>           <td>mpg</td>       <th>  R-squared:         </th> <td>   0.693</td> \n",
       "</tr>\n",
       "<tr>\n",
       "  <th>Model:</th>                   <td>OLS</td>       <th>  Adj. R-squared:    </th> <td>   0.692</td> \n",
       "</tr>\n",
       "<tr>\n",
       "  <th>Method:</th>             <td>Least Squares</td>  <th>  F-statistic:       </th> <td>   878.8</td> \n",
       "</tr>\n",
       "<tr>\n",
       "  <th>Date:</th>             <td>Tue, 04 Oct 2016</td> <th>  Prob (F-statistic):</th> <td>6.02e-102</td>\n",
       "</tr>\n",
       "<tr>\n",
       "  <th>Time:</th>                 <td>15:13:13</td>     <th>  Log-Likelihood:    </th> <td> -1130.0</td> \n",
       "</tr>\n",
       "<tr>\n",
       "  <th>No. Observations:</th>      <td>   392</td>      <th>  AIC:               </th> <td>   2264.</td> \n",
       "</tr>\n",
       "<tr>\n",
       "  <th>Df Residuals:</th>          <td>   390</td>      <th>  BIC:               </th> <td>   2272.</td> \n",
       "</tr>\n",
       "<tr>\n",
       "  <th>Df Model:</th>              <td>     1</td>      <th>                     </th>     <td> </td>    \n",
       "</tr>\n",
       "<tr>\n",
       "  <th>Covariance Type:</th>      <td>nonrobust</td>    <th>                     </th>     <td> </td>    \n",
       "</tr>\n",
       "</table>\n",
       "<table class=\"simpletable\">\n",
       "<tr>\n",
       "     <td></td>       <th>coef</th>     <th>std err</th>      <th>t</th>      <th>P>|t|</th> <th>[95.0% Conf. Int.]</th> \n",
       "</tr>\n",
       "<tr>\n",
       "  <th>const</th>  <td>   46.2165</td> <td>    0.799</td> <td>   57.867</td> <td> 0.000</td> <td>   44.646    47.787</td>\n",
       "</tr>\n",
       "<tr>\n",
       "  <th>weight</th> <td>   -0.0076</td> <td>    0.000</td> <td>  -29.645</td> <td> 0.000</td> <td>   -0.008    -0.007</td>\n",
       "</tr>\n",
       "</table>\n",
       "<table class=\"simpletable\">\n",
       "<tr>\n",
       "  <th>Omnibus:</th>       <td>41.682</td> <th>  Durbin-Watson:     </th> <td>   0.808</td>\n",
       "</tr>\n",
       "<tr>\n",
       "  <th>Prob(Omnibus):</th> <td> 0.000</td> <th>  Jarque-Bera (JB):  </th> <td>  60.039</td>\n",
       "</tr>\n",
       "<tr>\n",
       "  <th>Skew:</th>          <td> 0.727</td> <th>  Prob(JB):          </th> <td>9.18e-14</td>\n",
       "</tr>\n",
       "<tr>\n",
       "  <th>Kurtosis:</th>      <td> 4.251</td> <th>  Cond. No.          </th> <td>1.13e+04</td>\n",
       "</tr>\n",
       "</table>"
      ],
      "text/plain": [
       "<class 'statsmodels.iolib.summary.Summary'>\n",
       "\"\"\"\n",
       "                            OLS Regression Results                            \n",
       "==============================================================================\n",
       "Dep. Variable:                    mpg   R-squared:                       0.693\n",
       "Model:                            OLS   Adj. R-squared:                  0.692\n",
       "Method:                 Least Squares   F-statistic:                     878.8\n",
       "Date:                Tue, 04 Oct 2016   Prob (F-statistic):          6.02e-102\n",
       "Time:                        15:13:13   Log-Likelihood:                -1130.0\n",
       "No. Observations:                 392   AIC:                             2264.\n",
       "Df Residuals:                     390   BIC:                             2272.\n",
       "Df Model:                           1                                         \n",
       "Covariance Type:            nonrobust                                         \n",
       "==============================================================================\n",
       "                 coef    std err          t      P>|t|      [95.0% Conf. Int.]\n",
       "------------------------------------------------------------------------------\n",
       "const         46.2165      0.799     57.867      0.000        44.646    47.787\n",
       "weight        -0.0076      0.000    -29.645      0.000        -0.008    -0.007\n",
       "==============================================================================\n",
       "Omnibus:                       41.682   Durbin-Watson:                   0.808\n",
       "Prob(Omnibus):                  0.000   Jarque-Bera (JB):               60.039\n",
       "Skew:                           0.727   Prob(JB):                     9.18e-14\n",
       "Kurtosis:                       4.251   Cond. No.                     1.13e+04\n",
       "==============================================================================\n",
       "\n",
       "Warnings:\n",
       "[1] Standard Errors assume that the covariance matrix of the errors is correctly specified.\n",
       "[2] The condition number is large, 1.13e+04. This might indicate that there are\n",
       "strong multicollinearity or other numerical problems.\n",
       "\"\"\""
      ]
     },
     "execution_count": 4,
     "metadata": {},
     "output_type": "execute_result"
    }
   ],
   "source": [
    "X = cars.weight\n",
    "X = sm.add_constant(X)\n",
    "y = cars.mpg\n",
    "\n",
    "model = sm.OLS(y, X)\n",
    "results = model.fit()\n",
    "results.summary()"
   ]
  },
  {
   "cell_type": "markdown",
   "metadata": {},
   "source": [
    "$\\hat{mpg} = 46.2165 - 0.0076 * weight$"
   ]
  },
  {
   "cell_type": "markdown",
   "metadata": {},
   "source": [
    "2) Comment on the model fit.  "
   ]
  },
  {
   "cell_type": "markdown",
   "metadata": {},
   "source": [
    "The percentage of the variation in y (mpg) can be explained by the corresponding variation in X (weight) and the least-squares line is 69.3%, and the unexplained percentage of variation is 100% – 69.3% = 30.7%."
   ]
  },
  {
   "cell_type": "markdown",
   "metadata": {},
   "source": [
    "3) Interpret the model. "
   ]
  },
  {
   "cell_type": "markdown",
   "metadata": {},
   "source": [
    "Every unit of increase in weight affects the mpg by -0.0076."
   ]
  },
  {
   "cell_type": "markdown",
   "metadata": {},
   "source": [
    "4) Is `weight` useful for predicting `mpg`? Carry out a formal hypothesis test to show it.  "
   ]
  },
  {
   "cell_type": "markdown",
   "metadata": {},
   "source": [
    "$H_0: \\beta_1 = 0$  \n",
    "\n",
    "$H_a: \\beta_1 \\neq 0$ \n",
    "\n",
    "The p-value is 0 (6.02e-102 to be exact) which is less than 0.05, so we reject the null hypothesis and conclude that the coefficient of weight is significant."
   ]
  },
  {
   "cell_type": "markdown",
   "metadata": {},
   "source": [
    "5) Make a prediction for the average `mpg` of all cars that have a weight of 2000.  "
   ]
  },
  {
   "cell_type": "code",
   "execution_count": 5,
   "metadata": {
    "collapsed": false
   },
   "outputs": [
    {
     "data": {
      "text/plain": [
       "30.9219"
      ]
     },
     "execution_count": 5,
     "metadata": {},
     "output_type": "execute_result"
    }
   ],
   "source": [
    "46.2165 - 0.0076473 * 2000"
   ]
  },
  {
   "cell_type": "code",
   "execution_count": 6,
   "metadata": {
    "collapsed": false
   },
   "outputs": [
    {
     "data": {
      "text/plain": [
       "array([ 30.92183948])"
      ]
     },
     "execution_count": 6,
     "metadata": {},
     "output_type": "execute_result"
    }
   ],
   "source": [
    "results.predict([1, 2000])"
   ]
  },
  {
   "cell_type": "markdown",
   "metadata": {},
   "source": [
    "6) Make a prediction for a particular car that has a weight of 2000.  "
   ]
  },
  {
   "cell_type": "markdown",
   "metadata": {},
   "source": [
    "It's exactly as above:"
   ]
  },
  {
   "cell_type": "code",
   "execution_count": 7,
   "metadata": {
    "collapsed": false
   },
   "outputs": [
    {
     "data": {
      "text/plain": [
       "30.9219"
      ]
     },
     "execution_count": 7,
     "metadata": {},
     "output_type": "execute_result"
    }
   ],
   "source": [
    "46.2165 - 0.0076473 * 2000"
   ]
  },
  {
   "cell_type": "markdown",
   "metadata": {},
   "source": [
    ">For both the given population of all cars with weight of 2000, the mean is the same as one car of weight 2000. HOWEVER, the variance for the given population of all cars with weight of 2000 is $\\sigma^2/n$, when the variance for the one car of weight 2000 is $\\sigma^2$, which is more than the variance for the given population of all cars with weight of 2000."
   ]
  },
  {
   "cell_type": "markdown",
   "metadata": {},
   "source": [
    "7) Write a Python function to calculate the confidence interval for your prediction in part 5).  "
   ]
  },
  {
   "cell_type": "code",
   "execution_count": 8,
   "metadata": {
    "collapsed": false
   },
   "outputs": [
    {
     "data": {
      "text/plain": [
       "array([ 30.26741098,  31.57626797])"
      ]
     },
     "execution_count": 8,
     "metadata": {},
     "output_type": "execute_result"
    }
   ],
   "source": [
    "x = cars.weight\n",
    "se = sqrt(results.mse_resid)\n",
    "b0, b1 = results.params\n",
    "\n",
    "x_new = 2000\n",
    "\n",
    "def confidence_se(s_e, x, x_new):\n",
    "    mean_x = x.mean()\n",
    "    var_x = x.var()\n",
    "    n = len(x)\n",
    "    return s_e * (1/n + (x_new - mean_x)**2 / ((n - 1) * var_x))**0.5\n",
    "\n",
    "sign = array([-1., 1.])\n",
    "b0 + b1 * x_new + sign * 1.96 * confidence_se(se, x, x_new)"
   ]
  },
  {
   "cell_type": "markdown",
   "metadata": {},
   "source": [
    "8) Write a Python function to calculate the prediction interval for your prediction in part 6).  "
   ]
  },
  {
   "cell_type": "code",
   "execution_count": 9,
   "metadata": {
    "collapsed": false
   },
   "outputs": [
    {
     "data": {
      "text/plain": [
       "array([ 22.40454496,  39.439134  ])"
      ]
     },
     "execution_count": 9,
     "metadata": {},
     "output_type": "execute_result"
    }
   ],
   "source": [
    "def prediction_se(s_e, x, x_new):\n",
    "    mean_x = x.mean()\n",
    "    var_x = x.var()\n",
    "    n = len(x)\n",
    "    return s_e * (1 + 1/n + (x_new - mean_x)**2 / ((n - 1) * var_x))**0.5\n",
    "\n",
    "b0 + b1 * x_new + sign * 1.96 * prediction_se(se, x, x_new)"
   ]
  },
  {
   "cell_type": "markdown",
   "metadata": {},
   "source": [
    "9) What are the differences between the intervals you found in parts 7) and 8)?"
   ]
  },
  {
   "cell_type": "markdown",
   "metadata": {},
   "source": [
    "For both the given population of all cars with weight of 2000, the mean is the same as one car of weight 2000. HOWEVER, the variance for the given population of all cars with weight of 2000 is $\\sigma^2/n$, when the variance for the one car of weight 2000 is $\\sigma^2$, which is more than the variance for the given population of all cars with weight of 2000. THEREFORE, the confidence interval for the given population of all cars with weight of 2000 is smaller than the prediction interval for the one car of weight 2000.\n",
    "\n",
    "<img src=\"images/conf_pred.png\" width=\"600\">  "
   ]
  },
  {
   "cell_type": "markdown",
   "metadata": {},
   "source": [
    "**Question 2**  \n",
    "\n",
    "You are shopping for a laptop computer at Best Buy. To help you with your decision, you decide to construct a regression model to predict the selling price of the laptop. The table `laptops` provides the following data for a random sample of laptops on Best Buy’s Web site:  \n",
    "\n",
    "* Selling price\n",
    "* Brand\n",
    "* Screen size (in.)\n",
    "* Hard drive size (GB)\n",
    "* Amount of RAM memory (GB)\n",
    "* Number of USB ports\n",
    "* Weight (oz.) \n",
    "\n",
    "a) Using multiple regression, model selling price using the variables screen size, hard drive size, amount of ram, number of usb ports and weight.  "
   ]
  },
  {
   "cell_type": "code",
   "execution_count": 10,
   "metadata": {
    "collapsed": false
   },
   "outputs": [],
   "source": [
    "laptops = pd.read_sql(\"SELECT * FROM laptops;\", engine)"
   ]
  },
  {
   "cell_type": "code",
   "execution_count": 11,
   "metadata": {
    "collapsed": false
   },
   "outputs": [
    {
     "data": {
      "text/html": [
       "<div>\n",
       "<table border=\"1\" class=\"dataframe\">\n",
       "  <thead>\n",
       "    <tr style=\"text-align: right;\">\n",
       "      <th></th>\n",
       "      <th>Price ($)</th>\n",
       "      <th>Screen Size (in.)</th>\n",
       "      <th>RAM Memory (GB)</th>\n",
       "      <th>Hard drive (GB)</th>\n",
       "      <th>USB Ports</th>\n",
       "      <th>Brand</th>\n",
       "      <th>Weight (oz.)</th>\n",
       "    </tr>\n",
       "  </thead>\n",
       "  <tbody>\n",
       "    <tr>\n",
       "      <th>0</th>\n",
       "      <td>830</td>\n",
       "      <td>13.3</td>\n",
       "      <td>4</td>\n",
       "      <td>500</td>\n",
       "      <td>3</td>\n",
       "      <td>Toshiba</td>\n",
       "      <td>4.9</td>\n",
       "    </tr>\n",
       "    <tr>\n",
       "      <th>1</th>\n",
       "      <td>750</td>\n",
       "      <td>13.3</td>\n",
       "      <td>4</td>\n",
       "      <td>640</td>\n",
       "      <td>3</td>\n",
       "      <td>Toshiba</td>\n",
       "      <td>3.2</td>\n",
       "    </tr>\n",
       "    <tr>\n",
       "      <th>2</th>\n",
       "      <td>1200</td>\n",
       "      <td>11.6</td>\n",
       "      <td>2</td>\n",
       "      <td>128</td>\n",
       "      <td>2</td>\n",
       "      <td>Apple</td>\n",
       "      <td>2.3</td>\n",
       "    </tr>\n",
       "    <tr>\n",
       "      <th>3</th>\n",
       "      <td>1600</td>\n",
       "      <td>18.4</td>\n",
       "      <td>6</td>\n",
       "      <td>640</td>\n",
       "      <td>4</td>\n",
       "      <td>Toshiba</td>\n",
       "      <td>9.7</td>\n",
       "    </tr>\n",
       "    <tr>\n",
       "      <th>4</th>\n",
       "      <td>1900</td>\n",
       "      <td>18.4</td>\n",
       "      <td>8</td>\n",
       "      <td>500</td>\n",
       "      <td>4</td>\n",
       "      <td>Toshiba</td>\n",
       "      <td>9.7</td>\n",
       "    </tr>\n",
       "  </tbody>\n",
       "</table>\n",
       "</div>"
      ],
      "text/plain": [
       "   Price ($)  Screen Size (in.)  RAM Memory (GB)  Hard drive (GB)  USB Ports  \\\n",
       "0        830               13.3                4              500          3   \n",
       "1        750               13.3                4              640          3   \n",
       "2       1200               11.6                2              128          2   \n",
       "3       1600               18.4                6              640          4   \n",
       "4       1900               18.4                8              500          4   \n",
       "\n",
       "     Brand  Weight (oz.)  \n",
       "0  Toshiba           4.9  \n",
       "1  Toshiba           3.2  \n",
       "2    Apple           2.3  \n",
       "3  Toshiba           9.7  \n",
       "4  Toshiba           9.7  "
      ]
     },
     "execution_count": 11,
     "metadata": {},
     "output_type": "execute_result"
    }
   ],
   "source": [
    "laptops.head()"
   ]
  },
  {
   "cell_type": "code",
   "execution_count": 12,
   "metadata": {
    "collapsed": false
   },
   "outputs": [
    {
     "name": "stdout",
     "output_type": "stream",
     "text": [
      "Index(['price($)', 'screensize(in)', 'rammemory(gb)', 'harddrive(gb)',\n",
      "       'usbports', 'brand', 'weight(oz)'],\n",
      "      dtype='object')\n"
     ]
    }
   ],
   "source": [
    "# Lowercase and replace periods & spaces in the column names\n",
    "new_names = []\n",
    "\n",
    "for col in laptops.columns:\n",
    "    new_names.append(col.replace('.', '', len(col)).replace(' ', '', len(col)).lower())\n",
    "\n",
    "laptops.columns = new_names\n",
    "\n",
    "print(laptops.columns)"
   ]
  },
  {
   "cell_type": "code",
   "execution_count": 13,
   "metadata": {
    "collapsed": false
   },
   "outputs": [
    {
     "data": {
      "text/html": [
       "<table class=\"simpletable\">\n",
       "<caption>OLS Regression Results</caption>\n",
       "<tr>\n",
       "  <th>Dep. Variable:</th>        <td>price($)</td>     <th>  R-squared:         </th> <td>   0.117</td>\n",
       "</tr>\n",
       "<tr>\n",
       "  <th>Model:</th>                   <td>OLS</td>       <th>  Adj. R-squared:    </th> <td>   0.040</td>\n",
       "</tr>\n",
       "<tr>\n",
       "  <th>Method:</th>             <td>Least Squares</td>  <th>  F-statistic:       </th> <td>   1.514</td>\n",
       "</tr>\n",
       "<tr>\n",
       "  <th>Date:</th>             <td>Tue, 04 Oct 2016</td> <th>  Prob (F-statistic):</th>  <td> 0.200</td> \n",
       "</tr>\n",
       "<tr>\n",
       "  <th>Time:</th>                 <td>15:13:14</td>     <th>  Log-Likelihood:    </th> <td> -477.99</td>\n",
       "</tr>\n",
       "<tr>\n",
       "  <th>No. Observations:</th>      <td>    63</td>      <th>  AIC:               </th> <td>   968.0</td>\n",
       "</tr>\n",
       "<tr>\n",
       "  <th>Df Residuals:</th>          <td>    57</td>      <th>  BIC:               </th> <td>   980.8</td>\n",
       "</tr>\n",
       "<tr>\n",
       "  <th>Df Model:</th>              <td>     5</td>      <th>                     </th>     <td> </td>   \n",
       "</tr>\n",
       "<tr>\n",
       "  <th>Covariance Type:</th>      <td>nonrobust</td>    <th>                     </th>     <td> </td>   \n",
       "</tr>\n",
       "</table>\n",
       "<table class=\"simpletable\">\n",
       "<tr>\n",
       "         <td></td>           <th>coef</th>     <th>std err</th>      <th>t</th>      <th>P>|t|</th> <th>[95.0% Conf. Int.]</th> \n",
       "</tr>\n",
       "<tr>\n",
       "  <th>const</th>          <td>  761.4987</td> <td>  946.954</td> <td>    0.804</td> <td> 0.425</td> <td>-1134.744  2657.741</td>\n",
       "</tr>\n",
       "<tr>\n",
       "  <th>screensize(in)</th> <td>    4.1113</td> <td>   96.206</td> <td>    0.043</td> <td> 0.966</td> <td> -188.539   196.761</td>\n",
       "</tr>\n",
       "<tr>\n",
       "  <th>rammemory(gb)</th>  <td>   12.8642</td> <td>   74.411</td> <td>    0.173</td> <td> 0.863</td> <td> -136.141   161.870</td>\n",
       "</tr>\n",
       "<tr>\n",
       "  <th>harddrive(gb)</th>  <td>    0.6561</td> <td>    0.459</td> <td>    1.429</td> <td> 0.159</td> <td>   -0.263     1.576</td>\n",
       "</tr>\n",
       "<tr>\n",
       "  <th>usbports</th>       <td> -206.5346</td> <td>  123.563</td> <td>   -1.671</td> <td> 0.100</td> <td> -453.965    40.896</td>\n",
       "</tr>\n",
       "<tr>\n",
       "  <th>weight(oz)</th>     <td>   51.6251</td> <td>   99.210</td> <td>    0.520</td> <td> 0.605</td> <td> -147.040   250.290</td>\n",
       "</tr>\n",
       "</table>\n",
       "<table class=\"simpletable\">\n",
       "<tr>\n",
       "  <th>Omnibus:</th>       <td> 9.835</td> <th>  Durbin-Watson:     </th> <td>   1.792</td>\n",
       "</tr>\n",
       "<tr>\n",
       "  <th>Prob(Omnibus):</th> <td> 0.007</td> <th>  Jarque-Bera (JB):  </th> <td>  10.384</td>\n",
       "</tr>\n",
       "<tr>\n",
       "  <th>Skew:</th>          <td> 0.993</td> <th>  Prob(JB):          </th> <td> 0.00556</td>\n",
       "</tr>\n",
       "<tr>\n",
       "  <th>Kurtosis:</th>      <td> 3.102</td> <th>  Cond. No.          </th> <td>8.40e+03</td>\n",
       "</tr>\n",
       "</table>"
      ],
      "text/plain": [
       "<class 'statsmodels.iolib.summary.Summary'>\n",
       "\"\"\"\n",
       "                            OLS Regression Results                            \n",
       "==============================================================================\n",
       "Dep. Variable:               price($)   R-squared:                       0.117\n",
       "Model:                            OLS   Adj. R-squared:                  0.040\n",
       "Method:                 Least Squares   F-statistic:                     1.514\n",
       "Date:                Tue, 04 Oct 2016   Prob (F-statistic):              0.200\n",
       "Time:                        15:13:14   Log-Likelihood:                -477.99\n",
       "No. Observations:                  63   AIC:                             968.0\n",
       "Df Residuals:                      57   BIC:                             980.8\n",
       "Df Model:                           5                                         \n",
       "Covariance Type:            nonrobust                                         \n",
       "==================================================================================\n",
       "                     coef    std err          t      P>|t|      [95.0% Conf. Int.]\n",
       "----------------------------------------------------------------------------------\n",
       "const            761.4987    946.954      0.804      0.425     -1134.744  2657.741\n",
       "screensize(in)     4.1113     96.206      0.043      0.966      -188.539   196.761\n",
       "rammemory(gb)     12.8642     74.411      0.173      0.863      -136.141   161.870\n",
       "harddrive(gb)      0.6561      0.459      1.429      0.159        -0.263     1.576\n",
       "usbports        -206.5346    123.563     -1.671      0.100      -453.965    40.896\n",
       "weight(oz)        51.6251     99.210      0.520      0.605      -147.040   250.290\n",
       "==============================================================================\n",
       "Omnibus:                        9.835   Durbin-Watson:                   1.792\n",
       "Prob(Omnibus):                  0.007   Jarque-Bera (JB):               10.384\n",
       "Skew:                           0.993   Prob(JB):                      0.00556\n",
       "Kurtosis:                       3.102   Cond. No.                     8.40e+03\n",
       "==============================================================================\n",
       "\n",
       "Warnings:\n",
       "[1] Standard Errors assume that the covariance matrix of the errors is correctly specified.\n",
       "[2] The condition number is large, 8.4e+03. This might indicate that there are\n",
       "strong multicollinearity or other numerical problems.\n",
       "\"\"\""
      ]
     },
     "execution_count": 13,
     "metadata": {},
     "output_type": "execute_result"
    }
   ],
   "source": [
    "X_multi = laptops[['screensize(in)', 'rammemory(gb)', 'harddrive(gb)', 'usbports', 'weight(oz)']]\n",
    "X_multi = sm.add_constant(X_multi)\n",
    "y_multi = laptops['price($)']\n",
    "\n",
    "model_multi = sm.OLS(y_multi, X_multi)\n",
    "results_multi = model_multi.fit()\n",
    "results_multi.summary()"
   ]
  },
  {
   "cell_type": "markdown",
   "metadata": {},
   "source": [
    "$\\hat{price} = 761.4987 + 4.1113 * screensize + 12.8642 * memory + 0.6561 * harddrive - 206.5346 * usb + weight * 51.6251$"
   ]
  },
  {
   "cell_type": "markdown",
   "metadata": {},
   "source": [
    "b) Perform and interpret the overall F test.  "
   ]
  },
  {
   "cell_type": "markdown",
   "metadata": {},
   "source": [
    "F-statistic:\t1.514\n",
    "\n",
    "Prob (F-statistic):\t0.200\n",
    "\n",
    "The overall model is very bad: the overall p-value is 0.2, which is larger than 0.05. Also, the F-statistic is very low (1.514).\n",
    "\n",
    "We are using too many independent variables to build the model."
   ]
  },
  {
   "cell_type": "markdown",
   "metadata": {},
   "source": [
    "c) Using p-values, which variables appear to be needed in the model? Justify your answer.   "
   ]
  },
  {
   "cell_type": "code",
   "execution_count": 27,
   "metadata": {
    "collapsed": false
   },
   "outputs": [
    {
     "data": {
      "text/html": [
       "<div>\n",
       "<table border=\"1\" class=\"dataframe\">\n",
       "  <thead>\n",
       "    <tr style=\"text-align: right;\">\n",
       "      <th></th>\n",
       "      <th>screensize(in)</th>\n",
       "      <th>rammemory(gb)</th>\n",
       "      <th>harddrive(gb)</th>\n",
       "      <th>usbports</th>\n",
       "      <th>weight(oz)</th>\n",
       "    </tr>\n",
       "  </thead>\n",
       "  <tbody>\n",
       "    <tr>\n",
       "      <th>screensize(in)</th>\n",
       "      <td>1.000000</td>\n",
       "      <td>0.646148</td>\n",
       "      <td>0.560412</td>\n",
       "      <td>0.638097</td>\n",
       "      <td>0.895285</td>\n",
       "    </tr>\n",
       "    <tr>\n",
       "      <th>rammemory(gb)</th>\n",
       "      <td>0.646148</td>\n",
       "      <td>1.000000</td>\n",
       "      <td>0.786727</td>\n",
       "      <td>0.533892</td>\n",
       "      <td>0.642392</td>\n",
       "    </tr>\n",
       "    <tr>\n",
       "      <th>harddrive(gb)</th>\n",
       "      <td>0.560412</td>\n",
       "      <td>0.786727</td>\n",
       "      <td>1.000000</td>\n",
       "      <td>0.540018</td>\n",
       "      <td>0.552018</td>\n",
       "    </tr>\n",
       "    <tr>\n",
       "      <th>usbports</th>\n",
       "      <td>0.638097</td>\n",
       "      <td>0.533892</td>\n",
       "      <td>0.540018</td>\n",
       "      <td>1.000000</td>\n",
       "      <td>0.585799</td>\n",
       "    </tr>\n",
       "    <tr>\n",
       "      <th>weight(oz)</th>\n",
       "      <td>0.895285</td>\n",
       "      <td>0.642392</td>\n",
       "      <td>0.552018</td>\n",
       "      <td>0.585799</td>\n",
       "      <td>1.000000</td>\n",
       "    </tr>\n",
       "  </tbody>\n",
       "</table>\n",
       "</div>"
      ],
      "text/plain": [
       "                screensize(in)  rammemory(gb)  harddrive(gb)  usbports  \\\n",
       "screensize(in)        1.000000       0.646148       0.560412  0.638097   \n",
       "rammemory(gb)         0.646148       1.000000       0.786727  0.533892   \n",
       "harddrive(gb)         0.560412       0.786727       1.000000  0.540018   \n",
       "usbports              0.638097       0.533892       0.540018  1.000000   \n",
       "weight(oz)            0.895285       0.642392       0.552018  0.585799   \n",
       "\n",
       "                weight(oz)  \n",
       "screensize(in)    0.895285  \n",
       "rammemory(gb)     0.642392  \n",
       "harddrive(gb)     0.552018  \n",
       "usbports          0.585799  \n",
       "weight(oz)        1.000000  "
      ]
     },
     "execution_count": 27,
     "metadata": {},
     "output_type": "execute_result"
    }
   ],
   "source": [
    "laptops[['screensize(in)', 'rammemory(gb)', 'harddrive(gb)', 'usbports', 'weight(oz)']].corr()"
   ]
  },
  {
   "cell_type": "markdown",
   "metadata": {},
   "source": [
    "All p-values are high, however, if we have to discard some variables based on p-value, and with the help of the above correlation table, we would discard weight, ram memory and screen size as they are highly correlated.\n",
    "\n",
    "Besides weight, ram memory and screen size have the worst p-values: 0.605, 0.863 and 0.966 respectively.\n",
    "\n",
    "So, we decide to keep usb ports and hard drive."
   ]
  },
  {
   "cell_type": "code",
   "execution_count": 28,
   "metadata": {
    "collapsed": false
   },
   "outputs": [
    {
     "data": {
      "image/png": "[encoded data removed]",
      "text/plain": [
       "<matplotlib.figure.Figure at 0x119665da0>"
      ]
     },
     "metadata": {},
     "output_type": "display_data"
    }
   ],
   "source": [
    "XX = laptops[['screensize(in)', 'rammemory(gb)', 'harddrive(gb)', 'usbports', 'weight(oz)']]\n",
    "pairplot(XX);"
   ]
  },
  {
   "cell_type": "markdown",
   "metadata": {},
   "source": [
    "d) Now create a new predictor that contains random numbers drawn from your favorite distribution, and include this predictor in your multiple regression model. Comment on the model fit. How does the new $R^2$ compare to the one in part a)?  "
   ]
  },
  {
   "cell_type": "code",
   "execution_count": 14,
   "metadata": {
    "collapsed": true
   },
   "outputs": [],
   "source": [
    "mu, sigma = 0, 1\n",
    "# We choose size equal to the size of the dataframe.\n",
    "new_predictor = np.random.normal(mu, sigma, len(laptops))"
   ]
  },
  {
   "cell_type": "code",
   "execution_count": 15,
   "metadata": {
    "collapsed": false
   },
   "outputs": [],
   "source": [
    "laptops['new_predictor'] = new_predictor"
   ]
  },
  {
   "cell_type": "code",
   "execution_count": 16,
   "metadata": {
    "collapsed": false
   },
   "outputs": [
    {
     "data": {
      "text/html": [
       "<div>\n",
       "<table border=\"1\" class=\"dataframe\">\n",
       "  <thead>\n",
       "    <tr style=\"text-align: right;\">\n",
       "      <th></th>\n",
       "      <th>price($)</th>\n",
       "      <th>screensize(in)</th>\n",
       "      <th>rammemory(gb)</th>\n",
       "      <th>harddrive(gb)</th>\n",
       "      <th>usbports</th>\n",
       "      <th>brand</th>\n",
       "      <th>weight(oz)</th>\n",
       "      <th>new_predictor</th>\n",
       "    </tr>\n",
       "  </thead>\n",
       "  <tbody>\n",
       "    <tr>\n",
       "      <th>0</th>\n",
       "      <td>830</td>\n",
       "      <td>13.3</td>\n",
       "      <td>4</td>\n",
       "      <td>500</td>\n",
       "      <td>3</td>\n",
       "      <td>Toshiba</td>\n",
       "      <td>4.9</td>\n",
       "      <td>0.711356</td>\n",
       "    </tr>\n",
       "    <tr>\n",
       "      <th>1</th>\n",
       "      <td>750</td>\n",
       "      <td>13.3</td>\n",
       "      <td>4</td>\n",
       "      <td>640</td>\n",
       "      <td>3</td>\n",
       "      <td>Toshiba</td>\n",
       "      <td>3.2</td>\n",
       "      <td>0.845838</td>\n",
       "    </tr>\n",
       "    <tr>\n",
       "      <th>2</th>\n",
       "      <td>1200</td>\n",
       "      <td>11.6</td>\n",
       "      <td>2</td>\n",
       "      <td>128</td>\n",
       "      <td>2</td>\n",
       "      <td>Apple</td>\n",
       "      <td>2.3</td>\n",
       "      <td>0.356981</td>\n",
       "    </tr>\n",
       "    <tr>\n",
       "      <th>3</th>\n",
       "      <td>1600</td>\n",
       "      <td>18.4</td>\n",
       "      <td>6</td>\n",
       "      <td>640</td>\n",
       "      <td>4</td>\n",
       "      <td>Toshiba</td>\n",
       "      <td>9.7</td>\n",
       "      <td>-2.353277</td>\n",
       "    </tr>\n",
       "    <tr>\n",
       "      <th>4</th>\n",
       "      <td>1900</td>\n",
       "      <td>18.4</td>\n",
       "      <td>8</td>\n",
       "      <td>500</td>\n",
       "      <td>4</td>\n",
       "      <td>Toshiba</td>\n",
       "      <td>9.7</td>\n",
       "      <td>-0.203527</td>\n",
       "    </tr>\n",
       "  </tbody>\n",
       "</table>\n",
       "</div>"
      ],
      "text/plain": [
       "   price($)  screensize(in)  rammemory(gb)  harddrive(gb)  usbports    brand  \\\n",
       "0       830            13.3              4            500         3  Toshiba   \n",
       "1       750            13.3              4            640         3  Toshiba   \n",
       "2      1200            11.6              2            128         2    Apple   \n",
       "3      1600            18.4              6            640         4  Toshiba   \n",
       "4      1900            18.4              8            500         4  Toshiba   \n",
       "\n",
       "   weight(oz)  new_predictor  \n",
       "0         4.9       0.711356  \n",
       "1         3.2       0.845838  \n",
       "2         2.3       0.356981  \n",
       "3         9.7      -2.353277  \n",
       "4         9.7      -0.203527  "
      ]
     },
     "execution_count": 16,
     "metadata": {},
     "output_type": "execute_result"
    }
   ],
   "source": [
    "laptops.head()"
   ]
  },
  {
   "cell_type": "code",
   "execution_count": 17,
   "metadata": {
    "collapsed": false
   },
   "outputs": [
    {
     "data": {
      "text/html": [
       "<table class=\"simpletable\">\n",
       "<caption>OLS Regression Results</caption>\n",
       "<tr>\n",
       "  <th>Dep. Variable:</th>        <td>price($)</td>     <th>  R-squared:         </th> <td>   0.118</td>\n",
       "</tr>\n",
       "<tr>\n",
       "  <th>Model:</th>                   <td>OLS</td>       <th>  Adj. R-squared:    </th> <td>   0.023</td>\n",
       "</tr>\n",
       "<tr>\n",
       "  <th>Method:</th>             <td>Least Squares</td>  <th>  F-statistic:       </th> <td>   1.244</td>\n",
       "</tr>\n",
       "<tr>\n",
       "  <th>Date:</th>             <td>Tue, 04 Oct 2016</td> <th>  Prob (F-statistic):</th>  <td> 0.298</td> \n",
       "</tr>\n",
       "<tr>\n",
       "  <th>Time:</th>                 <td>15:13:14</td>     <th>  Log-Likelihood:    </th> <td> -477.98</td>\n",
       "</tr>\n",
       "<tr>\n",
       "  <th>No. Observations:</th>      <td>    63</td>      <th>  AIC:               </th> <td>   970.0</td>\n",
       "</tr>\n",
       "<tr>\n",
       "  <th>Df Residuals:</th>          <td>    56</td>      <th>  BIC:               </th> <td>   985.0</td>\n",
       "</tr>\n",
       "<tr>\n",
       "  <th>Df Model:</th>              <td>     6</td>      <th>                     </th>     <td> </td>   \n",
       "</tr>\n",
       "<tr>\n",
       "  <th>Covariance Type:</th>      <td>nonrobust</td>    <th>                     </th>     <td> </td>   \n",
       "</tr>\n",
       "</table>\n",
       "<table class=\"simpletable\">\n",
       "<tr>\n",
       "         <td></td>           <th>coef</th>     <th>std err</th>      <th>t</th>      <th>P>|t|</th> <th>[95.0% Conf. Int.]</th> \n",
       "</tr>\n",
       "<tr>\n",
       "  <th>const</th>          <td>  767.4678</td> <td>  955.983</td> <td>    0.803</td> <td> 0.425</td> <td>-1147.596  2682.532</td>\n",
       "</tr>\n",
       "<tr>\n",
       "  <th>screensize(in)</th> <td>    4.3411</td> <td>   97.053</td> <td>    0.045</td> <td> 0.964</td> <td> -190.080   198.762</td>\n",
       "</tr>\n",
       "<tr>\n",
       "  <th>rammemory(gb)</th>  <td>   11.8266</td> <td>   75.367</td> <td>    0.157</td> <td> 0.876</td> <td> -139.152   162.805</td>\n",
       "</tr>\n",
       "<tr>\n",
       "  <th>harddrive(gb)</th>  <td>    0.6709</td> <td>    0.473</td> <td>    1.417</td> <td> 0.162</td> <td>   -0.277     1.619</td>\n",
       "</tr>\n",
       "<tr>\n",
       "  <th>usbports</th>       <td> -209.5735</td> <td>  126.231</td> <td>   -1.660</td> <td> 0.102</td> <td> -462.446    43.299</td>\n",
       "</tr>\n",
       "<tr>\n",
       "  <th>weight(oz)</th>     <td>   50.7794</td> <td>  100.226</td> <td>    0.507</td> <td> 0.614</td> <td> -149.998   251.557</td>\n",
       "</tr>\n",
       "<tr>\n",
       "  <th>new_predictor</th>  <td>   -8.9471</td> <td>   58.909</td> <td>   -0.152</td> <td> 0.880</td> <td> -126.956   109.062</td>\n",
       "</tr>\n",
       "</table>\n",
       "<table class=\"simpletable\">\n",
       "<tr>\n",
       "  <th>Omnibus:</th>       <td> 9.869</td> <th>  Durbin-Watson:     </th> <td>   1.793</td>\n",
       "</tr>\n",
       "<tr>\n",
       "  <th>Prob(Omnibus):</th> <td> 0.007</td> <th>  Jarque-Bera (JB):  </th> <td>  10.416</td>\n",
       "</tr>\n",
       "<tr>\n",
       "  <th>Skew:</th>          <td> 0.995</td> <th>  Prob(JB):          </th> <td> 0.00547</td>\n",
       "</tr>\n",
       "<tr>\n",
       "  <th>Kurtosis:</th>      <td> 3.109</td> <th>  Cond. No.          </th> <td>8.40e+03</td>\n",
       "</tr>\n",
       "</table>"
      ],
      "text/plain": [
       "<class 'statsmodels.iolib.summary.Summary'>\n",
       "\"\"\"\n",
       "                            OLS Regression Results                            \n",
       "==============================================================================\n",
       "Dep. Variable:               price($)   R-squared:                       0.118\n",
       "Model:                            OLS   Adj. R-squared:                  0.023\n",
       "Method:                 Least Squares   F-statistic:                     1.244\n",
       "Date:                Tue, 04 Oct 2016   Prob (F-statistic):              0.298\n",
       "Time:                        15:13:14   Log-Likelihood:                -477.98\n",
       "No. Observations:                  63   AIC:                             970.0\n",
       "Df Residuals:                      56   BIC:                             985.0\n",
       "Df Model:                           6                                         \n",
       "Covariance Type:            nonrobust                                         \n",
       "==================================================================================\n",
       "                     coef    std err          t      P>|t|      [95.0% Conf. Int.]\n",
       "----------------------------------------------------------------------------------\n",
       "const            767.4678    955.983      0.803      0.425     -1147.596  2682.532\n",
       "screensize(in)     4.3411     97.053      0.045      0.964      -190.080   198.762\n",
       "rammemory(gb)     11.8266     75.367      0.157      0.876      -139.152   162.805\n",
       "harddrive(gb)      0.6709      0.473      1.417      0.162        -0.277     1.619\n",
       "usbports        -209.5735    126.231     -1.660      0.102      -462.446    43.299\n",
       "weight(oz)        50.7794    100.226      0.507      0.614      -149.998   251.557\n",
       "new_predictor     -8.9471     58.909     -0.152      0.880      -126.956   109.062\n",
       "==============================================================================\n",
       "Omnibus:                        9.869   Durbin-Watson:                   1.793\n",
       "Prob(Omnibus):                  0.007   Jarque-Bera (JB):               10.416\n",
       "Skew:                           0.995   Prob(JB):                      0.00547\n",
       "Kurtosis:                       3.109   Cond. No.                     8.40e+03\n",
       "==============================================================================\n",
       "\n",
       "Warnings:\n",
       "[1] Standard Errors assume that the covariance matrix of the errors is correctly specified.\n",
       "[2] The condition number is large, 8.4e+03. This might indicate that there are\n",
       "strong multicollinearity or other numerical problems.\n",
       "\"\"\""
      ]
     },
     "execution_count": 17,
     "metadata": {},
     "output_type": "execute_result"
    }
   ],
   "source": [
    "X_multi_new = laptops[['screensize(in)', 'rammemory(gb)', 'harddrive(gb)', 'usbports', 'weight(oz)', 'new_predictor']]\n",
    "X_multi_new = sm.add_constant(X_multi_new)\n",
    "y_multi_new = laptops['price($)']\n",
    "\n",
    "model_multi_new = sm.OLS(y_multi_new, X_multi_new)\n",
    "results_multi_new = model_multi_new.fit()\n",
    "results_multi_new.summary()"
   ]
  },
  {
   "cell_type": "markdown",
   "metadata": {
    "collapsed": true
   },
   "source": [
    "Even though $R^2$ is slightly better (0.118) than initially (0.117), in fact we should be looking at the adjusted R squared, which is worse now (0.023) than initially (0.04): so this model is worse.\n",
    "\n",
    "Also, to confirm that this new model is worse than the initial, the F-statistic is now 1.244, less than 1.514 of the initial value. The p-value of the new model is also worse (0.298) than the initial model (0.2)."
   ]
  },
  {
   "cell_type": "markdown",
   "metadata": {},
   "source": [
    "e) Generate another new predictor - you can draw another list of random numbers from the same distribution as above, or you can draw from a different distribution. Add this predictor to the model in part d). What happends to the $R^2$? Does this mean that the new predictor is useful for predicting laptop prices?"
   ]
  },
  {
   "cell_type": "code",
   "execution_count": 18,
   "metadata": {
    "collapsed": false
   },
   "outputs": [],
   "source": [
    "lambda_predictor = 2\n",
    "# We choose size equal to the size of the dataframe.\n",
    "another_predictor = np.random.exponential(lambda_predictor, len(laptops))"
   ]
  },
  {
   "cell_type": "code",
   "execution_count": 19,
   "metadata": {
    "collapsed": true
   },
   "outputs": [],
   "source": [
    "laptops['another_predictor'] = another_predictor"
   ]
  },
  {
   "cell_type": "code",
   "execution_count": 20,
   "metadata": {
    "collapsed": false
   },
   "outputs": [
    {
     "data": {
      "text/html": [
       "<div>\n",
       "<table border=\"1\" class=\"dataframe\">\n",
       "  <thead>\n",
       "    <tr style=\"text-align: right;\">\n",
       "      <th></th>\n",
       "      <th>price($)</th>\n",
       "      <th>screensize(in)</th>\n",
       "      <th>rammemory(gb)</th>\n",
       "      <th>harddrive(gb)</th>\n",
       "      <th>usbports</th>\n",
       "      <th>brand</th>\n",
       "      <th>weight(oz)</th>\n",
       "      <th>new_predictor</th>\n",
       "      <th>another_predictor</th>\n",
       "    </tr>\n",
       "  </thead>\n",
       "  <tbody>\n",
       "    <tr>\n",
       "      <th>0</th>\n",
       "      <td>830</td>\n",
       "      <td>13.3</td>\n",
       "      <td>4</td>\n",
       "      <td>500</td>\n",
       "      <td>3</td>\n",
       "      <td>Toshiba</td>\n",
       "      <td>4.9</td>\n",
       "      <td>0.711356</td>\n",
       "      <td>2.016779</td>\n",
       "    </tr>\n",
       "    <tr>\n",
       "      <th>1</th>\n",
       "      <td>750</td>\n",
       "      <td>13.3</td>\n",
       "      <td>4</td>\n",
       "      <td>640</td>\n",
       "      <td>3</td>\n",
       "      <td>Toshiba</td>\n",
       "      <td>3.2</td>\n",
       "      <td>0.845838</td>\n",
       "      <td>0.275248</td>\n",
       "    </tr>\n",
       "    <tr>\n",
       "      <th>2</th>\n",
       "      <td>1200</td>\n",
       "      <td>11.6</td>\n",
       "      <td>2</td>\n",
       "      <td>128</td>\n",
       "      <td>2</td>\n",
       "      <td>Apple</td>\n",
       "      <td>2.3</td>\n",
       "      <td>0.356981</td>\n",
       "      <td>0.700892</td>\n",
       "    </tr>\n",
       "    <tr>\n",
       "      <th>3</th>\n",
       "      <td>1600</td>\n",
       "      <td>18.4</td>\n",
       "      <td>6</td>\n",
       "      <td>640</td>\n",
       "      <td>4</td>\n",
       "      <td>Toshiba</td>\n",
       "      <td>9.7</td>\n",
       "      <td>-2.353277</td>\n",
       "      <td>0.599243</td>\n",
       "    </tr>\n",
       "    <tr>\n",
       "      <th>4</th>\n",
       "      <td>1900</td>\n",
       "      <td>18.4</td>\n",
       "      <td>8</td>\n",
       "      <td>500</td>\n",
       "      <td>4</td>\n",
       "      <td>Toshiba</td>\n",
       "      <td>9.7</td>\n",
       "      <td>-0.203527</td>\n",
       "      <td>0.755562</td>\n",
       "    </tr>\n",
       "  </tbody>\n",
       "</table>\n",
       "</div>"
      ],
      "text/plain": [
       "   price($)  screensize(in)  rammemory(gb)  harddrive(gb)  usbports    brand  \\\n",
       "0       830            13.3              4            500         3  Toshiba   \n",
       "1       750            13.3              4            640         3  Toshiba   \n",
       "2      1200            11.6              2            128         2    Apple   \n",
       "3      1600            18.4              6            640         4  Toshiba   \n",
       "4      1900            18.4              8            500         4  Toshiba   \n",
       "\n",
       "   weight(oz)  new_predictor  another_predictor  \n",
       "0         4.9       0.711356           2.016779  \n",
       "1         3.2       0.845838           0.275248  \n",
       "2         2.3       0.356981           0.700892  \n",
       "3         9.7      -2.353277           0.599243  \n",
       "4         9.7      -0.203527           0.755562  "
      ]
     },
     "execution_count": 20,
     "metadata": {},
     "output_type": "execute_result"
    }
   ],
   "source": [
    "laptops.head()"
   ]
  },
  {
   "cell_type": "code",
   "execution_count": 21,
   "metadata": {
    "collapsed": false
   },
   "outputs": [
    {
     "data": {
      "text/html": [
       "<table class=\"simpletable\">\n",
       "<caption>OLS Regression Results</caption>\n",
       "<tr>\n",
       "  <th>Dep. Variable:</th>        <td>price($)</td>     <th>  R-squared:         </th> <td>   0.118</td>\n",
       "</tr>\n",
       "<tr>\n",
       "  <th>Model:</th>                   <td>OLS</td>       <th>  Adj. R-squared:    </th> <td>   0.006</td>\n",
       "</tr>\n",
       "<tr>\n",
       "  <th>Method:</th>             <td>Least Squares</td>  <th>  F-statistic:       </th> <td>   1.053</td>\n",
       "</tr>\n",
       "<tr>\n",
       "  <th>Date:</th>             <td>Tue, 04 Oct 2016</td> <th>  Prob (F-statistic):</th>  <td> 0.406</td> \n",
       "</tr>\n",
       "<tr>\n",
       "  <th>Time:</th>                 <td>15:13:14</td>     <th>  Log-Likelihood:    </th> <td> -477.96</td>\n",
       "</tr>\n",
       "<tr>\n",
       "  <th>No. Observations:</th>      <td>    63</td>      <th>  AIC:               </th> <td>   971.9</td>\n",
       "</tr>\n",
       "<tr>\n",
       "  <th>Df Residuals:</th>          <td>    55</td>      <th>  BIC:               </th> <td>   989.1</td>\n",
       "</tr>\n",
       "<tr>\n",
       "  <th>Df Model:</th>              <td>     7</td>      <th>                     </th>     <td> </td>   \n",
       "</tr>\n",
       "<tr>\n",
       "  <th>Covariance Type:</th>      <td>nonrobust</td>    <th>                     </th>     <td> </td>   \n",
       "</tr>\n",
       "</table>\n",
       "<table class=\"simpletable\">\n",
       "<tr>\n",
       "          <td></td>             <th>coef</th>     <th>std err</th>      <th>t</th>      <th>P>|t|</th> <th>[95.0% Conf. Int.]</th> \n",
       "</tr>\n",
       "<tr>\n",
       "  <th>const</th>             <td>  764.9227</td> <td>  964.400</td> <td>    0.793</td> <td> 0.431</td> <td>-1167.779  2697.624</td>\n",
       "</tr>\n",
       "<tr>\n",
       "  <th>screensize(in)</th>    <td>    5.7500</td> <td>   98.172</td> <td>    0.059</td> <td> 0.954</td> <td> -190.991   202.491</td>\n",
       "</tr>\n",
       "<tr>\n",
       "  <th>rammemory(gb)</th>     <td>   13.1709</td> <td>   76.344</td> <td>    0.173</td> <td> 0.864</td> <td> -139.825   166.167</td>\n",
       "</tr>\n",
       "<tr>\n",
       "  <th>harddrive(gb)</th>     <td>    0.6514</td> <td>    0.488</td> <td>    1.335</td> <td> 0.187</td> <td>   -0.327     1.630</td>\n",
       "</tr>\n",
       "<tr>\n",
       "  <th>usbports</th>          <td> -208.1326</td> <td>  127.551</td> <td>   -1.632</td> <td> 0.108</td> <td> -463.750    47.485</td>\n",
       "</tr>\n",
       "<tr>\n",
       "  <th>weight(oz)</th>        <td>   49.9236</td> <td>  101.197</td> <td>    0.493</td> <td> 0.624</td> <td> -152.879   252.727</td>\n",
       "</tr>\n",
       "<tr>\n",
       "  <th>new_predictor</th>     <td>   -9.8068</td> <td>   59.590</td> <td>   -0.165</td> <td> 0.870</td> <td> -129.228   109.614</td>\n",
       "</tr>\n",
       "<tr>\n",
       "  <th>another_predictor</th> <td>   -8.7997</td> <td>   45.706</td> <td>   -0.193</td> <td> 0.848</td> <td> -100.396    82.796</td>\n",
       "</tr>\n",
       "</table>\n",
       "<table class=\"simpletable\">\n",
       "<tr>\n",
       "  <th>Omnibus:</th>       <td> 9.762</td> <th>  Durbin-Watson:     </th> <td>   1.810</td>\n",
       "</tr>\n",
       "<tr>\n",
       "  <th>Prob(Omnibus):</th> <td> 0.008</td> <th>  Jarque-Bera (JB):  </th> <td>  10.278</td>\n",
       "</tr>\n",
       "<tr>\n",
       "  <th>Skew:</th>          <td> 0.988</td> <th>  Prob(JB):          </th> <td> 0.00586</td>\n",
       "</tr>\n",
       "<tr>\n",
       "  <th>Kurtosis:</th>      <td> 3.105</td> <th>  Cond. No.          </th> <td>8.40e+03</td>\n",
       "</tr>\n",
       "</table>"
      ],
      "text/plain": [
       "<class 'statsmodels.iolib.summary.Summary'>\n",
       "\"\"\"\n",
       "                            OLS Regression Results                            \n",
       "==============================================================================\n",
       "Dep. Variable:               price($)   R-squared:                       0.118\n",
       "Model:                            OLS   Adj. R-squared:                  0.006\n",
       "Method:                 Least Squares   F-statistic:                     1.053\n",
       "Date:                Tue, 04 Oct 2016   Prob (F-statistic):              0.406\n",
       "Time:                        15:13:14   Log-Likelihood:                -477.96\n",
       "No. Observations:                  63   AIC:                             971.9\n",
       "Df Residuals:                      55   BIC:                             989.1\n",
       "Df Model:                           7                                         \n",
       "Covariance Type:            nonrobust                                         \n",
       "=====================================================================================\n",
       "                        coef    std err          t      P>|t|      [95.0% Conf. Int.]\n",
       "-------------------------------------------------------------------------------------\n",
       "const               764.9227    964.400      0.793      0.431     -1167.779  2697.624\n",
       "screensize(in)        5.7500     98.172      0.059      0.954      -190.991   202.491\n",
       "rammemory(gb)        13.1709     76.344      0.173      0.864      -139.825   166.167\n",
       "harddrive(gb)         0.6514      0.488      1.335      0.187        -0.327     1.630\n",
       "usbports           -208.1326    127.551     -1.632      0.108      -463.750    47.485\n",
       "weight(oz)           49.9236    101.197      0.493      0.624      -152.879   252.727\n",
       "new_predictor        -9.8068     59.590     -0.165      0.870      -129.228   109.614\n",
       "another_predictor    -8.7997     45.706     -0.193      0.848      -100.396    82.796\n",
       "==============================================================================\n",
       "Omnibus:                        9.762   Durbin-Watson:                   1.810\n",
       "Prob(Omnibus):                  0.008   Jarque-Bera (JB):               10.278\n",
       "Skew:                           0.988   Prob(JB):                      0.00586\n",
       "Kurtosis:                       3.105   Cond. No.                     8.40e+03\n",
       "==============================================================================\n",
       "\n",
       "Warnings:\n",
       "[1] Standard Errors assume that the covariance matrix of the errors is correctly specified.\n",
       "[2] The condition number is large, 8.4e+03. This might indicate that there are\n",
       "strong multicollinearity or other numerical problems.\n",
       "\"\"\""
      ]
     },
     "execution_count": 21,
     "metadata": {},
     "output_type": "execute_result"
    }
   ],
   "source": [
    "X_multi_another = laptops[['screensize(in)', 'rammemory(gb)', 'harddrive(gb)', 'usbports', 'weight(oz)', 'new_predictor', 'another_predictor']]\n",
    "X_multi_another = sm.add_constant(X_multi_another)\n",
    "y_multi_another = laptops['price($)']\n",
    "\n",
    "model_multi_another = sm.OLS(y_multi_another, X_multi_another)\n",
    "results_multi_another = model_multi_another.fit()\n",
    "results_multi_another.summary()"
   ]
  },
  {
   "cell_type": "markdown",
   "metadata": {
    "collapsed": true
   },
   "source": [
    "Actually, adding a new variable make the model even worse:\n",
    "    \n",
    "$R^2$ = 0.118\n",
    "\n",
    "Adjusted R square: 0.006\n",
    "\n",
    "F-statistic: 1.053\n",
    "\n",
    "Model p-value: 0.406\n",
    "\n",
    "Overall, this is the worse of the 3 models."
   ]
  },
  {
   "cell_type": "markdown",
   "metadata": {},
   "source": [
    "**Question 3**  \n",
    "\n",
    "Squirt Squad is a cleaning service that sends crews to residential homes on either a once-a-month or twice-a-month schedule, depending on the customer’s preference. The owner would like to predict the amount of time required to clean a house based on the square footage of the house, the total number of rooms in the house, the number of bathrooms it has, the size of the cleaning crew, the frequency of the cleaning schedule, and whether or not the household has children. Data can be found in the tables **`squad`** (containing `squad_id`, `home_id`, `crew` and `freq` (0: once-a-month, 1: twice-a-month); **`squad_homes`** (containing `home_id`, `footage`, `rooms`, `baths` and `children` (Squirt Squad assumes the number of children in a house will never change. BONUS: how would you change the schema to account for the possibility that it will?)); and **`squad_times`** (containing `squad_id` and `dt`, `time` and `crew` (redundant with `squad` but included in case the squad size changes)). You will need to construct a three-way join using `home_id` and `squad_id`.\n",
    "\n",
    "a) Construct a regression model using all of the independent variables.  "
   ]
  },
  {
   "cell_type": "markdown",
   "metadata": {},
   "source": [
    "We would create a lookup table to store the number of children by threshold:\n",
    "\n",
    "0 - 0 children\n",
    "\n",
    "1 - 1 to 2 children\n",
    "\n",
    "2 - 3 to 5 children\n",
    "\n",
    "3 - more than 5 children\n",
    "\n",
    "and join the new table based on home_id."
   ]
  },
  {
   "cell_type": "code",
   "execution_count": 29,
   "metadata": {
    "collapsed": false
   },
   "outputs": [],
   "source": [
    "squad = pd.read_sql(\"SELECT s.squad_id, s.home_id, s.crew, s.freq, sh.footage,sh.rooms, sh.baths, sh.children, st.dt, st.time FROM squad AS s INNER JOIN squad_homes AS sh ON s.home_id = sh.home_id INNER JOIN squad_times AS st ON s.squad_id = st.squad_id;\", engine)"
   ]
  },
  {
   "cell_type": "code",
   "execution_count": 30,
   "metadata": {
    "collapsed": false
   },
   "outputs": [
    {
     "data": {
      "text/html": [
       "<div>\n",
       "<table border=\"1\" class=\"dataframe\">\n",
       "  <thead>\n",
       "    <tr style=\"text-align: right;\">\n",
       "      <th></th>\n",
       "      <th>squad_id</th>\n",
       "      <th>home_id</th>\n",
       "      <th>crew</th>\n",
       "      <th>freq</th>\n",
       "      <th>footage</th>\n",
       "      <th>rooms</th>\n",
       "      <th>baths</th>\n",
       "      <th>children</th>\n",
       "      <th>dt</th>\n",
       "      <th>time</th>\n",
       "    </tr>\n",
       "  </thead>\n",
       "  <tbody>\n",
       "    <tr>\n",
       "      <th>0</th>\n",
       "      <td>1</td>\n",
       "      <td>0</td>\n",
       "      <td>3</td>\n",
       "      <td>1</td>\n",
       "      <td>1548</td>\n",
       "      <td>8</td>\n",
       "      <td>2.0</td>\n",
       "      <td>0</td>\n",
       "      <td>2016-09-17</td>\n",
       "      <td>132</td>\n",
       "    </tr>\n",
       "    <tr>\n",
       "      <th>1</th>\n",
       "      <td>2</td>\n",
       "      <td>1</td>\n",
       "      <td>2</td>\n",
       "      <td>1</td>\n",
       "      <td>1599</td>\n",
       "      <td>7</td>\n",
       "      <td>1.5</td>\n",
       "      <td>0</td>\n",
       "      <td>2016-09-09</td>\n",
       "      <td>146</td>\n",
       "    </tr>\n",
       "    <tr>\n",
       "      <th>2</th>\n",
       "      <td>3</td>\n",
       "      <td>2</td>\n",
       "      <td>3</td>\n",
       "      <td>1</td>\n",
       "      <td>1630</td>\n",
       "      <td>8</td>\n",
       "      <td>2.0</td>\n",
       "      <td>0</td>\n",
       "      <td>2016-09-12</td>\n",
       "      <td>131</td>\n",
       "    </tr>\n",
       "    <tr>\n",
       "      <th>3</th>\n",
       "      <td>4</td>\n",
       "      <td>3</td>\n",
       "      <td>3</td>\n",
       "      <td>1</td>\n",
       "      <td>1640</td>\n",
       "      <td>7</td>\n",
       "      <td>1.5</td>\n",
       "      <td>0</td>\n",
       "      <td>2016-09-11</td>\n",
       "      <td>141</td>\n",
       "    </tr>\n",
       "    <tr>\n",
       "      <th>4</th>\n",
       "      <td>5</td>\n",
       "      <td>4</td>\n",
       "      <td>3</td>\n",
       "      <td>0</td>\n",
       "      <td>1711</td>\n",
       "      <td>8</td>\n",
       "      <td>2.5</td>\n",
       "      <td>1</td>\n",
       "      <td>2016-09-27</td>\n",
       "      <td>144</td>\n",
       "    </tr>\n",
       "  </tbody>\n",
       "</table>\n",
       "</div>"
      ],
      "text/plain": [
       "   squad_id  home_id  crew  freq  footage  rooms  baths  children         dt  \\\n",
       "0         1        0     3     1     1548      8    2.0         0 2016-09-17   \n",
       "1         2        1     2     1     1599      7    1.5         0 2016-09-09   \n",
       "2         3        2     3     1     1630      8    2.0         0 2016-09-12   \n",
       "3         4        3     3     1     1640      7    1.5         0 2016-09-11   \n",
       "4         5        4     3     0     1711      8    2.5         1 2016-09-27   \n",
       "\n",
       "   time  \n",
       "0   132  \n",
       "1   146  \n",
       "2   131  \n",
       "3   141  \n",
       "4   144  "
      ]
     },
     "execution_count": 30,
     "metadata": {},
     "output_type": "execute_result"
    }
   ],
   "source": [
    "squad.head()"
   ]
  },
  {
   "cell_type": "code",
   "execution_count": 31,
   "metadata": {
    "collapsed": false
   },
   "outputs": [
    {
     "data": {
      "text/html": [
       "<table class=\"simpletable\">\n",
       "<caption>OLS Regression Results</caption>\n",
       "<tr>\n",
       "  <th>Dep. Variable:</th>          <td>time</td>       <th>  R-squared:         </th> <td>   0.496</td>\n",
       "</tr>\n",
       "<tr>\n",
       "  <th>Model:</th>                   <td>OLS</td>       <th>  Adj. R-squared:    </th> <td>   0.485</td>\n",
       "</tr>\n",
       "<tr>\n",
       "  <th>Method:</th>             <td>Least Squares</td>  <th>  F-statistic:       </th> <td>   44.51</td>\n",
       "</tr>\n",
       "<tr>\n",
       "  <th>Date:</th>             <td>Tue, 04 Oct 2016</td> <th>  Prob (F-statistic):</th> <td>1.02e-37</td>\n",
       "</tr>\n",
       "<tr>\n",
       "  <th>Time:</th>                 <td>15:42:37</td>     <th>  Log-Likelihood:    </th> <td> -1222.2</td>\n",
       "</tr>\n",
       "<tr>\n",
       "  <th>No. Observations:</th>      <td>   278</td>      <th>  AIC:               </th> <td>   2458.</td>\n",
       "</tr>\n",
       "<tr>\n",
       "  <th>Df Residuals:</th>          <td>   271</td>      <th>  BIC:               </th> <td>   2484.</td>\n",
       "</tr>\n",
       "<tr>\n",
       "  <th>Df Model:</th>              <td>     6</td>      <th>                     </th>     <td> </td>   \n",
       "</tr>\n",
       "<tr>\n",
       "  <th>Covariance Type:</th>      <td>nonrobust</td>    <th>                     </th>     <td> </td>   \n",
       "</tr>\n",
       "</table>\n",
       "<table class=\"simpletable\">\n",
       "<tr>\n",
       "      <td></td>        <th>coef</th>     <th>std err</th>      <th>t</th>      <th>P>|t|</th> <th>[95.0% Conf. Int.]</th> \n",
       "</tr>\n",
       "<tr>\n",
       "  <th>const</th>    <td>  143.5146</td> <td>   10.950</td> <td>   13.106</td> <td> 0.000</td> <td>  121.956   165.073</td>\n",
       "</tr>\n",
       "<tr>\n",
       "  <th>crew</th>     <td>  -15.4141</td> <td>    2.026</td> <td>   -7.609</td> <td> 0.000</td> <td>  -19.402   -11.426</td>\n",
       "</tr>\n",
       "<tr>\n",
       "  <th>freq</th>     <td>   -4.0902</td> <td>    2.621</td> <td>   -1.561</td> <td> 0.120</td> <td>   -9.250     1.070</td>\n",
       "</tr>\n",
       "<tr>\n",
       "  <th>footage</th>  <td>   -0.0048</td> <td>    0.006</td> <td>   -0.772</td> <td> 0.441</td> <td>   -0.017     0.007</td>\n",
       "</tr>\n",
       "<tr>\n",
       "  <th>rooms</th>    <td>    6.7580</td> <td>    1.238</td> <td>    5.457</td> <td> 0.000</td> <td>    4.320     9.196</td>\n",
       "</tr>\n",
       "<tr>\n",
       "  <th>baths</th>    <td>   -5.6072</td> <td>    3.247</td> <td>   -1.727</td> <td> 0.085</td> <td>  -12.000     0.786</td>\n",
       "</tr>\n",
       "<tr>\n",
       "  <th>children</th> <td>   22.8734</td> <td>    2.618</td> <td>    8.738</td> <td> 0.000</td> <td>   17.720    28.027</td>\n",
       "</tr>\n",
       "</table>\n",
       "<table class=\"simpletable\">\n",
       "<tr>\n",
       "  <th>Omnibus:</th>       <td> 3.347</td> <th>  Durbin-Watson:     </th> <td>   1.965</td>\n",
       "</tr>\n",
       "<tr>\n",
       "  <th>Prob(Omnibus):</th> <td> 0.188</td> <th>  Jarque-Bera (JB):  </th> <td>   3.313</td>\n",
       "</tr>\n",
       "<tr>\n",
       "  <th>Skew:</th>          <td>-0.148</td> <th>  Prob(JB):          </th> <td>   0.191</td>\n",
       "</tr>\n",
       "<tr>\n",
       "  <th>Kurtosis:</th>      <td> 3.446</td> <th>  Cond. No.          </th> <td>2.27e+04</td>\n",
       "</tr>\n",
       "</table>"
      ],
      "text/plain": [
       "<class 'statsmodels.iolib.summary.Summary'>\n",
       "\"\"\"\n",
       "                            OLS Regression Results                            \n",
       "==============================================================================\n",
       "Dep. Variable:                   time   R-squared:                       0.496\n",
       "Model:                            OLS   Adj. R-squared:                  0.485\n",
       "Method:                 Least Squares   F-statistic:                     44.51\n",
       "Date:                Tue, 04 Oct 2016   Prob (F-statistic):           1.02e-37\n",
       "Time:                        15:42:37   Log-Likelihood:                -1222.2\n",
       "No. Observations:                 278   AIC:                             2458.\n",
       "Df Residuals:                     271   BIC:                             2484.\n",
       "Df Model:                           6                                         \n",
       "Covariance Type:            nonrobust                                         \n",
       "==============================================================================\n",
       "                 coef    std err          t      P>|t|      [95.0% Conf. Int.]\n",
       "------------------------------------------------------------------------------\n",
       "const        143.5146     10.950     13.106      0.000       121.956   165.073\n",
       "crew         -15.4141      2.026     -7.609      0.000       -19.402   -11.426\n",
       "freq          -4.0902      2.621     -1.561      0.120        -9.250     1.070\n",
       "footage       -0.0048      0.006     -0.772      0.441        -0.017     0.007\n",
       "rooms          6.7580      1.238      5.457      0.000         4.320     9.196\n",
       "baths         -5.6072      3.247     -1.727      0.085       -12.000     0.786\n",
       "children      22.8734      2.618      8.738      0.000        17.720    28.027\n",
       "==============================================================================\n",
       "Omnibus:                        3.347   Durbin-Watson:                   1.965\n",
       "Prob(Omnibus):                  0.188   Jarque-Bera (JB):                3.313\n",
       "Skew:                          -0.148   Prob(JB):                        0.191\n",
       "Kurtosis:                       3.446   Cond. No.                     2.27e+04\n",
       "==============================================================================\n",
       "\n",
       "Warnings:\n",
       "[1] Standard Errors assume that the covariance matrix of the errors is correctly specified.\n",
       "[2] The condition number is large, 2.27e+04. This might indicate that there are\n",
       "strong multicollinearity or other numerical problems.\n",
       "\"\"\""
      ]
     },
     "execution_count": 31,
     "metadata": {},
     "output_type": "execute_result"
    }
   ],
   "source": [
    "X_squad = squad[['crew', 'freq', 'footage', 'rooms', 'baths', 'children']]\n",
    "X_squad = sm.add_constant(X_squad)\n",
    "y_squad = squad['time']\n",
    "\n",
    "model_squad = sm.OLS(y_squad, X_squad)\n",
    "results_squad = model_squad.fit()\n",
    "results_squad.summary()"
   ]
  },
  {
   "cell_type": "markdown",
   "metadata": {},
   "source": [
    "$\\hat{time} = 143.5146 - crew * 15.4141 - frequency * 4.0902 - footage * 0.0048 + rooms * 6.7580 - baths * 5.6072 + children * 22.8734$"
   ]
  },
  {
   "cell_type": "markdown",
   "metadata": {},
   "source": [
    "b) Test and interpret the significance of the overall regression model (what is the result of the overall F test)?  "
   ]
  },
  {
   "cell_type": "markdown",
   "metadata": {},
   "source": [
    "F-statistic: 44.51\n",
    "\n",
    "Overall model p-value: 1.02e-37\n",
    "\n",
    "The p-value is almost 0, less than 0.05, so it is significant."
   ]
  },
  {
   "cell_type": "markdown",
   "metadata": {},
   "source": [
    "c) Interpret the meaning of the regression coefficient for the Rooms, Crew, Children, and Frequency variables.  "
   ]
  },
  {
   "cell_type": "markdown",
   "metadata": {},
   "source": [
    "For every unit in increase of crew, time decreases by 15.4141 units.\n",
    "\n",
    "For every unit in increase of frequency, time decreases by 4.0902 units.\n",
    "\n",
    "For every unit in increase of rooms, time increases by 6.7580 units.\n",
    "\n",
    "For every unit in increase of children, time increases by 22.8734 units."
   ]
  },
  {
   "cell_type": "markdown",
   "metadata": {},
   "source": [
    "d) Using the p-values, identify which independent variables are significant (needed).  "
   ]
  },
  {
   "cell_type": "markdown",
   "metadata": {},
   "source": [
    "crew, rooms and children have p-values of 0, which is less than 0.05 and therefore are significant.\n",
    "\n",
    "The other variables (frequency, footage and baths) are not significant because their p-values are higher than 0.05."
   ]
  },
  {
   "cell_type": "markdown",
   "metadata": {},
   "source": [
    "e) Construct a regression model using only the significant variables found in part d) and predict the average time to clean a house that has 2,250 square feet, 11 total rooms, 3.5 bathrooms, and no children. This house is cleaned once a month with a crew of four employees.  "
   ]
  },
  {
   "cell_type": "code",
   "execution_count": 35,
   "metadata": {
    "collapsed": false
   },
   "outputs": [
    {
     "data": {
      "text/html": [
       "<table class=\"simpletable\">\n",
       "<caption>OLS Regression Results</caption>\n",
       "<tr>\n",
       "  <th>Dep. Variable:</th>          <td>time</td>       <th>  R-squared:         </th> <td>   0.479</td>\n",
       "</tr>\n",
       "<tr>\n",
       "  <th>Model:</th>                   <td>OLS</td>       <th>  Adj. R-squared:    </th> <td>   0.473</td>\n",
       "</tr>\n",
       "<tr>\n",
       "  <th>Method:</th>             <td>Least Squares</td>  <th>  F-statistic:       </th> <td>   83.83</td>\n",
       "</tr>\n",
       "<tr>\n",
       "  <th>Date:</th>             <td>Tue, 04 Oct 2016</td> <th>  Prob (F-statistic):</th> <td>1.66e-38</td>\n",
       "</tr>\n",
       "<tr>\n",
       "  <th>Time:</th>                 <td>15:55:05</td>     <th>  Log-Likelihood:    </th> <td> -1227.0</td>\n",
       "</tr>\n",
       "<tr>\n",
       "  <th>No. Observations:</th>      <td>   278</td>      <th>  AIC:               </th> <td>   2462.</td>\n",
       "</tr>\n",
       "<tr>\n",
       "  <th>Df Residuals:</th>          <td>   274</td>      <th>  BIC:               </th> <td>   2476.</td>\n",
       "</tr>\n",
       "<tr>\n",
       "  <th>Df Model:</th>              <td>     3</td>      <th>                     </th>     <td> </td>   \n",
       "</tr>\n",
       "<tr>\n",
       "  <th>Covariance Type:</th>      <td>nonrobust</td>    <th>                     </th>     <td> </td>   \n",
       "</tr>\n",
       "</table>\n",
       "<table class=\"simpletable\">\n",
       "<tr>\n",
       "      <td></td>        <th>coef</th>     <th>std err</th>      <th>t</th>      <th>P>|t|</th> <th>[95.0% Conf. Int.]</th> \n",
       "</tr>\n",
       "<tr>\n",
       "  <th>const</th>    <td>  143.6367</td> <td>    9.301</td> <td>   15.443</td> <td> 0.000</td> <td>  125.326   161.948</td>\n",
       "</tr>\n",
       "<tr>\n",
       "  <th>crew</th>     <td>  -15.9710</td> <td>    2.013</td> <td>   -7.932</td> <td> 0.000</td> <td>  -19.935   -12.007</td>\n",
       "</tr>\n",
       "<tr>\n",
       "  <th>rooms</th>    <td>    3.9412</td> <td>    0.553</td> <td>    7.131</td> <td> 0.000</td> <td>    2.853     5.029</td>\n",
       "</tr>\n",
       "<tr>\n",
       "  <th>children</th> <td>   23.4329</td> <td>    2.476</td> <td>    9.463</td> <td> 0.000</td> <td>   18.558    28.308</td>\n",
       "</tr>\n",
       "</table>\n",
       "<table class=\"simpletable\">\n",
       "<tr>\n",
       "  <th>Omnibus:</th>       <td> 3.224</td> <th>  Durbin-Watson:     </th> <td>   1.976</td>\n",
       "</tr>\n",
       "<tr>\n",
       "  <th>Prob(Omnibus):</th> <td> 0.200</td> <th>  Jarque-Bera (JB):  </th> <td>   3.434</td>\n",
       "</tr>\n",
       "<tr>\n",
       "  <th>Skew:</th>          <td>-0.094</td> <th>  Prob(JB):          </th> <td>   0.180</td>\n",
       "</tr>\n",
       "<tr>\n",
       "  <th>Kurtosis:</th>      <td> 3.511</td> <th>  Cond. No.          </th> <td>    90.3</td>\n",
       "</tr>\n",
       "</table>"
      ],
      "text/plain": [
       "<class 'statsmodels.iolib.summary.Summary'>\n",
       "\"\"\"\n",
       "                            OLS Regression Results                            \n",
       "==============================================================================\n",
       "Dep. Variable:                   time   R-squared:                       0.479\n",
       "Model:                            OLS   Adj. R-squared:                  0.473\n",
       "Method:                 Least Squares   F-statistic:                     83.83\n",
       "Date:                Tue, 04 Oct 2016   Prob (F-statistic):           1.66e-38\n",
       "Time:                        15:55:05   Log-Likelihood:                -1227.0\n",
       "No. Observations:                 278   AIC:                             2462.\n",
       "Df Residuals:                     274   BIC:                             2476.\n",
       "Df Model:                           3                                         \n",
       "Covariance Type:            nonrobust                                         \n",
       "==============================================================================\n",
       "                 coef    std err          t      P>|t|      [95.0% Conf. Int.]\n",
       "------------------------------------------------------------------------------\n",
       "const        143.6367      9.301     15.443      0.000       125.326   161.948\n",
       "crew         -15.9710      2.013     -7.932      0.000       -19.935   -12.007\n",
       "rooms          3.9412      0.553      7.131      0.000         2.853     5.029\n",
       "children      23.4329      2.476      9.463      0.000        18.558    28.308\n",
       "==============================================================================\n",
       "Omnibus:                        3.224   Durbin-Watson:                   1.976\n",
       "Prob(Omnibus):                  0.200   Jarque-Bera (JB):                3.434\n",
       "Skew:                          -0.094   Prob(JB):                        0.180\n",
       "Kurtosis:                       3.511   Cond. No.                         90.3\n",
       "==============================================================================\n",
       "\n",
       "Warnings:\n",
       "[1] Standard Errors assume that the covariance matrix of the errors is correctly specified.\n",
       "\"\"\""
      ]
     },
     "execution_count": 35,
     "metadata": {},
     "output_type": "execute_result"
    }
   ],
   "source": [
    "X_squad = squad[['crew', 'rooms', 'children']]\n",
    "X_squad = sm.add_constant(X_squad)\n",
    "y_squad = squad['time']\n",
    "\n",
    "model_squad = sm.OLS(y_squad, X_squad)\n",
    "results_squad = model_squad.fit()\n",
    "results_squad.summary()"
   ]
  },
  {
   "cell_type": "markdown",
   "metadata": {},
   "source": [
    "$\\hat{time} = 143.6367 - crew * 15.9710 + rooms * 3.9412 + children * 23.4329$"
   ]
  },
  {
   "cell_type": "code",
   "execution_count": 41,
   "metadata": {
    "collapsed": false
   },
   "outputs": [
    {
     "name": "stdout",
     "output_type": "stream",
     "text": [
      "Time to clean is: 123.11\n"
     ]
    }
   ],
   "source": [
    "time = 143.6367 - (4 * 15.9710) + (11 * 3.9412) + (0 * 23.4329)\n",
    "\n",
    "print(\"Time to clean is:\", round(time, 2))"
   ]
  },
  {
   "cell_type": "markdown",
   "metadata": {},
   "source": [
    "**NOTE**\n",
    "\n",
    "The exercise wants to use bathrooms and square footage, which we had excluded as the p-values were too high. We are going to build a new model including them."
   ]
  },
  {
   "cell_type": "code",
   "execution_count": 42,
   "metadata": {
    "collapsed": false
   },
   "outputs": [
    {
     "data": {
      "text/html": [
       "<table class=\"simpletable\">\n",
       "<caption>OLS Regression Results</caption>\n",
       "<tr>\n",
       "  <th>Dep. Variable:</th>          <td>time</td>       <th>  R-squared:         </th> <td>   0.492</td>\n",
       "</tr>\n",
       "<tr>\n",
       "  <th>Model:</th>                   <td>OLS</td>       <th>  Adj. R-squared:    </th> <td>   0.482</td>\n",
       "</tr>\n",
       "<tr>\n",
       "  <th>Method:</th>             <td>Least Squares</td>  <th>  F-statistic:       </th> <td>   52.65</td>\n",
       "</tr>\n",
       "<tr>\n",
       "  <th>Date:</th>             <td>Tue, 04 Oct 2016</td> <th>  Prob (F-statistic):</th> <td>4.41e-38</td>\n",
       "</tr>\n",
       "<tr>\n",
       "  <th>Time:</th>                 <td>17:09:03</td>     <th>  Log-Likelihood:    </th> <td> -1223.4</td>\n",
       "</tr>\n",
       "<tr>\n",
       "  <th>No. Observations:</th>      <td>   278</td>      <th>  AIC:               </th> <td>   2459.</td>\n",
       "</tr>\n",
       "<tr>\n",
       "  <th>Df Residuals:</th>          <td>   272</td>      <th>  BIC:               </th> <td>   2481.</td>\n",
       "</tr>\n",
       "<tr>\n",
       "  <th>Df Model:</th>              <td>     5</td>      <th>                     </th>     <td> </td>   \n",
       "</tr>\n",
       "<tr>\n",
       "  <th>Covariance Type:</th>      <td>nonrobust</td>    <th>                     </th>     <td> </td>   \n",
       "</tr>\n",
       "</table>\n",
       "<table class=\"simpletable\">\n",
       "<tr>\n",
       "      <td></td>        <th>coef</th>     <th>std err</th>      <th>t</th>      <th>P>|t|</th> <th>[95.0% Conf. Int.]</th> \n",
       "</tr>\n",
       "<tr>\n",
       "  <th>const</th>    <td>  141.0494</td> <td>   10.864</td> <td>   12.983</td> <td> 0.000</td> <td>  119.660   162.438</td>\n",
       "</tr>\n",
       "<tr>\n",
       "  <th>crew</th>     <td>  -15.5720</td> <td>    2.028</td> <td>   -7.677</td> <td> 0.000</td> <td>  -19.565   -11.579</td>\n",
       "</tr>\n",
       "<tr>\n",
       "  <th>rooms</th>    <td>    6.8612</td> <td>    1.240</td> <td>    5.534</td> <td> 0.000</td> <td>    4.420     9.302</td>\n",
       "</tr>\n",
       "<tr>\n",
       "  <th>children</th> <td>   24.2347</td> <td>    2.475</td> <td>    9.793</td> <td> 0.000</td> <td>   19.363    29.107</td>\n",
       "</tr>\n",
       "<tr>\n",
       "  <th>footage</th>  <td>   -0.0047</td> <td>    0.006</td> <td>   -0.762</td> <td> 0.447</td> <td>   -0.017     0.007</td>\n",
       "</tr>\n",
       "<tr>\n",
       "  <th>baths</th>    <td>   -6.0441</td> <td>    3.244</td> <td>   -1.863</td> <td> 0.063</td> <td>  -12.430     0.342</td>\n",
       "</tr>\n",
       "</table>\n",
       "<table class=\"simpletable\">\n",
       "<tr>\n",
       "  <th>Omnibus:</th>       <td> 4.135</td> <th>  Durbin-Watson:     </th> <td>   1.983</td>\n",
       "</tr>\n",
       "<tr>\n",
       "  <th>Prob(Omnibus):</th> <td> 0.127</td> <th>  Jarque-Bera (JB):  </th> <td>   4.579</td>\n",
       "</tr>\n",
       "<tr>\n",
       "  <th>Skew:</th>          <td>-0.136</td> <th>  Prob(JB):          </th> <td>   0.101</td>\n",
       "</tr>\n",
       "<tr>\n",
       "  <th>Kurtosis:</th>      <td> 3.567</td> <th>  Cond. No.          </th> <td>2.25e+04</td>\n",
       "</tr>\n",
       "</table>"
      ],
      "text/plain": [
       "<class 'statsmodels.iolib.summary.Summary'>\n",
       "\"\"\"\n",
       "                            OLS Regression Results                            \n",
       "==============================================================================\n",
       "Dep. Variable:                   time   R-squared:                       0.492\n",
       "Model:                            OLS   Adj. R-squared:                  0.482\n",
       "Method:                 Least Squares   F-statistic:                     52.65\n",
       "Date:                Tue, 04 Oct 2016   Prob (F-statistic):           4.41e-38\n",
       "Time:                        17:09:03   Log-Likelihood:                -1223.4\n",
       "No. Observations:                 278   AIC:                             2459.\n",
       "Df Residuals:                     272   BIC:                             2481.\n",
       "Df Model:                           5                                         \n",
       "Covariance Type:            nonrobust                                         \n",
       "==============================================================================\n",
       "                 coef    std err          t      P>|t|      [95.0% Conf. Int.]\n",
       "------------------------------------------------------------------------------\n",
       "const        141.0494     10.864     12.983      0.000       119.660   162.438\n",
       "crew         -15.5720      2.028     -7.677      0.000       -19.565   -11.579\n",
       "rooms          6.8612      1.240      5.534      0.000         4.420     9.302\n",
       "children      24.2347      2.475      9.793      0.000        19.363    29.107\n",
       "footage       -0.0047      0.006     -0.762      0.447        -0.017     0.007\n",
       "baths         -6.0441      3.244     -1.863      0.063       -12.430     0.342\n",
       "==============================================================================\n",
       "Omnibus:                        4.135   Durbin-Watson:                   1.983\n",
       "Prob(Omnibus):                  0.127   Jarque-Bera (JB):                4.579\n",
       "Skew:                          -0.136   Prob(JB):                        0.101\n",
       "Kurtosis:                       3.567   Cond. No.                     2.25e+04\n",
       "==============================================================================\n",
       "\n",
       "Warnings:\n",
       "[1] Standard Errors assume that the covariance matrix of the errors is correctly specified.\n",
       "[2] The condition number is large, 2.25e+04. This might indicate that there are\n",
       "strong multicollinearity or other numerical problems.\n",
       "\"\"\""
      ]
     },
     "execution_count": 42,
     "metadata": {},
     "output_type": "execute_result"
    }
   ],
   "source": [
    "X_squad_more = squad[['crew', 'rooms', 'children', 'footage', 'baths']]\n",
    "X_squad_more = sm.add_constant(X_squad_more)\n",
    "y_squad_more = squad['time']\n",
    "\n",
    "model_squad_more = sm.OLS(y_squad_more, X_squad_more)\n",
    "results_squad_more = model_squad_more.fit()\n",
    "results_squad_more.summary()"
   ]
  },
  {
   "cell_type": "markdown",
   "metadata": {},
   "source": [
    "$\\hat{time} = 141.0494 - crew * 15.5720 + rooms * 6.8612 + children * 24.2347 - footage * 0.0047 - baths * 6.0441$"
   ]
  },
  {
   "cell_type": "code",
   "execution_count": 43,
   "metadata": {
    "collapsed": false
   },
   "outputs": [
    {
     "name": "stdout",
     "output_type": "stream",
     "text": [
      "Time to clean is: 122.51\n"
     ]
    }
   ],
   "source": [
    "time = 141.0494 - (4 * 15.5720) + (11 * 6.8612) - (2250 * 0.0047) - (3.5 * 6.0441) + (0 * 24.2347)\n",
    "\n",
    "print(\"Time to clean is:\", round(time, 2))"
   ]
  },
  {
   "cell_type": "markdown",
   "metadata": {},
   "source": [
    "The time above is not very different from the one calculated before (123.11)."
   ]
  },
  {
   "cell_type": "markdown",
   "metadata": {},
   "source": [
    "f) Compare the two models you fitted, which one is a better model? Why?"
   ]
  },
  {
   "cell_type": "markdown",
   "metadata": {},
   "source": [
    "<u>Initial model (all variables):</u>\n",
    "\n",
    "$R^2$ = 0.496\n",
    "\n",
    "Adjusted R squared = 0.485\n",
    "\n",
    "F-stat = 44.51\n",
    "\n",
    "Overall model p-value = 1.02e-37\n",
    "\n",
    "<u>Second model (using crew, rooms and children):</u>\n",
    "\n",
    "$R^2$ = 0.479\n",
    "\n",
    "Adjusted R squared = 0.473\n",
    "\n",
    "F-stat = 88.83\n",
    "\n",
    "Overall model p-value = 1.66e-38\n",
    "\n",
    "<u>Third model (using crew, rooms, children, footage and bathrooms):</u>\n",
    "\n",
    "$R^2$ = 0.492\n",
    "\n",
    "Adjusted R squared = 0.482\n",
    "\n",
    "F-stat = 52.65\n",
    "\n",
    "Overall model p-value = 4.41e-38\n",
    "\n",
    "==================\n",
    "\n",
    "We prefer the model using crew, rooms and children because it has the highest F-stats and a very low p-value, practically 0.\n",
    "\n",
    "The adjusted R squared are very similar for all models, so we don't think it makes a big difference."
   ]
  },
  {
   "cell_type": "code",
   "execution_count": null,
   "metadata": {
    "collapsed": true
   },
   "outputs": [],
   "source": []
  }
 ],
 "metadata": {
  "anaconda-cloud": {},
  "kernelspec": {
   "display_name": "Python [Root]",
   "language": "python",
   "name": "Python [Root]"
  },
  "language_info": {
   "codemirror_mode": {
    "name": "ipython",
    "version": 3
   },
   "file_extension": ".py",
   "mimetype": "text/x-python",
   "name": "python",
   "nbconvert_exporter": "python",
   "pygments_lexer": "ipython3",
   "version": "3.5.2"
  }
 },
 "nbformat": 4,
 "nbformat_minor": 0
}
