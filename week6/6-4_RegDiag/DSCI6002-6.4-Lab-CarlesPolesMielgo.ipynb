{
 "cells": [
  {
   "cell_type": "markdown",
   "metadata": {},
   "source": [
    "# Lab 6.4: Regression Diagnostics"
   ]
  },
  {
   "cell_type": "markdown",
   "metadata": {},
   "source": [
    "**Question 1**\n",
    "\n",
    "Using the data in https://s3-us-west-2.amazonaws.com/dsci/6002/data/homer.csv :\n",
    "\n",
    "1) Run a multiple regression model of $y$ against all the $x$ variables and then produce the residuals and fitted values. Create the residual diagnostic plot of residuals on the Y axis against the fitted values on the X axis. \n",
    "\n",
    "2) Is the linearity assumption met?  \n",
    "\n",
    "3) Test for non-Normality.  \n",
    "\n",
    "4) Test for heteroskedasticity. "
   ]
  },
  {
   "cell_type": "markdown",
   "metadata": {},
   "source": [
    "#### 1"
   ]
  },
  {
   "cell_type": "code",
   "execution_count": 1,
   "metadata": {
    "collapsed": false
   },
   "outputs": [
    {
     "name": "stdout",
     "output_type": "stream",
     "text": [
      "Populating the interactive namespace from numpy and matplotlib\n"
     ]
    }
   ],
   "source": [
    "%pylab inline\n",
    "\n",
    "import pandas as pd\n",
    "import statsmodels.api as sm\n",
    "import seaborn as sns\n",
    "import yaml\n",
    "\n",
    "from sqlalchemy import create_engine\n",
    "\n",
    "pg_creds = yaml.load(open('../../pg_creds.yaml'))['student']\n",
    "\n",
    "engine = create_engine('postgresql://{user}:{password}@{host}:{port}/{dbname}'.format(**pg_creds))"
   ]
  },
  {
   "cell_type": "code",
   "execution_count": 2,
   "metadata": {
    "collapsed": false
   },
   "outputs": [
    {
     "data": {
      "text/html": [
       "<div>\n",
       "<table border=\"1\" class=\"dataframe\">\n",
       "  <thead>\n",
       "    <tr style=\"text-align: right;\">\n",
       "      <th></th>\n",
       "      <th>y</th>\n",
       "      <th>x1</th>\n",
       "      <th>x2</th>\n",
       "      <th>x3</th>\n",
       "      <th>x4</th>\n",
       "      <th>x5</th>\n",
       "      <th>x6</th>\n",
       "    </tr>\n",
       "  </thead>\n",
       "  <tbody>\n",
       "    <tr>\n",
       "      <th>0</th>\n",
       "      <td>-2.17360</td>\n",
       "      <td>-0.023816</td>\n",
       "      <td>-0.012885</td>\n",
       "      <td>0.045936</td>\n",
       "      <td>-0.182890</td>\n",
       "      <td>0.028694</td>\n",
       "      <td>-0.81119</td>\n",
       "    </tr>\n",
       "    <tr>\n",
       "      <th>1</th>\n",
       "      <td>-1.29570</td>\n",
       "      <td>0.018453</td>\n",
       "      <td>0.058999</td>\n",
       "      <td>-0.072399</td>\n",
       "      <td>0.008679</td>\n",
       "      <td>-0.084344</td>\n",
       "      <td>-0.24208</td>\n",
       "    </tr>\n",
       "    <tr>\n",
       "      <th>2</th>\n",
       "      <td>0.14539</td>\n",
       "      <td>0.054999</td>\n",
       "      <td>0.131770</td>\n",
       "      <td>-0.067223</td>\n",
       "      <td>0.202430</td>\n",
       "      <td>0.127060</td>\n",
       "      <td>0.63388</td>\n",
       "    </tr>\n",
       "    <tr>\n",
       "      <th>3</th>\n",
       "      <td>0.92959</td>\n",
       "      <td>-0.018933</td>\n",
       "      <td>-0.010875</td>\n",
       "      <td>-0.028255</td>\n",
       "      <td>0.017912</td>\n",
       "      <td>0.084330</td>\n",
       "      <td>0.66062</td>\n",
       "    </tr>\n",
       "    <tr>\n",
       "      <th>4</th>\n",
       "      <td>0.90259</td>\n",
       "      <td>-0.000877</td>\n",
       "      <td>0.066941</td>\n",
       "      <td>-0.048190</td>\n",
       "      <td>0.064742</td>\n",
       "      <td>0.147880</td>\n",
       "      <td>0.26643</td>\n",
       "    </tr>\n",
       "  </tbody>\n",
       "</table>\n",
       "</div>"
      ],
      "text/plain": [
       "         y        x1        x2        x3        x4        x5       x6\n",
       "0 -2.17360 -0.023816 -0.012885  0.045936 -0.182890  0.028694 -0.81119\n",
       "1 -1.29570  0.018453  0.058999 -0.072399  0.008679 -0.084344 -0.24208\n",
       "2  0.14539  0.054999  0.131770 -0.067223  0.202430  0.127060  0.63388\n",
       "3  0.92959 -0.018933 -0.010875 -0.028255  0.017912  0.084330  0.66062\n",
       "4  0.90259 -0.000877  0.066941 -0.048190  0.064742  0.147880  0.26643"
      ]
     },
     "execution_count": 2,
     "metadata": {},
     "output_type": "execute_result"
    }
   ],
   "source": [
    "homer = pd.read_csv('https://s3-us-west-2.amazonaws.com/dsci/6002/data/homer.csv')\n",
    "homer.head()"
   ]
  },
  {
   "cell_type": "code",
   "execution_count": 3,
   "metadata": {
    "collapsed": false
   },
   "outputs": [
    {
     "name": "stderr",
     "output_type": "stream",
     "text": [
      "//anaconda/lib/python3.5/site-packages/numpy/lib/function_base.py:3834: RuntimeWarning: Invalid value encountered in percentile\n",
      "  RuntimeWarning)\n"
     ]
    },
    {
     "data": {
      "text/html": [
       "<div>\n",
       "<table border=\"1\" class=\"dataframe\">\n",
       "  <thead>\n",
       "    <tr style=\"text-align: right;\">\n",
       "      <th></th>\n",
       "      <th>y</th>\n",
       "      <th>x1</th>\n",
       "      <th>x2</th>\n",
       "      <th>x3</th>\n",
       "      <th>x4</th>\n",
       "      <th>x5</th>\n",
       "      <th>x6</th>\n",
       "    </tr>\n",
       "  </thead>\n",
       "  <tbody>\n",
       "    <tr>\n",
       "      <th>count</th>\n",
       "      <td>6054.000000</td>\n",
       "      <td>6057.000000</td>\n",
       "      <td>6057.000000</td>\n",
       "      <td>6057.000000</td>\n",
       "      <td>6057.000000</td>\n",
       "      <td>6057.000000</td>\n",
       "      <td>6057.000000</td>\n",
       "    </tr>\n",
       "    <tr>\n",
       "      <th>mean</th>\n",
       "      <td>-0.008547</td>\n",
       "      <td>0.000079</td>\n",
       "      <td>-0.000007</td>\n",
       "      <td>-0.000049</td>\n",
       "      <td>0.000068</td>\n",
       "      <td>-0.000027</td>\n",
       "      <td>-0.001662</td>\n",
       "    </tr>\n",
       "    <tr>\n",
       "      <th>std</th>\n",
       "      <td>1.202365</td>\n",
       "      <td>0.039200</td>\n",
       "      <td>0.080779</td>\n",
       "      <td>0.058512</td>\n",
       "      <td>0.156589</td>\n",
       "      <td>0.119576</td>\n",
       "      <td>0.784465</td>\n",
       "    </tr>\n",
       "    <tr>\n",
       "      <th>min</th>\n",
       "      <td>-3.810000</td>\n",
       "      <td>-1.000000</td>\n",
       "      <td>-0.303830</td>\n",
       "      <td>-0.199880</td>\n",
       "      <td>-0.633240</td>\n",
       "      <td>-0.479130</td>\n",
       "      <td>-2.903200</td>\n",
       "    </tr>\n",
       "    <tr>\n",
       "      <th>25%</th>\n",
       "      <td>NaN</td>\n",
       "      <td>-0.021888</td>\n",
       "      <td>-0.054068</td>\n",
       "      <td>-0.039083</td>\n",
       "      <td>-0.109580</td>\n",
       "      <td>-0.081445</td>\n",
       "      <td>-0.535640</td>\n",
       "    </tr>\n",
       "    <tr>\n",
       "      <th>50%</th>\n",
       "      <td>NaN</td>\n",
       "      <td>-0.000125</td>\n",
       "      <td>0.000111</td>\n",
       "      <td>0.000156</td>\n",
       "      <td>-0.000083</td>\n",
       "      <td>-0.000788</td>\n",
       "      <td>-0.018469</td>\n",
       "    </tr>\n",
       "    <tr>\n",
       "      <th>75%</th>\n",
       "      <td>NaN</td>\n",
       "      <td>0.022555</td>\n",
       "      <td>0.055193</td>\n",
       "      <td>0.038948</td>\n",
       "      <td>0.107030</td>\n",
       "      <td>0.079695</td>\n",
       "      <td>0.514390</td>\n",
       "    </tr>\n",
       "    <tr>\n",
       "      <th>max</th>\n",
       "      <td>4.035900</td>\n",
       "      <td>1.170000</td>\n",
       "      <td>0.292970</td>\n",
       "      <td>0.199290</td>\n",
       "      <td>0.533080</td>\n",
       "      <td>0.454490</td>\n",
       "      <td>3.619300</td>\n",
       "    </tr>\n",
       "  </tbody>\n",
       "</table>\n",
       "</div>"
      ],
      "text/plain": [
       "                 y           x1           x2           x3           x4  \\\n",
       "count  6054.000000  6057.000000  6057.000000  6057.000000  6057.000000   \n",
       "mean     -0.008547     0.000079    -0.000007    -0.000049     0.000068   \n",
       "std       1.202365     0.039200     0.080779     0.058512     0.156589   \n",
       "min      -3.810000    -1.000000    -0.303830    -0.199880    -0.633240   \n",
       "25%            NaN    -0.021888    -0.054068    -0.039083    -0.109580   \n",
       "50%            NaN    -0.000125     0.000111     0.000156    -0.000083   \n",
       "75%            NaN     0.022555     0.055193     0.038948     0.107030   \n",
       "max       4.035900     1.170000     0.292970     0.199290     0.533080   \n",
       "\n",
       "                x5           x6  \n",
       "count  6057.000000  6057.000000  \n",
       "mean     -0.000027    -0.001662  \n",
       "std       0.119576     0.784465  \n",
       "min      -0.479130    -2.903200  \n",
       "25%      -0.081445    -0.535640  \n",
       "50%      -0.000788    -0.018469  \n",
       "75%       0.079695     0.514390  \n",
       "max       0.454490     3.619300  "
      ]
     },
     "execution_count": 3,
     "metadata": {},
     "output_type": "execute_result"
    }
   ],
   "source": [
    "homer.describe()"
   ]
  },
  {
   "cell_type": "code",
   "execution_count": 4,
   "metadata": {
    "collapsed": true
   },
   "outputs": [],
   "source": [
    "# We have missing data on variable y:\n",
    "homer = homer.dropna()"
   ]
  },
  {
   "cell_type": "code",
   "execution_count": 5,
   "metadata": {
    "collapsed": false
   },
   "outputs": [
    {
     "data": {
      "text/html": [
       "<div>\n",
       "<table border=\"1\" class=\"dataframe\">\n",
       "  <thead>\n",
       "    <tr style=\"text-align: right;\">\n",
       "      <th></th>\n",
       "      <th>y</th>\n",
       "      <th>x1</th>\n",
       "      <th>x2</th>\n",
       "      <th>x3</th>\n",
       "      <th>x4</th>\n",
       "      <th>x5</th>\n",
       "      <th>x6</th>\n",
       "    </tr>\n",
       "  </thead>\n",
       "  <tbody>\n",
       "    <tr>\n",
       "      <th>count</th>\n",
       "      <td>6054.000000</td>\n",
       "      <td>6054.000000</td>\n",
       "      <td>6054.000000</td>\n",
       "      <td>6054.000000</td>\n",
       "      <td>6054.000000</td>\n",
       "      <td>6054.000000</td>\n",
       "      <td>6054.000000</td>\n",
       "    </tr>\n",
       "    <tr>\n",
       "      <th>mean</th>\n",
       "      <td>-0.008547</td>\n",
       "      <td>-0.000027</td>\n",
       "      <td>0.000006</td>\n",
       "      <td>-0.000029</td>\n",
       "      <td>0.000056</td>\n",
       "      <td>0.000028</td>\n",
       "      <td>-0.001640</td>\n",
       "    </tr>\n",
       "    <tr>\n",
       "      <th>std</th>\n",
       "      <td>1.202365</td>\n",
       "      <td>0.033310</td>\n",
       "      <td>0.080791</td>\n",
       "      <td>0.058493</td>\n",
       "      <td>0.156617</td>\n",
       "      <td>0.119564</td>\n",
       "      <td>0.784653</td>\n",
       "    </tr>\n",
       "    <tr>\n",
       "      <th>min</th>\n",
       "      <td>-3.810000</td>\n",
       "      <td>-0.104170</td>\n",
       "      <td>-0.303830</td>\n",
       "      <td>-0.199880</td>\n",
       "      <td>-0.633240</td>\n",
       "      <td>-0.479130</td>\n",
       "      <td>-2.903200</td>\n",
       "    </tr>\n",
       "    <tr>\n",
       "      <th>25%</th>\n",
       "      <td>-0.879910</td>\n",
       "      <td>-0.021885</td>\n",
       "      <td>-0.054038</td>\n",
       "      <td>-0.039078</td>\n",
       "      <td>-0.109588</td>\n",
       "      <td>-0.081435</td>\n",
       "      <td>-0.535820</td>\n",
       "    </tr>\n",
       "    <tr>\n",
       "      <th>50%</th>\n",
       "      <td>-0.066951</td>\n",
       "      <td>-0.000128</td>\n",
       "      <td>0.000113</td>\n",
       "      <td>0.000168</td>\n",
       "      <td>-0.000134</td>\n",
       "      <td>-0.000773</td>\n",
       "      <td>-0.018369</td>\n",
       "    </tr>\n",
       "    <tr>\n",
       "      <th>75%</th>\n",
       "      <td>0.929407</td>\n",
       "      <td>0.022538</td>\n",
       "      <td>0.055230</td>\n",
       "      <td>0.038944</td>\n",
       "      <td>0.107017</td>\n",
       "      <td>0.079743</td>\n",
       "      <td>0.514525</td>\n",
       "    </tr>\n",
       "    <tr>\n",
       "      <th>max</th>\n",
       "      <td>4.035900</td>\n",
       "      <td>0.112820</td>\n",
       "      <td>0.292970</td>\n",
       "      <td>0.199290</td>\n",
       "      <td>0.533080</td>\n",
       "      <td>0.454490</td>\n",
       "      <td>3.619300</td>\n",
       "    </tr>\n",
       "  </tbody>\n",
       "</table>\n",
       "</div>"
      ],
      "text/plain": [
       "                 y           x1           x2           x3           x4  \\\n",
       "count  6054.000000  6054.000000  6054.000000  6054.000000  6054.000000   \n",
       "mean     -0.008547    -0.000027     0.000006    -0.000029     0.000056   \n",
       "std       1.202365     0.033310     0.080791     0.058493     0.156617   \n",
       "min      -3.810000    -0.104170    -0.303830    -0.199880    -0.633240   \n",
       "25%      -0.879910    -0.021885    -0.054038    -0.039078    -0.109588   \n",
       "50%      -0.066951    -0.000128     0.000113     0.000168    -0.000134   \n",
       "75%       0.929407     0.022538     0.055230     0.038944     0.107017   \n",
       "max       4.035900     0.112820     0.292970     0.199290     0.533080   \n",
       "\n",
       "                x5           x6  \n",
       "count  6054.000000  6054.000000  \n",
       "mean      0.000028    -0.001640  \n",
       "std       0.119564     0.784653  \n",
       "min      -0.479130    -2.903200  \n",
       "25%      -0.081435    -0.535820  \n",
       "50%      -0.000773    -0.018369  \n",
       "75%       0.079743     0.514525  \n",
       "max       0.454490     3.619300  "
      ]
     },
     "execution_count": 5,
     "metadata": {},
     "output_type": "execute_result"
    }
   ],
   "source": [
    "homer.describe()"
   ]
  },
  {
   "cell_type": "code",
   "execution_count": 6,
   "metadata": {
    "collapsed": false
   },
   "outputs": [
    {
     "data": {
      "text/html": [
       "<table class=\"simpletable\">\n",
       "<caption>OLS Regression Results</caption>\n",
       "<tr>\n",
       "  <th>Dep. Variable:</th>            <td>y</td>        <th>  R-squared:         </th> <td>   0.310</td> \n",
       "</tr>\n",
       "<tr>\n",
       "  <th>Model:</th>                   <td>OLS</td>       <th>  Adj. R-squared:    </th> <td>   0.309</td> \n",
       "</tr>\n",
       "<tr>\n",
       "  <th>Method:</th>             <td>Least Squares</td>  <th>  F-statistic:       </th> <td>   452.1</td> \n",
       "</tr>\n",
       "<tr>\n",
       "  <th>Date:</th>             <td>Thu, 06 Oct 2016</td> <th>  Prob (F-statistic):</th>  <td>  0.00</td>  \n",
       "</tr>\n",
       "<tr>\n",
       "  <th>Time:</th>                 <td>17:42:50</td>     <th>  Log-Likelihood:    </th> <td> -8583.7</td> \n",
       "</tr>\n",
       "<tr>\n",
       "  <th>No. Observations:</th>      <td>  6054</td>      <th>  AIC:               </th> <td>1.718e+04</td>\n",
       "</tr>\n",
       "<tr>\n",
       "  <th>Df Residuals:</th>          <td>  6047</td>      <th>  BIC:               </th> <td>1.723e+04</td>\n",
       "</tr>\n",
       "<tr>\n",
       "  <th>Df Model:</th>              <td>     6</td>      <th>                     </th>     <td> </td>    \n",
       "</tr>\n",
       "<tr>\n",
       "  <th>Covariance Type:</th>      <td>nonrobust</td>    <th>                     </th>     <td> </td>    \n",
       "</tr>\n",
       "</table>\n",
       "<table class=\"simpletable\">\n",
       "<tr>\n",
       "    <td></td>       <th>coef</th>     <th>std err</th>      <th>t</th>      <th>P>|t|</th> <th>[95.0% Conf. Int.]</th> \n",
       "</tr>\n",
       "<tr>\n",
       "  <th>const</th> <td>   -0.0069</td> <td>    0.013</td> <td>   -0.534</td> <td> 0.593</td> <td>   -0.032     0.018</td>\n",
       "</tr>\n",
       "<tr>\n",
       "  <th>x1</th>    <td>    4.0686</td> <td>    0.508</td> <td>    8.015</td> <td> 0.000</td> <td>    3.073     5.064</td>\n",
       "</tr>\n",
       "<tr>\n",
       "  <th>x2</th>    <td>    1.1412</td> <td>    0.257</td> <td>    4.442</td> <td> 0.000</td> <td>    0.638     1.645</td>\n",
       "</tr>\n",
       "<tr>\n",
       "  <th>x3</th>    <td>    4.0318</td> <td>    0.358</td> <td>   11.249</td> <td> 0.000</td> <td>    3.329     4.734</td>\n",
       "</tr>\n",
       "<tr>\n",
       "  <th>x4</th>    <td>    0.9373</td> <td>    0.127</td> <td>    7.362</td> <td> 0.000</td> <td>    0.688     1.187</td>\n",
       "</tr>\n",
       "<tr>\n",
       "  <th>x5</th>    <td>    3.9840</td> <td>    0.171</td> <td>   23.316</td> <td> 0.000</td> <td>    3.649     4.319</td>\n",
       "</tr>\n",
       "<tr>\n",
       "  <th>x6</th>    <td>    0.9967</td> <td>    0.022</td> <td>   44.744</td> <td> 0.000</td> <td>    0.953     1.040</td>\n",
       "</tr>\n",
       "</table>\n",
       "<table class=\"simpletable\">\n",
       "<tr>\n",
       "  <th>Omnibus:</th>       <td>635.831</td> <th>  Durbin-Watson:     </th> <td>   1.999</td>\n",
       "</tr>\n",
       "<tr>\n",
       "  <th>Prob(Omnibus):</th> <td> 0.000</td>  <th>  Jarque-Bera (JB):  </th> <td> 184.770</td>\n",
       "</tr>\n",
       "<tr>\n",
       "  <th>Skew:</th>          <td> 0.070</td>  <th>  Prob(JB):          </th> <td>7.54e-41</td>\n",
       "</tr>\n",
       "<tr>\n",
       "  <th>Kurtosis:</th>      <td> 2.156</td>  <th>  Cond. No.          </th> <td>    41.2</td>\n",
       "</tr>\n",
       "</table>"
      ],
      "text/plain": [
       "<class 'statsmodels.iolib.summary.Summary'>\n",
       "\"\"\"\n",
       "                            OLS Regression Results                            \n",
       "==============================================================================\n",
       "Dep. Variable:                      y   R-squared:                       0.310\n",
       "Model:                            OLS   Adj. R-squared:                  0.309\n",
       "Method:                 Least Squares   F-statistic:                     452.1\n",
       "Date:                Thu, 06 Oct 2016   Prob (F-statistic):               0.00\n",
       "Time:                        17:42:50   Log-Likelihood:                -8583.7\n",
       "No. Observations:                6054   AIC:                         1.718e+04\n",
       "Df Residuals:                    6047   BIC:                         1.723e+04\n",
       "Df Model:                           6                                         \n",
       "Covariance Type:            nonrobust                                         \n",
       "==============================================================================\n",
       "                 coef    std err          t      P>|t|      [95.0% Conf. Int.]\n",
       "------------------------------------------------------------------------------\n",
       "const         -0.0069      0.013     -0.534      0.593        -0.032     0.018\n",
       "x1             4.0686      0.508      8.015      0.000         3.073     5.064\n",
       "x2             1.1412      0.257      4.442      0.000         0.638     1.645\n",
       "x3             4.0318      0.358     11.249      0.000         3.329     4.734\n",
       "x4             0.9373      0.127      7.362      0.000         0.688     1.187\n",
       "x5             3.9840      0.171     23.316      0.000         3.649     4.319\n",
       "x6             0.9967      0.022     44.744      0.000         0.953     1.040\n",
       "==============================================================================\n",
       "Omnibus:                      635.831   Durbin-Watson:                   1.999\n",
       "Prob(Omnibus):                  0.000   Jarque-Bera (JB):              184.770\n",
       "Skew:                           0.070   Prob(JB):                     7.54e-41\n",
       "Kurtosis:                       2.156   Cond. No.                         41.2\n",
       "==============================================================================\n",
       "\n",
       "Warnings:\n",
       "[1] Standard Errors assume that the covariance matrix of the errors is correctly specified.\n",
       "\"\"\""
      ]
     },
     "execution_count": 6,
     "metadata": {},
     "output_type": "execute_result"
    }
   ],
   "source": [
    "X = homer[['x1', 'x2', 'x3', 'x4', 'x5','x6']]\n",
    "X = sm.add_constant(X)\n",
    "y = homer['y']\n",
    "\n",
    "model = sm.OLS(y, X)\n",
    "results = model.fit()\n",
    "results.summary()"
   ]
  },
  {
   "cell_type": "code",
   "execution_count": 7,
   "metadata": {
    "collapsed": false
   },
   "outputs": [
    {
     "data": {
      "text/plain": [
       "const   -0.006857\n",
       "x1       4.068585\n",
       "x2       1.141218\n",
       "x3       4.031808\n",
       "x4       0.937294\n",
       "x5       3.984018\n",
       "x6       0.996700\n",
       "dtype: float64"
      ]
     },
     "execution_count": 7,
     "metadata": {},
     "output_type": "execute_result"
    }
   ],
   "source": [
    "results.params"
   ]
  },
  {
   "cell_type": "code",
   "execution_count": 46,
   "metadata": {
    "collapsed": false
   },
   "outputs": [
    {
     "ename": "KeyError",
     "evalue": "202",
     "output_type": "error",
     "traceback": [
      "\u001b[0;31m---------------------------------------------------------------------------\u001b[0m",
      "\u001b[0;31mKeyError\u001b[0m                                  Traceback (most recent call last)",
      "\u001b[0;32m<ipython-input-46-a9127263315b>\u001b[0m in \u001b[0;36m<module>\u001b[0;34m()\u001b[0m\n\u001b[1;32m      1\u001b[0m \u001b[0mfitted_values\u001b[0m \u001b[0;34m=\u001b[0m \u001b[0;34m[\u001b[0m\u001b[0;34m]\u001b[0m\u001b[0;34m\u001b[0m\u001b[0m\n\u001b[1;32m      2\u001b[0m \u001b[0;32mfor\u001b[0m \u001b[0mi\u001b[0m \u001b[0;32min\u001b[0m \u001b[0mrange\u001b[0m\u001b[0;34m(\u001b[0m\u001b[0mlen\u001b[0m\u001b[0;34m(\u001b[0m\u001b[0mhomer\u001b[0m\u001b[0;34m)\u001b[0m\u001b[0;34m)\u001b[0m\u001b[0;34m:\u001b[0m\u001b[0;34m\u001b[0m\u001b[0m\n\u001b[0;32m----> 3\u001b[0;31m     \u001b[0mfitted\u001b[0m \u001b[0;34m=\u001b[0m \u001b[0mresults\u001b[0m\u001b[0;34m.\u001b[0m\u001b[0mparams\u001b[0m\u001b[0;34m[\u001b[0m\u001b[0;36m0\u001b[0m\u001b[0;34m]\u001b[0m \u001b[0;34m+\u001b[0m \u001b[0;34m(\u001b[0m\u001b[0mhomer\u001b[0m\u001b[0;34m[\u001b[0m\u001b[0;34m'x1'\u001b[0m\u001b[0;34m]\u001b[0m\u001b[0;34m[\u001b[0m\u001b[0mi\u001b[0m\u001b[0;34m]\u001b[0m\u001b[0;34m)\u001b[0m \u001b[0;34m*\u001b[0m \u001b[0mresults\u001b[0m\u001b[0;34m.\u001b[0m\u001b[0mparams\u001b[0m\u001b[0;34m[\u001b[0m\u001b[0;36m1\u001b[0m\u001b[0;34m]\u001b[0m \u001b[0;34m+\u001b[0m \u001b[0;34m(\u001b[0m\u001b[0mhomer\u001b[0m\u001b[0;34m[\u001b[0m\u001b[0;34m'x2'\u001b[0m\u001b[0;34m]\u001b[0m\u001b[0;34m[\u001b[0m\u001b[0mi\u001b[0m\u001b[0;34m]\u001b[0m\u001b[0;34m)\u001b[0m \u001b[0;34m*\u001b[0m \u001b[0mresults\u001b[0m\u001b[0;34m.\u001b[0m\u001b[0mparams\u001b[0m\u001b[0;34m[\u001b[0m\u001b[0;36m2\u001b[0m\u001b[0;34m]\u001b[0m \u001b[0;34m+\u001b[0m \u001b[0;34m(\u001b[0m\u001b[0mhomer\u001b[0m\u001b[0;34m[\u001b[0m\u001b[0;34m'x3'\u001b[0m\u001b[0;34m]\u001b[0m\u001b[0;34m[\u001b[0m\u001b[0mi\u001b[0m\u001b[0;34m]\u001b[0m\u001b[0;34m)\u001b[0m \u001b[0;34m*\u001b[0m \u001b[0mresults\u001b[0m\u001b[0;34m.\u001b[0m\u001b[0mparams\u001b[0m\u001b[0;34m[\u001b[0m\u001b[0;36m3\u001b[0m\u001b[0;34m]\u001b[0m \u001b[0;34m+\u001b[0m \u001b[0;34m(\u001b[0m\u001b[0mhomer\u001b[0m\u001b[0;34m[\u001b[0m\u001b[0;34m'x4'\u001b[0m\u001b[0;34m]\u001b[0m\u001b[0;34m[\u001b[0m\u001b[0mi\u001b[0m\u001b[0;34m]\u001b[0m\u001b[0;34m)\u001b[0m \u001b[0;34m*\u001b[0m \u001b[0mresults\u001b[0m\u001b[0;34m.\u001b[0m\u001b[0mparams\u001b[0m\u001b[0;34m[\u001b[0m\u001b[0;36m4\u001b[0m\u001b[0;34m]\u001b[0m \u001b[0;34m+\u001b[0m \u001b[0;34m(\u001b[0m\u001b[0mhomer\u001b[0m\u001b[0;34m[\u001b[0m\u001b[0;34m'x5'\u001b[0m\u001b[0;34m]\u001b[0m\u001b[0;34m[\u001b[0m\u001b[0mi\u001b[0m\u001b[0;34m]\u001b[0m\u001b[0;34m)\u001b[0m \u001b[0;34m*\u001b[0m \u001b[0mresults\u001b[0m\u001b[0;34m.\u001b[0m\u001b[0mparams\u001b[0m\u001b[0;34m[\u001b[0m\u001b[0;36m5\u001b[0m\u001b[0;34m]\u001b[0m \u001b[0;34m+\u001b[0m \u001b[0;34m(\u001b[0m\u001b[0mhomer\u001b[0m\u001b[0;34m[\u001b[0m\u001b[0;34m'x6'\u001b[0m\u001b[0;34m]\u001b[0m\u001b[0;34m[\u001b[0m\u001b[0mi\u001b[0m\u001b[0;34m]\u001b[0m\u001b[0;34m)\u001b[0m \u001b[0;34m*\u001b[0m \u001b[0mresults\u001b[0m\u001b[0;34m.\u001b[0m\u001b[0mparams\u001b[0m\u001b[0;34m[\u001b[0m\u001b[0;36m6\u001b[0m\u001b[0;34m]\u001b[0m\u001b[0;34m\u001b[0m\u001b[0m\n\u001b[0m\u001b[1;32m      4\u001b[0m     \u001b[0mfitted_values\u001b[0m\u001b[0;34m.\u001b[0m\u001b[0mappend\u001b[0m\u001b[0;34m(\u001b[0m\u001b[0mfitted\u001b[0m\u001b[0;34m)\u001b[0m\u001b[0;34m\u001b[0m\u001b[0m\n",
      "\u001b[0;32m//anaconda/lib/python3.5/site-packages/pandas/core/series.py\u001b[0m in \u001b[0;36m__getitem__\u001b[0;34m(self, key)\u001b[0m\n\u001b[1;32m    581\u001b[0m         \u001b[0mkey\u001b[0m \u001b[0;34m=\u001b[0m \u001b[0mcom\u001b[0m\u001b[0;34m.\u001b[0m\u001b[0m_apply_if_callable\u001b[0m\u001b[0;34m(\u001b[0m\u001b[0mkey\u001b[0m\u001b[0;34m,\u001b[0m \u001b[0mself\u001b[0m\u001b[0;34m)\u001b[0m\u001b[0;34m\u001b[0m\u001b[0m\n\u001b[1;32m    582\u001b[0m         \u001b[0;32mtry\u001b[0m\u001b[0;34m:\u001b[0m\u001b[0;34m\u001b[0m\u001b[0m\n\u001b[0;32m--> 583\u001b[0;31m             \u001b[0mresult\u001b[0m \u001b[0;34m=\u001b[0m \u001b[0mself\u001b[0m\u001b[0;34m.\u001b[0m\u001b[0mindex\u001b[0m\u001b[0;34m.\u001b[0m\u001b[0mget_value\u001b[0m\u001b[0;34m(\u001b[0m\u001b[0mself\u001b[0m\u001b[0;34m,\u001b[0m \u001b[0mkey\u001b[0m\u001b[0;34m)\u001b[0m\u001b[0;34m\u001b[0m\u001b[0m\n\u001b[0m\u001b[1;32m    584\u001b[0m \u001b[0;34m\u001b[0m\u001b[0m\n\u001b[1;32m    585\u001b[0m             \u001b[0;32mif\u001b[0m \u001b[0;32mnot\u001b[0m \u001b[0mlib\u001b[0m\u001b[0;34m.\u001b[0m\u001b[0misscalar\u001b[0m\u001b[0;34m(\u001b[0m\u001b[0mresult\u001b[0m\u001b[0;34m)\u001b[0m\u001b[0;34m:\u001b[0m\u001b[0;34m\u001b[0m\u001b[0m\n",
      "\u001b[0;32m//anaconda/lib/python3.5/site-packages/pandas/indexes/base.py\u001b[0m in \u001b[0;36mget_value\u001b[0;34m(self, series, key)\u001b[0m\n\u001b[1;32m   1978\u001b[0m         \u001b[0;32mtry\u001b[0m\u001b[0;34m:\u001b[0m\u001b[0;34m\u001b[0m\u001b[0m\n\u001b[1;32m   1979\u001b[0m             return self._engine.get_value(s, k,\n\u001b[0;32m-> 1980\u001b[0;31m                                           tz=getattr(series.dtype, 'tz', None))\n\u001b[0m\u001b[1;32m   1981\u001b[0m         \u001b[0;32mexcept\u001b[0m \u001b[0mKeyError\u001b[0m \u001b[0;32mas\u001b[0m \u001b[0me1\u001b[0m\u001b[0;34m:\u001b[0m\u001b[0;34m\u001b[0m\u001b[0m\n\u001b[1;32m   1982\u001b[0m             \u001b[0;32mif\u001b[0m \u001b[0mlen\u001b[0m\u001b[0;34m(\u001b[0m\u001b[0mself\u001b[0m\u001b[0;34m)\u001b[0m \u001b[0;34m>\u001b[0m \u001b[0;36m0\u001b[0m \u001b[0;32mand\u001b[0m \u001b[0mself\u001b[0m\u001b[0;34m.\u001b[0m\u001b[0minferred_type\u001b[0m \u001b[0;32min\u001b[0m \u001b[0;34m[\u001b[0m\u001b[0;34m'integer'\u001b[0m\u001b[0;34m,\u001b[0m \u001b[0;34m'boolean'\u001b[0m\u001b[0;34m]\u001b[0m\u001b[0;34m:\u001b[0m\u001b[0;34m\u001b[0m\u001b[0m\n",
      "\u001b[0;32mpandas/index.pyx\u001b[0m in \u001b[0;36mpandas.index.IndexEngine.get_value (pandas/index.c:3332)\u001b[0;34m()\u001b[0m\n",
      "\u001b[0;32mpandas/index.pyx\u001b[0m in \u001b[0;36mpandas.index.IndexEngine.get_value (pandas/index.c:3035)\u001b[0;34m()\u001b[0m\n",
      "\u001b[0;32mpandas/index.pyx\u001b[0m in \u001b[0;36mpandas.index.IndexEngine.get_loc (pandas/index.c:4018)\u001b[0;34m()\u001b[0m\n",
      "\u001b[0;32mpandas/hashtable.pyx\u001b[0m in \u001b[0;36mpandas.hashtable.Int64HashTable.get_item (pandas/hashtable.c:6610)\u001b[0;34m()\u001b[0m\n",
      "\u001b[0;32mpandas/hashtable.pyx\u001b[0m in \u001b[0;36mpandas.hashtable.Int64HashTable.get_item (pandas/hashtable.c:6554)\u001b[0;34m()\u001b[0m\n",
      "\u001b[0;31mKeyError\u001b[0m: 202"
     ]
    }
   ],
   "source": [
    "fitted_values = []\n",
    "for i in range(len(homer)):\n",
    "    fitted = results.params[0] + (homer['x1'][i]) * results.params[1] + (homer['x2'][i]) * results.params[2] + (homer['x3'][i]) * results.params[3] + (homer['x4'][i]) * results.params[4] + (homer['x5'][i]) * results.params[5] + (homer['x6'][i]) * results.params[6]\n",
    "    fitted_values.append(fitted)"
   ]
  },
  {
   "cell_type": "code",
   "execution_count": 16,
   "metadata": {
    "collapsed": false
   },
   "outputs": [
    {
     "data": {
      "text/plain": [
       "(6054, 6054)"
      ]
     },
     "execution_count": 16,
     "metadata": {},
     "output_type": "execute_result"
    }
   ],
   "source": [
    "len(fitted_values), len(homer['y'])"
   ]
  },
  {
   "cell_type": "code",
   "execution_count": 17,
   "metadata": {
    "collapsed": true
   },
   "outputs": [],
   "source": [
    "fitted_series = pd.Series(fitted_values)"
   ]
  },
  {
   "cell_type": "code",
   "execution_count": 18,
   "metadata": {
    "collapsed": false
   },
   "outputs": [
    {
     "data": {
      "text/plain": [
       "pandas.core.series.Series"
      ]
     },
     "execution_count": 18,
     "metadata": {},
     "output_type": "execute_result"
    }
   ],
   "source": [
    "type(fitted_series)"
   ]
  },
  {
   "cell_type": "code",
   "execution_count": 28,
   "metadata": {
    "collapsed": false
   },
   "outputs": [
    {
     "data": {
      "text/plain": [
       "list"
      ]
     },
     "execution_count": 28,
     "metadata": {},
     "output_type": "execute_result"
    }
   ],
   "source": [
    "type(fitted_values)"
   ]
  },
  {
   "cell_type": "code",
   "execution_count": 39,
   "metadata": {
    "collapsed": false
   },
   "outputs": [
    {
     "data": {
      "text/plain": [
       "0      -0.798871\n",
       "1      -0.725522\n",
       "2       1.423993\n",
       "3       0.800984\n",
       "4       0.787065\n",
       "5       0.363420\n",
       "6       0.998987\n",
       "7       2.098174\n",
       "8      -0.513773\n",
       "9       0.614531\n",
       "10     -0.614002\n",
       "11      0.518961\n",
       "12      0.844610\n",
       "13      0.671861\n",
       "14      0.600706\n",
       "15     -0.006258\n",
       "16     -0.743079\n",
       "17     -0.316024\n",
       "18     -1.431324\n",
       "19      0.474340\n",
       "20     -0.855329\n",
       "21     -0.841259\n",
       "22     -0.286913\n",
       "23      0.827355\n",
       "24     -0.995770\n",
       "25     -0.514981\n",
       "26      0.151023\n",
       "27      0.037038\n",
       "28     -0.245206\n",
       "29      0.035460\n",
       "          ...   \n",
       "6026    0.106511\n",
       "6027   -0.528585\n",
       "6028    1.521048\n",
       "6029    0.347421\n",
       "6030   -0.898063\n",
       "6031    0.474156\n",
       "6032    1.296269\n",
       "6033   -0.385134\n",
       "6034   -0.528248\n",
       "6035   -0.711452\n",
       "6036   -0.060928\n",
       "6037   -1.561887\n",
       "6038    0.743434\n",
       "6039    0.405192\n",
       "6040   -0.415725\n",
       "6041    0.063590\n",
       "6042   -0.909488\n",
       "6043    0.462796\n",
       "6044    0.263542\n",
       "6045   -0.118396\n",
       "6046   -0.613403\n",
       "6047    0.785408\n",
       "6048    0.219294\n",
       "6049    0.659019\n",
       "6050   -0.401503\n",
       "6051   -0.317058\n",
       "6052   -0.883571\n",
       "6053   -0.486144\n",
       "6054    0.842091\n",
       "6055    0.180438\n",
       "dtype: float64"
      ]
     },
     "execution_count": 39,
     "metadata": {},
     "output_type": "execute_result"
    }
   ],
   "source": [
    "fitted_values[0][:-1]"
   ]
  },
  {
   "cell_type": "code",
   "execution_count": 12,
   "metadata": {
    "collapsed": false
   },
   "outputs": [],
   "source": [
    "homer['fitted'] = fitted_series"
   ]
  },
  {
   "cell_type": "code",
   "execution_count": null,
   "metadata": {
    "collapsed": false
   },
   "outputs": [],
   "source": [
    "#for x in range(len(fitted_values)):\n",
    "#    homer['fitted_values'] = x"
   ]
  },
  {
   "cell_type": "code",
   "execution_count": 13,
   "metadata": {
    "collapsed": false
   },
   "outputs": [
    {
     "data": {
      "text/html": [
       "<div>\n",
       "<table border=\"1\" class=\"dataframe\">\n",
       "  <thead>\n",
       "    <tr style=\"text-align: right;\">\n",
       "      <th></th>\n",
       "      <th>y</th>\n",
       "      <th>x1</th>\n",
       "      <th>x2</th>\n",
       "      <th>x3</th>\n",
       "      <th>x4</th>\n",
       "      <th>x5</th>\n",
       "      <th>x6</th>\n",
       "      <th>fitted</th>\n",
       "    </tr>\n",
       "  </thead>\n",
       "  <tbody>\n",
       "    <tr>\n",
       "      <th>0</th>\n",
       "      <td>-2.17360</td>\n",
       "      <td>-0.023816</td>\n",
       "      <td>-0.012885</td>\n",
       "      <td>0.045936</td>\n",
       "      <td>-0.182890</td>\n",
       "      <td>0.028694</td>\n",
       "      <td>-0.81119</td>\n",
       "      <td>0      -0.798871\n",
       "1      -0.725522\n",
       "2       1.42...</td>\n",
       "    </tr>\n",
       "    <tr>\n",
       "      <th>1</th>\n",
       "      <td>-1.29570</td>\n",
       "      <td>0.018453</td>\n",
       "      <td>0.058999</td>\n",
       "      <td>-0.072399</td>\n",
       "      <td>0.008679</td>\n",
       "      <td>-0.084344</td>\n",
       "      <td>-0.24208</td>\n",
       "      <td>0      -0.798871\n",
       "1      -0.725522\n",
       "2       1.42...</td>\n",
       "    </tr>\n",
       "    <tr>\n",
       "      <th>2</th>\n",
       "      <td>0.14539</td>\n",
       "      <td>0.054999</td>\n",
       "      <td>0.131770</td>\n",
       "      <td>-0.067223</td>\n",
       "      <td>0.202430</td>\n",
       "      <td>0.127060</td>\n",
       "      <td>0.63388</td>\n",
       "      <td>0      -0.798871\n",
       "1      -0.725522\n",
       "2       1.42...</td>\n",
       "    </tr>\n",
       "    <tr>\n",
       "      <th>3</th>\n",
       "      <td>0.92959</td>\n",
       "      <td>-0.018933</td>\n",
       "      <td>-0.010875</td>\n",
       "      <td>-0.028255</td>\n",
       "      <td>0.017912</td>\n",
       "      <td>0.084330</td>\n",
       "      <td>0.66062</td>\n",
       "      <td>0      -0.798871\n",
       "1      -0.725522\n",
       "2       1.42...</td>\n",
       "    </tr>\n",
       "    <tr>\n",
       "      <th>4</th>\n",
       "      <td>0.90259</td>\n",
       "      <td>-0.000877</td>\n",
       "      <td>0.066941</td>\n",
       "      <td>-0.048190</td>\n",
       "      <td>0.064742</td>\n",
       "      <td>0.147880</td>\n",
       "      <td>0.26643</td>\n",
       "      <td>0      -0.798871\n",
       "1      -0.725522\n",
       "2       1.42...</td>\n",
       "    </tr>\n",
       "  </tbody>\n",
       "</table>\n",
       "</div>"
      ],
      "text/plain": [
       "         y        x1        x2        x3        x4        x5       x6  \\\n",
       "0 -2.17360 -0.023816 -0.012885  0.045936 -0.182890  0.028694 -0.81119   \n",
       "1 -1.29570  0.018453  0.058999 -0.072399  0.008679 -0.084344 -0.24208   \n",
       "2  0.14539  0.054999  0.131770 -0.067223  0.202430  0.127060  0.63388   \n",
       "3  0.92959 -0.018933 -0.010875 -0.028255  0.017912  0.084330  0.66062   \n",
       "4  0.90259 -0.000877  0.066941 -0.048190  0.064742  0.147880  0.26643   \n",
       "\n",
       "                                              fitted  \n",
       "0  0      -0.798871\n",
       "1      -0.725522\n",
       "2       1.42...  \n",
       "1  0      -0.798871\n",
       "1      -0.725522\n",
       "2       1.42...  \n",
       "2  0      -0.798871\n",
       "1      -0.725522\n",
       "2       1.42...  \n",
       "3  0      -0.798871\n",
       "1      -0.725522\n",
       "2       1.42...  \n",
       "4  0      -0.798871\n",
       "1      -0.725522\n",
       "2       1.42...  "
      ]
     },
     "execution_count": 13,
     "metadata": {},
     "output_type": "execute_result"
    }
   ],
   "source": [
    "homer.head()"
   ]
  },
  {
   "cell_type": "code",
   "execution_count": null,
   "metadata": {
    "collapsed": false
   },
   "outputs": [],
   "source": [
    "sns.residplot('fitted_values', 'y', homer);"
   ]
  },
  {
   "cell_type": "markdown",
   "metadata": {},
   "source": [
    "#### 2"
   ]
  },
  {
   "cell_type": "markdown",
   "metadata": {},
   "source": [
    "**Question 2**\n",
    "\n",
    "You are given data about the Scottish Hill Climb races in the table `hills` which consists of 4 columns:\n",
    "\n",
    "```\n",
    "Race:     The name of the race (PK)\n",
    "Distance: The distance of the race in miles\n",
    "Climb:    Elevation climbed during race in feet\n",
    "Time:     Record time for race in minutes\n",
    "```"
   ]
  },
  {
   "cell_type": "code",
   "execution_count": null,
   "metadata": {
    "collapsed": false
   },
   "outputs": [],
   "source": [
    "hills = pd.read_sql(\"SELECT * FROM hills\", engine)\n",
    "hills.head()"
   ]
  },
  {
   "cell_type": "markdown",
   "metadata": {},
   "source": [
    "1) Explore the data with a scatter matrix and a correlation plot (`statsmodels.graphics.plot_corr`).  \n",
    "\n",
    "   Build a multiple regression model to predict `Time` based on `Distance` and `Time`.\n",
    "   "
   ]
  },
  {
   "cell_type": "markdown",
   "metadata": {},
   "source": [
    "2) Interpret the coefficients of your model.  \n",
    "\n"
   ]
  },
  {
   "cell_type": "markdown",
   "metadata": {},
   "source": [
    "3) Plot the fitted values of the response (`Time`) against the standardized residuals of the model.\n",
    "\n",
    "   **Hint:**\n",
    "   - Use `model.fittedvalues` to get fitted values and `model.resid_pearson` to get the standardized residuals\n",
    " \n",
    "   Does the residual plot appear to fulfill the following assumptions:\n",
    "   - Linearity\n",
    "   - Normality\n",
    "   - Homoscedasticity \n",
    "   \n",
    "   What are the consequences if those assumptions are not met ? \n"
   ]
  },
  {
   "cell_type": "markdown",
   "metadata": {},
   "source": [
    "4) An additional test for Normality of the residuals is the Q-Q plot. If the quantiles of the residuals match that of a Normal distribution, then the residuals are normally distribution. \n",
    "\n",
    "   Import the qq-plot function from statsmodels `from statsmodels.graphics.gofplots import qqplot`.\n",
    "   \n",
    "   Draw a straight line where the quantiles of the residuals are the same as those of a standard Normal distribution.\n",
    "   \n",
    "   The plot you produce should look similar to the one below:\n",
    "   \n",
    "   ![](images/qq.png)\n",
    "   \n",
    "   Do the residuals appear to be Normal ?\n",
    "  \n",
    "   "
   ]
  },
  {
   "cell_type": "markdown",
   "metadata": {},
   "source": [
    "5) (Extra Credit) To identify outliers, one can also look at the leverage-residual plot. \n",
    "\n",
    "   Explain what leverage means and how is leverage computed. Is a data point influential if the residual is large but the leverage is low? What about if the residual and leverage are both high?\n",
    "   \n",
    "   Import the leverage-residual plot from statsmodels by `from statsmodels.graphics.regressionplots import plot_leverage_resid2`. You can call it by just feeding in the fitted model.\n",
    "   \n",
    "   ```python\n",
    "   plot_leverage_resid2(model)\n",
    "   ```\n",
    "   \n",
    "   Identify the races where the leverage and residual are high. Comment on the commonalities between those races.\n",
    "   \n",
    "   "
   ]
  },
  {
   "cell_type": "markdown",
   "metadata": {},
   "source": [
    "6) (Extra Credit) What are the precautions you need to bare in mind if you were to remove the outliers you have identified in `5.` ?\n",
    "   \n",
    "   Remove the outliers in the dataset and re-run the model. \n",
    "   \n",
    "   Plot the residual plot and Q-Q plot as you have done previously. Comment on the plots.\n",
    "   \n",
    "   Also comment on the fit of the model to the data relative to the first model."
   ]
  },
  {
   "cell_type": "markdown",
   "metadata": {},
   "source": [
    "**Question 3**\n",
    "\n",
    "You are given the price and features of some used cars in the tables `car_price` and `car_type`. Car company X want you to build a model to predict car price based on some given features about the car.\n",
    "\n",
    "1) Explore the dataset with a correlation matrix. You should select only numeric columns when you are constructing the correlation matrix.  \n",
    "   ```python\n",
    "   numerics_only = car_price.select_dtypes(['int64', 'float64'])\n",
    "   sm.graphics.plot_corr(numerics_only.corr(), xnames=numerics_only.columns.tolist())\n",
    "   ```\n",
    "\n",
    "   Which 2 variables are strongly multicollinear with each other based on your observation of the correlation matrix ?\n",
    "   \n",
    "   Which one would you choose to put in the model and why (subjective answer)."
   ]
  },
  {
   "cell_type": "code",
   "execution_count": null,
   "metadata": {
    "collapsed": false
   },
   "outputs": [],
   "source": [
    "car_price = pd.read_sql(\"SELECT * FROM car_price\", engine)\n",
    "car_price.head()"
   ]
  },
  {
   "cell_type": "code",
   "execution_count": null,
   "metadata": {
    "collapsed": false
   },
   "outputs": [],
   "source": [
    "car_type = pd.read_sql(\"SELECT * FROM car_type\", engine)\n",
    "car_type.head()"
   ]
  },
  {
   "cell_type": "markdown",
   "metadata": {},
   "source": [
    "2) Fit a multiple regression model with all the available features to predict price. Check all the assumptions made about the model as you have done previously. Comment on the Q-Q plot and the residual plot.\n",
    "\n",
    "   "
   ]
  },
  {
   "cell_type": "markdown",
   "metadata": {},
   "source": [
    "3) One of the remedies to heteroskedastic residuals is to take the log of the response. Log the response and re-run the model and check the assumptions again.\n",
    "\n",
    "   "
   ]
  },
  {
   "cell_type": "markdown",
   "metadata": {},
   "source": [
    "4) As a rule of thumb, the fewer variables there are in a model, the easier it is to interpret the model. Use your judgement and remove features which you think are of little practical importance and have coefficients that are statistically insignificant.\n",
    "\n",
    "   "
   ]
  },
  {
   "cell_type": "markdown",
   "metadata": {},
   "source": [
    "5) (Extra Credit) Run outlier diagnostics in order to identify and explain outliers of the model."
   ]
  }
 ],
 "metadata": {
  "anaconda-cloud": {},
  "kernelspec": {
   "display_name": "Python [Root]",
   "language": "python",
   "name": "Python [Root]"
  },
  "language_info": {
   "codemirror_mode": {
    "name": "ipython",
    "version": 3
   },
   "file_extension": ".py",
   "mimetype": "text/x-python",
   "name": "python",
   "nbconvert_exporter": "python",
   "pygments_lexer": "ipython3",
   "version": "3.5.2"
  }
 },
 "nbformat": 4,
 "nbformat_minor": 0
}
