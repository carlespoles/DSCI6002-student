{
 "cells": [
  {
   "cell_type": "markdown",
   "metadata": {},
   "source": [
    "# Lab 6.4: Regression Diagnostics"
   ]
  },
  {
   "cell_type": "markdown",
   "metadata": {},
   "source": [
    "**Question 1**\n",
    "\n",
    "Using the data in https://s3-us-west-2.amazonaws.com/dsci/6002/data/homer.csv :\n",
    "\n",
    "1) Run a multiple regression model of $y$ against all the $x$ variables and then produce the residuals and fitted values. Create the residual diagnostic plot of residuals on the Y axis against the fitted values on the X axis. \n",
    "\n",
    "2) Is the linearity assumption met?  \n",
    "\n",
    "3) Test for non-Normality.  \n",
    "\n",
    "4) Test for heteroskedasticity. "
   ]
  },
  {
   "cell_type": "code",
   "execution_count": 3,
   "metadata": {
    "collapsed": false
   },
   "outputs": [
    {
     "name": "stdout",
     "output_type": "stream",
     "text": [
      "Populating the interactive namespace from numpy and matplotlib\n"
     ]
    }
   ],
   "source": [
    "%pylab inline\n",
    "\n",
    "import pandas as pd\n",
    "import statsmodels.api as sm\n",
    "import seaborn as sns"
   ]
  },
  {
   "cell_type": "code",
   "execution_count": 2,
   "metadata": {
    "collapsed": false
   },
   "outputs": [
    {
     "data": {
      "text/html": [
       "<div>\n",
       "<table border=\"1\" class=\"dataframe\">\n",
       "  <thead>\n",
       "    <tr style=\"text-align: right;\">\n",
       "      <th></th>\n",
       "      <th>y</th>\n",
       "      <th>x1</th>\n",
       "      <th>x2</th>\n",
       "      <th>x3</th>\n",
       "      <th>x4</th>\n",
       "      <th>x5</th>\n",
       "      <th>x6</th>\n",
       "    </tr>\n",
       "  </thead>\n",
       "  <tbody>\n",
       "    <tr>\n",
       "      <th>0</th>\n",
       "      <td>-2.17360</td>\n",
       "      <td>-0.023816</td>\n",
       "      <td>-0.012885</td>\n",
       "      <td>0.045936</td>\n",
       "      <td>-0.182890</td>\n",
       "      <td>0.028694</td>\n",
       "      <td>-0.81119</td>\n",
       "    </tr>\n",
       "    <tr>\n",
       "      <th>1</th>\n",
       "      <td>-1.29570</td>\n",
       "      <td>0.018453</td>\n",
       "      <td>0.058999</td>\n",
       "      <td>-0.072399</td>\n",
       "      <td>0.008679</td>\n",
       "      <td>-0.084344</td>\n",
       "      <td>-0.24208</td>\n",
       "    </tr>\n",
       "    <tr>\n",
       "      <th>2</th>\n",
       "      <td>0.14539</td>\n",
       "      <td>0.054999</td>\n",
       "      <td>0.131770</td>\n",
       "      <td>-0.067223</td>\n",
       "      <td>0.202430</td>\n",
       "      <td>0.127060</td>\n",
       "      <td>0.63388</td>\n",
       "    </tr>\n",
       "    <tr>\n",
       "      <th>3</th>\n",
       "      <td>0.92959</td>\n",
       "      <td>-0.018933</td>\n",
       "      <td>-0.010875</td>\n",
       "      <td>-0.028255</td>\n",
       "      <td>0.017912</td>\n",
       "      <td>0.084330</td>\n",
       "      <td>0.66062</td>\n",
       "    </tr>\n",
       "    <tr>\n",
       "      <th>4</th>\n",
       "      <td>0.90259</td>\n",
       "      <td>-0.000877</td>\n",
       "      <td>0.066941</td>\n",
       "      <td>-0.048190</td>\n",
       "      <td>0.064742</td>\n",
       "      <td>0.147880</td>\n",
       "      <td>0.26643</td>\n",
       "    </tr>\n",
       "  </tbody>\n",
       "</table>\n",
       "</div>"
      ],
      "text/plain": [
       "         y        x1        x2        x3        x4        x5       x6\n",
       "0 -2.17360 -0.023816 -0.012885  0.045936 -0.182890  0.028694 -0.81119\n",
       "1 -1.29570  0.018453  0.058999 -0.072399  0.008679 -0.084344 -0.24208\n",
       "2  0.14539  0.054999  0.131770 -0.067223  0.202430  0.127060  0.63388\n",
       "3  0.92959 -0.018933 -0.010875 -0.028255  0.017912  0.084330  0.66062\n",
       "4  0.90259 -0.000877  0.066941 -0.048190  0.064742  0.147880  0.26643"
      ]
     },
     "execution_count": 2,
     "metadata": {},
     "output_type": "execute_result"
    }
   ],
   "source": [
    "homer = pd.read_csv('https://s3-us-west-2.amazonaws.com/dsci/6002/data/homer.csv')\n",
    "homer.head()"
   ]
  },
  {
   "cell_type": "markdown",
   "metadata": {},
   "source": [
    "**Question 2**\n",
    "\n",
    "You are given data about the Scottish Hill Climb races in the table `hills` which consists of 4 columns:\n",
    "\n",
    "```\n",
    "Race:     The name of the race (PK)\n",
    "Distance: The distance of the race in miles\n",
    "Climb:    Elevation climbed during race in feet\n",
    "Time:     Record time for race in minutes\n",
    "```"
   ]
  },
  {
   "cell_type": "markdown",
   "metadata": {},
   "source": [
    "1) Explore the data with a scatter matrix and a correlation plot (`statsmodels.graphics.plot_corr`).  \n",
    "\n",
    "   Build a multiple regression model to predict `Time` based on `Distance` and `Time`.\n",
    "   "
   ]
  },
  {
   "cell_type": "markdown",
   "metadata": {},
   "source": [
    "2) Interpret the coefficients of your model.  \n",
    "\n"
   ]
  },
  {
   "cell_type": "markdown",
   "metadata": {},
   "source": [
    "3) Plot the fitted values of the response (`Time`) against the standardized residuals of the model.\n",
    "\n",
    "   **Hint:**\n",
    "   - Use `model.fittedvalues` to get fitted values and `model.resid_pearson` to get the standardized residuals\n",
    " \n",
    "   Does the residual plot appear to fulfill the following assumptions:\n",
    "   - Linearity\n",
    "   - Normality\n",
    "   - Homoscedasticity \n",
    "   \n",
    "   What are the consequences if those assumptions are not met ? \n"
   ]
  },
  {
   "cell_type": "markdown",
   "metadata": {},
   "source": [
    "4) An additional test for Normality of the residuals is the Q-Q plot. If the quantiles of the residuals match that of a Normal distribution, then the residuals are normally distribution. \n",
    "\n",
    "   Import the qq-plot function from statsmodels `from statsmodels.graphics.gofplots import qqplot`.\n",
    "   \n",
    "   Draw a straight line where the quantiles of the residuals are the same as those of a standard Normal distribution.\n",
    "   \n",
    "   The plot you produce should look similar to the one below:\n",
    "   \n",
    "   ![](images/qq.png)\n",
    "   \n",
    "   Do the residuals appear to be Normal ?\n",
    "  \n",
    "   "
   ]
  },
  {
   "cell_type": "markdown",
   "metadata": {},
   "source": [
    "5) (Extra Credit) To identify outliers, one can also look at the leverage-residual plot. \n",
    "\n",
    "   Explain what leverage means and how is leverage computed. Is a data point influential if the residual is large but the leverage is low? What about if the residual and leverage are both high?\n",
    "   \n",
    "   Import the leverage-residual plot from statsmodels by `from statsmodels.graphics.regressionplots import plot_leverage_resid2`. You can call it by just feeding in the fitted model.\n",
    "   \n",
    "   ```python\n",
    "   plot_leverage_resid2(model)\n",
    "   ```\n",
    "   \n",
    "   Identify the races where the leverage and residual are high. Comment on the commonalities between those races.\n",
    "   \n",
    "   "
   ]
  },
  {
   "cell_type": "markdown",
   "metadata": {},
   "source": [
    "6) (Extra Credit) What are the precautions you need to bare in mind if you were to remove the outliers you have identified in `5.` ?\n",
    "   \n",
    "   Remove the outliers in the dataset and re-run the model. \n",
    "   \n",
    "   Plot the residual plot and Q-Q plot as you have done previously. Comment on the plots.\n",
    "   \n",
    "   Also comment on the fit of the model to the data relative to the first model."
   ]
  },
  {
   "cell_type": "markdown",
   "metadata": {},
   "source": [
    "**Question 3**\n",
    "\n",
    "You are given the price and features of some used cars in the tables `car_price` and `car_type`. Car company X want you to build a model to predict car price based on some given features about the car.\n",
    "\n",
    "1) Explore the dataset with a correlation matrix. You should select only numeric columns when you are constructing the correlation matrix.  \n",
    "   ```python\n",
    "   numerics_only = car_price.select_dtypes(['int64', 'float64'])\n",
    "   sm.graphics.plot_corr(numerics_only.corr(), xnames=numerics_only.columns.tolist())\n",
    "   ```\n",
    "\n",
    "   Which 2 variables are strongly multicollinear with each other based on your observation of the correlation matrix ?\n",
    "   \n",
    "   Which one would you choose to put in the model and why (subjective answer)."
   ]
  },
  {
   "cell_type": "markdown",
   "metadata": {},
   "source": [
    "2) Fit a multiple regression model with all the available features to predict price. Check all the assumptions made about the model as you have done previously. Comment on the Q-Q plot and the residual plot.\n",
    "\n",
    "   "
   ]
  },
  {
   "cell_type": "markdown",
   "metadata": {},
   "source": [
    "3) One of the remedies to heteroskedastic residuals is to take the log of the response. Log the response and re-run the model and check the assumptions again.\n",
    "\n",
    "   "
   ]
  },
  {
   "cell_type": "markdown",
   "metadata": {},
   "source": [
    "4) As a rule of thumb, the fewer variables there are in a model, the easier it is to interpret the model. Use your judgement and remove features which you think are of little practical importance and have coefficients that are statistically insignificant.\n",
    "\n",
    "   "
   ]
  },
  {
   "cell_type": "markdown",
   "metadata": {},
   "source": [
    "5) (Extra Credit) Run outlier diagnostics in order to identify and explain outliers of the model."
   ]
  }
 ],
 "metadata": {
  "anaconda-cloud": {},
  "kernelspec": {
   "display_name": "Python [Root]",
   "language": "python",
   "name": "Python [Root]"
  },
  "language_info": {
   "codemirror_mode": {
    "name": "ipython",
    "version": 3
   },
   "file_extension": ".py",
   "mimetype": "text/x-python",
   "name": "python",
   "nbconvert_exporter": "python",
   "pygments_lexer": "ipython3",
   "version": "3.5.2"
  }
 },
 "nbformat": 4,
 "nbformat_minor": 0
}
