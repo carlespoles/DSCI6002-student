{
 "cells": [
  {
   "cell_type": "markdown",
   "metadata": {
    "slideshow": {
     "slide_type": "slide"
    }
   },
   "source": [
    "# Lecture 6.3: Multiple Regressions II"
   ]
  },
  {
   "cell_type": "markdown",
   "metadata": {
    "slideshow": {
     "slide_type": "slide"
    }
   },
   "source": [
    "## Outline\n",
    "\n",
    "* Dummy variables for indicator and categorical data\n",
    "* Interaction terms\n",
    "    * Interactions between continuous and categorical variables\n",
    "    * Interactions between continuous and continuous variables\n",
    "* Variable selection - stepwise regression"
   ]
  },
  {
   "cell_type": "code",
   "execution_count": 1,
   "metadata": {
    "collapsed": false,
    "slideshow": {
     "slide_type": "skip"
    }
   },
   "outputs": [
    {
     "name": "stdout",
     "output_type": "stream",
     "text": [
      "Populating the interactive namespace from numpy and matplotlib\n"
     ]
    }
   ],
   "source": [
    "%pylab inline\n",
    "import pandas as pd\n",
    "import statsmodels.api as sm\n",
    "\n",
    "from seaborn import lmplot"
   ]
  },
  {
   "cell_type": "code",
   "execution_count": 2,
   "metadata": {
    "collapsed": false,
    "slideshow": {
     "slide_type": "skip"
    }
   },
   "outputs": [],
   "source": [
    "fake_puppy_data = pd.DataFrame()\n",
    "fake_puppy_data['num_puppies'] = np.abs(np.random.normal(3,4,size=1000)).round()\n",
    "fake_puppy_data[fake_puppy_data['num_puppies']==0] = 1\n",
    "other_animals = ['yes','no']\n",
    "fake_puppy_data['has_other_animals'] = np.random.choice(other_animals,replace=True,size=1000,p=[0.2,0.8])\n",
    "age_groups = ['puppy','dog','elderly dog']\n",
    "fake_puppy_data['age_group'] = np.random.choice(age_groups,replace=True,size=1000,p=[0.5,0.2,0.3])\n",
    "fake_puppy_data['score'] = 4.231  * fake_puppy_data['num_puppies'] + \\\n",
    "                           24.213 * (fake_puppy_data['has_other_animals']=='yes') + \\\n",
    "                           -0.340 * (fake_puppy_data['has_other_animals']=='no') + \\\n",
    "                           20.453 * (fake_puppy_data['age_group']=='puppy') + \\\n",
    "                           -6.543 * (fake_puppy_data['age_group']=='dog') + \\\n",
    "                           14.568 * (fake_puppy_data['age_group']=='elderly dog') + \\\n",
    "                           6.574  * (fake_puppy_data['num_puppies'] * 1.*(fake_puppy_data['has_other_animals'] == 'yes')) + \\\n",
    "                           3.486  * (fake_puppy_data['num_puppies'] * 1.*(fake_puppy_data['age_group'] == 'puppy')) + \\\n",
    "                           0.182  * (fake_puppy_data['num_puppies'] * 1.*(fake_puppy_data['age_group'] == 'elderly dog')) + \\\n",
    "                           12.381 + \\\n",
    "                           np.random.normal(15,3,size=1000)\n",
    "fake_puppy_data['score'] = 100 * ((fake_puppy_data['score']-fake_puppy_data['score'].min())/(fake_puppy_data['score'].max() - fake_puppy_data['score'].min()))"
   ]
  },
  {
   "cell_type": "markdown",
   "metadata": {
    "slideshow": {
     "slide_type": "slide"
    }
   },
   "source": [
    "## More stories\n",
    "\n",
    "My wife likes pictures of puppies. To document this I had her look at and score 1000 photos of puppies (I did not actually do this one in real life)."
   ]
  },
  {
   "cell_type": "code",
   "execution_count": 3,
   "metadata": {
    "collapsed": false,
    "slideshow": {
     "slide_type": "fragment"
    }
   },
   "outputs": [
    {
     "data": {
      "text/html": [
       "<div>\n",
       "<table border=\"1\" class=\"dataframe\">\n",
       "  <thead>\n",
       "    <tr style=\"text-align: right;\">\n",
       "      <th></th>\n",
       "      <th>num_puppies</th>\n",
       "      <th>has_other_animals</th>\n",
       "      <th>age_group</th>\n",
       "      <th>score</th>\n",
       "    </tr>\n",
       "  </thead>\n",
       "  <tbody>\n",
       "    <tr>\n",
       "      <th>0</th>\n",
       "      <td>9.0</td>\n",
       "      <td>no</td>\n",
       "      <td>puppy</td>\n",
       "      <td>44.275767</td>\n",
       "    </tr>\n",
       "    <tr>\n",
       "      <th>1</th>\n",
       "      <td>2.0</td>\n",
       "      <td>no</td>\n",
       "      <td>elderly dog</td>\n",
       "      <td>14.183560</td>\n",
       "    </tr>\n",
       "    <tr>\n",
       "      <th>2</th>\n",
       "      <td>6.0</td>\n",
       "      <td>no</td>\n",
       "      <td>puppy</td>\n",
       "      <td>34.224926</td>\n",
       "    </tr>\n",
       "    <tr>\n",
       "      <th>3</th>\n",
       "      <td>4.0</td>\n",
       "      <td>no</td>\n",
       "      <td>puppy</td>\n",
       "      <td>27.896977</td>\n",
       "    </tr>\n",
       "    <tr>\n",
       "      <th>4</th>\n",
       "      <td>1.0</td>\n",
       "      <td>yes</td>\n",
       "      <td>elderly dog</td>\n",
       "      <td>26.467922</td>\n",
       "    </tr>\n",
       "    <tr>\n",
       "      <th>5</th>\n",
       "      <td>2.0</td>\n",
       "      <td>no</td>\n",
       "      <td>dog</td>\n",
       "      <td>3.065538</td>\n",
       "    </tr>\n",
       "    <tr>\n",
       "      <th>6</th>\n",
       "      <td>3.0</td>\n",
       "      <td>yes</td>\n",
       "      <td>puppy</td>\n",
       "      <td>41.223439</td>\n",
       "    </tr>\n",
       "    <tr>\n",
       "      <th>7</th>\n",
       "      <td>7.0</td>\n",
       "      <td>no</td>\n",
       "      <td>puppy</td>\n",
       "      <td>34.743702</td>\n",
       "    </tr>\n",
       "    <tr>\n",
       "      <th>8</th>\n",
       "      <td>2.0</td>\n",
       "      <td>no</td>\n",
       "      <td>elderly dog</td>\n",
       "      <td>12.550429</td>\n",
       "    </tr>\n",
       "    <tr>\n",
       "      <th>9</th>\n",
       "      <td>1.0</td>\n",
       "      <td>no</td>\n",
       "      <td>puppy</td>\n",
       "      <td>16.598359</td>\n",
       "    </tr>\n",
       "    <tr>\n",
       "      <th>10</th>\n",
       "      <td>3.0</td>\n",
       "      <td>no</td>\n",
       "      <td>dog</td>\n",
       "      <td>6.039645</td>\n",
       "    </tr>\n",
       "    <tr>\n",
       "      <th>11</th>\n",
       "      <td>2.0</td>\n",
       "      <td>no</td>\n",
       "      <td>elderly dog</td>\n",
       "      <td>11.977662</td>\n",
       "    </tr>\n",
       "    <tr>\n",
       "      <th>12</th>\n",
       "      <td>8.0</td>\n",
       "      <td>no</td>\n",
       "      <td>puppy</td>\n",
       "      <td>38.540678</td>\n",
       "    </tr>\n",
       "    <tr>\n",
       "      <th>13</th>\n",
       "      <td>8.0</td>\n",
       "      <td>yes</td>\n",
       "      <td>elderly dog</td>\n",
       "      <td>58.921324</td>\n",
       "    </tr>\n",
       "    <tr>\n",
       "      <th>14</th>\n",
       "      <td>3.0</td>\n",
       "      <td>no</td>\n",
       "      <td>puppy</td>\n",
       "      <td>23.726942</td>\n",
       "    </tr>\n",
       "  </tbody>\n",
       "</table>\n",
       "</div>"
      ],
      "text/plain": [
       "    num_puppies has_other_animals    age_group      score\n",
       "0           9.0                no        puppy  44.275767\n",
       "1           2.0                no  elderly dog  14.183560\n",
       "2           6.0                no        puppy  34.224926\n",
       "3           4.0                no        puppy  27.896977\n",
       "4           1.0               yes  elderly dog  26.467922\n",
       "5           2.0                no          dog   3.065538\n",
       "6           3.0               yes        puppy  41.223439\n",
       "7           7.0                no        puppy  34.743702\n",
       "8           2.0                no  elderly dog  12.550429\n",
       "9           1.0                no        puppy  16.598359\n",
       "10          3.0                no          dog   6.039645\n",
       "11          2.0                no  elderly dog  11.977662\n",
       "12          8.0                no        puppy  38.540678\n",
       "13          8.0               yes  elderly dog  58.921324\n",
       "14          3.0                no        puppy  23.726942"
      ]
     },
     "execution_count": 3,
     "metadata": {},
     "output_type": "execute_result"
    }
   ],
   "source": [
    "fake_puppy_data.head(15)"
   ]
  },
  {
   "cell_type": "markdown",
   "metadata": {
    "slideshow": {
     "slide_type": "slide"
    }
   },
   "source": [
    "### Data dictionary\n",
    "\n",
    "* num_puppies is number of puppies in the photo\n",
    "* has_other_animals is yes if there are other animals in photo, no otherwise\n",
    "* age_group describes the average age of the dogs in the photo, either puppy, dog, or elderly dog\n",
    "\n"
   ]
  },
  {
   "cell_type": "markdown",
   "metadata": {
    "slideshow": {
     "slide_type": "fragment"
    }
   },
   "source": [
    "### Question:\n",
    "Can I run my current data through statsmodels?"
   ]
  },
  {
   "cell_type": "markdown",
   "metadata": {},
   "source": [
    "#### DON'T RUN BELOW. IT WILL CRASH AS IT CANNOT BE RUN AS IT IS BECAUSE THE VARIABLES BELOW ARE CATEGORICAL AND NEED 'TRANSFORMATION'."
   ]
  },
  {
   "cell_type": "code",
   "execution_count": 4,
   "metadata": {
    "collapsed": false,
    "slideshow": {
     "slide_type": "slide"
    }
   },
   "outputs": [],
   "source": [
    "X = fake_puppy_data[['num_puppies','has_other_animals','age_group']]\n",
    "y = fake_puppy_data.score\n",
    "model = sm.OLS(y, X)"
   ]
  },
  {
   "cell_type": "markdown",
   "metadata": {
    "slideshow": {
     "slide_type": "slide"
    }
   },
   "source": [
    "## Any ideas on how to deal with this?"
   ]
  },
  {
   "cell_type": "markdown",
   "metadata": {
    "slideshow": {
     "slide_type": "slide"
    }
   },
   "source": [
    "## Add dummy variables"
   ]
  },
  {
   "cell_type": "code",
   "execution_count": 5,
   "metadata": {
    "collapsed": true,
    "slideshow": {
     "slide_type": "fragment"
    }
   },
   "outputs": [],
   "source": [
    "data = fake_puppy_data.copy()"
   ]
  },
  {
   "cell_type": "code",
   "execution_count": 6,
   "metadata": {
    "collapsed": false,
    "slideshow": {
     "slide_type": "fragment"
    }
   },
   "outputs": [
    {
     "data": {
      "text/html": [
       "<div>\n",
       "<table border=\"1\" class=\"dataframe\">\n",
       "  <thead>\n",
       "    <tr style=\"text-align: right;\">\n",
       "      <th></th>\n",
       "      <th>num_puppies</th>\n",
       "      <th>has_other_animals</th>\n",
       "      <th>age_group</th>\n",
       "      <th>score</th>\n",
       "      <th>others_yes</th>\n",
       "    </tr>\n",
       "  </thead>\n",
       "  <tbody>\n",
       "    <tr>\n",
       "      <th>0</th>\n",
       "      <td>9.0</td>\n",
       "      <td>no</td>\n",
       "      <td>puppy</td>\n",
       "      <td>44.275767</td>\n",
       "      <td>0</td>\n",
       "    </tr>\n",
       "    <tr>\n",
       "      <th>1</th>\n",
       "      <td>2.0</td>\n",
       "      <td>no</td>\n",
       "      <td>elderly dog</td>\n",
       "      <td>14.183560</td>\n",
       "      <td>0</td>\n",
       "    </tr>\n",
       "    <tr>\n",
       "      <th>2</th>\n",
       "      <td>6.0</td>\n",
       "      <td>no</td>\n",
       "      <td>puppy</td>\n",
       "      <td>34.224926</td>\n",
       "      <td>0</td>\n",
       "    </tr>\n",
       "    <tr>\n",
       "      <th>3</th>\n",
       "      <td>4.0</td>\n",
       "      <td>no</td>\n",
       "      <td>puppy</td>\n",
       "      <td>27.896977</td>\n",
       "      <td>0</td>\n",
       "    </tr>\n",
       "    <tr>\n",
       "      <th>4</th>\n",
       "      <td>1.0</td>\n",
       "      <td>yes</td>\n",
       "      <td>elderly dog</td>\n",
       "      <td>26.467922</td>\n",
       "      <td>1</td>\n",
       "    </tr>\n",
       "    <tr>\n",
       "      <th>5</th>\n",
       "      <td>2.0</td>\n",
       "      <td>no</td>\n",
       "      <td>dog</td>\n",
       "      <td>3.065538</td>\n",
       "      <td>0</td>\n",
       "    </tr>\n",
       "    <tr>\n",
       "      <th>6</th>\n",
       "      <td>3.0</td>\n",
       "      <td>yes</td>\n",
       "      <td>puppy</td>\n",
       "      <td>41.223439</td>\n",
       "      <td>1</td>\n",
       "    </tr>\n",
       "    <tr>\n",
       "      <th>7</th>\n",
       "      <td>7.0</td>\n",
       "      <td>no</td>\n",
       "      <td>puppy</td>\n",
       "      <td>34.743702</td>\n",
       "      <td>0</td>\n",
       "    </tr>\n",
       "    <tr>\n",
       "      <th>8</th>\n",
       "      <td>2.0</td>\n",
       "      <td>no</td>\n",
       "      <td>elderly dog</td>\n",
       "      <td>12.550429</td>\n",
       "      <td>0</td>\n",
       "    </tr>\n",
       "    <tr>\n",
       "      <th>9</th>\n",
       "      <td>1.0</td>\n",
       "      <td>no</td>\n",
       "      <td>puppy</td>\n",
       "      <td>16.598359</td>\n",
       "      <td>0</td>\n",
       "    </tr>\n",
       "    <tr>\n",
       "      <th>10</th>\n",
       "      <td>3.0</td>\n",
       "      <td>no</td>\n",
       "      <td>dog</td>\n",
       "      <td>6.039645</td>\n",
       "      <td>0</td>\n",
       "    </tr>\n",
       "    <tr>\n",
       "      <th>11</th>\n",
       "      <td>2.0</td>\n",
       "      <td>no</td>\n",
       "      <td>elderly dog</td>\n",
       "      <td>11.977662</td>\n",
       "      <td>0</td>\n",
       "    </tr>\n",
       "    <tr>\n",
       "      <th>12</th>\n",
       "      <td>8.0</td>\n",
       "      <td>no</td>\n",
       "      <td>puppy</td>\n",
       "      <td>38.540678</td>\n",
       "      <td>0</td>\n",
       "    </tr>\n",
       "    <tr>\n",
       "      <th>13</th>\n",
       "      <td>8.0</td>\n",
       "      <td>yes</td>\n",
       "      <td>elderly dog</td>\n",
       "      <td>58.921324</td>\n",
       "      <td>1</td>\n",
       "    </tr>\n",
       "    <tr>\n",
       "      <th>14</th>\n",
       "      <td>3.0</td>\n",
       "      <td>no</td>\n",
       "      <td>puppy</td>\n",
       "      <td>23.726942</td>\n",
       "      <td>0</td>\n",
       "    </tr>\n",
       "  </tbody>\n",
       "</table>\n",
       "</div>"
      ],
      "text/plain": [
       "    num_puppies has_other_animals    age_group      score  others_yes\n",
       "0           9.0                no        puppy  44.275767           0\n",
       "1           2.0                no  elderly dog  14.183560           0\n",
       "2           6.0                no        puppy  34.224926           0\n",
       "3           4.0                no        puppy  27.896977           0\n",
       "4           1.0               yes  elderly dog  26.467922           1\n",
       "5           2.0                no          dog   3.065538           0\n",
       "6           3.0               yes        puppy  41.223439           1\n",
       "7           7.0                no        puppy  34.743702           0\n",
       "8           2.0                no  elderly dog  12.550429           0\n",
       "9           1.0                no        puppy  16.598359           0\n",
       "10          3.0                no          dog   6.039645           0\n",
       "11          2.0                no  elderly dog  11.977662           0\n",
       "12          8.0                no        puppy  38.540678           0\n",
       "13          8.0               yes  elderly dog  58.921324           1\n",
       "14          3.0                no        puppy  23.726942           0"
      ]
     },
     "execution_count": 6,
     "metadata": {},
     "output_type": "execute_result"
    }
   ],
   "source": [
    "data['others_yes'] = 1 * (data.has_other_animals == 'yes') \n",
    "data.head(15)"
   ]
  },
  {
   "cell_type": "markdown",
   "metadata": {
    "slideshow": {
     "slide_type": "slide"
    }
   },
   "source": [
    "## How the dummy variable works  \n",
    "  \n",
    "\n",
    "$x_i = \\left\\{\\begin{array}{11} 1 & \\mbox{if ith picture has other animals} \\\\ 0 & \\mbox{if ith picture has no other animals} \\end{array} \\right. $\n",
    "\n",
    "$$y_i \\sim \\beta_0 + \\beta_1 x_i + \\epsilon_i = \\left\\{\\begin{array}{11} \\beta_0 + \\beta_1 + \\epsilon_i & \\mbox{if ith picture has other animals} \\\\ \\beta_0 + \\epsilon_i & \\mbox{if ith picture has no other animals} \\end{array} \\right.$$"
   ]
  },
  {
   "cell_type": "markdown",
   "metadata": {
    "slideshow": {
     "slide_type": "slide"
    }
   },
   "source": [
    "## Important \n",
    "\n",
    "When you do this you are changing the interpretation of your intercept.  \n",
    "* What did the intercept mean before?\n",
    "* What does it mean now? The picture has no other animals."
   ]
  },
  {
   "cell_type": "markdown",
   "metadata": {
    "slideshow": {
     "slide_type": "slide"
    }
   },
   "source": [
    "## Categorical variables\n",
    "\n",
    "* Basically the same as dummy variables, but with more than two levels\n",
    "* In general you need number of categories - 1 columns to encode a categorical variable"
   ]
  },
  {
   "cell_type": "code",
   "execution_count": 7,
   "metadata": {
    "collapsed": false,
    "slideshow": {
     "slide_type": "slide"
    }
   },
   "outputs": [
    {
     "data": {
      "text/html": [
       "<div>\n",
       "<table border=\"1\" class=\"dataframe\">\n",
       "  <thead>\n",
       "    <tr style=\"text-align: right;\">\n",
       "      <th></th>\n",
       "      <th>num_puppies</th>\n",
       "      <th>has_other_animals</th>\n",
       "      <th>age_group</th>\n",
       "      <th>score</th>\n",
       "      <th>others_yes</th>\n",
       "      <th>puppy</th>\n",
       "      <th>elderly</th>\n",
       "    </tr>\n",
       "  </thead>\n",
       "  <tbody>\n",
       "    <tr>\n",
       "      <th>0</th>\n",
       "      <td>9.0</td>\n",
       "      <td>no</td>\n",
       "      <td>puppy</td>\n",
       "      <td>44.275767</td>\n",
       "      <td>0</td>\n",
       "      <td>1</td>\n",
       "      <td>0</td>\n",
       "    </tr>\n",
       "    <tr>\n",
       "      <th>1</th>\n",
       "      <td>2.0</td>\n",
       "      <td>no</td>\n",
       "      <td>elderly dog</td>\n",
       "      <td>14.183560</td>\n",
       "      <td>0</td>\n",
       "      <td>0</td>\n",
       "      <td>1</td>\n",
       "    </tr>\n",
       "    <tr>\n",
       "      <th>2</th>\n",
       "      <td>6.0</td>\n",
       "      <td>no</td>\n",
       "      <td>puppy</td>\n",
       "      <td>34.224926</td>\n",
       "      <td>0</td>\n",
       "      <td>1</td>\n",
       "      <td>0</td>\n",
       "    </tr>\n",
       "    <tr>\n",
       "      <th>3</th>\n",
       "      <td>4.0</td>\n",
       "      <td>no</td>\n",
       "      <td>puppy</td>\n",
       "      <td>27.896977</td>\n",
       "      <td>0</td>\n",
       "      <td>1</td>\n",
       "      <td>0</td>\n",
       "    </tr>\n",
       "    <tr>\n",
       "      <th>4</th>\n",
       "      <td>1.0</td>\n",
       "      <td>yes</td>\n",
       "      <td>elderly dog</td>\n",
       "      <td>26.467922</td>\n",
       "      <td>1</td>\n",
       "      <td>0</td>\n",
       "      <td>1</td>\n",
       "    </tr>\n",
       "    <tr>\n",
       "      <th>5</th>\n",
       "      <td>2.0</td>\n",
       "      <td>no</td>\n",
       "      <td>dog</td>\n",
       "      <td>3.065538</td>\n",
       "      <td>0</td>\n",
       "      <td>0</td>\n",
       "      <td>0</td>\n",
       "    </tr>\n",
       "    <tr>\n",
       "      <th>6</th>\n",
       "      <td>3.0</td>\n",
       "      <td>yes</td>\n",
       "      <td>puppy</td>\n",
       "      <td>41.223439</td>\n",
       "      <td>1</td>\n",
       "      <td>1</td>\n",
       "      <td>0</td>\n",
       "    </tr>\n",
       "    <tr>\n",
       "      <th>7</th>\n",
       "      <td>7.0</td>\n",
       "      <td>no</td>\n",
       "      <td>puppy</td>\n",
       "      <td>34.743702</td>\n",
       "      <td>0</td>\n",
       "      <td>1</td>\n",
       "      <td>0</td>\n",
       "    </tr>\n",
       "    <tr>\n",
       "      <th>8</th>\n",
       "      <td>2.0</td>\n",
       "      <td>no</td>\n",
       "      <td>elderly dog</td>\n",
       "      <td>12.550429</td>\n",
       "      <td>0</td>\n",
       "      <td>0</td>\n",
       "      <td>1</td>\n",
       "    </tr>\n",
       "    <tr>\n",
       "      <th>9</th>\n",
       "      <td>1.0</td>\n",
       "      <td>no</td>\n",
       "      <td>puppy</td>\n",
       "      <td>16.598359</td>\n",
       "      <td>0</td>\n",
       "      <td>1</td>\n",
       "      <td>0</td>\n",
       "    </tr>\n",
       "    <tr>\n",
       "      <th>10</th>\n",
       "      <td>3.0</td>\n",
       "      <td>no</td>\n",
       "      <td>dog</td>\n",
       "      <td>6.039645</td>\n",
       "      <td>0</td>\n",
       "      <td>0</td>\n",
       "      <td>0</td>\n",
       "    </tr>\n",
       "    <tr>\n",
       "      <th>11</th>\n",
       "      <td>2.0</td>\n",
       "      <td>no</td>\n",
       "      <td>elderly dog</td>\n",
       "      <td>11.977662</td>\n",
       "      <td>0</td>\n",
       "      <td>0</td>\n",
       "      <td>1</td>\n",
       "    </tr>\n",
       "    <tr>\n",
       "      <th>12</th>\n",
       "      <td>8.0</td>\n",
       "      <td>no</td>\n",
       "      <td>puppy</td>\n",
       "      <td>38.540678</td>\n",
       "      <td>0</td>\n",
       "      <td>1</td>\n",
       "      <td>0</td>\n",
       "    </tr>\n",
       "    <tr>\n",
       "      <th>13</th>\n",
       "      <td>8.0</td>\n",
       "      <td>yes</td>\n",
       "      <td>elderly dog</td>\n",
       "      <td>58.921324</td>\n",
       "      <td>1</td>\n",
       "      <td>0</td>\n",
       "      <td>1</td>\n",
       "    </tr>\n",
       "    <tr>\n",
       "      <th>14</th>\n",
       "      <td>3.0</td>\n",
       "      <td>no</td>\n",
       "      <td>puppy</td>\n",
       "      <td>23.726942</td>\n",
       "      <td>0</td>\n",
       "      <td>1</td>\n",
       "      <td>0</td>\n",
       "    </tr>\n",
       "  </tbody>\n",
       "</table>\n",
       "</div>"
      ],
      "text/plain": [
       "    num_puppies has_other_animals    age_group      score  others_yes  puppy  \\\n",
       "0           9.0                no        puppy  44.275767           0      1   \n",
       "1           2.0                no  elderly dog  14.183560           0      0   \n",
       "2           6.0                no        puppy  34.224926           0      1   \n",
       "3           4.0                no        puppy  27.896977           0      1   \n",
       "4           1.0               yes  elderly dog  26.467922           1      0   \n",
       "5           2.0                no          dog   3.065538           0      0   \n",
       "6           3.0               yes        puppy  41.223439           1      1   \n",
       "7           7.0                no        puppy  34.743702           0      1   \n",
       "8           2.0                no  elderly dog  12.550429           0      0   \n",
       "9           1.0                no        puppy  16.598359           0      1   \n",
       "10          3.0                no          dog   6.039645           0      0   \n",
       "11          2.0                no  elderly dog  11.977662           0      0   \n",
       "12          8.0                no        puppy  38.540678           0      1   \n",
       "13          8.0               yes  elderly dog  58.921324           1      0   \n",
       "14          3.0                no        puppy  23.726942           0      1   \n",
       "\n",
       "    elderly  \n",
       "0         0  \n",
       "1         1  \n",
       "2         0  \n",
       "3         0  \n",
       "4         1  \n",
       "5         0  \n",
       "6         0  \n",
       "7         0  \n",
       "8         1  \n",
       "9         0  \n",
       "10        0  \n",
       "11        1  \n",
       "12        0  \n",
       "13        1  \n",
       "14        0  "
      ]
     },
     "execution_count": 7,
     "metadata": {},
     "output_type": "execute_result"
    }
   ],
   "source": [
    "data['puppy'] = 1 * (data.age_group == 'puppy')\n",
    "data['elderly'] = 1 * (data.age_group == 'elderly dog')\n",
    "data.head(15)"
   ]
  },
  {
   "cell_type": "markdown",
   "metadata": {
    "slideshow": {
     "slide_type": "slide"
    }
   },
   "source": [
    "## How this works  \n",
    "  \n",
    "\n",
    "$x_{i1} = \\left\\{\\begin{array}{11} 1 & \\mbox{if the ith picture has mostly puppies} \\\\ 0 & \\mbox{if the ith picture does not have mostly puppies} \\end{array} \\right. $\n",
    "\n",
    "$x_{i2} = \\left\\{\\begin{array}{11} 1 & \\mbox{if the ith picture has mostly elderly dogs} \\\\ 0 & \\mbox{if the ith picture does not have mostly elderly dogs} \\end{array} \\right. $\n",
    "\n",
    "$$y_i \\sim \\beta_0 + \\beta_1 x_{i1} + \\beta_2 x_{i2} + \\epsilon_i = \\left\\{\\begin{array}{111} \\beta_0 + \\beta_1 + \\epsilon_i & \\mbox{if ith picture has mostly puppies} \\\\ \\beta_0 + \\beta_2 + \\epsilon_i & \\mbox{if ith picture has mostly elderly dogs} \\\\ \\beta_0 + \\epsilon_i & \\mbox{if ith picture has mostly middle aged dogs}\\end{array} \\right.$$"
   ]
  },
  {
   "cell_type": "markdown",
   "metadata": {
    "slideshow": {
     "slide_type": "slide"
    }
   },
   "source": [
    "## Once again\n",
    "Interpretation of coefficients changes\n",
    "\n",
    "* What is $\\beta_0$ now? It's picture of mostly middle aged dogs.\n",
    "* What is $\\beta_1$? The picture has mostly puppies.\n",
    "* What is $\\beta_2$? The picture has mostly elderly dogs."
   ]
  },
  {
   "cell_type": "markdown",
   "metadata": {
    "slideshow": {
     "slide_type": "slide"
    }
   },
   "source": [
    "## How do we use this?"
   ]
  },
  {
   "cell_type": "code",
   "execution_count": 8,
   "metadata": {
    "collapsed": false,
    "slideshow": {
     "slide_type": "fragment"
    }
   },
   "outputs": [
    {
     "data": {
      "text/html": [
       "<div>\n",
       "<table border=\"1\" class=\"dataframe\">\n",
       "  <thead>\n",
       "    <tr style=\"text-align: right;\">\n",
       "      <th></th>\n",
       "      <th>num_puppies</th>\n",
       "      <th>has_other_animals</th>\n",
       "      <th>age_group</th>\n",
       "      <th>score</th>\n",
       "      <th>others_yes</th>\n",
       "      <th>puppy</th>\n",
       "      <th>elderly</th>\n",
       "    </tr>\n",
       "  </thead>\n",
       "  <tbody>\n",
       "    <tr>\n",
       "      <th>0</th>\n",
       "      <td>9.0</td>\n",
       "      <td>no</td>\n",
       "      <td>puppy</td>\n",
       "      <td>44.275767</td>\n",
       "      <td>0</td>\n",
       "      <td>1</td>\n",
       "      <td>0</td>\n",
       "    </tr>\n",
       "    <tr>\n",
       "      <th>1</th>\n",
       "      <td>2.0</td>\n",
       "      <td>no</td>\n",
       "      <td>elderly dog</td>\n",
       "      <td>14.183560</td>\n",
       "      <td>0</td>\n",
       "      <td>0</td>\n",
       "      <td>1</td>\n",
       "    </tr>\n",
       "    <tr>\n",
       "      <th>2</th>\n",
       "      <td>6.0</td>\n",
       "      <td>no</td>\n",
       "      <td>puppy</td>\n",
       "      <td>34.224926</td>\n",
       "      <td>0</td>\n",
       "      <td>1</td>\n",
       "      <td>0</td>\n",
       "    </tr>\n",
       "    <tr>\n",
       "      <th>3</th>\n",
       "      <td>4.0</td>\n",
       "      <td>no</td>\n",
       "      <td>puppy</td>\n",
       "      <td>27.896977</td>\n",
       "      <td>0</td>\n",
       "      <td>1</td>\n",
       "      <td>0</td>\n",
       "    </tr>\n",
       "    <tr>\n",
       "      <th>4</th>\n",
       "      <td>1.0</td>\n",
       "      <td>yes</td>\n",
       "      <td>elderly dog</td>\n",
       "      <td>26.467922</td>\n",
       "      <td>1</td>\n",
       "      <td>0</td>\n",
       "      <td>1</td>\n",
       "    </tr>\n",
       "  </tbody>\n",
       "</table>\n",
       "</div>"
      ],
      "text/plain": [
       "   num_puppies has_other_animals    age_group      score  others_yes  puppy  \\\n",
       "0          9.0                no        puppy  44.275767           0      1   \n",
       "1          2.0                no  elderly dog  14.183560           0      0   \n",
       "2          6.0                no        puppy  34.224926           0      1   \n",
       "3          4.0                no        puppy  27.896977           0      1   \n",
       "4          1.0               yes  elderly dog  26.467922           1      0   \n",
       "\n",
       "   elderly  \n",
       "0        0  \n",
       "1        1  \n",
       "2        0  \n",
       "3        0  \n",
       "4        1  "
      ]
     },
     "execution_count": 8,
     "metadata": {},
     "output_type": "execute_result"
    }
   ],
   "source": [
    "data.head()"
   ]
  },
  {
   "cell_type": "code",
   "execution_count": 9,
   "metadata": {
    "collapsed": false,
    "slideshow": {
     "slide_type": "slide"
    }
   },
   "outputs": [
    {
     "data": {
      "text/html": [
       "<table class=\"simpletable\">\n",
       "<caption>OLS Regression Results</caption>\n",
       "<tr>\n",
       "  <th>Dep. Variable:</th>          <td>score</td>      <th>  R-squared:         </th> <td>   0.928</td>\n",
       "</tr>\n",
       "<tr>\n",
       "  <th>Model:</th>                   <td>OLS</td>       <th>  Adj. R-squared:    </th> <td>   0.927</td>\n",
       "</tr>\n",
       "<tr>\n",
       "  <th>Method:</th>             <td>Least Squares</td>  <th>  F-statistic:       </th> <td>   3185.</td>\n",
       "</tr>\n",
       "<tr>\n",
       "  <th>Date:</th>             <td>Thu, 06 Oct 2016</td> <th>  Prob (F-statistic):</th>  <td>  0.00</td> \n",
       "</tr>\n",
       "<tr>\n",
       "  <th>Time:</th>                 <td>16:50:17</td>     <th>  Log-Likelihood:    </th> <td> -2802.9</td>\n",
       "</tr>\n",
       "<tr>\n",
       "  <th>No. Observations:</th>      <td>  1000</td>      <th>  AIC:               </th> <td>   5616.</td>\n",
       "</tr>\n",
       "<tr>\n",
       "  <th>Df Residuals:</th>          <td>   995</td>      <th>  BIC:               </th> <td>   5640.</td>\n",
       "</tr>\n",
       "<tr>\n",
       "  <th>Df Model:</th>              <td>     4</td>      <th>                     </th>     <td> </td>   \n",
       "</tr>\n",
       "<tr>\n",
       "  <th>Covariance Type:</th>      <td>nonrobust</td>    <th>                     </th>     <td> </td>   \n",
       "</tr>\n",
       "</table>\n",
       "<table class=\"simpletable\">\n",
       "<tr>\n",
       "       <td></td>          <th>coef</th>     <th>std err</th>      <th>t</th>      <th>P>|t|</th> <th>[95.0% Conf. Int.]</th> \n",
       "</tr>\n",
       "<tr>\n",
       "  <th>const</th>       <td>   -3.7037</td> <td>    0.350</td> <td>  -10.579</td> <td> 0.000</td> <td>   -4.391    -3.017</td>\n",
       "</tr>\n",
       "<tr>\n",
       "  <th>num_puppies</th> <td>    3.0937</td> <td>    0.044</td> <td>   69.982</td> <td> 0.000</td> <td>    3.007     3.180</td>\n",
       "</tr>\n",
       "<tr>\n",
       "  <th>others_yes</th>  <td>   22.1934</td> <td>    0.326</td> <td>   68.136</td> <td> 0.000</td> <td>   21.554    22.833</td>\n",
       "</tr>\n",
       "<tr>\n",
       "  <th>puppy</th>       <td>   17.7626</td> <td>    0.340</td> <td>   52.199</td> <td> 0.000</td> <td>   17.095    18.430</td>\n",
       "</tr>\n",
       "<tr>\n",
       "  <th>elderly</th>     <td>    9.3576</td> <td>    0.372</td> <td>   25.125</td> <td> 0.000</td> <td>    8.627    10.088</td>\n",
       "</tr>\n",
       "</table>\n",
       "<table class=\"simpletable\">\n",
       "<tr>\n",
       "  <th>Omnibus:</th>       <td>159.416</td> <th>  Durbin-Watson:     </th> <td>   2.101</td> \n",
       "</tr>\n",
       "<tr>\n",
       "  <th>Prob(Omnibus):</th> <td> 0.000</td>  <th>  Jarque-Bera (JB):  </th> <td>1071.886</td> \n",
       "</tr>\n",
       "<tr>\n",
       "  <th>Skew:</th>          <td> 0.534</td>  <th>  Prob(JB):          </th> <td>1.75e-233</td>\n",
       "</tr>\n",
       "<tr>\n",
       "  <th>Kurtosis:</th>      <td> 7.958</td>  <th>  Cond. No.          </th> <td>    22.0</td> \n",
       "</tr>\n",
       "</table>"
      ],
      "text/plain": [
       "<class 'statsmodels.iolib.summary.Summary'>\n",
       "\"\"\"\n",
       "                            OLS Regression Results                            \n",
       "==============================================================================\n",
       "Dep. Variable:                  score   R-squared:                       0.928\n",
       "Model:                            OLS   Adj. R-squared:                  0.927\n",
       "Method:                 Least Squares   F-statistic:                     3185.\n",
       "Date:                Thu, 06 Oct 2016   Prob (F-statistic):               0.00\n",
       "Time:                        16:50:17   Log-Likelihood:                -2802.9\n",
       "No. Observations:                1000   AIC:                             5616.\n",
       "Df Residuals:                     995   BIC:                             5640.\n",
       "Df Model:                           4                                         \n",
       "Covariance Type:            nonrobust                                         \n",
       "===============================================================================\n",
       "                  coef    std err          t      P>|t|      [95.0% Conf. Int.]\n",
       "-------------------------------------------------------------------------------\n",
       "const          -3.7037      0.350    -10.579      0.000        -4.391    -3.017\n",
       "num_puppies     3.0937      0.044     69.982      0.000         3.007     3.180\n",
       "others_yes     22.1934      0.326     68.136      0.000        21.554    22.833\n",
       "puppy          17.7626      0.340     52.199      0.000        17.095    18.430\n",
       "elderly         9.3576      0.372     25.125      0.000         8.627    10.088\n",
       "==============================================================================\n",
       "Omnibus:                      159.416   Durbin-Watson:                   2.101\n",
       "Prob(Omnibus):                  0.000   Jarque-Bera (JB):             1071.886\n",
       "Skew:                           0.534   Prob(JB):                    1.75e-233\n",
       "Kurtosis:                       7.958   Cond. No.                         22.0\n",
       "==============================================================================\n",
       "\n",
       "Warnings:\n",
       "[1] Standard Errors assume that the covariance matrix of the errors is correctly specified.\n",
       "\"\"\""
      ]
     },
     "execution_count": 9,
     "metadata": {},
     "output_type": "execute_result"
    }
   ],
   "source": [
    "y = data.score\n",
    "X = data[['num_puppies','others_yes','puppy','elderly']]\n",
    "X = sm.add_constant(X)  # <- add in constant term\n",
    "\n",
    "model = sm.OLS(y, X)\n",
    "results = model.fit()\n",
    "results.summary()"
   ]
  },
  {
   "cell_type": "markdown",
   "metadata": {
    "slideshow": {
     "slide_type": "slide"
    }
   },
   "source": [
    "## Note before we move on\n",
    "\n",
    "You can add dummy variables to a data frame automatically with pd.get_dummies\n",
    "\n",
    "### Important\n",
    "This adds columns for all categories, so it does not have a baseline, you can remove the columns you don't want afterwards"
   ]
  },
  {
   "cell_type": "code",
   "execution_count": 10,
   "metadata": {
    "collapsed": false,
    "slideshow": {
     "slide_type": "slide"
    }
   },
   "outputs": [
    {
     "data": {
      "text/html": [
       "<div>\n",
       "<table border=\"1\" class=\"dataframe\">\n",
       "  <thead>\n",
       "    <tr style=\"text-align: right;\">\n",
       "      <th></th>\n",
       "      <th>num_puppies</th>\n",
       "      <th>score</th>\n",
       "      <th>has_other_animals_no</th>\n",
       "      <th>has_other_animals_yes</th>\n",
       "      <th>age_group_dog</th>\n",
       "      <th>age_group_elderly dog</th>\n",
       "      <th>age_group_puppy</th>\n",
       "    </tr>\n",
       "  </thead>\n",
       "  <tbody>\n",
       "    <tr>\n",
       "      <th>0</th>\n",
       "      <td>9.0</td>\n",
       "      <td>44.275767</td>\n",
       "      <td>1.0</td>\n",
       "      <td>0.0</td>\n",
       "      <td>0.0</td>\n",
       "      <td>0.0</td>\n",
       "      <td>1.0</td>\n",
       "    </tr>\n",
       "    <tr>\n",
       "      <th>1</th>\n",
       "      <td>2.0</td>\n",
       "      <td>14.183560</td>\n",
       "      <td>1.0</td>\n",
       "      <td>0.0</td>\n",
       "      <td>0.0</td>\n",
       "      <td>1.0</td>\n",
       "      <td>0.0</td>\n",
       "    </tr>\n",
       "    <tr>\n",
       "      <th>2</th>\n",
       "      <td>6.0</td>\n",
       "      <td>34.224926</td>\n",
       "      <td>1.0</td>\n",
       "      <td>0.0</td>\n",
       "      <td>0.0</td>\n",
       "      <td>0.0</td>\n",
       "      <td>1.0</td>\n",
       "    </tr>\n",
       "    <tr>\n",
       "      <th>3</th>\n",
       "      <td>4.0</td>\n",
       "      <td>27.896977</td>\n",
       "      <td>1.0</td>\n",
       "      <td>0.0</td>\n",
       "      <td>0.0</td>\n",
       "      <td>0.0</td>\n",
       "      <td>1.0</td>\n",
       "    </tr>\n",
       "    <tr>\n",
       "      <th>4</th>\n",
       "      <td>1.0</td>\n",
       "      <td>26.467922</td>\n",
       "      <td>0.0</td>\n",
       "      <td>1.0</td>\n",
       "      <td>0.0</td>\n",
       "      <td>1.0</td>\n",
       "      <td>0.0</td>\n",
       "    </tr>\n",
       "  </tbody>\n",
       "</table>\n",
       "</div>"
      ],
      "text/plain": [
       "   num_puppies      score  has_other_animals_no  has_other_animals_yes  \\\n",
       "0          9.0  44.275767                   1.0                    0.0   \n",
       "1          2.0  14.183560                   1.0                    0.0   \n",
       "2          6.0  34.224926                   1.0                    0.0   \n",
       "3          4.0  27.896977                   1.0                    0.0   \n",
       "4          1.0  26.467922                   0.0                    1.0   \n",
       "\n",
       "   age_group_dog  age_group_elderly dog  age_group_puppy  \n",
       "0            0.0                    0.0              1.0  \n",
       "1            0.0                    1.0              0.0  \n",
       "2            0.0                    0.0              1.0  \n",
       "3            0.0                    0.0              1.0  \n",
       "4            0.0                    1.0              0.0  "
      ]
     },
     "execution_count": 10,
     "metadata": {},
     "output_type": "execute_result"
    }
   ],
   "source": [
    "test = pd.get_dummies(fake_puppy_data)\n",
    "test.head()"
   ]
  },
  {
   "cell_type": "markdown",
   "metadata": {
    "slideshow": {
     "slide_type": "slide"
    }
   },
   "source": [
    "Our model before was fairly good, but how to investigate?\n",
    "\n",
    "Since we only have 1 continuous variable we can visualize in two dimensions, and we would expect different offsets for each line, but the same slope."
   ]
  },
  {
   "cell_type": "code",
   "execution_count": 11,
   "metadata": {
    "collapsed": false,
    "slideshow": {
     "slide_type": "fragment"
    }
   },
   "outputs": [
    {
     "data": {
      "image/png": "[encoded data removed]",
      "text/plain": [
       "<matplotlib.figure.Figure at 0x115eb3e10>"
      ]
     },
     "metadata": {},
     "output_type": "display_data"
    }
   ],
   "source": [
    "data.plot(x='num_puppies', y='score', kind='scatter');"
   ]
  },
  {
   "cell_type": "markdown",
   "metadata": {
    "slideshow": {
     "slide_type": "slide"
    }
   },
   "source": [
    "## Lets try to clear this up a little"
   ]
  },
  {
   "cell_type": "code",
   "execution_count": 12,
   "metadata": {
    "collapsed": false
   },
   "outputs": [
    {
     "data": {
      "image/png": "[encoded data removed]",
      "text/plain": [
       "<matplotlib.figure.Figure at 0x115f74f28>"
      ]
     },
     "metadata": {},
     "output_type": "display_data"
    }
   ],
   "source": [
    "p_data = data[data.puppy == 1]\n",
    "p_data.plot(x='num_puppies', y='score', kind='scatter', color='b', label='puppy');"
   ]
  },
  {
   "cell_type": "markdown",
   "metadata": {
    "slideshow": {
     "slide_type": "slide"
    }
   },
   "source": [
    "### Our model assumes that the slopes of these lines are the same"
   ]
  },
  {
   "cell_type": "code",
   "execution_count": 13,
   "metadata": {
    "collapsed": false
   },
   "outputs": [
    {
     "data": {
      "image/png": "[encoded data removed]",
      "text/plain": [
       "<matplotlib.figure.Figure at 0x11a71ba58>"
      ]
     },
     "metadata": {},
     "output_type": "display_data"
    }
   ],
   "source": [
    "scatter(p_data.num_puppies,\n",
    "        results.fittedvalues[data.puppy == 1],\n",
    "        color='m',\n",
    "        marker='x',\n",
    "        label='fitted puppies')\n",
    "legend(loc=4);"
   ]
  },
  {
   "cell_type": "code",
   "execution_count": 14,
   "metadata": {
    "collapsed": false
   },
   "outputs": [
    {
     "data": {
      "image/png": "[encoded data removed]",
      "text/plain": [
       "<matplotlib.figure.Figure at 0x11a779390>"
      ]
     },
     "metadata": {},
     "output_type": "display_data"
    }
   ],
   "source": [
    "p_data.plot(x='num_puppies', y='score', kind='scatter', color='b', label='puppy', alpha=.2)\n",
    "scatter(p_data.num_puppies,\n",
    "        results.fittedvalues[data.puppy == 1],\n",
    "        color='m',\n",
    "        marker='x',\n",
    "        label='fitted puppies')\n",
    "legend(loc=4);"
   ]
  },
  {
   "cell_type": "code",
   "execution_count": 15,
   "metadata": {
    "collapsed": false,
    "slideshow": {
     "slide_type": "slide"
    }
   },
   "outputs": [
    {
     "data": {
      "image/png": "[encoded data removed]",
      "text/plain": [
       "<matplotlib.figure.Figure at 0x11a6ff7b8>"
      ]
     },
     "metadata": {},
     "output_type": "display_data"
    }
   ],
   "source": [
    "lmplot('num_puppies', 'score', p_data, 'has_other_animals', fit_reg=False);"
   ]
  },
  {
   "cell_type": "markdown",
   "metadata": {
    "slideshow": {
     "slide_type": "slide"
    }
   },
   "source": [
    "## Interactions\n",
    "\n",
    "We can add interaction terms by multiplying columns together\n",
    "$$y \\sim \\beta_0 + \\beta_1 \\times x_1 + \\beta_2 \\times x_2 + \\beta_3 \\times x_1 \\times x_2 $$\n",
    "so if $x_2$ is other animals:\n",
    "$$y_i = \\left\\{\\begin{array}{11} (\\beta_0 + \\beta_2) + (\\beta_1 + \\beta_3) \\times x_{1i} + \\epsilon_i & \\mbox{if the ith photo has other animals} \\\\ \\beta_0 + \\beta_1 \\times x_{1i} + \\epsilon_i & \\mbox{if ith picture has no other animals} \\end{array} \\right.$$"
   ]
  },
  {
   "cell_type": "code",
   "execution_count": 16,
   "metadata": {
    "collapsed": false
   },
   "outputs": [
    {
     "data": {
      "image/png": "[encoded data removed]",
      "text/plain": [
       "<matplotlib.figure.Figure at 0x11a4f99e8>"
      ]
     },
     "metadata": {},
     "output_type": "display_data"
    }
   ],
   "source": [
    "lmplot('num_puppies', 'score', fake_puppy_data, 'has_other_animals', 'age_group');"
   ]
  },
  {
   "cell_type": "markdown",
   "metadata": {},
   "source": [
    "To make our lives easier, we are going to start using R-style formulas courtesy of the library [`patsy`](http://patsy.readthedocs.io/en/latest/) which should have been installed automatically along with statsmodels."
   ]
  },
  {
   "cell_type": "code",
   "execution_count": 17,
   "metadata": {
    "collapsed": true,
    "slideshow": {
     "slide_type": "fragment"
    }
   },
   "outputs": [],
   "source": [
    "import statsmodels.formula.api as smf"
   ]
  },
  {
   "cell_type": "code",
   "execution_count": 18,
   "metadata": {
    "collapsed": false,
    "slideshow": {
     "slide_type": "fragment"
    }
   },
   "outputs": [
    {
     "data": {
      "text/html": [
       "<table class=\"simpletable\">\n",
       "<caption>OLS Regression Results</caption>\n",
       "<tr>\n",
       "  <th>Dep. Variable:</th>          <td>score</td>      <th>  R-squared:         </th> <td>   0.928</td>\n",
       "</tr>\n",
       "<tr>\n",
       "  <th>Model:</th>                   <td>OLS</td>       <th>  Adj. R-squared:    </th> <td>   0.927</td>\n",
       "</tr>\n",
       "<tr>\n",
       "  <th>Method:</th>             <td>Least Squares</td>  <th>  F-statistic:       </th> <td>   3185.</td>\n",
       "</tr>\n",
       "<tr>\n",
       "  <th>Date:</th>             <td>Thu, 06 Oct 2016</td> <th>  Prob (F-statistic):</th>  <td>  0.00</td> \n",
       "</tr>\n",
       "<tr>\n",
       "  <th>Time:</th>                 <td>16:50:20</td>     <th>  Log-Likelihood:    </th> <td> -2802.9</td>\n",
       "</tr>\n",
       "<tr>\n",
       "  <th>No. Observations:</th>      <td>  1000</td>      <th>  AIC:               </th> <td>   5616.</td>\n",
       "</tr>\n",
       "<tr>\n",
       "  <th>Df Residuals:</th>          <td>   995</td>      <th>  BIC:               </th> <td>   5640.</td>\n",
       "</tr>\n",
       "<tr>\n",
       "  <th>Df Model:</th>              <td>     4</td>      <th>                     </th>     <td> </td>   \n",
       "</tr>\n",
       "<tr>\n",
       "  <th>Covariance Type:</th>      <td>nonrobust</td>    <th>                     </th>     <td> </td>   \n",
       "</tr>\n",
       "</table>\n",
       "<table class=\"simpletable\">\n",
       "<tr>\n",
       "              <td></td>                <th>coef</th>     <th>std err</th>      <th>t</th>      <th>P>|t|</th> <th>[95.0% Conf. Int.]</th> \n",
       "</tr>\n",
       "<tr>\n",
       "  <th>Intercept</th>                <td>   -3.7037</td> <td>    0.350</td> <td>  -10.579</td> <td> 0.000</td> <td>   -4.391    -3.017</td>\n",
       "</tr>\n",
       "<tr>\n",
       "  <th>has_other_animals[T.yes]</th> <td>   22.1934</td> <td>    0.326</td> <td>   68.136</td> <td> 0.000</td> <td>   21.554    22.833</td>\n",
       "</tr>\n",
       "<tr>\n",
       "  <th>age_group[T.elderly dog]</th> <td>    9.3576</td> <td>    0.372</td> <td>   25.125</td> <td> 0.000</td> <td>    8.627    10.088</td>\n",
       "</tr>\n",
       "<tr>\n",
       "  <th>age_group[T.puppy]</th>       <td>   17.7626</td> <td>    0.340</td> <td>   52.199</td> <td> 0.000</td> <td>   17.095    18.430</td>\n",
       "</tr>\n",
       "<tr>\n",
       "  <th>num_puppies</th>              <td>    3.0937</td> <td>    0.044</td> <td>   69.982</td> <td> 0.000</td> <td>    3.007     3.180</td>\n",
       "</tr>\n",
       "</table>\n",
       "<table class=\"simpletable\">\n",
       "<tr>\n",
       "  <th>Omnibus:</th>       <td>159.416</td> <th>  Durbin-Watson:     </th> <td>   2.101</td> \n",
       "</tr>\n",
       "<tr>\n",
       "  <th>Prob(Omnibus):</th> <td> 0.000</td>  <th>  Jarque-Bera (JB):  </th> <td>1071.886</td> \n",
       "</tr>\n",
       "<tr>\n",
       "  <th>Skew:</th>          <td> 0.534</td>  <th>  Prob(JB):          </th> <td>1.75e-233</td>\n",
       "</tr>\n",
       "<tr>\n",
       "  <th>Kurtosis:</th>      <td> 7.958</td>  <th>  Cond. No.          </th> <td>    22.0</td> \n",
       "</tr>\n",
       "</table>"
      ],
      "text/plain": [
       "<class 'statsmodels.iolib.summary.Summary'>\n",
       "\"\"\"\n",
       "                            OLS Regression Results                            \n",
       "==============================================================================\n",
       "Dep. Variable:                  score   R-squared:                       0.928\n",
       "Model:                            OLS   Adj. R-squared:                  0.927\n",
       "Method:                 Least Squares   F-statistic:                     3185.\n",
       "Date:                Thu, 06 Oct 2016   Prob (F-statistic):               0.00\n",
       "Time:                        16:50:20   Log-Likelihood:                -2802.9\n",
       "No. Observations:                1000   AIC:                             5616.\n",
       "Df Residuals:                     995   BIC:                             5640.\n",
       "Df Model:                           4                                         \n",
       "Covariance Type:            nonrobust                                         \n",
       "============================================================================================\n",
       "                               coef    std err          t      P>|t|      [95.0% Conf. Int.]\n",
       "--------------------------------------------------------------------------------------------\n",
       "Intercept                   -3.7037      0.350    -10.579      0.000        -4.391    -3.017\n",
       "has_other_animals[T.yes]    22.1934      0.326     68.136      0.000        21.554    22.833\n",
       "age_group[T.elderly dog]     9.3576      0.372     25.125      0.000         8.627    10.088\n",
       "age_group[T.puppy]          17.7626      0.340     52.199      0.000        17.095    18.430\n",
       "num_puppies                  3.0937      0.044     69.982      0.000         3.007     3.180\n",
       "==============================================================================\n",
       "Omnibus:                      159.416   Durbin-Watson:                   2.101\n",
       "Prob(Omnibus):                  0.000   Jarque-Bera (JB):             1071.886\n",
       "Skew:                           0.534   Prob(JB):                    1.75e-233\n",
       "Kurtosis:                       7.958   Cond. No.                         22.0\n",
       "==============================================================================\n",
       "\n",
       "Warnings:\n",
       "[1] Standard Errors assume that the covariance matrix of the errors is correctly specified.\n",
       "\"\"\""
      ]
     },
     "execution_count": 18,
     "metadata": {},
     "output_type": "execute_result"
    }
   ],
   "source": [
    "model2 = smf.ols(formula='score ~ num_puppies + has_other_animals + age_group', data=fake_puppy_data)\n",
    "results2 = model2.fit()\n",
    "results2.summary()"
   ]
  },
  {
   "cell_type": "markdown",
   "metadata": {},
   "source": [
    "Notice that when we use a formula, `patsy` automatically adds an Intercept term and transforms categorical variables into dummies."
   ]
  },
  {
   "cell_type": "code",
   "execution_count": 19,
   "metadata": {
    "collapsed": false,
    "slideshow": {
     "slide_type": "slide"
    }
   },
   "outputs": [
    {
     "data": {
      "text/html": [
       "<div>\n",
       "<table border=\"1\" class=\"dataframe\">\n",
       "  <thead>\n",
       "    <tr style=\"text-align: right;\">\n",
       "      <th></th>\n",
       "      <th>num_puppies</th>\n",
       "      <th>has_other_animals</th>\n",
       "      <th>age_group</th>\n",
       "      <th>score</th>\n",
       "      <th>others_yes</th>\n",
       "      <th>puppy</th>\n",
       "      <th>elderly</th>\n",
       "    </tr>\n",
       "  </thead>\n",
       "  <tbody>\n",
       "    <tr>\n",
       "      <th>0</th>\n",
       "      <td>9.0</td>\n",
       "      <td>no</td>\n",
       "      <td>puppy</td>\n",
       "      <td>44.275767</td>\n",
       "      <td>0</td>\n",
       "      <td>1</td>\n",
       "      <td>0</td>\n",
       "    </tr>\n",
       "    <tr>\n",
       "      <th>1</th>\n",
       "      <td>2.0</td>\n",
       "      <td>no</td>\n",
       "      <td>elderly dog</td>\n",
       "      <td>14.183560</td>\n",
       "      <td>0</td>\n",
       "      <td>0</td>\n",
       "      <td>1</td>\n",
       "    </tr>\n",
       "    <tr>\n",
       "      <th>2</th>\n",
       "      <td>6.0</td>\n",
       "      <td>no</td>\n",
       "      <td>puppy</td>\n",
       "      <td>34.224926</td>\n",
       "      <td>0</td>\n",
       "      <td>1</td>\n",
       "      <td>0</td>\n",
       "    </tr>\n",
       "    <tr>\n",
       "      <th>3</th>\n",
       "      <td>4.0</td>\n",
       "      <td>no</td>\n",
       "      <td>puppy</td>\n",
       "      <td>27.896977</td>\n",
       "      <td>0</td>\n",
       "      <td>1</td>\n",
       "      <td>0</td>\n",
       "    </tr>\n",
       "    <tr>\n",
       "      <th>4</th>\n",
       "      <td>1.0</td>\n",
       "      <td>yes</td>\n",
       "      <td>elderly dog</td>\n",
       "      <td>26.467922</td>\n",
       "      <td>1</td>\n",
       "      <td>0</td>\n",
       "      <td>1</td>\n",
       "    </tr>\n",
       "  </tbody>\n",
       "</table>\n",
       "</div>"
      ],
      "text/plain": [
       "   num_puppies has_other_animals    age_group      score  others_yes  puppy  \\\n",
       "0          9.0                no        puppy  44.275767           0      1   \n",
       "1          2.0                no  elderly dog  14.183560           0      0   \n",
       "2          6.0                no        puppy  34.224926           0      1   \n",
       "3          4.0                no        puppy  27.896977           0      1   \n",
       "4          1.0               yes  elderly dog  26.467922           1      0   \n",
       "\n",
       "   elderly  \n",
       "0        0  \n",
       "1        1  \n",
       "2        0  \n",
       "3        0  \n",
       "4        1  "
      ]
     },
     "execution_count": 19,
     "metadata": {},
     "output_type": "execute_result"
    }
   ],
   "source": [
    "data.head()"
   ]
  },
  {
   "cell_type": "markdown",
   "metadata": {},
   "source": [
    "We can also use formulas to model interactions:"
   ]
  },
  {
   "cell_type": "code",
   "execution_count": 20,
   "metadata": {
    "collapsed": false,
    "slideshow": {
     "slide_type": "slide"
    }
   },
   "outputs": [],
   "source": [
    "formula = 'score ~ num_puppies * others_yes + puppy + elderly'"
   ]
  },
  {
   "cell_type": "code",
   "execution_count": 21,
   "metadata": {
    "collapsed": false,
    "slideshow": {
     "slide_type": "fragment"
    }
   },
   "outputs": [
    {
     "data": {
      "text/html": [
       "<table class=\"simpletable\">\n",
       "<caption>OLS Regression Results</caption>\n",
       "<tr>\n",
       "  <th>Dep. Variable:</th>          <td>score</td>      <th>  R-squared:         </th> <td>   0.973</td>\n",
       "</tr>\n",
       "<tr>\n",
       "  <th>Model:</th>                   <td>OLS</td>       <th>  Adj. R-squared:    </th> <td>   0.973</td>\n",
       "</tr>\n",
       "<tr>\n",
       "  <th>Method:</th>             <td>Least Squares</td>  <th>  F-statistic:       </th> <td>   7204.</td>\n",
       "</tr>\n",
       "<tr>\n",
       "  <th>Date:</th>             <td>Thu, 06 Oct 2016</td> <th>  Prob (F-statistic):</th>  <td>  0.00</td> \n",
       "</tr>\n",
       "<tr>\n",
       "  <th>Time:</th>                 <td>16:50:20</td>     <th>  Log-Likelihood:    </th> <td> -2306.6</td>\n",
       "</tr>\n",
       "<tr>\n",
       "  <th>No. Observations:</th>      <td>  1000</td>      <th>  AIC:               </th> <td>   4625.</td>\n",
       "</tr>\n",
       "<tr>\n",
       "  <th>Df Residuals:</th>          <td>   994</td>      <th>  BIC:               </th> <td>   4655.</td>\n",
       "</tr>\n",
       "<tr>\n",
       "  <th>Df Model:</th>              <td>     5</td>      <th>                     </th>     <td> </td>   \n",
       "</tr>\n",
       "<tr>\n",
       "  <th>Covariance Type:</th>      <td>nonrobust</td>    <th>                     </th>     <td> </td>   \n",
       "</tr>\n",
       "</table>\n",
       "<table class=\"simpletable\">\n",
       "<tr>\n",
       "             <td></td>               <th>coef</th>     <th>std err</th>      <th>t</th>      <th>P>|t|</th> <th>[95.0% Conf. Int.]</th> \n",
       "</tr>\n",
       "<tr>\n",
       "  <th>Intercept</th>              <td>   -1.8722</td> <td>    0.218</td> <td>   -8.594</td> <td> 0.000</td> <td>   -2.300    -1.445</td>\n",
       "</tr>\n",
       "<tr>\n",
       "  <th>num_puppies</th>            <td>    2.5808</td> <td>    0.030</td> <td>   86.956</td> <td> 0.000</td> <td>    2.523     2.639</td>\n",
       "</tr>\n",
       "<tr>\n",
       "  <th>others_yes</th>             <td>   10.3213</td> <td>    0.351</td> <td>   29.445</td> <td> 0.000</td> <td>    9.633    11.009</td>\n",
       "</tr>\n",
       "<tr>\n",
       "  <th>num_puppies:others_yes</th> <td>    2.8832</td> <td>    0.070</td> <td>   41.084</td> <td> 0.000</td> <td>    2.746     3.021</td>\n",
       "</tr>\n",
       "<tr>\n",
       "  <th>puppy</th>                  <td>   18.0553</td> <td>    0.207</td> <td>   87.059</td> <td> 0.000</td> <td>   17.648    18.462</td>\n",
       "</tr>\n",
       "<tr>\n",
       "  <th>elderly</th>                <td>    9.8107</td> <td>    0.227</td> <td>   43.196</td> <td> 0.000</td> <td>    9.365    10.256</td>\n",
       "</tr>\n",
       "</table>\n",
       "<table class=\"simpletable\">\n",
       "<tr>\n",
       "  <th>Omnibus:</th>       <td> 9.367</td> <th>  Durbin-Watson:     </th> <td>   2.035</td>\n",
       "</tr>\n",
       "<tr>\n",
       "  <th>Prob(Omnibus):</th> <td> 0.009</td> <th>  Jarque-Bera (JB):  </th> <td>  13.683</td>\n",
       "</tr>\n",
       "<tr>\n",
       "  <th>Skew:</th>          <td> 0.011</td> <th>  Prob(JB):          </th> <td> 0.00107</td>\n",
       "</tr>\n",
       "<tr>\n",
       "  <th>Kurtosis:</th>      <td> 3.573</td> <th>  Cond. No.          </th> <td>    24.4</td>\n",
       "</tr>\n",
       "</table>"
      ],
      "text/plain": [
       "<class 'statsmodels.iolib.summary.Summary'>\n",
       "\"\"\"\n",
       "                            OLS Regression Results                            \n",
       "==============================================================================\n",
       "Dep. Variable:                  score   R-squared:                       0.973\n",
       "Model:                            OLS   Adj. R-squared:                  0.973\n",
       "Method:                 Least Squares   F-statistic:                     7204.\n",
       "Date:                Thu, 06 Oct 2016   Prob (F-statistic):               0.00\n",
       "Time:                        16:50:20   Log-Likelihood:                -2306.6\n",
       "No. Observations:                1000   AIC:                             4625.\n",
       "Df Residuals:                     994   BIC:                             4655.\n",
       "Df Model:                           5                                         \n",
       "Covariance Type:            nonrobust                                         \n",
       "==========================================================================================\n",
       "                             coef    std err          t      P>|t|      [95.0% Conf. Int.]\n",
       "------------------------------------------------------------------------------------------\n",
       "Intercept                 -1.8722      0.218     -8.594      0.000        -2.300    -1.445\n",
       "num_puppies                2.5808      0.030     86.956      0.000         2.523     2.639\n",
       "others_yes                10.3213      0.351     29.445      0.000         9.633    11.009\n",
       "num_puppies:others_yes     2.8832      0.070     41.084      0.000         2.746     3.021\n",
       "puppy                     18.0553      0.207     87.059      0.000        17.648    18.462\n",
       "elderly                    9.8107      0.227     43.196      0.000         9.365    10.256\n",
       "==============================================================================\n",
       "Omnibus:                        9.367   Durbin-Watson:                   2.035\n",
       "Prob(Omnibus):                  0.009   Jarque-Bera (JB):               13.683\n",
       "Skew:                           0.011   Prob(JB):                      0.00107\n",
       "Kurtosis:                       3.573   Cond. No.                         24.4\n",
       "==============================================================================\n",
       "\n",
       "Warnings:\n",
       "[1] Standard Errors assume that the covariance matrix of the errors is correctly specified.\n",
       "\"\"\""
      ]
     },
     "execution_count": 21,
     "metadata": {},
     "output_type": "execute_result"
    }
   ],
   "source": [
    "model3 = smf.ols(formula = formula,data = data)\n",
    "results3 = model3.fit()\n",
    "results3.summary()"
   ]
  },
  {
   "cell_type": "code",
   "execution_count": 22,
   "metadata": {
    "collapsed": false,
    "slideshow": {
     "slide_type": "slide"
    }
   },
   "outputs": [
    {
     "data": {
      "image/png": "[encoded data removed]",
      "text/plain": [
       "<matplotlib.figure.Figure at 0x11ae547f0>"
      ]
     },
     "metadata": {},
     "output_type": "display_data"
    }
   ],
   "source": [
    "p_data.plot(x='num_puppies',y='score',kind='scatter',color='b',label='puppy')\n",
    "scatter(p_data.num_puppies, results3.fittedvalues[data['puppy']==1], color='y', marker='x' ,label = 'fitted puppies');"
   ]
  },
  {
   "cell_type": "markdown",
   "metadata": {
    "slideshow": {
     "slide_type": "slide"
    }
   },
   "source": [
    "## Interactions between multiple continuous variables\n",
    "\n",
    "We can add interaction terms by multiplying columns together\n",
    "$$y \\sim \\beta_0 + \\beta_1 \\times x_1 + \\beta_2 \\times x_2 + \\beta_3 \\times x_1 \\times x_2 $$\n",
    "so if $x_1$ and $x_2$ are both continuous:\n",
    "$$y_i = \\beta_0 + (\\beta_1 + \\beta_3 \\times x_{2i}) \\times x_{1i} + \\beta_2 \\times x_{2i}$$"
   ]
  },
  {
   "cell_type": "markdown",
   "metadata": {
    "slideshow": {
     "slide_type": "fragment"
    }
   },
   "source": [
    "So, the value of the coefficient for $x_1$ now depends on the value of $x_2$.  \n",
    "For interpretation you still consider the other variables held constant, but when there are interactions you cannot say how much one will improve without specifying the value the other one is held constant at."
   ]
  },
  {
   "cell_type": "markdown",
   "metadata": {
    "slideshow": {
     "slide_type": "slide"
    }
   },
   "source": [
    "## Stepwise Regression\n",
    "\n",
    "Stepwise regression is a good simple tool for determining parameters to include in models. Care must be taken in its use, as it is easy to fall into the trap of trusting it more than you should. If you have a large number of parameters, or a small amount of data, it is probably best to use another tool. There are multiple ways to perform stepwise regression, the general procedures for stepwise regression are:\n",
    "\n",
    "* Forward Stepwise Regression:\n",
    "    * Start with some form of minimal model (like intercept only)\n",
    "    * Add other variables into your model based on which ones maximally increase adjusted $R^2$ (or some other test criteria)\n",
    "    * Continue until you run out of variables or adding any variable reduces the quality of your  model\n",
    "* Backward Stepwise Regression:\n",
    "    * Start with some form of maximal model (include all variables)\n",
    "    * Remove variables that least improve the model (or have insignificant p-values), one at a time\n",
    "    * Stop when you can no longer improve your model by removing variables\n",
    "* Bidirectional Stepwise Regression:\n",
    "    * Do both of the above"
   ]
  },
  {
   "cell_type": "markdown",
   "metadata": {
    "slideshow": {
     "slide_type": "slide"
    }
   },
   "source": [
    "## Useful things to know\n",
    "\n",
    "In order to implement stepwise regression you have to know how to compare models. There are several ways to do this:\n",
    "\n",
    "* Adjusted $R^2$, AIC, BIC, F-test. These are model quality metrics (will discuss more on next slide)\n",
    "* p-values for coefficients. These can be used to evaluate importance of individual predictors for the model.\n",
    "* Others I haven't mentioned"
   ]
  },
  {
   "cell_type": "markdown",
   "metadata": {
    "slideshow": {
     "slide_type": "slide"
    }
   },
   "source": [
    "## Model quality metrics\n",
    "* Adjusted $R^2$  \n",
    "$$Adjusted\\ R^2 = 1 - {\\frac{RSS}{(n-k-1)} \\over \\frac{TSS}{(n-1)}}$$\n",
    "    * Want adjusted $R^2$ close to one, includes penalties for number of predictors (k)  \n",
    "\n",
    "* AIC (Akaike Information Criterion)  \n",
    "$$AIC = -2log(L) + 2k$$\n",
    "    * L is likelihood for the model and k is number of predictors, want the model with the lowest AIC value  \n",
    "    \n",
    "* BIC (Bayesian Information Criterion)\n",
    "$$BIC = -2log(L) + 2log(n)$$\n",
    "    * Very similar to AIC, but since log(n) > 2 for n > 7 adds a larger penalty for additional predictors, once again want the lowest. n is the sample size.  "
   ]
  },
  {
   "cell_type": "markdown",
   "metadata": {
    "slideshow": {
     "slide_type": "slide"
    }
   },
   "source": [
    "## Backward stepwise example"
   ]
  },
  {
   "cell_type": "code",
   "execution_count": 23,
   "metadata": {
    "collapsed": false,
    "slideshow": {
     "slide_type": "skip"
    }
   },
   "outputs": [],
   "source": [
    "boring_fake_data_1 = pd.DataFrame()\n",
    "boring_fake_data_1['A'] = np.random.normal(25,5,1000)\n",
    "boring_fake_data_1['C'] = np.random.normal(75,15,1000)\n",
    "boring_fake_data_1['B'] = 5 * boring_fake_data_1['A'] - 2 * boring_fake_data_1['C'] + np.random.normal(20,3,1000)\n",
    "boring_fake_data_1['D'] = np.random.uniform(-50,50,1000)\n",
    "boring_fake_data_1['response'] = 50 * boring_fake_data_1['A'] + \\\n",
    "                                 3 * boring_fake_data_1['B'] + \\\n",
    "                                 50 * boring_fake_data_1['C'] + \\\n",
    "                                 50 + np.random.normal(350,150,1000)"
   ]
  },
  {
   "cell_type": "code",
   "execution_count": 24,
   "metadata": {
    "collapsed": false,
    "slideshow": {
     "slide_type": "fragment"
    }
   },
   "outputs": [
    {
     "data": {
      "text/html": [
       "<div>\n",
       "<table border=\"1\" class=\"dataframe\">\n",
       "  <thead>\n",
       "    <tr style=\"text-align: right;\">\n",
       "      <th></th>\n",
       "      <th>A</th>\n",
       "      <th>C</th>\n",
       "      <th>B</th>\n",
       "      <th>D</th>\n",
       "      <th>response</th>\n",
       "    </tr>\n",
       "  </thead>\n",
       "  <tbody>\n",
       "    <tr>\n",
       "      <th>0</th>\n",
       "      <td>22.100045</td>\n",
       "      <td>105.467067</td>\n",
       "      <td>-79.480853</td>\n",
       "      <td>-13.781259</td>\n",
       "      <td>6486.067549</td>\n",
       "    </tr>\n",
       "    <tr>\n",
       "      <th>1</th>\n",
       "      <td>26.754284</td>\n",
       "      <td>78.674475</td>\n",
       "      <td>-0.755637</td>\n",
       "      <td>23.237940</td>\n",
       "      <td>5773.136264</td>\n",
       "    </tr>\n",
       "    <tr>\n",
       "      <th>2</th>\n",
       "      <td>24.714145</td>\n",
       "      <td>84.528122</td>\n",
       "      <td>-26.106341</td>\n",
       "      <td>44.351116</td>\n",
       "      <td>5872.716548</td>\n",
       "    </tr>\n",
       "    <tr>\n",
       "      <th>3</th>\n",
       "      <td>32.389695</td>\n",
       "      <td>66.037160</td>\n",
       "      <td>45.297034</td>\n",
       "      <td>-39.042294</td>\n",
       "      <td>5505.580659</td>\n",
       "    </tr>\n",
       "    <tr>\n",
       "      <th>4</th>\n",
       "      <td>19.645964</td>\n",
       "      <td>76.140903</td>\n",
       "      <td>-32.959276</td>\n",
       "      <td>-2.834030</td>\n",
       "      <td>5238.768938</td>\n",
       "    </tr>\n",
       "  </tbody>\n",
       "</table>\n",
       "</div>"
      ],
      "text/plain": [
       "           A           C          B          D     response\n",
       "0  22.100045  105.467067 -79.480853 -13.781259  6486.067549\n",
       "1  26.754284   78.674475  -0.755637  23.237940  5773.136264\n",
       "2  24.714145   84.528122 -26.106341  44.351116  5872.716548\n",
       "3  32.389695   66.037160  45.297034 -39.042294  5505.580659\n",
       "4  19.645964   76.140903 -32.959276  -2.834030  5238.768938"
      ]
     },
     "execution_count": 24,
     "metadata": {},
     "output_type": "execute_result"
    }
   ],
   "source": [
    "boring_fake_data_1.head()"
   ]
  },
  {
   "cell_type": "markdown",
   "metadata": {
    "slideshow": {
     "slide_type": "slide"
    }
   },
   "source": [
    "## Fit the full model with all of the independent variables"
   ]
  },
  {
   "cell_type": "code",
   "execution_count": 25,
   "metadata": {
    "collapsed": false,
    "slideshow": {
     "slide_type": "fragment"
    }
   },
   "outputs": [
    {
     "data": {
      "text/html": [
       "<table class=\"simpletable\">\n",
       "<caption>OLS Regression Results</caption>\n",
       "<tr>\n",
       "  <th>Dep. Variable:</th>        <td>response</td>     <th>  R-squared:         </th> <td>   0.963</td> \n",
       "</tr>\n",
       "<tr>\n",
       "  <th>Model:</th>                   <td>OLS</td>       <th>  Adj. R-squared:    </th> <td>   0.963</td> \n",
       "</tr>\n",
       "<tr>\n",
       "  <th>Method:</th>             <td>Least Squares</td>  <th>  F-statistic:       </th> <td>   6489.</td> \n",
       "</tr>\n",
       "<tr>\n",
       "  <th>Date:</th>             <td>Thu, 06 Oct 2016</td> <th>  Prob (F-statistic):</th>  <td>  0.00</td>  \n",
       "</tr>\n",
       "<tr>\n",
       "  <th>Time:</th>                 <td>16:50:20</td>     <th>  Log-Likelihood:    </th> <td> -6388.5</td> \n",
       "</tr>\n",
       "<tr>\n",
       "  <th>No. Observations:</th>      <td>  1000</td>      <th>  AIC:               </th> <td>1.279e+04</td>\n",
       "</tr>\n",
       "<tr>\n",
       "  <th>Df Residuals:</th>          <td>   995</td>      <th>  BIC:               </th> <td>1.281e+04</td>\n",
       "</tr>\n",
       "<tr>\n",
       "  <th>Df Model:</th>              <td>     4</td>      <th>                     </th>     <td> </td>    \n",
       "</tr>\n",
       "<tr>\n",
       "  <th>Covariance Type:</th>      <td>nonrobust</td>    <th>                     </th>     <td> </td>    \n",
       "</tr>\n",
       "</table>\n",
       "<table class=\"simpletable\">\n",
       "<tr>\n",
       "      <td></td>         <th>coef</th>     <th>std err</th>      <th>t</th>      <th>P>|t|</th> <th>[95.0% Conf. Int.]</th> \n",
       "</tr>\n",
       "<tr>\n",
       "  <th>Intercept</th> <td>  370.2196</td> <td>   44.391</td> <td>    8.340</td> <td> 0.000</td> <td>  283.108   457.331</td>\n",
       "</tr>\n",
       "<tr>\n",
       "  <th>A</th>         <td>   45.9577</td> <td>    7.934</td> <td>    5.792</td> <td> 0.000</td> <td>   30.388    61.527</td>\n",
       "</tr>\n",
       "<tr>\n",
       "  <th>B</th>         <td>    3.8001</td> <td>    1.572</td> <td>    2.418</td> <td> 0.016</td> <td>    0.716     6.884</td>\n",
       "</tr>\n",
       "<tr>\n",
       "  <th>C</th>         <td>   51.8197</td> <td>    3.148</td> <td>   16.461</td> <td> 0.000</td> <td>   45.642    57.997</td>\n",
       "</tr>\n",
       "<tr>\n",
       "  <th>D</th>         <td>   -0.0714</td> <td>    0.156</td> <td>   -0.458</td> <td> 0.647</td> <td>   -0.377     0.234</td>\n",
       "</tr>\n",
       "</table>\n",
       "<table class=\"simpletable\">\n",
       "<tr>\n",
       "  <th>Omnibus:</th>       <td> 3.465</td> <th>  Durbin-Watson:     </th> <td>   2.011</td>\n",
       "</tr>\n",
       "<tr>\n",
       "  <th>Prob(Omnibus):</th> <td> 0.177</td> <th>  Jarque-Bera (JB):  </th> <td>   3.445</td>\n",
       "</tr>\n",
       "<tr>\n",
       "  <th>Skew:</th>          <td> 0.144</td> <th>  Prob(JB):          </th> <td>   0.179</td>\n",
       "</tr>\n",
       "<tr>\n",
       "  <th>Kurtosis:</th>      <td> 2.994</td> <th>  Cond. No.          </th> <td>    811.</td>\n",
       "</tr>\n",
       "</table>"
      ],
      "text/plain": [
       "<class 'statsmodels.iolib.summary.Summary'>\n",
       "\"\"\"\n",
       "                            OLS Regression Results                            \n",
       "==============================================================================\n",
       "Dep. Variable:               response   R-squared:                       0.963\n",
       "Model:                            OLS   Adj. R-squared:                  0.963\n",
       "Method:                 Least Squares   F-statistic:                     6489.\n",
       "Date:                Thu, 06 Oct 2016   Prob (F-statistic):               0.00\n",
       "Time:                        16:50:20   Log-Likelihood:                -6388.5\n",
       "No. Observations:                1000   AIC:                         1.279e+04\n",
       "Df Residuals:                     995   BIC:                         1.281e+04\n",
       "Df Model:                           4                                         \n",
       "Covariance Type:            nonrobust                                         \n",
       "==============================================================================\n",
       "                 coef    std err          t      P>|t|      [95.0% Conf. Int.]\n",
       "------------------------------------------------------------------------------\n",
       "Intercept    370.2196     44.391      8.340      0.000       283.108   457.331\n",
       "A             45.9577      7.934      5.792      0.000        30.388    61.527\n",
       "B              3.8001      1.572      2.418      0.016         0.716     6.884\n",
       "C             51.8197      3.148     16.461      0.000        45.642    57.997\n",
       "D             -0.0714      0.156     -0.458      0.647        -0.377     0.234\n",
       "==============================================================================\n",
       "Omnibus:                        3.465   Durbin-Watson:                   2.011\n",
       "Prob(Omnibus):                  0.177   Jarque-Bera (JB):                3.445\n",
       "Skew:                           0.144   Prob(JB):                        0.179\n",
       "Kurtosis:                       2.994   Cond. No.                         811.\n",
       "==============================================================================\n",
       "\n",
       "Warnings:\n",
       "[1] Standard Errors assume that the covariance matrix of the errors is correctly specified.\n",
       "\"\"\""
      ]
     },
     "execution_count": 25,
     "metadata": {},
     "output_type": "execute_result"
    }
   ],
   "source": [
    "formula = 'response ~ A + B + C + D'\n",
    "model1 = smf.ols(formula=formula, data=boring_fake_data_1)\n",
    "results1 = model1.fit()\n",
    "results1.summary()"
   ]
  },
  {
   "cell_type": "markdown",
   "metadata": {
    "slideshow": {
     "slide_type": "slide"
    }
   },
   "source": [
    "## Eliminate the least significant variable"
   ]
  },
  {
   "cell_type": "code",
   "execution_count": 28,
   "metadata": {
    "collapsed": false,
    "slideshow": {
     "slide_type": "fragment"
    }
   },
   "outputs": [
    {
     "data": {
      "text/html": [
       "<table class=\"simpletable\">\n",
       "<caption>OLS Regression Results</caption>\n",
       "<tr>\n",
       "  <th>Dep. Variable:</th>        <td>response</td>     <th>  R-squared:         </th> <td>   0.963</td> \n",
       "</tr>\n",
       "<tr>\n",
       "  <th>Model:</th>                   <td>OLS</td>       <th>  Adj. R-squared:    </th> <td>   0.963</td> \n",
       "</tr>\n",
       "<tr>\n",
       "  <th>Method:</th>             <td>Least Squares</td>  <th>  F-statistic:       </th> <td>   8659.</td> \n",
       "</tr>\n",
       "<tr>\n",
       "  <th>Date:</th>             <td>Thu, 06 Oct 2016</td> <th>  Prob (F-statistic):</th>  <td>  0.00</td>  \n",
       "</tr>\n",
       "<tr>\n",
       "  <th>Time:</th>                 <td>16:50:55</td>     <th>  Log-Likelihood:    </th> <td> -6388.6</td> \n",
       "</tr>\n",
       "<tr>\n",
       "  <th>No. Observations:</th>      <td>  1000</td>      <th>  AIC:               </th> <td>1.279e+04</td>\n",
       "</tr>\n",
       "<tr>\n",
       "  <th>Df Residuals:</th>          <td>   996</td>      <th>  BIC:               </th> <td>1.280e+04</td>\n",
       "</tr>\n",
       "<tr>\n",
       "  <th>Df Model:</th>              <td>     3</td>      <th>                     </th>     <td> </td>    \n",
       "</tr>\n",
       "<tr>\n",
       "  <th>Covariance Type:</th>      <td>nonrobust</td>    <th>                     </th>     <td> </td>    \n",
       "</tr>\n",
       "</table>\n",
       "<table class=\"simpletable\">\n",
       "<tr>\n",
       "      <td></td>         <th>coef</th>     <th>std err</th>      <th>t</th>      <th>P>|t|</th> <th>[95.0% Conf. Int.]</th> \n",
       "</tr>\n",
       "<tr>\n",
       "  <th>Intercept</th> <td>  370.0393</td> <td>   44.372</td> <td>    8.340</td> <td> 0.000</td> <td>  282.966   457.112</td>\n",
       "</tr>\n",
       "<tr>\n",
       "  <th>A</th>         <td>   45.8952</td> <td>    7.930</td> <td>    5.788</td> <td> 0.000</td> <td>   30.334    61.456</td>\n",
       "</tr>\n",
       "<tr>\n",
       "  <th>B</th>         <td>    3.8141</td> <td>    1.571</td> <td>    2.428</td> <td> 0.015</td> <td>    0.732     6.896</td>\n",
       "</tr>\n",
       "<tr>\n",
       "  <th>C</th>         <td>   51.8434</td> <td>    3.146</td> <td>   16.478</td> <td> 0.000</td> <td>   45.669    58.018</td>\n",
       "</tr>\n",
       "</table>\n",
       "<table class=\"simpletable\">\n",
       "<tr>\n",
       "  <th>Omnibus:</th>       <td> 3.401</td> <th>  Durbin-Watson:     </th> <td>   2.011</td>\n",
       "</tr>\n",
       "<tr>\n",
       "  <th>Prob(Omnibus):</th> <td> 0.183</td> <th>  Jarque-Bera (JB):  </th> <td>   3.385</td>\n",
       "</tr>\n",
       "<tr>\n",
       "  <th>Skew:</th>          <td> 0.142</td> <th>  Prob(JB):          </th> <td>   0.184</td>\n",
       "</tr>\n",
       "<tr>\n",
       "  <th>Kurtosis:</th>      <td> 2.991</td> <th>  Cond. No.          </th> <td>    811.</td>\n",
       "</tr>\n",
       "</table>"
      ],
      "text/plain": [
       "<class 'statsmodels.iolib.summary.Summary'>\n",
       "\"\"\"\n",
       "                            OLS Regression Results                            \n",
       "==============================================================================\n",
       "Dep. Variable:               response   R-squared:                       0.963\n",
       "Model:                            OLS   Adj. R-squared:                  0.963\n",
       "Method:                 Least Squares   F-statistic:                     8659.\n",
       "Date:                Thu, 06 Oct 2016   Prob (F-statistic):               0.00\n",
       "Time:                        16:50:55   Log-Likelihood:                -6388.6\n",
       "No. Observations:                1000   AIC:                         1.279e+04\n",
       "Df Residuals:                     996   BIC:                         1.280e+04\n",
       "Df Model:                           3                                         \n",
       "Covariance Type:            nonrobust                                         \n",
       "==============================================================================\n",
       "                 coef    std err          t      P>|t|      [95.0% Conf. Int.]\n",
       "------------------------------------------------------------------------------\n",
       "Intercept    370.0393     44.372      8.340      0.000       282.966   457.112\n",
       "A             45.8952      7.930      5.788      0.000        30.334    61.456\n",
       "B              3.8141      1.571      2.428      0.015         0.732     6.896\n",
       "C             51.8434      3.146     16.478      0.000        45.669    58.018\n",
       "==============================================================================\n",
       "Omnibus:                        3.401   Durbin-Watson:                   2.011\n",
       "Prob(Omnibus):                  0.183   Jarque-Bera (JB):                3.385\n",
       "Skew:                           0.142   Prob(JB):                        0.184\n",
       "Kurtosis:                       2.991   Cond. No.                         811.\n",
       "==============================================================================\n",
       "\n",
       "Warnings:\n",
       "[1] Standard Errors assume that the covariance matrix of the errors is correctly specified.\n",
       "\"\"\""
      ]
     },
     "execution_count": 28,
     "metadata": {},
     "output_type": "execute_result"
    }
   ],
   "source": [
    "# Removing D as it has the highest p-value.\n",
    "formula = 'response ~ A + B + C'\n",
    "model2 = smf.ols(formula=formula,data=boring_fake_data_1)\n",
    "results2 = model2.fit()\n",
    "results2.summary()"
   ]
  },
  {
   "cell_type": "markdown",
   "metadata": {
    "slideshow": {
     "slide_type": "slide"
    }
   },
   "source": [
    "## And again"
   ]
  },
  {
   "cell_type": "code",
   "execution_count": 29,
   "metadata": {
    "collapsed": false,
    "slideshow": {
     "slide_type": "fragment"
    }
   },
   "outputs": [
    {
     "data": {
      "text/html": [
       "<table class=\"simpletable\">\n",
       "<caption>OLS Regression Results</caption>\n",
       "<tr>\n",
       "  <th>Dep. Variable:</th>        <td>response</td>     <th>  R-squared:         </th> <td>   0.963</td> \n",
       "</tr>\n",
       "<tr>\n",
       "  <th>Model:</th>                   <td>OLS</td>       <th>  Adj. R-squared:    </th> <td>   0.963</td> \n",
       "</tr>\n",
       "<tr>\n",
       "  <th>Method:</th>             <td>Least Squares</td>  <th>  F-statistic:       </th> <td>1.292e+04</td>\n",
       "</tr>\n",
       "<tr>\n",
       "  <th>Date:</th>             <td>Thu, 06 Oct 2016</td> <th>  Prob (F-statistic):</th>  <td>  0.00</td>  \n",
       "</tr>\n",
       "<tr>\n",
       "  <th>Time:</th>                 <td>16:51:23</td>     <th>  Log-Likelihood:    </th> <td> -6391.5</td> \n",
       "</tr>\n",
       "<tr>\n",
       "  <th>No. Observations:</th>      <td>  1000</td>      <th>  AIC:               </th> <td>1.279e+04</td>\n",
       "</tr>\n",
       "<tr>\n",
       "  <th>Df Residuals:</th>          <td>   997</td>      <th>  BIC:               </th> <td>1.280e+04</td>\n",
       "</tr>\n",
       "<tr>\n",
       "  <th>Df Model:</th>              <td>     2</td>      <th>                     </th>     <td> </td>    \n",
       "</tr>\n",
       "<tr>\n",
       "  <th>Covariance Type:</th>      <td>nonrobust</td>    <th>                     </th>     <td> </td>    \n",
       "</tr>\n",
       "</table>\n",
       "<table class=\"simpletable\">\n",
       "<tr>\n",
       "      <td></td>         <th>coef</th>     <th>std err</th>      <th>t</th>      <th>P>|t|</th> <th>[95.0% Conf. Int.]</th> \n",
       "</tr>\n",
       "<tr>\n",
       "  <th>Intercept</th> <td>  442.7436</td> <td>   32.826</td> <td>   13.487</td> <td> 0.000</td> <td>  378.327   507.161</td>\n",
       "</tr>\n",
       "<tr>\n",
       "  <th>A</th>         <td>   65.0238</td> <td>    0.909</td> <td>   71.560</td> <td> 0.000</td> <td>   63.241    66.807</td>\n",
       "</tr>\n",
       "<tr>\n",
       "  <th>C</th>         <td>   44.2409</td> <td>    0.311</td> <td>  142.458</td> <td> 0.000</td> <td>   43.632    44.850</td>\n",
       "</tr>\n",
       "</table>\n",
       "<table class=\"simpletable\">\n",
       "<tr>\n",
       "  <th>Omnibus:</th>       <td> 3.124</td> <th>  Durbin-Watson:     </th> <td>   2.014</td>\n",
       "</tr>\n",
       "<tr>\n",
       "  <th>Prob(Omnibus):</th> <td> 0.210</td> <th>  Jarque-Bera (JB):  </th> <td>   3.079</td>\n",
       "</tr>\n",
       "<tr>\n",
       "  <th>Skew:</th>          <td> 0.136</td> <th>  Prob(JB):          </th> <td>   0.215</td>\n",
       "</tr>\n",
       "<tr>\n",
       "  <th>Kurtosis:</th>      <td> 3.010</td> <th>  Cond. No.          </th> <td>    586.</td>\n",
       "</tr>\n",
       "</table>"
      ],
      "text/plain": [
       "<class 'statsmodels.iolib.summary.Summary'>\n",
       "\"\"\"\n",
       "                            OLS Regression Results                            \n",
       "==============================================================================\n",
       "Dep. Variable:               response   R-squared:                       0.963\n",
       "Model:                            OLS   Adj. R-squared:                  0.963\n",
       "Method:                 Least Squares   F-statistic:                 1.292e+04\n",
       "Date:                Thu, 06 Oct 2016   Prob (F-statistic):               0.00\n",
       "Time:                        16:51:23   Log-Likelihood:                -6391.5\n",
       "No. Observations:                1000   AIC:                         1.279e+04\n",
       "Df Residuals:                     997   BIC:                         1.280e+04\n",
       "Df Model:                           2                                         \n",
       "Covariance Type:            nonrobust                                         \n",
       "==============================================================================\n",
       "                 coef    std err          t      P>|t|      [95.0% Conf. Int.]\n",
       "------------------------------------------------------------------------------\n",
       "Intercept    442.7436     32.826     13.487      0.000       378.327   507.161\n",
       "A             65.0238      0.909     71.560      0.000        63.241    66.807\n",
       "C             44.2409      0.311    142.458      0.000        43.632    44.850\n",
       "==============================================================================\n",
       "Omnibus:                        3.124   Durbin-Watson:                   2.014\n",
       "Prob(Omnibus):                  0.210   Jarque-Bera (JB):                3.079\n",
       "Skew:                           0.136   Prob(JB):                        0.215\n",
       "Kurtosis:                       3.010   Cond. No.                         586.\n",
       "==============================================================================\n",
       "\n",
       "Warnings:\n",
       "[1] Standard Errors assume that the covariance matrix of the errors is correctly specified.\n",
       "\"\"\""
      ]
     },
     "execution_count": 29,
     "metadata": {},
     "output_type": "execute_result"
    }
   ],
   "source": [
    "# Removing B now as it has the highest p-value.\n",
    "formula = 'response ~ A + C'\n",
    "model3 = smf.ols(formula=formula,data=boring_fake_data_1)\n",
    "results3 = model3.fit()\n",
    "results3.summary()"
   ]
  },
  {
   "cell_type": "code",
   "execution_count": null,
   "metadata": {
    "collapsed": true
   },
   "outputs": [],
   "source": []
  }
 ],
 "metadata": {
  "anaconda-cloud": {},
  "kernelspec": {
   "display_name": "Python [Root]",
   "language": "python",
   "name": "Python [Root]"
  },
  "language_info": {
   "codemirror_mode": {
    "name": "ipython",
    "version": 3
   },
   "file_extension": ".py",
   "mimetype": "text/x-python",
   "name": "python",
   "nbconvert_exporter": "python",
   "pygments_lexer": "ipython3",
   "version": "3.5.2"
  }
 },
 "nbformat": 4,
 "nbformat_minor": 0
}
