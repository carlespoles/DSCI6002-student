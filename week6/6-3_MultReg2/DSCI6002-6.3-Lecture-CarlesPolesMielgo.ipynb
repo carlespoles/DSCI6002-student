{
 "cells": [
  {
   "cell_type": "markdown",
   "metadata": {
    "slideshow": {
     "slide_type": "slide"
    }
   },
   "source": [
    "# Lecture 6.3: Multiple Regressions II"
   ]
  },
  {
   "cell_type": "markdown",
   "metadata": {
    "slideshow": {
     "slide_type": "slide"
    }
   },
   "source": [
    "## Outline\n",
    "\n",
    "* Dummy variables for indicator and categorical data\n",
    "* Interaction terms\n",
    "    * Interactions between continuous and categorical variables\n",
    "    * Interactions between continuous and continuous variables\n",
    "* Variable selection - stepwise regression"
   ]
  },
  {
   "cell_type": "code",
   "execution_count": 1,
   "metadata": {
    "collapsed": false,
    "slideshow": {
     "slide_type": "skip"
    }
   },
   "outputs": [
    {
     "name": "stdout",
     "output_type": "stream",
     "text": [
      "Populating the interactive namespace from numpy and matplotlib\n"
     ]
    }
   ],
   "source": [
    "%pylab inline\n",
    "import pandas as pd\n",
    "import statsmodels.api as sm\n",
    "\n",
    "from seaborn import lmplot"
   ]
  },
  {
   "cell_type": "code",
   "execution_count": 2,
   "metadata": {
    "collapsed": false,
    "slideshow": {
     "slide_type": "skip"
    }
   },
   "outputs": [],
   "source": [
    "fake_puppy_data = pd.DataFrame()\n",
    "fake_puppy_data['num_puppies'] = np.abs(np.random.normal(3,4,size=1000)).round()\n",
    "fake_puppy_data[fake_puppy_data['num_puppies']==0] = 1\n",
    "other_animals = ['yes','no']\n",
    "fake_puppy_data['has_other_animals'] = np.random.choice(other_animals,replace=True,size=1000,p=[0.2,0.8])\n",
    "age_groups = ['puppy','dog','elderly dog']\n",
    "fake_puppy_data['age_group'] = np.random.choice(age_groups,replace=True,size=1000,p=[0.5,0.2,0.3])\n",
    "fake_puppy_data['score'] = 4.231  * fake_puppy_data['num_puppies'] + \\\n",
    "                           24.213 * (fake_puppy_data['has_other_animals']=='yes') + \\\n",
    "                           -0.340 * (fake_puppy_data['has_other_animals']=='no') + \\\n",
    "                           20.453 * (fake_puppy_data['age_group']=='puppy') + \\\n",
    "                           -6.543 * (fake_puppy_data['age_group']=='dog') + \\\n",
    "                           14.568 * (fake_puppy_data['age_group']=='elderly dog') + \\\n",
    "                           6.574  * (fake_puppy_data['num_puppies'] * 1.*(fake_puppy_data['has_other_animals'] == 'yes')) + \\\n",
    "                           3.486  * (fake_puppy_data['num_puppies'] * 1.*(fake_puppy_data['age_group'] == 'puppy')) + \\\n",
    "                           0.182  * (fake_puppy_data['num_puppies'] * 1.*(fake_puppy_data['age_group'] == 'elderly dog')) + \\\n",
    "                           12.381 + \\\n",
    "                           np.random.normal(15,3,size=1000)\n",
    "fake_puppy_data['score'] = 100 * ((fake_puppy_data['score']-fake_puppy_data['score'].min())/(fake_puppy_data['score'].max() - fake_puppy_data['score'].min()))"
   ]
  },
  {
   "cell_type": "markdown",
   "metadata": {
    "slideshow": {
     "slide_type": "slide"
    }
   },
   "source": [
    "## More stories\n",
    "\n",
    "My wife likes pictures of puppies. To document this I had her look at and score 1000 photos of puppies (I did not actually do this one in real life)."
   ]
  },
  {
   "cell_type": "code",
   "execution_count": 3,
   "metadata": {
    "collapsed": false,
    "slideshow": {
     "slide_type": "fragment"
    }
   },
   "outputs": [
    {
     "data": {
      "text/html": [
       "<div>\n",
       "<table border=\"1\" class=\"dataframe\">\n",
       "  <thead>\n",
       "    <tr style=\"text-align: right;\">\n",
       "      <th></th>\n",
       "      <th>num_puppies</th>\n",
       "      <th>has_other_animals</th>\n",
       "      <th>age_group</th>\n",
       "      <th>score</th>\n",
       "    </tr>\n",
       "  </thead>\n",
       "  <tbody>\n",
       "    <tr>\n",
       "      <th>0</th>\n",
       "      <td>1.0</td>\n",
       "      <td>no</td>\n",
       "      <td>dog</td>\n",
       "      <td>4.172862</td>\n",
       "    </tr>\n",
       "    <tr>\n",
       "      <th>1</th>\n",
       "      <td>1.0</td>\n",
       "      <td>no</td>\n",
       "      <td>puppy</td>\n",
       "      <td>16.218760</td>\n",
       "    </tr>\n",
       "    <tr>\n",
       "      <th>2</th>\n",
       "      <td>6.0</td>\n",
       "      <td>no</td>\n",
       "      <td>puppy</td>\n",
       "      <td>33.032914</td>\n",
       "    </tr>\n",
       "    <tr>\n",
       "      <th>3</th>\n",
       "      <td>5.0</td>\n",
       "      <td>no</td>\n",
       "      <td>puppy</td>\n",
       "      <td>31.033705</td>\n",
       "    </tr>\n",
       "    <tr>\n",
       "      <th>4</th>\n",
       "      <td>7.0</td>\n",
       "      <td>no</td>\n",
       "      <td>dog</td>\n",
       "      <td>14.456293</td>\n",
       "    </tr>\n",
       "    <tr>\n",
       "      <th>5</th>\n",
       "      <td>2.0</td>\n",
       "      <td>no</td>\n",
       "      <td>puppy</td>\n",
       "      <td>21.774549</td>\n",
       "    </tr>\n",
       "    <tr>\n",
       "      <th>6</th>\n",
       "      <td>9.0</td>\n",
       "      <td>no</td>\n",
       "      <td>puppy</td>\n",
       "      <td>44.074615</td>\n",
       "    </tr>\n",
       "    <tr>\n",
       "      <th>7</th>\n",
       "      <td>4.0</td>\n",
       "      <td>no</td>\n",
       "      <td>puppy</td>\n",
       "      <td>27.471743</td>\n",
       "    </tr>\n",
       "    <tr>\n",
       "      <th>8</th>\n",
       "      <td>1.0</td>\n",
       "      <td>no</td>\n",
       "      <td>dog</td>\n",
       "      <td>2.227700</td>\n",
       "    </tr>\n",
       "    <tr>\n",
       "      <th>9</th>\n",
       "      <td>8.0</td>\n",
       "      <td>yes</td>\n",
       "      <td>elderly dog</td>\n",
       "      <td>59.459919</td>\n",
       "    </tr>\n",
       "    <tr>\n",
       "      <th>10</th>\n",
       "      <td>1.0</td>\n",
       "      <td>yes</td>\n",
       "      <td>elderly dog</td>\n",
       "      <td>26.607124</td>\n",
       "    </tr>\n",
       "    <tr>\n",
       "      <th>11</th>\n",
       "      <td>7.0</td>\n",
       "      <td>no</td>\n",
       "      <td>puppy</td>\n",
       "      <td>37.034788</td>\n",
       "    </tr>\n",
       "    <tr>\n",
       "      <th>12</th>\n",
       "      <td>2.0</td>\n",
       "      <td>no</td>\n",
       "      <td>dog</td>\n",
       "      <td>6.306421</td>\n",
       "    </tr>\n",
       "    <tr>\n",
       "      <th>13</th>\n",
       "      <td>6.0</td>\n",
       "      <td>no</td>\n",
       "      <td>dog</td>\n",
       "      <td>12.064621</td>\n",
       "    </tr>\n",
       "    <tr>\n",
       "      <th>14</th>\n",
       "      <td>5.0</td>\n",
       "      <td>no</td>\n",
       "      <td>puppy</td>\n",
       "      <td>29.993871</td>\n",
       "    </tr>\n",
       "  </tbody>\n",
       "</table>\n",
       "</div>"
      ],
      "text/plain": [
       "    num_puppies has_other_animals    age_group      score\n",
       "0           1.0                no          dog   4.172862\n",
       "1           1.0                no        puppy  16.218760\n",
       "2           6.0                no        puppy  33.032914\n",
       "3           5.0                no        puppy  31.033705\n",
       "4           7.0                no          dog  14.456293\n",
       "5           2.0                no        puppy  21.774549\n",
       "6           9.0                no        puppy  44.074615\n",
       "7           4.0                no        puppy  27.471743\n",
       "8           1.0                no          dog   2.227700\n",
       "9           8.0               yes  elderly dog  59.459919\n",
       "10          1.0               yes  elderly dog  26.607124\n",
       "11          7.0                no        puppy  37.034788\n",
       "12          2.0                no          dog   6.306421\n",
       "13          6.0                no          dog  12.064621\n",
       "14          5.0                no        puppy  29.993871"
      ]
     },
     "execution_count": 3,
     "metadata": {},
     "output_type": "execute_result"
    }
   ],
   "source": [
    "fake_puppy_data.head(15)"
   ]
  },
  {
   "cell_type": "markdown",
   "metadata": {
    "slideshow": {
     "slide_type": "slide"
    }
   },
   "source": [
    "### Data dictionary\n",
    "\n",
    "* num_puppies is number of puppies in the photo\n",
    "* has_other_animals is yes if there are other animals in photo, no otherwise\n",
    "* age_group describes the average age of the dogs in the photo, either puppy, dog, or elderly dog\n",
    "\n"
   ]
  },
  {
   "cell_type": "markdown",
   "metadata": {
    "slideshow": {
     "slide_type": "fragment"
    }
   },
   "source": [
    "### Question:\n",
    "Can I run my current data through statsmodels?"
   ]
  },
  {
   "cell_type": "markdown",
   "metadata": {},
   "source": [
    "#### DON'T RUN BELOW. IT WILL CRASH AS IT CANNOT BE RUN AS IT IS."
   ]
  },
  {
   "cell_type": "code",
   "execution_count": null,
   "metadata": {
    "collapsed": false,
    "slideshow": {
     "slide_type": "slide"
    }
   },
   "outputs": [],
   "source": [
    "X = fake_puppy_data[['num_puppies','has_other_animals','age_group']]\n",
    "y = fake_puppy_data.score\n",
    "model = sm.OLS(y, X)"
   ]
  },
  {
   "cell_type": "markdown",
   "metadata": {
    "slideshow": {
     "slide_type": "slide"
    }
   },
   "source": [
    "## Any ideas on how to deal with this?"
   ]
  },
  {
   "cell_type": "markdown",
   "metadata": {
    "slideshow": {
     "slide_type": "slide"
    }
   },
   "source": [
    "## Add dummy variables"
   ]
  },
  {
   "cell_type": "code",
   "execution_count": 4,
   "metadata": {
    "collapsed": true,
    "slideshow": {
     "slide_type": "fragment"
    }
   },
   "outputs": [],
   "source": [
    "data = fake_puppy_data.copy()"
   ]
  },
  {
   "cell_type": "code",
   "execution_count": 5,
   "metadata": {
    "collapsed": false,
    "slideshow": {
     "slide_type": "fragment"
    }
   },
   "outputs": [
    {
     "data": {
      "text/html": [
       "<div>\n",
       "<table border=\"1\" class=\"dataframe\">\n",
       "  <thead>\n",
       "    <tr style=\"text-align: right;\">\n",
       "      <th></th>\n",
       "      <th>num_puppies</th>\n",
       "      <th>has_other_animals</th>\n",
       "      <th>age_group</th>\n",
       "      <th>score</th>\n",
       "      <th>others_yes</th>\n",
       "    </tr>\n",
       "  </thead>\n",
       "  <tbody>\n",
       "    <tr>\n",
       "      <th>0</th>\n",
       "      <td>1.0</td>\n",
       "      <td>no</td>\n",
       "      <td>dog</td>\n",
       "      <td>4.172862</td>\n",
       "      <td>0</td>\n",
       "    </tr>\n",
       "    <tr>\n",
       "      <th>1</th>\n",
       "      <td>1.0</td>\n",
       "      <td>no</td>\n",
       "      <td>puppy</td>\n",
       "      <td>16.218760</td>\n",
       "      <td>0</td>\n",
       "    </tr>\n",
       "    <tr>\n",
       "      <th>2</th>\n",
       "      <td>6.0</td>\n",
       "      <td>no</td>\n",
       "      <td>puppy</td>\n",
       "      <td>33.032914</td>\n",
       "      <td>0</td>\n",
       "    </tr>\n",
       "    <tr>\n",
       "      <th>3</th>\n",
       "      <td>5.0</td>\n",
       "      <td>no</td>\n",
       "      <td>puppy</td>\n",
       "      <td>31.033705</td>\n",
       "      <td>0</td>\n",
       "    </tr>\n",
       "    <tr>\n",
       "      <th>4</th>\n",
       "      <td>7.0</td>\n",
       "      <td>no</td>\n",
       "      <td>dog</td>\n",
       "      <td>14.456293</td>\n",
       "      <td>0</td>\n",
       "    </tr>\n",
       "    <tr>\n",
       "      <th>5</th>\n",
       "      <td>2.0</td>\n",
       "      <td>no</td>\n",
       "      <td>puppy</td>\n",
       "      <td>21.774549</td>\n",
       "      <td>0</td>\n",
       "    </tr>\n",
       "    <tr>\n",
       "      <th>6</th>\n",
       "      <td>9.0</td>\n",
       "      <td>no</td>\n",
       "      <td>puppy</td>\n",
       "      <td>44.074615</td>\n",
       "      <td>0</td>\n",
       "    </tr>\n",
       "    <tr>\n",
       "      <th>7</th>\n",
       "      <td>4.0</td>\n",
       "      <td>no</td>\n",
       "      <td>puppy</td>\n",
       "      <td>27.471743</td>\n",
       "      <td>0</td>\n",
       "    </tr>\n",
       "    <tr>\n",
       "      <th>8</th>\n",
       "      <td>1.0</td>\n",
       "      <td>no</td>\n",
       "      <td>dog</td>\n",
       "      <td>2.227700</td>\n",
       "      <td>0</td>\n",
       "    </tr>\n",
       "    <tr>\n",
       "      <th>9</th>\n",
       "      <td>8.0</td>\n",
       "      <td>yes</td>\n",
       "      <td>elderly dog</td>\n",
       "      <td>59.459919</td>\n",
       "      <td>1</td>\n",
       "    </tr>\n",
       "    <tr>\n",
       "      <th>10</th>\n",
       "      <td>1.0</td>\n",
       "      <td>yes</td>\n",
       "      <td>elderly dog</td>\n",
       "      <td>26.607124</td>\n",
       "      <td>1</td>\n",
       "    </tr>\n",
       "    <tr>\n",
       "      <th>11</th>\n",
       "      <td>7.0</td>\n",
       "      <td>no</td>\n",
       "      <td>puppy</td>\n",
       "      <td>37.034788</td>\n",
       "      <td>0</td>\n",
       "    </tr>\n",
       "    <tr>\n",
       "      <th>12</th>\n",
       "      <td>2.0</td>\n",
       "      <td>no</td>\n",
       "      <td>dog</td>\n",
       "      <td>6.306421</td>\n",
       "      <td>0</td>\n",
       "    </tr>\n",
       "    <tr>\n",
       "      <th>13</th>\n",
       "      <td>6.0</td>\n",
       "      <td>no</td>\n",
       "      <td>dog</td>\n",
       "      <td>12.064621</td>\n",
       "      <td>0</td>\n",
       "    </tr>\n",
       "    <tr>\n",
       "      <th>14</th>\n",
       "      <td>5.0</td>\n",
       "      <td>no</td>\n",
       "      <td>puppy</td>\n",
       "      <td>29.993871</td>\n",
       "      <td>0</td>\n",
       "    </tr>\n",
       "  </tbody>\n",
       "</table>\n",
       "</div>"
      ],
      "text/plain": [
       "    num_puppies has_other_animals    age_group      score  others_yes\n",
       "0           1.0                no          dog   4.172862           0\n",
       "1           1.0                no        puppy  16.218760           0\n",
       "2           6.0                no        puppy  33.032914           0\n",
       "3           5.0                no        puppy  31.033705           0\n",
       "4           7.0                no          dog  14.456293           0\n",
       "5           2.0                no        puppy  21.774549           0\n",
       "6           9.0                no        puppy  44.074615           0\n",
       "7           4.0                no        puppy  27.471743           0\n",
       "8           1.0                no          dog   2.227700           0\n",
       "9           8.0               yes  elderly dog  59.459919           1\n",
       "10          1.0               yes  elderly dog  26.607124           1\n",
       "11          7.0                no        puppy  37.034788           0\n",
       "12          2.0                no          dog   6.306421           0\n",
       "13          6.0                no          dog  12.064621           0\n",
       "14          5.0                no        puppy  29.993871           0"
      ]
     },
     "execution_count": 5,
     "metadata": {},
     "output_type": "execute_result"
    }
   ],
   "source": [
    "data['others_yes'] = 1 * (data.has_other_animals == 'yes') \n",
    "data.head(15)"
   ]
  },
  {
   "cell_type": "markdown",
   "metadata": {
    "slideshow": {
     "slide_type": "slide"
    }
   },
   "source": [
    "## How the dummy variable works  \n",
    "  \n",
    "\n",
    "$x_i = \\left\\{\\begin{array}{11} 1 & \\mbox{if ith picture has other animals} \\\\ 0 & \\mbox{if ith picture has no other animals} \\end{array} \\right. $\n",
    "\n",
    "$$y_i \\sim \\beta_0 + \\beta_1 x_i + \\epsilon_i = \\left\\{\\begin{array}{11} \\beta_0 + \\beta_1 + \\epsilon_i & \\mbox{if ith picture has other animals} \\\\ \\beta_0 + \\epsilon_i & \\mbox{if ith picture has no other animals} \\end{array} \\right.$$"
   ]
  },
  {
   "cell_type": "markdown",
   "metadata": {
    "slideshow": {
     "slide_type": "slide"
    }
   },
   "source": [
    "## Important \n",
    "\n",
    "When you do this you are changing the interpretation of your intercept.  \n",
    "* What did the intercept mean before?\n",
    "* What does it mean now?"
   ]
  },
  {
   "cell_type": "markdown",
   "metadata": {
    "slideshow": {
     "slide_type": "slide"
    }
   },
   "source": [
    "## Categorical variables\n",
    "\n",
    "* Basically the same as dummy variables, but with more than two levels\n",
    "* In general you need number of categories - 1 columns to encode a categorical variable"
   ]
  },
  {
   "cell_type": "code",
   "execution_count": 6,
   "metadata": {
    "collapsed": false,
    "slideshow": {
     "slide_type": "slide"
    }
   },
   "outputs": [
    {
     "data": {
      "text/html": [
       "<div>\n",
       "<table border=\"1\" class=\"dataframe\">\n",
       "  <thead>\n",
       "    <tr style=\"text-align: right;\">\n",
       "      <th></th>\n",
       "      <th>num_puppies</th>\n",
       "      <th>has_other_animals</th>\n",
       "      <th>age_group</th>\n",
       "      <th>score</th>\n",
       "      <th>others_yes</th>\n",
       "      <th>puppy</th>\n",
       "      <th>elderly</th>\n",
       "    </tr>\n",
       "  </thead>\n",
       "  <tbody>\n",
       "    <tr>\n",
       "      <th>0</th>\n",
       "      <td>1.0</td>\n",
       "      <td>no</td>\n",
       "      <td>dog</td>\n",
       "      <td>4.172862</td>\n",
       "      <td>0</td>\n",
       "      <td>0</td>\n",
       "      <td>0</td>\n",
       "    </tr>\n",
       "    <tr>\n",
       "      <th>1</th>\n",
       "      <td>1.0</td>\n",
       "      <td>no</td>\n",
       "      <td>puppy</td>\n",
       "      <td>16.218760</td>\n",
       "      <td>0</td>\n",
       "      <td>1</td>\n",
       "      <td>0</td>\n",
       "    </tr>\n",
       "    <tr>\n",
       "      <th>2</th>\n",
       "      <td>6.0</td>\n",
       "      <td>no</td>\n",
       "      <td>puppy</td>\n",
       "      <td>33.032914</td>\n",
       "      <td>0</td>\n",
       "      <td>1</td>\n",
       "      <td>0</td>\n",
       "    </tr>\n",
       "    <tr>\n",
       "      <th>3</th>\n",
       "      <td>5.0</td>\n",
       "      <td>no</td>\n",
       "      <td>puppy</td>\n",
       "      <td>31.033705</td>\n",
       "      <td>0</td>\n",
       "      <td>1</td>\n",
       "      <td>0</td>\n",
       "    </tr>\n",
       "    <tr>\n",
       "      <th>4</th>\n",
       "      <td>7.0</td>\n",
       "      <td>no</td>\n",
       "      <td>dog</td>\n",
       "      <td>14.456293</td>\n",
       "      <td>0</td>\n",
       "      <td>0</td>\n",
       "      <td>0</td>\n",
       "    </tr>\n",
       "    <tr>\n",
       "      <th>5</th>\n",
       "      <td>2.0</td>\n",
       "      <td>no</td>\n",
       "      <td>puppy</td>\n",
       "      <td>21.774549</td>\n",
       "      <td>0</td>\n",
       "      <td>1</td>\n",
       "      <td>0</td>\n",
       "    </tr>\n",
       "    <tr>\n",
       "      <th>6</th>\n",
       "      <td>9.0</td>\n",
       "      <td>no</td>\n",
       "      <td>puppy</td>\n",
       "      <td>44.074615</td>\n",
       "      <td>0</td>\n",
       "      <td>1</td>\n",
       "      <td>0</td>\n",
       "    </tr>\n",
       "    <tr>\n",
       "      <th>7</th>\n",
       "      <td>4.0</td>\n",
       "      <td>no</td>\n",
       "      <td>puppy</td>\n",
       "      <td>27.471743</td>\n",
       "      <td>0</td>\n",
       "      <td>1</td>\n",
       "      <td>0</td>\n",
       "    </tr>\n",
       "    <tr>\n",
       "      <th>8</th>\n",
       "      <td>1.0</td>\n",
       "      <td>no</td>\n",
       "      <td>dog</td>\n",
       "      <td>2.227700</td>\n",
       "      <td>0</td>\n",
       "      <td>0</td>\n",
       "      <td>0</td>\n",
       "    </tr>\n",
       "    <tr>\n",
       "      <th>9</th>\n",
       "      <td>8.0</td>\n",
       "      <td>yes</td>\n",
       "      <td>elderly dog</td>\n",
       "      <td>59.459919</td>\n",
       "      <td>1</td>\n",
       "      <td>0</td>\n",
       "      <td>1</td>\n",
       "    </tr>\n",
       "    <tr>\n",
       "      <th>10</th>\n",
       "      <td>1.0</td>\n",
       "      <td>yes</td>\n",
       "      <td>elderly dog</td>\n",
       "      <td>26.607124</td>\n",
       "      <td>1</td>\n",
       "      <td>0</td>\n",
       "      <td>1</td>\n",
       "    </tr>\n",
       "    <tr>\n",
       "      <th>11</th>\n",
       "      <td>7.0</td>\n",
       "      <td>no</td>\n",
       "      <td>puppy</td>\n",
       "      <td>37.034788</td>\n",
       "      <td>0</td>\n",
       "      <td>1</td>\n",
       "      <td>0</td>\n",
       "    </tr>\n",
       "    <tr>\n",
       "      <th>12</th>\n",
       "      <td>2.0</td>\n",
       "      <td>no</td>\n",
       "      <td>dog</td>\n",
       "      <td>6.306421</td>\n",
       "      <td>0</td>\n",
       "      <td>0</td>\n",
       "      <td>0</td>\n",
       "    </tr>\n",
       "    <tr>\n",
       "      <th>13</th>\n",
       "      <td>6.0</td>\n",
       "      <td>no</td>\n",
       "      <td>dog</td>\n",
       "      <td>12.064621</td>\n",
       "      <td>0</td>\n",
       "      <td>0</td>\n",
       "      <td>0</td>\n",
       "    </tr>\n",
       "    <tr>\n",
       "      <th>14</th>\n",
       "      <td>5.0</td>\n",
       "      <td>no</td>\n",
       "      <td>puppy</td>\n",
       "      <td>29.993871</td>\n",
       "      <td>0</td>\n",
       "      <td>1</td>\n",
       "      <td>0</td>\n",
       "    </tr>\n",
       "  </tbody>\n",
       "</table>\n",
       "</div>"
      ],
      "text/plain": [
       "    num_puppies has_other_animals    age_group      score  others_yes  puppy  \\\n",
       "0           1.0                no          dog   4.172862           0      0   \n",
       "1           1.0                no        puppy  16.218760           0      1   \n",
       "2           6.0                no        puppy  33.032914           0      1   \n",
       "3           5.0                no        puppy  31.033705           0      1   \n",
       "4           7.0                no          dog  14.456293           0      0   \n",
       "5           2.0                no        puppy  21.774549           0      1   \n",
       "6           9.0                no        puppy  44.074615           0      1   \n",
       "7           4.0                no        puppy  27.471743           0      1   \n",
       "8           1.0                no          dog   2.227700           0      0   \n",
       "9           8.0               yes  elderly dog  59.459919           1      0   \n",
       "10          1.0               yes  elderly dog  26.607124           1      0   \n",
       "11          7.0                no        puppy  37.034788           0      1   \n",
       "12          2.0                no          dog   6.306421           0      0   \n",
       "13          6.0                no          dog  12.064621           0      0   \n",
       "14          5.0                no        puppy  29.993871           0      1   \n",
       "\n",
       "    elderly  \n",
       "0         0  \n",
       "1         0  \n",
       "2         0  \n",
       "3         0  \n",
       "4         0  \n",
       "5         0  \n",
       "6         0  \n",
       "7         0  \n",
       "8         0  \n",
       "9         1  \n",
       "10        1  \n",
       "11        0  \n",
       "12        0  \n",
       "13        0  \n",
       "14        0  "
      ]
     },
     "execution_count": 6,
     "metadata": {},
     "output_type": "execute_result"
    }
   ],
   "source": [
    "data['puppy'] = 1 * (data.age_group == 'puppy')\n",
    "data['elderly'] = 1 * (data.age_group == 'elderly dog')\n",
    "data.head(15)"
   ]
  },
  {
   "cell_type": "markdown",
   "metadata": {
    "slideshow": {
     "slide_type": "slide"
    }
   },
   "source": [
    "## How this works  \n",
    "  \n",
    "\n",
    "$x_{i1} = \\left\\{\\begin{array}{11} 1 & \\mbox{if the ith picture has mostly puppies} \\\\ 0 & \\mbox{if the ith picture does not have mostly puppies} \\end{array} \\right. $\n",
    "\n",
    "$x_{i2} = \\left\\{\\begin{array}{11} 1 & \\mbox{if the ith picture has mostly elderly dogs} \\\\ 0 & \\mbox{if the ith picture does not have mostly elderly dogs} \\end{array} \\right. $\n",
    "\n",
    "$$y_i \\sim \\beta_0 + \\beta_1 x_{i1} + \\beta_2 x_{i2} + \\epsilon_i = \\left\\{\\begin{array}{111} \\beta_0 + \\beta_1 + \\epsilon_i & \\mbox{if ith picture has mostly puppies} \\\\ \\beta_0 + \\beta_2 + \\epsilon_i & \\mbox{if ith picture has mostly elderly dogs} \\\\ \\beta_0 + \\epsilon_i & \\mbox{if ith picture has mostly middle aged dogs}\\end{array} \\right.$$"
   ]
  },
  {
   "cell_type": "markdown",
   "metadata": {
    "slideshow": {
     "slide_type": "slide"
    }
   },
   "source": [
    "## Once again\n",
    "Interpretation of coefficients changes\n",
    "\n",
    "* What is $\\beta_0$ now?\n",
    "* What is $\\beta_1$?\n",
    "* What is $\\beta_2$?"
   ]
  },
  {
   "cell_type": "markdown",
   "metadata": {
    "slideshow": {
     "slide_type": "slide"
    }
   },
   "source": [
    "## How do we use this?"
   ]
  },
  {
   "cell_type": "code",
   "execution_count": 7,
   "metadata": {
    "collapsed": false,
    "slideshow": {
     "slide_type": "fragment"
    }
   },
   "outputs": [
    {
     "data": {
      "text/html": [
       "<div>\n",
       "<table border=\"1\" class=\"dataframe\">\n",
       "  <thead>\n",
       "    <tr style=\"text-align: right;\">\n",
       "      <th></th>\n",
       "      <th>num_puppies</th>\n",
       "      <th>has_other_animals</th>\n",
       "      <th>age_group</th>\n",
       "      <th>score</th>\n",
       "      <th>others_yes</th>\n",
       "      <th>puppy</th>\n",
       "      <th>elderly</th>\n",
       "    </tr>\n",
       "  </thead>\n",
       "  <tbody>\n",
       "    <tr>\n",
       "      <th>0</th>\n",
       "      <td>1.0</td>\n",
       "      <td>no</td>\n",
       "      <td>dog</td>\n",
       "      <td>4.172862</td>\n",
       "      <td>0</td>\n",
       "      <td>0</td>\n",
       "      <td>0</td>\n",
       "    </tr>\n",
       "    <tr>\n",
       "      <th>1</th>\n",
       "      <td>1.0</td>\n",
       "      <td>no</td>\n",
       "      <td>puppy</td>\n",
       "      <td>16.218760</td>\n",
       "      <td>0</td>\n",
       "      <td>1</td>\n",
       "      <td>0</td>\n",
       "    </tr>\n",
       "    <tr>\n",
       "      <th>2</th>\n",
       "      <td>6.0</td>\n",
       "      <td>no</td>\n",
       "      <td>puppy</td>\n",
       "      <td>33.032914</td>\n",
       "      <td>0</td>\n",
       "      <td>1</td>\n",
       "      <td>0</td>\n",
       "    </tr>\n",
       "    <tr>\n",
       "      <th>3</th>\n",
       "      <td>5.0</td>\n",
       "      <td>no</td>\n",
       "      <td>puppy</td>\n",
       "      <td>31.033705</td>\n",
       "      <td>0</td>\n",
       "      <td>1</td>\n",
       "      <td>0</td>\n",
       "    </tr>\n",
       "    <tr>\n",
       "      <th>4</th>\n",
       "      <td>7.0</td>\n",
       "      <td>no</td>\n",
       "      <td>dog</td>\n",
       "      <td>14.456293</td>\n",
       "      <td>0</td>\n",
       "      <td>0</td>\n",
       "      <td>0</td>\n",
       "    </tr>\n",
       "  </tbody>\n",
       "</table>\n",
       "</div>"
      ],
      "text/plain": [
       "   num_puppies has_other_animals age_group      score  others_yes  puppy  \\\n",
       "0          1.0                no       dog   4.172862           0      0   \n",
       "1          1.0                no     puppy  16.218760           0      1   \n",
       "2          6.0                no     puppy  33.032914           0      1   \n",
       "3          5.0                no     puppy  31.033705           0      1   \n",
       "4          7.0                no       dog  14.456293           0      0   \n",
       "\n",
       "   elderly  \n",
       "0        0  \n",
       "1        0  \n",
       "2        0  \n",
       "3        0  \n",
       "4        0  "
      ]
     },
     "execution_count": 7,
     "metadata": {},
     "output_type": "execute_result"
    }
   ],
   "source": [
    "data.head()"
   ]
  },
  {
   "cell_type": "code",
   "execution_count": 8,
   "metadata": {
    "collapsed": false,
    "slideshow": {
     "slide_type": "slide"
    }
   },
   "outputs": [
    {
     "data": {
      "text/html": [
       "<table class=\"simpletable\">\n",
       "<caption>OLS Regression Results</caption>\n",
       "<tr>\n",
       "  <th>Dep. Variable:</th>          <td>score</td>      <th>  R-squared:         </th> <td>   0.925</td>\n",
       "</tr>\n",
       "<tr>\n",
       "  <th>Model:</th>                   <td>OLS</td>       <th>  Adj. R-squared:    </th> <td>   0.925</td>\n",
       "</tr>\n",
       "<tr>\n",
       "  <th>Method:</th>             <td>Least Squares</td>  <th>  F-statistic:       </th> <td>   3081.</td>\n",
       "</tr>\n",
       "<tr>\n",
       "  <th>Date:</th>             <td>Wed, 05 Oct 2016</td> <th>  Prob (F-statistic):</th>  <td>  0.00</td> \n",
       "</tr>\n",
       "<tr>\n",
       "  <th>Time:</th>                 <td>16:57:15</td>     <th>  Log-Likelihood:    </th> <td> -2800.1</td>\n",
       "</tr>\n",
       "<tr>\n",
       "  <th>No. Observations:</th>      <td>  1000</td>      <th>  AIC:               </th> <td>   5610.</td>\n",
       "</tr>\n",
       "<tr>\n",
       "  <th>Df Residuals:</th>          <td>   995</td>      <th>  BIC:               </th> <td>   5635.</td>\n",
       "</tr>\n",
       "<tr>\n",
       "  <th>Df Model:</th>              <td>     4</td>      <th>                     </th>     <td> </td>   \n",
       "</tr>\n",
       "<tr>\n",
       "  <th>Covariance Type:</th>      <td>nonrobust</td>    <th>                     </th>     <td> </td>   \n",
       "</tr>\n",
       "</table>\n",
       "<table class=\"simpletable\">\n",
       "<tr>\n",
       "       <td></td>          <th>coef</th>     <th>std err</th>      <th>t</th>      <th>P>|t|</th> <th>[95.0% Conf. Int.]</th> \n",
       "</tr>\n",
       "<tr>\n",
       "  <th>const</th>       <td>   -4.2031</td> <td>    0.336</td> <td>  -12.498</td> <td> 0.000</td> <td>   -4.863    -3.543</td>\n",
       "</tr>\n",
       "<tr>\n",
       "  <th>num_puppies</th> <td>    3.1382</td> <td>    0.044</td> <td>   71.203</td> <td> 0.000</td> <td>    3.052     3.225</td>\n",
       "</tr>\n",
       "<tr>\n",
       "  <th>others_yes</th>  <td>   22.0224</td> <td>    0.320</td> <td>   68.759</td> <td> 0.000</td> <td>   21.394    22.651</td>\n",
       "</tr>\n",
       "<tr>\n",
       "  <th>puppy</th>       <td>   18.1394</td> <td>    0.329</td> <td>   55.056</td> <td> 0.000</td> <td>   17.493    18.786</td>\n",
       "</tr>\n",
       "<tr>\n",
       "  <th>elderly</th>     <td>    9.9281</td> <td>    0.360</td> <td>   27.583</td> <td> 0.000</td> <td>    9.222    10.634</td>\n",
       "</tr>\n",
       "</table>\n",
       "<table class=\"simpletable\">\n",
       "<tr>\n",
       "  <th>Omnibus:</th>       <td>151.771</td> <th>  Durbin-Watson:     </th> <td>   2.106</td> \n",
       "</tr>\n",
       "<tr>\n",
       "  <th>Prob(Omnibus):</th> <td> 0.000</td>  <th>  Jarque-Bera (JB):  </th> <td> 915.597</td> \n",
       "</tr>\n",
       "<tr>\n",
       "  <th>Skew:</th>          <td> 0.532</td>  <th>  Prob(JB):          </th> <td>1.52e-199</td>\n",
       "</tr>\n",
       "<tr>\n",
       "  <th>Kurtosis:</th>      <td> 7.565</td>  <th>  Cond. No.          </th> <td>    20.9</td> \n",
       "</tr>\n",
       "</table>"
      ],
      "text/plain": [
       "<class 'statsmodels.iolib.summary.Summary'>\n",
       "\"\"\"\n",
       "                            OLS Regression Results                            \n",
       "==============================================================================\n",
       "Dep. Variable:                  score   R-squared:                       0.925\n",
       "Model:                            OLS   Adj. R-squared:                  0.925\n",
       "Method:                 Least Squares   F-statistic:                     3081.\n",
       "Date:                Wed, 05 Oct 2016   Prob (F-statistic):               0.00\n",
       "Time:                        16:57:15   Log-Likelihood:                -2800.1\n",
       "No. Observations:                1000   AIC:                             5610.\n",
       "Df Residuals:                     995   BIC:                             5635.\n",
       "Df Model:                           4                                         \n",
       "Covariance Type:            nonrobust                                         \n",
       "===============================================================================\n",
       "                  coef    std err          t      P>|t|      [95.0% Conf. Int.]\n",
       "-------------------------------------------------------------------------------\n",
       "const          -4.2031      0.336    -12.498      0.000        -4.863    -3.543\n",
       "num_puppies     3.1382      0.044     71.203      0.000         3.052     3.225\n",
       "others_yes     22.0224      0.320     68.759      0.000        21.394    22.651\n",
       "puppy          18.1394      0.329     55.056      0.000        17.493    18.786\n",
       "elderly         9.9281      0.360     27.583      0.000         9.222    10.634\n",
       "==============================================================================\n",
       "Omnibus:                      151.771   Durbin-Watson:                   2.106\n",
       "Prob(Omnibus):                  0.000   Jarque-Bera (JB):              915.597\n",
       "Skew:                           0.532   Prob(JB):                    1.52e-199\n",
       "Kurtosis:                       7.565   Cond. No.                         20.9\n",
       "==============================================================================\n",
       "\n",
       "Warnings:\n",
       "[1] Standard Errors assume that the covariance matrix of the errors is correctly specified.\n",
       "\"\"\""
      ]
     },
     "execution_count": 8,
     "metadata": {},
     "output_type": "execute_result"
    }
   ],
   "source": [
    "y = data.score\n",
    "X = data[['num_puppies','others_yes','puppy','elderly']]\n",
    "X = sm.add_constant(X)  # <- add in constant term\n",
    "\n",
    "model = sm.OLS(y, X)\n",
    "results = model.fit()\n",
    "results.summary()"
   ]
  },
  {
   "cell_type": "markdown",
   "metadata": {
    "slideshow": {
     "slide_type": "slide"
    }
   },
   "source": [
    "## Note before we move on\n",
    "\n",
    "You can add dummy variables to a data frame automatically with pd.get_dummies\n",
    "\n",
    "### Important\n",
    "This adds columns for all categories, so it does not have a baseline, you can remove the columns you don't want afterwards"
   ]
  },
  {
   "cell_type": "code",
   "execution_count": 9,
   "metadata": {
    "collapsed": false,
    "slideshow": {
     "slide_type": "slide"
    }
   },
   "outputs": [
    {
     "data": {
      "text/html": [
       "<div>\n",
       "<table border=\"1\" class=\"dataframe\">\n",
       "  <thead>\n",
       "    <tr style=\"text-align: right;\">\n",
       "      <th></th>\n",
       "      <th>num_puppies</th>\n",
       "      <th>score</th>\n",
       "      <th>has_other_animals_no</th>\n",
       "      <th>has_other_animals_yes</th>\n",
       "      <th>age_group_dog</th>\n",
       "      <th>age_group_elderly dog</th>\n",
       "      <th>age_group_puppy</th>\n",
       "    </tr>\n",
       "  </thead>\n",
       "  <tbody>\n",
       "    <tr>\n",
       "      <th>0</th>\n",
       "      <td>1.0</td>\n",
       "      <td>4.172862</td>\n",
       "      <td>1.0</td>\n",
       "      <td>0.0</td>\n",
       "      <td>1.0</td>\n",
       "      <td>0.0</td>\n",
       "      <td>0.0</td>\n",
       "    </tr>\n",
       "    <tr>\n",
       "      <th>1</th>\n",
       "      <td>1.0</td>\n",
       "      <td>16.218760</td>\n",
       "      <td>1.0</td>\n",
       "      <td>0.0</td>\n",
       "      <td>0.0</td>\n",
       "      <td>0.0</td>\n",
       "      <td>1.0</td>\n",
       "    </tr>\n",
       "    <tr>\n",
       "      <th>2</th>\n",
       "      <td>6.0</td>\n",
       "      <td>33.032914</td>\n",
       "      <td>1.0</td>\n",
       "      <td>0.0</td>\n",
       "      <td>0.0</td>\n",
       "      <td>0.0</td>\n",
       "      <td>1.0</td>\n",
       "    </tr>\n",
       "    <tr>\n",
       "      <th>3</th>\n",
       "      <td>5.0</td>\n",
       "      <td>31.033705</td>\n",
       "      <td>1.0</td>\n",
       "      <td>0.0</td>\n",
       "      <td>0.0</td>\n",
       "      <td>0.0</td>\n",
       "      <td>1.0</td>\n",
       "    </tr>\n",
       "    <tr>\n",
       "      <th>4</th>\n",
       "      <td>7.0</td>\n",
       "      <td>14.456293</td>\n",
       "      <td>1.0</td>\n",
       "      <td>0.0</td>\n",
       "      <td>1.0</td>\n",
       "      <td>0.0</td>\n",
       "      <td>0.0</td>\n",
       "    </tr>\n",
       "  </tbody>\n",
       "</table>\n",
       "</div>"
      ],
      "text/plain": [
       "   num_puppies      score  has_other_animals_no  has_other_animals_yes  \\\n",
       "0          1.0   4.172862                   1.0                    0.0   \n",
       "1          1.0  16.218760                   1.0                    0.0   \n",
       "2          6.0  33.032914                   1.0                    0.0   \n",
       "3          5.0  31.033705                   1.0                    0.0   \n",
       "4          7.0  14.456293                   1.0                    0.0   \n",
       "\n",
       "   age_group_dog  age_group_elderly dog  age_group_puppy  \n",
       "0            1.0                    0.0              0.0  \n",
       "1            0.0                    0.0              1.0  \n",
       "2            0.0                    0.0              1.0  \n",
       "3            0.0                    0.0              1.0  \n",
       "4            1.0                    0.0              0.0  "
      ]
     },
     "execution_count": 9,
     "metadata": {},
     "output_type": "execute_result"
    }
   ],
   "source": [
    "test = pd.get_dummies(fake_puppy_data)\n",
    "test.head()"
   ]
  },
  {
   "cell_type": "markdown",
   "metadata": {
    "slideshow": {
     "slide_type": "slide"
    }
   },
   "source": [
    "Our model before was fairly good, but how to investigate?\n",
    "\n",
    "Since we only have 1 continuous variable we can visualize in two dimensions, and we would expect different offsets for each line, but the same slope."
   ]
  },
  {
   "cell_type": "code",
   "execution_count": 10,
   "metadata": {
    "collapsed": false,
    "slideshow": {
     "slide_type": "fragment"
    }
   },
   "outputs": [
    {
     "data": {
      "image/png": "[encoded data removed]",
      "text/plain": [
       "<matplotlib.figure.Figure at 0x116ec33c8>"
      ]
     },
     "metadata": {},
     "output_type": "display_data"
    }
   ],
   "source": [
    "data.plot(x='num_puppies', y='score', kind='scatter');"
   ]
  },
  {
   "cell_type": "markdown",
   "metadata": {
    "slideshow": {
     "slide_type": "slide"
    }
   },
   "source": [
    "## Lets try to clear this up a little"
   ]
  },
  {
   "cell_type": "code",
   "execution_count": 11,
   "metadata": {
    "collapsed": false
   },
   "outputs": [
    {
     "data": {
      "image/png": "[encoded data removed]",
      "text/plain": [
       "<matplotlib.figure.Figure at 0x119e21fd0>"
      ]
     },
     "metadata": {},
     "output_type": "display_data"
    }
   ],
   "source": [
    "p_data = data[data.puppy == 1]\n",
    "p_data.plot(x='num_puppies', y='score', kind='scatter', color='b', label='puppy');"
   ]
  },
  {
   "cell_type": "markdown",
   "metadata": {
    "slideshow": {
     "slide_type": "slide"
    }
   },
   "source": [
    "### Our model assumes that the slopes of these lines are the same"
   ]
  },
  {
   "cell_type": "code",
   "execution_count": 12,
   "metadata": {
    "collapsed": false
   },
   "outputs": [
    {
     "data": {
      "image/png": "[encoded data removed]",
      "text/plain": [
       "<matplotlib.figure.Figure at 0x11a032048>"
      ]
     },
     "metadata": {},
     "output_type": "display_data"
    }
   ],
   "source": [
    "scatter(p_data.num_puppies,\n",
    "        results.fittedvalues[data.puppy == 1],\n",
    "        color='m',\n",
    "        marker='x',\n",
    "        label='fitted puppies')\n",
    "legend(loc=4);"
   ]
  },
  {
   "cell_type": "code",
   "execution_count": 13,
   "metadata": {
    "collapsed": false
   },
   "outputs": [
    {
     "data": {
      "image/png": "[encoded data removed]",
      "text/plain": [
       "<matplotlib.figure.Figure at 0x11a03c978>"
      ]
     },
     "metadata": {},
     "output_type": "display_data"
    }
   ],
   "source": [
    "p_data.plot(x='num_puppies', y='score', kind='scatter', color='b', label='puppy', alpha=.2)\n",
    "scatter(p_data.num_puppies,\n",
    "        results.fittedvalues[data.puppy == 1],\n",
    "        color='m',\n",
    "        marker='x',\n",
    "        label='fitted puppies')\n",
    "legend(loc=4);"
   ]
  },
  {
   "cell_type": "code",
   "execution_count": 14,
   "metadata": {
    "collapsed": false,
    "slideshow": {
     "slide_type": "slide"
    }
   },
   "outputs": [
    {
     "data": {
      "image/png": "[encoded data removed]",
      "text/plain": [
       "<matplotlib.figure.Figure at 0x119d81438>"
      ]
     },
     "metadata": {},
     "output_type": "display_data"
    }
   ],
   "source": [
    "lmplot('num_puppies', 'score', p_data, 'has_other_animals', fit_reg=False);"
   ]
  },
  {
   "cell_type": "markdown",
   "metadata": {
    "slideshow": {
     "slide_type": "slide"
    }
   },
   "source": [
    "## Interactions\n",
    "\n",
    "We can add interaction terms by multiplying columns together\n",
    "$$y \\sim \\beta_0 + \\beta_1 \\times x_1 + \\beta_2 \\times x_2 + \\beta_3 \\times x_1 \\times x_2 $$\n",
    "so if $x_2$ is other animals:\n",
    "$$y_i = \\left\\{\\begin{array}{11} (\\beta_0 + \\beta_2) + (\\beta_1 + \\beta_3) \\times x_{1i} + \\epsilon_i & \\mbox{if the ith photo has other animals} \\\\ \\beta_0 + \\beta_1 \\times x_{1i} + \\epsilon_i & \\mbox{if ith picture has no other animals} \\end{array} \\right.$$"
   ]
  },
  {
   "cell_type": "code",
   "execution_count": 15,
   "metadata": {
    "collapsed": false
   },
   "outputs": [
    {
     "data": {
      "image/png": "[encoded data removed]",
      "text/plain": [
       "<matplotlib.figure.Figure at 0x119dafeb8>"
      ]
     },
     "metadata": {},
     "output_type": "display_data"
    }
   ],
   "source": [
    "lmplot('num_puppies', 'score', fake_puppy_data, 'has_other_animals', 'age_group');"
   ]
  },
  {
   "cell_type": "markdown",
   "metadata": {},
   "source": [
    "To make our lives easier, we are going to start using R-style formulas courtesy of the library [`patsy`](http://patsy.readthedocs.io/en/latest/) which should have been installed automatically along with statsmodels."
   ]
  },
  {
   "cell_type": "code",
   "execution_count": 16,
   "metadata": {
    "collapsed": true,
    "slideshow": {
     "slide_type": "fragment"
    }
   },
   "outputs": [],
   "source": [
    "import statsmodels.formula.api as smf"
   ]
  },
  {
   "cell_type": "code",
   "execution_count": 17,
   "metadata": {
    "collapsed": false,
    "slideshow": {
     "slide_type": "fragment"
    }
   },
   "outputs": [
    {
     "data": {
      "text/html": [
       "<table class=\"simpletable\">\n",
       "<caption>OLS Regression Results</caption>\n",
       "<tr>\n",
       "  <th>Dep. Variable:</th>          <td>score</td>      <th>  R-squared:         </th> <td>   0.925</td>\n",
       "</tr>\n",
       "<tr>\n",
       "  <th>Model:</th>                   <td>OLS</td>       <th>  Adj. R-squared:    </th> <td>   0.925</td>\n",
       "</tr>\n",
       "<tr>\n",
       "  <th>Method:</th>             <td>Least Squares</td>  <th>  F-statistic:       </th> <td>   3081.</td>\n",
       "</tr>\n",
       "<tr>\n",
       "  <th>Date:</th>             <td>Wed, 05 Oct 2016</td> <th>  Prob (F-statistic):</th>  <td>  0.00</td> \n",
       "</tr>\n",
       "<tr>\n",
       "  <th>Time:</th>                 <td>16:57:48</td>     <th>  Log-Likelihood:    </th> <td> -2800.1</td>\n",
       "</tr>\n",
       "<tr>\n",
       "  <th>No. Observations:</th>      <td>  1000</td>      <th>  AIC:               </th> <td>   5610.</td>\n",
       "</tr>\n",
       "<tr>\n",
       "  <th>Df Residuals:</th>          <td>   995</td>      <th>  BIC:               </th> <td>   5635.</td>\n",
       "</tr>\n",
       "<tr>\n",
       "  <th>Df Model:</th>              <td>     4</td>      <th>                     </th>     <td> </td>   \n",
       "</tr>\n",
       "<tr>\n",
       "  <th>Covariance Type:</th>      <td>nonrobust</td>    <th>                     </th>     <td> </td>   \n",
       "</tr>\n",
       "</table>\n",
       "<table class=\"simpletable\">\n",
       "<tr>\n",
       "              <td></td>                <th>coef</th>     <th>std err</th>      <th>t</th>      <th>P>|t|</th> <th>[95.0% Conf. Int.]</th> \n",
       "</tr>\n",
       "<tr>\n",
       "  <th>Intercept</th>                <td>   -4.2031</td> <td>    0.336</td> <td>  -12.498</td> <td> 0.000</td> <td>   -4.863    -3.543</td>\n",
       "</tr>\n",
       "<tr>\n",
       "  <th>has_other_animals[T.yes]</th> <td>   22.0224</td> <td>    0.320</td> <td>   68.759</td> <td> 0.000</td> <td>   21.394    22.651</td>\n",
       "</tr>\n",
       "<tr>\n",
       "  <th>age_group[T.elderly dog]</th> <td>    9.9281</td> <td>    0.360</td> <td>   27.583</td> <td> 0.000</td> <td>    9.222    10.634</td>\n",
       "</tr>\n",
       "<tr>\n",
       "  <th>age_group[T.puppy]</th>       <td>   18.1394</td> <td>    0.329</td> <td>   55.056</td> <td> 0.000</td> <td>   17.493    18.786</td>\n",
       "</tr>\n",
       "<tr>\n",
       "  <th>num_puppies</th>              <td>    3.1382</td> <td>    0.044</td> <td>   71.203</td> <td> 0.000</td> <td>    3.052     3.225</td>\n",
       "</tr>\n",
       "</table>\n",
       "<table class=\"simpletable\">\n",
       "<tr>\n",
       "  <th>Omnibus:</th>       <td>151.771</td> <th>  Durbin-Watson:     </th> <td>   2.106</td> \n",
       "</tr>\n",
       "<tr>\n",
       "  <th>Prob(Omnibus):</th> <td> 0.000</td>  <th>  Jarque-Bera (JB):  </th> <td> 915.597</td> \n",
       "</tr>\n",
       "<tr>\n",
       "  <th>Skew:</th>          <td> 0.532</td>  <th>  Prob(JB):          </th> <td>1.52e-199</td>\n",
       "</tr>\n",
       "<tr>\n",
       "  <th>Kurtosis:</th>      <td> 7.565</td>  <th>  Cond. No.          </th> <td>    20.9</td> \n",
       "</tr>\n",
       "</table>"
      ],
      "text/plain": [
       "<class 'statsmodels.iolib.summary.Summary'>\n",
       "\"\"\"\n",
       "                            OLS Regression Results                            \n",
       "==============================================================================\n",
       "Dep. Variable:                  score   R-squared:                       0.925\n",
       "Model:                            OLS   Adj. R-squared:                  0.925\n",
       "Method:                 Least Squares   F-statistic:                     3081.\n",
       "Date:                Wed, 05 Oct 2016   Prob (F-statistic):               0.00\n",
       "Time:                        16:57:48   Log-Likelihood:                -2800.1\n",
       "No. Observations:                1000   AIC:                             5610.\n",
       "Df Residuals:                     995   BIC:                             5635.\n",
       "Df Model:                           4                                         \n",
       "Covariance Type:            nonrobust                                         \n",
       "============================================================================================\n",
       "                               coef    std err          t      P>|t|      [95.0% Conf. Int.]\n",
       "--------------------------------------------------------------------------------------------\n",
       "Intercept                   -4.2031      0.336    -12.498      0.000        -4.863    -3.543\n",
       "has_other_animals[T.yes]    22.0224      0.320     68.759      0.000        21.394    22.651\n",
       "age_group[T.elderly dog]     9.9281      0.360     27.583      0.000         9.222    10.634\n",
       "age_group[T.puppy]          18.1394      0.329     55.056      0.000        17.493    18.786\n",
       "num_puppies                  3.1382      0.044     71.203      0.000         3.052     3.225\n",
       "==============================================================================\n",
       "Omnibus:                      151.771   Durbin-Watson:                   2.106\n",
       "Prob(Omnibus):                  0.000   Jarque-Bera (JB):              915.597\n",
       "Skew:                           0.532   Prob(JB):                    1.52e-199\n",
       "Kurtosis:                       7.565   Cond. No.                         20.9\n",
       "==============================================================================\n",
       "\n",
       "Warnings:\n",
       "[1] Standard Errors assume that the covariance matrix of the errors is correctly specified.\n",
       "\"\"\""
      ]
     },
     "execution_count": 17,
     "metadata": {},
     "output_type": "execute_result"
    }
   ],
   "source": [
    "model2 = smf.ols(formula='score ~ num_puppies + has_other_animals + age_group', data=fake_puppy_data)\n",
    "results2 = model2.fit()\n",
    "results2.summary()"
   ]
  },
  {
   "cell_type": "markdown",
   "metadata": {},
   "source": [
    "Notice that when we use a formula, `patsy` automatically adds an Intercept term and transforms categorical variables into dummies."
   ]
  },
  {
   "cell_type": "code",
   "execution_count": 18,
   "metadata": {
    "collapsed": false,
    "slideshow": {
     "slide_type": "slide"
    }
   },
   "outputs": [
    {
     "data": {
      "text/html": [
       "<div>\n",
       "<table border=\"1\" class=\"dataframe\">\n",
       "  <thead>\n",
       "    <tr style=\"text-align: right;\">\n",
       "      <th></th>\n",
       "      <th>num_puppies</th>\n",
       "      <th>has_other_animals</th>\n",
       "      <th>age_group</th>\n",
       "      <th>score</th>\n",
       "      <th>others_yes</th>\n",
       "      <th>puppy</th>\n",
       "      <th>elderly</th>\n",
       "    </tr>\n",
       "  </thead>\n",
       "  <tbody>\n",
       "    <tr>\n",
       "      <th>0</th>\n",
       "      <td>1.0</td>\n",
       "      <td>no</td>\n",
       "      <td>dog</td>\n",
       "      <td>4.172862</td>\n",
       "      <td>0</td>\n",
       "      <td>0</td>\n",
       "      <td>0</td>\n",
       "    </tr>\n",
       "    <tr>\n",
       "      <th>1</th>\n",
       "      <td>1.0</td>\n",
       "      <td>no</td>\n",
       "      <td>puppy</td>\n",
       "      <td>16.218760</td>\n",
       "      <td>0</td>\n",
       "      <td>1</td>\n",
       "      <td>0</td>\n",
       "    </tr>\n",
       "    <tr>\n",
       "      <th>2</th>\n",
       "      <td>6.0</td>\n",
       "      <td>no</td>\n",
       "      <td>puppy</td>\n",
       "      <td>33.032914</td>\n",
       "      <td>0</td>\n",
       "      <td>1</td>\n",
       "      <td>0</td>\n",
       "    </tr>\n",
       "    <tr>\n",
       "      <th>3</th>\n",
       "      <td>5.0</td>\n",
       "      <td>no</td>\n",
       "      <td>puppy</td>\n",
       "      <td>31.033705</td>\n",
       "      <td>0</td>\n",
       "      <td>1</td>\n",
       "      <td>0</td>\n",
       "    </tr>\n",
       "    <tr>\n",
       "      <th>4</th>\n",
       "      <td>7.0</td>\n",
       "      <td>no</td>\n",
       "      <td>dog</td>\n",
       "      <td>14.456293</td>\n",
       "      <td>0</td>\n",
       "      <td>0</td>\n",
       "      <td>0</td>\n",
       "    </tr>\n",
       "  </tbody>\n",
       "</table>\n",
       "</div>"
      ],
      "text/plain": [
       "   num_puppies has_other_animals age_group      score  others_yes  puppy  \\\n",
       "0          1.0                no       dog   4.172862           0      0   \n",
       "1          1.0                no     puppy  16.218760           0      1   \n",
       "2          6.0                no     puppy  33.032914           0      1   \n",
       "3          5.0                no     puppy  31.033705           0      1   \n",
       "4          7.0                no       dog  14.456293           0      0   \n",
       "\n",
       "   elderly  \n",
       "0        0  \n",
       "1        0  \n",
       "2        0  \n",
       "3        0  \n",
       "4        0  "
      ]
     },
     "execution_count": 18,
     "metadata": {},
     "output_type": "execute_result"
    }
   ],
   "source": [
    "data.head()"
   ]
  },
  {
   "cell_type": "markdown",
   "metadata": {},
   "source": [
    "We can also use formulas to model interactions:"
   ]
  },
  {
   "cell_type": "code",
   "execution_count": 19,
   "metadata": {
    "collapsed": false,
    "slideshow": {
     "slide_type": "slide"
    }
   },
   "outputs": [],
   "source": [
    "formula = 'score ~ num_puppies * others_yes + puppy + elderly'"
   ]
  },
  {
   "cell_type": "code",
   "execution_count": 20,
   "metadata": {
    "collapsed": false,
    "slideshow": {
     "slide_type": "fragment"
    }
   },
   "outputs": [
    {
     "data": {
      "text/html": [
       "<table class=\"simpletable\">\n",
       "<caption>OLS Regression Results</caption>\n",
       "<tr>\n",
       "  <th>Dep. Variable:</th>          <td>score</td>      <th>  R-squared:         </th> <td>   0.970</td>\n",
       "</tr>\n",
       "<tr>\n",
       "  <th>Model:</th>                   <td>OLS</td>       <th>  Adj. R-squared:    </th> <td>   0.970</td>\n",
       "</tr>\n",
       "<tr>\n",
       "  <th>Method:</th>             <td>Least Squares</td>  <th>  F-statistic:       </th> <td>   6486.</td>\n",
       "</tr>\n",
       "<tr>\n",
       "  <th>Date:</th>             <td>Wed, 05 Oct 2016</td> <th>  Prob (F-statistic):</th>  <td>  0.00</td> \n",
       "</tr>\n",
       "<tr>\n",
       "  <th>Time:</th>                 <td>16:57:58</td>     <th>  Log-Likelihood:    </th> <td> -2339.6</td>\n",
       "</tr>\n",
       "<tr>\n",
       "  <th>No. Observations:</th>      <td>  1000</td>      <th>  AIC:               </th> <td>   4691.</td>\n",
       "</tr>\n",
       "<tr>\n",
       "  <th>Df Residuals:</th>          <td>   994</td>      <th>  BIC:               </th> <td>   4721.</td>\n",
       "</tr>\n",
       "<tr>\n",
       "  <th>Df Model:</th>              <td>     5</td>      <th>                     </th>     <td> </td>   \n",
       "</tr>\n",
       "<tr>\n",
       "  <th>Covariance Type:</th>      <td>nonrobust</td>    <th>                     </th>     <td> </td>   \n",
       "</tr>\n",
       "</table>\n",
       "<table class=\"simpletable\">\n",
       "<tr>\n",
       "             <td></td>               <th>coef</th>     <th>std err</th>      <th>t</th>      <th>P>|t|</th> <th>[95.0% Conf. Int.]</th> \n",
       "</tr>\n",
       "<tr>\n",
       "  <th>Intercept</th>              <td>   -1.8550</td> <td>    0.221</td> <td>   -8.402</td> <td> 0.000</td> <td>   -2.288    -1.422</td>\n",
       "</tr>\n",
       "<tr>\n",
       "  <th>num_puppies</th>            <td>    2.6162</td> <td>    0.031</td> <td>   84.635</td> <td> 0.000</td> <td>    2.556     2.677</td>\n",
       "</tr>\n",
       "<tr>\n",
       "  <th>others_yes</th>             <td>   11.1604</td> <td>    0.346</td> <td>   32.298</td> <td> 0.000</td> <td>   10.482    11.839</td>\n",
       "</tr>\n",
       "<tr>\n",
       "  <th>num_puppies:others_yes</th> <td>    2.7465</td> <td>    0.071</td> <td>   38.763</td> <td> 0.000</td> <td>    2.607     2.886</td>\n",
       "</tr>\n",
       "<tr>\n",
       "  <th>puppy</th>                  <td>   18.0063</td> <td>    0.208</td> <td>   86.558</td> <td> 0.000</td> <td>   17.598    18.415</td>\n",
       "</tr>\n",
       "<tr>\n",
       "  <th>elderly</th>                <td>    9.4897</td> <td>    0.228</td> <td>   41.711</td> <td> 0.000</td> <td>    9.043     9.936</td>\n",
       "</tr>\n",
       "</table>\n",
       "<table class=\"simpletable\">\n",
       "<tr>\n",
       "  <th>Omnibus:</th>       <td> 0.092</td> <th>  Durbin-Watson:     </th> <td>   2.052</td>\n",
       "</tr>\n",
       "<tr>\n",
       "  <th>Prob(Omnibus):</th> <td> 0.955</td> <th>  Jarque-Bera (JB):  </th> <td>   0.069</td>\n",
       "</tr>\n",
       "<tr>\n",
       "  <th>Skew:</th>          <td> 0.020</td> <th>  Prob(JB):          </th> <td>   0.966</td>\n",
       "</tr>\n",
       "<tr>\n",
       "  <th>Kurtosis:</th>      <td> 3.006</td> <th>  Cond. No.          </th> <td>    24.1</td>\n",
       "</tr>\n",
       "</table>"
      ],
      "text/plain": [
       "<class 'statsmodels.iolib.summary.Summary'>\n",
       "\"\"\"\n",
       "                            OLS Regression Results                            \n",
       "==============================================================================\n",
       "Dep. Variable:                  score   R-squared:                       0.970\n",
       "Model:                            OLS   Adj. R-squared:                  0.970\n",
       "Method:                 Least Squares   F-statistic:                     6486.\n",
       "Date:                Wed, 05 Oct 2016   Prob (F-statistic):               0.00\n",
       "Time:                        16:57:58   Log-Likelihood:                -2339.6\n",
       "No. Observations:                1000   AIC:                             4691.\n",
       "Df Residuals:                     994   BIC:                             4721.\n",
       "Df Model:                           5                                         \n",
       "Covariance Type:            nonrobust                                         \n",
       "==========================================================================================\n",
       "                             coef    std err          t      P>|t|      [95.0% Conf. Int.]\n",
       "------------------------------------------------------------------------------------------\n",
       "Intercept                 -1.8550      0.221     -8.402      0.000        -2.288    -1.422\n",
       "num_puppies                2.6162      0.031     84.635      0.000         2.556     2.677\n",
       "others_yes                11.1604      0.346     32.298      0.000        10.482    11.839\n",
       "num_puppies:others_yes     2.7465      0.071     38.763      0.000         2.607     2.886\n",
       "puppy                     18.0063      0.208     86.558      0.000        17.598    18.415\n",
       "elderly                    9.4897      0.228     41.711      0.000         9.043     9.936\n",
       "==============================================================================\n",
       "Omnibus:                        0.092   Durbin-Watson:                   2.052\n",
       "Prob(Omnibus):                  0.955   Jarque-Bera (JB):                0.069\n",
       "Skew:                           0.020   Prob(JB):                        0.966\n",
       "Kurtosis:                       3.006   Cond. No.                         24.1\n",
       "==============================================================================\n",
       "\n",
       "Warnings:\n",
       "[1] Standard Errors assume that the covariance matrix of the errors is correctly specified.\n",
       "\"\"\""
      ]
     },
     "execution_count": 20,
     "metadata": {},
     "output_type": "execute_result"
    }
   ],
   "source": [
    "model3 = smf.ols(formula = formula,data = data)\n",
    "results3 = model3.fit()\n",
    "results3.summary()"
   ]
  },
  {
   "cell_type": "code",
   "execution_count": 21,
   "metadata": {
    "collapsed": false,
    "slideshow": {
     "slide_type": "slide"
    }
   },
   "outputs": [
    {
     "data": {
      "image/png": "[encoded data removed]",
      "text/plain": [
       "<matplotlib.figure.Figure at 0x11a6b64e0>"
      ]
     },
     "metadata": {},
     "output_type": "display_data"
    }
   ],
   "source": [
    "p_data.plot(x='num_puppies',y='score',kind='scatter',color='b',label='puppy')\n",
    "scatter(p_data.num_puppies, results3.fittedvalues[data['puppy']==1], color='y', marker='x' ,label = 'fitted puppies');"
   ]
  },
  {
   "cell_type": "markdown",
   "metadata": {
    "slideshow": {
     "slide_type": "slide"
    }
   },
   "source": [
    "## Interactions between multiple continuous variables\n",
    "\n",
    "We can add interaction terms by multiplying columns together\n",
    "$$y \\sim \\beta_0 + \\beta_1 \\times x_1 + \\beta_2 \\times x_2 + \\beta_3 \\times x_1 \\times x_2 $$\n",
    "so if $x_1$ and $x_2$ are both continuous:\n",
    "$$y_i = \\beta_0 + (\\beta_1 + \\beta_3 \\times x_{2i}) \\times x_{1i} + \\beta_2 \\times x_{2i}$$"
   ]
  },
  {
   "cell_type": "markdown",
   "metadata": {
    "slideshow": {
     "slide_type": "fragment"
    }
   },
   "source": [
    "So, the value of the coefficient for $x_1$ now depends on the value of $x_2$.  \n",
    "For interpretation you still consider the other variables held constant, but when there are interactions you cannot say how much one will improve without specifying the value the other one is held constant at."
   ]
  },
  {
   "cell_type": "markdown",
   "metadata": {
    "slideshow": {
     "slide_type": "slide"
    }
   },
   "source": [
    "## Stepwise Regression\n",
    "\n",
    "Stepwise regression is a good simple tool for determining parameters to include in models. Care must be taken in its use, as it is easy to fall into the trap of trusting it more than you should. If you have a large number of parameters, or a small amount of data, it is probably best to use another tool. There are multiple ways to perform stepwise regression, the general procedures for stepwise regression are:\n",
    "\n",
    "* Forward Stepwise Regression:\n",
    "    * Start with some form of minimal model (like intercept only)\n",
    "    * Add other variables into your model based on which ones maximally increase adjusted $R^2$ (or some other test criteria)\n",
    "    * Continue until you run out of variables or adding any variable reduces the quality of your  model\n",
    "* Backward Stepwise Regression:\n",
    "    * Start with some form of maximal model (include all variables)\n",
    "    * Remove variables that least improve the model (or have insignificant p-values), one at a time\n",
    "    * Stop when you can no longer improve your model by removing variables\n",
    "* Bidirectional Stepwise Regression:\n",
    "    * Do both of the above"
   ]
  },
  {
   "cell_type": "markdown",
   "metadata": {
    "slideshow": {
     "slide_type": "slide"
    }
   },
   "source": [
    "## Useful things to know\n",
    "\n",
    "In order to implement stepwise regression you have to know how to compare models. There are several ways to do this:\n",
    "\n",
    "* Adjusted $R^2$, AIC, BIC, F-test. These are model quality metrics (will discuss more on next slide)\n",
    "* p-values for coefficients. These can be used to evaluate importance of individual predictors for the model.\n",
    "* Others I haven't mentioned"
   ]
  },
  {
   "cell_type": "markdown",
   "metadata": {
    "slideshow": {
     "slide_type": "slide"
    }
   },
   "source": [
    "## Model quality metrics\n",
    "* Adjusted $R^2$  \n",
    "$$Adjusted\\ R^2 = 1 - {\\frac{RSS}{(n-k-1)} \\over \\frac{TSS}{(n-1)}}$$\n",
    "    * Want adjusted $R^2$ close to one, includes penalties for number of predictors (k)  \n",
    "\n",
    "* AIC (Akaike Information Criterion)  \n",
    "$$AIC = -2log(L) + 2k$$\n",
    "    * L is likelihood for the model and k is number of predictors, want the model with the lowest AIC value  \n",
    "    \n",
    "* BIC (Bayesian Information Criterion)\n",
    "$$BIC = -2log(L) + 2log(n)$$\n",
    "    * Very similar to AIC, but since log(n) > 2 for n > 7 adds a larger penalty for additional predictors, once again want the lowest. n is the sample size.  "
   ]
  },
  {
   "cell_type": "markdown",
   "metadata": {
    "slideshow": {
     "slide_type": "slide"
    }
   },
   "source": [
    "## Backward stepwise example"
   ]
  },
  {
   "cell_type": "code",
   "execution_count": 22,
   "metadata": {
    "collapsed": false,
    "slideshow": {
     "slide_type": "skip"
    }
   },
   "outputs": [],
   "source": [
    "boring_fake_data_1 = pd.DataFrame()\n",
    "boring_fake_data_1['A'] = np.random.normal(25,5,1000)\n",
    "boring_fake_data_1['C'] = np.random.normal(75,15,1000)\n",
    "boring_fake_data_1['B'] = 5 * boring_fake_data_1['A'] - 2 * boring_fake_data_1['C'] + np.random.normal(20,3,1000)\n",
    "boring_fake_data_1['D'] = np.random.uniform(-50,50,1000)\n",
    "boring_fake_data_1['response'] = 50 * boring_fake_data_1['A'] + \\\n",
    "                                 3 * boring_fake_data_1['B'] + \\\n",
    "                                 50 * boring_fake_data_1['C'] + \\\n",
    "                                 50 + np.random.normal(350,150,1000)"
   ]
  },
  {
   "cell_type": "code",
   "execution_count": 23,
   "metadata": {
    "collapsed": false,
    "slideshow": {
     "slide_type": "fragment"
    }
   },
   "outputs": [
    {
     "data": {
      "text/html": [
       "<div>\n",
       "<table border=\"1\" class=\"dataframe\">\n",
       "  <thead>\n",
       "    <tr style=\"text-align: right;\">\n",
       "      <th></th>\n",
       "      <th>A</th>\n",
       "      <th>C</th>\n",
       "      <th>B</th>\n",
       "      <th>D</th>\n",
       "      <th>response</th>\n",
       "    </tr>\n",
       "  </thead>\n",
       "  <tbody>\n",
       "    <tr>\n",
       "      <th>0</th>\n",
       "      <td>30.491827</td>\n",
       "      <td>74.412301</td>\n",
       "      <td>23.554436</td>\n",
       "      <td>47.580446</td>\n",
       "      <td>5720.862964</td>\n",
       "    </tr>\n",
       "    <tr>\n",
       "      <th>1</th>\n",
       "      <td>38.490343</td>\n",
       "      <td>98.438391</td>\n",
       "      <td>9.922907</td>\n",
       "      <td>-38.965109</td>\n",
       "      <td>7518.401238</td>\n",
       "    </tr>\n",
       "    <tr>\n",
       "      <th>2</th>\n",
       "      <td>16.048248</td>\n",
       "      <td>83.190449</td>\n",
       "      <td>-59.261077</td>\n",
       "      <td>-46.355409</td>\n",
       "      <td>5087.466858</td>\n",
       "    </tr>\n",
       "    <tr>\n",
       "      <th>3</th>\n",
       "      <td>23.453789</td>\n",
       "      <td>57.239373</td>\n",
       "      <td>24.395456</td>\n",
       "      <td>37.433237</td>\n",
       "      <td>4622.379080</td>\n",
       "    </tr>\n",
       "    <tr>\n",
       "      <th>4</th>\n",
       "      <td>18.527440</td>\n",
       "      <td>91.814029</td>\n",
       "      <td>-72.814623</td>\n",
       "      <td>31.462165</td>\n",
       "      <td>5573.733563</td>\n",
       "    </tr>\n",
       "  </tbody>\n",
       "</table>\n",
       "</div>"
      ],
      "text/plain": [
       "           A          C          B          D     response\n",
       "0  30.491827  74.412301  23.554436  47.580446  5720.862964\n",
       "1  38.490343  98.438391   9.922907 -38.965109  7518.401238\n",
       "2  16.048248  83.190449 -59.261077 -46.355409  5087.466858\n",
       "3  23.453789  57.239373  24.395456  37.433237  4622.379080\n",
       "4  18.527440  91.814029 -72.814623  31.462165  5573.733563"
      ]
     },
     "execution_count": 23,
     "metadata": {},
     "output_type": "execute_result"
    }
   ],
   "source": [
    "boring_fake_data_1.head()"
   ]
  },
  {
   "cell_type": "markdown",
   "metadata": {
    "slideshow": {
     "slide_type": "slide"
    }
   },
   "source": [
    "## Fit the full model with all of the independent variables"
   ]
  },
  {
   "cell_type": "code",
   "execution_count": 24,
   "metadata": {
    "collapsed": false,
    "slideshow": {
     "slide_type": "fragment"
    }
   },
   "outputs": [
    {
     "data": {
      "text/html": [
       "<table class=\"simpletable\">\n",
       "<caption>OLS Regression Results</caption>\n",
       "<tr>\n",
       "  <th>Dep. Variable:</th>        <td>response</td>     <th>  R-squared:         </th> <td>   0.962</td> \n",
       "</tr>\n",
       "<tr>\n",
       "  <th>Model:</th>                   <td>OLS</td>       <th>  Adj. R-squared:    </th> <td>   0.962</td> \n",
       "</tr>\n",
       "<tr>\n",
       "  <th>Method:</th>             <td>Least Squares</td>  <th>  F-statistic:       </th> <td>   6289.</td> \n",
       "</tr>\n",
       "<tr>\n",
       "  <th>Date:</th>             <td>Wed, 05 Oct 2016</td> <th>  Prob (F-statistic):</th>  <td>  0.00</td>  \n",
       "</tr>\n",
       "<tr>\n",
       "  <th>Time:</th>                 <td>16:58:11</td>     <th>  Log-Likelihood:    </th> <td> -6438.5</td> \n",
       "</tr>\n",
       "<tr>\n",
       "  <th>No. Observations:</th>      <td>  1000</td>      <th>  AIC:               </th> <td>1.289e+04</td>\n",
       "</tr>\n",
       "<tr>\n",
       "  <th>Df Residuals:</th>          <td>   995</td>      <th>  BIC:               </th> <td>1.291e+04</td>\n",
       "</tr>\n",
       "<tr>\n",
       "  <th>Df Model:</th>              <td>     4</td>      <th>                     </th>     <td> </td>    \n",
       "</tr>\n",
       "<tr>\n",
       "  <th>Covariance Type:</th>      <td>nonrobust</td>    <th>                     </th>     <td> </td>    \n",
       "</tr>\n",
       "</table>\n",
       "<table class=\"simpletable\">\n",
       "<tr>\n",
       "      <td></td>         <th>coef</th>     <th>std err</th>      <th>t</th>      <th>P>|t|</th> <th>[95.0% Conf. Int.]</th> \n",
       "</tr>\n",
       "<tr>\n",
       "  <th>Intercept</th> <td>  331.8376</td> <td>   47.210</td> <td>    7.029</td> <td> 0.000</td> <td>  239.195   424.480</td>\n",
       "</tr>\n",
       "<tr>\n",
       "  <th>A</th>         <td>   38.3674</td> <td>    8.152</td> <td>    4.706</td> <td> 0.000</td> <td>   22.370    54.365</td>\n",
       "</tr>\n",
       "<tr>\n",
       "  <th>B</th>         <td>    5.3680</td> <td>    1.621</td> <td>    3.311</td> <td> 0.001</td> <td>    2.187     8.549</td>\n",
       "</tr>\n",
       "<tr>\n",
       "  <th>C</th>         <td>   55.0212</td> <td>    3.270</td> <td>   16.826</td> <td> 0.000</td> <td>   48.604    61.438</td>\n",
       "</tr>\n",
       "<tr>\n",
       "  <th>D</th>         <td>    0.2189</td> <td>    0.166</td> <td>    1.320</td> <td> 0.187</td> <td>   -0.106     0.544</td>\n",
       "</tr>\n",
       "</table>\n",
       "<table class=\"simpletable\">\n",
       "<tr>\n",
       "  <th>Omnibus:</th>       <td> 1.569</td> <th>  Durbin-Watson:     </th> <td>   2.025</td>\n",
       "</tr>\n",
       "<tr>\n",
       "  <th>Prob(Omnibus):</th> <td> 0.456</td> <th>  Jarque-Bera (JB):  </th> <td>   1.534</td>\n",
       "</tr>\n",
       "<tr>\n",
       "  <th>Skew:</th>          <td> 0.032</td> <th>  Prob(JB):          </th> <td>   0.464</td>\n",
       "</tr>\n",
       "<tr>\n",
       "  <th>Kurtosis:</th>      <td> 2.819</td> <th>  Cond. No.          </th> <td>    800.</td>\n",
       "</tr>\n",
       "</table>"
      ],
      "text/plain": [
       "<class 'statsmodels.iolib.summary.Summary'>\n",
       "\"\"\"\n",
       "                            OLS Regression Results                            \n",
       "==============================================================================\n",
       "Dep. Variable:               response   R-squared:                       0.962\n",
       "Model:                            OLS   Adj. R-squared:                  0.962\n",
       "Method:                 Least Squares   F-statistic:                     6289.\n",
       "Date:                Wed, 05 Oct 2016   Prob (F-statistic):               0.00\n",
       "Time:                        16:58:11   Log-Likelihood:                -6438.5\n",
       "No. Observations:                1000   AIC:                         1.289e+04\n",
       "Df Residuals:                     995   BIC:                         1.291e+04\n",
       "Df Model:                           4                                         \n",
       "Covariance Type:            nonrobust                                         \n",
       "==============================================================================\n",
       "                 coef    std err          t      P>|t|      [95.0% Conf. Int.]\n",
       "------------------------------------------------------------------------------\n",
       "Intercept    331.8376     47.210      7.029      0.000       239.195   424.480\n",
       "A             38.3674      8.152      4.706      0.000        22.370    54.365\n",
       "B              5.3680      1.621      3.311      0.001         2.187     8.549\n",
       "C             55.0212      3.270     16.826      0.000        48.604    61.438\n",
       "D              0.2189      0.166      1.320      0.187        -0.106     0.544\n",
       "==============================================================================\n",
       "Omnibus:                        1.569   Durbin-Watson:                   2.025\n",
       "Prob(Omnibus):                  0.456   Jarque-Bera (JB):                1.534\n",
       "Skew:                           0.032   Prob(JB):                        0.464\n",
       "Kurtosis:                       2.819   Cond. No.                         800.\n",
       "==============================================================================\n",
       "\n",
       "Warnings:\n",
       "[1] Standard Errors assume that the covariance matrix of the errors is correctly specified.\n",
       "\"\"\""
      ]
     },
     "execution_count": 24,
     "metadata": {},
     "output_type": "execute_result"
    }
   ],
   "source": [
    "formula = 'response ~ A + B + C + D'\n",
    "model1 = smf.ols(formula=formula, data=boring_fake_data_1)\n",
    "results1 = model1.fit()\n",
    "results1.summary()"
   ]
  },
  {
   "cell_type": "markdown",
   "metadata": {
    "slideshow": {
     "slide_type": "slide"
    }
   },
   "source": [
    "## Eliminate the least significant variable"
   ]
  },
  {
   "cell_type": "code",
   "execution_count": 25,
   "metadata": {
    "collapsed": false,
    "slideshow": {
     "slide_type": "fragment"
    }
   },
   "outputs": [
    {
     "data": {
      "text/html": [
       "<table class=\"simpletable\">\n",
       "<caption>OLS Regression Results</caption>\n",
       "<tr>\n",
       "  <th>Dep. Variable:</th>        <td>response</td>     <th>  R-squared:         </th> <td>   0.962</td> \n",
       "</tr>\n",
       "<tr>\n",
       "  <th>Model:</th>                   <td>OLS</td>       <th>  Adj. R-squared:    </th> <td>   0.961</td> \n",
       "</tr>\n",
       "<tr>\n",
       "  <th>Method:</th>             <td>Least Squares</td>  <th>  F-statistic:       </th> <td>   8299.</td> \n",
       "</tr>\n",
       "<tr>\n",
       "  <th>Date:</th>             <td>Wed, 05 Oct 2016</td> <th>  Prob (F-statistic):</th>  <td>  0.00</td>  \n",
       "</tr>\n",
       "<tr>\n",
       "  <th>Time:</th>                 <td>16:58:15</td>     <th>  Log-Likelihood:    </th> <td> -6444.0</td> \n",
       "</tr>\n",
       "<tr>\n",
       "  <th>No. Observations:</th>      <td>  1000</td>      <th>  AIC:               </th> <td>1.290e+04</td>\n",
       "</tr>\n",
       "<tr>\n",
       "  <th>Df Residuals:</th>          <td>   996</td>      <th>  BIC:               </th> <td>1.292e+04</td>\n",
       "</tr>\n",
       "<tr>\n",
       "  <th>Df Model:</th>              <td>     3</td>      <th>                     </th>     <td> </td>    \n",
       "</tr>\n",
       "<tr>\n",
       "  <th>Covariance Type:</th>      <td>nonrobust</td>    <th>                     </th>     <td> </td>    \n",
       "</tr>\n",
       "</table>\n",
       "<table class=\"simpletable\">\n",
       "<tr>\n",
       "      <td></td>         <th>coef</th>     <th>std err</th>      <th>t</th>      <th>P>|t|</th> <th>[95.0% Conf. Int.]</th> \n",
       "</tr>\n",
       "<tr>\n",
       "  <th>Intercept</th> <td>  443.1818</td> <td>   33.304</td> <td>   13.307</td> <td> 0.000</td> <td>  377.827   508.536</td>\n",
       "</tr>\n",
       "<tr>\n",
       "  <th>A</th>         <td>   65.1920</td> <td>    0.922</td> <td>   70.704</td> <td> 0.000</td> <td>   63.383    67.001</td>\n",
       "</tr>\n",
       "<tr>\n",
       "  <th>C</th>         <td>   44.2415</td> <td>    0.312</td> <td>  141.697</td> <td> 0.000</td> <td>   43.629    44.854</td>\n",
       "</tr>\n",
       "<tr>\n",
       "  <th>D</th>         <td>    0.1991</td> <td>    0.167</td> <td>    1.196</td> <td> 0.232</td> <td>   -0.128     0.526</td>\n",
       "</tr>\n",
       "</table>\n",
       "<table class=\"simpletable\">\n",
       "<tr>\n",
       "  <th>Omnibus:</th>       <td> 0.944</td> <th>  Durbin-Watson:     </th> <td>   2.026</td>\n",
       "</tr>\n",
       "<tr>\n",
       "  <th>Prob(Omnibus):</th> <td> 0.624</td> <th>  Jarque-Bera (JB):  </th> <td>   0.987</td>\n",
       "</tr>\n",
       "<tr>\n",
       "  <th>Skew:</th>          <td> 0.007</td> <th>  Prob(JB):          </th> <td>   0.611</td>\n",
       "</tr>\n",
       "<tr>\n",
       "  <th>Kurtosis:</th>      <td> 2.847</td> <th>  Cond. No.          </th> <td>    553.</td>\n",
       "</tr>\n",
       "</table>"
      ],
      "text/plain": [
       "<class 'statsmodels.iolib.summary.Summary'>\n",
       "\"\"\"\n",
       "                            OLS Regression Results                            \n",
       "==============================================================================\n",
       "Dep. Variable:               response   R-squared:                       0.962\n",
       "Model:                            OLS   Adj. R-squared:                  0.961\n",
       "Method:                 Least Squares   F-statistic:                     8299.\n",
       "Date:                Wed, 05 Oct 2016   Prob (F-statistic):               0.00\n",
       "Time:                        16:58:15   Log-Likelihood:                -6444.0\n",
       "No. Observations:                1000   AIC:                         1.290e+04\n",
       "Df Residuals:                     996   BIC:                         1.292e+04\n",
       "Df Model:                           3                                         \n",
       "Covariance Type:            nonrobust                                         \n",
       "==============================================================================\n",
       "                 coef    std err          t      P>|t|      [95.0% Conf. Int.]\n",
       "------------------------------------------------------------------------------\n",
       "Intercept    443.1818     33.304     13.307      0.000       377.827   508.536\n",
       "A             65.1920      0.922     70.704      0.000        63.383    67.001\n",
       "C             44.2415      0.312    141.697      0.000        43.629    44.854\n",
       "D              0.1991      0.167      1.196      0.232        -0.128     0.526\n",
       "==============================================================================\n",
       "Omnibus:                        0.944   Durbin-Watson:                   2.026\n",
       "Prob(Omnibus):                  0.624   Jarque-Bera (JB):                0.987\n",
       "Skew:                           0.007   Prob(JB):                        0.611\n",
       "Kurtosis:                       2.847   Cond. No.                         553.\n",
       "==============================================================================\n",
       "\n",
       "Warnings:\n",
       "[1] Standard Errors assume that the covariance matrix of the errors is correctly specified.\n",
       "\"\"\""
      ]
     },
     "execution_count": 25,
     "metadata": {},
     "output_type": "execute_result"
    }
   ],
   "source": [
    "formula = 'response ~ A + C + D'\n",
    "model2 = smf.ols(formula=formula,data=boring_fake_data_1)\n",
    "results2 = model2.fit()\n",
    "results2.summary()"
   ]
  },
  {
   "cell_type": "markdown",
   "metadata": {
    "slideshow": {
     "slide_type": "slide"
    }
   },
   "source": [
    "## And again"
   ]
  },
  {
   "cell_type": "code",
   "execution_count": 26,
   "metadata": {
    "collapsed": false,
    "slideshow": {
     "slide_type": "fragment"
    }
   },
   "outputs": [
    {
     "data": {
      "text/html": [
       "<table class=\"simpletable\">\n",
       "<caption>OLS Regression Results</caption>\n",
       "<tr>\n",
       "  <th>Dep. Variable:</th>        <td>response</td>     <th>  R-squared:         </th> <td>   0.961</td> \n",
       "</tr>\n",
       "<tr>\n",
       "  <th>Model:</th>                   <td>OLS</td>       <th>  Adj. R-squared:    </th> <td>   0.961</td> \n",
       "</tr>\n",
       "<tr>\n",
       "  <th>Method:</th>             <td>Least Squares</td>  <th>  F-statistic:       </th> <td>1.244e+04</td>\n",
       "</tr>\n",
       "<tr>\n",
       "  <th>Date:</th>             <td>Wed, 05 Oct 2016</td> <th>  Prob (F-statistic):</th>  <td>  0.00</td>  \n",
       "</tr>\n",
       "<tr>\n",
       "  <th>Time:</th>                 <td>16:58:22</td>     <th>  Log-Likelihood:    </th> <td> -6444.7</td> \n",
       "</tr>\n",
       "<tr>\n",
       "  <th>No. Observations:</th>      <td>  1000</td>      <th>  AIC:               </th> <td>1.290e+04</td>\n",
       "</tr>\n",
       "<tr>\n",
       "  <th>Df Residuals:</th>          <td>   997</td>      <th>  BIC:               </th> <td>1.291e+04</td>\n",
       "</tr>\n",
       "<tr>\n",
       "  <th>Df Model:</th>              <td>     2</td>      <th>                     </th>     <td> </td>    \n",
       "</tr>\n",
       "<tr>\n",
       "  <th>Covariance Type:</th>      <td>nonrobust</td>    <th>                     </th>     <td> </td>    \n",
       "</tr>\n",
       "</table>\n",
       "<table class=\"simpletable\">\n",
       "<tr>\n",
       "      <td></td>         <th>coef</th>     <th>std err</th>      <th>t</th>      <th>P>|t|</th> <th>[95.0% Conf. Int.]</th> \n",
       "</tr>\n",
       "<tr>\n",
       "  <th>Intercept</th> <td>  443.0048</td> <td>   33.311</td> <td>   13.299</td> <td> 0.000</td> <td>  377.637   508.373</td>\n",
       "</tr>\n",
       "<tr>\n",
       "  <th>A</th>         <td>   65.2047</td> <td>    0.922</td> <td>   70.708</td> <td> 0.000</td> <td>   63.395    67.014</td>\n",
       "</tr>\n",
       "<tr>\n",
       "  <th>C</th>         <td>   44.2409</td> <td>    0.312</td> <td>  141.665</td> <td> 0.000</td> <td>   43.628    44.854</td>\n",
       "</tr>\n",
       "</table>\n",
       "<table class=\"simpletable\">\n",
       "<tr>\n",
       "  <th>Omnibus:</th>       <td> 0.862</td> <th>  Durbin-Watson:     </th> <td>   2.020</td>\n",
       "</tr>\n",
       "<tr>\n",
       "  <th>Prob(Omnibus):</th> <td> 0.650</td> <th>  Jarque-Bera (JB):  </th> <td>   0.916</td>\n",
       "</tr>\n",
       "<tr>\n",
       "  <th>Skew:</th>          <td> 0.006</td> <th>  Prob(JB):          </th> <td>   0.633</td>\n",
       "</tr>\n",
       "<tr>\n",
       "  <th>Kurtosis:</th>      <td> 2.852</td> <th>  Cond. No.          </th> <td>    553.</td>\n",
       "</tr>\n",
       "</table>"
      ],
      "text/plain": [
       "<class 'statsmodels.iolib.summary.Summary'>\n",
       "\"\"\"\n",
       "                            OLS Regression Results                            \n",
       "==============================================================================\n",
       "Dep. Variable:               response   R-squared:                       0.961\n",
       "Model:                            OLS   Adj. R-squared:                  0.961\n",
       "Method:                 Least Squares   F-statistic:                 1.244e+04\n",
       "Date:                Wed, 05 Oct 2016   Prob (F-statistic):               0.00\n",
       "Time:                        16:58:22   Log-Likelihood:                -6444.7\n",
       "No. Observations:                1000   AIC:                         1.290e+04\n",
       "Df Residuals:                     997   BIC:                         1.291e+04\n",
       "Df Model:                           2                                         \n",
       "Covariance Type:            nonrobust                                         \n",
       "==============================================================================\n",
       "                 coef    std err          t      P>|t|      [95.0% Conf. Int.]\n",
       "------------------------------------------------------------------------------\n",
       "Intercept    443.0048     33.311     13.299      0.000       377.637   508.373\n",
       "A             65.2047      0.922     70.708      0.000        63.395    67.014\n",
       "C             44.2409      0.312    141.665      0.000        43.628    44.854\n",
       "==============================================================================\n",
       "Omnibus:                        0.862   Durbin-Watson:                   2.020\n",
       "Prob(Omnibus):                  0.650   Jarque-Bera (JB):                0.916\n",
       "Skew:                           0.006   Prob(JB):                        0.633\n",
       "Kurtosis:                       2.852   Cond. No.                         553.\n",
       "==============================================================================\n",
       "\n",
       "Warnings:\n",
       "[1] Standard Errors assume that the covariance matrix of the errors is correctly specified.\n",
       "\"\"\""
      ]
     },
     "execution_count": 26,
     "metadata": {},
     "output_type": "execute_result"
    }
   ],
   "source": [
    "formula = 'response ~ A + C'\n",
    "model3 = smf.ols(formula=formula,data=boring_fake_data_1)\n",
    "results3 = model3.fit()\n",
    "results3.summary()"
   ]
  },
  {
   "cell_type": "code",
   "execution_count": null,
   "metadata": {
    "collapsed": true
   },
   "outputs": [],
   "source": []
  }
 ],
 "metadata": {
  "anaconda-cloud": {},
  "kernelspec": {
   "display_name": "Python [Root]",
   "language": "python",
   "name": "Python [Root]"
  },
  "language_info": {
   "codemirror_mode": {
    "name": "ipython",
    "version": 3
   },
   "file_extension": ".py",
   "mimetype": "text/x-python",
   "name": "python",
   "nbconvert_exporter": "python",
   "pygments_lexer": "ipython3",
   "version": "3.5.2"
  }
 },
 "nbformat": 4,
 "nbformat_minor": 0
}
