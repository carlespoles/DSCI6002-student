{
 "cells": [
  {
   "cell_type": "markdown",
   "metadata": {},
   "source": [
    "# RAT 6.3  \n",
    "\n",
    "We will use the data in `https://s3-us-west-2.amazonaws.com/dsci/6002/data/homer.csv`.  "
   ]
  },
  {
   "cell_type": "markdown",
   "metadata": {},
   "source": [
    "1) Fit a multiple regression model to predict $y$.  "
   ]
  },
  {
   "cell_type": "code",
   "execution_count": 1,
   "metadata": {
    "collapsed": false
   },
   "outputs": [
    {
     "name": "stdout",
     "output_type": "stream",
     "text": [
      "Populating the interactive namespace from numpy and matplotlib\n"
     ]
    }
   ],
   "source": [
    "%pylab inline\n",
    "\n",
    "import pandas as pd\n",
    "import seaborn as sns\n",
    "import statsmodels.api as sm"
   ]
  },
  {
   "cell_type": "code",
   "execution_count": 2,
   "metadata": {
    "collapsed": true
   },
   "outputs": [],
   "source": [
    "df = pd.read_csv(\"https://s3-us-west-2.amazonaws.com/dsci/6002/data/homer.csv\")"
   ]
  },
  {
   "cell_type": "code",
   "execution_count": 3,
   "metadata": {
    "collapsed": false
   },
   "outputs": [
    {
     "data": {
      "text/html": [
       "<div>\n",
       "<table border=\"1\" class=\"dataframe\">\n",
       "  <thead>\n",
       "    <tr style=\"text-align: right;\">\n",
       "      <th></th>\n",
       "      <th>y</th>\n",
       "      <th>x1</th>\n",
       "      <th>x2</th>\n",
       "      <th>x3</th>\n",
       "      <th>x4</th>\n",
       "      <th>x5</th>\n",
       "      <th>x6</th>\n",
       "    </tr>\n",
       "  </thead>\n",
       "  <tbody>\n",
       "    <tr>\n",
       "      <th>0</th>\n",
       "      <td>-2.17360</td>\n",
       "      <td>-0.023816</td>\n",
       "      <td>-0.012885</td>\n",
       "      <td>0.045936</td>\n",
       "      <td>-0.182890</td>\n",
       "      <td>0.028694</td>\n",
       "      <td>-0.81119</td>\n",
       "    </tr>\n",
       "    <tr>\n",
       "      <th>1</th>\n",
       "      <td>-1.29570</td>\n",
       "      <td>0.018453</td>\n",
       "      <td>0.058999</td>\n",
       "      <td>-0.072399</td>\n",
       "      <td>0.008679</td>\n",
       "      <td>-0.084344</td>\n",
       "      <td>-0.24208</td>\n",
       "    </tr>\n",
       "    <tr>\n",
       "      <th>2</th>\n",
       "      <td>0.14539</td>\n",
       "      <td>0.054999</td>\n",
       "      <td>0.131770</td>\n",
       "      <td>-0.067223</td>\n",
       "      <td>0.202430</td>\n",
       "      <td>0.127060</td>\n",
       "      <td>0.63388</td>\n",
       "    </tr>\n",
       "    <tr>\n",
       "      <th>3</th>\n",
       "      <td>0.92959</td>\n",
       "      <td>-0.018933</td>\n",
       "      <td>-0.010875</td>\n",
       "      <td>-0.028255</td>\n",
       "      <td>0.017912</td>\n",
       "      <td>0.084330</td>\n",
       "      <td>0.66062</td>\n",
       "    </tr>\n",
       "    <tr>\n",
       "      <th>4</th>\n",
       "      <td>0.90259</td>\n",
       "      <td>-0.000877</td>\n",
       "      <td>0.066941</td>\n",
       "      <td>-0.048190</td>\n",
       "      <td>0.064742</td>\n",
       "      <td>0.147880</td>\n",
       "      <td>0.26643</td>\n",
       "    </tr>\n",
       "  </tbody>\n",
       "</table>\n",
       "</div>"
      ],
      "text/plain": [
       "         y        x1        x2        x3        x4        x5       x6\n",
       "0 -2.17360 -0.023816 -0.012885  0.045936 -0.182890  0.028694 -0.81119\n",
       "1 -1.29570  0.018453  0.058999 -0.072399  0.008679 -0.084344 -0.24208\n",
       "2  0.14539  0.054999  0.131770 -0.067223  0.202430  0.127060  0.63388\n",
       "3  0.92959 -0.018933 -0.010875 -0.028255  0.017912  0.084330  0.66062\n",
       "4  0.90259 -0.000877  0.066941 -0.048190  0.064742  0.147880  0.26643"
      ]
     },
     "execution_count": 3,
     "metadata": {},
     "output_type": "execute_result"
    }
   ],
   "source": [
    "df.head()"
   ]
  },
  {
   "cell_type": "code",
   "execution_count": 8,
   "metadata": {
    "collapsed": false
   },
   "outputs": [],
   "source": [
    "df = df[df['y'] > 0]"
   ]
  },
  {
   "cell_type": "code",
   "execution_count": 9,
   "metadata": {
    "collapsed": false
   },
   "outputs": [
    {
     "data": {
      "text/html": [
       "<table class=\"simpletable\">\n",
       "<caption>OLS Regression Results</caption>\n",
       "<tr>\n",
       "  <th>Dep. Variable:</th>            <td>y</td>        <th>  R-squared:         </th> <td>   0.063</td>\n",
       "</tr>\n",
       "<tr>\n",
       "  <th>Model:</th>                   <td>OLS</td>       <th>  Adj. R-squared:    </th> <td>   0.061</td>\n",
       "</tr>\n",
       "<tr>\n",
       "  <th>Method:</th>             <td>Least Squares</td>  <th>  F-statistic:       </th> <td>   32.31</td>\n",
       "</tr>\n",
       "<tr>\n",
       "  <th>Date:</th>             <td>Thu, 06 Oct 2016</td> <th>  Prob (F-statistic):</th> <td>7.66e-38</td>\n",
       "</tr>\n",
       "<tr>\n",
       "  <th>Time:</th>                 <td>13:45:35</td>     <th>  Log-Likelihood:    </th> <td> -2922.2</td>\n",
       "</tr>\n",
       "<tr>\n",
       "  <th>No. Observations:</th>      <td>  2902</td>      <th>  AIC:               </th> <td>   5858.</td>\n",
       "</tr>\n",
       "<tr>\n",
       "  <th>Df Residuals:</th>          <td>  2895</td>      <th>  BIC:               </th> <td>   5900.</td>\n",
       "</tr>\n",
       "<tr>\n",
       "  <th>Df Model:</th>              <td>     6</td>      <th>                     </th>     <td> </td>   \n",
       "</tr>\n",
       "<tr>\n",
       "  <th>Covariance Type:</th>      <td>nonrobust</td>    <th>                     </th>     <td> </td>   \n",
       "</tr>\n",
       "</table>\n",
       "<table class=\"simpletable\">\n",
       "<tr>\n",
       "    <td></td>       <th>coef</th>     <th>std err</th>      <th>t</th>      <th>P>|t|</th> <th>[95.0% Conf. Int.]</th> \n",
       "</tr>\n",
       "<tr>\n",
       "  <th>const</th> <td>    0.9325</td> <td>    0.014</td> <td>   67.183</td> <td> 0.000</td> <td>    0.905     0.960</td>\n",
       "</tr>\n",
       "<tr>\n",
       "  <th>x1</th>    <td>    0.7076</td> <td>    0.494</td> <td>    1.432</td> <td> 0.152</td> <td>   -0.261     1.677</td>\n",
       "</tr>\n",
       "<tr>\n",
       "  <th>x2</th>    <td>    0.5419</td> <td>    0.244</td> <td>    2.219</td> <td> 0.027</td> <td>    0.063     1.021</td>\n",
       "</tr>\n",
       "<tr>\n",
       "  <th>x3</th>    <td>    0.8036</td> <td>    0.344</td> <td>    2.338</td> <td> 0.019</td> <td>    0.130     1.478</td>\n",
       "</tr>\n",
       "<tr>\n",
       "  <th>x4</th>    <td>    0.2060</td> <td>    0.122</td> <td>    1.695</td> <td> 0.090</td> <td>   -0.032     0.444</td>\n",
       "</tr>\n",
       "<tr>\n",
       "  <th>x5</th>    <td>    1.0507</td> <td>    0.166</td> <td>    6.311</td> <td> 0.000</td> <td>    0.724     1.377</td>\n",
       "</tr>\n",
       "<tr>\n",
       "  <th>x6</th>    <td>    0.2959</td> <td>    0.023</td> <td>   12.842</td> <td> 0.000</td> <td>    0.251     0.341</td>\n",
       "</tr>\n",
       "</table>\n",
       "<table class=\"simpletable\">\n",
       "<tr>\n",
       "  <th>Omnibus:</th>       <td>133.701</td> <th>  Durbin-Watson:     </th> <td>   2.011</td>\n",
       "</tr>\n",
       "<tr>\n",
       "  <th>Prob(Omnibus):</th> <td> 0.000</td>  <th>  Jarque-Bera (JB):  </th> <td>  65.134</td>\n",
       "</tr>\n",
       "<tr>\n",
       "  <th>Skew:</th>          <td> 0.168</td>  <th>  Prob(JB):          </th> <td>7.18e-15</td>\n",
       "</tr>\n",
       "<tr>\n",
       "  <th>Kurtosis:</th>      <td> 2.347</td>  <th>  Cond. No.          </th> <td>    44.3</td>\n",
       "</tr>\n",
       "</table>"
      ],
      "text/plain": [
       "<class 'statsmodels.iolib.summary.Summary'>\n",
       "\"\"\"\n",
       "                            OLS Regression Results                            \n",
       "==============================================================================\n",
       "Dep. Variable:                      y   R-squared:                       0.063\n",
       "Model:                            OLS   Adj. R-squared:                  0.061\n",
       "Method:                 Least Squares   F-statistic:                     32.31\n",
       "Date:                Thu, 06 Oct 2016   Prob (F-statistic):           7.66e-38\n",
       "Time:                        13:45:35   Log-Likelihood:                -2922.2\n",
       "No. Observations:                2902   AIC:                             5858.\n",
       "Df Residuals:                    2895   BIC:                             5900.\n",
       "Df Model:                           6                                         \n",
       "Covariance Type:            nonrobust                                         \n",
       "==============================================================================\n",
       "                 coef    std err          t      P>|t|      [95.0% Conf. Int.]\n",
       "------------------------------------------------------------------------------\n",
       "const          0.9325      0.014     67.183      0.000         0.905     0.960\n",
       "x1             0.7076      0.494      1.432      0.152        -0.261     1.677\n",
       "x2             0.5419      0.244      2.219      0.027         0.063     1.021\n",
       "x3             0.8036      0.344      2.338      0.019         0.130     1.478\n",
       "x4             0.2060      0.122      1.695      0.090        -0.032     0.444\n",
       "x5             1.0507      0.166      6.311      0.000         0.724     1.377\n",
       "x6             0.2959      0.023     12.842      0.000         0.251     0.341\n",
       "==============================================================================\n",
       "Omnibus:                      133.701   Durbin-Watson:                   2.011\n",
       "Prob(Omnibus):                  0.000   Jarque-Bera (JB):               65.134\n",
       "Skew:                           0.168   Prob(JB):                     7.18e-15\n",
       "Kurtosis:                       2.347   Cond. No.                         44.3\n",
       "==============================================================================\n",
       "\n",
       "Warnings:\n",
       "[1] Standard Errors assume that the covariance matrix of the errors is correctly specified.\n",
       "\"\"\""
      ]
     },
     "execution_count": 9,
     "metadata": {},
     "output_type": "execute_result"
    }
   ],
   "source": [
    "X = df[['x1', 'x2', 'x3', 'x4', 'x5','x6']]\n",
    "X = sm.add_constant(X)\n",
    "y = df['y']\n",
    "\n",
    "model = sm.OLS(y, X)\n",
    "results = model.fit()\n",
    "results.summary()"
   ]
  },
  {
   "cell_type": "markdown",
   "metadata": {},
   "source": [
    "2) Comment on the fit.  "
   ]
  },
  {
   "cell_type": "markdown",
   "metadata": {},
   "source": [
    "F-stat: 32.31 (not too high).\n",
    "\n",
    "The overall p-value is very low: 7.66e-38\n",
    "\n",
    "The adjusted r squared is very low: 0.061."
   ]
  },
  {
   "cell_type": "markdown",
   "metadata": {},
   "source": [
    "3) Interpret the slope coefficient of $x_1$.  "
   ]
  },
  {
   "cell_type": "markdown",
   "metadata": {},
   "source": [
    "For every unit of increase of x1, y increases by 0.7076."
   ]
  },
  {
   "cell_type": "markdown",
   "metadata": {},
   "source": [
    "4) Is the model useful for predicting $y$? Why or why not?"
   ]
  },
  {
   "cell_type": "markdown",
   "metadata": {},
   "source": [
    "I would remove variables x1 and x4 due to it's high p-value (higher than 0.05).\n",
    "\n",
    "The adjusted r squared is very low: 0.061. Even though the overall p-value is very low (7.66e-38), I don't think it's a good model."
   ]
  },
  {
   "cell_type": "code",
   "execution_count": 10,
   "metadata": {
    "collapsed": false
   },
   "outputs": [
    {
     "data": {
      "text/html": [
       "<table class=\"simpletable\">\n",
       "<caption>OLS Regression Results</caption>\n",
       "<tr>\n",
       "  <th>Dep. Variable:</th>            <td>y</td>        <th>  R-squared:         </th> <td>   0.061</td>\n",
       "</tr>\n",
       "<tr>\n",
       "  <th>Model:</th>                   <td>OLS</td>       <th>  Adj. R-squared:    </th> <td>   0.060</td>\n",
       "</tr>\n",
       "<tr>\n",
       "  <th>Method:</th>             <td>Least Squares</td>  <th>  F-statistic:       </th> <td>   47.16</td>\n",
       "</tr>\n",
       "<tr>\n",
       "  <th>Date:</th>             <td>Thu, 06 Oct 2016</td> <th>  Prob (F-statistic):</th> <td>1.85e-38</td>\n",
       "</tr>\n",
       "<tr>\n",
       "  <th>Time:</th>                 <td>13:49:45</td>     <th>  Log-Likelihood:    </th> <td> -2924.7</td>\n",
       "</tr>\n",
       "<tr>\n",
       "  <th>No. Observations:</th>      <td>  2902</td>      <th>  AIC:               </th> <td>   5859.</td>\n",
       "</tr>\n",
       "<tr>\n",
       "  <th>Df Residuals:</th>          <td>  2897</td>      <th>  BIC:               </th> <td>   5889.</td>\n",
       "</tr>\n",
       "<tr>\n",
       "  <th>Df Model:</th>              <td>     4</td>      <th>                     </th>     <td> </td>   \n",
       "</tr>\n",
       "<tr>\n",
       "  <th>Covariance Type:</th>      <td>nonrobust</td>    <th>                     </th>     <td> </td>   \n",
       "</tr>\n",
       "</table>\n",
       "<table class=\"simpletable\">\n",
       "<tr>\n",
       "    <td></td>       <th>coef</th>     <th>std err</th>      <th>t</th>      <th>P>|t|</th> <th>[95.0% Conf. Int.]</th> \n",
       "</tr>\n",
       "<tr>\n",
       "  <th>const</th> <td>    0.9366</td> <td>    0.014</td> <td>   68.056</td> <td> 0.000</td> <td>    0.910     0.964</td>\n",
       "</tr>\n",
       "<tr>\n",
       "  <th>x2</th>    <td>    0.7226</td> <td>    0.211</td> <td>    3.424</td> <td> 0.001</td> <td>    0.309     1.136</td>\n",
       "</tr>\n",
       "<tr>\n",
       "  <th>x3</th>    <td>    0.5550</td> <td>    0.315</td> <td>    1.762</td> <td> 0.078</td> <td>   -0.063     1.173</td>\n",
       "</tr>\n",
       "<tr>\n",
       "  <th>x5</th>    <td>    1.1976</td> <td>    0.146</td> <td>    8.187</td> <td> 0.000</td> <td>    0.911     1.484</td>\n",
       "</tr>\n",
       "<tr>\n",
       "  <th>x6</th>    <td>    0.3030</td> <td>    0.023</td> <td>   13.275</td> <td> 0.000</td> <td>    0.258     0.348</td>\n",
       "</tr>\n",
       "</table>\n",
       "<table class=\"simpletable\">\n",
       "<tr>\n",
       "  <th>Omnibus:</th>       <td>138.508</td> <th>  Durbin-Watson:     </th> <td>   2.013</td>\n",
       "</tr>\n",
       "<tr>\n",
       "  <th>Prob(Omnibus):</th> <td> 0.000</td>  <th>  Jarque-Bera (JB):  </th> <td>  68.081</td>\n",
       "</tr>\n",
       "<tr>\n",
       "  <th>Skew:</th>          <td> 0.181</td>  <th>  Prob(JB):          </th> <td>1.65e-15</td>\n",
       "</tr>\n",
       "<tr>\n",
       "  <th>Kurtosis:</th>      <td> 2.343</td>  <th>  Cond. No.          </th> <td>    30.4</td>\n",
       "</tr>\n",
       "</table>"
      ],
      "text/plain": [
       "<class 'statsmodels.iolib.summary.Summary'>\n",
       "\"\"\"\n",
       "                            OLS Regression Results                            \n",
       "==============================================================================\n",
       "Dep. Variable:                      y   R-squared:                       0.061\n",
       "Model:                            OLS   Adj. R-squared:                  0.060\n",
       "Method:                 Least Squares   F-statistic:                     47.16\n",
       "Date:                Thu, 06 Oct 2016   Prob (F-statistic):           1.85e-38\n",
       "Time:                        13:49:45   Log-Likelihood:                -2924.7\n",
       "No. Observations:                2902   AIC:                             5859.\n",
       "Df Residuals:                    2897   BIC:                             5889.\n",
       "Df Model:                           4                                         \n",
       "Covariance Type:            nonrobust                                         \n",
       "==============================================================================\n",
       "                 coef    std err          t      P>|t|      [95.0% Conf. Int.]\n",
       "------------------------------------------------------------------------------\n",
       "const          0.9366      0.014     68.056      0.000         0.910     0.964\n",
       "x2             0.7226      0.211      3.424      0.001         0.309     1.136\n",
       "x3             0.5550      0.315      1.762      0.078        -0.063     1.173\n",
       "x5             1.1976      0.146      8.187      0.000         0.911     1.484\n",
       "x6             0.3030      0.023     13.275      0.000         0.258     0.348\n",
       "==============================================================================\n",
       "Omnibus:                      138.508   Durbin-Watson:                   2.013\n",
       "Prob(Omnibus):                  0.000   Jarque-Bera (JB):               68.081\n",
       "Skew:                           0.181   Prob(JB):                     1.65e-15\n",
       "Kurtosis:                       2.343   Cond. No.                         30.4\n",
       "==============================================================================\n",
       "\n",
       "Warnings:\n",
       "[1] Standard Errors assume that the covariance matrix of the errors is correctly specified.\n",
       "\"\"\""
      ]
     },
     "execution_count": 10,
     "metadata": {},
     "output_type": "execute_result"
    }
   ],
   "source": [
    "X = df[['x2', 'x3','x5','x6']]\n",
    "X = sm.add_constant(X)\n",
    "y = df['y']\n",
    "\n",
    "model = sm.OLS(y, X)\n",
    "results = model.fit()\n",
    "results.summary()"
   ]
  },
  {
   "cell_type": "markdown",
   "metadata": {},
   "source": [
    "By removing x1 and x4, the model improves slightly (higher F-statistic, lower overal p-value). I would exclude x3 dur to high p-value."
   ]
  },
  {
   "cell_type": "code",
   "execution_count": 11,
   "metadata": {
    "collapsed": false
   },
   "outputs": [
    {
     "data": {
      "text/html": [
       "<table class=\"simpletable\">\n",
       "<caption>OLS Regression Results</caption>\n",
       "<tr>\n",
       "  <th>Dep. Variable:</th>            <td>y</td>        <th>  R-squared:         </th> <td>   0.060</td>\n",
       "</tr>\n",
       "<tr>\n",
       "  <th>Model:</th>                   <td>OLS</td>       <th>  Adj. R-squared:    </th> <td>   0.059</td>\n",
       "</tr>\n",
       "<tr>\n",
       "  <th>Method:</th>             <td>Least Squares</td>  <th>  F-statistic:       </th> <td>   61.80</td>\n",
       "</tr>\n",
       "<tr>\n",
       "  <th>Date:</th>             <td>Thu, 06 Oct 2016</td> <th>  Prob (F-statistic):</th> <td>1.00e-38</td>\n",
       "</tr>\n",
       "<tr>\n",
       "  <th>Time:</th>                 <td>13:51:27</td>     <th>  Log-Likelihood:    </th> <td> -2926.3</td>\n",
       "</tr>\n",
       "<tr>\n",
       "  <th>No. Observations:</th>      <td>  2902</td>      <th>  AIC:               </th> <td>   5861.</td>\n",
       "</tr>\n",
       "<tr>\n",
       "  <th>Df Residuals:</th>          <td>  2898</td>      <th>  BIC:               </th> <td>   5884.</td>\n",
       "</tr>\n",
       "<tr>\n",
       "  <th>Df Model:</th>              <td>     3</td>      <th>                     </th>     <td> </td>   \n",
       "</tr>\n",
       "<tr>\n",
       "  <th>Covariance Type:</th>      <td>nonrobust</td>    <th>                     </th>     <td> </td>   \n",
       "</tr>\n",
       "</table>\n",
       "<table class=\"simpletable\">\n",
       "<tr>\n",
       "    <td></td>       <th>coef</th>     <th>std err</th>      <th>t</th>      <th>P>|t|</th> <th>[95.0% Conf. Int.]</th> \n",
       "</tr>\n",
       "<tr>\n",
       "  <th>const</th> <td>    0.9389</td> <td>    0.014</td> <td>   68.493</td> <td> 0.000</td> <td>    0.912     0.966</td>\n",
       "</tr>\n",
       "<tr>\n",
       "  <th>x2</th>    <td>    0.4801</td> <td>    0.160</td> <td>    2.999</td> <td> 0.003</td> <td>    0.166     0.794</td>\n",
       "</tr>\n",
       "<tr>\n",
       "  <th>x5</th>    <td>    1.1470</td> <td>    0.143</td> <td>    7.994</td> <td> 0.000</td> <td>    0.866     1.428</td>\n",
       "</tr>\n",
       "<tr>\n",
       "  <th>x6</th>    <td>    0.3062</td> <td>    0.023</td> <td>   13.459</td> <td> 0.000</td> <td>    0.262     0.351</td>\n",
       "</tr>\n",
       "</table>\n",
       "<table class=\"simpletable\">\n",
       "<tr>\n",
       "  <th>Omnibus:</th>       <td>143.948</td> <th>  Durbin-Watson:     </th> <td>   2.012</td>\n",
       "</tr>\n",
       "<tr>\n",
       "  <th>Prob(Omnibus):</th> <td> 0.000</td>  <th>  Jarque-Bera (JB):  </th> <td>  70.182</td>\n",
       "</tr>\n",
       "<tr>\n",
       "  <th>Skew:</th>          <td> 0.186</td>  <th>  Prob(JB):          </th> <td>5.76e-16</td>\n",
       "</tr>\n",
       "<tr>\n",
       "  <th>Kurtosis:</th>      <td> 2.336</td>  <th>  Cond. No.          </th> <td>    14.5</td>\n",
       "</tr>\n",
       "</table>"
      ],
      "text/plain": [
       "<class 'statsmodels.iolib.summary.Summary'>\n",
       "\"\"\"\n",
       "                            OLS Regression Results                            \n",
       "==============================================================================\n",
       "Dep. Variable:                      y   R-squared:                       0.060\n",
       "Model:                            OLS   Adj. R-squared:                  0.059\n",
       "Method:                 Least Squares   F-statistic:                     61.80\n",
       "Date:                Thu, 06 Oct 2016   Prob (F-statistic):           1.00e-38\n",
       "Time:                        13:51:27   Log-Likelihood:                -2926.3\n",
       "No. Observations:                2902   AIC:                             5861.\n",
       "Df Residuals:                    2898   BIC:                             5884.\n",
       "Df Model:                           3                                         \n",
       "Covariance Type:            nonrobust                                         \n",
       "==============================================================================\n",
       "                 coef    std err          t      P>|t|      [95.0% Conf. Int.]\n",
       "------------------------------------------------------------------------------\n",
       "const          0.9389      0.014     68.493      0.000         0.912     0.966\n",
       "x2             0.4801      0.160      2.999      0.003         0.166     0.794\n",
       "x5             1.1470      0.143      7.994      0.000         0.866     1.428\n",
       "x6             0.3062      0.023     13.459      0.000         0.262     0.351\n",
       "==============================================================================\n",
       "Omnibus:                      143.948   Durbin-Watson:                   2.012\n",
       "Prob(Omnibus):                  0.000   Jarque-Bera (JB):               70.182\n",
       "Skew:                           0.186   Prob(JB):                     5.76e-16\n",
       "Kurtosis:                       2.336   Cond. No.                         14.5\n",
       "==============================================================================\n",
       "\n",
       "Warnings:\n",
       "[1] Standard Errors assume that the covariance matrix of the errors is correctly specified.\n",
       "\"\"\""
      ]
     },
     "execution_count": 11,
     "metadata": {},
     "output_type": "execute_result"
    }
   ],
   "source": [
    "X = df[['x2','x5','x6']]\n",
    "X = sm.add_constant(X)\n",
    "y = df['y']\n",
    "\n",
    "model = sm.OLS(y, X)\n",
    "results = model.fit()\n",
    "results.summary()"
   ]
  },
  {
   "cell_type": "markdown",
   "metadata": {},
   "source": [
    "The above model is even better and the p-values of all independent variables is less than 0.05, so they are all significant (x2, x5 and x6)."
   ]
  },
  {
   "cell_type": "code",
   "execution_count": null,
   "metadata": {
    "collapsed": true
   },
   "outputs": [],
   "source": []
  }
 ],
 "metadata": {
  "anaconda-cloud": {},
  "kernelspec": {
   "display_name": "Python [Root]",
   "language": "python",
   "name": "Python [Root]"
  },
  "language_info": {
   "codemirror_mode": {
    "name": "ipython",
    "version": 3
   },
   "file_extension": ".py",
   "mimetype": "text/x-python",
   "name": "python",
   "nbconvert_exporter": "python",
   "pygments_lexer": "ipython3",
   "version": "3.5.2"
  }
 },
 "nbformat": 4,
 "nbformat_minor": 0
}
