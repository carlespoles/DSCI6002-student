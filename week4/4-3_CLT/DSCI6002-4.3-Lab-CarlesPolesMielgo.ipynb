{
 "cells": [
  {
   "cell_type": "markdown",
   "metadata": {},
   "source": [
    "# Lab 4.3: Central Limit Theorem\n",
    "\n",
    "## Outline\n",
    "\n",
    "- Central Limit Theorem Basics\n",
    "- Central Limit Theorem Simulation\n",
    "- Central Limit Theorem Application"
   ]
  },
  {
   "cell_type": "markdown",
   "metadata": {},
   "source": [
    "### Central Limit Theorem Basics\n",
    "\n",
    "**Question 1**  \n",
    "\n",
    "1) What is the Central Limit Theorem? Explain it in your own words.\n",
    "   "
   ]
  },
  {
   "cell_type": "markdown",
   "metadata": {},
   "source": [
    "2) What are the assumptions for the Central Limit Theorem?"
   ]
  },
  {
   "cell_type": "markdown",
   "metadata": {},
   "source": [
    "### Central Limit Theorem Simulation\n",
    "\n",
    "**Question 2**\n",
    "\n",
    "Here we will write a function to show that the Central Limit Theorem applies to different distributions. \n",
    "\n",
    "1) Write a function `make_draws` which will make a number of draws from one of the following distributions, Possion, Binomial and Uniform. The function will take 3 arguments:\n",
    "   - The name of the distribution as a string, e.g. `poisson`, `binomial` and `uniform`\n",
    "   - The parameters associated with the distribution as a dictionary, for example `{'n': 30, 'p': 0.02}` for the binomial distribution \n",
    "   - The number of observations to be drawn in a sample  \n",
    "   \n",
    "   The function should return an array of values drawn from the specified distribution with the correct sample size.\n",
    "   \n",
    "   Below is an example for the binomial distribution\n",
    "   \n",
    "   ```python\n",
    "   # import the stats module from scipy\n",
    "   from scipy import stats\n",
    "\n",
    "   def make_draws(distribution, parameters, size):\n",
    "       if distribution == 'binomial':\n",
    "           n, p = parameters['n'], parameters['p']\n",
    "           dist = stats.binom(n, p).rvs(size)\n",
    "\n",
    "       # Rest of the code\n",
    "    ```\n",
    "   "
   ]
  },
  {
   "cell_type": "code",
   "execution_count": 1,
   "metadata": {
    "collapsed": true
   },
   "outputs": [],
   "source": [
    "from scipy import stats\n",
    "\n",
    "def make_draws(distribution, parameters, size):\n",
    "    if distribution == 'binomial':\n",
    "        n, p = parameters['n'], parameters['p']\n",
    "        dist = stats.binom(n, p).rvs(size)\n",
    "    elif distribution == 'poisson':\n",
    "        mu = parameters['mu']\n",
    "        dist = stats.poisson(mu).rvs(size)\n",
    "    elif distribution == 'uniform':\n",
    "        a, b = parameters['a'], parameters['b']\n",
    "        dist = stats.uniform(a, b).rvs(size)\n",
    "    else:\n",
    "        dist = \"Invalid distribution selection.\"\n",
    "    return dist"
   ]
  },
  {
   "cell_type": "code",
   "execution_count": 2,
   "metadata": {
    "collapsed": false
   },
   "outputs": [
    {
     "data": {
      "text/plain": [
       "array([5, 5, 5, 5, 4, 4, 5, 5, 4, 4, 5, 5, 5, 3, 5, 4, 4, 4, 5, 5, 5, 4, 4,\n",
       "       5, 4, 5, 5, 5, 5, 5, 4, 5, 5, 5, 5, 5, 5, 5, 5, 5, 5, 5, 5, 5, 5, 5,\n",
       "       5, 5, 5, 4, 5, 4, 4, 5, 5, 3, 4, 5, 5, 5, 3, 4, 5, 3, 5, 5, 5, 5, 4,\n",
       "       4, 5, 3, 5, 5, 3, 5, 4, 4, 4, 5, 5, 5, 5, 4, 3, 5, 4, 5, 4, 5, 5, 5,\n",
       "       4, 5, 5, 4, 4, 4, 5, 5])"
      ]
     },
     "execution_count": 2,
     "metadata": {},
     "output_type": "execute_result"
    }
   ],
   "source": [
    "# Usage example:\n",
    "make_draws('binomial', {\"n\":5,\"p\":0.9}, 100)"
   ]
  },
  {
   "cell_type": "markdown",
   "metadata": {},
   "source": [
    "   \n",
    "2) Write another function `plot_means` that would take the same arguments as `make_draws` plus an additional argument `repeats`\n",
    "   - `plot_means` would repeatedly draw samples by calling `make_draws`, the number of times `make_draws` is called is speicified by `repeats`\n",
    "   - The number of observations in each sample is specified by `size`\n",
    "   - Then the mean of each sample is computed and plotted on a histogram\n",
    "   \n",
    "   Below is some starter code:\n",
    "   \n",
    "   ```python \n",
    "   def plot_means(distribution, parameters, size, repeats):\n",
    "       # call make_draws for times specified by repeats\n",
    "       # compute mean for each of the sample\n",
    "       # plot histogram\n",
    "   ```\n",
    "   "
   ]
  },
  {
   "cell_type": "code",
   "execution_count": 3,
   "metadata": {
    "collapsed": false
   },
   "outputs": [
    {
     "name": "stdout",
     "output_type": "stream",
     "text": [
      "Populating the interactive namespace from numpy and matplotlib\n"
     ]
    }
   ],
   "source": [
    "%pylab inline \n",
    "def plot_means(distribution, parameters, size, repeats):\n",
    "    means = []\n",
    "    for i in range(repeats):\n",
    "        means.append(make_draws(distribution, parameters, size).mean())\n",
    "    return plt.hist(means, bins=100, normed=True)"
   ]
  },
  {
   "cell_type": "markdown",
   "metadata": {},
   "source": [
    "3) Call `plot_means` with each of the distribution (poisson, binomial, etc) with the following arguments:\n",
    "   - `size`: 500 and `repeats`: 500\n",
    "   - `size`: 10 and `repeats`: 500 \n",
    "   \n",
    "   For example, the histogram should look like the following if you call\n",
    "   ```python\n",
    "   plot_means('uniform', {'a': 1, 'b': 200}, 500, 500)\n",
    "   plot_means('uniform', {'a': 1, 'b': 200}, 10, 500)\n",
    "   ```\n",
    "   \n",
    "   ![image](images/unif_histogram.png)\n",
    "   \n",
    "   What do you observe? Under what condition does the Central Limit Theorem hold?"
   ]
  },
  {
   "cell_type": "code",
   "execution_count": 4,
   "metadata": {
    "collapsed": false
   },
   "outputs": [
    {
     "data": {
      "text/plain": [
       "(array([ 0.01152456,  0.        ,  0.        ,  0.        ,  0.        ,\n",
       "         0.01152456,  0.        ,  0.        ,  0.        ,  0.01152456,\n",
       "         0.        ,  0.01152456,  0.        ,  0.01152456,  0.        ,\n",
       "         0.        ,  0.        ,  0.02304911,  0.01152456,  0.03457367,\n",
       "         0.01152456,  0.        ,  0.04609822,  0.05762278,  0.01152456,\n",
       "         0.03457367,  0.06914734,  0.03457367,  0.09219645,  0.06914734,\n",
       "         0.05762278,  0.11524556,  0.11524556,  0.09219645,  0.05762278,\n",
       "         0.12677012,  0.10372101,  0.13829467,  0.16134379,  0.08067189,\n",
       "         0.08067189,  0.13829467,  0.12677012,  0.16134379,  0.12677012,\n",
       "         0.16134379,  0.16134379,  0.12677012,  0.14981923,  0.23049112,\n",
       "         0.1843929 ,  0.1843929 ,  0.17286834,  0.10372101,  0.1843929 ,\n",
       "         0.14981923,  0.19591746,  0.08067189,  0.09219645,  0.11524556,\n",
       "         0.10372101,  0.09219645,  0.08067189,  0.11524556,  0.08067189,\n",
       "         0.10372101,  0.03457367,  0.06914734,  0.06914734,  0.03457367,\n",
       "         0.09219645,  0.05762278,  0.03457367,  0.03457367,  0.02304911,\n",
       "         0.03457367,  0.01152456,  0.01152456,  0.01152456,  0.02304911,\n",
       "         0.        ,  0.02304911,  0.01152456,  0.        ,  0.01152456,\n",
       "         0.02304911,  0.        ,  0.01152456,  0.01152456,  0.        ,\n",
       "         0.        ,  0.01152456,  0.        ,  0.        ,  0.        ,\n",
       "         0.        ,  0.        ,  0.        ,  0.        ,  0.01152456]),\n",
       " array([  92.32647995,   92.50002242,   92.6735649 ,   92.84710737,\n",
       "          93.02064985,   93.19419232,   93.3677348 ,   93.54127727,\n",
       "          93.71481974,   93.88836222,   94.06190469,   94.23544717,\n",
       "          94.40898964,   94.58253212,   94.75607459,   94.92961706,\n",
       "          95.10315954,   95.27670201,   95.45024449,   95.62378696,\n",
       "          95.79732944,   95.97087191,   96.14441439,   96.31795686,\n",
       "          96.49149933,   96.66504181,   96.83858428,   97.01212676,\n",
       "          97.18566923,   97.35921171,   97.53275418,   97.70629665,\n",
       "          97.87983913,   98.0533816 ,   98.22692408,   98.40046655,\n",
       "          98.57400903,   98.7475515 ,   98.92109398,   99.09463645,\n",
       "          99.26817892,   99.4417214 ,   99.61526387,   99.78880635,\n",
       "          99.96234882,  100.1358913 ,  100.30943377,  100.48297624,\n",
       "         100.65651872,  100.83006119,  101.00360367,  101.17714614,\n",
       "         101.35068862,  101.52423109,  101.69777357,  101.87131604,\n",
       "         102.04485851,  102.21840099,  102.39194346,  102.56548594,\n",
       "         102.73902841,  102.91257089,  103.08611336,  103.25965583,\n",
       "         103.43319831,  103.60674078,  103.78028326,  103.95382573,\n",
       "         104.12736821,  104.30091068,  104.47445315,  104.64799563,\n",
       "         104.8215381 ,  104.99508058,  105.16862305,  105.34216553,\n",
       "         105.515708  ,  105.68925048,  105.86279295,  106.03633542,\n",
       "         106.2098779 ,  106.38342037,  106.55696285,  106.73050532,\n",
       "         106.9040478 ,  107.07759027,  107.25113274,  107.42467522,\n",
       "         107.59821769,  107.77176017,  107.94530264,  108.11884512,\n",
       "         108.29238759,  108.46593007,  108.63947254,  108.81301501,\n",
       "         108.98655749,  109.16009996,  109.33364244,  109.50718491,\n",
       "         109.68072739]),\n",
       " <a list of 100 Patch objects>)"
      ]
     },
     "execution_count": 4,
     "metadata": {},
     "output_type": "execute_result"
    },
    {
     "data": {
      "image/png": "[encoded data removed]",
      "text/plain": [
       "<matplotlib.figure.Figure at 0x1040f2898>"
      ]
     },
     "metadata": {},
     "output_type": "display_data"
    }
   ],
   "source": [
    "plot_means('uniform', {'a': 1, 'b': 200}, 500, 500)"
   ]
  },
  {
   "cell_type": "code",
   "execution_count": 5,
   "metadata": {
    "collapsed": false
   },
   "outputs": [
    {
     "data": {
      "text/plain": [
       "(array([ 0.00179893,  0.        ,  0.        ,  0.        ,  0.        ,\n",
       "         0.        ,  0.        ,  0.        ,  0.        ,  0.        ,\n",
       "         0.        ,  0.        ,  0.        ,  0.00179893,  0.00179893,\n",
       "         0.        ,  0.00359786,  0.        ,  0.        ,  0.00359786,\n",
       "         0.00179893,  0.00539679,  0.00719572,  0.00179893,  0.00539679,\n",
       "         0.00359786,  0.01079358,  0.00719572,  0.01439144,  0.01259251,\n",
       "         0.01259251,  0.00179893,  0.00719572,  0.01439144,  0.01439144,\n",
       "         0.02158716,  0.01259251,  0.01439144,  0.02158716,  0.02698395,\n",
       "         0.01079358,  0.02338609,  0.0179893 ,  0.0179893 ,  0.01619037,\n",
       "         0.02338609,  0.02338609,  0.01619037,  0.02518502,  0.02338609,\n",
       "         0.02878288,  0.01439144,  0.0179893 ,  0.01978823,  0.01978823,\n",
       "         0.01978823,  0.02698395,  0.02518502,  0.01619037,  0.00719572,\n",
       "         0.0179893 ,  0.02698395,  0.01259251,  0.01259251,  0.0179893 ,\n",
       "         0.0179893 ,  0.00539679,  0.01619037,  0.01259251,  0.00719572,\n",
       "         0.00899465,  0.0179893 ,  0.01439144,  0.00719572,  0.00719572,\n",
       "         0.00359786,  0.01079358,  0.00719572,  0.00539679,  0.00359786,\n",
       "         0.00359786,  0.00359786,  0.00359786,  0.00359786,  0.00179893,\n",
       "         0.00179893,  0.00539679,  0.00179893,  0.00179893,  0.        ,\n",
       "         0.        ,  0.        ,  0.00179893,  0.00359786,  0.00179893,\n",
       "         0.        ,  0.        ,  0.00179893,  0.00359786,  0.00179893]),\n",
       " array([  42.73003296,   43.8418049 ,   44.95357685,   46.06534879,\n",
       "          47.17712073,   48.28889268,   49.40066462,   50.51243656,\n",
       "          51.6242085 ,   52.73598045,   53.84775239,   54.95952433,\n",
       "          56.07129627,   57.18306822,   58.29484016,   59.4066121 ,\n",
       "          60.51838404,   61.63015599,   62.74192793,   63.85369987,\n",
       "          64.96547182,   66.07724376,   67.1890157 ,   68.30078764,\n",
       "          69.41255959,   70.52433153,   71.63610347,   72.74787541,\n",
       "          73.85964736,   74.9714193 ,   76.08319124,   77.19496319,\n",
       "          78.30673513,   79.41850707,   80.53027901,   81.64205096,\n",
       "          82.7538229 ,   83.86559484,   84.97736678,   86.08913873,\n",
       "          87.20091067,   88.31268261,   89.42445456,   90.5362265 ,\n",
       "          91.64799844,   92.75977038,   93.87154233,   94.98331427,\n",
       "          96.09508621,   97.20685815,   98.3186301 ,   99.43040204,\n",
       "         100.54217398,  101.65394593,  102.76571787,  103.87748981,\n",
       "         104.98926175,  106.1010337 ,  107.21280564,  108.32457758,\n",
       "         109.43634952,  110.54812147,  111.65989341,  112.77166535,\n",
       "         113.8834373 ,  114.99520924,  116.10698118,  117.21875312,\n",
       "         118.33052507,  119.44229701,  120.55406895,  121.66584089,\n",
       "         122.77761284,  123.88938478,  125.00115672,  126.11292867,\n",
       "         127.22470061,  128.33647255,  129.44824449,  130.56001644,\n",
       "         131.67178838,  132.78356032,  133.89533226,  135.00710421,\n",
       "         136.11887615,  137.23064809,  138.34242003,  139.45419198,\n",
       "         140.56596392,  141.67773586,  142.78950781,  143.90127975,\n",
       "         145.01305169,  146.12482363,  147.23659558,  148.34836752,\n",
       "         149.46013946,  150.5719114 ,  151.68368335,  152.79545529,\n",
       "         153.90722723]),\n",
       " <a list of 100 Patch objects>)"
      ]
     },
     "execution_count": 5,
     "metadata": {},
     "output_type": "execute_result"
    },
    {
     "data": {
      "image/png": "[encoded data removed]",
      "text/plain": [
       "<matplotlib.figure.Figure at 0x10e20b7f0>"
      ]
     },
     "metadata": {},
     "output_type": "display_data"
    }
   ],
   "source": [
    "plot_means('uniform', {'a': 1, 'b': 200}, 10, 500)"
   ]
  },
  {
   "cell_type": "code",
   "execution_count": 6,
   "metadata": {
    "collapsed": false
   },
   "outputs": [
    {
     "data": {
      "text/plain": [
       "(array([  0.62111801,   0.        ,   0.        ,   0.        ,\n",
       "          0.        ,   0.        ,   0.62111801,   0.        ,\n",
       "          0.        ,   0.        ,   0.        ,   1.24223602,\n",
       "          0.        ,   0.        ,   1.24223602,   1.24223602,\n",
       "          0.62111801,   0.        ,   1.24223602,   1.86335404,\n",
       "          1.24223602,   2.48447205,   0.        ,   1.86335404,\n",
       "          0.62111801,   1.86335404,   3.72670807,   3.72670807,\n",
       "          3.10559006,   3.72670807,   1.86335404,   3.72670807,\n",
       "          3.72670807,   1.86335404,   4.34782609,   2.48447205,\n",
       "          8.07453416,   9.31677019,   4.34782609,   6.21118012,\n",
       "          5.59006211,   1.86335404,   8.07453416,   6.83229814,\n",
       "          6.83229814,  13.04347826,   5.59006211,  11.80124224,\n",
       "          3.72670807,  11.80124224,  12.42236025,   2.48447205,\n",
       "          8.69565217,   4.34782609,   8.69565217,  14.9068323 ,\n",
       "          3.72670807,   6.83229814,   6.21118012,  13.04347826,\n",
       "          7.45341615,   4.34782609,   9.31677019,   9.9378882 ,\n",
       "          1.86335404,   4.9689441 ,   3.72670807,   3.10559006,\n",
       "          3.10559006,   0.62111801,   3.10559006,   1.86335404,\n",
       "          2.48447205,   2.48447205,   0.62111801,   3.10559006,\n",
       "          1.24223602,   1.86335404,   1.24223602,   0.62111801,\n",
       "          3.72670807,   1.24223602,   0.62111801,   0.62111801,\n",
       "          0.62111801,   1.24223602,   0.62111801,   0.        ,\n",
       "          0.62111801,   0.        ,   0.        ,   0.        ,\n",
       "          0.        ,   0.        ,   0.        ,   0.        ,\n",
       "          0.        ,   0.        ,   0.        ,   0.62111801]),\n",
       " array([ 2.838  ,  2.84122,  2.84444,  2.84766,  2.85088,  2.8541 ,\n",
       "         2.85732,  2.86054,  2.86376,  2.86698,  2.8702 ,  2.87342,\n",
       "         2.87664,  2.87986,  2.88308,  2.8863 ,  2.88952,  2.89274,\n",
       "         2.89596,  2.89918,  2.9024 ,  2.90562,  2.90884,  2.91206,\n",
       "         2.91528,  2.9185 ,  2.92172,  2.92494,  2.92816,  2.93138,\n",
       "         2.9346 ,  2.93782,  2.94104,  2.94426,  2.94748,  2.9507 ,\n",
       "         2.95392,  2.95714,  2.96036,  2.96358,  2.9668 ,  2.97002,\n",
       "         2.97324,  2.97646,  2.97968,  2.9829 ,  2.98612,  2.98934,\n",
       "         2.99256,  2.99578,  2.999  ,  3.00222,  3.00544,  3.00866,\n",
       "         3.01188,  3.0151 ,  3.01832,  3.02154,  3.02476,  3.02798,\n",
       "         3.0312 ,  3.03442,  3.03764,  3.04086,  3.04408,  3.0473 ,\n",
       "         3.05052,  3.05374,  3.05696,  3.06018,  3.0634 ,  3.06662,\n",
       "         3.06984,  3.07306,  3.07628,  3.0795 ,  3.08272,  3.08594,\n",
       "         3.08916,  3.09238,  3.0956 ,  3.09882,  3.10204,  3.10526,\n",
       "         3.10848,  3.1117 ,  3.11492,  3.11814,  3.12136,  3.12458,\n",
       "         3.1278 ,  3.13102,  3.13424,  3.13746,  3.14068,  3.1439 ,\n",
       "         3.14712,  3.15034,  3.15356,  3.15678,  3.16   ]),\n",
       " <a list of 100 Patch objects>)"
      ]
     },
     "execution_count": 6,
     "metadata": {},
     "output_type": "execute_result"
    },
    {
     "data": {
      "image/png": "[encoded data removed]",
      "text/plain": [
       "<matplotlib.figure.Figure at 0x1108ab8d0>"
      ]
     },
     "metadata": {},
     "output_type": "display_data"
    }
   ],
   "source": [
    "plot_means('binomial', {\"n\":5,\"p\":0.6}, 500, 500)"
   ]
  },
  {
   "cell_type": "code",
   "execution_count": 7,
   "metadata": {
    "collapsed": false
   },
   "outputs": [
    {
     "data": {
      "text/plain": [
       "(array([ 0.22222222,  0.        ,  0.        ,  0.        ,  0.        ,\n",
       "         0.22222222,  0.        ,  0.        ,  0.        ,  0.        ,\n",
       "         0.        ,  0.66666667,  0.        ,  0.        ,  0.        ,\n",
       "         0.        ,  0.88888889,  0.        ,  0.        ,  0.        ,\n",
       "         0.        ,  0.        ,  1.55555556,  0.        ,  0.        ,\n",
       "         0.        ,  0.        ,  1.77777778,  0.        ,  0.        ,\n",
       "         0.        ,  0.        ,  0.        ,  2.44444444,  0.        ,\n",
       "         0.        ,  0.        ,  0.        ,  3.88888889,  0.        ,\n",
       "         0.        ,  0.        ,  0.        ,  0.        ,  5.55555556,\n",
       "         0.        ,  0.        ,  0.        ,  0.        ,  0.        ,\n",
       "         5.        ,  0.        ,  0.        ,  0.        ,  0.        ,\n",
       "         6.44444444,  0.        ,  0.        ,  0.        ,  0.        ,\n",
       "         0.        ,  6.88888889,  0.        ,  0.        ,  0.        ,\n",
       "         0.        ,  6.22222222,  0.        ,  0.        ,  0.        ,\n",
       "         0.        ,  0.        ,  4.88888889,  0.        ,  0.        ,\n",
       "         0.        ,  0.        ,  3.77777778,  0.        ,  0.        ,\n",
       "         0.        ,  0.        ,  0.        ,  2.33333333,  0.        ,\n",
       "         0.        ,  0.        ,  0.        ,  1.44444444,  0.        ,\n",
       "         0.        ,  0.        ,  0.        ,  0.        ,  1.11111111,\n",
       "         0.        ,  0.        ,  0.        ,  0.        ,  0.22222222]),\n",
       " array([ 2.   ,  2.018,  2.036,  2.054,  2.072,  2.09 ,  2.108,  2.126,\n",
       "         2.144,  2.162,  2.18 ,  2.198,  2.216,  2.234,  2.252,  2.27 ,\n",
       "         2.288,  2.306,  2.324,  2.342,  2.36 ,  2.378,  2.396,  2.414,\n",
       "         2.432,  2.45 ,  2.468,  2.486,  2.504,  2.522,  2.54 ,  2.558,\n",
       "         2.576,  2.594,  2.612,  2.63 ,  2.648,  2.666,  2.684,  2.702,\n",
       "         2.72 ,  2.738,  2.756,  2.774,  2.792,  2.81 ,  2.828,  2.846,\n",
       "         2.864,  2.882,  2.9  ,  2.918,  2.936,  2.954,  2.972,  2.99 ,\n",
       "         3.008,  3.026,  3.044,  3.062,  3.08 ,  3.098,  3.116,  3.134,\n",
       "         3.152,  3.17 ,  3.188,  3.206,  3.224,  3.242,  3.26 ,  3.278,\n",
       "         3.296,  3.314,  3.332,  3.35 ,  3.368,  3.386,  3.404,  3.422,\n",
       "         3.44 ,  3.458,  3.476,  3.494,  3.512,  3.53 ,  3.548,  3.566,\n",
       "         3.584,  3.602,  3.62 ,  3.638,  3.656,  3.674,  3.692,  3.71 ,\n",
       "         3.728,  3.746,  3.764,  3.782,  3.8  ]),\n",
       " <a list of 100 Patch objects>)"
      ]
     },
     "execution_count": 7,
     "metadata": {},
     "output_type": "execute_result"
    },
    {
     "data": {
      "image/png": "[encoded data removed]",
      "text/plain": [
       "<matplotlib.figure.Figure at 0x11083a6a0>"
      ]
     },
     "metadata": {},
     "output_type": "display_data"
    }
   ],
   "source": [
    "plot_means('binomial', {\"n\":5,\"p\":0.6}, 10, 500)"
   ]
  },
  {
   "cell_type": "code",
   "execution_count": 8,
   "metadata": {
    "collapsed": false
   },
   "outputs": [
    {
     "data": {
      "text/plain": [
       "(array([  0.46511628,   0.46511628,   0.93023256,   0.46511628,\n",
       "          0.46511628,   0.93023256,   0.46511628,   0.46511628,\n",
       "          0.        ,   0.        ,   0.93023256,   0.93023256,\n",
       "          3.25581395,   2.3255814 ,   2.79069767,   3.25581395,\n",
       "          2.3255814 ,   0.46511628,   3.72093023,   0.46511628,\n",
       "          1.86046512,   5.11627907,   4.18604651,   2.79069767,\n",
       "          1.39534884,   5.58139535,   3.72093023,   3.25581395,\n",
       "          2.3255814 ,   2.79069767,   4.65116279,   2.3255814 ,\n",
       "          3.72093023,   7.90697674,   3.25581395,   4.65116279,\n",
       "          4.65116279,   3.72093023,   2.79069767,   6.51162791,\n",
       "          9.30232558,   6.04651163,   6.97674419,   5.11627907,\n",
       "          6.51162791,   7.44186047,  10.23255814,   5.58139535,\n",
       "          3.25581395,   6.51162791,   2.3255814 ,   4.18604651,\n",
       "          0.93023256,   8.37209302,   5.11627907,   3.25581395,\n",
       "          3.25581395,   2.3255814 ,   4.18604651,   4.65116279,\n",
       "          2.3255814 ,   1.86046512,   1.39534884,   1.39534884,\n",
       "          0.93023256,   0.93023256,   2.3255814 ,   1.39534884,\n",
       "          2.3255814 ,   0.46511628,   0.46511628,   1.39534884,\n",
       "          0.        ,   1.39534884,   0.93023256,   0.93023256,\n",
       "          0.        ,   0.        ,   0.        ,   0.        ,\n",
       "          0.        ,   0.46511628,   0.46511628,   0.46511628,\n",
       "          0.        ,   0.        ,   0.93023256,   0.46511628,\n",
       "          0.46511628,   0.        ,   0.        ,   0.        ,\n",
       "          0.        ,   0.        ,   0.46511628,   0.        ,\n",
       "          0.        ,   0.        ,   0.        ,   0.46511628]),\n",
       " array([ 2.322 ,  2.3263,  2.3306,  2.3349,  2.3392,  2.3435,  2.3478,\n",
       "         2.3521,  2.3564,  2.3607,  2.365 ,  2.3693,  2.3736,  2.3779,\n",
       "         2.3822,  2.3865,  2.3908,  2.3951,  2.3994,  2.4037,  2.408 ,\n",
       "         2.4123,  2.4166,  2.4209,  2.4252,  2.4295,  2.4338,  2.4381,\n",
       "         2.4424,  2.4467,  2.451 ,  2.4553,  2.4596,  2.4639,  2.4682,\n",
       "         2.4725,  2.4768,  2.4811,  2.4854,  2.4897,  2.494 ,  2.4983,\n",
       "         2.5026,  2.5069,  2.5112,  2.5155,  2.5198,  2.5241,  2.5284,\n",
       "         2.5327,  2.537 ,  2.5413,  2.5456,  2.5499,  2.5542,  2.5585,\n",
       "         2.5628,  2.5671,  2.5714,  2.5757,  2.58  ,  2.5843,  2.5886,\n",
       "         2.5929,  2.5972,  2.6015,  2.6058,  2.6101,  2.6144,  2.6187,\n",
       "         2.623 ,  2.6273,  2.6316,  2.6359,  2.6402,  2.6445,  2.6488,\n",
       "         2.6531,  2.6574,  2.6617,  2.666 ,  2.6703,  2.6746,  2.6789,\n",
       "         2.6832,  2.6875,  2.6918,  2.6961,  2.7004,  2.7047,  2.709 ,\n",
       "         2.7133,  2.7176,  2.7219,  2.7262,  2.7305,  2.7348,  2.7391,\n",
       "         2.7434,  2.7477,  2.752 ]),\n",
       " <a list of 100 Patch objects>)"
      ]
     },
     "execution_count": 8,
     "metadata": {},
     "output_type": "execute_result"
    },
    {
     "data": {
      "image/png": "[encoded data removed]",
      "text/plain": [
       "<matplotlib.figure.Figure at 0x11174c978>"
      ]
     },
     "metadata": {},
     "output_type": "display_data"
    }
   ],
   "source": [
    "plot_means('poisson', {\"mu\":2.5}, 500, 500)"
   ]
  },
  {
   "cell_type": "code",
   "execution_count": 9,
   "metadata": {
    "collapsed": false
   },
   "outputs": [
    {
     "data": {
      "text/plain": [
       "(array([ 0.06896552,  0.        ,  0.        ,  0.06896552,  0.        ,\n",
       "         0.        ,  0.06896552,  0.        ,  0.        ,  0.        ,\n",
       "         0.4137931 ,  0.        ,  0.        ,  0.20689655,  0.        ,\n",
       "         0.        ,  0.        ,  0.89655172,  0.        ,  0.        ,\n",
       "         0.68965517,  0.        ,  0.        ,  0.        ,  0.82758621,\n",
       "         0.        ,  0.        ,  1.44827586,  0.        ,  0.        ,\n",
       "         0.        ,  1.5862069 ,  0.        ,  0.        ,  2.48275862,\n",
       "         0.        ,  0.        ,  2.        ,  0.        ,  0.        ,\n",
       "         0.        ,  3.31034483,  0.        ,  0.        ,  3.03448276,\n",
       "         0.        ,  0.        ,  0.        ,  2.27586207,  0.        ,\n",
       "         0.        ,  2.48275862,  0.        ,  0.        ,  0.        ,\n",
       "         2.48275862,  0.        ,  0.        ,  2.        ,  0.        ,\n",
       "         0.        ,  0.        ,  1.93103448,  0.        ,  0.        ,\n",
       "         1.17241379,  0.        ,  0.        ,  1.24137931,  0.        ,\n",
       "         0.        ,  0.        ,  0.96551724,  0.        ,  0.        ,\n",
       "         0.82758621,  0.        ,  0.        ,  0.        ,  0.55172414,\n",
       "         0.        ,  0.        ,  0.4137931 ,  0.        ,  0.        ,\n",
       "         0.        ,  0.4137931 ,  0.        ,  0.        ,  0.4137931 ,\n",
       "         0.        ,  0.        ,  0.        ,  0.13793103,  0.        ,\n",
       "         0.        ,  0.        ,  0.        ,  0.        ,  0.06896552]),\n",
       " array([ 1.1  ,  1.129,  1.158,  1.187,  1.216,  1.245,  1.274,  1.303,\n",
       "         1.332,  1.361,  1.39 ,  1.419,  1.448,  1.477,  1.506,  1.535,\n",
       "         1.564,  1.593,  1.622,  1.651,  1.68 ,  1.709,  1.738,  1.767,\n",
       "         1.796,  1.825,  1.854,  1.883,  1.912,  1.941,  1.97 ,  1.999,\n",
       "         2.028,  2.057,  2.086,  2.115,  2.144,  2.173,  2.202,  2.231,\n",
       "         2.26 ,  2.289,  2.318,  2.347,  2.376,  2.405,  2.434,  2.463,\n",
       "         2.492,  2.521,  2.55 ,  2.579,  2.608,  2.637,  2.666,  2.695,\n",
       "         2.724,  2.753,  2.782,  2.811,  2.84 ,  2.869,  2.898,  2.927,\n",
       "         2.956,  2.985,  3.014,  3.043,  3.072,  3.101,  3.13 ,  3.159,\n",
       "         3.188,  3.217,  3.246,  3.275,  3.304,  3.333,  3.362,  3.391,\n",
       "         3.42 ,  3.449,  3.478,  3.507,  3.536,  3.565,  3.594,  3.623,\n",
       "         3.652,  3.681,  3.71 ,  3.739,  3.768,  3.797,  3.826,  3.855,\n",
       "         3.884,  3.913,  3.942,  3.971,  4.   ]),\n",
       " <a list of 100 Patch objects>)"
      ]
     },
     "execution_count": 9,
     "metadata": {},
     "output_type": "execute_result"
    },
    {
     "data": {
      "image/png": "[encoded data removed]",
      "text/plain": [
       "<matplotlib.figure.Figure at 0x1113fe828>"
      ]
     },
     "metadata": {},
     "output_type": "display_data"
    }
   ],
   "source": [
    "plot_means('poisson', {\"mu\":2.5}, 10, 500)"
   ]
  },
  {
   "cell_type": "markdown",
   "metadata": {},
   "source": [
    "### Central Limit Theorem Application\n",
    "\n",
    "**Question 3**\n",
    "\n",
    "1) It is known that the amount that a person spends on a single trip to a grocery store follows a distribution with mean of \\$3.70 and standard deviation of \\$1.52.\n",
    "\n",
    "   A random sample of 50 people's spendings is collected. \n",
    "   \n",
    "   What is the probability that the mean spending of the 50 people exceeds $4?\n"
   ]
  },
  {
   "cell_type": "code",
   "execution_count": 10,
   "metadata": {
    "collapsed": false
   },
   "outputs": [
    {
     "data": {
      "text/plain": [
       "4.2244763243104444e-11"
      ]
     },
     "execution_count": 10,
     "metadata": {},
     "output_type": "execute_result"
    }
   ],
   "source": [
    "sigma_1 = 1.52\n",
    "people = 50\n",
    "sigma_sample_1 = sigma_1**2/people\n",
    "1 - stats.norm(3.7,sigma_sample_1).cdf(4)"
   ]
  },
  {
   "cell_type": "code",
   "execution_count": 11,
   "metadata": {
    "collapsed": false
   },
   "outputs": [
    {
     "data": {
      "text/plain": [
       "4.2244769541328087e-11"
      ]
     },
     "execution_count": 11,
     "metadata": {},
     "output_type": "execute_result"
    }
   ],
   "source": [
    "stats.norm(3.7,sigma_sample_1).sf(4)"
   ]
  },
  {
   "cell_type": "markdown",
   "metadata": {},
   "source": [
    "2) From past experience, it is known that, at the ticket counter for the football match of Stanford against Berkeley,  the number of tickets purchased by each student follows a distribution that has mean $\\mu$ = 2.4 and standard deviation $\\sigma$ = 2.0.\n",
    "\n",
    "   Suppose that a few hours before the start of one of these matches, there are 100 eager students standing in line to purchase tickets. If only 250 tickets remain, what is the probability that all 100 students will be able to purchase the tickets they desire?"
   ]
  },
  {
   "cell_type": "code",
   "execution_count": 12,
   "metadata": {
    "collapsed": false
   },
   "outputs": [
    {
     "data": {
      "text/plain": [
       "1.0"
      ]
     },
     "execution_count": 12,
     "metadata": {},
     "output_type": "execute_result"
    }
   ],
   "source": [
    "tickets = 250\n",
    "students = 100\n",
    "ticket_ratio = tickets/students\n",
    "sigma_2 = 2\n",
    "sigma_sample_2 = sigma_1**2/people\n",
    "stats.norm(3.7,sigma_sample_2).sf(ticket_ratio)"
   ]
  },
  {
   "cell_type": "markdown",
   "metadata": {},
   "source": [
    "### Extra Practice  \n",
    "(Optional)\n",
    "\n",
    "1) Create your own distribution. It can be any distribution as long as it is a valid probability distribution. Refer to the `custom` distribution we created in the lecture."
   ]
  },
  {
   "cell_type": "markdown",
   "metadata": {},
   "source": [
    "2) Draw 10000 samples from the distribution above with the following sample sizes. Calculate and plot the sample means for each sample size. What do you notice from the 3 plots?\n",
    "\n",
    "    * n = 10\n",
    "    * n = 100\n",
    "    * n = 1000"
   ]
  },
  {
   "cell_type": "markdown",
   "metadata": {},
   "source": [
    "3) Fit a Normal distribution to the 3 sets of samples means from part 2). Then plot the Normal distribution on top of the histogram of the means.  "
   ]
  },
  {
   "cell_type": "markdown",
   "metadata": {},
   "source": [
    "4) Estimate the Standard Error of the Mean (SEM calculation in the lecture) for each of the 3 sample means. What do you notice? How does the SEM change as the sample size changes?"
   ]
  }
 ],
 "metadata": {
  "anaconda-cloud": {},
  "kernelspec": {
   "display_name": "Python [Root]",
   "language": "python",
   "name": "Python [Root]"
  },
  "language_info": {
   "codemirror_mode": {
    "name": "ipython",
    "version": 3
   },
   "file_extension": ".py",
   "mimetype": "text/x-python",
   "name": "python",
   "nbconvert_exporter": "python",
   "pygments_lexer": "ipython3",
   "version": "3.5.2"
  }
 },
 "nbformat": 4,
 "nbformat_minor": 0
}
