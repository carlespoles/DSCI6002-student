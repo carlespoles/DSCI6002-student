{
 "cells": [
  {
   "cell_type": "markdown",
   "metadata": {},
   "source": [
    "# Lab 4.3: Central Limit Theorem\n",
    "\n",
    "## Outline\n",
    "\n",
    "- Central Limit Theorem Basics\n",
    "- Central Limit Theorem Simulation\n",
    "- Central Limit Theorem Application"
   ]
  },
  {
   "cell_type": "markdown",
   "metadata": {},
   "source": [
    "### Central Limit Theorem Basics\n",
    "\n",
    "**Question 1**  \n",
    "\n",
    "1) What is the Central Limit Theorem? Explain it in your own words.\n",
    "   "
   ]
  },
  {
   "cell_type": "markdown",
   "metadata": {},
   "source": [
    "The Central Limit Theorem states that if you have a sufficient large sample of a given population, then your sample mean follows a normal distribution."
   ]
  },
  {
   "cell_type": "markdown",
   "metadata": {},
   "source": [
    "2) What are the assumptions for the Central Limit Theorem?"
   ]
  },
  {
   "cell_type": "markdown",
   "metadata": {},
   "source": [
    "Finite mean, finite standard deviation and data must be independent and identical distributed."
   ]
  },
  {
   "cell_type": "markdown",
   "metadata": {},
   "source": [
    "### Central Limit Theorem Simulation\n",
    "\n",
    "**Question 2**\n",
    "\n",
    "Here we will write a function to show that the Central Limit Theorem applies to different distributions. \n",
    "\n",
    "1) Write a function `make_draws` which will make a number of draws from one of the following distributions, Possion, Binomial and Uniform. The function will take 3 arguments:\n",
    "   - The name of the distribution as a string, e.g. `poisson`, `binomial` and `uniform`\n",
    "   - The parameters associated with the distribution as a dictionary, for example `{'n': 30, 'p': 0.02}` for the binomial distribution \n",
    "   - The number of observations to be drawn in a sample  \n",
    "   \n",
    "   The function should return an array of values drawn from the specified distribution with the correct sample size.\n",
    "   \n",
    "   Below is an example for the binomial distribution\n",
    "   \n",
    "   ```python\n",
    "   # import the stats module from scipy\n",
    "   from scipy import stats\n",
    "\n",
    "   def make_draws(distribution, parameters, size):\n",
    "       if distribution == 'binomial':\n",
    "           n, p = parameters['n'], parameters['p']\n",
    "           dist = stats.binom(n, p).rvs(size)\n",
    "\n",
    "       # Rest of the code\n",
    "    ```\n",
    "   "
   ]
  },
  {
   "cell_type": "code",
   "execution_count": 1,
   "metadata": {
    "collapsed": true
   },
   "outputs": [],
   "source": [
    "from scipy import stats\n",
    "\n",
    "def make_draws(distribution, parameters, size):\n",
    "    if distribution == 'binomial':\n",
    "        n, p = parameters['n'], parameters['p']\n",
    "        dist = stats.binom(n, p).rvs(size)\n",
    "    elif distribution == 'poisson':\n",
    "        mu = parameters['mu']\n",
    "        dist = stats.poisson(mu).rvs(size)\n",
    "    elif distribution == 'uniform':\n",
    "        a, b = parameters['a'], parameters['b']\n",
    "        dist = stats.uniform(a, b).rvs(size)\n",
    "    else:\n",
    "        dist = \"Invalid distribution selection.\"\n",
    "    return dist"
   ]
  },
  {
   "cell_type": "code",
   "execution_count": 2,
   "metadata": {
    "collapsed": false
   },
   "outputs": [
    {
     "data": {
      "text/plain": [
       "array([5, 4, 5, 5, 5, 5, 4, 4, 5, 5, 3, 5, 5, 5, 3, 5, 4, 4, 5, 4, 5, 5, 5,\n",
       "       4, 5, 4, 4, 4, 5, 4, 4, 4, 4, 4, 5, 5, 4, 5, 5, 4, 4, 4, 4, 5, 5, 4,\n",
       "       4, 5, 5, 3, 5, 4, 4, 4, 5, 5, 4, 5, 5, 5, 5, 5, 5, 4, 3, 5, 5, 5, 5,\n",
       "       4, 3, 5, 5, 5, 5, 5, 5, 4, 5, 4, 5, 5, 5, 4, 5, 4, 5, 5, 5, 5, 5, 4,\n",
       "       4, 3, 3, 4, 4, 4, 5, 4])"
      ]
     },
     "execution_count": 2,
     "metadata": {},
     "output_type": "execute_result"
    }
   ],
   "source": [
    "# Usage example:\n",
    "make_draws('binomial', {\"n\":5,\"p\":0.9}, 100)"
   ]
  },
  {
   "cell_type": "markdown",
   "metadata": {},
   "source": [
    "   \n",
    "2) Write another function `plot_means` that would take the same arguments as `make_draws` plus an additional argument `repeats`\n",
    "   - `plot_means` would repeatedly draw samples by calling `make_draws`, the number of times `make_draws` is called is speicified by `repeats`\n",
    "   - The number of observations in each sample is specified by `size`\n",
    "   - Then the mean of each sample is computed and plotted on a histogram\n",
    "   \n",
    "   Below is some starter code:\n",
    "   \n",
    "   ```python \n",
    "   def plot_means(distribution, parameters, size, repeats):\n",
    "       # call make_draws for times specified by repeats\n",
    "       # compute mean for each of the sample\n",
    "       # plot histogram\n",
    "   ```\n",
    "   "
   ]
  },
  {
   "cell_type": "code",
   "execution_count": 3,
   "metadata": {
    "collapsed": false
   },
   "outputs": [
    {
     "name": "stdout",
     "output_type": "stream",
     "text": [
      "Populating the interactive namespace from numpy and matplotlib\n"
     ]
    }
   ],
   "source": [
    "%pylab inline \n",
    "def plot_means(distribution, parameters, size, repeats):\n",
    "    means = []\n",
    "    for i in range(repeats):\n",
    "        means.append(make_draws(distribution, parameters, size).mean())\n",
    "    return plt.hist(means, bins=100, normed=True)"
   ]
  },
  {
   "cell_type": "code",
   "execution_count": 4,
   "metadata": {
    "collapsed": false
   },
   "outputs": [],
   "source": [
    "def get_graph_limits(distribution, parameters, size):\n",
    "    data = make_draws(distribution, parameters, size)\n",
    "    return data.min(), data.max()"
   ]
  },
  {
   "cell_type": "markdown",
   "metadata": {},
   "source": [
    "3) Call `plot_means` with each of the distribution (poisson, binomial, etc) with the following arguments:\n",
    "   - `size`: 500 and `repeats`: 500\n",
    "   - `size`: 10 and `repeats`: 500 \n",
    "   \n",
    "   For example, the histogram should look like the following if you call\n",
    "   ```python\n",
    "   plot_means('uniform', {'a': 1, 'b': 200}, 500, 500)\n",
    "   plot_means('uniform', {'a': 1, 'b': 200}, 10, 500)\n",
    "   ```\n",
    "   \n",
    "   ![image](images/unif_histogram.png)\n",
    "   \n",
    "   What do you observe? Under what condition does the Central Limit Theorem hold?"
   ]
  },
  {
   "cell_type": "code",
   "execution_count": 5,
   "metadata": {
    "collapsed": false
   },
   "outputs": [
    {
     "data": {
      "image/png": "[encoded data removed]",
      "text/plain": [
       "<matplotlib.figure.Figure at 0x10355fef0>"
      ]
     },
     "metadata": {},
     "output_type": "display_data"
    }
   ],
   "source": [
    "# By calling the function twice, we make both graphics show on the same plot.\n",
    "plot_means('uniform', {'a': 1, 'b': 200}, 500, 500);\n",
    "plot_means('uniform', {'a': 1, 'b': 200}, 10, 500);\n",
    "#xlim(40,160);\n",
    "# Calling function below to set the x limits. Call only from the one with bigger repeats.\n",
    "xlim(get_graph_limits('uniform', {'a': 1, 'b': 200}, 500));\n",
    "plt.xlabel('Uniform Distributions.');"
   ]
  },
  {
   "cell_type": "code",
   "execution_count": 6,
   "metadata": {
    "collapsed": false
   },
   "outputs": [
    {
     "data": {
      "image/png": "[encoded data removed]",
      "text/plain": [
       "<matplotlib.figure.Figure at 0x1111c6f98>"
      ]
     },
     "metadata": {},
     "output_type": "display_data"
    }
   ],
   "source": [
    "plot_means('binomial', {\"n\":5,\"p\":0.6}, 500, 500);\n",
    "plot_means('binomial', {\"n\":5,\"p\":0.6}, 10, 500);\n",
    "xlim(get_graph_limits('binomial', {\"n\":5,\"p\":0.6}, 500));\n",
    "plt.xlabel('Binomial Distributions.');"
   ]
  },
  {
   "cell_type": "code",
   "execution_count": 7,
   "metadata": {
    "collapsed": false
   },
   "outputs": [
    {
     "data": {
      "image/png": "[encoded data removed]",
      "text/plain": [
       "<matplotlib.figure.Figure at 0x111adfb70>"
      ]
     },
     "metadata": {},
     "output_type": "display_data"
    }
   ],
   "source": [
    "plot_means('poisson', {\"mu\":2.5}, 500, 500);\n",
    "plot_means('poisson', {\"mu\":2.5}, 10, 500);\n",
    "xlim(get_graph_limits('poisson', {\"mu\":2.5}, 500));\n",
    "plt.xlabel('Poisson Distributions.');"
   ]
  },
  {
   "cell_type": "markdown",
   "metadata": {},
   "source": [
    "We observe that for each distribution, the bigger the size, the less spread the distribution is (it has smaller range) and it concentrates closer to the population mean. The Central Limit Theorem does not hold when the size is 10."
   ]
  },
  {
   "cell_type": "markdown",
   "metadata": {},
   "source": [
    "### Central Limit Theorem Application\n",
    "\n",
    "**Question 3**\n",
    "\n",
    "1) It is known that the amount that a person spends on a single trip to a grocery store follows a distribution with mean of \\$3.70 and standard deviation of \\$1.52.\n",
    "\n",
    "   A random sample of 50 people's spendings is collected. \n",
    "   \n",
    "   What is the probability that the mean spending of the 50 people exceeds $4?\n"
   ]
  },
  {
   "cell_type": "code",
   "execution_count": 8,
   "metadata": {
    "collapsed": false
   },
   "outputs": [
    {
     "data": {
      "text/plain": [
       "0.081416664277620843"
      ]
     },
     "execution_count": 8,
     "metadata": {},
     "output_type": "execute_result"
    }
   ],
   "source": [
    "sigma_1 = 1.52\n",
    "people = 50\n",
    "sigma_sample_1 = sigma_1/people**(1/2)\n",
    "1 - stats.norm(3.7,sigma_sample_1).cdf(4)"
   ]
  },
  {
   "cell_type": "code",
   "execution_count": 9,
   "metadata": {
    "collapsed": false
   },
   "outputs": [
    {
     "data": {
      "text/plain": [
       "0.081416664277620843"
      ]
     },
     "execution_count": 9,
     "metadata": {},
     "output_type": "execute_result"
    }
   ],
   "source": [
    "stats.norm(3.7,sigma_sample_1).sf(4)"
   ]
  },
  {
   "cell_type": "markdown",
   "metadata": {},
   "source": [
    "2) From past experience, it is known that, at the ticket counter for the football match of Stanford against Berkeley,  the number of tickets purchased by each student follows a distribution that has mean $\\mu$ = 2.4 and standard deviation $\\sigma$ = 2.0.\n",
    "\n",
    "   Suppose that a few hours before the start of one of these matches, there are 100 eager students standing in line to purchase tickets. If only 250 tickets remain, what is the probability that all 100 students will be able to purchase the tickets they desire?"
   ]
  },
  {
   "cell_type": "code",
   "execution_count": 10,
   "metadata": {
    "collapsed": false
   },
   "outputs": [
    {
     "data": {
      "text/plain": [
       "0.69146246127401323"
      ]
     },
     "execution_count": 10,
     "metadata": {},
     "output_type": "execute_result"
    }
   ],
   "source": [
    "tickets = 250\n",
    "students = 100\n",
    "ticket_ratio = tickets/students\n",
    "sigma_2 = 2\n",
    "sigma_sample_2 = sigma_2/students**(1/2)\n",
    "stats.norm(2.4,sigma_sample_2).cdf(ticket_ratio)"
   ]
  },
  {
   "cell_type": "markdown",
   "metadata": {},
   "source": [
    "### Extra Practice  \n",
    "(Optional)\n",
    "\n",
    "1) Create your own distribution. It can be any distribution as long as it is a valid probability distribution. Refer to the `custom` distribution we created in the lecture."
   ]
  },
  {
   "cell_type": "code",
   "execution_count": 11,
   "metadata": {
    "collapsed": false
   },
   "outputs": [],
   "source": [
    "def my_draw_function(distribution, parameters, size):\n",
    "    if distribution == 'exponential':\n",
    "        l = parameters['l']\n",
    "        exp_dist = stats.expon(l).rvs(size)\n",
    "    else:\n",
    "        print(\"This is just for exponential enthusiasts.\")\n",
    "    return exp_dist"
   ]
  },
  {
   "cell_type": "code",
   "execution_count": 12,
   "metadata": {
    "collapsed": true
   },
   "outputs": [],
   "source": [
    "def plot_function_means(distribution, parameters, size, repeats):\n",
    "    means = []\n",
    "    for i in range(repeats):\n",
    "        means.append(my_draw_function(distribution, parameters, size).mean())\n",
    "    return plt.hist(means, bins=100, normed=True)"
   ]
  },
  {
   "cell_type": "code",
   "execution_count": 13,
   "metadata": {
    "collapsed": true
   },
   "outputs": [],
   "source": [
    "def my_graph_limits(distribution, parameters, size):\n",
    "    data = my_draw_function(distribution, parameters, size)\n",
    "    return data.min(), data.max()"
   ]
  },
  {
   "cell_type": "markdown",
   "metadata": {},
   "source": [
    "2) Draw 10000 samples from the distribution above with the following sample sizes. Calculate and plot the sample means for each sample size. What do you notice from the 3 plots?\n",
    "\n",
    "    * n = 10\n",
    "    * n = 100\n",
    "    * n = 1000"
   ]
  },
  {
   "cell_type": "code",
   "execution_count": 14,
   "metadata": {
    "collapsed": false
   },
   "outputs": [
    {
     "data": {
      "image/png": "[encoded data removed]",
      "text/plain": [
       "<matplotlib.figure.Figure at 0x10dfb2470>"
      ]
     },
     "metadata": {},
     "output_type": "display_data"
    }
   ],
   "source": [
    "plot_function_means('exponential', {'l': 6}, 10, 10000);\n",
    "plot_function_means('exponential', {'l': 6}, 100, 10000);\n",
    "plot_function_means('exponential', {'l': 6}, 1000, 10000);\n",
    "xlim(my_graph_limits('exponential', {'l': 6}, 1000));\n",
    "plt.xlabel('Exponential Distributions.');"
   ]
  },
  {
   "cell_type": "markdown",
   "metadata": {},
   "source": [
    "Once again we observe that the Central Limit Theorem holds when the sample size is sufficient big."
   ]
  },
  {
   "cell_type": "markdown",
   "metadata": {},
   "source": [
    "3) Fit a Normal distribution to the 3 sets of samples means from part 2). Then plot the Normal distribution on top of the histogram of the means.  "
   ]
  },
  {
   "cell_type": "code",
   "execution_count": 15,
   "metadata": {
    "collapsed": false
   },
   "outputs": [
    {
     "data": {
      "image/png": "[encoded data removed]",
      "text/plain": [
       "<matplotlib.figure.Figure at 0x10e766748>"
      ]
     },
     "metadata": {},
     "output_type": "display_data"
    }
   ],
   "source": [
    "from math import sqrt\n",
    "size = len(my_draw_function('exponential', {'l': 6}, 1000))\n",
    "mean_of_means = my_draw_function('exponential', {'l': 6}, 1000).mean()\n",
    "se_of_means = my_draw_function('exponential', {'l': 6}, 1000).std()/sqrt(size)\n",
    "plot_function_means('exponential', {'l': 6}, 1000, 10000)\n",
    "axvline(mean_of_means, color='red')\n",
    "x = linspace(6.5, 7.5, 1000)\n",
    "nd = stats.norm(loc = mean_of_means, scale = se_of_means)\n",
    "plot(x, nd.pdf(x),color='green');"
   ]
  },
  {
   "cell_type": "code",
   "execution_count": 16,
   "metadata": {
    "collapsed": false
   },
   "outputs": [
    {
     "data": {
      "image/png": "[encoded data removed]",
      "text/plain": [
       "<matplotlib.figure.Figure at 0x10e1ee978>"
      ]
     },
     "metadata": {},
     "output_type": "display_data"
    }
   ],
   "source": [
    "size = len(my_draw_function('exponential', {'l': 6}, 100))\n",
    "mean_of_means = my_draw_function('exponential', {'l': 6}, 100).mean()\n",
    "se_of_means = my_draw_function('exponential', {'l': 6}, 100).std()/sqrt(size)\n",
    "plot_function_means('exponential', {'l': 6}, 100, 10000)\n",
    "axvline(mean_of_means, color='red')\n",
    "x = linspace(6.5, 7.5, 1000)\n",
    "nd = stats.norm(loc = mean_of_means, scale = se_of_means)\n",
    "plot(x, nd.pdf(x),color='green');"
   ]
  },
  {
   "cell_type": "code",
   "execution_count": 17,
   "metadata": {
    "collapsed": false
   },
   "outputs": [
    {
     "data": {
      "image/png": "[encoded data removed]",
      "text/plain": [
       "<matplotlib.figure.Figure at 0x10e497ba8>"
      ]
     },
     "metadata": {},
     "output_type": "display_data"
    }
   ],
   "source": [
    "size = len(my_draw_function('exponential', {'l': 6}, 10))\n",
    "mean_of_means = my_draw_function('exponential', {'l': 6}, 10).mean()\n",
    "se_of_means = my_draw_function('exponential', {'l': 6}, 10).std()/sqrt(size)\n",
    "plot_function_means('exponential', {'l': 6}, 10, 10000)\n",
    "axvline(mean_of_means, color='red')\n",
    "x = linspace(6, 9, 1000)\n",
    "nd = stats.norm(loc = mean_of_means, scale = se_of_means)\n",
    "plot(x, nd.pdf(x),color='green');"
   ]
  },
  {
   "cell_type": "markdown",
   "metadata": {},
   "source": [
    "4) Estimate the Standard Error of the Mean (SEM calculation in the lecture) for each of the 3 sample means. What do you notice? How does the SEM change as the sample size changes?"
   ]
  },
  {
   "cell_type": "code",
   "execution_count": 18,
   "metadata": {
    "collapsed": false
   },
   "outputs": [
    {
     "name": "stdout",
     "output_type": "stream",
     "text": [
      "0.0355877758 0.100949970583 0.214017761683\n"
     ]
    }
   ],
   "source": [
    "size_1000 = len(my_draw_function('exponential', {'l': 6}, 1000))\n",
    "size_100 = len(my_draw_function('exponential', {'l': 6}, 100))\n",
    "size_10 = len(my_draw_function('exponential', {'l': 6}, 10))\n",
    "se_of_means_1000 = my_draw_function('exponential', {'l': 6}, 1000).std()/sqrt(size_1000)\n",
    "se_of_means_100 = my_draw_function('exponential', {'l': 6}, 100).std()/sqrt(size_100)\n",
    "se_of_means_10 = my_draw_function('exponential', {'l': 6}, 10).std()/sqrt(size_10)\n",
    "print(se_of_means_1000, se_of_means_100, se_of_means_10)"
   ]
  },
  {
   "cell_type": "markdown",
   "metadata": {},
   "source": [
    "The bigger the size of the sample, the smaller the SEM."
   ]
  },
  {
   "cell_type": "code",
   "execution_count": null,
   "metadata": {
    "collapsed": true
   },
   "outputs": [],
   "source": []
  }
 ],
 "metadata": {
  "anaconda-cloud": {},
  "kernelspec": {
   "display_name": "Python [Root]",
   "language": "python",
   "name": "Python [Root]"
  },
  "language_info": {
   "codemirror_mode": {
    "name": "ipython",
    "version": 3
   },
   "file_extension": ".py",
   "mimetype": "text/x-python",
   "name": "python",
   "nbconvert_exporter": "python",
   "pygments_lexer": "ipython3",
   "version": "3.5.2"
  }
 },
 "nbformat": 4,
 "nbformat_minor": 0
}
