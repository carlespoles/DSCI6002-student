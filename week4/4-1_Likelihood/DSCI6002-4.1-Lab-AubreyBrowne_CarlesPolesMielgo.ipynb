{
 "cells": [
  {
   "cell_type": "markdown",
   "metadata": {},
   "source": [
    "# Lab 4.1: Likelihood"
   ]
  },
  {
   "cell_type": "markdown",
   "metadata": {},
   "source": [
    "One way to estimate parameters for a distribution is to calculate the likelihood of the parameter values given the data that we observe.\n",
    "\n",
    "The likelihood of a parameter $\\theta$ is given by the notion $\\mathcal{L}(\\theta)$ which has the same/similar form as the probability function $p(data \\mid \\theta)$."
   ]
  },
  {
   "cell_type": "markdown",
   "metadata": {},
   "source": [
    "### Question 1\n",
    "\n",
    "The file `outage.csv` contains the number of power outages Kampala (Ugandan city) experiences each month for the past 72 months\n",
    "\n",
    "1. Read in the `https://s3-us-west-2.amazonaws.com/dsci/6002/data/outage.csv` using pandas\n",
    "2. Plot the data on a histogram \n",
    "  - Set `normed=True` to get the probability density histogram\n",
    "  - Set `bins=20` to get smaller bins for the histogram\n",
    "\n",
    "3.  What distribution would you consider fitting the data to given the nature of the data ?\n",
    "  - Think about if the data is discrete or continuous \n",
    "  - Think about what the data describes\n",
    "\n",
    "4. Write down the equation that would model the random variable in question with the distribution you have chosen\n",
    "\n",
    "   For example:\n",
    "   - $\\text{Let X be the number of heads in 5 coin flips}$\n",
    "   - $X \\sim Binomial(n, p)$\n",
    "\n",
    "5. Write down the likelihood function to calculate the likelihood of a given parameter value \n",
    "\n",
    "   **Hint**:\n",
    "   - A **parameter** of the binomial distribution will be `n` or `p` for example\n",
    "   - This will be based on the distribution you have chosen above\n",
    "   - The likelihood function would be the product of the probabilities for each data point \n",
    "  \n",
    "6. Write a python function that will calculate the likelihood of a parameter given the data\n",
    "   - The function will take a parameter and the data\n",
    "   - Use `scipy.stats` and `numpy.product()`\n",
    " \n",
    "7. Define a range of possible values for the parameter from `14` to `21` (using `numpy.linspace`).\n",
    "\n",
    "   Calculate the likelihood for each of the values defined in the range.\n",
    "   \n",
    "   Plot the values ($x$) against the likelihood ($L(\\theta)$)  \n",
    "\n",
    "8. Write a function to calculate the log-likelihood.\n",
    "\n",
    "9. Find the maximum likelihood estimate for the parameter of interest (use `numpy.argmax`)"
   ]
  },
  {
   "cell_type": "code",
   "execution_count": 1,
   "metadata": {
    "collapsed": false
   },
   "outputs": [
    {
     "name": "stdout",
     "output_type": "stream",
     "text": [
      "Populating the interactive namespace from numpy and matplotlib\n"
     ]
    },
    {
     "data": {
      "text/html": [
       "<div>\n",
       "<table border=\"1\" class=\"dataframe\">\n",
       "  <thead>\n",
       "    <tr style=\"text-align: right;\">\n",
       "      <th></th>\n",
       "      <th>0</th>\n",
       "    </tr>\n",
       "  </thead>\n",
       "  <tbody>\n",
       "    <tr>\n",
       "      <th>0</th>\n",
       "      <td>20</td>\n",
       "    </tr>\n",
       "    <tr>\n",
       "      <th>1</th>\n",
       "      <td>20</td>\n",
       "    </tr>\n",
       "    <tr>\n",
       "      <th>2</th>\n",
       "      <td>14</td>\n",
       "    </tr>\n",
       "    <tr>\n",
       "      <th>3</th>\n",
       "      <td>14</td>\n",
       "    </tr>\n",
       "    <tr>\n",
       "      <th>4</th>\n",
       "      <td>18</td>\n",
       "    </tr>\n",
       "  </tbody>\n",
       "</table>\n",
       "</div>"
      ],
      "text/plain": [
       "    0\n",
       "0  20\n",
       "1  20\n",
       "2  14\n",
       "3  14\n",
       "4  18"
      ]
     },
     "execution_count": 1,
     "metadata": {},
     "output_type": "execute_result"
    }
   ],
   "source": [
    "%pylab inline\n",
    "import pandas as pd\n",
    "from scipy import stats\n",
    "outage_data = pd.read_csv('https://s3-us-west-2.amazonaws.com/dsci/6002/data/outage.csv')\n",
    "outage_data.head()"
   ]
  },
  {
   "cell_type": "code",
   "execution_count": 2,
   "metadata": {
    "collapsed": false
   },
   "outputs": [
    {
     "data": {
      "text/plain": [
       "<matplotlib.axes._subplots.AxesSubplot at 0x11621bf60>"
      ]
     },
     "execution_count": 2,
     "metadata": {},
     "output_type": "execute_result"
    },
    {
     "data": {
      "image/png": "[encoded data removed]",
      "text/plain": [
       "<matplotlib.figure.Figure at 0x10427f908>"
      ]
     },
     "metadata": {},
     "output_type": "display_data"
    }
   ],
   "source": [
    "outage_data.plot(kind='hist',bins=20, normed=True)"
   ]
  },
  {
   "cell_type": "markdown",
   "metadata": {},
   "source": [
    "Distribution is discrete since our distribution contains number of days.\n",
    "\n",
    "We can consider a Poisson distribution since we are counting events (number of outage days per month)."
   ]
  },
  {
   "cell_type": "markdown",
   "metadata": {},
   "source": [
    "X ~ Poi($\\lambda$)"
   ]
  },
  {
   "cell_type": "markdown",
   "metadata": {},
   "source": [
    "# Likelihood function:\n",
    "$L(p) = P(X=x)$ when $X ~ Poi(\\lambda=p)$"
   ]
  },
  {
   "cell_type": "code",
   "execution_count": 3,
   "metadata": {
    "collapsed": false
   },
   "outputs": [],
   "source": [
    "# This function allows us to pass a lambda to get a poisson distribution.\n",
    "# Note that we perform a sum of all probabilities.\n",
    "def likehood_pois(data, lambda_like):\n",
    "    pois = stats.poisson(lambda_like)\n",
    "    return sum(pois.pmf(data))"
   ]
  },
  {
   "cell_type": "code",
   "execution_count": 4,
   "metadata": {
    "collapsed": false
   },
   "outputs": [
    {
     "data": {
      "text/plain": [
       "3.3574236328043647"
      ]
     },
     "execution_count": 4,
     "metadata": {},
     "output_type": "execute_result"
    }
   ],
   "source": [
    "# We try with a lambda of 14.\n",
    "likehood_pois(outage_data['0'],14)"
   ]
  },
  {
   "cell_type": "code",
   "execution_count": 5,
   "metadata": {
    "collapsed": false
   },
   "outputs": [],
   "source": [
    "# This function will provide the best lambda from a list of lambdas provided\n",
    "# in linspace(14,21,100).\n",
    "def lambda_test(data):\n",
    "    lambda_list = []\n",
    "    lambda_value = []\n",
    "    for x in range(len(linspace(14,21,100))):\n",
    "        l = likehood_pois(data, x)\n",
    "        lambda_list.append(l)\n",
    "        lambda_value.append(x)\n",
    "        maxi = lambda_list.index(max(lambda_list))\n",
    "    \n",
    "    return lambda_value[maxi]"
   ]
  },
  {
   "cell_type": "code",
   "execution_count": 6,
   "metadata": {
    "collapsed": false
   },
   "outputs": [
    {
     "data": {
      "text/plain": [
       "19"
      ]
     },
     "execution_count": 6,
     "metadata": {},
     "output_type": "execute_result"
    }
   ],
   "source": [
    "lambda_test(outage_data)"
   ]
  },
  {
   "cell_type": "markdown",
   "metadata": {},
   "source": [
    "## Log-likelihood:\n",
    "\n",
    "$P(k_i) = \\frac{\\lambda^k_i * e^{-\\lambda}}{k_i!}$\n",
    "\n",
    "$L(\\lambda|k) = \\sum_{i=1}^{n}P(k_i)$\n",
    "\n",
    "$l(\\lambda) = log(L(\\lambda|k)) = log(\\prod_{i=1}^{n}P(k_i))$\n",
    "\n",
    "$log(L(\\lambda|k)) = log(\\prod_{i=1}^{n}P(k_i))$"
   ]
  },
  {
   "cell_type": "code",
   "execution_count": 7,
   "metadata": {
    "collapsed": false
   },
   "outputs": [],
   "source": [
    "def log_likehood_pois(data):\n",
    "    number_sucess = lambda_test(data)\n",
    "    lambda_like = linspace(14,21,100)\n",
    "    log_likehood = log(stats.poisson.pmf(number_sucess,lambda_like))\n",
    "    max_index = argmax(log_likehood)\n",
    "    axvline(x = lambda_like[max_index])\n",
    "    print(lambda_like[max_index], log_likehood[max_index])\n",
    "    return plot(lambda_like, log_likehood)"
   ]
  },
  {
   "cell_type": "code",
   "execution_count": 8,
   "metadata": {
    "collapsed": false
   },
   "outputs": [
    {
     "name": "stdout",
     "output_type": "stream",
     "text": [
      "19.0202020202 -2.39555431547\n"
     ]
    },
    {
     "data": {
      "text/plain": [
       "[<matplotlib.lines.Line2D at 0x11b676320>]"
      ]
     },
     "execution_count": 8,
     "metadata": {},
     "output_type": "execute_result"
    },
    {
     "data": {
      "image/png": "[encoded data removed]",
      "text/plain": [
       "<matplotlib.figure.Figure at 0x11b81efd0>"
      ]
     },
     "metadata": {},
     "output_type": "display_data"
    }
   ],
   "source": [
    "log_likehood_pois(outage_data['0'])"
   ]
  },
  {
   "cell_type": "markdown",
   "metadata": {},
   "source": [
    "### Question 2\n",
    "\n",
    "The file `plants.csv` contains heights to 1,000 plants. You are told the data resembles a normal distribution with a standard deviation of 3cm.\n",
    "\n",
    "1. Read in `https://s3-us-west-2.amazonaws.com/dsci/6002/data/plant.csv` using pandas and plot the data on a histogram\n",
    "   \n",
    "2. Define a range of possible values for the mean (from 32 to 42)\n",
    "  \n",
    "3. Calculate the log-liklihood for each of the values in the range \n",
    "  \n",
    "4. Plot the log-likelihood function\n",
    "\n",
    "5. Find the MLE for the mean"
   ]
  },
  {
   "cell_type": "code",
   "execution_count": 9,
   "metadata": {
    "collapsed": false
   },
   "outputs": [
    {
     "data": {
      "text/html": [
       "<div>\n",
       "<table border=\"1\" class=\"dataframe\">\n",
       "  <thead>\n",
       "    <tr style=\"text-align: right;\">\n",
       "      <th></th>\n",
       "      <th>0</th>\n",
       "    </tr>\n",
       "  </thead>\n",
       "  <tbody>\n",
       "    <tr>\n",
       "      <th>0</th>\n",
       "      <td>38.908525</td>\n",
       "    </tr>\n",
       "    <tr>\n",
       "      <th>1</th>\n",
       "      <td>43.156130</td>\n",
       "    </tr>\n",
       "    <tr>\n",
       "      <th>2</th>\n",
       "      <td>39.910492</td>\n",
       "    </tr>\n",
       "    <tr>\n",
       "      <th>3</th>\n",
       "      <td>42.520638</td>\n",
       "    </tr>\n",
       "    <tr>\n",
       "      <th>4</th>\n",
       "      <td>40.462430</td>\n",
       "    </tr>\n",
       "  </tbody>\n",
       "</table>\n",
       "</div>"
      ],
      "text/plain": [
       "           0\n",
       "0  38.908525\n",
       "1  43.156130\n",
       "2  39.910492\n",
       "3  42.520638\n",
       "4  40.462430"
      ]
     },
     "execution_count": 9,
     "metadata": {},
     "output_type": "execute_result"
    }
   ],
   "source": [
    "plants_data = pd.read_csv('https://s3-us-west-2.amazonaws.com/dsci/6002/data/plant.csv')\n",
    "plants_data.head()"
   ]
  },
  {
   "cell_type": "code",
   "execution_count": 10,
   "metadata": {
    "collapsed": false
   },
   "outputs": [
    {
     "data": {
      "text/plain": [
       "<matplotlib.axes._subplots.AxesSubplot at 0x11b676e80>"
      ]
     },
     "execution_count": 10,
     "metadata": {},
     "output_type": "execute_result"
    },
    {
     "data": {
      "image/png": "[encoded data removed]",
      "text/plain": [
       "<matplotlib.figure.Figure at 0x11b8148d0>"
      ]
     },
     "metadata": {},
     "output_type": "display_data"
    }
   ],
   "source": [
    "plants_data.plot(kind='hist',bins=20, normed=True)"
   ]
  },
  {
   "cell_type": "code",
   "execution_count": 11,
   "metadata": {
    "collapsed": true
   },
   "outputs": [],
   "source": [
    "def likehood_normal(data, mu_like, sigma):\n",
    "    norm = stats.norm(mu_like, sigma)\n",
    "    return sum(norm.pdf(data))"
   ]
  },
  {
   "cell_type": "code",
   "execution_count": 12,
   "metadata": {
    "collapsed": false
   },
   "outputs": [
    {
     "data": {
      "text/plain": [
       "96.085882293381047"
      ]
     },
     "execution_count": 12,
     "metadata": {},
     "output_type": "execute_result"
    }
   ],
   "source": [
    "likehood_normal(plants_data['0'], 40, 3)"
   ]
  },
  {
   "cell_type": "code",
   "execution_count": 13,
   "metadata": {
    "collapsed": true
   },
   "outputs": [],
   "source": [
    "def mu_test(data,sigma):\n",
    "    mu_list = []\n",
    "    mu_value = []\n",
    "    for x in range(32, 42):\n",
    "        l = likehood_normal(data, x, sigma)\n",
    "        mu_list.append(l)\n",
    "        mu_value.append(x)\n",
    "        maxi = mu_list.index(max(mu_list))\n",
    "        \n",
    "    return mu_value[maxi]"
   ]
  },
  {
   "cell_type": "code",
   "execution_count": 14,
   "metadata": {
    "collapsed": false
   },
   "outputs": [
    {
     "data": {
      "text/plain": [
       "40"
      ]
     },
     "execution_count": 14,
     "metadata": {},
     "output_type": "execute_result"
    }
   ],
   "source": [
    "mu_test(plants_data['0'],3)"
   ]
  },
  {
   "cell_type": "code",
   "execution_count": 15,
   "metadata": {
    "collapsed": true
   },
   "outputs": [],
   "source": [
    "def log_likehood_normal(data, sigma):\n",
    "    normal_range = mu_test(data,sigma)\n",
    "    mu_like = linspace(32,42,1000)\n",
    "    log_norm_likehood = log(stats.norm.pdf(mu_like, normal_range, sigma))\n",
    "    max_index = argmax(log_norm_likehood)\n",
    "    axvline(x = mu_like[max_index])\n",
    "    print(mu_like[max_index], log_norm_likehood[max_index])\n",
    "    return plot(mu_like, log_norm_likehood)"
   ]
  },
  {
   "cell_type": "code",
   "execution_count": 16,
   "metadata": {
    "collapsed": false
   },
   "outputs": [
    {
     "name": "stdout",
     "output_type": "stream",
     "text": [
      "39.997997998 -2.01755104454\n"
     ]
    },
    {
     "data": {
      "text/plain": [
       "[<matplotlib.lines.Line2D at 0x11bbe0828>]"
      ]
     },
     "execution_count": 16,
     "metadata": {},
     "output_type": "execute_result"
    },
    {
     "data": {
      "image/png": "[encoded data removed]",
      "text/plain": [
       "<matplotlib.figure.Figure at 0x11b9d52e8>"
      ]
     },
     "metadata": {},
     "output_type": "display_data"
    }
   ],
   "source": [
    "log_likehood_normal(plants_data['0'], 3)"
   ]
  },
  {
   "cell_type": "code",
   "execution_count": null,
   "metadata": {
    "collapsed": true
   },
   "outputs": [],
   "source": []
  }
 ],
 "metadata": {
  "anaconda-cloud": {},
  "kernelspec": {
   "display_name": "Python [Root]",
   "language": "python",
   "name": "Python [Root]"
  },
  "language_info": {
   "codemirror_mode": {
    "name": "ipython",
    "version": 3
   },
   "file_extension": ".py",
   "mimetype": "text/x-python",
   "name": "python",
   "nbconvert_exporter": "python",
   "pygments_lexer": "ipython3",
   "version": "3.5.2"
  }
 },
 "nbformat": 4,
 "nbformat_minor": 0
}
