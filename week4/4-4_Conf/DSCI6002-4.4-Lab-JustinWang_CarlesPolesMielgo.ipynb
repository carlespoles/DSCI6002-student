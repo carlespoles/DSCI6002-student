{
 "cells": [
  {
   "cell_type": "markdown",
   "metadata": {},
   "source": [
    "# Lab 4.4: Confidence Intervals\n",
    "\n",
    "## Outline\n",
    "\n",
    "- z-score\n",
    "- t-distribution\n",
    "- Confidence Interval Basics\n",
    "- Confidence Interval for One Sample Mean"
   ]
  },
  {
   "cell_type": "markdown",
   "metadata": {},
   "source": [
    "**Question 1**\n",
    "\n",
    "1) Write down the standard Normal distribution.\n",
    "\n",
    "   <br>"
   ]
  },
  {
   "cell_type": "markdown",
   "metadata": {},
   "source": [
    "$ Z = \\frac{\\bar{X} - \\mu}{\\sigma / \\sqrt{n}} \\sim N(0, 1) $"
   ]
  },
  {
   "cell_type": "markdown",
   "metadata": {},
   "source": [
    "2) z-score measures how many `__________` a value is from the mean.\n",
    "   - units\n",
    "   - variances\n",
    "   - standard deviations\n",
    "   - medians\n",
    "   - modes\n",
    "\n",
    "   <br>"
   ]
  },
  {
   "cell_type": "markdown",
   "metadata": {},
   "source": [
    "standard deviations"
   ]
  },
  {
   "cell_type": "markdown",
   "metadata": {},
   "source": [
    "3) Given a Normal distribution that has mean of 10.5 and variance of 3.2, compute the\n",
    "   - z-score for observing a value of 8.3\n",
    "   - probability of observing a z-score greater than the calculated value above\n",
    "   \n",
    "   <br>"
   ]
  },
  {
   "cell_type": "code",
   "execution_count": 1,
   "metadata": {
    "collapsed": false
   },
   "outputs": [
    {
     "name": "stdout",
     "output_type": "stream",
     "text": [
      "Populating the interactive namespace from numpy and matplotlib\n"
     ]
    },
    {
     "data": {
      "text/plain": [
       "-1.229837387624884"
      ]
     },
     "execution_count": 1,
     "metadata": {},
     "output_type": "execute_result"
    }
   ],
   "source": [
    "%pylab inline\n",
    "x = 8.3\n",
    "mu = 10.5\n",
    "var = 3.2\n",
    "z_score = (x - mu)/np.sqrt(var)\n",
    "z_score"
   ]
  },
  {
   "cell_type": "code",
   "execution_count": 2,
   "metadata": {
    "collapsed": false
   },
   "outputs": [
    {
     "data": {
      "text/plain": [
       "0.89062099773330372"
      ]
     },
     "execution_count": 2,
     "metadata": {},
     "output_type": "execute_result"
    }
   ],
   "source": [
    "from scipy import stats\n",
    "prob = stats.norm(mu, np.sqrt(var)).cdf(x)\n",
    "1 - prob"
   ]
  },
  {
   "cell_type": "markdown",
   "metadata": {},
   "source": [
    "4) Verify that the probability of observing a z-score greater than calculated in `3.` is same that the probability of observing a value greater than 8.3 from the original Normal distribution (with mean 10.5 and variance 3.2).  \n",
    "\n",
    "   <br>"
   ]
  },
  {
   "cell_type": "code",
   "execution_count": 3,
   "metadata": {
    "collapsed": false
   },
   "outputs": [
    {
     "data": {
      "text/plain": [
       "0.89062099773330372"
      ]
     },
     "execution_count": 3,
     "metadata": {},
     "output_type": "execute_result"
    }
   ],
   "source": [
    "# Now, we will calculate using a stadard normal distribution, which has a mean of 0 and variance of 1.\n",
    "z_prob = stats.norm(0, 1).cdf(z_score)\n",
    "1 - z_prob"
   ]
  },
  {
   "cell_type": "markdown",
   "metadata": {},
   "source": [
    "   \n",
    "5) For the standard Normal random variable $Z$, compute the following: \n",
    "1. $P(0.2 < Z \\leq 1.4)$\n",
    "2. $P(-1.48 \\leq Z \\leq 0.4)$\n",
    "3. $P(Z > 1.23)$\n",
    "4. $E(3 + 3Z)$\n",
    "5. $Var(3 + 3Z)$  \n",
    "\n",
    "   <br>"
   ]
  },
  {
   "cell_type": "code",
   "execution_count": 4,
   "metadata": {
    "collapsed": false
   },
   "outputs": [
    {
     "data": {
      "text/plain": [
       "0.33998363132712595"
      ]
     },
     "execution_count": 4,
     "metadata": {},
     "output_type": "execute_result"
    }
   ],
   "source": [
    "# 1\n",
    "stats.norm(0, 1).cdf(1.4) - stats.norm(0, 1).cdf(0.2)"
   ]
  },
  {
   "cell_type": "code",
   "execution_count": 5,
   "metadata": {
    "collapsed": false
   },
   "outputs": [
    {
     "data": {
      "text/plain": [
       "0.5859851182769924"
      ]
     },
     "execution_count": 5,
     "metadata": {},
     "output_type": "execute_result"
    }
   ],
   "source": [
    "# 2\n",
    "stats.norm(0, 1).cdf(0.4) - stats.norm(0, 1).cdf(-1.48)"
   ]
  },
  {
   "cell_type": "code",
   "execution_count": 6,
   "metadata": {
    "collapsed": false
   },
   "outputs": [
    {
     "data": {
      "text/plain": [
       "0.10934855242569186"
      ]
     },
     "execution_count": 6,
     "metadata": {},
     "output_type": "execute_result"
    }
   ],
   "source": [
    "# 3\n",
    "1 - stats.norm(0, 1).cdf(1.23)"
   ]
  },
  {
   "cell_type": "markdown",
   "metadata": {},
   "source": [
    "#4\n",
    "E(3 + 3Z) = E(3) + 3 * E(Z)\n",
    "\n",
    "E(Z) = $\\mu$ = 0, for a standard normal distribution.\n",
    "\n",
    "So the result is E(3) + 0 = 3 + 0 = 3 "
   ]
  },
  {
   "cell_type": "markdown",
   "metadata": {},
   "source": [
    "#5\n",
    "\n",
    "We know that E[(3 + 3Z)] = 3\n",
    "\n",
    "E[Z$^2$] = 1 for standard normal deviation.\n",
    "\n",
    "Var(3 + 3Z) = E[(3 + 3Z)$^2$] - E[(3 + 3Z)]$^2$ = E[(3$^2$ + 2 x 3 x 3Z + (3Z)$^2$)] - 3$^2$, then\n",
    "\n",
    "Var(3 + 3Z) = 3$^2$ + 0 + 3$^2$ = 18"
   ]
  },
  {
   "cell_type": "markdown",
   "metadata": {},
   "source": [
    "**Question 2**\n",
    "   \n",
    "1) Visually, what is the difference between a t-distribution and a standard Normal distribution? \n",
    "\n",
    "   <br> "
   ]
  },
  {
   "cell_type": "markdown",
   "metadata": {},
   "source": [
    "t-distribution has fatter tails and the peak at $\\mu$ lies lower than that of the standard Normal distribution."
   ]
  },
  {
   "cell_type": "markdown",
   "metadata": {},
   "source": [
    "   \n",
    "2) Plot the pdf of the following distributions.  \n",
    "\n",
    "* Standard Normal $N(0, 1)$\n",
    "* $t_{5}$\n",
    "* $t_{10}$\n",
    "* $t_{100}$\n",
    "* $t_{10000}$\n",
    "   \n",
    "   <br>"
   ]
  },
  {
   "cell_type": "code",
   "execution_count": 7,
   "metadata": {
    "collapsed": false
   },
   "outputs": [
    {
     "data": {
      "image/png": "[encoded data removed]",
      "text/plain": [
       "<matplotlib.figure.Figure at 0x10e076f28>"
      ]
     },
     "metadata": {},
     "output_type": "display_data"
    }
   ],
   "source": [
    "x = linspace(-4, 4, 1000)\n",
    "norm = stats.norm(0,1)\n",
    "plot(x, norm.pdf(x),color='green');"
   ]
  },
  {
   "cell_type": "code",
   "execution_count": 8,
   "metadata": {
    "collapsed": false
   },
   "outputs": [
    {
     "data": {
      "image/png": "[encoded data removed]",
      "text/plain": [
       "<matplotlib.figure.Figure at 0x10e1e7e10>"
      ]
     },
     "metadata": {},
     "output_type": "display_data"
    }
   ],
   "source": [
    "x = linspace(-4.5, 4.5, 1000)\n",
    "df = 5 - 1\n",
    "t_5 = stats.t(df)\n",
    "plot(x, t_5.pdf(x),color='green');"
   ]
  },
  {
   "cell_type": "code",
   "execution_count": 9,
   "metadata": {
    "collapsed": false
   },
   "outputs": [
    {
     "data": {
      "image/png": "[encoded data removed]",
      "text/plain": [
       "<matplotlib.figure.Figure at 0x110cbe470>"
      ]
     },
     "metadata": {},
     "output_type": "display_data"
    }
   ],
   "source": [
    "x = linspace(-4.5, 4.5, 1000)\n",
    "df = 10 - 1\n",
    "t_10 = stats.t(df)\n",
    "plot(x, t_10.pdf(x),color='green');"
   ]
  },
  {
   "cell_type": "code",
   "execution_count": 10,
   "metadata": {
    "collapsed": false
   },
   "outputs": [
    {
     "data": {
      "image/png": "[encoded data removed]",
      "text/plain": [
       "<matplotlib.figure.Figure at 0x110d603c8>"
      ]
     },
     "metadata": {},
     "output_type": "display_data"
    }
   ],
   "source": [
    "x = linspace(-4.5, 4.5, 1000)\n",
    "df = 100 - 1\n",
    "t_100 = stats.t(df)\n",
    "plot(x, t_100.pdf(x),color='green');"
   ]
  },
  {
   "cell_type": "code",
   "execution_count": 11,
   "metadata": {
    "collapsed": false
   },
   "outputs": [
    {
     "data": {
      "image/png": "[encoded data removed]",
      "text/plain": [
       "<matplotlib.figure.Figure at 0x110629400>"
      ]
     },
     "metadata": {},
     "output_type": "display_data"
    }
   ],
   "source": [
    "x = linspace(-4.5, 4.5, 1000)\n",
    "df = 10000 - 1\n",
    "t_10000 = stats.t(df)\n",
    "plot(x, t_10000.pdf(x),color='green');"
   ]
  },
  {
   "cell_type": "markdown",
   "metadata": {},
   "source": [
    "3) Comment on the plots. How does the shape of t-distribution change as the degrees of freedom change?   \n",
    "\n",
    "   <br>"
   ]
  },
  {
   "cell_type": "markdown",
   "metadata": {},
   "source": [
    "As the degrees of freedom, the tails get less fatter and the peak get higher at $\\mu$. As n approaches $\\infty$, the distribution gets closer to the standard Normal distribution."
   ]
  },
  {
   "cell_type": "markdown",
   "metadata": {},
   "source": [
    "**Question 3**\n",
    "\n",
    "1) Explain why confidence interval is more informative than a point estimate.\n",
    "\n",
    "   <br>"
   ]
  },
  {
   "cell_type": "markdown",
   "metadata": {},
   "source": [
    "First of all, we will never know the true estimate. So it's much better to provide a confidence interval where such estimate can be found. By providing an interval instead of only one point, we get information about the variance."
   ]
  },
  {
   "cell_type": "markdown",
   "metadata": {},
   "source": [
    "2) Explain why the following statement is **wrong**:\n",
    "   - The 95% confidence interval means there is a 95% chance that the true value lies in the interval.\n",
    "   \n",
    "   <br>"
   ]
  },
  {
   "cell_type": "markdown",
   "metadata": {},
   "source": [
    "It's not about the true value, which will be always unknown. The 95% confidence interval means that if we had 100 different samples with the same sample size and created 100 different intervals, we would expect (on average) 95 out of 100 of them to contain the true (but unknown) mean."
   ]
  },
  {
   "cell_type": "markdown",
   "metadata": {},
   "source": [
    "3) Explain in plain words what the following means:\n",
    "   - The 95% confidence interval of the click through rate to website A is 0.10 to 0.15\n",
    "\n",
    "   <br>"
   ]
  },
  {
   "cell_type": "markdown",
   "metadata": {},
   "source": [
    "We are 95% confident that the true click through rate to website A is somewhere between 0.10 and 0.15."
   ]
  },
  {
   "cell_type": "markdown",
   "metadata": {},
   "source": [
    "4) You are presented with 2 measurements below, select the measurement that is more precise and explain why that is.\n",
    "   - **Measurement 1**: 5.00 cm with 95% confidence interval of (4.52 cm, 5.52 cm)\n",
    "   - **Measurement 2**: 5.20 cm with 95% confidence interval of (5.13 cm, 5.22 cm)\n",
    "\n",
    "   <br>"
   ]
  },
  {
   "cell_type": "code",
   "execution_count": 12,
   "metadata": {
    "collapsed": false
   },
   "outputs": [
    {
     "name": "stdout",
     "output_type": "stream",
     "text": [
      "Interval 1: 0.4800000000000004 0.5199999999999996 0.03999999999999915\n"
     ]
    }
   ],
   "source": [
    "# Measurement 1\n",
    "low_1 = 5 - 4.52\n",
    "high_1 = 5.52 - 5\n",
    "print(\"Interval 1:\", low_1, high_1, abs(high_1 - low_1))"
   ]
  },
  {
   "cell_type": "code",
   "execution_count": 13,
   "metadata": {
    "collapsed": false
   },
   "outputs": [
    {
     "name": "stdout",
     "output_type": "stream",
     "text": [
      "Interval 2: 0.07000000000000028 0.019999999999999574 0.05000000000000071\n"
     ]
    }
   ],
   "source": [
    "# Measurement 2\n",
    "low_2 = 5.2 - 5.13\n",
    "high_2 = 5.22 - 5.2\n",
    "print(\"Interval 2:\", low_2, high_2, abs(high_2 - low_2))"
   ]
  },
  {
   "cell_type": "markdown",
   "metadata": {},
   "source": [
    "Measurement 1 is more precise because the interval is smaller (0.04) than Measurement 2 (0.05). Therefore, Measurement 1 is more precise."
   ]
  },
  {
   "cell_type": "markdown",
   "metadata": {},
   "source": [
    "5) Is a 99% confidence interval wider or narrower than a 90% confidence interval?  \n",
    "\n",
    "   <br>"
   ]
  },
  {
   "cell_type": "markdown",
   "metadata": {},
   "source": [
    "A 90% confidence interval is narrower compared to a 99% confidence interval because as the precision of the confidence interval increases, it's reliability of containing the actual mean decreases."
   ]
  },
  {
   "cell_type": "markdown",
   "metadata": {},
   "source": [
    "**Question 4**\n",
    "\n",
    "1) Suppose Google sampled 200 of its employees and measured how long they are gone for lunch. \n",
    "   - Download the data from https://s3-us-west-2.amazonaws.com/dsci/6002/data/lunch_hour.txt (right click -> \"Save Link As...\")\n",
    "   - Load the data by `numpy.loadtxt('lunch_hour_200.txt')`\n",
    "   - Compute the mean lunch hour of the sample\n",
    "   - Compute the 95% confidence interval for how long, on average, Google employees take to have lunch.\n",
    "     (**_There is a python function to calculate this, which you will use later to verify your results; for this part, calculate it by following the formula given in class_**)\n",
    "\n",
    "   <br>"
   ]
  },
  {
   "cell_type": "code",
   "execution_count": 14,
   "metadata": {
    "collapsed": false
   },
   "outputs": [
    {
     "data": {
      "text/plain": [
       "2.1844999999999999"
      ]
     },
     "execution_count": 14,
     "metadata": {},
     "output_type": "execute_result"
    }
   ],
   "source": [
    "google_data = np.loadtxt('lunch_hour.txt')\n",
    "google_data.mean()"
   ]
  },
  {
   "cell_type": "code",
   "execution_count": 15,
   "metadata": {
    "collapsed": false
   },
   "outputs": [
    {
     "data": {
      "text/plain": [
       "0.57732984506259499"
      ]
     },
     "execution_count": 15,
     "metadata": {},
     "output_type": "execute_result"
    }
   ],
   "source": [
    "google_data.std()"
   ]
  },
  {
   "cell_type": "code",
   "execution_count": 16,
   "metadata": {
    "collapsed": false
   },
   "outputs": [
    {
     "data": {
      "text/plain": [
       "200"
      ]
     },
     "execution_count": 16,
     "metadata": {},
     "output_type": "execute_result"
    }
   ],
   "source": [
    "n = len(google_data)\n",
    "n"
   ]
  },
  {
   "cell_type": "code",
   "execution_count": 17,
   "metadata": {
    "collapsed": false
   },
   "outputs": [
    {
     "name": "stdout",
     "output_type": "stream",
     "text": [
      "95% confidence interval: 2.10448616571 2.26451383429\n"
     ]
    }
   ],
   "source": [
    "# 95% confidence interval:\n",
    "# mean + 1.96 * sigma/sqrt(n), mean - 1.96 * sigma/sqrt(n)\n",
    "\n",
    "interval_plus = google_data.mean() + 1.96 * google_data.std()/len(google_data)**(1/2)\n",
    "interval_minus = google_data.mean() - 1.96 * google_data.std()/len(google_data)**(1/2)\n",
    "print(\"95% confidence interval:\", interval_minus, interval_plus)"
   ]
  },
  {
   "cell_type": "markdown",
   "metadata": {},
   "source": [
    "   \n",
    "2) Suppose only the first 20 employees are sampled. Re-compute the 95% confidence interval based on this smaller sample.\n",
    "\n",
    "   <br>"
   ]
  },
  {
   "cell_type": "code",
   "execution_count": 18,
   "metadata": {
    "collapsed": false
   },
   "outputs": [
    {
     "data": {
      "text/plain": [
       "2.1599999999999997"
      ]
     },
     "execution_count": 18,
     "metadata": {},
     "output_type": "execute_result"
    }
   ],
   "source": [
    "google_data_sample = google_data[0:20]\n",
    "google_data_sample.mean()"
   ]
  },
  {
   "cell_type": "code",
   "execution_count": 19,
   "metadata": {
    "collapsed": false
   },
   "outputs": [
    {
     "name": "stdout",
     "output_type": "stream",
     "text": [
      "95% confidence interval: 1.89254796318 2.42745203682\n"
     ]
    }
   ],
   "source": [
    "# 95% confidence interval:\n",
    "# mean + 1.96 * sigma/sqrt(n), mean - 1.96 * sigma/sqrt(n)\n",
    "\n",
    "interval_plus_sample = google_data_sample.mean() + 1.96 * google_data_sample.std()/len(google_data_sample)**(1/2)\n",
    "interval_minus_sample = google_data_sample.mean() - 1.96 * google_data_sample.std()/len(google_data_sample)**(1/2)\n",
    "print(\"95% confidence interval:\", interval_minus_sample, interval_plus_sample)"
   ]
  },
  {
   "cell_type": "markdown",
   "metadata": {
    "collapsed": true
   },
   "source": [
    "   \n",
    "3) Use the following Python functions to verify your results above (which one should you use?):\n",
    "\n",
    "```python\n",
    "# Function to calculate z-based 95% CI\n",
    "scipy.stats.norm.interval(0.95, mean, std)\n",
    "\n",
    "# Function to calculate t-based 95% with 19 degrees of freedom\n",
    "scipy.stats.t.interval(0.95, 19, mean, std)\n",
    "```\n",
    "\n",
    "   <br>"
   ]
  },
  {
   "cell_type": "code",
   "execution_count": 20,
   "metadata": {
    "collapsed": false
   },
   "outputs": [
    {
     "data": {
      "text/plain": [
       "(1.052954296477224, 3.3160457035227759)"
      ]
     },
     "execution_count": 20,
     "metadata": {},
     "output_type": "execute_result"
    }
   ],
   "source": [
    "from scipy import stats\n",
    "stats.norm.interval(0.95, google_data.mean(), google_data.std())"
   ]
  },
  {
   "cell_type": "code",
   "execution_count": 21,
   "metadata": {
    "collapsed": false
   },
   "outputs": [
    {
     "data": {
      "text/plain": [
       "(0.9639401081774821, 3.3560598918225173)"
      ]
     },
     "execution_count": 21,
     "metadata": {},
     "output_type": "execute_result"
    }
   ],
   "source": [
    "stats.norm.interval(0.95, google_data_sample.mean(), google_data_sample.std())"
   ]
  },
  {
   "cell_type": "code",
   "execution_count": 22,
   "metadata": {
    "collapsed": false
   },
   "outputs": [
    {
     "data": {
      "text/plain": [
       "(1.0460306338383265, 3.322969366161673)"
      ]
     },
     "execution_count": 22,
     "metadata": {},
     "output_type": "execute_result"
    }
   ],
   "source": [
    "stats.t.interval(0.95, 199, google_data.mean(), google_data.std())"
   ]
  },
  {
   "cell_type": "code",
   "execution_count": 23,
   "metadata": {
    "collapsed": false
   },
   "outputs": [
    {
     "data": {
      "text/plain": [
       "(0.88274075246084416, 3.4372592475391555)"
      ]
     },
     "execution_count": 23,
     "metadata": {},
     "output_type": "execute_result"
    }
   ],
   "source": [
    "stats.t.interval(0.95, 19, google_data_sample.mean(), google_data_sample.std())"
   ]
  },
  {
   "cell_type": "markdown",
   "metadata": {},
   "source": [
    "I would use t-based as this is a more accurate representation of reality."
   ]
  },
  {
   "cell_type": "markdown",
   "metadata": {},
   "source": [
    "**Question 5**\n",
    "\n",
    "A survey is planned to determine the mean annual family medical expenses of employees of a large company. The management of the company wishes to be 95% confident that the sample mean is\n",
    "correct to within +/- \\$50 of the true population mean of annual family medical expenses. A pilot\n",
    "study indicated the population standard deviation can be estimated to be $400.  \n",
    "\n",
    "1) How large a sample size is needed?  \n",
    "\n",
    "\n",
    "2) If management wants to be correct to within +/- \\$25, what sample size is necessary?  \n"
   ]
  },
  {
   "cell_type": "code",
   "execution_count": 24,
   "metadata": {
    "collapsed": false
   },
   "outputs": [
    {
     "name": "stdout",
     "output_type": "stream",
     "text": [
      "Sample size is: 245\n"
     ]
    }
   ],
   "source": [
    "# 1\n",
    "error_1 = 50\n",
    "std = 400\n",
    "n_1 = (1.96*std/error_1)**2\n",
    "print(\"Sample size is:\",int(n_1))"
   ]
  },
  {
   "cell_type": "code",
   "execution_count": 25,
   "metadata": {
    "collapsed": false
   },
   "outputs": [
    {
     "name": "stdout",
     "output_type": "stream",
     "text": [
      "Sample size is: 983\n"
     ]
    }
   ],
   "source": [
    "# 2\n",
    "error_2 = 25\n",
    "std = 400\n",
    "n_2 = (1.96*std/error_2)**2\n",
    "print(\"Sample size is:\",int(n_2))"
   ]
  },
  {
   "cell_type": "code",
   "execution_count": null,
   "metadata": {
    "collapsed": true
   },
   "outputs": [],
   "source": []
  }
 ],
 "metadata": {
  "anaconda-cloud": {},
  "kernelspec": {
   "display_name": "Python [Root]",
   "language": "python",
   "name": "Python [Root]"
  },
  "language_info": {
   "codemirror_mode": {
    "name": "ipython",
    "version": 3
   },
   "file_extension": ".py",
   "mimetype": "text/x-python",
   "name": "python",
   "nbconvert_exporter": "python",
   "pygments_lexer": "ipython3",
   "version": "3.5.2"
  }
 },
 "nbformat": 4,
 "nbformat_minor": 0
}
