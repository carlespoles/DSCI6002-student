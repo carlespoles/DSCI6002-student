{
 "cells": [
  {
   "cell_type": "markdown",
   "metadata": {},
   "source": [
    "# Lab 4.2: Point Estimation\n",
    "\n",
    "## Outline\n",
    " \n",
    "- Estimand, estimator and estimate\n",
    "- MLE and MOM\n",
    "- MSE of an estimator\n",
    "    * Bias\n",
    "    * Variance"
   ]
  },
  {
   "cell_type": "markdown",
   "metadata": {},
   "source": [
    "**Question 1**\n",
    "\n",
    "100 voters are polled before the election, and it was found that 55% are in favor of the Republican candidate.\n",
    "\n",
    "1. State the **estimand, estimator and estimate** of this study."
   ]
  },
  {
   "cell_type": "markdown",
   "metadata": {},
   "source": [
    "Estimand: percentage of voters in favor of the Republican candidate.\n",
    "\n",
    "Estimator: (number of voters in favor of the Republican candidate/total voters) x 100\n",
    "\n",
    "Estimate: 55%."
   ]
  },
  {
   "cell_type": "markdown",
   "metadata": {},
   "source": [
    "**Question 2**\n",
    "\n",
    "Let $X_1, \\dots, X_n$ be i.i.d. with PDF  \n",
    "\n",
    "$$ f(x | \\theta) = \\theta x^{\\theta - 1} \\text{, } 0 \\leq x \\leq 1 \\text{, } 0 < \\theta < \\infty $$\n",
    "\n",
    "Find the MLE of $\\theta$."
   ]
  },
  {
   "cell_type": "markdown",
   "metadata": {},
   "source": [
    "$P(x_i) = \\theta x_i^{\\theta - 1}$\n",
    "\n",
    "$L(x|\\theta) = \\sum_{i=1}^{n}P(x_i)$\n",
    "\n",
    "$l(x) = log(L(x|\\theta)) = log(\\prod_{i=1}^{n}P(x_i)) = log(\\prod_{i=1}^{n}\\theta x_i^{\\theta - 1} ) = \\sum_{i=1}^{n} log(\\theta x_i^{\\theta - 1}) = \\sum_{i=1}^{n} log(\\theta) + (\\theta - 1) * log(x_i)$\n",
    "\n",
    "$\\frac{dP}{d\\theta} = d(log(\\theta) + (\\theta - 1) * log(x_i)) = 1/(\\theta) + 1$\n",
    "\n",
    "If $\\frac{dP}{d\\theta} = 0$, then $\\theta = -1$"
   ]
  },
  {
   "cell_type": "markdown",
   "metadata": {},
   "source": [
    "**Question 3**\n",
    "\n",
    "Let $X_1, \\dots, X_n$ be a random sample from a population with PMF\n",
    "\n",
    "$$ P(X = x) = \\theta^x (1 - \\theta)^{1 - x} \\text{, } x = 0 \\text{ or } 1 \\text{, } 0 \\leq \\theta \\leq \\frac{1}{2} $$  \n",
    "\n",
    "(a) Find the MOM estimator and MLE of $\\theta$.  \n",
    "\n",
    "(b) Find the mean squared errors (MSE) of each of the estimators.  \n",
    "\n",
    "(c) Which estimator is preferred? Justify your choice."
   ]
  },
  {
   "cell_type": "markdown",
   "metadata": {},
   "source": [
    "(a)\n",
    "\n",
    "MOM = $\\mu_n = \\operatorname{E}[(X-a)^n] = \\frac{1}{m}\\sum_{i=1}^m(x_i-a)^n$\n",
    "\n",
    "now, a = 0, and n = 1, so we get:\n",
    "\n",
    "$\\mu_n = \\operatorname{E}[(X)] = \\frac{1}{n}\\sum_{i=1}^n(x_i)$\n",
    "\n",
    "MLE\n",
    "\n",
    "$l(\\theta) = log(\\theta^x (1 - \\theta)^{1 - x}) = log(\\theta^x) + log((1-\\theta)^{1-x}) = x * log(\\theta) + (1-x) * log(1-\\theta)$\n",
    "\n",
    "Now, if we derivate above respect $\\theta$ we get:\n",
    "\n",
    "$ \\begin{align*}\n",
    "     \\frac{dl}{d\\theta} &= x (\\frac{1}{\\theta}) - (1-x) (\\frac{1}{1 - \\theta}) \\\\\n",
    "                   &= \\frac{x}{\\theta} - \\frac{1-x}{1 - \\theta}\n",
    "   \\end{align*} $\n",
    "   \n",
    "The maximizing value of $\\theta$ occurs when:\n",
    "\n",
    "$ \\frac{dl}{d\\theta} = 0 $\n",
    "\n",
    "This gives us : \n",
    "\n",
    "$ \\frac{dl}{d\\theta} = \\frac{x}{\\theta} - \\frac{1-x}{1 - \\theta} = 0 $\n",
    "\n",
    "$\\hat{\\theta} = \\frac{1}{n}$\n",
    "\n",
    "(b)\n",
    "\n",
    "MSE\n",
    "\n",
    "$ E(\\hat{\\theta} - \\theta)^2 = Var(\\hat{\\theta}) + [E(\\hat{\\theta}) - \\theta]^2 = Var(\\hat{\\theta}) + (Bias(\\hat{\\theta}))^2 $\n",
    "\n",
    "Now, MLE above is equal MOM which is $\\mu$ (the mean). By definition, the mean is unbias, so our formula for MSE is:\n",
    "\n",
    "$ E(\\hat{\\theta} - \\theta)^2 = Var(\\hat{\\theta})$\n",
    "\n",
    "$Var(\\hat{\\theta}) = \\operatorname{E}[(X-\\mu)^2] = \\frac{1}{n}\\sum_{i=1}^n(x_i-\\mu)^2$\n",
    "\n",
    "(c)\n",
    "\n",
    "MOM and MLE are the same in this case. MOM is much simpler to calculate compared to MLE, and since results are the same, I prefer MOM per simplicity."
   ]
  },
  {
   "cell_type": "markdown",
   "metadata": {},
   "source": [
    "**Question 4**\n",
    "\n",
    "Three independent groups conducted their own polls to estimate the percentage of voters favor the Republican candidate:\n",
    "- Group 1 and Group 2 randomly polled people from the US population \n",
    "- Group 3 polled people by asking passer-bys at the the corner of a street in Texas, Austin\n",
    "\n",
    "The percentage that favors the Republican candidate in each of the polls are as follows:\n",
    "- Group 1: 49.27%\n",
    "- Group 2: 48.904%\n",
    "- Group 3: 70%\n",
    "\n",
    "\n",
    "1. Which group(s) is likely to have a larger bias? Why?\n",
    "2. Do you know the true bias? Why or why not?"
   ]
  },
  {
   "cell_type": "markdown",
   "metadata": {},
   "source": [
    "1. The group with larger bias is group 3 because shows a percentage that favors the Republican candidate very different from the other 2 groups. Besides, the methodology used by Group 3 introduced bias since we are asking people in Texas, a known red state (sample bias). The other 2 groups collect data randomly across the entire US population, which reduces significantly the bias (group 3 collects data from just people passing by one street of one town of one state of the US).\n",
    "\n",
    "2. $Bias(\\hat{\\theta}) = E(\\hat{\\theta}) - \\theta$.\n",
    "\n",
    "If we take as expected value $\\hat{\\theta}$ = (49.27 + 48.904)/2 = 49.087\n",
    "\n",
    "$\\theta$ = 70, then:\n",
    "\n",
    "$Bias(\\hat{\\theta}) = -20.91"
   ]
  },
  {
   "cell_type": "markdown",
   "metadata": {},
   "source": [
    "**Question 5** (Extra Credit)\n",
    "\n",
    "Suppose $X_1, \\dots, X_n$ are i.i.d. $N(\\mu, \\sigma^2)$. From today's class, we know that the sample mean ($\\bar{X}$) and variance ($S^2$) are unbiased estimators of the population mean ($\\mu$) and variance ($\\sigma^2$),  \n",
    "\n",
    "$$ E(\\bar{X}) = \\mu $$  \n",
    "\n",
    "\n",
    "$$ E(S^2) = \\sigma^2 $$  \n",
    "\n",
    "The MLE of $\\mu$ and $\\sigma^2$ are:  \n",
    "\n",
    "$$ \\hat{\\mu} = \\bar{X} $$  \n",
    "\n",
    "\n",
    "$$ \\hat{\\sigma}^2 = \\frac{1}{n} \\sum X_i^2 - \\bar{X}^2 = \\frac{1}{n} \\sum (X_i - \\bar{X})^2 $$  \n",
    "\n",
    "(a) Are the MLE's above unbiased estimators? Why or why not?  \n",
    "\n",
    "(b) Find the mean squared errors (MSE) of the MLE estimators. (Hint: the MSE part of the lecture notes may help) \n",
    "\n",
    "(c) Write a function in Python to randomly draw 100 values from a $N(0, 1)$ distribution.\n",
    "\n",
    "(d) Use the function above to draw 1000 samples, each with 100 values in it.  \n",
    "\n",
    "(e) For each sample:  \n",
    "\n",
    "    (1) Estimate the variance using sample variance  \n",
    "    \n",
    "    (2) Estimate the variance using the MLE\n",
    "\n",
    "(f) Plot a histogram of the sample variances, and a histogram of the MLE's for the variance\n",
    "\n",
    "(g) Compare the two histograms, what do you notice? Do they estimate the true variance accurately on average? (Hint: it may help to add a vertical line at the value of the true variance on the histograms)\n",
    "\n",
    "(h) Which estimator is preferred, the sample variance or the MLE? Why?  \n",
    "\n"
   ]
  },
  {
   "cell_type": "markdown",
   "metadata": {},
   "source": [
    "# a"
   ]
  },
  {
   "cell_type": "markdown",
   "metadata": {},
   "source": [
    "$ \\hat{\\mu} = \\bar{X} $ is unbiased as it is the sample mean ($\\bar{X}$), and $ \\hat{\\sigma}^2$ is biased as the formula used:\n",
    "\n",
    "$\\frac{1}{n} \\sum (X_i - \\bar{X})^2$\n",
    "\n",
    "is not dividing by (n-1):\n",
    "\n",
    "$\\frac{1}{n-1} \\sum (X_i - \\bar{X})^2$"
   ]
  },
  {
   "cell_type": "markdown",
   "metadata": {},
   "source": [
    "# b"
   ]
  },
  {
   "cell_type": "markdown",
   "metadata": {},
   "source": [
    "$ E(\\bar{X} - \\mu)^2 = Var(\\bar{X}) = \\frac{\\sigma^2}{n} $ \n",
    "\n",
    "\n",
    "$ E(S^2 - \\sigma^2)^2 = Var(S^2) = \\frac{2 \\sigma^4}{n - 1} $"
   ]
  },
  {
   "cell_type": "markdown",
   "metadata": {},
   "source": [
    "# c"
   ]
  },
  {
   "cell_type": "code",
   "execution_count": 1,
   "metadata": {
    "collapsed": true
   },
   "outputs": [],
   "source": [
    "import numpy as np\n",
    "def draw_normal(size, mu, sigma):\n",
    "    sample = np.random.normal(mu, sigma, size)\n",
    "    return sample"
   ]
  },
  {
   "cell_type": "code",
   "execution_count": 2,
   "metadata": {
    "collapsed": false,
    "scrolled": true
   },
   "outputs": [
    {
     "data": {
      "text/plain": [
       "array([  3.07282431e-01,  -3.99665031e-01,  -1.87649445e+00,\n",
       "         1.08348968e+00,  -4.22251812e-01,   7.39874211e-01,\n",
       "        -3.84311078e-01,  -4.65033058e-01,   1.47607478e+00,\n",
       "         1.39441868e-01,   4.47784068e-02,   9.05900679e-01,\n",
       "        -1.17716529e+00,   2.66218256e-02,   4.59025247e-01,\n",
       "         3.24128754e-01,   5.71757069e-01,   5.46728047e-01,\n",
       "        -4.97964360e-01,  -1.21335994e+00,  -1.36722754e+00,\n",
       "         1.43762323e-01,  -1.12087737e+00,   2.34256706e+00,\n",
       "        -1.41420696e-01,   4.19595490e-01,   5.42596507e-01,\n",
       "        -4.39222368e-01,  -7.33633630e-01,   8.72701898e-01,\n",
       "         1.16957581e+00,  -3.43078463e-02,  -1.84978700e-01,\n",
       "        -7.21716942e-01,  -1.19361351e+00,   8.10725445e-01,\n",
       "         1.30064362e+00,  -4.70435855e-01,  -2.18241936e-01,\n",
       "        -8.12934303e-03,  -3.09930314e-01,   1.81217466e+00,\n",
       "         1.54054163e-01,  -9.03500156e-01,  -1.13144782e-01,\n",
       "        -1.18228633e+00,   3.43535694e-01,  -1.21818964e+00,\n",
       "         1.05767109e+00,   1.94394383e+00,   2.26821037e+00,\n",
       "        -6.08306920e-01,  -6.38244793e-02,   2.53031565e-01,\n",
       "        -7.87225654e-01,  -2.40889176e-01,   7.00759195e-02,\n",
       "        -9.70289952e-04,   1.57123038e+00,   5.51326255e-02,\n",
       "        -3.60385967e-01,   1.02416889e+00,   2.69815146e+00,\n",
       "         1.06013986e+00,   1.39568025e+00,  -8.14811653e-01,\n",
       "         1.32676259e+00,   6.62240415e-01,   3.73943351e-01,\n",
       "        -1.68186025e+00,  -1.40444833e+00,   1.65281650e+00,\n",
       "         1.90543914e-01,  -7.42005748e-01,  -8.23695976e-02,\n",
       "         6.33940926e-01,  -1.23048665e+00,   1.63661315e+00,\n",
       "         7.35183187e-01,  -1.90315928e+00,   5.16525334e-01,\n",
       "         1.04740882e+00,   1.69543862e+00,   2.81722756e+00,\n",
       "        -1.14011236e+00,  -1.75971841e+00,  -6.92350295e-01,\n",
       "        -9.47450944e-01,  -6.76734870e-01,   1.02354923e+00,\n",
       "        -9.35998745e-01,  -1.79996764e-02,  -1.54327712e+00,\n",
       "         1.26062917e+00,  -9.43551244e-02,  -9.11393947e-01,\n",
       "        -1.35570613e-01,   8.70208823e-01,  -1.57484146e+00,\n",
       "        -8.09183640e-02])"
      ]
     },
     "execution_count": 2,
     "metadata": {},
     "output_type": "execute_result"
    }
   ],
   "source": [
    "draw_normal(100, 0, 1)"
   ]
  },
  {
   "cell_type": "markdown",
   "metadata": {},
   "source": [
    "# d"
   ]
  },
  {
   "cell_type": "code",
   "execution_count": 3,
   "metadata": {
    "collapsed": false
   },
   "outputs": [
    {
     "data": {
      "text/plain": [
       "1000"
      ]
     },
     "execution_count": 3,
     "metadata": {},
     "output_type": "execute_result"
    }
   ],
   "source": [
    "all_samples = []\n",
    "for x in range(1000):\n",
    "    all_samples.append(draw_normal(100, 0, 1))\n",
    "    \n",
    "len(all_samples)"
   ]
  },
  {
   "cell_type": "markdown",
   "metadata": {},
   "source": [
    "# e-1"
   ]
  },
  {
   "cell_type": "code",
   "execution_count": 4,
   "metadata": {
    "collapsed": false
   },
   "outputs": [],
   "source": [
    "samples_variance = []\n",
    "for i in range(len(all_samples)):\n",
    "    samples_variance.append(np.var(all_samples[i]))"
   ]
  },
  {
   "cell_type": "markdown",
   "metadata": {},
   "source": [
    "# e-2"
   ]
  },
  {
   "cell_type": "code",
   "execution_count": 5,
   "metadata": {
    "collapsed": false
   },
   "outputs": [],
   "source": [
    "samples_variance_mle = []\n",
    "for i in range(len(all_samples)):\n",
    "    sample_mean = all_samples[i].mean()\n",
    "    var = sum([(x - sample_mean)**2 for x in all_samples[i]])/len(all_samples[i])\n",
    "    samples_variance_mle.append(var)"
   ]
  },
  {
   "cell_type": "markdown",
   "metadata": {},
   "source": [
    "# f"
   ]
  },
  {
   "cell_type": "code",
   "execution_count": 6,
   "metadata": {
    "collapsed": false
   },
   "outputs": [
    {
     "name": "stdout",
     "output_type": "stream",
     "text": [
      "Populating the interactive namespace from numpy and matplotlib\n"
     ]
    },
    {
     "name": "stderr",
     "output_type": "stream",
     "text": [
      "WARNING: pylab import has clobbered these variables: ['var']\n",
      "`%matplotlib` prevents importing * from pylab and numpy\n"
     ]
    }
   ],
   "source": [
    "%pylab inline"
   ]
  },
  {
   "cell_type": "code",
   "execution_count": 7,
   "metadata": {
    "collapsed": false
   },
   "outputs": [
    {
     "data": {
      "image/png": "[encoded data removed]",
      "text/plain": [
       "<matplotlib.figure.Figure at 0x10cd08160>"
      ]
     },
     "metadata": {},
     "output_type": "display_data"
    }
   ],
   "source": [
    "# http://stackoverflow.com/questions/15558136/obtain-the-max-y-value-of-a-histogram\n",
    "variance = np.var(all_samples)\n",
    "plt.hist(x=samples_variance, bins=50)\n",
    "plt.title('Histogram of the Sample Variances')\n",
    "plt.xlabel('Sample Variances')\n",
    "plt.ylabel('Count')\n",
    "#plt.vlines(variance, 0, plt.hist(x=samples_variance, bins=100)[0].max(), colors='red')\n",
    "plt.vlines(variance, 0, 50, colors='red')\n",
    "plt.show()"
   ]
  },
  {
   "cell_type": "code",
   "execution_count": 8,
   "metadata": {
    "collapsed": false
   },
   "outputs": [
    {
     "data": {
      "image/png": "[encoded data removed]",
      "text/plain": [
       "<matplotlib.figure.Figure at 0x10c7a25c0>"
      ]
     },
     "metadata": {},
     "output_type": "display_data"
    }
   ],
   "source": [
    "variance_mle = np.var(all_samples)\n",
    "plt.hist(x=samples_variance_mle, bins=50)\n",
    "plt.title('Histogram of the Sample Variances MLE')\n",
    "plt.xlabel('Sample Variances MLE')\n",
    "plt.ylabel('Count')\n",
    "#plt.vlines(variance, 0, plt.hist(x=samples_variance_mle, bins=100)[0].max(), colors='red')\n",
    "plt.vlines(variance, 0, 50, colors='red')\n",
    "plt.show()"
   ]
  },
  {
   "cell_type": "markdown",
   "metadata": {},
   "source": [
    "# g"
   ]
  },
  {
   "cell_type": "markdown",
   "metadata": {},
   "source": [
    "We cannot tell the difference between histograms. They seem to estimate the true variance accurately on average."
   ]
  },
  {
   "cell_type": "markdown",
   "metadata": {},
   "source": [
    "# h"
   ]
  },
  {
   "cell_type": "markdown",
   "metadata": {},
   "source": [
    "We prefer sample variance because is not unbiased."
   ]
  },
  {
   "cell_type": "code",
   "execution_count": null,
   "metadata": {
    "collapsed": true
   },
   "outputs": [],
   "source": []
  }
 ],
 "metadata": {
  "anaconda-cloud": {},
  "kernelspec": {
   "display_name": "Python [Root]",
   "language": "python",
   "name": "Python [Root]"
  },
  "language_info": {
   "codemirror_mode": {
    "name": "ipython",
    "version": 3
   },
   "file_extension": ".py",
   "mimetype": "text/x-python",
   "name": "python",
   "nbconvert_exporter": "python",
   "pygments_lexer": "ipython3",
   "version": "3.5.2"
  }
 },
 "nbformat": 4,
 "nbformat_minor": 0
}
