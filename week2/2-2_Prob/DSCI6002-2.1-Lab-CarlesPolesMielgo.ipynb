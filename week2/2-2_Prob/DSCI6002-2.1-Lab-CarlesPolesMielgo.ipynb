{
 "cells": [
  {
   "cell_type": "markdown",
   "metadata": {},
   "source": [
    "# Lab 2.1: Probability and Counting"
   ]
  },
  {
   "cell_type": "markdown",
   "metadata": {},
   "source": [
    "Exercises:\n",
    "----------"
   ]
  },
  {
   "cell_type": "markdown",
   "metadata": {},
   "source": [
    "1) A student's test score $T$ is an integer between 0 and 100 corresponding to the experimental outcomes $s_0,...,s_{100}$. A score of 90 to 100 is an $A$, 80 to 89 is a $B$, 70 to 79 is a $C$, 60 to 69 is a $D$, and below 60 is a failing grade of $F$. Given that all scores between 51 and 100 are qually likely and a score of 50 or less cannot occur, please find the following probabilities:  \n",
    "\n",
    "a) $P(s_{79})$  \n",
    "\n",
    "b) $P(s_{100})$  \n",
    "\n",
    "c) $P(A)$  \n",
    "\n",
    "d) $P(F)$  \n",
    "\n",
    "e) $P(T\\geq80)$  \n",
    "\n",
    "f) $P(T<90)$  \n",
    "\n",
    "g) $P$(a $C$ grade or better)  \n",
    "\n",
    "h) $P$(student passes)  \n",
    "    "
   ]
  },
  {
   "cell_type": "markdown",
   "metadata": {},
   "source": [
    "a) $P(s_{79}) = 1/50$  \n",
    "\n",
    "b) $P(s_{100}) = 1/50$  \n",
    "\n",
    "c) $P(A) = P(90 to 100) = 11/50$  \n",
    "\n",
    "d) $P(F) = P(51 to 60) = 10/50$  \n",
    "\n",
    "e) $P(T\\geq80) = 21/50$  \n",
    "\n",
    "f) $P(T<90) = 10/50$  \n",
    "\n",
    "g) $P$(a $C$ grade or better) = $P(T\\geq70) = 31/50$\n",
    "\n",
    "h) $P$(student passes) = $P(T\\geq60) = 41/50$"
   ]
  },
  {
   "cell_type": "markdown",
   "metadata": {},
   "source": [
    "2) Use either `randint` or `random_sample` to generate a series of random grades for forty (40) students according to the above distribution. Put these in a DataFrame along with `student_id`s (hint: use `range` to generate your `id`s) and then `groupby` to count how many of each grade there are. The result should look something like:\n",
    "<table border=\"1\" class=\"dataframe\">\n",
    "  <thead>\n",
    "    <tr style=\"text-align: right;\">\n",
    "      <th></th>\n",
    "      <th>student_id</th>\n",
    "    </tr>\n",
    "    <tr>\n",
    "      <th>grade</th>\n",
    "      <th></th>\n",
    "    </tr>\n",
    "  </thead>\n",
    "  <tbody>\n",
    "    <tr>\n",
    "      <th>A</th>\n",
    "      <td>3</td>\n",
    "    </tr>\n",
    "    <tr>\n",
    "      <th>B</th>\n",
    "      <td>6</td>\n",
    "    </tr>\n",
    "    <tr>\n",
    "      <th>C</th>\n",
    "      <td>3</td>\n",
    "    </tr>\n",
    "    <tr>\n",
    "      <th>D</th>\n",
    "      <td>2</td>\n",
    "    </tr>\n",
    "    <tr>\n",
    "      <th>F</th>\n",
    "      <td>26</td>\n",
    "    </tr>\n",
    "  </tbody>\n",
    "</table>\n",
    "(though the numbers will be different)"
   ]
  },
  {
   "cell_type": "code",
   "execution_count": 17,
   "metadata": {
    "collapsed": false
   },
   "outputs": [
    {
     "data": {
      "text/html": [
       "<div>\n",
       "<table border=\"1\" class=\"dataframe\">\n",
       "  <thead>\n",
       "    <tr style=\"text-align: right;\">\n",
       "      <th></th>\n",
       "      <th>student_id</th>\n",
       "    </tr>\n",
       "    <tr>\n",
       "      <th>grade</th>\n",
       "      <th></th>\n",
       "    </tr>\n",
       "  </thead>\n",
       "  <tbody>\n",
       "    <tr>\n",
       "      <th>A</th>\n",
       "      <td>6</td>\n",
       "    </tr>\n",
       "    <tr>\n",
       "      <th>B</th>\n",
       "      <td>9</td>\n",
       "    </tr>\n",
       "    <tr>\n",
       "      <th>C</th>\n",
       "      <td>8</td>\n",
       "    </tr>\n",
       "    <tr>\n",
       "      <th>D</th>\n",
       "      <td>5</td>\n",
       "    </tr>\n",
       "    <tr>\n",
       "      <th>F</th>\n",
       "      <td>12</td>\n",
       "    </tr>\n",
       "  </tbody>\n",
       "</table>\n",
       "</div>"
      ],
      "text/plain": [
       "       student_id\n",
       "grade            \n",
       "A               6\n",
       "B               9\n",
       "C               8\n",
       "D               5\n",
       "F              12"
      ]
     },
     "execution_count": 17,
     "metadata": {},
     "output_type": "execute_result"
    }
   ],
   "source": [
    "# http://stackoverflow.com/questions/2823316/generate-a-random-letter-in-python\n",
    "import pandas as pd\n",
    "import numpy as np\n",
    "import random\n",
    "\n",
    "grades = [\"A\",\"B\",\"C\",\"D\",\"F\"]\n",
    "\n",
    "student_grades = pd.DataFrame()\n",
    "student_grades['student_id'] = [x for x in range(40)]\n",
    "student_grades['grade'] = [random.choice(grades) for _ in range(40)]\n",
    "\n",
    "count_of_grades = student_grades.groupby('grade')['student_id'].count()\n",
    "count_of_grades.to_frame()"
   ]
  },
  {
   "cell_type": "markdown",
   "metadata": {},
   "source": [
    "3) Using two six-sided dice, what is the probability of:\n",
    "    1. Rolling a 7?\n",
    "    2. Rolling an 11?\n",
    "    3. Rolling two 7s in a row?\n",
    "    4. Rolling a 7 or 11?\n",
    "    5. Rolling a 7 or 11 twice in a row? (i.e. 7, 7; 7, 11; 11, 7; 11, 11)\n",
    "    "
   ]
  },
  {
   "cell_type": "markdown",
   "metadata": {},
   "source": [
    "1. 1+6, 6+1, 2+5, 5+2, 3+4, 4+3. (1/6 x 1/6) x 6 = 1/6\n",
    "2. 5+6, 6+5. (1/6 x 1/6) x 2 = 1/18\n",
    "3. 1 attempt: 1+6, 6+1, 2+5, 5+2, 3+4, 4+3 => 1/6\n",
    "   2 attempt has same probability as above => 1/6\n",
    "   The final probability is 1/6 x 1/6 = 1/36\n",
    "4. P(7) = 1/6, P(11) = 1/18\n",
    "   The final probability is 1/6 + 1/18 = 2/9\n",
    "5. P(7) = 1/6, P(11) = 1/18\n",
    "   The final probability is (1/6 x 1/6) + (1/6 x 1/18) + (1/18 x 1/6) + (1/18 x 1/18)"
   ]
  },
  {
   "cell_type": "markdown",
   "metadata": {},
   "source": [
    "4) Create a function that plays craps. The rules of craps are these:  \n",
    "    If you roll a seven (7) or an eleven (11) on your **first** roll, you win.  \n",
    "    Otherwise, keep track of what you rolled the first time and keep rolling until:  \n",
    "- you roll what you rolled the first time, which means you win; or  \n",
    "- you roll a 7 or an 11, which means you lose.  \n",
    "\n",
    "For example, if I roll 7, I win. But if I roll 5 and then a 7, I lose. If I roll 5, 3, 9, 10, 5, I win.\n",
    "\n",
    "Your function should print out the status with each roll. Sample output might look something like...\n",
    "\n",
    "    1) Target = 6\n",
    "    2) Rolled 10\n",
    "    Didn't roll 7, 11, or 6. Rerolling...\n",
    "    3) Rolled 7\n",
    "    Lost on roll 3"
   ]
  },
  {
   "cell_type": "code",
   "execution_count": 45,
   "metadata": {
    "collapsed": false
   },
   "outputs": [],
   "source": [
    "import numpy as np\n",
    "def crap():\n",
    "   \n",
    "   n = sum(np.random.randint(1,7,2))\n",
    "   \n",
    "   if n == 7 or n ==11:\n",
    "       print(\"u rolled\",n,\" you won \")\n",
    "   else:\n",
    "       print(\"target is\",n)\n",
    "       m = sum(np.random.randint(1,7,2))\n",
    "       \n",
    "       if m == n:\n",
    "           print (\"u rolled\",m,\" you won  \")\n",
    "       elif n == 7 or n ==11:\n",
    "           print(\"u lost\")\n",
    "       else :\n",
    "           print(\"Didn't roll 7 , 11 or \",n,\". rerolling\")\n",
    "           crap()"
   ]
  },
  {
   "cell_type": "code",
   "execution_count": 46,
   "metadata": {
    "collapsed": false
   },
   "outputs": [
    {
     "name": "stdout",
     "output_type": "stream",
     "text": [
      "target is 4\n",
      "Didn't roll 7 , 11 or  4 . rerolling\n",
      "target is 6\n",
      "Didn't roll 7 , 11 or  6 . rerolling\n",
      "target is 2\n",
      "Didn't roll 7 , 11 or  2 . rerolling\n",
      "u rolled 7  you won \n"
     ]
    }
   ],
   "source": [
    "crap()"
   ]
  },
  {
   "cell_type": "markdown",
   "metadata": {},
   "source": [
    "5) 300 Australians were asked about their car preferences in 1998. Of the respondents, 33% had children. The respondents were asked what sort of car they would like if they could choose any car at all. 13% of respondents had children and chose a large car. 12% of respondents did not have children and chose a large car. Find the probability that a randomly chosen respondent:\n",
    "     1. would choose a large car;\n",
    "     2. either has children or would choose a large car (or both)."
   ]
  },
  {
   "cell_type": "markdown",
   "metadata": {},
   "source": [
    "1. Choose a large car:\n",
    "\n",
    "Australians with children => 300 x 0.33 = 99. Australians with no children => 300 x 0.67 = 201. \n",
    "\n",
    "Australians who prefer large car = 99 x 0.13 + 201 x 0.12 = 37\n",
    "\n",
    "Probability of choose a large car = 37/300 = 0.123\n",
    "\n",
    "2. Either has children or would choose a large car:\n",
    "\n",
    "P(have children) = 0.33\n",
    "\n",
    "P(choose large car) = 0.123\n",
    "\n",
    "P(have children OR choose large car) = 0.33 + 0.123 = 0.453\n",
    "\n",
    "P(have children AND choose large car) = 0.33 x 0.123 = 0.04059\n",
    "\n",
    "Fianal probability = 0.453 - 0.04059 = 0.41241 (because having children and liking a big car are NOT exclusive). "
   ]
  },
  {
   "cell_type": "markdown",
   "metadata": {},
   "source": [
    "6) Write a function that will generate random data according to the statistics describe above. If you call your DataFrame `aus` and name your columns `children` and `large_car` respectively, you should be able to get something like:\n",
    "\n",
    "<table border=\"1\" class=\"dataframe\">\n",
    "  <thead>\n",
    "    <tr style=\"text-align: right;\">\n",
    "      <th>large_car</th>\n",
    "      <th>False</th>\n",
    "      <th>True</th>\n",
    "      <th>All</th>\n",
    "    </tr>\n",
    "    <tr>\n",
    "      <th>children</th>\n",
    "      <th></th>\n",
    "      <th></th>\n",
    "      <th></th>\n",
    "    </tr>\n",
    "  </thead>\n",
    "  <tbody>\n",
    "    <tr>\n",
    "      <th>False</th>\n",
    "      <td>?</td>\n",
    "      <td>?</td>\n",
    "      <td>?</td>\n",
    "    </tr>\n",
    "    <tr>\n",
    "      <th>True</th>\n",
    "      <td>?</td>\n",
    "      <td>?</td>\n",
    "      <td>?</td>\n",
    "    </tr>\n",
    "    <tr>\n",
    "      <th>All</th>\n",
    "      <td>?</td>\n",
    "      <td>?</td>\n",
    "      <td>300</td>\n",
    "    </tr>\n",
    "  </tbody>\n",
    "</table>\n",
    "\n",
    "using the command\n",
    "```python\n",
    "pd.crosstab(aus.children, aus.large_car, margins=True)\n",
    "```\n",
    "(with the counts filled in, of course)"
   ]
  },
  {
   "cell_type": "code",
   "execution_count": 82,
   "metadata": {
    "collapsed": false
   },
   "outputs": [],
   "source": [
    "import pandas as pd\n",
    "import numpy as np\n",
    "\n",
    "def create_aus(n, p, q, r):\n",
    "    # n: population, p: probability of having children, q: 0.13, r 0.12\n",
    "    children_list = []\n",
    "    long_car_list = []\n",
    "    \n",
    "    for i in range(n):\n",
    "        x = np.random.randint(1,100)\n",
    "        if x < p:\n",
    "            children_list.append(1)\n",
    "        else :\n",
    "            children_list.append(0)\n",
    "            \n",
    "    aus = pd.DataFrame()\n",
    "    aus['children'] = children_list\n",
    "    \n",
    "    aus_with_children = aus[aus['children'] > 0]\n",
    "    \n",
    "    for i in range(len(aus_with_children)):\n",
    "        x = np.random.randint(1,100)\n",
    "        if x < p:\n",
    "            long_car_list.append(1)\n",
    "        else :\n",
    "            long_car_list.append(0)\n",
    "            \n",
    "    aus_with_no_children = aus[aus['children'] == 0]\n",
    "    \n",
    "    for i in range(len(aus_with_no_children)):\n",
    "        x = np.random.randint(1,100)\n",
    "        if x < q:\n",
    "            long_car_list.append(1)\n",
    "        else :\n",
    "            long_car_list.append(0)\n",
    "            \n",
    "    aus['large_car'] = long_car_list\n",
    "    \n",
    "    return pd.crosstab(aus.children, aus.large_car, margins=True)"
   ]
  },
  {
   "cell_type": "code",
   "execution_count": 83,
   "metadata": {
    "collapsed": false
   },
   "outputs": [
    {
     "data": {
      "text/html": [
       "<div>\n",
       "<table border=\"1\" class=\"dataframe\">\n",
       "  <thead>\n",
       "    <tr style=\"text-align: right;\">\n",
       "      <th>large_car</th>\n",
       "      <th>0</th>\n",
       "      <th>1</th>\n",
       "      <th>All</th>\n",
       "    </tr>\n",
       "    <tr>\n",
       "      <th>children</th>\n",
       "      <th></th>\n",
       "      <th></th>\n",
       "      <th></th>\n",
       "    </tr>\n",
       "  </thead>\n",
       "  <tbody>\n",
       "    <tr>\n",
       "      <th>0</th>\n",
       "      <td>168</td>\n",
       "      <td>31</td>\n",
       "      <td>199</td>\n",
       "    </tr>\n",
       "    <tr>\n",
       "      <th>1</th>\n",
       "      <td>83</td>\n",
       "      <td>18</td>\n",
       "      <td>101</td>\n",
       "    </tr>\n",
       "    <tr>\n",
       "      <th>All</th>\n",
       "      <td>251</td>\n",
       "      <td>49</td>\n",
       "      <td>300</td>\n",
       "    </tr>\n",
       "  </tbody>\n",
       "</table>\n",
       "</div>"
      ],
      "text/plain": [
       "large_car    0   1  All\n",
       "children               \n",
       "0          168  31  199\n",
       "1           83  18  101\n",
       "All        251  49  300"
      ]
     },
     "execution_count": 83,
     "metadata": {},
     "output_type": "execute_result"
    }
   ],
   "source": [
    "create_aus(300, 33, 13, 12)"
   ]
  },
  {
   "cell_type": "markdown",
   "metadata": {},
   "source": [
    "7) 90 students are to be split at random into 3 classes of equal size. Joe and Jane are two of the students. What is the probability that they end up in the same class?"
   ]
  },
  {
   "cell_type": "markdown",
   "metadata": {},
   "source": []
  },
  {
   "cell_type": "markdown",
   "metadata": {},
   "source": [
    "8) Write a function that will randomly deal a 52 card deck into four equal parts. That is, it should return a 4-tuple of lists of 13 strings each representing cards with no repeats (_i.e._ the Ace of Spades should appear exactly once and so on)."
   ]
  },
  {
   "cell_type": "code",
   "execution_count": null,
   "metadata": {
    "collapsed": false
   },
   "outputs": [],
   "source": []
  },
  {
   "cell_type": "markdown",
   "metadata": {},
   "source": [
    "8) A well-shuffled 52-card deck is dealt to 4 players. Find the probability that each of the players gets an ace."
   ]
  },
  {
   "cell_type": "markdown",
   "metadata": {},
   "source": []
  }
 ],
 "metadata": {
  "anaconda-cloud": {},
  "kernelspec": {
   "display_name": "Python [Root]",
   "language": "python",
   "name": "Python [Root]"
  },
  "language_info": {
   "codemirror_mode": {
    "name": "ipython",
    "version": 3
   },
   "file_extension": ".py",
   "mimetype": "text/x-python",
   "name": "python",
   "nbconvert_exporter": "python",
   "pygments_lexer": "ipython3",
   "version": "3.5.2"
  }
 },
 "nbformat": 4,
 "nbformat_minor": 0
}
