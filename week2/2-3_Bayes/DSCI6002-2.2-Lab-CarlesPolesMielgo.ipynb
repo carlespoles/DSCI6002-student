{
 "cells": [
  {
   "cell_type": "markdown",
   "metadata": {},
   "source": [
    "# Lab 2.2: Conditional Probability, Bayes Law and the Chain Rule"
   ]
  },
  {
   "cell_type": "markdown",
   "metadata": {},
   "source": [
    "## Exercises\n",
    "\n",
    "**1).** A Store Manager wants to understand how his customers use different payment methods, and suspects that the size of the purchase is a major deciding factor. He organizes the table below.\n",
    "\n",
    "|                   | Cash | Debit | Credit |\n",
    "|-------------------|:----:|------:|--------|\n",
    "| Under &#36;20     |  400 |   150 | 150    |\n",
    "| &#36;20 - &#36;50 |  200 |  1200 | 800    |\n",
    "| Over &#36;50      |  100 |   600 |1400    |\n",
    "\n",
    "a) Given that a customer spent over $50, what's the probability that the customer used a credit card?  \n",
    "\n",
    "b) Given that a customer paid in cash, what's the probability that the customer spent less than $20?  \n",
    "\n",
    "c) What's the probability that a customer spent under $20 using cash?  "
   ]
  },
  {
   "cell_type": "markdown",
   "metadata": {},
   "source": [
    "|                   | Cash | Debit | Credit |  TOTAL |\n",
    "|-------------------|:----:|------:|--------|--------|\n",
    "| Under &#36;20     |  400 |   150 | 150    |    700 |\n",
    "| &#36;20 - &#36;50 |  200 |  1200 | 800    |   2200 |\n",
    "| Over &#36;50      |  100 |   600 |1400    |   2100 |\n",
    "| TOTAL             |  700 |   1950|2350    |   5000 |\n",
    "\n",
    "a) P(credit card | spent over 50) = P(credit card $\\cap$ spent over 50) / P(spent over 50) = 1400/2100 = 2/3\n",
    "\n",
    "b) P(spend under 20 | paid cash) = P(spend under 20 $\\cap$ paid cash) / P(paid cash) = 400/700\n",
    "\n",
    "c) P(paid cash | spend under 20) = P(paid cash $\\cap$ spend under 20) / P(spend under 20) = 400/700"
   ]
  },
  {
   "cell_type": "markdown",
   "metadata": {},
   "source": [
    "**2).** Suppose 80% of people like peanut butter, 89% like jelly, and 78% like both. Given that a randomly sampled person likes peanut butter, what's the probability that he also likes jelly?"
   ]
  },
  {
   "cell_type": "markdown",
   "metadata": {},
   "source": [
    "P(peanut butter) = 0.8\n",
    "\n",
    "P(jelly) = 0.89\n",
    "\n",
    "P(jelly $\\cap$ peanut butter) = 0.78\n",
    "\n",
    "P(jelly | peanut butter) = ?\n",
    "\n",
    "P(jelly | peanut butter) = P(jelly $\\cap$ peanut butter) / P(peanut butter) = 0.78/0.8 = 0.975"
   ]
  },
  {
   "cell_type": "markdown",
   "metadata": {},
   "source": [
    "**3).** The Behavioral Risk Factor Surveillance System (BRFSS) is an annual telephone survey designed to identify risk factors in the adult population and report emerging health trends. The following table displays the distribution of health status of respondents to this survey (excellent, very good, good, fair, poor) conditional on whether or not they have health insurance.\n",
    "\n",
    "<img src=\"images/q3.png\" width=\"700\">  \n",
    "\n",
    "(a) Are being in excellent health and having health coverage mutually exclusive?  \n",
    "\n",
    "(b) What is the probability that a randomly chosen individual has excellent health?  \n",
    "\n",
    "(c) What is the probability that a randomly chosen individual has excellent health given that he\n",
    "has health coverage?  \n",
    "\n",
    "(d) What is the probability that a randomly chosen individual has excellent health given that he\n",
    "doesn't have health coverage?  \n",
    "\n",
    "(e) Do having excellent health and having health coverage appear to be independent?  \n"
   ]
  },
  {
   "cell_type": "markdown",
   "metadata": {},
   "source": [
    "a) No. Because you can be in good health condition and not having health coverage.\n",
    "\n",
    "b) 0.2329\n",
    "\n",
    "c) P(excellent health | health coverage) = P(excellent health $\\cap$ health coverage) / P(health coverage) = 0.2099/0.8738 = 0.2402\n",
    "\n",
    "d) P(excellent health | no health coverage) = P(excellent health $\\cap$ no health coverage) / P(no health coverage) = 0.0230/0.1262 = 0.1823\n",
    "\n",
    "e) No. If they were independent, then P(excellent health AND health coverage) = P(excellent health) x P(health coverage), or P(excellent health | health coverage) = P(excellent health)\n",
    "\n",
    "P(excellent health | health coverage) = 0.2422\n",
    "\n",
    "P(excellent health) = 0.2329\n",
    "\n",
    "Since both numbers are NOT equal, then they are NOT independent."
   ]
  },
  {
   "cell_type": "markdown",
   "metadata": {},
   "source": [
    "**4).** A gSchool grad is looking for her first job!  Given that she is freaked out, her chances of not getting an offer are 70%.  Given that she isn't freaked out, her chances of not getting an offer are 30%.  Suppose that the probability that she's freaked out is 80%. What's the probability that she gets an offer?"
   ]
  },
  {
   "cell_type": "markdown",
   "metadata": {},
   "source": [
    "P(not offer | freak out) = 0.7\n",
    "\n",
    "P(not offer | not freak out) = 0.3\n",
    "\n",
    "P(freak out) = 0.8\n",
    "\n",
    "P(not freak out) = 1 - 0.8 = 0.2\n",
    "\n",
    "P(offer) = ?\n",
    "\n",
    "P(offer) = 1 - P(no offer) = 1 - (P(no offer | freak out) x P(freak out) + P(no offer | not freak out) x P(not freak out)) = 1 - (0.7 x 0.8 + 0.3 x 0.2) = 0.38"
   ]
  },
  {
   "cell_type": "markdown",
   "metadata": {},
   "source": [
    "**5).** Google decides to do random drug tests for heroin on their employees. They know that 3% of their population uses heroin. The drug test has the following accuracy: The test correctly identifies 95% of the heroin users (sensitivity) and 90% of the non-users (specificity).\n",
    "\n",
    "|                | Uses heroin | Doesn't use heroin |\n",
    "|----------------|------------:|-------------------:|\n",
    "| Tests positive |        0.95 |               0.10 |\n",
    "| Tests negative |        0.05 |               0.90 |\n",
    "\n",
    "   Alice gets tested and the test comes back positive. What is the probability\n",
    "   that she uses heroin?"
   ]
  },
  {
   "cell_type": "markdown",
   "metadata": {},
   "source": [
    "Uses heroin = 3%\n",
    "\n",
    "Does not use heroin = 97%\n",
    "\n",
    "Uses heroin AND tests positive = 95%\n",
    "\n",
    "Uses heroin AND tests negative = 5%\n",
    "\n",
    "Does not use heroin AND tests positive = 10%\n",
    "\n",
    "Does not use heroin AND tests negative = 90%\n",
    "\n",
    "IF TEST COMES POSITIVE THEN, P(use heroin) = P(use heroin) x P(getting positive | use heroin) + P(not use heroin) x P(getting positive | not use heroin) = \n",
    "\n",
    "0.03 x 0.95 + 0.97 x 0.1 = 0.1255"
   ]
  },
  {
   "cell_type": "markdown",
   "metadata": {},
   "source": [
    "**6).** A genetic test is used to determine if people have a predisposition for thrombosis, which is the formation of a blood clot inside a blood vessel that obstructs the flow of blood through the circulatory system. It is believed that 3% of people actually have this predisposition. The genetic test is 99% accurate if a person actually has the predisposition, meaning that the probability of a positive test result when a person actually has the predisposition is 0.99. The test is 98% accurate if a person does not have the predisposition.  \n",
    "\n",
    "What is the probability that a randomly selected person who tests positive for the predisposition by the test actually has the predisposition?"
   ]
  },
  {
   "cell_type": "markdown",
   "metadata": {},
   "source": [
    "P(have predisposition) = 0.03\n",
    "\n",
    "P(have NOT predisposition) = 0.97\n",
    "\n",
    "P(accurate test | have predisposition) = 0.99\n",
    "\n",
    "P(accurate test | have NOT predisposition) = 0.98\n",
    "\n",
    "Therefore:\n",
    "\n",
    "P(NOT accurate test | have NOT predisposition) = 1 - 0.98 = 0.02\n",
    "\n",
    "IF TEST COMES POSITIVE THEN, P(have predisposition) = P(have predisposition) x P(accurate test | have predisposition) + P(have NOT predisposition) x P(NOT accurate test | have NOT predisposition) = 0.03 x 0.99 + 0.97 x 0.02 = 0.0491"
   ]
  },
  {
   "cell_type": "markdown",
   "metadata": {},
   "source": [
    "**7).** About 30% of human twins are identical, and the rest are fraternal. Identical twins are necessarily the same sex - half are males and the other half are females. One-quarter of fraternal twins are both male, one-quarter both female, and one-half are mixes: one male, one female. You have just become a parent of twins and are told they are both girls. Given this information, what is the probability that they are identical?"
   ]
  },
  {
   "cell_type": "markdown",
   "metadata": {},
   "source": [
    "P(identical twins) = 0.3\n",
    "\n",
    "P(both male | identical twins) = 0.25\n",
    "\n",
    "P(both female | identical twins) = 0.25\n",
    "\n",
    "P(male/female | identical twins) = 0.50\n",
    "\n",
    "Got 2 female twins.\n",
    "\n",
    "P(both twin females are identical) = 0.3 x 0.5 + (1 - 0.3) x 0.25 = 0.325"
   ]
  },
  {
   "cell_type": "markdown",
   "metadata": {},
   "source": [
    "**8).** The Birthday Problem.  Suppose there are 23 students in a data science class, lined up in a single file line.  \n",
    "    Let $A_i$ be the probability that the $i^{th}$ person doesn't have the same birthday as the $j^{th}$ person for any $j < i$.  \n",
    "    Use the chain rule from probability to calculate the probability that at least 2 people share the same birthday in the class. "
   ]
  },
  {
   "cell_type": "markdown",
   "metadata": {},
   "source": [
    "P(that at least 2 people share the same birthday in the class) = 1 - P(nobody in the class has the same birthday)\n",
    "\n",
    "P(nobody in the class has the same birthday) = 365/365 x 364/365 x 363/365 x 362/365 x.....x 343/365, which means, 1st student can have any birthday day out of 365 days, second student just 364 out of 365 (as one day of the year is reserved for the first student), etc."
   ]
  },
  {
   "cell_type": "code",
   "execution_count": 4,
   "metadata": {
    "collapsed": false
   },
   "outputs": [
    {
     "name": "stdout",
     "output_type": "stream",
     "text": [
      "P(that at least 2 people share the same birthday in the class) 0.5072972343239854\n"
     ]
    }
   ],
   "source": [
    "y = 0\n",
    "product = 1\n",
    "for x in range(23):\n",
    "    y = 365 - x\n",
    "    product *= y\n",
    "    \n",
    "probability = product / 365 ** 23\n",
    "\n",
    "final_probability =  1 - probability\n",
    "    \n",
    "print(\"P(that at least 2 people share the same birthday in the class)\", final_probability)"
   ]
  },
  {
   "cell_type": "markdown",
   "metadata": {},
   "source": [
    "Using chain rule:\n",
    "\n",
    "$ P (A_1 \\cap A_2 \\cap \\dots \\cap A_{23}) = P(A_1)P(A_2 | A_1) \\dots P(A_{23} | A_{22} \\cap \\dots \\cap A_1) $\n",
    "\n",
    "Will render the above probability:\n",
    "\n",
    "First student: $ P (A_1)$ = 365/365\n",
    "\n",
    "Second student: $ P (A_2 | A_1)$ = 364/365\n",
    "\n",
    "Third student: $ P (A_3 | A_2, A_1)$ = 363/365\n",
    "\n",
    "so, for example, $ P (A_1 \\cap A_2 \\cap A_3)$ = 365 x 364 x 363 / 365 x 365 x 365\n",
    "\n",
    "Now, for 23 students, $ P (A_1 \\cap A_2 \\cap \\dots \\cap A_{23})$ = 365/365 x 364/365 x 363/365 x 362/365 x.....x 343/365"
   ]
  },
  {
   "cell_type": "markdown",
   "metadata": {},
   "source": [
    "**9).** Alice and Bob want to choose between the opera and the movies by tossing a coin. Unfortunately, the only coin they have is biased, though the bias is not known exactly. How can they use the biased coin to make a decision so that either option (opera or movies) is equally likely to be chosen?"
   ]
  },
  {
   "cell_type": "markdown",
   "metadata": {},
   "source": [
    "We can determine if heads (H) or tails (T) is biased by tossing the coin twice:\n",
    "\n",
    "* TH => not biased\n",
    "\n",
    "* HT => not biased.\n",
    "\n",
    "* TT => biased to T.\n",
    "\n",
    "* HH => biased to H.\n",
    "\n",
    "P(H biased) = a\n",
    "\n",
    "P(T biased) = 1 - a\n",
    "\n",
    "P(H not biased) = 0.5\n",
    "\n",
    "P(T not biased) = 0.5\n",
    "\n",
    "We want to know, for example, given that the coin is biased to T, the probability of getting unbiased T:\n",
    "\n",
    "P(T not biased | T biased) = P(T biased $\\cap$ T not biased) / P(T biased) = 0.5 x (1-a)/(1-a) = 1/2\n",
    "\n",
    "Or, if we want to know, for example, given that the coin is biased to H, the probability of getting unbiased H:\n",
    "\n",
    "P(H not biased | H biased) = P(H biased $\\cap$ H not biased) / P(H not biased) = 0.5 x a/a = 1/2\n"
   ]
  },
  {
   "cell_type": "code",
   "execution_count": null,
   "metadata": {
    "collapsed": true
   },
   "outputs": [],
   "source": []
  }
 ],
 "metadata": {
  "anaconda-cloud": {},
  "kernelspec": {
   "display_name": "Python [Root]",
   "language": "python",
   "name": "Python [Root]"
  },
  "language_info": {
   "codemirror_mode": {
    "name": "ipython",
    "version": 3
   },
   "file_extension": ".py",
   "mimetype": "text/x-python",
   "name": "python",
   "nbconvert_exporter": "python",
   "pygments_lexer": "ipython3",
   "version": "3.5.2"
  }
 },
 "nbformat": 4,
 "nbformat_minor": 0
}
