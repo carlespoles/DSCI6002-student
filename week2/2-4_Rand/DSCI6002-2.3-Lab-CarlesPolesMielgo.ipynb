{
 "cells": [
  {
   "cell_type": "markdown",
   "metadata": {},
   "source": [
    "# Lab Exercises"
   ]
  },
  {
   "cell_type": "markdown",
   "metadata": {},
   "source": [
    "1) Let random variable $X$ be the number we get when we roll a die,    \n",
    "    1. Write out the probability mass function of X.     \n",
    "    2. Calculate the mean of X.  \n",
    "    3. Calculate the variance of X.  "
   ]
  },
  {
   "cell_type": "markdown",
   "metadata": {},
   "source": [
    "#1. $ f_X (x) = P (X = x)$ for x = 1, 2, 3, 4, 5, 6\n",
    "\n",
    "#2. \n",
    "\n",
    "|x        |  1  |  2  |  3  |  4  |  5  |  6  |\n",
    "|:--------|:---:|:---:|:---:|:---:|:---:|:---:|\n",
    "|P(X = x) | 1/6 | 1/6 |1/6  | 1/6 |1/6  | 1/6 |\n",
    "\n",
    "E(X) = 1 x 1/6 + 2 x 1/6 + 3 x 1/6 + 4 x 1/6 + 5 x 1/6 + 6 x 1/6 = 3.5\n",
    "\n",
    "#3. \n",
    "\n",
    "Var(X) = (1-3.5)^2 x 1/6 + (2-3.5)^2 x 1/6 + (3-3.5)^2 x 1/6 + (4-3.5)^2 x 1/6 + (5-3.5)^2 x 1/6 + (6-3.5)^2 x 1/6 = 2.92"
   ]
  },
  {
   "cell_type": "markdown",
   "metadata": {},
   "source": [
    "2) Use either `randint` or `random_sample` to generate a series of 20 rolls. Use `.mean()` and `.var()` to calculate the sample mean and variance. How do these compare to the population mean and variance you calculated above? What if you increase the number of rolls to 2000. Are your estimates closer to the true statistics or further away?"
   ]
  },
  {
   "cell_type": "code",
   "execution_count": 24,
   "metadata": {
    "collapsed": true
   },
   "outputs": [],
   "source": [
    "import numpy as np\n",
    "\n",
    "def roll_dices(n):\n",
    "    rolls = []\n",
    "    for _ in range(n):\n",
    "        rolls.append(np.random.randint(1,7))\n",
    "        \n",
    "    #print(\"List of \" + str(n) + \":\", rolls)\n",
    "\n",
    "    print(\"Mean of population of \" + str(n) + \" rolls:\", np.asarray(rolls).mean())\n",
    "\n",
    "    print(\"Variance of population of \" + str(n) + \" rolls:\", np.asarray(rolls).var())"
   ]
  },
  {
   "cell_type": "code",
   "execution_count": 25,
   "metadata": {
    "collapsed": false
   },
   "outputs": [
    {
     "name": "stdout",
     "output_type": "stream",
     "text": [
      "Mean of population of 20 rolls: 2.7\n",
      "Variance of population of 20 rolls: 1.51\n"
     ]
    }
   ],
   "source": [
    "roll_dices(20)"
   ]
  },
  {
   "cell_type": "code",
   "execution_count": 26,
   "metadata": {
    "collapsed": false
   },
   "outputs": [
    {
     "name": "stdout",
     "output_type": "stream",
     "text": [
      "Mean of population of 2000 rolls: 3.4705\n",
      "Variance of population of 2000 rolls: 2.87112975\n"
     ]
    }
   ],
   "source": [
    "roll_dices(2000)"
   ]
  },
  {
   "cell_type": "markdown",
   "metadata": {},
   "source": [
    "When rolls are low, like 20, figures are quite different from the manual calculation, especially the variance.\n",
    "\n",
    "As we increase the number of rolls, then figures start to converge to the manual calculated value."
   ]
  },
  {
   "cell_type": "markdown",
   "metadata": {},
   "source": [
    "3) Now we have two dice, and X and Y are the numbers appear on each die respectively. Let Z be the sum of the numbers from the two dice,  \n",
    "    1. Write out the probability mass function of Z.  \n",
    "    2. Calculate the mean of Z.  \n",
    "    3. Calculate the variance of Z."
   ]
  },
  {
   "cell_type": "markdown",
   "metadata": {},
   "source": [
    "|x        |  1  |  2  |  3  |  4  |  5  |  6  |\n",
    "|:--------|:---:|:---:|:---:|:---:|:---:|:---:|\n",
    "|P(X = x) | 1/6 | 1/6 |1/6  | 1/6 |1/6  | 1/6 |\n",
    "\n",
    "|y        |  1  |  2  |  3  |  4  |  5  |  6  |\n",
    "|:--------|:---:|:---:|:---:|:---:|:---:|:---:|\n",
    "|P(Y = y) | 1/6 | 1/6 |1/6  | 1/6 |1/6  | 1/6 |\n",
    "\n",
    "$ f_X (z) = P (Z = z)$ for z = 1, 2, 3, 4, 5, 6\n",
    "\n",
    "$ f_X (z) = P (X = x) + P (Y = y) for x, y = 1, 2, 3, 4, 5, 6$\n",
    "\n",
    "As calculated on item 1:\n",
    "\n",
    "E(X) = 3.5, E(Y) = 3.5 => E(Z) = E(X) + E(Y) = 3.5 + 3.5 = 7\n",
    "\n",
    "Var(X) = 2.92, Var(Y) = 2.92 => Var(Z) = Var(X) + Var(Y) = 2.92 + 2.92 = 5.83"
   ]
  },
  {
   "cell_type": "markdown",
   "metadata": {},
   "source": [
    "4) Do the same as in (2) but with two dice as in (3). Again, check to see how $N$, the number of samples, affects your result."
   ]
  },
  {
   "cell_type": "code",
   "execution_count": 27,
   "metadata": {
    "collapsed": true
   },
   "outputs": [],
   "source": [
    "import numpy as np\n",
    "\n",
    "def roll_two_dices(n):\n",
    "    rolls = []\n",
    "    for _ in range(n):\n",
    "        rolls.append(sum(np.random.randint(1,7,2)))\n",
    "        \n",
    "    #print(\"List of \" + str(n) + \":\", rolls)\n",
    "\n",
    "    print(\"Mean of population of \" + str(n) + \" rolls:\", np.asarray(rolls).mean())\n",
    "\n",
    "    print(\"Variance of population of \" + str(n) + \" rolls:\", np.asarray(rolls).var())"
   ]
  },
  {
   "cell_type": "code",
   "execution_count": 28,
   "metadata": {
    "collapsed": false
   },
   "outputs": [
    {
     "name": "stdout",
     "output_type": "stream",
     "text": [
      "Mean of population of 20 rolls: 5.75\n",
      "Variance of population of 20 rolls: 4.1875\n"
     ]
    }
   ],
   "source": [
    "roll_two_dices(20)"
   ]
  },
  {
   "cell_type": "code",
   "execution_count": 29,
   "metadata": {
    "collapsed": false
   },
   "outputs": [
    {
     "name": "stdout",
     "output_type": "stream",
     "text": [
      "Mean of population of 2000 rolls: 6.919\n",
      "Variance of population of 2000 rolls: 5.799439\n"
     ]
    }
   ],
   "source": [
    "roll_two_dices(2000)"
   ]
  },
  {
   "cell_type": "markdown",
   "metadata": {},
   "source": [
    "Once again, as the number of samples increases, the results are closer to the manual calculated solution."
   ]
  },
  {
   "cell_type": "markdown",
   "metadata": {},
   "source": [
    "5) Find the variance of each of the following bets from the class notes. Which bet is riskiest and which best is safest (where \"risk\" is assessed according to variance, not expected value)?\n",
    "\n",
    "1. You get \\$5 with probability 1.0.  \n",
    "2. You get \\$10 with probability 0.5, or \\$0 with probability 0.5.  \n",
    "3. You get \\$5 with probability 0.5, \\$10 with probability 0.25 and \\$0 with probability 0.25.  \n",
    "4. You get \\$5 with probability 0.5, \\$105 with probability 0.25 or lose \\$95 with probability 0.25.  "
   ]
  },
  {
   "cell_type": "markdown",
   "metadata": {},
   "source": [
    "1. E(X) = \\$5 x 1 = \\$5, Var(X) = (5-5)^2 x 1 = 0\n",
    "2. E(X) = \\$10 x 0.5 + \\$0 x 0.5 = \\$5, Var(X) = (10-5)^2 x 0.5 + (0-5)^2 x 0.5 = 25\n",
    "3. E(X) = \\$5 x 0.5 + \\$10 x 0.25 + \\$0 x 0.25 = \\$5, Var(X) = (5-5)^2 x 0.5 + (10-5)^2 x 0.25 + (0-5)^2 x 0.25 = 12.5\n",
    "4. E(X) = \\$5 x 0.5 + \\$105 x 0.25 - \\$95 x 0.25 = \\$5, Var(X) = (5-5)^2 x 0.5 + (105-5)^2 x 0.25 + (-95-5)^2 x 0.25 = 5000\n",
    "\n",
    "All bets have the same average win, BUT the safest one, which means lower variance is the 1st one (variance is 0)."
   ]
  },
  {
   "cell_type": "markdown",
   "metadata": {},
   "source": [
    "6) Brandon Lang is a creative entrepreneur who has developed a novelty soap item called Jackpot to target consumers with a gambling habit. Inside each bar of Jackpot shower soap is a single rolled-up bill of U.S. currency. The currency (rolled up and sealed in shrink-wrap) is appropriately inserted into the soap mixture prior to the cutting and stamping procedure. The distribution of paper currency (per 1000 bars of soap) is given in the following table.  \n",
    "\n",
    "|   Bill Denomination   |   Number of Bills |\n",
    "|:---------------------:|:-----------------:|\n",
    "|\\$1                     | 520 |\n",
    "|\\$5                     | 260 |\n",
    "|\\$10                    | 120 |\n",
    "|\\$20                    | 70  |\n",
    "|\\$50                    | 29  |  \n",
    "|\\$100                   | 1   |\n",
    "| Total                  | 1000|\n",
    "\n",
    "1. What is the expected amount of money in a single bar of Jackpot soap?\n",
    "2. What is the standard deviation of the money in a single bar of Jackpot soap?\n",
    "3. How many bars of soap would a customer have to buy so that, on average, he or she has purchased three bars   containing a \\$50 or \\$100 bill?\n",
    "4. If a customer buys 8 bars of soap, what is the probability that at least one of these bars contains a bill of \\$20 or larger? "
   ]
  },
  {
   "cell_type": "markdown",
   "metadata": {},
   "source": [
    "|   Bill Denomination   |   Number of Bills | Probability |\n",
    "|:---------------------:|:-----------------:|:-----------------:|\n",
    "|\\$1                     | 520 | 520/1000 |\n",
    "|\\$5                     | 260 | 260/1000 |\n",
    "|\\$10                    | 120 | 120/1000 |\n",
    "|\\$20                    | 70  |  70/1000 |\n",
    "|\\$50                    | 29  |  29/1000 |  \n",
    "|\\$100                   | 1   |   1/1000 |\n",
    "| Total                  | 1000|          |\n",
    "\n",
    "\n",
    "#1. E(X) = \\$1 x 0.52 + \\$5 x 0.26 + \\$10 x 0.12 + \\$20 x 0.07 + \\$50 x 0.029 + \\$100 x 0.001 = \\$5.97\n",
    "\n",
    "#2. Var(X) = (1-5.97)^2 x 0.52 + (5-5.97)^2 x 0.26 + (10-5.97)^2 x 0.12 + (20-5.97)^2 x 0.07 + (50-5.97)^2 x 0.029 + (100-5.97)^2 x 0.001 = 93.88\n",
    "\n",
    "#3. Probability for 1 bar of soap:\n",
    "\n",
    "P(X >= \\$50) = P(X = \\$50) + P(X = \\$100) = 0.029 + 0.001 = 0.03\n",
    "\n",
    "Number of bars x 0.03 = 3 (as we purchase 3 bars) => Number of bars = 3/0.03 = 100 bars\n",
    "\n",
    "========\n",
    "\n",
    "#For 3 bars of soap:\n",
    "\n",
    "#0.03 x 0.03 x 0.03 = 0.000027\n",
    "\n",
    "\\$50 / \\$5.97 = 8.375 bars\n",
    "\n",
    "\\$100 / \\$5.97 = 16.75 bars\n",
    "\n",
    "Combinations for 3 bars of soap (order is not relevant):\n",
    "\n",
    "\\$50 + \\$50 + \\$50 => E(X) = \\$5 x 0.26 + \\$5 x 0.26 + \\$5 x 0.26 = \\$3.90\n",
    "\n",
    "\\$100 + \\$100 + \\$100 => E(X) = \\$100 x 0.001 + \\$100 x 0.001 + \\$100 x 0.001 = \\$0.30\n",
    "\n",
    "\\$50 + \\$50 + \\$100 => E(X) = \\$5 x 0.26 + \\$5 x 0.26 + \\$100 x 0.001 = \\$2.70\n",
    "\n",
    "\\$50 + \\$100 + \\$100 => E(X) = \\$5 x 0.26 + \\$100 x 0.001 + \\$100 x 0.001 = \\$1.50\n",
    "\n",
    "TOTAL \\$ = 3.90 + 0.30 + 2.70 + 1.50 = \\$8.40\n",
    "\n",
    "#4. Probability for 1 bar of soap:\n",
    "\n",
    "P(X >= \\$20) = P(X =\\$20) + P(X = \\$50) + P(X = \\$100) = 0.07 + 0.029 + 0.001 = 0.1\n",
    "\n",
    "For 8 bars of soap, and at least one of these bars contains a bill of \\$20 or larger, means all 8 bars must P(X >= \\$20):\n",
    "\n",
    "P(X >= 1 soap bar) = 1 - P(X=0)\n",
    "\n",
    "0.1 x 0.1 x 0.1 x 0.1 x 0.1 x 0.1 x 0.1 x 0.1 = 0.00000001"
   ]
  },
  {
   "cell_type": "markdown",
   "metadata": {},
   "source": [
    "7) Write a function that randomly draws from the above distribution. \n",
    "\n",
    "1. Use it to simulate the answer to part 3 of the last question at least 20 times. How often do you get the expected result? \n",
    "2. Use it to simulate part 4 of the last question 100 times. How close does your simulation come to the true expected value?"
   ]
  },
  {
   "cell_type": "code",
   "execution_count": 32,
   "metadata": {
    "collapsed": true
   },
   "outputs": [],
   "source": [
    "import numpy as np\n",
    "\n",
    "def bar_soap():\n",
    "    soap_list = [1,5,10,20,50,100]\n",
    "    \n",
    "    random_choice = np.random.choice(soap_list)\n",
    "    return random_choice"
   ]
  },
  {
   "cell_type": "code",
   "execution_count": 33,
   "metadata": {
    "collapsed": false
   },
   "outputs": [
    {
     "data": {
      "text/plain": [
       "50"
      ]
     },
     "execution_count": 33,
     "metadata": {},
     "output_type": "execute_result"
    }
   ],
   "source": [
    "bar_soap()"
   ]
  },
  {
   "cell_type": "code",
   "execution_count": 45,
   "metadata": {
    "collapsed": true
   },
   "outputs": [],
   "source": [
    "# http://stackoverflow.com/questions/10803135/weighted-choice-short-and-simplebar_soap()\n",
    "from numpy import cumsum\n",
    "from numpy.random import rand\n",
    "def weightedChoice(weights, objects, times):\n",
    "    \"\"\"Return a random item from objects, with the weighting defined by weights \n",
    "    (which must sum to 1).\"\"\"\n",
    "    total = 0\n",
    "    for _ in range(times):\n",
    "        cs = cumsum(weights) #An array of the weights, cumulatively summed.\n",
    "        idx = sum(cs < rand()) #Find the index of the first weight over a random value.\n",
    "        total = total + idx\n",
    "    return total#objects[idx]"
   ]
  },
  {
   "cell_type": "code",
   "execution_count": 47,
   "metadata": {
    "collapsed": false
   },
   "outputs": [
    {
     "data": {
      "text/plain": [
       "1"
      ]
     },
     "execution_count": 47,
     "metadata": {},
     "output_type": "execute_result"
    }
   ],
   "source": [
    "probs = [0.52,0.26,0.12,0.07,0.029,0.001]\n",
    "items =[1,5,10,20,50,100]\n",
    "weightedChoice(probs, items, 3)"
   ]
  },
  {
   "cell_type": "markdown",
   "metadata": {},
   "source": [
    "8) (Extra Credit) Think back to the coin tossing example we discussed at the beginning of the lecture, if we let $X$ be the number of heads we get from 10 coin tosses, what is the probability mass function of $X$? What are the mean and variance of $X$? (**Note**: You are not required to complete this problem, so don't spend too much time on this. This is just to get you to start thinking about the probabilities of events when we have multiple trials of an experiment - we will talk about this on Monday.)"
   ]
  },
  {
   "cell_type": "markdown",
   "metadata": {},
   "source": []
  }
 ],
 "metadata": {
  "anaconda-cloud": {},
  "kernelspec": {
   "display_name": "Python [Root]",
   "language": "python",
   "name": "Python [Root]"
  },
  "language_info": {
   "codemirror_mode": {
    "name": "ipython",
    "version": 3
   },
   "file_extension": ".py",
   "mimetype": "text/x-python",
   "name": "python",
   "nbconvert_exporter": "python",
   "pygments_lexer": "ipython3",
   "version": "3.5.2"
  }
 },
 "nbformat": 4,
 "nbformat_minor": 0
}
