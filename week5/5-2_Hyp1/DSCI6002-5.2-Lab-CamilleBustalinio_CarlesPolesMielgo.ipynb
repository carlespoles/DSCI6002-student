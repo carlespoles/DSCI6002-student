{
 "cells": [
  {
   "cell_type": "markdown",
   "metadata": {},
   "source": [
    "## Outline\n",
    "\n",
    "- Null / Alternative Hypothesis\n",
    "- One sample t-test / z-test\n",
    "- p-value and Significance Level\n",
    "- Python for One sample t-test / z-test"
   ]
  },
  {
   "cell_type": "markdown",
   "metadata": {},
   "source": [
    "**Question 1**\n",
    "\n",
    "State the null hypothesis and the alternative hypothesis for the following scenarios:\n",
    "\n",
    "1. A burger place claims the fat content of their bugers is no more than 20%. You have collected a sample of burgers to verify the claim.\n",
    "\n",
    "   <br>\n",
    "   \n",
    "2. With a month to go in the election, the opinion poll shows that the Democrate candidate is leading with 55% support. You want to know if the true percentage is different from 55%.\n",
    "\n",
    "   <br>\n",
    "   \n",
    "3. Apple Inc. is interested to find out if the battery life of a Macbook Pro that has been used for a month is more than 48 hours."
   ]
  },
  {
   "cell_type": "markdown",
   "metadata": {},
   "source": [
    "### 1.1\n",
    "\n",
    "$H_0$ > 20%\n",
    "\n",
    "$H_A$ <= 20%"
   ]
  },
  {
   "cell_type": "markdown",
   "metadata": {},
   "source": [
    "### 1.2\n",
    "\n",
    "$H_0$ = 55%\n",
    "\n",
    "$H_A \\neq$ 55%"
   ]
  },
  {
   "cell_type": "markdown",
   "metadata": {},
   "source": [
    "### 1.3\n",
    "\n",
    "$H_0$ <= 48%\n",
    "\n",
    "$H_A$ > 48%"
   ]
  },
  {
   "cell_type": "markdown",
   "metadata": {},
   "source": [
    "**Question 2**\n",
    "\n",
    "For each of the scenarios in **Question 1**, decide if you would use a one-sided t-test or a z-test to test your null hypothesis."
   ]
  },
  {
   "cell_type": "markdown",
   "metadata": {},
   "source": [
    "### 2.1\n",
    "\n",
    "One sided t-test."
   ]
  },
  {
   "cell_type": "markdown",
   "metadata": {},
   "source": [
    "### 2.2\n",
    "\n",
    "Two sided t-test."
   ]
  },
  {
   "cell_type": "markdown",
   "metadata": {},
   "source": [
    "### 2.3\n",
    "\n",
    "One sided t-test."
   ]
  },
  {
   "cell_type": "markdown",
   "metadata": {},
   "source": [
    "**Question 3**\n",
    "\n",
    "Given a set of real data, you can conduct a **t-test** and **z-test** in Python:\n",
    "\n",
    "- **t-test** (documentation [here](http://docs.scipy.org/doc/scipy-0.14.0/reference/generated/scipy.stats.ttest_1samp.html))\n",
    "  ```python\n",
    "  from scipy.stats import ttest_1samp\n",
    "  t_statistic, two_tailed_p_value = ttest_1samp(sample, null_mean)\n",
    "  ```\n",
    "\n",
    "- **z-test** (documentation [here](http://statsmodels.sourceforge.net/devel/generated/statsmodels.stats.proportion.proportions_ztest.html#statsmodels.stats.proportion.proportions_ztest))\n",
    "  ```python\n",
    "  from statsmodels.stats.proportion import proportions_ztest\n",
    "  z_statistic, two_tailed_p_value = proportions_ztest(count_of_success_in_sample, num_of trials, \n",
    "                                                       null_proportion)\n",
    "  ```\n",
    "\n",
    "\n",
    "Compute the p-values and draw conclusions about hypothesis tests for the scenarios listed in **Question 1**. You are provided the data for each of the scenarios below.\n",
    "\n",
    "1. https://s3-us-west-2.amazonaws.com/dsci/6002/data/fat_content.csv\n",
    "2. https://s3-us-west-2.amazonaws.com/dsci/6002/data/election.csv\n",
    "3. https://s3-us-west-2.amazonaws.com/dsci/6002/data/battery_life.csv"
   ]
  },
  {
   "cell_type": "code",
   "execution_count": 1,
   "metadata": {
    "collapsed": true
   },
   "outputs": [],
   "source": [
    "import pandas as pd\n",
    "from scipy import stats"
   ]
  },
  {
   "cell_type": "code",
   "execution_count": 2,
   "metadata": {
    "collapsed": true
   },
   "outputs": [],
   "source": [
    "# 3.1\n",
    "fat_content = pd.read_csv('https://s3-us-west-2.amazonaws.com/dsci/6002/data/fat_content.csv')\n",
    "election = pd.read_csv('https://s3-us-west-2.amazonaws.com/dsci/6002/data/election.csv')\n",
    "battery_life = pd.read_csv('https://s3-us-west-2.amazonaws.com/dsci/6002/data/battery_life.csv')"
   ]
  },
  {
   "cell_type": "markdown",
   "metadata": {},
   "source": [
    "$ t_{stat} = \\frac{\\bar{X} - \\mu_0}{s/ \\sqrt{n}} $"
   ]
  },
  {
   "cell_type": "code",
   "execution_count": 3,
   "metadata": {
    "collapsed": false
   },
   "outputs": [
    {
     "data": {
      "text/plain": [
       "0    0.818831\n",
       "dtype: float64"
      ]
     },
     "execution_count": 3,
     "metadata": {},
     "output_type": "execute_result"
    }
   ],
   "source": [
    "t_stat_fat_content = (fat_content.mean() - 20)/(fat_content.std()/len(fat_content)**0.5)\n",
    "t_stat_fat_content"
   ]
  },
  {
   "cell_type": "code",
   "execution_count": 4,
   "metadata": {
    "collapsed": false
   },
   "outputs": [
    {
     "data": {
      "text/plain": [
       "array([ 0.79107075])"
      ]
     },
     "execution_count": 4,
     "metadata": {},
     "output_type": "execute_result"
    }
   ],
   "source": [
    "p_value_fat_content = stats.t(len(fat_content)-1).cdf(t_stat_fat_content)\n",
    "p_value_fat_content"
   ]
  },
  {
   "cell_type": "markdown",
   "metadata": {},
   "source": [
    "Since the p-value is greater than 0.05, there's no enough evidence to reject the null hypothesis. We fail to reject the null hypothesis."
   ]
  },
  {
   "cell_type": "code",
   "execution_count": 5,
   "metadata": {
    "collapsed": false
   },
   "outputs": [
    {
     "data": {
      "text/html": [
       "<div>\n",
       "<table border=\"1\" class=\"dataframe\">\n",
       "  <thead>\n",
       "    <tr style=\"text-align: right;\">\n",
       "      <th></th>\n",
       "      <th>0</th>\n",
       "    </tr>\n",
       "  </thead>\n",
       "  <tbody>\n",
       "    <tr>\n",
       "      <th>0</th>\n",
       "      <td>0</td>\n",
       "    </tr>\n",
       "    <tr>\n",
       "      <th>1</th>\n",
       "      <td>1</td>\n",
       "    </tr>\n",
       "    <tr>\n",
       "      <th>2</th>\n",
       "      <td>0</td>\n",
       "    </tr>\n",
       "    <tr>\n",
       "      <th>3</th>\n",
       "      <td>0</td>\n",
       "    </tr>\n",
       "    <tr>\n",
       "      <th>4</th>\n",
       "      <td>1</td>\n",
       "    </tr>\n",
       "  </tbody>\n",
       "</table>\n",
       "</div>"
      ],
      "text/plain": [
       "   0\n",
       "0  0\n",
       "1  1\n",
       "2  0\n",
       "3  0\n",
       "4  1"
      ]
     },
     "execution_count": 5,
     "metadata": {},
     "output_type": "execute_result"
    }
   ],
   "source": [
    "election.head()"
   ]
  },
  {
   "cell_type": "markdown",
   "metadata": {},
   "source": [
    "Since the election data is binomial, we will use population proportion formula:"
   ]
  },
  {
   "cell_type": "code",
   "execution_count": 6,
   "metadata": {
    "collapsed": false
   },
   "outputs": [
    {
     "data": {
      "text/plain": [
       "0   -6.652105\n",
       "dtype: float64"
      ]
     },
     "execution_count": 6,
     "metadata": {},
     "output_type": "execute_result"
    }
   ],
   "source": [
    "z_stat_election = (election.mean() - 0.55)/((0.55 * (1 - 0.55)/len(election)))**0.5\n",
    "z_stat_election"
   ]
  },
  {
   "cell_type": "code",
   "execution_count": 7,
   "metadata": {
    "collapsed": false
   },
   "outputs": [
    {
     "data": {
      "text/plain": [
       "array([  2.88929839e-11])"
      ]
     },
     "execution_count": 7,
     "metadata": {},
     "output_type": "execute_result"
    }
   ],
   "source": [
    "p_value_election = stats.norm.cdf(z_stat_election)*2\n",
    "p_value_election"
   ]
  },
  {
   "cell_type": "markdown",
   "metadata": {},
   "source": [
    "Since the p-value is smaller than 0.05, there's enough evidence to reject the null hypothesis. We reject the null hypothesis."
   ]
  },
  {
   "cell_type": "code",
   "execution_count": 8,
   "metadata": {
    "collapsed": false
   },
   "outputs": [
    {
     "data": {
      "text/plain": [
       "0    7.34153\n",
       "dtype: float64"
      ]
     },
     "execution_count": 8,
     "metadata": {},
     "output_type": "execute_result"
    }
   ],
   "source": [
    "t_stat_battery_life = (battery_life.mean() - 48)/(battery_life.std()/len(battery_life)**0.5)\n",
    "t_stat_battery_life"
   ]
  },
  {
   "cell_type": "code",
   "execution_count": 9,
   "metadata": {
    "collapsed": false
   },
   "outputs": [
    {
     "data": {
      "text/plain": [
       "array([  2.99833491e-11])"
      ]
     },
     "execution_count": 9,
     "metadata": {},
     "output_type": "execute_result"
    }
   ],
   "source": [
    "p_value_battery_life = 1 - (stats.t(len(battery_life)-1).cdf(t_stat_battery_life))\n",
    "p_value_battery_life"
   ]
  },
  {
   "cell_type": "markdown",
   "metadata": {},
   "source": [
    "Since the p-value is smaller than 0.05, there's enough evidence to reject the null hypothesis. We reject the null hypothesis."
   ]
  },
  {
   "cell_type": "markdown",
   "metadata": {},
   "source": [
    "**Question 4**\n",
    "\n",
    "A diet doctor claims that the average American is more than 10 pounds overweight. To test his claim, a random sample of 50 Americans was weighed, and the difference between their actual weight and their ideal weight was calculated. He found that $\\bar{x} = 11.5$ and $s = 2.2$ pounds. \n",
    "\n",
    "1) Can we conclude that the doctor’s claim is true?  \n",
    "\n",
    "2) What are the Type I and Type II errors?  \n",
    "\n",
    "3) Suppose that the average American is about 13 pounds overweight, what is the power of the above test?"
   ]
  },
  {
   "cell_type": "markdown",
   "metadata": {},
   "source": [
    "$H_0$ = 10\n",
    "\n",
    "$H_A$ > 10"
   ]
  },
  {
   "cell_type": "code",
   "execution_count": 10,
   "metadata": {
    "collapsed": false
   },
   "outputs": [
    {
     "data": {
      "text/plain": [
       "4.821182598999187"
      ]
     },
     "execution_count": 10,
     "metadata": {},
     "output_type": "execute_result"
    }
   ],
   "source": [
    "t_stat_weight = (11.5 - 10)/(2.2/50**0.5)\n",
    "t_stat_weight"
   ]
  },
  {
   "cell_type": "code",
   "execution_count": 11,
   "metadata": {
    "collapsed": false
   },
   "outputs": [
    {
     "data": {
      "text/plain": [
       "7.1217429012948585e-06"
      ]
     },
     "execution_count": 11,
     "metadata": {},
     "output_type": "execute_result"
    }
   ],
   "source": [
    "p_value_weight = 1 - (stats.t(50-1).cdf(t_stat_weight))\n",
    "p_value_weight"
   ]
  },
  {
   "cell_type": "markdown",
   "metadata": {},
   "source": [
    "Since the p-value is less than 0.05, there's enough evidence to reject the null hypothesis. We reject the null hypothesis. The doctor's claims are true."
   ]
  },
  {
   "cell_type": "markdown",
   "metadata": {},
   "source": [
    "Type I error: an American who is diagnosed with over 10 pounds overweight when he/she is not overweight."
   ]
  },
  {
   "cell_type": "markdown",
   "metadata": {},
   "source": [
    "Type II error: an American who is diagnosed with less than 10 pounds overweight when he/she is overweight."
   ]
  },
  {
   "cell_type": "code",
   "execution_count": 12,
   "metadata": {
    "collapsed": false
   },
   "outputs": [
    {
     "name": "stdout",
     "output_type": "stream",
     "text": [
      "power: 7.12174290135e-06\n"
     ]
    }
   ],
   "source": [
    "# average American is about 13 pounds overweight. This is a power test.\n",
    "print(\"power:\",stats.t(50-1).cdf((11.5 - 13)/(2.2 /50**0.5)))"
   ]
  },
  {
   "cell_type": "markdown",
   "metadata": {},
   "source": [
    "**Question 5**\n",
    "\n",
    "A company that claims the average time a customer waits on hold is less than 5 minutes. A sample of 35 customers has an average wait time of 4.78 minutes with a standard deviation for wait time is 1.8 minutes. Test the company's claim."
   ]
  },
  {
   "cell_type": "markdown",
   "metadata": {},
   "source": [
    "$H_0$ = 5\n",
    "\n",
    "$H_A$ < 5"
   ]
  },
  {
   "cell_type": "code",
   "execution_count": 13,
   "metadata": {
    "collapsed": false
   },
   "outputs": [
    {
     "data": {
      "text/plain": [
       "-0.7230764179343967"
      ]
     },
     "execution_count": 13,
     "metadata": {},
     "output_type": "execute_result"
    }
   ],
   "source": [
    "t_stat_waiting = (4.78 - 5)/(1.8/35**0.5)\n",
    "t_stat_waiting"
   ]
  },
  {
   "cell_type": "code",
   "execution_count": 14,
   "metadata": {
    "collapsed": false
   },
   "outputs": [
    {
     "data": {
      "text/plain": [
       "0.23728906420569901"
      ]
     },
     "execution_count": 14,
     "metadata": {},
     "output_type": "execute_result"
    }
   ],
   "source": [
    "p_value_waiting = stats.t(35-1).cdf(t_stat_waiting)\n",
    "p_value_waiting"
   ]
  },
  {
   "cell_type": "markdown",
   "metadata": {},
   "source": [
    "Since the p-value is more than 0.05, there's no enough evidence to reject the null hypothesis. We fail to reject the null hypothesis."
   ]
  },
  {
   "cell_type": "markdown",
   "metadata": {},
   "source": [
    "**Question 6**\n",
    "\n",
    "The manufacturer of the Bic Extended Lighter claims that it lights on the first time 75% of the time. Test this claim.  \n",
    "Suppose we make 300 attempts and the lighter lights on the first try 214 times."
   ]
  },
  {
   "cell_type": "markdown",
   "metadata": {},
   "source": [
    "$H_0 \\neq$ 75%\n",
    "\n",
    "$H_A$ = 75%"
   ]
  },
  {
   "cell_type": "markdown",
   "metadata": {},
   "source": [
    "Since we fon't have a standard deviation, we need to use the sample proportion formula:"
   ]
  },
  {
   "cell_type": "code",
   "execution_count": 15,
   "metadata": {
    "collapsed": false
   },
   "outputs": [
    {
     "data": {
      "text/plain": [
       "-1.466666666666665"
      ]
     },
     "execution_count": 15,
     "metadata": {},
     "output_type": "execute_result"
    }
   ],
   "source": [
    "p_hat = 214/300\n",
    "z_stat_lighter = (p_hat - 0.75)/(0.75 * (1 - 0.75)/300)**0.5\n",
    "z_stat_lighter"
   ]
  },
  {
   "cell_type": "code",
   "execution_count": 16,
   "metadata": {
    "collapsed": false
   },
   "outputs": [
    {
     "data": {
      "text/plain": [
       "0.14246675482797264"
      ]
     },
     "execution_count": 16,
     "metadata": {},
     "output_type": "execute_result"
    }
   ],
   "source": [
    "p_value_lighter = stats.norm.cdf(z_stat_lighter)*2\n",
    "p_value_lighter"
   ]
  },
  {
   "cell_type": "markdown",
   "metadata": {},
   "source": [
    "Since the p-value is more than 0.05, there's no enough evidence to reject the null hypothesis. We fail to reject the null hypothesis."
   ]
  },
  {
   "cell_type": "markdown",
   "metadata": {},
   "source": [
    "**Question 7**  \n",
    "\n",
    "A government bureau claims that more than 50% of U.S. tax returns were filed electronically last year.  \n",
    "A random sample of 150 tax returns for last year contained 86 that were filed electronically. \n",
    "\n",
    "Test the government's claim and state the Type I and Type II errors of the test."
   ]
  },
  {
   "cell_type": "markdown",
   "metadata": {},
   "source": [
    "$H_0$ = 50%\n",
    "\n",
    "$H_A$ > 50%"
   ]
  },
  {
   "cell_type": "markdown",
   "metadata": {},
   "source": [
    "Since we fon't have a standard deviation, we need to use the sample proportion formula:"
   ]
  },
  {
   "cell_type": "code",
   "execution_count": 17,
   "metadata": {
    "collapsed": false
   },
   "outputs": [
    {
     "data": {
      "text/plain": [
       "1.796292478040998"
      ]
     },
     "execution_count": 17,
     "metadata": {},
     "output_type": "execute_result"
    }
   ],
   "source": [
    "p_hat_taxes = 86/150\n",
    "z_stat_taxes = (p_hat_taxes - 0.5)/(0.5 * (1 - 0.5)/150)**0.5\n",
    "z_stat_taxes"
   ]
  },
  {
   "cell_type": "code",
   "execution_count": 18,
   "metadata": {
    "collapsed": false
   },
   "outputs": [
    {
     "data": {
      "text/plain": [
       "0.036224006764893457"
      ]
     },
     "execution_count": 18,
     "metadata": {},
     "output_type": "execute_result"
    }
   ],
   "source": [
    "p_value_taxes = 1 - (stats.norm.cdf(z_stat_taxes))\n",
    "p_value_taxes"
   ]
  },
  {
   "cell_type": "markdown",
   "metadata": {},
   "source": [
    "Since the p-value is less than 0.05, there's enough evidence to reject the null hypothesis. We reject the null hypothesis."
   ]
  },
  {
   "cell_type": "markdown",
   "metadata": {},
   "source": [
    "Type I error: a file tax return that was not filed electronically, but identified as such."
   ]
  },
  {
   "cell_type": "markdown",
   "metadata": {},
   "source": [
    "Type II error: a file tax return that was filed electronically, but identified as not filed electronically."
   ]
  },
  {
   "cell_type": "code",
   "execution_count": null,
   "metadata": {
    "collapsed": true
   },
   "outputs": [],
   "source": []
  }
 ],
 "metadata": {
  "anaconda-cloud": {},
  "kernelspec": {
   "display_name": "Python [Root]",
   "language": "python",
   "name": "Python [Root]"
  },
  "language_info": {
   "codemirror_mode": {
    "name": "ipython",
    "version": 3
   },
   "file_extension": ".py",
   "mimetype": "text/x-python",
   "name": "python",
   "nbconvert_exporter": "python",
   "pygments_lexer": "ipython3",
   "version": "3.5.2"
  }
 },
 "nbformat": 4,
 "nbformat_minor": 0
}
