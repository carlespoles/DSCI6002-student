{
 "cells": [
  {
   "cell_type": "markdown",
   "metadata": {},
   "source": [
    "# Lab 5.3: Two Sample Hypothesis Testing"
   ]
  },
  {
   "cell_type": "markdown",
   "metadata": {},
   "source": [
    "**Question 1**\n",
    "\n",
    " Many doctors believe that early prenatal care is very important to the health of a baby and its mother. Efforts have recently been focused on teen mothers. A random sample of 52 teenagers who gave birth revealed that 32 of them began prenatal care in the first trimester of their pregnancy. A random sample of 209 women in their twenties who gave birth revealed that 163 of them began prenatal care in the first trimester of their pregnancy.  \n",
    " \n",
    "1) Construct a 95% confidence interval for the difference between the proportion of teen mothers who get early prenatal care and the proportion of mothers in their twenties who get early prenatal care.  \n",
    "\n",
    "\n",
    "2) Briefly interpret the confidence interval. "
   ]
  },
  {
   "cell_type": "code",
   "execution_count": 1,
   "metadata": {
    "collapsed": false
   },
   "outputs": [
    {
     "name": "stdout",
     "output_type": "stream",
     "text": [
      "Populating the interactive namespace from numpy and matplotlib\n"
     ]
    }
   ],
   "source": [
    "%pylab inline\n",
    "import pandas as pd\n",
    "import yaml\n",
    "\n",
    "from scipy import stats\n",
    "from sqlalchemy import create_engine\n",
    "from statsmodels.stats.weightstats import ttest_ind\n",
    "\n",
    "pg_creds = yaml.load(open('../../pg_creds.yaml'))['student']\n",
    "\n",
    "engine = create_engine('postgresql://{user}:{password}@{host}:{port}/{dbname}'.format(**pg_creds))"
   ]
  },
  {
   "cell_type": "markdown",
   "metadata": {},
   "source": [
    "### 1"
   ]
  },
  {
   "cell_type": "code",
   "execution_count": 2,
   "metadata": {
    "collapsed": false
   },
   "outputs": [
    {
     "name": "stdout",
     "output_type": "stream",
     "text": [
      "Confidence interval is: -0.308186125116 -0.0208532565554\n"
     ]
    }
   ],
   "source": [
    "p_1 = 32/52\n",
    "p_2 = 163/209\n",
    "calculation = stats.norm.ppf(0.975) * ((p_1)*(1-p_1)/52 + (p_2)*(1-p_2)/209)**0.5\n",
    "print(\"Confidence interval is:\", (p_1 - p_2) - calculation, (p_1 - p_2) + calculation)"
   ]
  },
  {
   "cell_type": "markdown",
   "metadata": {},
   "source": [
    "### 2\n",
    "The confidence interval does not include 0, so we conclude that the proportion of teen mothers who get ear;y prenatal care is lower than the proportion of mothers in their twenties."
   ]
  },
  {
   "cell_type": "markdown",
   "metadata": {},
   "source": [
    "**Question 2**  \n",
    "\n",
    "A math instructor wrote two versions of the same test that he believed to be of equal difficulty. He gave the first version (A) to 36 students and the second version (B) to 41 students. We will consider the two groups to be random samples from the population of all community college statistics students. The 36 students who took version A had a mean score of 79.3 with a standard deviation of 11.26. The 41 students who took version B had a mean score of 84.1 with a standard deviation of 9.40.  \n",
    "\n",
    "1) Construct a 95% confidence interval for the difference between the mean score of version A and the mean score of version B.  \n",
    "\n",
    "\n",
    "2) Interpret the confidence interval in context. "
   ]
  },
  {
   "cell_type": "markdown",
   "metadata": {},
   "source": [
    "### 1"
   ]
  },
  {
   "cell_type": "code",
   "execution_count": 3,
   "metadata": {
    "collapsed": false
   },
   "outputs": [
    {
     "name": "stdout",
     "output_type": "stream",
     "text": [
      "Confidence interval is: -9.46989942976 -0.130100570244\n"
     ]
    }
   ],
   "source": [
    "# We use the confidence interval formula for large samples.\n",
    "diff_means = 79.3 - 84.1\n",
    "calculation = stats.norm.ppf(0.975) * ((11.26**2)/36 + (9.40**2)/41)**0.5\n",
    "print(\"Confidence interval is:\", diff_means - calculation, diff_means + calculation)"
   ]
  },
  {
   "cell_type": "markdown",
   "metadata": {},
   "source": [
    "### 2"
   ]
  },
  {
   "cell_type": "markdown",
   "metadata": {},
   "source": [
    "The interval does not contain 0, so we conclude that they are not of equally difficulty, in fact test A is harder."
   ]
  },
  {
   "cell_type": "markdown",
   "metadata": {},
   "source": [
    "**Question 3**  \n",
    "\n",
    "A group of 18 concertgoers was selected at random. Before the concert they were given a hearing test, and then were given another one after the concert. (The volume varied during the test, and the person also had to state which ear the sound was in.) The number of correctly identified sounds out of 10, both before and after the concert, can be found in the `before` and `after` tables in RDS (hint: join `USING (goer_id);`).  \n",
    "\n",
    "1) Construct a 95% confidence interval for the mean of the differences between the scores before the concert and the scores after the concert.  \n",
    "\n",
    "\n",
    "2) At the 0.05 level of significance, test whether a person’s hearing is adversely affected by the noise of a concert. "
   ]
  },
  {
   "cell_type": "markdown",
   "metadata": {},
   "source": [
    "### 1"
   ]
  },
  {
   "cell_type": "code",
   "execution_count": 4,
   "metadata": {
    "collapsed": true
   },
   "outputs": [],
   "source": [
    "before_after = pd.read_sql(\"SELECT before.goer_id, before.hearing AS before_hearing, after.hearing AS after_hearing, (after.hearing - before.hearing) AS difference_hearing FROM before INNER JOIN after ON before.goer_id = after.goer_id\", engine)"
   ]
  },
  {
   "cell_type": "code",
   "execution_count": 5,
   "metadata": {
    "collapsed": false
   },
   "outputs": [
    {
     "data": {
      "text/html": [
       "<div>\n",
       "<table border=\"1\" class=\"dataframe\">\n",
       "  <thead>\n",
       "    <tr style=\"text-align: right;\">\n",
       "      <th></th>\n",
       "      <th>goer_id</th>\n",
       "      <th>before_hearing</th>\n",
       "      <th>after_hearing</th>\n",
       "      <th>difference_hearing</th>\n",
       "    </tr>\n",
       "  </thead>\n",
       "  <tbody>\n",
       "    <tr>\n",
       "      <th>0</th>\n",
       "      <td>0</td>\n",
       "      <td>9</td>\n",
       "      <td>8</td>\n",
       "      <td>-1</td>\n",
       "    </tr>\n",
       "    <tr>\n",
       "      <th>1</th>\n",
       "      <td>1</td>\n",
       "      <td>10</td>\n",
       "      <td>8</td>\n",
       "      <td>-2</td>\n",
       "    </tr>\n",
       "    <tr>\n",
       "      <th>2</th>\n",
       "      <td>2</td>\n",
       "      <td>9</td>\n",
       "      <td>9</td>\n",
       "      <td>0</td>\n",
       "    </tr>\n",
       "    <tr>\n",
       "      <th>3</th>\n",
       "      <td>3</td>\n",
       "      <td>8</td>\n",
       "      <td>6</td>\n",
       "      <td>-2</td>\n",
       "    </tr>\n",
       "    <tr>\n",
       "      <th>4</th>\n",
       "      <td>4</td>\n",
       "      <td>8</td>\n",
       "      <td>6</td>\n",
       "      <td>-2</td>\n",
       "    </tr>\n",
       "  </tbody>\n",
       "</table>\n",
       "</div>"
      ],
      "text/plain": [
       "   goer_id  before_hearing  after_hearing  difference_hearing\n",
       "0        0               9              8                  -1\n",
       "1        1              10              8                  -2\n",
       "2        2               9              9                   0\n",
       "3        3               8              6                  -2\n",
       "4        4               8              6                  -2"
      ]
     },
     "execution_count": 5,
     "metadata": {},
     "output_type": "execute_result"
    }
   ],
   "source": [
    "before_after.head()"
   ]
  },
  {
   "cell_type": "code",
   "execution_count": 6,
   "metadata": {
    "collapsed": false
   },
   "outputs": [
    {
     "name": "stdout",
     "output_type": "stream",
     "text": [
      "Confidence interval is: -1.87297071713 -0.571473727313\n"
     ]
    }
   ],
   "source": [
    "diff_means = before_after['difference_hearing'].mean()\n",
    "s_error = before_after['difference_hearing'].std()/len(before_after)**0.5\n",
    "calculation = stats.t(len(before_after)-1).ppf(0.975) * s_error\n",
    "print(\"Confidence interval is:\", diff_means - calculation, diff_means + calculation)"
   ]
  },
  {
   "cell_type": "markdown",
   "metadata": {},
   "source": [
    "### 2"
   ]
  },
  {
   "cell_type": "markdown",
   "metadata": {},
   "source": [
    "$\\alpha$ = 0.05\n",
    "\n",
    "$H_0$ = 0\n",
    "\n",
    "$H_a$ < 0"
   ]
  },
  {
   "cell_type": "code",
   "execution_count": 7,
   "metadata": {
    "collapsed": false
   },
   "outputs": [
    {
     "data": {
      "text/plain": [
       "-3.9626115222585065"
      ]
     },
     "execution_count": 7,
     "metadata": {},
     "output_type": "execute_result"
    }
   ],
   "source": [
    "t_stat_hearing = (diff_means - 0)/(before_after['difference_hearing'].std()/len(before_after)**0.5)\n",
    "t_stat_hearing"
   ]
  },
  {
   "cell_type": "code",
   "execution_count": 8,
   "metadata": {
    "collapsed": false
   },
   "outputs": [
    {
     "data": {
      "text/plain": [
       "0.00050273317937768122"
      ]
     },
     "execution_count": 8,
     "metadata": {},
     "output_type": "execute_result"
    }
   ],
   "source": [
    "p_value_hearing = stats.t(len(before_after)-1).cdf(t_stat_hearing)\n",
    "p_value_hearing"
   ]
  },
  {
   "cell_type": "markdown",
   "metadata": {},
   "source": [
    "The p-value is less than 0.05, therefore, we have enough evidence to reject the null hypothesis that hearing is not adversely affected."
   ]
  },
  {
   "cell_type": "markdown",
   "metadata": {},
   "source": [
    "**Question 4**\n",
    "\n",
    "Are male high school graduates equally likely to attend college the following fall as female high school graduates? A random sample of 1354 males who graduated high school in 2007 found that 860 of them were enrolled in college in October 2007. A sample of 1415 females who graduated high school in 2007 found that 995 of them were enrolled in college in October 2007. At the 0.05 level of significance, test the null hypothesis that the proportion of male graduates that go on to college is the same as the proportion of female graduates that go on to college against the two sided alternative. Clearly state your conclusion. "
   ]
  },
  {
   "cell_type": "code",
   "execution_count": 9,
   "metadata": {
    "collapsed": true
   },
   "outputs": [],
   "source": [
    "p_1 = 860/1354\n",
    "p_2 = 995/1415"
   ]
  },
  {
   "cell_type": "markdown",
   "metadata": {},
   "source": [
    "$H_0$ = p_1 - p_2 = 0\n",
    "\n",
    "$H_a$ = p_1 - p_2 $\\neq$ 0"
   ]
  },
  {
   "cell_type": "code",
   "execution_count": 10,
   "metadata": {
    "collapsed": true
   },
   "outputs": [],
   "source": [
    "p_hat = (1354 * p_1 + 1415 * p_2)/(1354 + 1415)"
   ]
  },
  {
   "cell_type": "code",
   "execution_count": 11,
   "metadata": {
    "collapsed": true
   },
   "outputs": [],
   "source": [
    "z_stat = (p_1 - p_2)/(p_hat * (1 - p_hat) * ((1/1354) + (1/1415)))**0.5"
   ]
  },
  {
   "cell_type": "code",
   "execution_count": 12,
   "metadata": {
    "collapsed": false
   },
   "outputs": [
    {
     "data": {
      "text/plain": [
       "0.00014171083233362821"
      ]
     },
     "execution_count": 12,
     "metadata": {},
     "output_type": "execute_result"
    }
   ],
   "source": [
    "# It's a two sided test.\n",
    "p_value_school = stats.norm().cdf(z_stat) * 2\n",
    "p_value_school"
   ]
  },
  {
   "cell_type": "markdown",
   "metadata": {},
   "source": [
    "The p-value is less than 0.05, therefore there's enough evidence to reject the null hypothesis that the proportion of male and female graduates that go to college is equal."
   ]
  },
  {
   "cell_type": "markdown",
   "metadata": {},
   "source": [
    "**Question 5**\n",
    "\n",
    "Here we will use hypothesis testing to analyze **Click Through Rate (CTR)** on the New York Times website.\n",
    "Click-through rate (CTR) is the number of users that click on a specific link out of the total users that view a page, email, or advertisement.\n",
    "We are going to determine if there is statistically significant difference between the mean CTR for\n",
    "the following groups:\n",
    "```\n",
    "1. Signed in users v.s. Not signed in users\n",
    "2. Male v.s. Female\n",
    "```\n",
    "\n",
    "\n",
    "1) Load the `nyt` table from RDS into a pandas dataframe.\n",
    "\n",
    "   Use `data.info()` to make sure the datatypes are valid and there are no null values.\n",
    "   This data has been cleaned for you, but generally it is good practice to check for those.\n",
    "   "
   ]
  },
  {
   "cell_type": "code",
   "execution_count": 13,
   "metadata": {
    "collapsed": true
   },
   "outputs": [],
   "source": [
    "ctr = pd.read_sql(\"SELECT * FROM nyt\", engine)"
   ]
  },
  {
   "cell_type": "code",
   "execution_count": 14,
   "metadata": {
    "collapsed": false
   },
   "outputs": [
    {
     "data": {
      "text/html": [
       "<div>\n",
       "<table border=\"1\" class=\"dataframe\">\n",
       "  <thead>\n",
       "    <tr style=\"text-align: right;\">\n",
       "      <th></th>\n",
       "      <th>user_id</th>\n",
       "      <th>age</th>\n",
       "      <th>gender</th>\n",
       "      <th>impressions</th>\n",
       "      <th>clicks</th>\n",
       "      <th>signed_in</th>\n",
       "    </tr>\n",
       "  </thead>\n",
       "  <tbody>\n",
       "    <tr>\n",
       "      <th>0</th>\n",
       "      <td>0</td>\n",
       "      <td>36</td>\n",
       "      <td>0</td>\n",
       "      <td>3</td>\n",
       "      <td>0</td>\n",
       "      <td>1</td>\n",
       "    </tr>\n",
       "    <tr>\n",
       "      <th>1</th>\n",
       "      <td>1</td>\n",
       "      <td>73</td>\n",
       "      <td>1</td>\n",
       "      <td>3</td>\n",
       "      <td>0</td>\n",
       "      <td>1</td>\n",
       "    </tr>\n",
       "    <tr>\n",
       "      <th>2</th>\n",
       "      <td>2</td>\n",
       "      <td>30</td>\n",
       "      <td>0</td>\n",
       "      <td>3</td>\n",
       "      <td>0</td>\n",
       "      <td>1</td>\n",
       "    </tr>\n",
       "    <tr>\n",
       "      <th>3</th>\n",
       "      <td>3</td>\n",
       "      <td>49</td>\n",
       "      <td>1</td>\n",
       "      <td>3</td>\n",
       "      <td>0</td>\n",
       "      <td>1</td>\n",
       "    </tr>\n",
       "    <tr>\n",
       "      <th>4</th>\n",
       "      <td>4</td>\n",
       "      <td>47</td>\n",
       "      <td>1</td>\n",
       "      <td>11</td>\n",
       "      <td>0</td>\n",
       "      <td>1</td>\n",
       "    </tr>\n",
       "  </tbody>\n",
       "</table>\n",
       "</div>"
      ],
      "text/plain": [
       "   user_id  age  gender  impressions  clicks  signed_in\n",
       "0        0   36       0            3       0          1\n",
       "1        1   73       1            3       0          1\n",
       "2        2   30       0            3       0          1\n",
       "3        3   49       1            3       0          1\n",
       "4        4   47       1           11       0          1"
      ]
     },
     "execution_count": 14,
     "metadata": {},
     "output_type": "execute_result"
    }
   ],
   "source": [
    "ctr.head()"
   ]
  },
  {
   "cell_type": "code",
   "execution_count": 15,
   "metadata": {
    "collapsed": false
   },
   "outputs": [
    {
     "name": "stdout",
     "output_type": "stream",
     "text": [
      "<class 'pandas.core.frame.DataFrame'>\n",
      "RangeIndex: 458441 entries, 0 to 458440\n",
      "Data columns (total 6 columns):\n",
      "user_id        458441 non-null int64\n",
      "age            458441 non-null int64\n",
      "gender         458441 non-null int64\n",
      "impressions    458441 non-null int64\n",
      "clicks         458441 non-null int64\n",
      "signed_in      458441 non-null int64\n",
      "dtypes: int64(6)\n",
      "memory usage: 21.0 MB\n"
     ]
    }
   ],
   "source": [
    "ctr.info()"
   ]
  },
  {
   "cell_type": "markdown",
   "metadata": {},
   "source": [
    "2) Make a new column `CTR` using the `Impressions` and the `Clicks` columns. (`CTR` = `Clicks` / `Impressions`)  \n",
    "   Remember to remove the rows with `0` impressions.\n",
    "   "
   ]
  },
  {
   "cell_type": "code",
   "execution_count": 16,
   "metadata": {
    "collapsed": true
   },
   "outputs": [],
   "source": [
    "ctr['CTR'] = ctr['clicks']/ctr['impressions']"
   ]
  },
  {
   "cell_type": "code",
   "execution_count": 17,
   "metadata": {
    "collapsed": false
   },
   "outputs": [
    {
     "data": {
      "text/html": [
       "<div>\n",
       "<table border=\"1\" class=\"dataframe\">\n",
       "  <thead>\n",
       "    <tr style=\"text-align: right;\">\n",
       "      <th></th>\n",
       "      <th>user_id</th>\n",
       "      <th>age</th>\n",
       "      <th>gender</th>\n",
       "      <th>impressions</th>\n",
       "      <th>clicks</th>\n",
       "      <th>signed_in</th>\n",
       "      <th>CTR</th>\n",
       "    </tr>\n",
       "  </thead>\n",
       "  <tbody>\n",
       "    <tr>\n",
       "      <th>0</th>\n",
       "      <td>0</td>\n",
       "      <td>36</td>\n",
       "      <td>0</td>\n",
       "      <td>3</td>\n",
       "      <td>0</td>\n",
       "      <td>1</td>\n",
       "      <td>0.0</td>\n",
       "    </tr>\n",
       "    <tr>\n",
       "      <th>1</th>\n",
       "      <td>1</td>\n",
       "      <td>73</td>\n",
       "      <td>1</td>\n",
       "      <td>3</td>\n",
       "      <td>0</td>\n",
       "      <td>1</td>\n",
       "      <td>0.0</td>\n",
       "    </tr>\n",
       "    <tr>\n",
       "      <th>2</th>\n",
       "      <td>2</td>\n",
       "      <td>30</td>\n",
       "      <td>0</td>\n",
       "      <td>3</td>\n",
       "      <td>0</td>\n",
       "      <td>1</td>\n",
       "      <td>0.0</td>\n",
       "    </tr>\n",
       "    <tr>\n",
       "      <th>3</th>\n",
       "      <td>3</td>\n",
       "      <td>49</td>\n",
       "      <td>1</td>\n",
       "      <td>3</td>\n",
       "      <td>0</td>\n",
       "      <td>1</td>\n",
       "      <td>0.0</td>\n",
       "    </tr>\n",
       "    <tr>\n",
       "      <th>4</th>\n",
       "      <td>4</td>\n",
       "      <td>47</td>\n",
       "      <td>1</td>\n",
       "      <td>11</td>\n",
       "      <td>0</td>\n",
       "      <td>1</td>\n",
       "      <td>0.0</td>\n",
       "    </tr>\n",
       "  </tbody>\n",
       "</table>\n",
       "</div>"
      ],
      "text/plain": [
       "   user_id  age  gender  impressions  clicks  signed_in  CTR\n",
       "0        0   36       0            3       0          1  0.0\n",
       "1        1   73       1            3       0          1  0.0\n",
       "2        2   30       0            3       0          1  0.0\n",
       "3        3   49       1            3       0          1  0.0\n",
       "4        4   47       1           11       0          1  0.0"
      ]
     },
     "execution_count": 17,
     "metadata": {},
     "output_type": "execute_result"
    }
   ],
   "source": [
    "ctr.head()"
   ]
  },
  {
   "cell_type": "code",
   "execution_count": 18,
   "metadata": {
    "collapsed": false
   },
   "outputs": [],
   "source": [
    "ctr_not_null = ctr[ctr['impressions'] > 0]"
   ]
  },
  {
   "cell_type": "code",
   "execution_count": 19,
   "metadata": {
    "collapsed": false
   },
   "outputs": [
    {
     "data": {
      "text/plain": [
       "455375"
      ]
     },
     "execution_count": 19,
     "metadata": {},
     "output_type": "execute_result"
    }
   ],
   "source": [
    "len(ctr_not_null)"
   ]
  },
  {
   "cell_type": "markdown",
   "metadata": {},
   "source": [
    "3) Plot the distribution of each column in the dataframe. You can do this using `pandas.DataFrame.hist()`.\n",
    "   Check out the arguments you can use with the function\n",
    "   [here](http://pandas.pydata.org/pandas-docs/stable/generated/pandas.DataFrame.hist.html).\n",
    "   Set the `figsize=(12,5)` to make sure the graph is readable.\n",
    "   "
   ]
  },
  {
   "cell_type": "code",
   "execution_count": 20,
   "metadata": {
    "collapsed": false
   },
   "outputs": [
    {
     "data": {
      "image/png": "[encoded data removed]",
      "text/plain": [
       "<matplotlib.figure.Figure at 0x116ccc860>"
      ]
     },
     "metadata": {},
     "output_type": "display_data"
    }
   ],
   "source": [
    "pd.DataFrame.hist(ctr_not_null, figsize=(12,7));"
   ]
  },
  {
   "cell_type": "markdown",
   "metadata": {},
   "source": [
    "4) Make 2 dataframes separating the rows where the users who are signed in and users who are\n",
    "   not signed in.\n",
    "   Plot the distributions of the columns in each of the dataframes. By visually inspecting\n",
    "   the two sets of distributions, describe the differences between users who are signed in and not signed in?"
   ]
  },
  {
   "cell_type": "code",
   "execution_count": 21,
   "metadata": {
    "collapsed": false
   },
   "outputs": [],
   "source": [
    "sign_in = ctr_not_null[ctr_not_null['signed_in'] == 1]"
   ]
  },
  {
   "cell_type": "code",
   "execution_count": 22,
   "metadata": {
    "collapsed": true
   },
   "outputs": [],
   "source": [
    "not_sign_in = ctr_not_null[ctr_not_null['signed_in'] == 0]"
   ]
  },
  {
   "cell_type": "code",
   "execution_count": 23,
   "metadata": {
    "collapsed": false
   },
   "outputs": [
    {
     "data": {
      "image/png": "[encoded data removed]",
      "text/plain": [
       "<matplotlib.figure.Figure at 0x11a828a58>"
      ]
     },
     "metadata": {},
     "output_type": "display_data"
    }
   ],
   "source": [
    "pd.DataFrame.hist(sign_in, figsize=(12,7));"
   ]
  },
  {
   "cell_type": "code",
   "execution_count": 24,
   "metadata": {
    "collapsed": false
   },
   "outputs": [
    {
     "data": {
      "image/png": "[encoded data removed]",
      "text/plain": [
       "<matplotlib.figure.Figure at 0x123e8c978>"
      ]
     },
     "metadata": {},
     "output_type": "display_data"
    }
   ],
   "source": [
    "pd.DataFrame.hist(not_sign_in, figsize=(12,7));"
   ]
  },
  {
   "cell_type": "code",
   "execution_count": 25,
   "metadata": {
    "collapsed": false
   },
   "outputs": [
    {
     "name": "stdout",
     "output_type": "stream",
     "text": [
      "Signed in users: 319198 Not signed in users: 136177\n"
     ]
    }
   ],
   "source": [
    "print(\"Signed in users:\", len(sign_in), \"Not signed in users:\", len(not_sign_in))"
   ]
  },
  {
   "cell_type": "markdown",
   "metadata": {},
   "source": [
    "Age and gender are not collected when the user is signed out.\n",
    "\n",
    "The signed_in attribut is either 0 or 1 with the corresponding dataset.\n",
    "\n",
    "The distributions of user_id, clicks, impressions and CTR appear visually similar."
   ]
  },
  {
   "cell_type": "markdown",
   "metadata": {},
   "source": [
    "5) Use a Welch's t-test to determine if the mean CTR between the signed-in users\n",
    "   and the non-signed-in users is statistically different. Explain how you\n",
    "   arrive at your conclusion.\n",
    "\n",
    "   The Welch's t-test assumes the two populations in which the samples are drawn from\n",
    "   have different variances.\n",
    "\n",
    "   ```python\n",
    "   scipy.stats.ttest_ind(a, b, equal_var=False)\n",
    "   ```"
   ]
  },
  {
   "cell_type": "code",
   "execution_count": 26,
   "metadata": {
    "collapsed": false
   },
   "outputs": [
    {
     "data": {
      "text/plain": [
       "Ttest_indResult(statistic=-55.376117934260868, pvalue=0.0)"
      ]
     },
     "execution_count": 26,
     "metadata": {},
     "output_type": "execute_result"
    }
   ],
   "source": [
    "stats.ttest_ind(sign_in['CTR'], not_sign_in['CTR'], equal_var=False)"
   ]
  },
  {
   "cell_type": "markdown",
   "metadata": {},
   "source": [
    "$H_0$ = the mean CTR of users signed in - the mean CTR of users signed out = 0\n",
    "\n",
    "$H_a$ = the mean CTR of users signed in - the mean CTR of users signed out $\\neq$ 0\n",
    "\n",
    "$\\alpha$ = 0.05\n",
    "\n",
    "The p-value is less than 0.05, therefore, there's enough evidence to reject the null hypothesis that the CTR of users who are signed in is equal to the CTR of users who are signed out."
   ]
  },
  {
   "cell_type": "markdown",
   "metadata": {},
   "source": [
    "\n",
    "6) Determine if the mean CTR between male users and female users is\n",
    "   statistically different. `Male: 1, Female: 0`\n"
   ]
  },
  {
   "cell_type": "code",
   "execution_count": 27,
   "metadata": {
    "collapsed": true
   },
   "outputs": [],
   "source": [
    "male = ctr_not_null[ctr_not_null['gender'] == 1]"
   ]
  },
  {
   "cell_type": "code",
   "execution_count": 28,
   "metadata": {
    "collapsed": true
   },
   "outputs": [],
   "source": [
    "female = ctr_not_null[ctr_not_null['gender'] == 0]"
   ]
  },
  {
   "cell_type": "code",
   "execution_count": 29,
   "metadata": {
    "collapsed": false
   },
   "outputs": [
    {
     "data": {
      "text/plain": [
       "Ttest_indResult(statistic=-35.874129799254021, pvalue=2.1289369889958908e-281)"
      ]
     },
     "execution_count": 29,
     "metadata": {},
     "output_type": "execute_result"
    }
   ],
   "source": [
    "stats.ttest_ind(male['CTR'], female['CTR'], equal_var=False)"
   ]
  },
  {
   "cell_type": "markdown",
   "metadata": {},
   "source": [
    "$H_0$ = the mean CTR of male users - the mean CTR of female users = 0\n",
    "\n",
    "$H_a$ = the mean CTR of male users - the mean CTR of female users $\\neq$ 0\n",
    "\n",
    "$\\alpha$ = 0.05\n",
    "\n",
    "The p-value is less than 0.05, therefore, there's enough evidence to reject the null hypothesis that the CTR of male users is equal to the CTR of female users."
   ]
  },
  {
   "cell_type": "code",
   "execution_count": null,
   "metadata": {
    "collapsed": true
   },
   "outputs": [],
   "source": []
  },
  {
   "cell_type": "markdown",
   "metadata": {},
   "source": [
    "#### Hint\n",
    "\n",
    "Some functions that may be useful to you:\n",
    "\n",
    "- From the `numpy` package:\n",
    "    - `sqrt`\n",
    "    - `array`\n",
    "- From the `yaml` package:\n",
    "    - `load` - to load Postgres credentials\n",
    "- From the `sqlalchemy` package:\n",
    "    - `create_engine` - to connect to Postgres\n",
    "- From the `pandas` package:\n",
    "    - `read_sql`\n",
    "    - `read_sql_table`\n",
    "- From the `scipy` package:\n",
    "    - `stats.norm.cdf`\n",
    "    - `stats.t.interval`\n",
    "    - `stats.ttest_1samp`\n",
    "    - `stats.ttest_ind`"
   ]
  }
 ],
 "metadata": {
  "anaconda-cloud": {},
  "kernelspec": {
   "display_name": "Python [Root]",
   "language": "python",
   "name": "Python [Root]"
  },
  "language_info": {
   "codemirror_mode": {
    "name": "ipython",
    "version": 3
   },
   "file_extension": ".py",
   "mimetype": "text/x-python",
   "name": "python",
   "nbconvert_exporter": "python",
   "pygments_lexer": "ipython3",
   "version": "3.5.2"
  }
 },
 "nbformat": 4,
 "nbformat_minor": 0
}
