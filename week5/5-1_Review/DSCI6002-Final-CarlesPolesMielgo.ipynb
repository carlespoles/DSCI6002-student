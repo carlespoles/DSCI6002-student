{
 "cells": [
  {
   "cell_type": "markdown",
   "metadata": {},
   "source": [
    "# Final - _Due Friday, October 21_\n",
    "---\n",
    "## Note: this is the final. It is _not_ a paired programming assignment. **You must complete this lab _on your own_**. \n",
    "---\n",
    "### We'll be exploring the \"Airplane Crashes Since 1908\" dataset from [Kaggle](http://www.kaggle.com).\n",
    "### Full history of airplane crashes throughout the world, from 1908-present.\n",
    "The dataset was downloaded from https://www.kaggle.com/saurograndi/airplane-crashes-since-1908. \n",
    "\n",
    "After loading and cleaning the data:\n",
    "\n",
    "+ **Hypothesis Testing** \n",
    "    \n",
    "+ **Linear Regression**\n",
    "    \n",
    "+ **Time Series**\n",
    "\n",
    "***\n",
    "## Setup & clean the data\n",
    "### First, load the packages that will be used in this notebook."
   ]
  },
  {
   "cell_type": "code",
   "execution_count": 1,
   "metadata": {
    "collapsed": false
   },
   "outputs": [
    {
     "name": "stdout",
     "output_type": "stream",
     "text": [
      "Populating the interactive namespace from numpy and matplotlib\n"
     ]
    }
   ],
   "source": [
    "%pylab inline\n",
    "\n",
    "import pandas as pd\n",
    "import seaborn as sns\n",
    "import statsmodels.api as sm\n",
    "\n",
    "from sqlalchemy import create_engine\n",
    "from scipy import stats\n",
    "\n",
    "random.seed(1234)\n",
    "sns.set(font_scale=1.5)"
   ]
  },
  {
   "cell_type": "markdown",
   "metadata": {},
   "source": [
    "### Next, load the csv file into a DataFrame and look at the first few lines."
   ]
  },
  {
   "cell_type": "code",
   "execution_count": 2,
   "metadata": {
    "collapsed": false
   },
   "outputs": [
    {
     "data": {
      "text/html": [
       "<div>\n",
       "<table border=\"1\" class=\"dataframe\">\n",
       "  <thead>\n",
       "    <tr style=\"text-align: right;\">\n",
       "      <th></th>\n",
       "      <th>Date</th>\n",
       "      <th>Time</th>\n",
       "      <th>Location</th>\n",
       "      <th>Operator</th>\n",
       "      <th>Flight #</th>\n",
       "      <th>Route</th>\n",
       "      <th>Type</th>\n",
       "      <th>Registration</th>\n",
       "      <th>cn/In</th>\n",
       "      <th>Aboard</th>\n",
       "      <th>Fatalities</th>\n",
       "      <th>Ground</th>\n",
       "      <th>Summary</th>\n",
       "    </tr>\n",
       "  </thead>\n",
       "  <tbody>\n",
       "    <tr>\n",
       "      <th>0</th>\n",
       "      <td>09/17/1908</td>\n",
       "      <td>17:18</td>\n",
       "      <td>Fort Myer, Virginia</td>\n",
       "      <td>Military - U.S. Army</td>\n",
       "      <td>NaN</td>\n",
       "      <td>Demonstration</td>\n",
       "      <td>Wright Flyer III</td>\n",
       "      <td>NaN</td>\n",
       "      <td>1</td>\n",
       "      <td>2.0</td>\n",
       "      <td>1.0</td>\n",
       "      <td>0.0</td>\n",
       "      <td>During a demonstration flight, a U.S. Army fly...</td>\n",
       "    </tr>\n",
       "    <tr>\n",
       "      <th>1</th>\n",
       "      <td>07/12/1912</td>\n",
       "      <td>06:30</td>\n",
       "      <td>AtlantiCity, New Jersey</td>\n",
       "      <td>Military - U.S. Navy</td>\n",
       "      <td>NaN</td>\n",
       "      <td>Test flight</td>\n",
       "      <td>Dirigible</td>\n",
       "      <td>NaN</td>\n",
       "      <td>NaN</td>\n",
       "      <td>5.0</td>\n",
       "      <td>5.0</td>\n",
       "      <td>0.0</td>\n",
       "      <td>First U.S. dirigible Akron exploded just offsh...</td>\n",
       "    </tr>\n",
       "    <tr>\n",
       "      <th>2</th>\n",
       "      <td>08/06/1913</td>\n",
       "      <td>NaN</td>\n",
       "      <td>Victoria, British Columbia, Canada</td>\n",
       "      <td>Private</td>\n",
       "      <td>-</td>\n",
       "      <td>NaN</td>\n",
       "      <td>Curtiss seaplane</td>\n",
       "      <td>NaN</td>\n",
       "      <td>NaN</td>\n",
       "      <td>1.0</td>\n",
       "      <td>1.0</td>\n",
       "      <td>0.0</td>\n",
       "      <td>The first fatal airplane accident in Canada oc...</td>\n",
       "    </tr>\n",
       "    <tr>\n",
       "      <th>3</th>\n",
       "      <td>09/09/1913</td>\n",
       "      <td>18:30</td>\n",
       "      <td>Over the North Sea</td>\n",
       "      <td>Military - German Navy</td>\n",
       "      <td>NaN</td>\n",
       "      <td>NaN</td>\n",
       "      <td>Zeppelin L-1 (airship)</td>\n",
       "      <td>NaN</td>\n",
       "      <td>NaN</td>\n",
       "      <td>20.0</td>\n",
       "      <td>14.0</td>\n",
       "      <td>0.0</td>\n",
       "      <td>The airship flew into a thunderstorm and encou...</td>\n",
       "    </tr>\n",
       "    <tr>\n",
       "      <th>4</th>\n",
       "      <td>10/17/1913</td>\n",
       "      <td>10:30</td>\n",
       "      <td>Near Johannisthal, Germany</td>\n",
       "      <td>Military - German Navy</td>\n",
       "      <td>NaN</td>\n",
       "      <td>NaN</td>\n",
       "      <td>Zeppelin L-2 (airship)</td>\n",
       "      <td>NaN</td>\n",
       "      <td>NaN</td>\n",
       "      <td>30.0</td>\n",
       "      <td>30.0</td>\n",
       "      <td>0.0</td>\n",
       "      <td>Hydrogen gas which was being vented was sucked...</td>\n",
       "    </tr>\n",
       "  </tbody>\n",
       "</table>\n",
       "</div>"
      ],
      "text/plain": [
       "         Date   Time                            Location  \\\n",
       "0  09/17/1908  17:18                 Fort Myer, Virginia   \n",
       "1  07/12/1912  06:30             AtlantiCity, New Jersey   \n",
       "2  08/06/1913    NaN  Victoria, British Columbia, Canada   \n",
       "3  09/09/1913  18:30                  Over the North Sea   \n",
       "4  10/17/1913  10:30          Near Johannisthal, Germany   \n",
       "\n",
       "                 Operator Flight #          Route                    Type  \\\n",
       "0    Military - U.S. Army      NaN  Demonstration        Wright Flyer III   \n",
       "1    Military - U.S. Navy      NaN    Test flight               Dirigible   \n",
       "2                 Private        -            NaN        Curtiss seaplane   \n",
       "3  Military - German Navy      NaN            NaN  Zeppelin L-1 (airship)   \n",
       "4  Military - German Navy      NaN            NaN  Zeppelin L-2 (airship)   \n",
       "\n",
       "  Registration cn/In  Aboard  Fatalities  Ground  \\\n",
       "0          NaN     1     2.0         1.0     0.0   \n",
       "1          NaN   NaN     5.0         5.0     0.0   \n",
       "2          NaN   NaN     1.0         1.0     0.0   \n",
       "3          NaN   NaN    20.0        14.0     0.0   \n",
       "4          NaN   NaN    30.0        30.0     0.0   \n",
       "\n",
       "                                             Summary  \n",
       "0  During a demonstration flight, a U.S. Army fly...  \n",
       "1  First U.S. dirigible Akron exploded just offsh...  \n",
       "2  The first fatal airplane accident in Canada oc...  \n",
       "3  The airship flew into a thunderstorm and encou...  \n",
       "4  Hydrogen gas which was being vented was sucked...  "
      ]
     },
     "execution_count": 2,
     "metadata": {},
     "output_type": "execute_result"
    }
   ],
   "source": [
    "df = pd.read_csv('Airplane_Crashes_and_Fatalities_Since_1908.csv')\n",
    "df.head()"
   ]
  },
  {
   "cell_type": "markdown",
   "metadata": {},
   "source": [
    "Here are the variable descriptions (not available in Kaggle website, but from my own understanding of the data):\n",
    "\n",
    "|Variable|Description|\n",
    "|:-:|:--|\n",
    "|**Date**|Date of the accident|\n",
    "|**Time**|Time of the accident|\n",
    "|**Location**|Where the accident happened|\n",
    "|**Operator**|The name of the airline having the accident|\n",
    "|**Flight#**|The airline flight number|\n",
    "|**Route**|The location where the flight was bounded|\n",
    "|**Type**|The type of aircraft that had the accident|\n",
    "|**Registration**|An alphanumeric string to identify the aircraft|\n",
    "|**cn/ln**|Serial number of the aircraft|\n",
    "|**Aboard**|Number of people that was on the aircraft|\n",
    "|**Fatalities**|The number of fatalities of the total people aboard|\n",
    "|**Ground**|The distance from the ground when the fatality happened|\n",
    "|**Summary**|A free text field that summarizes and describes the accident|\n",
    "\n",
    "Note that the field \"Registration\" should be unique (per NAA regulations), but after running a SQL query, we found duplicated records.\n",
    "\n",
    "We can also modify the column names to get rid of periods and spaces. The column names should also be lowercased for use with SQLite."
   ]
  },
  {
   "cell_type": "code",
   "execution_count": 3,
   "metadata": {
    "collapsed": false
   },
   "outputs": [
    {
     "name": "stdout",
     "output_type": "stream",
     "text": [
      "Index(['date', 'time', 'location', 'operator', 'flight#', 'route', 'type',\n",
      "       'registration', 'cn/in', 'aboard', 'fatalities', 'ground', 'summary'],\n",
      "      dtype='object')\n"
     ]
    }
   ],
   "source": [
    "# Lowercase and replace periods & spaces in the column names\n",
    "new_names = []\n",
    "\n",
    "for col in df.columns:\n",
    "    new_names.append(col.replace('.', '', len(col)).replace(' ', '', len(col)).lower())\n",
    "\n",
    "df.columns = new_names\n",
    "\n",
    "print(df.columns)"
   ]
  },
  {
   "cell_type": "code",
   "execution_count": 4,
   "metadata": {
    "collapsed": false
   },
   "outputs": [
    {
     "data": {
      "text/plain": [
       "date            5268\n",
       "time            3049\n",
       "location        5248\n",
       "operator        5250\n",
       "flight#         1069\n",
       "route           3562\n",
       "type            5241\n",
       "registration    4933\n",
       "cn/in           4040\n",
       "aboard          5246\n",
       "fatalities      5256\n",
       "ground          5246\n",
       "summary         4878\n",
       "dtype: int64"
      ]
     },
     "execution_count": 4,
     "metadata": {},
     "output_type": "execute_result"
    }
   ],
   "source": [
    "df.count()"
   ]
  },
  {
   "cell_type": "code",
   "execution_count": 5,
   "metadata": {
    "collapsed": false
   },
   "outputs": [
    {
     "data": {
      "text/plain": [
       "68484"
      ]
     },
     "execution_count": 5,
     "metadata": {},
     "output_type": "execute_result"
    }
   ],
   "source": [
    "df.size"
   ]
  },
  {
   "cell_type": "code",
   "execution_count": 6,
   "metadata": {
    "collapsed": false
   },
   "outputs": [
    {
     "name": "stderr",
     "output_type": "stream",
     "text": [
      "//anaconda/lib/python3.5/site-packages/numpy/lib/function_base.py:3834: RuntimeWarning: Invalid value encountered in percentile\n",
      "  RuntimeWarning)\n"
     ]
    },
    {
     "data": {
      "text/html": [
       "<div>\n",
       "<table border=\"1\" class=\"dataframe\">\n",
       "  <thead>\n",
       "    <tr style=\"text-align: right;\">\n",
       "      <th></th>\n",
       "      <th>aboard</th>\n",
       "      <th>fatalities</th>\n",
       "      <th>ground</th>\n",
       "    </tr>\n",
       "  </thead>\n",
       "  <tbody>\n",
       "    <tr>\n",
       "      <th>count</th>\n",
       "      <td>5246.000000</td>\n",
       "      <td>5256.000000</td>\n",
       "      <td>5246.000000</td>\n",
       "    </tr>\n",
       "    <tr>\n",
       "      <th>mean</th>\n",
       "      <td>27.554518</td>\n",
       "      <td>20.068303</td>\n",
       "      <td>1.608845</td>\n",
       "    </tr>\n",
       "    <tr>\n",
       "      <th>std</th>\n",
       "      <td>43.076711</td>\n",
       "      <td>33.199952</td>\n",
       "      <td>53.987827</td>\n",
       "    </tr>\n",
       "    <tr>\n",
       "      <th>min</th>\n",
       "      <td>0.000000</td>\n",
       "      <td>0.000000</td>\n",
       "      <td>0.000000</td>\n",
       "    </tr>\n",
       "    <tr>\n",
       "      <th>25%</th>\n",
       "      <td>NaN</td>\n",
       "      <td>NaN</td>\n",
       "      <td>NaN</td>\n",
       "    </tr>\n",
       "    <tr>\n",
       "      <th>50%</th>\n",
       "      <td>NaN</td>\n",
       "      <td>NaN</td>\n",
       "      <td>NaN</td>\n",
       "    </tr>\n",
       "    <tr>\n",
       "      <th>75%</th>\n",
       "      <td>NaN</td>\n",
       "      <td>NaN</td>\n",
       "      <td>NaN</td>\n",
       "    </tr>\n",
       "    <tr>\n",
       "      <th>max</th>\n",
       "      <td>644.000000</td>\n",
       "      <td>583.000000</td>\n",
       "      <td>2750.000000</td>\n",
       "    </tr>\n",
       "  </tbody>\n",
       "</table>\n",
       "</div>"
      ],
      "text/plain": [
       "            aboard   fatalities       ground\n",
       "count  5246.000000  5256.000000  5246.000000\n",
       "mean     27.554518    20.068303     1.608845\n",
       "std      43.076711    33.199952    53.987827\n",
       "min       0.000000     0.000000     0.000000\n",
       "25%            NaN          NaN          NaN\n",
       "50%            NaN          NaN          NaN\n",
       "75%            NaN          NaN          NaN\n",
       "max     644.000000   583.000000  2750.000000"
      ]
     },
     "execution_count": 6,
     "metadata": {},
     "output_type": "execute_result"
    }
   ],
   "source": [
    "df.describe()"
   ]
  },
  {
   "cell_type": "code",
   "execution_count": 7,
   "metadata": {
    "collapsed": false
   },
   "outputs": [
    {
     "name": "stdout",
     "output_type": "stream",
     "text": [
      "<class 'pandas.core.frame.DataFrame'>\n",
      "RangeIndex: 5268 entries, 0 to 5267\n",
      "Data columns (total 13 columns):\n",
      "date            5268 non-null object\n",
      "time            3049 non-null object\n",
      "location        5248 non-null object\n",
      "operator        5250 non-null object\n",
      "flight#         1069 non-null object\n",
      "route           3562 non-null object\n",
      "type            5241 non-null object\n",
      "registration    4933 non-null object\n",
      "cn/in           4040 non-null object\n",
      "aboard          5246 non-null float64\n",
      "fatalities      5256 non-null float64\n",
      "ground          5246 non-null float64\n",
      "summary         4878 non-null object\n",
      "dtypes: float64(3), object(10)\n",
      "memory usage: 535.1+ KB\n"
     ]
    }
   ],
   "source": [
    "df.info()"
   ]
  },
  {
   "cell_type": "markdown",
   "metadata": {},
   "source": [
    "We can see that the above numeric variables (aboard, fatalities, ground) have missing data (per NaN values), so will create a new dataset without missing values."
   ]
  },
  {
   "cell_type": "markdown",
   "metadata": {},
   "source": [
    "### Next, load the data into SQL\n",
    "\n",
    "First we'll need to create a database, then create a table in our new database."
   ]
  },
  {
   "cell_type": "code",
   "execution_count": 8,
   "metadata": {
    "collapsed": false
   },
   "outputs": [
    {
     "name": "stderr",
     "output_type": "stream",
     "text": [
      "//anaconda/lib/python3.5/site-packages/IPython/config.py:13: ShimWarning: The `IPython.config` package has been deprecated. You should import from traitlets.config instead.\n",
      "  \"You should import from traitlets.config instead.\", ShimWarning)\n",
      "//anaconda/lib/python3.5/site-packages/IPython/utils/traitlets.py:5: UserWarning: IPython.utils.traitlets has moved to a top-level traitlets package.\n",
      "  warn(\"IPython.utils.traitlets has moved to a top-level traitlets package.\")\n"
     ]
    }
   ],
   "source": [
    "%load_ext sql"
   ]
  },
  {
   "cell_type": "code",
   "execution_count": 9,
   "metadata": {
    "collapsed": false
   },
   "outputs": [
    {
     "data": {
      "text/plain": [
       "'Connected: None@None'"
      ]
     },
     "execution_count": 9,
     "metadata": {},
     "output_type": "execute_result"
    }
   ],
   "source": [
    "%sql sqlite://"
   ]
  },
  {
   "cell_type": "code",
   "execution_count": 10,
   "metadata": {
    "collapsed": false
   },
   "outputs": [
    {
     "name": "stdout",
     "output_type": "stream",
     "text": [
      "Done.\n"
     ]
    },
    {
     "data": {
      "text/plain": [
       "[]"
      ]
     },
     "execution_count": 10,
     "metadata": {},
     "output_type": "execute_result"
    }
   ],
   "source": [
    "%%sql\n",
    "DROP TABLE IF EXISTS air_crashes;"
   ]
  },
  {
   "cell_type": "code",
   "execution_count": 11,
   "metadata": {
    "collapsed": false
   },
   "outputs": [],
   "source": [
    "if len(df) == 0:\n",
    "    engine = create_engine('sqlite:///air_crashes.db')\n",
    "    conn = engine.connect()\n",
    "    df.to_sql('air_crashes', conn)"
   ]
  },
  {
   "cell_type": "code",
   "execution_count": 12,
   "metadata": {
    "collapsed": false
   },
   "outputs": [
    {
     "data": {
      "text/plain": [
       "'Connected: None@air_crashes.db'"
      ]
     },
     "execution_count": 12,
     "metadata": {},
     "output_type": "execute_result"
    }
   ],
   "source": [
    "%sql sqlite:///air_crashes.db"
   ]
  },
  {
   "cell_type": "code",
   "execution_count": 13,
   "metadata": {
    "collapsed": false
   },
   "outputs": [
    {
     "name": "stdout",
     "output_type": "stream",
     "text": [
      "Done.\n"
     ]
    },
    {
     "data": {
      "text/html": [
       "<table>\n",
       "    <tr>\n",
       "        <th>name</th>\n",
       "    </tr>\n",
       "    <tr>\n",
       "        <td>air_crashes</td>\n",
       "    </tr>\n",
       "</table>"
      ],
      "text/plain": [
       "[('air_crashes',)]"
      ]
     },
     "execution_count": 13,
     "metadata": {},
     "output_type": "execute_result"
    }
   ],
   "source": [
    "%%sql\n",
    "SELECT name FROM sqlite_master WHERE type = \"table\";"
   ]
  },
  {
   "cell_type": "code",
   "execution_count": 14,
   "metadata": {
    "collapsed": false
   },
   "outputs": [
    {
     "name": "stdout",
     "output_type": "stream",
     "text": [
      "Done.\n"
     ]
    }
   ],
   "source": [
    "# Reload the data, but skip rows where type, location, aboard, fatalities, ground, date and time is NULL\n",
    "df_not_null = %sql SELECT * FROM air_crashes WHERE type IS NOT NULL AND location IS NOT NULL AND aboard IS NOT NULL AND fatalities IS NOT NULL AND ground IS NOT NULL AND date IS NOT NULL AND time IS NOT NULL;\n",
    "df = df_not_null.DataFrame()"
   ]
  },
  {
   "cell_type": "code",
   "execution_count": 15,
   "metadata": {
    "collapsed": true
   },
   "outputs": [],
   "source": [
    "# Date column is not datetime format, so we format it appropiately.\n",
    "df['date'] = pd.to_datetime(df['date'])"
   ]
  },
  {
   "cell_type": "code",
   "execution_count": 16,
   "metadata": {
    "collapsed": false
   },
   "outputs": [
    {
     "name": "stdout",
     "output_type": "stream",
     "text": [
      "<class 'pandas.core.frame.DataFrame'>\n",
      "RangeIndex: 3042 entries, 0 to 3041\n",
      "Data columns (total 14 columns):\n",
      "index           3042 non-null int64\n",
      "date            3042 non-null datetime64[ns]\n",
      "time            3042 non-null object\n",
      "location        3042 non-null object\n",
      "operator        3039 non-null object\n",
      "flight#         996 non-null object\n",
      "route           2566 non-null object\n",
      "type            3042 non-null object\n",
      "registration    2946 non-null object\n",
      "cn/in           2440 non-null object\n",
      "aboard          3042 non-null float64\n",
      "fatalities      3042 non-null float64\n",
      "ground          3042 non-null float64\n",
      "summary         3026 non-null object\n",
      "dtypes: datetime64[ns](1), float64(3), int64(1), object(9)\n",
      "memory usage: 332.8+ KB\n"
     ]
    }
   ],
   "source": [
    "df.info()"
   ]
  },
  {
   "cell_type": "code",
   "execution_count": 17,
   "metadata": {
    "collapsed": false
   },
   "outputs": [
    {
     "data": {
      "text/html": [
       "<div>\n",
       "<table border=\"1\" class=\"dataframe\">\n",
       "  <thead>\n",
       "    <tr style=\"text-align: right;\">\n",
       "      <th></th>\n",
       "      <th>index</th>\n",
       "      <th>aboard</th>\n",
       "      <th>fatalities</th>\n",
       "      <th>ground</th>\n",
       "    </tr>\n",
       "  </thead>\n",
       "  <tbody>\n",
       "    <tr>\n",
       "      <th>count</th>\n",
       "      <td>3042.000000</td>\n",
       "      <td>3042.000000</td>\n",
       "      <td>3042.000000</td>\n",
       "      <td>3042.000000</td>\n",
       "    </tr>\n",
       "    <tr>\n",
       "      <th>mean</th>\n",
       "      <td>3032.580210</td>\n",
       "      <td>34.038133</td>\n",
       "      <td>24.760026</td>\n",
       "      <td>2.601907</td>\n",
       "    </tr>\n",
       "    <tr>\n",
       "      <th>std</th>\n",
       "      <td>1458.323473</td>\n",
       "      <td>51.708634</td>\n",
       "      <td>40.529903</td>\n",
       "      <td>70.833732</td>\n",
       "    </tr>\n",
       "    <tr>\n",
       "      <th>min</th>\n",
       "      <td>0.000000</td>\n",
       "      <td>0.000000</td>\n",
       "      <td>0.000000</td>\n",
       "      <td>0.000000</td>\n",
       "    </tr>\n",
       "    <tr>\n",
       "      <th>25%</th>\n",
       "      <td>1836.250000</td>\n",
       "      <td>5.000000</td>\n",
       "      <td>3.000000</td>\n",
       "      <td>0.000000</td>\n",
       "    </tr>\n",
       "    <tr>\n",
       "      <th>50%</th>\n",
       "      <td>3091.500000</td>\n",
       "      <td>16.000000</td>\n",
       "      <td>10.000000</td>\n",
       "      <td>0.000000</td>\n",
       "    </tr>\n",
       "    <tr>\n",
       "      <th>75%</th>\n",
       "      <td>4377.750000</td>\n",
       "      <td>39.000000</td>\n",
       "      <td>27.000000</td>\n",
       "      <td>0.000000</td>\n",
       "    </tr>\n",
       "    <tr>\n",
       "      <th>max</th>\n",
       "      <td>5266.000000</td>\n",
       "      <td>644.000000</td>\n",
       "      <td>583.000000</td>\n",
       "      <td>2750.000000</td>\n",
       "    </tr>\n",
       "  </tbody>\n",
       "</table>\n",
       "</div>"
      ],
      "text/plain": [
       "             index       aboard   fatalities       ground\n",
       "count  3042.000000  3042.000000  3042.000000  3042.000000\n",
       "mean   3032.580210    34.038133    24.760026     2.601907\n",
       "std    1458.323473    51.708634    40.529903    70.833732\n",
       "min       0.000000     0.000000     0.000000     0.000000\n",
       "25%    1836.250000     5.000000     3.000000     0.000000\n",
       "50%    3091.500000    16.000000    10.000000     0.000000\n",
       "75%    4377.750000    39.000000    27.000000     0.000000\n",
       "max    5266.000000   644.000000   583.000000  2750.000000"
      ]
     },
     "execution_count": 17,
     "metadata": {},
     "output_type": "execute_result"
    }
   ],
   "source": [
    "df.describe()"
   ]
  },
  {
   "cell_type": "code",
   "execution_count": 18,
   "metadata": {
    "collapsed": true
   },
   "outputs": [],
   "source": [
    "df.insert(1,'year', df['date'].apply(lambda x: x.year))\n",
    "df.insert(2,'month', df['date'].apply(lambda x: x.month))\n",
    "df.insert(3,'dayofweek', df['date'].apply(lambda x: x.dayofweek))\n",
    "df.insert(4,'hour', df['time'].str[:2])"
   ]
  },
  {
   "cell_type": "code",
   "execution_count": 19,
   "metadata": {
    "collapsed": false
   },
   "outputs": [
    {
     "data": {
      "text/html": [
       "<div>\n",
       "<table border=\"1\" class=\"dataframe\">\n",
       "  <thead>\n",
       "    <tr style=\"text-align: right;\">\n",
       "      <th></th>\n",
       "      <th>index</th>\n",
       "      <th>year</th>\n",
       "      <th>month</th>\n",
       "      <th>dayofweek</th>\n",
       "      <th>hour</th>\n",
       "      <th>date</th>\n",
       "      <th>time</th>\n",
       "      <th>location</th>\n",
       "      <th>operator</th>\n",
       "      <th>flight#</th>\n",
       "      <th>route</th>\n",
       "      <th>type</th>\n",
       "      <th>registration</th>\n",
       "      <th>cn/in</th>\n",
       "      <th>aboard</th>\n",
       "      <th>fatalities</th>\n",
       "      <th>ground</th>\n",
       "      <th>summary</th>\n",
       "    </tr>\n",
       "  </thead>\n",
       "  <tbody>\n",
       "    <tr>\n",
       "      <th>0</th>\n",
       "      <td>0</td>\n",
       "      <td>1908</td>\n",
       "      <td>9</td>\n",
       "      <td>3</td>\n",
       "      <td>17</td>\n",
       "      <td>1908-09-17</td>\n",
       "      <td>17:18</td>\n",
       "      <td>Fort Myer, Virginia</td>\n",
       "      <td>Military - U.S. Army</td>\n",
       "      <td>None</td>\n",
       "      <td>Demonstration</td>\n",
       "      <td>Wright Flyer III</td>\n",
       "      <td>None</td>\n",
       "      <td>1</td>\n",
       "      <td>2.0</td>\n",
       "      <td>1.0</td>\n",
       "      <td>0.0</td>\n",
       "      <td>During a demonstration flight, a U.S. Army fly...</td>\n",
       "    </tr>\n",
       "    <tr>\n",
       "      <th>1</th>\n",
       "      <td>1</td>\n",
       "      <td>1912</td>\n",
       "      <td>7</td>\n",
       "      <td>4</td>\n",
       "      <td>06</td>\n",
       "      <td>1912-07-12</td>\n",
       "      <td>06:30</td>\n",
       "      <td>AtlantiCity, New Jersey</td>\n",
       "      <td>Military - U.S. Navy</td>\n",
       "      <td>None</td>\n",
       "      <td>Test flight</td>\n",
       "      <td>Dirigible</td>\n",
       "      <td>None</td>\n",
       "      <td>None</td>\n",
       "      <td>5.0</td>\n",
       "      <td>5.0</td>\n",
       "      <td>0.0</td>\n",
       "      <td>First U.S. dirigible Akron exploded just offsh...</td>\n",
       "    </tr>\n",
       "    <tr>\n",
       "      <th>2</th>\n",
       "      <td>3</td>\n",
       "      <td>1913</td>\n",
       "      <td>9</td>\n",
       "      <td>1</td>\n",
       "      <td>18</td>\n",
       "      <td>1913-09-09</td>\n",
       "      <td>18:30</td>\n",
       "      <td>Over the North Sea</td>\n",
       "      <td>Military - German Navy</td>\n",
       "      <td>None</td>\n",
       "      <td>None</td>\n",
       "      <td>Zeppelin L-1 (airship)</td>\n",
       "      <td>None</td>\n",
       "      <td>None</td>\n",
       "      <td>20.0</td>\n",
       "      <td>14.0</td>\n",
       "      <td>0.0</td>\n",
       "      <td>The airship flew into a thunderstorm and encou...</td>\n",
       "    </tr>\n",
       "    <tr>\n",
       "      <th>3</th>\n",
       "      <td>4</td>\n",
       "      <td>1913</td>\n",
       "      <td>10</td>\n",
       "      <td>4</td>\n",
       "      <td>10</td>\n",
       "      <td>1913-10-17</td>\n",
       "      <td>10:30</td>\n",
       "      <td>Near Johannisthal, Germany</td>\n",
       "      <td>Military - German Navy</td>\n",
       "      <td>None</td>\n",
       "      <td>None</td>\n",
       "      <td>Zeppelin L-2 (airship)</td>\n",
       "      <td>None</td>\n",
       "      <td>None</td>\n",
       "      <td>30.0</td>\n",
       "      <td>30.0</td>\n",
       "      <td>0.0</td>\n",
       "      <td>Hydrogen gas which was being vented was sucked...</td>\n",
       "    </tr>\n",
       "    <tr>\n",
       "      <th>4</th>\n",
       "      <td>5</td>\n",
       "      <td>1915</td>\n",
       "      <td>3</td>\n",
       "      <td>4</td>\n",
       "      <td>01</td>\n",
       "      <td>1915-03-05</td>\n",
       "      <td>01:00</td>\n",
       "      <td>Tienen, Belgium</td>\n",
       "      <td>Military - German Navy</td>\n",
       "      <td>None</td>\n",
       "      <td>None</td>\n",
       "      <td>Zeppelin L-8 (airship)</td>\n",
       "      <td>None</td>\n",
       "      <td>None</td>\n",
       "      <td>41.0</td>\n",
       "      <td>21.0</td>\n",
       "      <td>0.0</td>\n",
       "      <td>Crashed into trees while attempting to land af...</td>\n",
       "    </tr>\n",
       "  </tbody>\n",
       "</table>\n",
       "</div>"
      ],
      "text/plain": [
       "   index  year  month  dayofweek hour       date   time  \\\n",
       "0      0  1908      9          3   17 1908-09-17  17:18   \n",
       "1      1  1912      7          4   06 1912-07-12  06:30   \n",
       "2      3  1913      9          1   18 1913-09-09  18:30   \n",
       "3      4  1913     10          4   10 1913-10-17  10:30   \n",
       "4      5  1915      3          4   01 1915-03-05  01:00   \n",
       "\n",
       "                     location                operator flight#          route  \\\n",
       "0         Fort Myer, Virginia    Military - U.S. Army    None  Demonstration   \n",
       "1     AtlantiCity, New Jersey    Military - U.S. Navy    None    Test flight   \n",
       "2          Over the North Sea  Military - German Navy    None           None   \n",
       "3  Near Johannisthal, Germany  Military - German Navy    None           None   \n",
       "4             Tienen, Belgium  Military - German Navy    None           None   \n",
       "\n",
       "                     type registration cn/in  aboard  fatalities  ground  \\\n",
       "0        Wright Flyer III         None     1     2.0         1.0     0.0   \n",
       "1               Dirigible         None  None     5.0         5.0     0.0   \n",
       "2  Zeppelin L-1 (airship)         None  None    20.0        14.0     0.0   \n",
       "3  Zeppelin L-2 (airship)         None  None    30.0        30.0     0.0   \n",
       "4  Zeppelin L-8 (airship)         None  None    41.0        21.0     0.0   \n",
       "\n",
       "                                             summary  \n",
       "0  During a demonstration flight, a U.S. Army fly...  \n",
       "1  First U.S. dirigible Akron exploded just offsh...  \n",
       "2  The airship flew into a thunderstorm and encou...  \n",
       "3  Hydrogen gas which was being vented was sucked...  \n",
       "4  Crashed into trees while attempting to land af...  "
      ]
     },
     "execution_count": 19,
     "metadata": {},
     "output_type": "execute_result"
    }
   ],
   "source": [
    "df.head()"
   ]
  },
  {
   "cell_type": "markdown",
   "metadata": {},
   "source": [
    "## Hypothesis Testing"
   ]
  },
  {
   "cell_type": "markdown",
   "metadata": {},
   "source": [
    "We will be using a significance level of 0.05"
   ]
  },
  {
   "cell_type": "code",
   "execution_count": 20,
   "metadata": {
    "collapsed": true
   },
   "outputs": [],
   "source": [
    "antonov_df = df[df['type'].str[:3] == ('Ant')]"
   ]
  },
  {
   "cell_type": "code",
   "execution_count": 21,
   "metadata": {
    "collapsed": true
   },
   "outputs": [],
   "source": [
    "airbus_df = df[df['type'].str[:6] == ('Airbus')]"
   ]
  },
  {
   "cell_type": "code",
   "execution_count": 22,
   "metadata": {
    "collapsed": false
   },
   "outputs": [],
   "source": [
    "boeing_df = df[df['type'].str[:6] == ('Boeing')]"
   ]
  },
  {
   "cell_type": "markdown",
   "metadata": {},
   "source": [
    "#### The aircraft manufacturer Antonov claims the fatalities in their airplanes is less than 22 passengers.\n",
    "\n",
    "We want to know if the number of fatalities is more than 22.\n",
    "\n",
    "$H_0: \\mu <= 22$\n",
    "\n",
    "$H_a: \\mu > 22$"
   ]
  },
  {
   "cell_type": "markdown",
   "metadata": {},
   "source": [
    "$t_{stat} = \\frac{\\bar{X} - \\mu_0}{s/ \\sqrt{n}} $"
   ]
  },
  {
   "cell_type": "code",
   "execution_count": 23,
   "metadata": {
    "collapsed": false
   },
   "outputs": [
    {
     "data": {
      "text/plain": [
       "1.236639642819578"
      ]
     },
     "execution_count": 23,
     "metadata": {},
     "output_type": "execute_result"
    }
   ],
   "source": [
    "t_stat_antonov = (antonov_df.fatalities.mean() - 22)/(antonov_df.fatalities.std()/len(antonov_df)**0.5)\n",
    "t_stat_antonov"
   ]
  },
  {
   "cell_type": "code",
   "execution_count": 24,
   "metadata": {
    "collapsed": false
   },
   "outputs": [
    {
     "data": {
      "text/plain": [
       "0.89053580997718673"
      ]
     },
     "execution_count": 24,
     "metadata": {},
     "output_type": "execute_result"
    }
   ],
   "source": [
    "p_value_antonov = stats.t(len(antonov_df)-1).cdf(t_stat_antonov)\n",
    "p_value_antonov"
   ]
  },
  {
   "cell_type": "markdown",
   "metadata": {},
   "source": [
    "The p-value is more than 0.05, therefore, we fail to reject the null hypothesis. There's no enough evidence to support that the fatalities in an aircraft manufactured by Antonov is more than 22."
   ]
  },
  {
   "cell_type": "markdown",
   "metadata": {},
   "source": [
    "A Type I error would be to claim that the Antonov aircraft have more than 22 fatalities, when they have less.\n",
    "\n",
    "A Type II error would be to claim that the Antonov aircraft have less than 22 fatalities, when they have more."
   ]
  },
  {
   "cell_type": "markdown",
   "metadata": {},
   "source": [
    "#### The aircraft manufacturer Airbus claims the fatalities in their airplanes is less than 20%.\n",
    "\n",
    "We want to know if the number of fatalities is more than 20%.\n",
    "\n",
    "$H_0: p <= 20$%\n",
    "\n",
    "$H_a: p > 20$%"
   ]
  },
  {
   "cell_type": "code",
   "execution_count": 25,
   "metadata": {
    "collapsed": true
   },
   "outputs": [],
   "source": [
    "percent_fatalities = airbus_df.fatalities/airbus_df.aboard"
   ]
  },
  {
   "cell_type": "code",
   "execution_count": 26,
   "metadata": {
    "collapsed": false
   },
   "outputs": [
    {
     "data": {
      "text/plain": [
       "6.022520746991066"
      ]
     },
     "execution_count": 26,
     "metadata": {},
     "output_type": "execute_result"
    }
   ],
   "source": [
    "z_stat_airbus = (percent_fatalities.mean() - 0.20)/((0.20 * (1 - 0.20)/len(percent_fatalities)))**0.5\n",
    "z_stat_airbus"
   ]
  },
  {
   "cell_type": "code",
   "execution_count": 27,
   "metadata": {
    "collapsed": false
   },
   "outputs": [
    {
     "data": {
      "text/plain": [
       "0.99999999914139326"
      ]
     },
     "execution_count": 27,
     "metadata": {},
     "output_type": "execute_result"
    }
   ],
   "source": [
    "p_value_airbus = stats.norm.cdf(z_stat_airbus)\n",
    "p_value_airbus"
   ]
  },
  {
   "cell_type": "markdown",
   "metadata": {},
   "source": [
    "The p-value is more than 0.05, therefore, we fail to reject the null hypothesis. There's no enough evidence to support that the percentage of fatalities in an aircraft manufactured by Airbus is more than 20%."
   ]
  },
  {
   "cell_type": "markdown",
   "metadata": {},
   "source": [
    "A Type I error would be to claim that the Airbus aircraft have more than 20% fatalities, when they have less.\n",
    "\n",
    "A Type II error would be to claim that the Airbys aircraft have less than 20% fatalities, when they have more."
   ]
  },
  {
   "cell_type": "code",
   "execution_count": 28,
   "metadata": {
    "collapsed": false
   },
   "outputs": [
    {
     "data": {
      "text/plain": [
       "(60.832752613240416, 75.68392066081435, 287)"
      ]
     },
     "execution_count": 28,
     "metadata": {},
     "output_type": "execute_result"
    }
   ],
   "source": [
    "boeing_average_fatalities = boeing_df.fatalities.mean()\n",
    "boeing_std_deviation_fatalities = boeing_df.fatalities.std()\n",
    "boeing_sample = len(boeing_df)\n",
    "boeing_average_fatalities, boeing_std_deviation_fatalities, boeing_sample"
   ]
  },
  {
   "cell_type": "markdown",
   "metadata": {},
   "source": [
    "#### Boeing claims that the average fatalities for their airplanes is more than 60. To test the claim, a random sample of 287 flights showed an average of 60.83 fatalities, with a standard deviation s of 75.68.  The FFA claims that average fatalities for Boeing is 70, what is the power of the test?"
   ]
  },
  {
   "cell_type": "code",
   "execution_count": 29,
   "metadata": {
    "collapsed": false
   },
   "outputs": [
    {
     "name": "stdout",
     "output_type": "stream",
     "text": [
      "The power of the test is: 0.0205401984833\n"
     ]
    }
   ],
   "source": [
    "print(\"The power of the test is:\",stats.t(287-1).cdf((boeing_average_fatalities - 70)/(boeing_std_deviation_fatalities /287**0.5)))"
   ]
  },
  {
   "cell_type": "markdown",
   "metadata": {},
   "source": [
    "#### There's no difference in the number of fatalities for aircrafts Airbus and Boeing.\n",
    "\n",
    "We want to know if they are different.\n",
    "\n",
    "$H_0: \\mu_1 = \\mu_2 \\text{ or } \\mu_1 - \\mu_2 = 0$  \n",
    "\n",
    "$H_a: \\mu_1 \\neq \\mu_2 \\text{ or } \\mu_1 - \\mu_2 \\neq 0$"
   ]
  },
  {
   "cell_type": "code",
   "execution_count": 30,
   "metadata": {
    "collapsed": false
   },
   "outputs": [
    {
     "data": {
      "text/plain": [
       "Ttest_indResult(statistic=2.2072303579014232, pvalue=0.028014126502163825)"
      ]
     },
     "execution_count": 30,
     "metadata": {},
     "output_type": "execute_result"
    }
   ],
   "source": [
    "stats.ttest_ind_from_stats(airbus_df.fatalities.mean(),airbus_df.fatalities.std(),airbus_df.fatalities.count(),boeing_df.fatalities.mean(),boeing_df.fatalities.std(),boeing_df.fatalities.count())"
   ]
  },
  {
   "cell_type": "markdown",
   "metadata": {},
   "source": [
    "The p-value is less than 0.05, therefore we reject the null hypothesis. There's enough evidence to conclude that the average fatalities for Airbus and Boeing is different."
   ]
  },
  {
   "cell_type": "markdown",
   "metadata": {},
   "source": [
    "### Are the fatalities independent of aircraft type Antonov, Airbus and Boeing?\n",
    "\n",
    "$H_0$: fatalities are independent from aircraft type (Antonov, Airbus or Boeing).\n",
    "\n",
    "$H_a$: fatalities are dependent from aircraft type (Antonov, Airbus or Boeing)."
   ]
  },
  {
   "cell_type": "code",
   "execution_count": 31,
   "metadata": {
    "collapsed": false
   },
   "outputs": [
    {
     "data": {
      "text/html": [
       "<div>\n",
       "<table border=\"1\" class=\"dataframe\">\n",
       "  <thead>\n",
       "    <tr style=\"text-align: right;\">\n",
       "      <th></th>\n",
       "      <th>Antonov</th>\n",
       "      <th>Airbus</th>\n",
       "      <th>Boeing</th>\n",
       "    </tr>\n",
       "  </thead>\n",
       "  <tbody>\n",
       "    <tr>\n",
       "      <th>Fatalities</th>\n",
       "      <td>NaN</td>\n",
       "      <td>NaN</td>\n",
       "      <td>NaN</td>\n",
       "    </tr>\n",
       "  </tbody>\n",
       "</table>\n",
       "</div>"
      ],
      "text/plain": [
       "           Antonov Airbus Boeing\n",
       "Fatalities     NaN    NaN    NaN"
      ]
     },
     "execution_count": 31,
     "metadata": {},
     "output_type": "execute_result"
    }
   ],
   "source": [
    "accidents_df = pd.DataFrame(index=['Fatalities'], columns=['Antonov','Airbus','Boeing'])\n",
    "accidents_df.head()"
   ]
  },
  {
   "cell_type": "code",
   "execution_count": 32,
   "metadata": {
    "collapsed": false
   },
   "outputs": [],
   "source": [
    "accidents_df['Antonov'] = [antonov_df.fatalities.sum()]\n",
    "accidents_df['Airbus'] = [airbus_df.fatalities.sum()]\n",
    "accidents_df['Boeing'] = [boeing_df.fatalities.sum()]"
   ]
  },
  {
   "cell_type": "code",
   "execution_count": 33,
   "metadata": {
    "collapsed": false
   },
   "outputs": [
    {
     "data": {
      "text/html": [
       "<div>\n",
       "<table border=\"1\" class=\"dataframe\">\n",
       "  <thead>\n",
       "    <tr style=\"text-align: right;\">\n",
       "      <th></th>\n",
       "      <th>Antonov</th>\n",
       "      <th>Airbus</th>\n",
       "      <th>Boeing</th>\n",
       "    </tr>\n",
       "  </thead>\n",
       "  <tbody>\n",
       "    <tr>\n",
       "      <th>Fatalities</th>\n",
       "      <td>2645.0</td>\n",
       "      <td>2971.0</td>\n",
       "      <td>17459.0</td>\n",
       "    </tr>\n",
       "  </tbody>\n",
       "</table>\n",
       "</div>"
      ],
      "text/plain": [
       "            Antonov  Airbus   Boeing\n",
       "Fatalities   2645.0  2971.0  17459.0"
      ]
     },
     "execution_count": 33,
     "metadata": {},
     "output_type": "execute_result"
    }
   ],
   "source": [
    "accidents_df"
   ]
  },
  {
   "cell_type": "code",
   "execution_count": 34,
   "metadata": {
    "collapsed": false
   },
   "outputs": [
    {
     "data": {
      "text/plain": [
       "array([  2645.,   2971.,  17459.])"
      ]
     },
     "execution_count": 34,
     "metadata": {},
     "output_type": "execute_result"
    }
   ],
   "source": [
    "# In order to pass the dataframe data into stats.chisquare, IT NEEDS TO BE CONVERTED FROM PANDAS\n",
    "# DATAFRAME INTO NUMPY ARRAY OR LIST.\n",
    "fatalities_total_array = np.asarray(accidents_df.ix[0,:])\n",
    "fatalities_total_array"
   ]
  },
  {
   "cell_type": "code",
   "execution_count": 35,
   "metadata": {
    "collapsed": false
   },
   "outputs": [
    {
     "data": {
      "text/plain": [
       "[7691.666666666667, 7691.666666666667, 7691.666666666667]"
      ]
     },
     "execution_count": 35,
     "metadata": {},
     "output_type": "execute_result"
    }
   ],
   "source": [
    "expected_fatalities = [accidents_df.sum().sum()/3]*3\n",
    "expected_fatalities"
   ]
  },
  {
   "cell_type": "code",
   "execution_count": 36,
   "metadata": {
    "collapsed": false
   },
   "outputs": [
    {
     "data": {
      "text/plain": [
       "Power_divergenceResult(statistic=18611.61499458288, pvalue=0.0)"
      ]
     },
     "execution_count": 36,
     "metadata": {},
     "output_type": "execute_result"
    }
   ],
   "source": [
    "stats.chisquare(fatalities_total_array, expected_fatalities)"
   ]
  },
  {
   "cell_type": "markdown",
   "metadata": {},
   "source": [
    "The p-value is less than 0.05, therefore we reject the null hypothesis that aircraft fatalities is independent from the aircraft type (Antonov, Airbus, Boeing)."
   ]
  },
  {
   "cell_type": "markdown",
   "metadata": {},
   "source": [
    "## Linear Regression"
   ]
  },
  {
   "cell_type": "markdown",
   "metadata": {},
   "source": [
    "#### Simple Regression"
   ]
  },
  {
   "cell_type": "code",
   "execution_count": 37,
   "metadata": {
    "collapsed": false
   },
   "outputs": [
    {
     "data": {
      "image/png": "[encoded data removed]",
      "text/plain": [
       "<matplotlib.figure.Figure at 0x1180cfef0>"
      ]
     },
     "metadata": {},
     "output_type": "display_data"
    }
   ],
   "source": [
    "df.plot('fatalities', 'aboard', kind='scatter');"
   ]
  },
  {
   "cell_type": "code",
   "execution_count": 38,
   "metadata": {
    "collapsed": false
   },
   "outputs": [
    {
     "data": {
      "image/png": "[encoded data removed]",
      "text/plain": [
       "<matplotlib.figure.Figure at 0x11b56ba58>"
      ]
     },
     "metadata": {},
     "output_type": "display_data"
    }
   ],
   "source": [
    "sns.lmplot(x='fatalities', y='aboard', data=df, aspect=1.5);"
   ]
  },
  {
   "cell_type": "code",
   "execution_count": 39,
   "metadata": {
    "collapsed": false
   },
   "outputs": [
    {
     "data": {
      "text/html": [
       "<table class=\"simpletable\">\n",
       "<caption>OLS Regression Results</caption>\n",
       "<tr>\n",
       "  <th>Dep. Variable:</th>       <td>fatalities</td>    <th>  R-squared:         </th> <td>   0.584</td> \n",
       "</tr>\n",
       "<tr>\n",
       "  <th>Model:</th>                   <td>OLS</td>       <th>  Adj. R-squared:    </th> <td>   0.584</td> \n",
       "</tr>\n",
       "<tr>\n",
       "  <th>Method:</th>             <td>Least Squares</td>  <th>  F-statistic:       </th> <td>   4264.</td> \n",
       "</tr>\n",
       "<tr>\n",
       "  <th>Date:</th>             <td>Thu, 06 Oct 2016</td> <th>  Prob (F-statistic):</th>  <td>  0.00</td>  \n",
       "</tr>\n",
       "<tr>\n",
       "  <th>Time:</th>                 <td>14:41:21</td>     <th>  Log-Likelihood:    </th> <td> -14244.</td> \n",
       "</tr>\n",
       "<tr>\n",
       "  <th>No. Observations:</th>      <td>  3042</td>      <th>  AIC:               </th> <td>2.849e+04</td>\n",
       "</tr>\n",
       "<tr>\n",
       "  <th>Df Residuals:</th>          <td>  3040</td>      <th>  BIC:               </th> <td>2.850e+04</td>\n",
       "</tr>\n",
       "<tr>\n",
       "  <th>Df Model:</th>              <td>     1</td>      <th>                     </th>     <td> </td>    \n",
       "</tr>\n",
       "<tr>\n",
       "  <th>Covariance Type:</th>      <td>nonrobust</td>    <th>                     </th>     <td> </td>    \n",
       "</tr>\n",
       "</table>\n",
       "<table class=\"simpletable\">\n",
       "<tr>\n",
       "     <td></td>       <th>coef</th>     <th>std err</th>      <th>t</th>      <th>P>|t|</th> <th>[95.0% Conf. Int.]</th> \n",
       "</tr>\n",
       "<tr>\n",
       "  <th>const</th>  <td>    4.3750</td> <td>    0.568</td> <td>    7.707</td> <td> 0.000</td> <td>    3.262     5.488</td>\n",
       "</tr>\n",
       "<tr>\n",
       "  <th>aboard</th> <td>    0.5989</td> <td>    0.009</td> <td>   65.301</td> <td> 0.000</td> <td>    0.581     0.617</td>\n",
       "</tr>\n",
       "</table>\n",
       "<table class=\"simpletable\">\n",
       "<tr>\n",
       "  <th>Omnibus:</th>       <td>1905.060</td> <th>  Durbin-Watson:     </th> <td>   2.037</td> \n",
       "</tr>\n",
       "<tr>\n",
       "  <th>Prob(Omnibus):</th>  <td> 0.000</td>  <th>  Jarque-Bera (JB):  </th> <td>90158.374</td>\n",
       "</tr>\n",
       "<tr>\n",
       "  <th>Skew:</th>           <td>-2.321</td>  <th>  Prob(JB):          </th> <td>    0.00</td> \n",
       "</tr>\n",
       "<tr>\n",
       "  <th>Kurtosis:</th>       <td>29.263</td>  <th>  Cond. No.          </th> <td>    74.1</td> \n",
       "</tr>\n",
       "</table>"
      ],
      "text/plain": [
       "<class 'statsmodels.iolib.summary.Summary'>\n",
       "\"\"\"\n",
       "                            OLS Regression Results                            \n",
       "==============================================================================\n",
       "Dep. Variable:             fatalities   R-squared:                       0.584\n",
       "Model:                            OLS   Adj. R-squared:                  0.584\n",
       "Method:                 Least Squares   F-statistic:                     4264.\n",
       "Date:                Thu, 06 Oct 2016   Prob (F-statistic):               0.00\n",
       "Time:                        14:41:21   Log-Likelihood:                -14244.\n",
       "No. Observations:                3042   AIC:                         2.849e+04\n",
       "Df Residuals:                    3040   BIC:                         2.850e+04\n",
       "Df Model:                           1                                         \n",
       "Covariance Type:            nonrobust                                         \n",
       "==============================================================================\n",
       "                 coef    std err          t      P>|t|      [95.0% Conf. Int.]\n",
       "------------------------------------------------------------------------------\n",
       "const          4.3750      0.568      7.707      0.000         3.262     5.488\n",
       "aboard         0.5989      0.009     65.301      0.000         0.581     0.617\n",
       "==============================================================================\n",
       "Omnibus:                     1905.060   Durbin-Watson:                   2.037\n",
       "Prob(Omnibus):                  0.000   Jarque-Bera (JB):            90158.374\n",
       "Skew:                          -2.321   Prob(JB):                         0.00\n",
       "Kurtosis:                      29.263   Cond. No.                         74.1\n",
       "==============================================================================\n",
       "\n",
       "Warnings:\n",
       "[1] Standard Errors assume that the covariance matrix of the errors is correctly specified.\n",
       "\"\"\""
      ]
     },
     "execution_count": 39,
     "metadata": {},
     "output_type": "execute_result"
    }
   ],
   "source": [
    "X_one = df.aboard\n",
    "X_one = sm.add_constant(X_one)\n",
    "y_one = df.fatalities\n",
    "\n",
    "model_one = sm.OLS(y_one, X_one)\n",
    "results_one = model_one.fit()\n",
    "results_one.summary()"
   ]
  },
  {
   "cell_type": "markdown",
   "metadata": {},
   "source": [
    "$\\hat{fatalities} = 4.3750 + aboard * 0.5989$"
   ]
  },
  {
   "cell_type": "markdown",
   "metadata": {},
   "source": [
    "#### Interpreting $R^2$:\n",
    "\n",
    "The percentage of the variation in y (fatalities) can be explained by the corresponding variation in X (passengers aboard) and the least-squares line is 58.4%, and the unexplained percentage of variation is 100% – 58.4% = 41.6%.\n",
    "\n",
    "#### Interpreting the model:\n",
    "\n",
    "For every unit of increase of passengers aboard, fatalities increase by 0.5989.\n",
    "\n",
    "#### Hypothesis testing:\n",
    "\n",
    "Using a significance level of 0.05.\n",
    "\n",
    "$H_0: \\beta_1 = 0$\n",
    "\n",
    "$H_a: \\beta_1 \\neq 0$\n",
    "\n",
    "The F-statistic of the model is 4264 and the p-value is 0. \n",
    "\n",
    "Since the p-value is less than 0.05, so reject the null hypothesis and conclude that the coefficient of passengers aboard is significant."
   ]
  },
  {
   "cell_type": "markdown",
   "metadata": {},
   "source": [
    "#### Making a prediction of fatalities for all aircrafts with 2,000 passengers aboard:"
   ]
  },
  {
   "cell_type": "code",
   "execution_count": 40,
   "metadata": {
    "collapsed": false
   },
   "outputs": [
    {
     "data": {
      "text/plain": [
       "array([ 1202.15277019])"
      ]
     },
     "execution_count": 40,
     "metadata": {},
     "output_type": "execute_result"
    }
   ],
   "source": [
    "results_one.predict([1, 2000])"
   ]
  },
  {
   "cell_type": "markdown",
   "metadata": {},
   "source": [
    "#### The confidence interval for the above prediction is:"
   ]
  },
  {
   "cell_type": "code",
   "execution_count": 41,
   "metadata": {
    "collapsed": false
   },
   "outputs": [
    {
     "data": {
      "text/plain": [
       "array([ 1166.80145097,  1237.5040894 ])"
      ]
     },
     "execution_count": 41,
     "metadata": {},
     "output_type": "execute_result"
    }
   ],
   "source": [
    "x = df.aboard\n",
    "se = sqrt(results_one.mse_resid)\n",
    "b0, b1 = results_one.params\n",
    "\n",
    "x_new = 2000\n",
    "\n",
    "def confidence_se(s_e, x, x_new):\n",
    "    mean_x = x.mean()\n",
    "    var_x = x.var()\n",
    "    n = len(x)\n",
    "    return s_e * (1/n + (x_new - mean_x)**2 / ((n - 1) * var_x))**0.5\n",
    "\n",
    "sign = array([-1., 1.])\n",
    "b0 + b1 * x_new + sign * 1.96 * confidence_se(se, x, x_new)"
   ]
  },
  {
   "cell_type": "markdown",
   "metadata": {},
   "source": [
    "#### The prediction interval for a particular aircraft with 2,000 passengers aboard:"
   ]
  },
  {
   "cell_type": "code",
   "execution_count": 42,
   "metadata": {
    "collapsed": false
   },
   "outputs": [
    {
     "data": {
      "text/plain": [
       "array([ 1139.88738854,  1264.41815183])"
      ]
     },
     "execution_count": 42,
     "metadata": {},
     "output_type": "execute_result"
    }
   ],
   "source": [
    "def prediction_se(s_e, x, x_new):\n",
    "    mean_x = x.mean()\n",
    "    var_x = x.var()\n",
    "    n = len(x)\n",
    "    return s_e * (1 + 1/n + (x_new - mean_x)**2 / ((n - 1) * var_x))**0.5\n",
    "\n",
    "b0 + b1 * x_new + sign * 1.96 * prediction_se(se, x, x_new)"
   ]
  },
  {
   "cell_type": "markdown",
   "metadata": {},
   "source": [
    "For both the given population of all aircrafts with passengers aboard of 2,000, the mean is the same as one aircraft with 2,000 passengers aboard. HOWEVER, the variance for the given population of all aircrafts with passengers aboard of 2,000 is $\\sigma^2/n$, when the variance for the one aircraft with 2,000 passengers aboard is $\\sigma^2$, which is more than the variance for the given population of all aircrafts with passengers aboard of 2,000. THEREFORE, the confidence interval for the given population of all aircrafts with passengers aboard of 2,000 is smaller than the prediction interval for the one aircraft with 2,000 passengers aboard."
   ]
  },
  {
   "cell_type": "markdown",
   "metadata": {},
   "source": [
    "#### Another way of constructing the linear model:"
   ]
  },
  {
   "cell_type": "code",
   "execution_count": 43,
   "metadata": {
    "collapsed": false
   },
   "outputs": [],
   "source": [
    "correlation = corrcoef(df.aboard,df.fatalities)"
   ]
  },
  {
   "cell_type": "code",
   "execution_count": 44,
   "metadata": {
    "collapsed": false
   },
   "outputs": [
    {
     "data": {
      "text/plain": [
       "0.59888890193504241"
      ]
     },
     "execution_count": 44,
     "metadata": {},
     "output_type": "execute_result"
    }
   ],
   "source": [
    "b_1 = correlation[0][1] * (df.fatalities.std()/df.aboard.std())\n",
    "b_1"
   ]
  },
  {
   "cell_type": "code",
   "execution_count": 45,
   "metadata": {
    "collapsed": false
   },
   "outputs": [
    {
     "data": {
      "text/plain": [
       "4.3749663175667237"
      ]
     },
     "execution_count": 45,
     "metadata": {},
     "output_type": "execute_result"
    }
   ],
   "source": [
    "b_0 = df.fatalities.mean() - b_1 * df.aboard.mean()\n",
    "b_0"
   ]
  },
  {
   "cell_type": "markdown",
   "metadata": {},
   "source": [
    "$\\hat{fatalities} = b_0 + b_1 * aboard$"
   ]
  },
  {
   "cell_type": "markdown",
   "metadata": {},
   "source": [
    "#### Calculating residuals"
   ]
  },
  {
   "cell_type": "code",
   "execution_count": 46,
   "metadata": {
    "collapsed": true
   },
   "outputs": [],
   "source": [
    "# Function to calculate residuals:\n",
    "def residuals(x,y):\n",
    "    expected_list = []\n",
    "    residuals = 0\n",
    "    for i in range(len(x)):\n",
    "        expected = b_0 + b_1 * i\n",
    "        expected_list.append(expected)\n",
    "    for j, s in zip(y,expected_list):\n",
    "        residuals += (j - s)**2\n",
    "    return residuals"
   ]
  },
  {
   "cell_type": "code",
   "execution_count": 47,
   "metadata": {
    "collapsed": true
   },
   "outputs": [],
   "source": [
    "# Function to calculate SSR:\n",
    "def ssr(x,y):\n",
    "    expected_list = []\n",
    "    ssr = 0\n",
    "    y_mean = sum(y)/len(y)\n",
    "    for i in range(len(x)):\n",
    "        expected = b_0 + b_1 * i\n",
    "        expected_list.append(expected)\n",
    "    for j in range(len(expected_list)):\n",
    "        ssr += (j - y_mean)**2\n",
    "    return ssr"
   ]
  },
  {
   "cell_type": "code",
   "execution_count": 48,
   "metadata": {
    "collapsed": false
   },
   "outputs": [
    {
     "name": "stdout",
     "output_type": "stream",
     "text": [
      "Residuals: 3256095370.2\n"
     ]
    }
   ],
   "source": [
    "print(\"Residuals:\", residuals(df.aboard,df.fatalities))"
   ]
  },
  {
   "cell_type": "code",
   "execution_count": 49,
   "metadata": {
    "collapsed": false
   },
   "outputs": [
    {
     "name": "stdout",
     "output_type": "stream",
     "text": [
      "SSR: 9151507126.180805\n"
     ]
    }
   ],
   "source": [
    "print(\"SSR:\", ssr(df.aboard,df.fatalities))"
   ]
  },
  {
   "cell_type": "markdown",
   "metadata": {
    "collapsed": true
   },
   "source": [
    "#### Multiple Regression"
   ]
  },
  {
   "cell_type": "code",
   "execution_count": 50,
   "metadata": {
    "collapsed": false
   },
   "outputs": [
    {
     "data": {
      "text/html": [
       "<table class=\"simpletable\">\n",
       "<caption>OLS Regression Results</caption>\n",
       "<tr>\n",
       "  <th>Dep. Variable:</th>       <td>fatalities</td>    <th>  R-squared:         </th> <td>   0.584</td> \n",
       "</tr>\n",
       "<tr>\n",
       "  <th>Model:</th>                   <td>OLS</td>       <th>  Adj. R-squared:    </th> <td>   0.584</td> \n",
       "</tr>\n",
       "<tr>\n",
       "  <th>Method:</th>             <td>Least Squares</td>  <th>  F-statistic:       </th> <td>   2134.</td> \n",
       "</tr>\n",
       "<tr>\n",
       "  <th>Date:</th>             <td>Thu, 06 Oct 2016</td> <th>  Prob (F-statistic):</th>  <td>  0.00</td>  \n",
       "</tr>\n",
       "<tr>\n",
       "  <th>Time:</th>                 <td>14:41:21</td>     <th>  Log-Likelihood:    </th> <td> -14243.</td> \n",
       "</tr>\n",
       "<tr>\n",
       "  <th>No. Observations:</th>      <td>  3042</td>      <th>  AIC:               </th> <td>2.849e+04</td>\n",
       "</tr>\n",
       "<tr>\n",
       "  <th>Df Residuals:</th>          <td>  3039</td>      <th>  BIC:               </th> <td>2.851e+04</td>\n",
       "</tr>\n",
       "<tr>\n",
       "  <th>Df Model:</th>              <td>     2</td>      <th>                     </th>     <td> </td>    \n",
       "</tr>\n",
       "<tr>\n",
       "  <th>Covariance Type:</th>      <td>nonrobust</td>    <th>                     </th>     <td> </td>    \n",
       "</tr>\n",
       "</table>\n",
       "<table class=\"simpletable\">\n",
       "<tr>\n",
       "     <td></td>       <th>coef</th>     <th>std err</th>      <th>t</th>      <th>P>|t|</th> <th>[95.0% Conf. Int.]</th> \n",
       "</tr>\n",
       "<tr>\n",
       "  <th>const</th>  <td>    4.3586</td> <td>    0.568</td> <td>    7.678</td> <td> 0.000</td> <td>    3.246     5.472</td>\n",
       "</tr>\n",
       "<tr>\n",
       "  <th>aboard</th> <td>    0.5986</td> <td>    0.009</td> <td>   65.267</td> <td> 0.000</td> <td>    0.581     0.617</td>\n",
       "</tr>\n",
       "<tr>\n",
       "  <th>ground</th> <td>    0.0103</td> <td>    0.007</td> <td>    1.539</td> <td> 0.124</td> <td>   -0.003     0.023</td>\n",
       "</tr>\n",
       "</table>\n",
       "<table class=\"simpletable\">\n",
       "<tr>\n",
       "  <th>Omnibus:</th>       <td>1902.204</td> <th>  Durbin-Watson:     </th> <td>   2.038</td> \n",
       "</tr>\n",
       "<tr>\n",
       "  <th>Prob(Omnibus):</th>  <td> 0.000</td>  <th>  Jarque-Bera (JB):  </th> <td>90171.217</td>\n",
       "</tr>\n",
       "<tr>\n",
       "  <th>Skew:</th>           <td>-2.315</td>  <th>  Prob(JB):          </th> <td>    0.00</td> \n",
       "</tr>\n",
       "<tr>\n",
       "  <th>Kurtosis:</th>       <td>29.267</td>  <th>  Cond. No.          </th> <td>    85.1</td> \n",
       "</tr>\n",
       "</table>"
      ],
      "text/plain": [
       "<class 'statsmodels.iolib.summary.Summary'>\n",
       "\"\"\"\n",
       "                            OLS Regression Results                            \n",
       "==============================================================================\n",
       "Dep. Variable:             fatalities   R-squared:                       0.584\n",
       "Model:                            OLS   Adj. R-squared:                  0.584\n",
       "Method:                 Least Squares   F-statistic:                     2134.\n",
       "Date:                Thu, 06 Oct 2016   Prob (F-statistic):               0.00\n",
       "Time:                        14:41:21   Log-Likelihood:                -14243.\n",
       "No. Observations:                3042   AIC:                         2.849e+04\n",
       "Df Residuals:                    3039   BIC:                         2.851e+04\n",
       "Df Model:                           2                                         \n",
       "Covariance Type:            nonrobust                                         \n",
       "==============================================================================\n",
       "                 coef    std err          t      P>|t|      [95.0% Conf. Int.]\n",
       "------------------------------------------------------------------------------\n",
       "const          4.3586      0.568      7.678      0.000         3.246     5.472\n",
       "aboard         0.5986      0.009     65.267      0.000         0.581     0.617\n",
       "ground         0.0103      0.007      1.539      0.124        -0.003     0.023\n",
       "==============================================================================\n",
       "Omnibus:                     1902.204   Durbin-Watson:                   2.038\n",
       "Prob(Omnibus):                  0.000   Jarque-Bera (JB):            90171.217\n",
       "Skew:                          -2.315   Prob(JB):                         0.00\n",
       "Kurtosis:                      29.267   Cond. No.                         85.1\n",
       "==============================================================================\n",
       "\n",
       "Warnings:\n",
       "[1] Standard Errors assume that the covariance matrix of the errors is correctly specified.\n",
       "\"\"\""
      ]
     },
     "execution_count": 50,
     "metadata": {},
     "output_type": "execute_result"
    }
   ],
   "source": [
    "X_multi = df[['aboard','ground']]\n",
    "X_multi = sm.add_constant(X_multi)\n",
    "y_multi = df['fatalities']\n",
    "\n",
    "model_multi = sm.OLS(y_multi, X_multi)\n",
    "results_multi = model_multi.fit()\n",
    "results_multi.summary()"
   ]
  },
  {
   "cell_type": "markdown",
   "metadata": {},
   "source": [
    "$\\hat{fatalities} = 4.3586 + aboard * 0.5986 + ground * 0.0103$"
   ]
  },
  {
   "cell_type": "markdown",
   "metadata": {},
   "source": [
    "#### Interpretation of the overall F test:\n",
    "\n",
    "F-statistic: 2134\n",
    "Prob (F-statistic): 0\n",
    "\n",
    "The overall model is good: the overall p-value is 0.0, which is less than 0.05. Also, the F-statistic is high (2134).\n",
    "\n",
    "#### Model interpretation:\n",
    "\n",
    "For every passenger aboard, fatalities increase by 0.5986.\n",
    "\n",
    "For every feet above the ground, fatalities increase by 0.0103.\n",
    "\n",
    "#### Interpreting $R^2$:\n",
    "\n",
    "There's no difference with the model with just one variable.\n",
    "\n",
    "HOWEVER, the F-statistic of the model with two indepedent variable is less than the model with just one independent variable. ALSO, the p-value of the model with two indepedent variable seems to be higher than the model with just one independent variable: the p-value for the independent variable ground is 0.124, which is greater than 0.05, and therefore it doesn't play a role in the model, so we should discard it.\n",
    "\n",
    "The model with just one independent variable (passengers aboard) is the best one."
   ]
  },
  {
   "cell_type": "code",
   "execution_count": null,
   "metadata": {
    "collapsed": true
   },
   "outputs": [],
   "source": []
  }
 ],
 "metadata": {
  "anaconda-cloud": {},
  "kernelspec": {
   "display_name": "Python [Root]",
   "language": "python",
   "name": "Python [Root]"
  },
  "language_info": {
   "codemirror_mode": {
    "name": "ipython",
    "version": 3
   },
   "file_extension": ".py",
   "mimetype": "text/x-python",
   "name": "python",
   "nbconvert_exporter": "python",
   "pygments_lexer": "ipython3",
   "version": "3.5.2"
  }
 },
 "nbformat": 4,
 "nbformat_minor": 1
}
