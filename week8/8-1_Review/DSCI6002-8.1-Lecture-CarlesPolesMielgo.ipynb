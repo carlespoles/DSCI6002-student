{
 "cells": [
  {
   "cell_type": "markdown",
   "metadata": {
    "slideshow": {
     "slide_type": "slide"
    }
   },
   "source": [
    "# Lecture 8.1: Review  \n",
    "\n",
    "## Outline  \n",
    "\n",
    "* Collecting data\n",
    "* Probability\n",
    "* Probability distributions\n",
    "* Maximum likelihood estimation\n",
    "* Hypothesis testing  \n",
    "* Linear regression\n",
    "* Logistic regression\n",
    "* Time series"
   ]
  },
  {
   "cell_type": "markdown",
   "metadata": {
    "slideshow": {
     "slide_type": "slide"
    }
   },
   "source": [
    "## Collecting Data  \n",
    "\n",
    "1) What are some common sample biases? (1.2)  "
   ]
  },
  {
   "cell_type": "markdown",
   "metadata": {
    "slideshow": {
     "slide_type": "fragment"
    }
   },
   "source": [
    "2) How should we obtain data in order to prove causality? "
   ]
  },
  {
   "cell_type": "markdown",
   "metadata": {
    "slideshow": {
     "slide_type": "slide"
    }
   },
   "source": [
    "## Probablity"
   ]
  },
  {
   "cell_type": "markdown",
   "metadata": {
    "slideshow": {
     "slide_type": "fragment"
    }
   },
   "source": [
    "1) If two events A and B are disjoint, are they independent? (2.2)"
   ]
  },
  {
   "cell_type": "markdown",
   "metadata": {
    "slideshow": {
     "slide_type": "slide"
    }
   },
   "source": [
    "2) Amy is flying to another city for a friend's wedding. She has her flight booked through United Airlines. United Airlines reports that whether the flight is on time or not depends on the weather in San Francisco. If it rains, the flight will be late 50% of the time. If it does not rain, the flight will be late only 10% of the time. There is a forecasted 25% chance for rain on the day Amy is flying (assume that this forecast is correct).  \n",
    "\n",
    "a) What is the overall probability that Amy's flight will be delayed? (2.3)    "
   ]
  },
  {
   "cell_type": "markdown",
   "metadata": {
    "slideshow": {
     "slide_type": "fragment"
    }
   },
   "source": [
    "b) On the wedding day, Fraida's flight is delayed. What is the conditional probability that it actually is raining in San Francisco given the fact that Fraida's flight is delayed? (2.3)  "
   ]
  },
  {
   "cell_type": "markdown",
   "metadata": {
    "slideshow": {
     "slide_type": "slide"
    }
   },
   "source": [
    "## Probability Distributions"
   ]
  },
  {
   "cell_type": "markdown",
   "metadata": {
    "slideshow": {
     "slide_type": "fragment"
    }
   },
   "source": [
    "1) Is the following probability distribution valid? Why or why not? (2.4)    \n",
    "\n",
    "|x        |  0  |  1  |  2  |\n",
    "|:--------|:---:|:---:|:---:|\n",
    "|P(X = x) | 0.5 | 0.4 | -0.2 |"
   ]
  },
  {
   "cell_type": "markdown",
   "metadata": {
    "slideshow": {
     "slide_type": "slide"
    }
   },
   "source": [
    "2) What are the differences between PMF and PDF? (3.2 & 3.3)  "
   ]
  },
  {
   "cell_type": "markdown",
   "metadata": {
    "slideshow": {
     "slide_type": "slide"
    }
   },
   "source": [
    "3) Which distribution should I use to model:  "
   ]
  },
  {
   "cell_type": "markdown",
   "metadata": {
    "slideshow": {
     "slide_type": "fragment"
    }
   },
   "source": [
    "* Whether or not Mike feels like eating chocolate today. (3.2)  "
   ]
  },
  {
   "cell_type": "markdown",
   "metadata": {
    "slideshow": {
     "slide_type": "fragment"
    }
   },
   "source": [
    "* Number of students who like chocolate in a class of 14. (3.2)  "
   ]
  },
  {
   "cell_type": "markdown",
   "metadata": {
    "slideshow": {
     "slide_type": "fragment"
    }
   },
   "source": [
    "* The number of students I have to ask until I find the first student who likes chocolate. (3.2)  "
   ]
  },
  {
   "cell_type": "markdown",
   "metadata": {
    "slideshow": {
     "slide_type": "fragment"
    }
   },
   "source": [
    "* The number of students I have to ask until I find two students who like chocolate. (3.2)"
   ]
  },
  {
   "cell_type": "markdown",
   "metadata": {
    "slideshow": {
     "slide_type": "fragment"
    }
   },
   "source": [
    "* The number of chocolates Dasha eats today. (3.2)  "
   ]
  },
  {
   "cell_type": "markdown",
   "metadata": {
    "slideshow": {
     "slide_type": "fragment"
    }
   },
   "source": [
    "* The amount of time John has to wait until he sees a chocolate fairy (assuming chocolate fairies are real). (3.3)  "
   ]
  },
  {
   "cell_type": "markdown",
   "metadata": {
    "slideshow": {
     "slide_type": "fragment"
    }
   },
   "source": [
    "* The amount of time Chau has to wait until she sees chocolate fairies for the 3rd time (from whom she's going to ask for a chocolate house). (3.3)"
   ]
  },
  {
   "cell_type": "markdown",
   "metadata": {
    "slideshow": {
     "slide_type": "fragment"
    }
   },
   "source": [
    "* The average weight of 35 packets of chocolate. What theorem are we using here? (4.3)  "
   ]
  },
  {
   "cell_type": "markdown",
   "metadata": {
    "slideshow": {
     "slide_type": "slide"
    }
   },
   "source": [
    "3) The tables below show part of the probability distribution for the random variables $X$ and $Y$. If $X$ and $Y$ are independent and the joint probability $P(X = 3, Y = 4) = 0.08$, then what is the value for $P(Y = 1)$?   \n",
    "\n",
    "<img src=\"images/xyprob.png\" width=\"300\">"
   ]
  },
  {
   "cell_type": "markdown",
   "metadata": {
    "slideshow": {
     "slide_type": "slide"
    }
   },
   "source": [
    "4) The following table gives the joint distribution for the annual returns on an asset $X$ and another asset $Y$. Note that $X$ and $Y$ are both discrete random variables.  \n",
    "\n",
    "<img src=\"images/joint_prob.png\" width=\"300\">"
   ]
  },
  {
   "cell_type": "markdown",
   "metadata": {
    "slideshow": {
     "slide_type": "fragment"
    }
   },
   "source": [
    "* As you can see, little puppy Lambda left a surprise on one of cells. Determine the missing value. "
   ]
  },
  {
   "cell_type": "markdown",
   "metadata": {
    "slideshow": {
     "slide_type": "fragment"
    }
   },
   "source": [
    "* What is the probability that $X$ and $Y$ are both less than 0.15?  "
   ]
  },
  {
   "cell_type": "markdown",
   "metadata": {
    "slideshow": {
     "slide_type": "fragment"
    }
   },
   "source": [
    "* Compute  $E(X|Y=0.05)$. "
   ]
  },
  {
   "cell_type": "markdown",
   "metadata": {
    "slideshow": {
     "slide_type": "fragment"
    }
   },
   "source": [
    "* Are X and Y independent? Justify. "
   ]
  },
  {
   "cell_type": "markdown",
   "metadata": {
    "slideshow": {
     "slide_type": "fragment"
    }
   },
   "source": [
    "* What statistic would you use to measure the relationship between $X$ and $Y$? How would you calculate it? What does the statistic tell us about relationships between two variables?  "
   ]
  },
  {
   "cell_type": "markdown",
   "metadata": {
    "slideshow": {
     "slide_type": "fragment"
    }
   },
   "source": [
    "* Suppose that the returns in successive years are independent. We are considering investing in $Y$ and holding this investment for 10 years. Define a new random variable $M$ to be “the number of years out of the next 10 years in which $Y$ is greater than 0.05”. What is the expected value of $M$?   "
   ]
  },
  {
   "cell_type": "markdown",
   "metadata": {
    "slideshow": {
     "slide_type": "slide"
    }
   },
   "source": [
    "## Maximum Likelihood Estimation (MLE)"
   ]
  },
  {
   "cell_type": "markdown",
   "metadata": {
    "slideshow": {
     "slide_type": "fragment"
    }
   },
   "source": [
    "1) Say I followed Carles around for 3 days and counted the number of chocolates he ate on each day - 5, 3, 99.  \n",
    "\n",
    "* What's the MLE for the average number of chocolates Carles eats per day? (4.1 & 4.2)"
   ]
  },
  {
   "cell_type": "markdown",
   "metadata": {
    "slideshow": {
     "slide_type": "fragment"
    }
   },
   "source": [
    "* What's the mean squared error (MSE) of the estimator used? (4.2)  "
   ]
  },
  {
   "cell_type": "markdown",
   "metadata": {
    "slideshow": {
     "slide_type": "fragment"
    }
   },
   "source": [
    "* What are the differences between an estimator and an estimate?"
   ]
  },
  {
   "cell_type": "markdown",
   "metadata": {
    "slideshow": {
     "slide_type": "slide"
    }
   },
   "source": [
    "## Hypothesis Testing  "
   ]
  },
  {
   "cell_type": "markdown",
   "metadata": {},
   "source": [
    "### One sample t-test for mean  \n",
    "\n",
    "* Hypotheses\n",
    "    * Two-sided test  \n",
    "$$H_0: \\mu = \\mu_0$$  \n",
    "$$H_a: \\mu \\neq \\mu_0$$  \n",
    "    * One-sided test  \n",
    "\n",
    "$$H_0: \\mu = \\mu_0$$ \n",
    "$$H_a: \\mu < \\mu_0 \\text{ or } H_a: \\mu > \\mu_0$$"
   ]
  },
  {
   "cell_type": "markdown",
   "metadata": {},
   "source": [
    "* Test statistic  \n",
    "\n",
    "$$ t_{stat} = \\frac{\\bar{X} - \\mu_0}{s/ \\sqrt{n}} $$  "
   ]
  },
  {
   "cell_type": "markdown",
   "metadata": {},
   "source": [
    "* P-value for $H_a: \\mu \\neq \\mu_0$  \n",
    "\n",
    "$$\\text{p-value} = P(t < -|t_{stat}| \\text{ or } t > |t_{stat}|) $$  \n",
    "\n",
    "* P-value for $H_a: \\mu < \\mu_0$ \n",
    "\n",
    "$$\\text{p-value} = P(t < t_{stat}) $$  \n",
    "\n",
    "* P-value for $H_a: \\mu > \\mu_0$ \n",
    "\n",
    "$$\\text{p-value} = P(t > t_{stat}) $$ "
   ]
  },
  {
   "cell_type": "markdown",
   "metadata": {},
   "source": [
    "### One sample z-test for proportion\n",
    "\n",
    "* Hypotheses\n",
    "    * Two-sided test  \n",
    "$$H_0: p = p_0$$  \n",
    "$$H_a: p \\neq p_0$$  \n",
    "    * One-sided test  \n",
    "\n",
    "$$H_0: p = p_0$$ \n",
    "$$H_a: p < p_0 \\text{ or } H_a: p > p_0$$"
   ]
  },
  {
   "cell_type": "markdown",
   "metadata": {},
   "source": [
    "* Test statistic  \n",
    "\n",
    "$$t_{stat} = \\frac{\\hat{p} - p_0}{\\sqrt{p_0(1 - p_0)/n}} $$ "
   ]
  },
  {
   "cell_type": "markdown",
   "metadata": {},
   "source": [
    "### Two-sample t-test for difference in means  \n",
    "\n",
    "* Hypotheses\n",
    "    * Two-sided test  \n",
    "$$H_0: \\mu_1 = \\mu_2$$  \n",
    "$$H_a: \\mu_1 \\neq \\mu_2$$  \n",
    "    * One-sided test  \n",
    "\n",
    "$$H_0: \\mu_1 = \\mu_2$$ \n",
    "$$H_a: \\mu_1 < \\mu_2 \\text{ or } H_a: \\mu_1 > \\mu_2$$"
   ]
  },
  {
   "cell_type": "markdown",
   "metadata": {},
   "source": [
    "* Test statistic  \n",
    "\n",
    "$$ t_{stat} = \\frac{\\bar{X} - \\bar{Y}}{\\sqrt{\\frac{s_X^2}{n_1} + \\frac{s_Y^2}{n_2}}} $$  "
   ]
  },
  {
   "cell_type": "markdown",
   "metadata": {},
   "source": [
    "### Two-sample z-test for difference in proportions  \n",
    "\n",
    "* Hypotheses\n",
    "    * Two-sided test  \n",
    "$$H_0: p_1 = p_2$$  \n",
    "$$H_a: p_1 \\neq p_2$$  \n",
    "    * One-sided test  \n",
    "\n",
    "$$H_0: p_1 = p_2$$ \n",
    "$$H_a: p_1 < p_2 \\text{ or } H_a: p_1 > p_2$$"
   ]
  },
  {
   "cell_type": "markdown",
   "metadata": {},
   "source": [
    "* Test statistic  \n",
    "\n",
    "$$ t_{stat} = \\frac{(\\hat{p}_1 - \\hat{p}_2)}{\\sqrt{\\hat{p}(1 - \\hat{p}) \\left(\\frac{1}{n_1} + \\frac{1}{n_2} \\right)}} $$\n",
    "\n",
    "where \n",
    "\n",
    "$$ \\hat{p} = \\frac{n_1 \\hat{p}_1 + n_2 \\hat{p}_2}{n_1 + n_2} $$"
   ]
  },
  {
   "cell_type": "markdown",
   "metadata": {},
   "source": [
    "**Example**  \n",
    "\n",
    "A company conducted A/B testing on their website and obtained the following results:\n",
    "\n",
    "<img src=\"images/ab_test.png\" width=\"500\">\n",
    "\n",
    "A total of 10,000 visitors visited the website during the testing period. Conduct a formal hypothesis testing to test the claim that the conversion rate on version A of the website is higher than version B."
   ]
  },
  {
   "cell_type": "markdown",
   "metadata": {},
   "source": [
    "### Chi-square tests\n",
    "\n",
    "#### Chi-square test for goodness-of-fit  "
   ]
  },
  {
   "cell_type": "markdown",
   "metadata": {},
   "source": [
    "** Example**  \n",
    "\n",
    "M&M candies come in 6 different colors. Mars and Co. reports that they are in the following color distribution:\n",
    "\n",
    "| Color | Percentage |\n",
    "|:------|:----------:|\n",
    "|Blue   |         24%|\n",
    "|Orange |         20%|\n",
    "|Green  |         16%| \n",
    "|Yellow |         14%|\n",
    "|Brown  |         13%|\n",
    "|Red    |         13%|\n",
    "\n",
    "You used a bag of milk chocolate M&M’s and collected the data below, perform a formal hypothesis test to determine whether Mars and Co.’s claim is legitimate.\n",
    "\n",
    "| Color | Counts |\n",
    "|:------|:------:|\n",
    "|Blue   |   43   |\n",
    "|Orange |   26   |\n",
    "|Green  |   30   | \n",
    "|Yellow |   31   |\n",
    "|Brown  |   15   |\n",
    "|Red    |   21   |"
   ]
  },
  {
   "cell_type": "markdown",
   "metadata": {},
   "source": [
    "#### Chi- square test for independence in two way tables (contingency tables) \n",
    "\n",
    "You also collected data on a bag of peanut M&M’s. Perform a hypothesis test to determine whether or not the color distribution is different in the two different types of M&M’s.  \n",
    "\n",
    "| Color | Milk   |  Peanut  |\n",
    "|:------|:------:|:--------:|\n",
    "|Blue   |   43   |    30    | \n",
    "|Orange |   26   |    33    | \n",
    "|Green  |   30   |    12    |\n",
    "|Yellow |   31   |    43    |\n",
    "|Brown  |   15   |    21    | \n",
    "|Red    |   21   |    27    |"
   ]
  },
  {
   "cell_type": "markdown",
   "metadata": {
    "slideshow": {
     "slide_type": "slide"
    }
   },
   "source": [
    "## Linear Regression\n",
    "\n",
    "**Exercise 1**  \n",
    "\n",
    "Emergency room (ER) overcrowding is a common problem in U.S. hospitals and inappropriate ER usage is an expensive, inefficient use of health care resources. In 2006 Massachusetts enacted a health care initiative that included near-universal health care insurance coverage. However, recent studies indicate that ER overcrowding in Massachusetts has gotten worse, not better. Information from the 50 US states plus the District of Columbia (DC) was studied to identify the factors associated with the rate of ER visits. Data on ER visits per year per 1,000 inhabitants, health insurance coverage (%), poverty rate (%), unemployment rate (%), non-citizenship status (%), hospital expenses per inpatient day, teen birth rate per 1,000 for ages 15-19, adults who are overweight/obese (%) and who smoke (%) were collected for each of these 51 areas. The data are in the `er_visits` table in RDS."
   ]
  },
  {
   "cell_type": "markdown",
   "metadata": {},
   "source": [
    "**b)**   \n",
    "\n",
    "Run a multiple linear regression using the ER visit rate per year as the response variable ($Y$) and all the other variables as predictor variables. Comment on the model."
   ]
  },
  {
   "cell_type": "markdown",
   "metadata": {},
   "source": [
    "**c)**   \n",
    "\n",
    "Conduct a backward regression analysis. Using the multiple regression analysis result above (that included all 8 predictor variables) identify the “least significant” predictor variable (smallest $|t|$-statistic and largest p-value), delete that variable and rerun the multiple regression analysis with the remaining 7 predictor variables. Using the previous multiple regression analysis (that included 7 predictor variables) identify the “least significant” predictor variable, delete that variable and rerun the multiple regression analysis with the remaining 6 predictor variables. Continue this step-down process until all the remaining predictor variables are significant (p-value < 0.05). Comment on the final model."
   ]
  },
  {
   "cell_type": "markdown",
   "metadata": {},
   "source": [
    "**d)**  \n",
    "\n",
    "Check the final model to see if all the assumptions of linear regression are met."
   ]
  },
  {
   "cell_type": "markdown",
   "metadata": {},
   "source": [
    "**Assumptions of linear regression**\n",
    "\n",
    "* Linearity: there is a linear relationship between $x$ and $y$  \n",
    "\n",
    "* Normality: the residuals are nearly Normal  \n",
    "\n",
    "* Constant variance: the residuals have constant variance  \n",
    "\n",
    "* Independent observations: the observations are independent of each other"
   ]
  },
  {
   "cell_type": "markdown",
   "metadata": {},
   "source": [
    "**e)**  \n",
    "\n",
    "Write down the formula of the final multiple regression model. Interpret the results of your final regression model. "
   ]
  },
  {
   "cell_type": "markdown",
   "metadata": {},
   "source": [
    "**Exercise 2**  \n",
    "\n",
    "The `gender_inc` table contains data on gender, income, education, and job experience. You are interested in the effects of education and job experience on income, and whether there are any differences in the models for men and women."
   ]
  },
  {
   "cell_type": "markdown",
   "metadata": {},
   "source": [
    "**a)**  \n",
    "\n",
    "Run and interpret the model $income = \\beta_0 + \\beta_1 (female) + \\beta_2 (educ) + \\beta_3 (jobexp) + \\varepsilon$ . What\n",
    "does this model imply for the effect of education and job experience on income? "
   ]
  },
  {
   "cell_type": "markdown",
   "metadata": {},
   "source": [
    "**b)**  \n",
    "\n",
    "Create two new interaction terms for the interactions of gender and education and the interactions of gender and job experience. Run the model $income = \\beta_0 + \\beta_1 (female) + \\beta_2 (educ) + \\beta_3 (jobexp) + \\beta_4 (female \\times educ) + \\beta_5 (female \\times jobexp) + \\varepsilon$  \n",
    "\n",
    "\n",
    "i) Interpret the overall F test for this model.  \n",
    "\n",
    "ii) Is this a better model than the one found in part (a)? Explain.  \n",
    "\n",
    "iii) Give the estimated equations from this for men and women. Interpret the differences. "
   ]
  },
  {
   "cell_type": "markdown",
   "metadata": {
    "slideshow": {
     "slide_type": "fragment"
    }
   },
   "source": [
    "### Extra Practice"
   ]
  },
  {
   "cell_type": "markdown",
   "metadata": {
    "slideshow": {
     "slide_type": "slide"
    }
   },
   "source": [
    "1) In general, does regression tell us anything about causation?"
   ]
  },
  {
   "cell_type": "markdown",
   "metadata": {
    "slideshow": {
     "slide_type": "slide"
    }
   },
   "source": [
    "2) You got the following histogram when you were doing exploratory data analysis (EDA).  \n",
    "\n",
    "<img src=\"images/histogram.png\" width=\"400\">"
   ]
  },
  {
   "cell_type": "markdown",
   "metadata": {
    "slideshow": {
     "slide_type": "fragment"
    }
   },
   "source": [
    "* Comment on the distribution. (1.3)"
   ]
  },
  {
   "cell_type": "markdown",
   "metadata": {
    "slideshow": {
     "slide_type": "fragment"
    }
   },
   "source": [
    "* What would you use as the measure of center for this data? Why? (1.2)  "
   ]
  },
  {
   "cell_type": "markdown",
   "metadata": {
    "slideshow": {
     "slide_type": "fragment"
    }
   },
   "source": [
    "* What rule do boxplots typically use to detect outliers? (1.3)  "
   ]
  },
  {
   "cell_type": "markdown",
   "metadata": {
    "slideshow": {
     "slide_type": "fragment"
    }
   },
   "source": [
    "* What transformation can we use to make the data look more Normal? (6.4)"
   ]
  },
  {
   "cell_type": "markdown",
   "metadata": {
    "slideshow": {
     "slide_type": "slide"
    }
   },
   "source": [
    "3) A study was conducted to determine the association between the maximum distance at which a highway sign can be read (in feet) and the age of the driver (in years). Fourty drivers of various ages were studied. The summary statistics for distance and age are shown below in a table:  \n",
    "\n",
    "<img src=\"images/distance.png\" width=\"600\">"
   ]
  },
  {
   "cell_type": "markdown",
   "metadata": {
    "slideshow": {
     "slide_type": "fragment"
    }
   },
   "source": [
    "* The correlation coefficient between distance and age in this sample is r = -0.5644. Calculate $b_0$ and $b_1$ of the least-squares regression equation that would predict the distance at which a highway sign can be read given the age of the driver. (6.1)"
   ]
  },
  {
   "cell_type": "markdown",
   "metadata": {
    "slideshow": {
     "slide_type": "fragment"
    }
   },
   "source": [
    "* The standard error of b1 was calculated to be 0.9164. Is “age” a significant predictor of “distance” in this linear model? Conduct this statistical test of $H_0: \\beta_1 = 0$ using $\\alpha = 0.05$. Be sure to include your hypotheses, test statistic, the p-value, and your conclusion in terms of the problem. (6.1)  "
   ]
  },
  {
   "cell_type": "markdown",
   "metadata": {
    "slideshow": {
     "slide_type": "fragment"
    }
   },
   "source": [
    "* What's the 95% confidence interval for $\\beta_1$? (6.1)  "
   ]
  },
  {
   "cell_type": "markdown",
   "metadata": {
    "slideshow": {
     "slide_type": "fragment"
    }
   },
   "source": [
    "* What is the predicted distance that a sign can be read for Yuki who is 40 years old? (6.1)   "
   ]
  },
  {
   "cell_type": "markdown",
   "metadata": {
    "slideshow": {
     "slide_type": "fragment"
    }
   },
   "source": [
    "* What is the predicted distance that a sign can be read for people who are 40 years old? (6.1)   "
   ]
  },
  {
   "cell_type": "markdown",
   "metadata": {
    "slideshow": {
     "slide_type": "fragment"
    }
   },
   "source": [
    "* What is $R^2$ for this regression model? What is the interpretation of $R^2$ here? (6.1)  "
   ]
  },
  {
   "cell_type": "markdown",
   "metadata": {
    "slideshow": {
     "slide_type": "slide"
    }
   },
   "source": [
    "4) In the regression context,  \n",
    "\n",
    "* What is an outlier? (6.4)  "
   ]
  },
  {
   "cell_type": "markdown",
   "metadata": {
    "slideshow": {
     "slide_type": "fragment"
    }
   },
   "source": [
    "* What is a leverage point? (6.4)  "
   ]
  },
  {
   "cell_type": "markdown",
   "metadata": {
    "slideshow": {
     "slide_type": "fragment"
    }
   },
   "source": [
    "* What kind of points tend to be influential? (6.4)  "
   ]
  },
  {
   "cell_type": "markdown",
   "metadata": {
    "slideshow": {
     "slide_type": "slide"
    }
   },
   "source": [
    "## Logistic Regression  \n",
    "\n",
    "* Need to know when we use logistic regression - when $Y$ is binary  \n"
   ]
  },
  {
   "cell_type": "markdown",
   "metadata": {},
   "source": [
    "**Exercise 3** (Lab 7.3, Question 3) \n",
    "\n",
    "The data set https://s3-us-west-2.amazonaws.com/dsci/6002/data/lrb.csv has data on 61 married couples. The dependent variable is HAPPYMAR, respondent’s marital happiness (1 = Very Happy, 0 = Otherwise). CHURCH, Church attendance (1 = Often attends, 0 = other), FEMALE (1 = female, 0 = male), and EDUC, Years of education, are the explanatory variables.  "
   ]
  },
  {
   "cell_type": "markdown",
   "metadata": {},
   "source": [
    "**a)**  \n",
    "\n",
    "Run the logistic regression of happymar on church, female and educ.  "
   ]
  },
  {
   "cell_type": "markdown",
   "metadata": {},
   "source": [
    "**b)**  \n",
    "\n",
    "Based on the signs of the logistic regression coefficients (positive or negative), interpret their impact on the probability of a happy marriage. Any surprises?  "
   ]
  },
  {
   "cell_type": "markdown",
   "metadata": {},
   "source": [
    "**c)**  \n",
    "\n",
    "Determine the probability of marital happiness for a male with 8 years of education who is not a regular churchgoer. "
   ]
  },
  {
   "cell_type": "markdown",
   "metadata": {},
   "source": [
    "## Time Series  \n",
    "\n",
    "### Some examples of ARIMA models  \n",
    "\n",
    "* AR(1) / ARMA(1, 0): ACF - exponential decay; PACF - spike at lag 1, no correlation for other lags. "
   ]
  },
  {
   "cell_type": "markdown",
   "metadata": {},
   "source": [
    "* AR(2) / ARMA(2, 0): ACF - a sine-wave shape pattern or a set of exponential decays; PACF - spikes at lags 1 and 2, no correlation for other lags.  "
   ]
  },
  {
   "cell_type": "markdown",
   "metadata": {},
   "source": [
    "* MA(1) / ARMA(0, 1): ACF - spike at lag 1, no correlation for other lags; PACF - damps out exponentially.  "
   ]
  },
  {
   "cell_type": "markdown",
   "metadata": {},
   "source": [
    "* MA(2) / ARMA(0, 2): ACF - spikes at lags 1 and 2, no correlation for other lags; PACF - a sine-wave shape pattern or a set of exponential decays.  "
   ]
  },
  {
   "cell_type": "markdown",
   "metadata": {
    "slideshow": {
     "slide_type": "slide"
    }
   },
   "source": [
    "* ARMA(1, 1) / ARMA(1, 1): ACF - exponential decay starting at lag 1; PACF - exponential decay starting at lag 1."
   ]
  }
 ],
 "metadata": {
  "anaconda-cloud": {},
  "kernelspec": {
   "display_name": "Python [Root]",
   "language": "python",
   "name": "Python [Root]"
  },
  "language_info": {
   "codemirror_mode": {
    "name": "ipython",
    "version": 3
   },
   "file_extension": ".py",
   "mimetype": "text/x-python",
   "name": "python",
   "nbconvert_exporter": "python",
   "pygments_lexer": "ipython3",
   "version": "3.5.2"
  }
 },
 "nbformat": 4,
 "nbformat_minor": 0
}
